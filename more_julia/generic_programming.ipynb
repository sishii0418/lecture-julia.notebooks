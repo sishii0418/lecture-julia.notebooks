{
 "cells": [
  {
   "attachments": {},
   "cell_type": "markdown",
   "id": "d5d33460",
   "metadata": {},
   "source": [
    "\n",
    "<a id='generic-programming'></a>"
   ]
  },
  {
   "attachments": {},
   "cell_type": "markdown",
   "id": "3d6851a1",
   "metadata": {},
   "source": [
    "# Generic Programming"
   ]
  },
  {
   "attachments": {},
   "cell_type": "markdown",
   "id": "91e39357",
   "metadata": {},
   "source": [
    "## Contents\n",
    "\n",
    "- [Generic Programming](#Generic-Programming)  \n",
    "  - [Overview](#Overview)  \n",
    "  - [Exploring Type Trees](#Exploring-Type-Trees)  \n",
    "  - [Distributions](#Distributions)  \n",
    "  - [Numbers and Algebraic Structures](#Numbers-and-Algebraic-Structures)  \n",
    "  - [Reals and Algebraic Structures](#Reals-and-Algebraic-Structures)  \n",
    "  - [Functions, and Function-Like Types](#Functions,-and-Function-Like-Types)  \n",
    "  - [Limitations of Dispatching on Abstract Types](#Limitations-of-Dispatching-on-Abstract-Types)  \n",
    "  - [Exercises](#Exercises)  "
   ]
  },
  {
   "attachments": {},
   "cell_type": "markdown",
   "id": "c17cbd99",
   "metadata": {},
   "source": [
    "> I find OOP methodologically wrong. It starts with classes. It is as if mathematicians would start with axioms. You do not start with axioms - you start with proofs. Only when you have found a bunch of related proofs, can you come up with axioms. You end with axioms. The same thing is true in programming: you have to start with interesting algorithms. Only when you understand them well, can you come up with an interface that will let them work. – Alexander Stepanov"
   ]
  },
  {
   "attachments": {},
   "cell_type": "markdown",
   "id": "88b60a90",
   "metadata": {},
   "source": [
    "## Overview\n",
    "\n",
    "In this lecture we delve more deeply into the structure of Julia, and in particular into\n",
    "\n",
    "- abstract and concrete types  \n",
    "- the type tree  \n",
    "- designing and using generic interfaces  \n",
    "- the role of generic interfaces in Julia performance  \n",
    "\n",
    "\n",
    "Understanding them will help you\n",
    "\n",
    "- form a “mental model” of the Julia language  \n",
    "- design code that matches the “white-board” mathematics  \n",
    "- create code that can use (and be used by) a variety of other packages  \n",
    "- write “well organized” Julia code that’s easy to read, modify, maintain and debug  \n",
    "- improve the speed at which your code runs  \n",
    "\n",
    "\n",
    "(Special thank you to Jeffrey Sarnoff)"
   ]
  },
  {
   "attachments": {},
   "cell_type": "markdown",
   "id": "11e6b99c",
   "metadata": {},
   "source": [
    "### Generic Programming is an Attitude\n",
    "\n",
    "From *Mathematics to Generic Programming* [[SR14](https://julia.quantecon.org/../zreferences.html#id3)]\n",
    "\n",
    "> Generic programming is an approach to programming that focuses on designing algorithms and data structures so that they work in the most general setting without loss of efficiency… Generic programming is more of an *attitude* toward programming than a particular set of tools.\n",
    "\n",
    "\n",
    "In that sense, it is important to think of generic programming as an interactive approach to uncover generality without compromising performance rather than as a set of rules.\n",
    "\n",
    "As we will see, the core approach is to treat data structures and algorithms as loosely coupled, and is in direct contrast to the [is-a](https://en.wikipedia.org/wiki/Is-a)  approach of object-oriented programming.\n",
    "\n",
    "This lecture has the dual role of giving an introduction into the design of generic algorithms and describing how Julia helps make that possible."
   ]
  },
  {
   "cell_type": "code",
   "execution_count": 1,
   "id": "332edb62",
   "metadata": {
    "hide-output": false
   },
   "outputs": [],
   "source": [
    "using LinearAlgebra, Statistics\n",
    "using Distributions, Plots, QuadGK, Polynomials, Interpolations"
   ]
  },
  {
   "attachments": {},
   "cell_type": "markdown",
   "id": "b0063637",
   "metadata": {},
   "source": [
    "## Exploring Type Trees\n",
    "\n",
    "The connection between data structures and the algorithms which operate on them is handled by the type system.\n",
    "\n",
    "Concrete types (i.e., `Float64` or `Array{Float64, 2}`) are the data structures we apply an algorithm to, and the abstract types (e.g. the corresponding `Number` and `AbstractArray`) provide the mapping between a set of related data structures and algorithms."
   ]
  },
  {
   "cell_type": "code",
   "execution_count": 2,
   "id": "4d1276d8",
   "metadata": {
    "hide-output": false
   },
   "outputs": [
    {
     "name": "stdout",
     "output_type": "stream",
     "text": [
      "(x, y, z) = (1, Normal{Float64}(μ=0.0, σ=1.0), \"foo\")\n",
      "(typeof(x), typeof(y), typeof(z)) = (Int64, Normal{Float64}, String)\n",
      "supertype(typeof(x)) = Signed\n",
      "typeof(x) |> supertype = Signed\n",
      "supertype(typeof(y)) = Distribution{Univariate, Continuous}\n",
      "typeof(z) |> supertype = AbstractString\n",
      "typeof(x) <: Any = true\n"
     ]
    }
   ],
   "source": [
    "using Distributions\n",
    "x = 1\n",
    "y = Normal()\n",
    "z = \"foo\"\n",
    "@show x, y, z\n",
    "@show typeof(x), typeof(y), typeof(z)\n",
    "@show supertype(typeof(x))\n",
    "\n",
    "# pipe operator, |>, is is equivalent\n",
    "@show typeof(x) |> supertype\n",
    "@show supertype(typeof(y))\n",
    "@show typeof(z) |> supertype\n",
    "@show typeof(x) <: Any;"
   ]
  },
  {
   "attachments": {},
   "cell_type": "markdown",
   "id": "51430ae0",
   "metadata": {},
   "source": [
    "Beyond the `typeof` and `supertype` functions, a few other useful tools for analyzing the tree of types are discussed in the [introduction to types lecture](https://julia.quantecon.org/../getting_started_julia/introduction_to_types.html)"
   ]
  },
  {
   "cell_type": "code",
   "execution_count": 3,
   "id": "a5c0a4e1",
   "metadata": {
    "hide-output": false
   },
   "outputs": [
    {
     "name": "stdout",
     "output_type": "stream",
     "text": [
      "Int64 <: Signed <: Integer <: Real <: Number <: Any"
     ]
    }
   ],
   "source": [
    "using Base: show_supertypes # import the function from the `Base` package\n",
    "\n",
    "show_supertypes(Int64)"
   ]
  },
  {
   "cell_type": "code",
   "execution_count": 4,
   "id": "5ccf7094",
   "metadata": {
    "hide-output": false
   },
   "outputs": [
    {
     "data": {
      "text/plain": [
       "3-element Vector{Any}:\n",
       " Bool\n",
       " Signed\n",
       " Unsigned"
      ]
     },
     "execution_count": 4,
     "metadata": {},
     "output_type": "execute_result"
    }
   ],
   "source": [
    "subtypes(Integer)"
   ]
  },
  {
   "attachments": {},
   "cell_type": "markdown",
   "id": "ecfca27a",
   "metadata": {},
   "source": [
    "Using the `subtypes` function, we can write an algorithm to traverse the type tree below any time `t` – with the confidence that all types support `subtypes`"
   ]
  },
  {
   "cell_type": "code",
   "execution_count": 5,
   "id": "d5b0b155",
   "metadata": {
    "hide-output": false
   },
   "outputs": [
    {
     "data": {
      "text/plain": [
       "subtypetree (generic function with 3 methods)"
      ]
     },
     "execution_count": 5,
     "metadata": {},
     "output_type": "execute_result"
    }
   ],
   "source": [
    "#  from https://github.com/JuliaLang/julia/issues/24741\n",
    "function subtypetree(t, level=1, indent=4)\n",
    "        if level == 1\n",
    "            println(t)\n",
    "        end\n",
    "        for s in subtypes(t)\n",
    "            println(join(fill(\" \", level * indent)) * string(s))  # print type\n",
    "            subtypetree(s, level+1, indent)  # recursively print the next type, indenting\n",
    "        end\n",
    "    end"
   ]
  },
  {
   "attachments": {},
   "cell_type": "markdown",
   "id": "554fe7a8",
   "metadata": {},
   "source": [
    "Applying this to `Number`, we see the tree of types currently loaded"
   ]
  },
  {
   "cell_type": "code",
   "execution_count": 6,
   "id": "ea611815",
   "metadata": {
    "hide-output": false
   },
   "outputs": [
    {
     "name": "stdout",
     "output_type": "stream",
     "text": [
      "Number\n",
      "    Complex\n",
      "    DualNumbers.Dual\n",
      "    Plots.Measurement\n",
      "    Real\n",
      "        AbstractFloat\n",
      "            BigFloat\n",
      "            Float16\n",
      "            Float32\n",
      "            Float64\n",
      "        AbstractIrrational\n",
      "            Irrational\n",
      "        FixedPointNumbers.FixedPoint\n",
      "            FixedPointNumbers.Fixed\n",
      "            FixedPointNumbers.Normed\n",
      "        Integer\n",
      "            Bool\n",
      "            Signed\n",
      "                BigInt\n",
      "                Int128\n",
      "                Int16\n",
      "                Int32\n",
      "                Int64\n",
      "                Int8\n",
      "            Unsigned\n",
      "                UInt128\n",
      "                UInt16\n",
      "                UInt32\n",
      "                UInt64\n",
      "                UInt8\n",
      "        Rational\n",
      "        Ratios.SimpleRatio\n",
      "        StatsBase.PValue\n",
      "        StatsBase.TestStat\n"
     ]
    }
   ],
   "source": [
    "subtypetree(Number) # warning: do not use this function on ``Any``!"
   ]
  },
  {
   "attachments": {},
   "cell_type": "markdown",
   "id": "83a99778",
   "metadata": {},
   "source": [
    "For the most part, all of the “leaves” will be concrete types."
   ]
  },
  {
   "attachments": {},
   "cell_type": "markdown",
   "id": "d9e4bf9a",
   "metadata": {},
   "source": [
    "### Any\n",
    "\n",
    "At the root of all types is `Any`\n",
    "\n",
    "There are a few functions that work in the “most generalized” context: usable with anything that you can construct or access from other packages.\n",
    "\n",
    "We have already called `typeof`, `show` and `supertype` – which will apply to a custom `struct` type since `MyType <: Any`"
   ]
  },
  {
   "cell_type": "code",
   "execution_count": 7,
   "id": "2848d2a2",
   "metadata": {
    "hide-output": false
   },
   "outputs": [
    {
     "name": "stdout",
     "output_type": "stream",
     "text": [
      "myval = MyType(2.0)\n",
      "typeof(myval) = MyType\n",
      "supertype(typeof(myval)) = Any\n",
      "typeof(myval) <: Any = true\n"
     ]
    }
   ],
   "source": [
    "# custom type\n",
    "struct MyType\n",
    "    a::Float64\n",
    "end\n",
    "\n",
    "myval = MyType(2.0)\n",
    "@show myval\n",
    "@show typeof(myval)\n",
    "@show supertype(typeof(myval))\n",
    "@show typeof(myval) <: Any;"
   ]
  },
  {
   "attachments": {},
   "cell_type": "markdown",
   "id": "2ad387b6",
   "metadata": {},
   "source": [
    "Here we see another example of generic programming: every type `<: Any` supports the `@show` macro, which in turn, relies on the `show` function.\n",
    "\n",
    "The `@show` macro (1) prints the expression as a string; (2) evaluates the expression; and (3) calls the `show` function on the returned values.\n",
    "\n",
    "To see this with built-in types"
   ]
  },
  {
   "cell_type": "code",
   "execution_count": 8,
   "id": "34959331",
   "metadata": {
    "hide-output": false
   },
   "outputs": [
    {
     "name": "stdout",
     "output_type": "stream",
     "text": [
      "[1, 2]"
     ]
    }
   ],
   "source": [
    "x = [1, 2]\n",
    "show(x)"
   ]
  },
  {
   "attachments": {},
   "cell_type": "markdown",
   "id": "2474d3a7",
   "metadata": {},
   "source": [
    "The `Any` type is useful, because it provides a fall-back implementation for a variety of functions.\n",
    "\n",
    "Hence, calling `show` on our custom type dispatches to the fallback function"
   ]
  },
  {
   "cell_type": "code",
   "execution_count": 9,
   "id": "47a95ccb",
   "metadata": {
    "hide-output": false
   },
   "outputs": [
    {
     "name": "stdout",
     "output_type": "stream",
     "text": [
      "MyType(2.0)"
     ]
    }
   ],
   "source": [
    "myval = MyType(2.0)\n",
    "show(myval)"
   ]
  },
  {
   "attachments": {},
   "cell_type": "markdown",
   "id": "cb27cd78",
   "metadata": {},
   "source": [
    "The default fallback implementation used by Julia would be roughly equivalent to"
   ]
  },
  {
   "cell_type": "code",
   "execution_count": 10,
   "id": "64ce1f9c",
   "metadata": {
    "hide-output": false
   },
   "outputs": [
    {
     "ename": "LoadError",
     "evalue": "error in method definition: function Base.show must be explicitly imported to be extended",
     "output_type": "error",
     "traceback": [
      "error in method definition: function Base.show must be explicitly imported to be extended",
      "",
      "Stacktrace:",
      " [1] top-level scope",
      "   @ none:0",
      " [2] top-level scope",
      "   @ In[10]:1"
     ]
    }
   ],
   "source": [
    "function show(io::IO, x)\n",
    "    str = string(x)\n",
    "    print(io, str)\n",
    "end"
   ]
  },
  {
   "attachments": {},
   "cell_type": "markdown",
   "id": "0efdcf46",
   "metadata": {},
   "source": [
    "To implement a specialized implementation of the `show` function for our type, rather than using this fallback"
   ]
  },
  {
   "cell_type": "code",
   "execution_count": 11,
   "id": "fca0c4e6",
   "metadata": {
    "hide-output": false
   },
   "outputs": [
    {
     "name": "stdout",
     "output_type": "stream",
     "text": [
      "(MyType.a = 2.0)"
     ]
    }
   ],
   "source": [
    "import Base.show  # to extend an existing function\n",
    "\n",
    "function show(io::IO, x::MyType)\n",
    "    str = \"(MyType.a = $(x.a))\"  # custom display\n",
    "    print(io, str)\n",
    "end\n",
    "show(myval)  # it creates an IO value first and then calls the above show"
   ]
  },
  {
   "attachments": {},
   "cell_type": "markdown",
   "id": "6ef98156",
   "metadata": {},
   "source": [
    "At that point, we can use the `@show` macro, which in turn calls `show`"
   ]
  },
  {
   "cell_type": "code",
   "execution_count": 12,
   "id": "6d330a2b",
   "metadata": {
    "hide-output": false
   },
   "outputs": [
    {
     "name": "stdout",
     "output_type": "stream",
     "text": [
      "myval = (MyType.a = 2.0)\n"
     ]
    }
   ],
   "source": [
    "@show myval;"
   ]
  },
  {
   "attachments": {},
   "cell_type": "markdown",
   "id": "06932599",
   "metadata": {},
   "source": [
    "Here we see another example of generic programming: any type with a `show` function works with `@show`.\n",
    "\n",
    "Layering of functions (e.g. `@show` calling `show`) with a “fallback” implementation makes it possible for new types to be designed and only specialized where necessary."
   ]
  },
  {
   "attachments": {},
   "cell_type": "markdown",
   "id": "55febdb9",
   "metadata": {},
   "source": [
    "### Unlearning Object Oriented (OO) Programming (Advanced)\n",
    "\n",
    "See [Types](https://docs.julialang.org/en/v1/manual/types/#man-types-1) for more on OO vs. generic types.\n",
    "\n",
    "If you have never used programming languages such as C++, Java, and Python, then the type hierarchies above may seem unfamiliar and abstract.\n",
    "\n",
    "In that case, keep an open mind that this discussion of abstract concepts will have practical consequences, but there is no need to read this section.\n",
    "\n",
    "Otherwise, if you have used object-oriented programming (OOP) in those languages, then some of the concepts in these lecture notes will appear familiar.\n",
    "\n",
    "**Don’t be fooled!**\n",
    "\n",
    "The superficial similarity can lead to misuse: types are *not* classes with poor encapsulation, and methods are *not* the equivalent to member functions with the order of arguments swapped.\n",
    "\n",
    "In particular, previous OO knowledge often leads people to write Julia code such as"
   ]
  },
  {
   "cell_type": "code",
   "execution_count": 13,
   "id": "4dc0239d",
   "metadata": {
    "hide-output": false
   },
   "outputs": [
    {
     "name": "stdout",
     "output_type": "stream",
     "text": [
      "m.algorithmcalculation = 7.199999999999999\n"
     ]
    }
   ],
   "source": [
    "# BAD! Replicating an OO design in Julia\n",
    "mutable struct MyModel\n",
    "    a::Float64\n",
    "    b::Float64\n",
    "    algorithmcalculation::Float64\n",
    "\n",
    "    MyModel(a, b) = new(a, b, 0.0) # an inner constructor\n",
    "end\n",
    "\n",
    "function myalgorithm!(m::MyModel, x)\n",
    "    m.algorithmcalculation = m.a + m.b + x # some algorithm\n",
    "end\n",
    "\n",
    "function set_a!(m::MyModel, a)\n",
    "    m.a = a\n",
    "end\n",
    "\n",
    "m = MyModel(2.0, 3.0)\n",
    "x = 0.1\n",
    "set_a!(m, 4.1)\n",
    "myalgorithm!(m, x)\n",
    "@show m.algorithmcalculation;"
   ]
  },
  {
   "attachments": {},
   "cell_type": "markdown",
   "id": "90b2d172",
   "metadata": {},
   "source": [
    "You may think to yourself that the above code is similar to OO, except that you\n",
    "\n",
    "- reverse the first argument, i.e., `myalgorithm!(m, x)` instead of the object-oriented `m.myalgorithm!(x)`  \n",
    "- cannot control encapsulation of the fields `a`, `b`, but you can add getter/setters like `set_a`  \n",
    "- do not have concrete inheritance  \n",
    "\n",
    "\n",
    "While this sort of programming is possible, it is (verbosely) missing the point of Julia and the power of generic programming.\n",
    "\n",
    "When programming in Julia\n",
    "\n",
    "- there is no [encapsulation](https://en.wikipedia.org/wiki/Encapsulation_%28computer_programming%29) and most custom types you create will be immutable.  \n",
    "- [Polymorphism](https://en.wikipedia.org/wiki/Polymorphism_%28computer_science%29) is achieved without anything resembling OOP [inheritance](https://en.wikipedia.org/wiki/Inheritance_%28object-oriented_programming%29).  \n",
    "- [Abstraction](https://en.wikipedia.org/wiki/Abstraction_%28computer_science%29#Abstraction_in_object_oriented_programming) is implemented by keeping the data and algorithms that operate on them as orthogonal as possible – in direct contrast to OOP’s association of algorithms and methods directly with a type in a tree.  \n",
    "- The supertypes in Julia are simply used for selecting which specialized algorithm to use (i.e., part of generic polymorphism) and have nothing to do with OO inheritance.  \n",
    "- The looseness that accompanies keeping algorithms and data structures as orthogonal as possible makes it easier to discover commonality in the design.  "
   ]
  },
  {
   "attachments": {},
   "cell_type": "markdown",
   "id": "4cc76411",
   "metadata": {},
   "source": [
    "#### Iterative Design of Abstractions\n",
    "\n",
    "As its essence, the design of generic software is that you will start with creating algorithms which are largely orthogonal to concrete types.\n",
    "\n",
    "In the process, you will discover commonality which leads to abstract types with informally defined functions operating on them.\n",
    "\n",
    "Given the abstract types and commonality, you then refine the algorithms as they are more limited or more general than you initially thought.\n",
    "\n",
    "This approach is in direct contrast to object-oriented design and analysis ([OOAD](https://en.wikipedia.org/wiki/Object-oriented_analysis_and_design)).\n",
    "\n",
    "With that, where you specify a taxonomies of types, add operations to those types, and then move down to various levels of specialization (where algorithms are embedded at points within the taxonomy, and potentially specialized with inheritance).\n",
    "\n",
    "In the examples that follow, we will show for exposition the hierarchy of types and the algorithms operating on them, but the reality is that the algorithms are often designed first, and the abstact types came later."
   ]
  },
  {
   "attachments": {},
   "cell_type": "markdown",
   "id": "5a47cb09",
   "metadata": {},
   "source": [
    "## Distributions\n",
    "\n",
    "First, consider working with “distributions”.\n",
    "\n",
    "Algorithms using distributions might (1) draw random numbers for Monte-Carlo methods; and (2) calculate the pdf or cdf – if it is defined.\n",
    "\n",
    "The process of using concrete distributions in these sorts of applications led\n",
    "to the creation of the [Distributions.jl](https://github.com/JuliaStats/Distributions.jl) package.\n",
    "\n",
    "Let’s examine the tree of types for a Normal distribution"
   ]
  },
  {
   "cell_type": "code",
   "execution_count": 14,
   "id": "26596a2e",
   "metadata": {
    "hide-output": false
   },
   "outputs": [
    {
     "name": "stdout",
     "output_type": "stream",
     "text": [
      "d1 = Normal{Float64}(μ=1.0, σ=2.0)\n",
      "Normal{Float64} <: Distribution{Univariate, Continuous} <: Sampleable{Univariate, Continuous} <: Any"
     ]
    }
   ],
   "source": [
    "using Distributions\n",
    "d1 = Normal(1.0, 2.0) # an example type to explore\n",
    "@show d1\n",
    "show_supertypes(typeof(d1))"
   ]
  },
  {
   "attachments": {},
   "cell_type": "markdown",
   "id": "343ec2b9",
   "metadata": {},
   "source": [
    "The `Sampleable{Univariate,Continuous}` type has a limited number of functions, chiefly the ability to draw a random number"
   ]
  },
  {
   "cell_type": "code",
   "execution_count": 15,
   "id": "1d392ca6",
   "metadata": {
    "hide-output": false
   },
   "outputs": [
    {
     "name": "stdout",
     "output_type": "stream",
     "text": [
      "rand(d1) = 3.732865146613917\n"
     ]
    }
   ],
   "source": [
    "@show rand(d1);"
   ]
  },
  {
   "attachments": {},
   "cell_type": "markdown",
   "id": "5bbecc8d",
   "metadata": {},
   "source": [
    "The purpose of that abstract type is to provide an interface for drawing from a\n",
    "variety of distributions, some of which may not have a well-defined predefined pdf.\n",
    "\n",
    "If you were writing a function to simulate a stochastic process with arbitrary\n",
    "iid shocks, where you did not need to assume an existing pdf etc., this is a natural candidate.\n",
    "\n",
    "For example, to simulate $ x_{t+1} = a x_t + b \\epsilon_{t+1} $ where\n",
    "$ \\epsilon \\sim D $ for some $ D $, which allows drawing random values."
   ]
  },
  {
   "cell_type": "code",
   "execution_count": 16,
   "id": "b75848ac",
   "metadata": {
    "hide-output": false
   },
   "outputs": [
    {
     "name": "stdout",
     "output_type": "stream",
     "text": [
      "simulateprocess(0.0, d = Normal(0.2, 2.0)) = [0.0, 1.3185432447178913, 1.1904494352093404, 0.7044187054971756, -1.6904767974509107, -2.148704628935946]\n"
     ]
    }
   ],
   "source": [
    "function simulateprocess(x₀; a = 1.0, b = 1.0, N = 5, d::Sampleable{Univariate,Continuous})\n",
    "    x = zeros(typeof(x₀), N+1) # preallocate vector, careful on the type\n",
    "    x[1] = x₀\n",
    "    for t in 2:N+1\n",
    "        x[t] = a * x[t-1] + b * rand(d) # draw\n",
    "    end\n",
    "    return x\n",
    "end\n",
    "@show simulateprocess(0.0, d=Normal(0.2, 2.0));"
   ]
  },
  {
   "attachments": {},
   "cell_type": "markdown",
   "id": "76ed7c04",
   "metadata": {},
   "source": [
    "The `Sampleable{Univariate,Continuous}` and, especially, the `Sampleable{Multivariate,Continuous}` abstract types are useful generic interfaces for Monte-Carlo and Bayesian methods.\n",
    "\n",
    "Moving down the tree, the `Distributions{Univariate, Continuous}` abstract type has other functions we can use for generic algorithms operating on distributions.\n",
    "\n",
    "These match the mathematics, such as `pdf`, `cdf`, `quantile`, `support`, `minimum`, `maximum`, etc."
   ]
  },
  {
   "cell_type": "code",
   "execution_count": 17,
   "id": "6d512695",
   "metadata": {
    "hide-output": false
   },
   "outputs": [
    {
     "name": "stdout",
     "output_type": "stream",
     "text": [
      "d1 = Normal{Float64}(μ=1.0, σ=2.0)\n",
      "d2 = Exponential{Float64}(θ=0.1)\n",
      "supertype(typeof(d1)) = Distribution{Univariate, Continuous}\n",
      "supertype(typeof(d2)) = Distribution{Univariate, Continuous}\n",
      "pdf(d1, 0.1) = 0.18026348123082397\n",
      "pdf(d2, 0.1) = 3.6787944117144233\n",
      "cdf(d1, 0.1) = 0.32635522028792\n",
      "cdf(d2, 0.1) = 0.6321205588285577\n",
      "support(d1) = RealInterval{Float64}(-Inf, Inf)\n",
      "support(d2) = RealInterval{Float64}(0.0, Inf)\n",
      "minimum(d1) = -Inf\n",
      "minimum(d2) = 0.0\n",
      "maximum(d1) = Inf\n",
      "maximum(d2) = Inf\n"
     ]
    }
   ],
   "source": [
    "d1 = Normal(1.0, 2.0)\n",
    "d2 = Exponential(0.1)\n",
    "@show d1\n",
    "@show d2\n",
    "@show supertype(typeof(d1))\n",
    "@show supertype(typeof(d2))\n",
    "\n",
    "@show pdf(d1, 0.1)\n",
    "@show pdf(d2, 0.1)\n",
    "@show cdf(d1, 0.1)\n",
    "@show cdf(d2, 0.1)\n",
    "@show support(d1)\n",
    "@show support(d2)\n",
    "@show minimum(d1)\n",
    "@show minimum(d2)\n",
    "@show maximum(d1)\n",
    "@show maximum(d2);"
   ]
  },
  {
   "attachments": {},
   "cell_type": "markdown",
   "id": "e48ad9c8",
   "metadata": {},
   "source": [
    "You could create your own `Distributions{Univariate, Continuous}` type by implementing those functions – as is described in [the documentation](https://juliastats.github.io/Distributions.jl/latest/extends/).\n",
    "\n",
    "If you fulfill all of the conditions of a particular interface, you can use algorithms from the present, past, and future  that are written for the abstract `Distributions{Univariate, Continuous}` type.\n",
    "\n",
    "As an example, consider the [StatsPlots](https://github.com/JuliaPlots/StatsPlots.jl) package"
   ]
  },
  {
   "cell_type": "code",
   "execution_count": 18,
   "id": "1f853489",
   "metadata": {
    "hide-output": false
   },
   "outputs": [
    {
     "data": {
      "image/svg+xml": [
       "<?xml version=\"1.0\" encoding=\"utf-8\"?>\n",
       "<svg xmlns=\"http://www.w3.org/2000/svg\" xmlns:xlink=\"http://www.w3.org/1999/xlink\" width=\"600\" height=\"400\" viewBox=\"0 0 2400 1600\">\n",
       "<defs>\n",
       "  <clipPath id=\"clip140\">\n",
       "    <rect x=\"0\" y=\"0\" width=\"2400\" height=\"1600\"/>\n",
       "  </clipPath>\n",
       "</defs>\n",
       "<path clip-path=\"url(#clip140)\" d=\"\n",
       "M0 1600 L2400 1600 L2400 0 L0 0  Z\n",
       "  \" fill=\"#ffffff\" fill-rule=\"evenodd\" fill-opacity=\"1\"/>\n",
       "<defs>\n",
       "  <clipPath id=\"clip141\">\n",
       "    <rect x=\"480\" y=\"0\" width=\"1681\" height=\"1600\"/>\n",
       "  </clipPath>\n",
       "</defs>\n",
       "<path clip-path=\"url(#clip140)\" d=\"\n",
       "M156.598 1486.45 L2352.76 1486.45 L2352.76 47.2441 L156.598 47.2441  Z\n",
       "  \" fill=\"#ffffff\" fill-rule=\"evenodd\" fill-opacity=\"1\"/>\n",
       "<defs>\n",
       "  <clipPath id=\"clip142\">\n",
       "    <rect x=\"156\" y=\"47\" width=\"2197\" height=\"1440\"/>\n",
       "  </clipPath>\n",
       "</defs>\n",
       "<polyline clip-path=\"url(#clip142)\" style=\"stroke:#000000; stroke-linecap:round; stroke-linejoin:round; stroke-width:2; stroke-opacity:0.1; fill:none\" points=\"\n",
       "  419.034,1486.45 419.034,47.2441 \n",
       "  \"/>\n",
       "<polyline clip-path=\"url(#clip142)\" style=\"stroke:#000000; stroke-linecap:round; stroke-linejoin:round; stroke-width:2; stroke-opacity:0.1; fill:none\" points=\"\n",
       "  697.582,1486.45 697.582,47.2441 \n",
       "  \"/>\n",
       "<polyline clip-path=\"url(#clip142)\" style=\"stroke:#000000; stroke-linecap:round; stroke-linejoin:round; stroke-width:2; stroke-opacity:0.1; fill:none\" points=\"\n",
       "  976.129,1486.45 976.129,47.2441 \n",
       "  \"/>\n",
       "<polyline clip-path=\"url(#clip142)\" style=\"stroke:#000000; stroke-linecap:round; stroke-linejoin:round; stroke-width:2; stroke-opacity:0.1; fill:none\" points=\"\n",
       "  1254.68,1486.45 1254.68,47.2441 \n",
       "  \"/>\n",
       "<polyline clip-path=\"url(#clip142)\" style=\"stroke:#000000; stroke-linecap:round; stroke-linejoin:round; stroke-width:2; stroke-opacity:0.1; fill:none\" points=\"\n",
       "  1533.22,1486.45 1533.22,47.2441 \n",
       "  \"/>\n",
       "<polyline clip-path=\"url(#clip142)\" style=\"stroke:#000000; stroke-linecap:round; stroke-linejoin:round; stroke-width:2; stroke-opacity:0.1; fill:none\" points=\"\n",
       "  1811.77,1486.45 1811.77,47.2441 \n",
       "  \"/>\n",
       "<polyline clip-path=\"url(#clip142)\" style=\"stroke:#000000; stroke-linecap:round; stroke-linejoin:round; stroke-width:2; stroke-opacity:0.1; fill:none\" points=\"\n",
       "  2090.32,1486.45 2090.32,47.2441 \n",
       "  \"/>\n",
       "<polyline clip-path=\"url(#clip140)\" style=\"stroke:#000000; stroke-linecap:round; stroke-linejoin:round; stroke-width:4; stroke-opacity:1; fill:none\" points=\"\n",
       "  156.598,1486.45 2352.76,1486.45 \n",
       "  \"/>\n",
       "<polyline clip-path=\"url(#clip140)\" style=\"stroke:#000000; stroke-linecap:round; stroke-linejoin:round; stroke-width:4; stroke-opacity:1; fill:none\" points=\"\n",
       "  419.034,1486.45 419.034,1467.55 \n",
       "  \"/>\n",
       "<polyline clip-path=\"url(#clip140)\" style=\"stroke:#000000; stroke-linecap:round; stroke-linejoin:round; stroke-width:4; stroke-opacity:1; fill:none\" points=\"\n",
       "  697.582,1486.45 697.582,1467.55 \n",
       "  \"/>\n",
       "<polyline clip-path=\"url(#clip140)\" style=\"stroke:#000000; stroke-linecap:round; stroke-linejoin:round; stroke-width:4; stroke-opacity:1; fill:none\" points=\"\n",
       "  976.129,1486.45 976.129,1467.55 \n",
       "  \"/>\n",
       "<polyline clip-path=\"url(#clip140)\" style=\"stroke:#000000; stroke-linecap:round; stroke-linejoin:round; stroke-width:4; stroke-opacity:1; fill:none\" points=\"\n",
       "  1254.68,1486.45 1254.68,1467.55 \n",
       "  \"/>\n",
       "<polyline clip-path=\"url(#clip140)\" style=\"stroke:#000000; stroke-linecap:round; stroke-linejoin:round; stroke-width:4; stroke-opacity:1; fill:none\" points=\"\n",
       "  1533.22,1486.45 1533.22,1467.55 \n",
       "  \"/>\n",
       "<polyline clip-path=\"url(#clip140)\" style=\"stroke:#000000; stroke-linecap:round; stroke-linejoin:round; stroke-width:4; stroke-opacity:1; fill:none\" points=\"\n",
       "  1811.77,1486.45 1811.77,1467.55 \n",
       "  \"/>\n",
       "<polyline clip-path=\"url(#clip140)\" style=\"stroke:#000000; stroke-linecap:round; stroke-linejoin:round; stroke-width:4; stroke-opacity:1; fill:none\" points=\"\n",
       "  2090.32,1486.45 2090.32,1467.55 \n",
       "  \"/>\n",
       "<path clip-path=\"url(#clip140)\" d=\"M388.791 1532.02 L418.467 1532.02 L418.467 1535.95 L388.791 1535.95 L388.791 1532.02 Z\" fill=\"#000000\" fill-rule=\"evenodd\" fill-opacity=\"1\" /><path clip-path=\"url(#clip140)\" d=\"M429.37 1544.91 L437.008 1544.91 L437.008 1518.55 L428.698 1520.21 L428.698 1515.95 L436.962 1514.29 L441.638 1514.29 L441.638 1544.91 L449.277 1544.91 L449.277 1548.85 L429.37 1548.85 L429.37 1544.91 Z\" fill=\"#000000\" fill-rule=\"evenodd\" fill-opacity=\"1\" /><path clip-path=\"url(#clip140)\" d=\"M697.582 1517.37 Q693.971 1517.37 692.142 1520.93 Q690.336 1524.47 690.336 1531.6 Q690.336 1538.71 692.142 1542.27 Q693.971 1545.82 697.582 1545.82 Q701.216 1545.82 703.021 1542.27 Q704.85 1538.71 704.85 1531.6 Q704.85 1524.47 703.021 1520.93 Q701.216 1517.37 697.582 1517.37 M697.582 1513.66 Q703.392 1513.66 706.447 1518.27 Q709.526 1522.85 709.526 1531.6 Q709.526 1540.33 706.447 1544.94 Q703.392 1549.52 697.582 1549.52 Q691.772 1549.52 688.693 1544.94 Q685.637 1540.33 685.637 1531.6 Q685.637 1522.85 688.693 1518.27 Q691.772 1513.66 697.582 1513.66 Z\" fill=\"#000000\" fill-rule=\"evenodd\" fill-opacity=\"1\" /><path clip-path=\"url(#clip140)\" d=\"M966.511 1544.91 L974.15 1544.91 L974.15 1518.55 L965.84 1520.21 L965.84 1515.95 L974.104 1514.29 L978.78 1514.29 L978.78 1544.91 L986.419 1544.91 L986.419 1548.85 L966.511 1548.85 L966.511 1544.91 Z\" fill=\"#000000\" fill-rule=\"evenodd\" fill-opacity=\"1\" /><path clip-path=\"url(#clip140)\" d=\"M1249.33 1544.91 L1265.65 1544.91 L1265.65 1548.85 L1243.7 1548.85 L1243.7 1544.91 Q1246.37 1542.16 1250.95 1537.53 Q1255.56 1532.88 1256.74 1531.53 Q1258.98 1529.01 1259.86 1527.27 Q1260.77 1525.51 1260.77 1523.82 Q1260.77 1521.07 1258.82 1519.33 Q1256.9 1517.6 1253.8 1517.6 Q1251.6 1517.6 1249.14 1518.36 Q1246.71 1519.13 1243.94 1520.68 L1243.94 1515.95 Q1246.76 1514.82 1249.21 1514.24 Q1251.67 1513.66 1253.7 1513.66 Q1259.08 1513.66 1262.27 1516.35 Q1265.46 1519.03 1265.46 1523.52 Q1265.46 1525.65 1264.65 1527.57 Q1263.87 1529.47 1261.76 1532.07 Q1261.18 1532.74 1258.08 1535.95 Q1254.98 1539.15 1249.33 1544.91 Z\" fill=\"#000000\" fill-rule=\"evenodd\" fill-opacity=\"1\" /><path clip-path=\"url(#clip140)\" d=\"M1537.47 1530.21 Q1540.83 1530.93 1542.7 1533.2 Q1544.6 1535.47 1544.6 1538.8 Q1544.6 1543.92 1541.08 1546.72 Q1537.57 1549.52 1531.08 1549.52 Q1528.91 1549.52 1526.59 1549.08 Q1524.3 1548.66 1521.85 1547.81 L1521.85 1543.29 Q1523.79 1544.43 1526.11 1545.01 Q1528.42 1545.58 1530.94 1545.58 Q1535.34 1545.58 1537.63 1543.85 Q1539.95 1542.11 1539.95 1538.8 Q1539.95 1535.75 1537.8 1534.03 Q1535.67 1532.3 1531.85 1532.3 L1527.82 1532.3 L1527.82 1528.45 L1532.03 1528.45 Q1535.48 1528.45 1537.31 1527.09 Q1539.14 1525.7 1539.14 1523.11 Q1539.14 1520.45 1537.24 1519.03 Q1535.37 1517.6 1531.85 1517.6 Q1529.93 1517.6 1527.73 1518.01 Q1525.53 1518.43 1522.89 1519.31 L1522.89 1515.14 Q1525.55 1514.4 1527.87 1514.03 Q1530.2 1513.66 1532.26 1513.66 Q1537.59 1513.66 1540.69 1516.09 Q1543.79 1518.5 1543.79 1522.62 Q1543.79 1525.49 1542.15 1527.48 Q1540.5 1529.45 1537.47 1530.21 Z\" fill=\"#000000\" fill-rule=\"evenodd\" fill-opacity=\"1\" /><path clip-path=\"url(#clip140)\" d=\"M1814.78 1518.36 L1802.98 1536.81 L1814.78 1536.81 L1814.78 1518.36 M1813.55 1514.29 L1819.43 1514.29 L1819.43 1536.81 L1824.36 1536.81 L1824.36 1540.7 L1819.43 1540.7 L1819.43 1548.85 L1814.78 1548.85 L1814.78 1540.7 L1799.18 1540.7 L1799.18 1536.19 L1813.55 1514.29 Z\" fill=\"#000000\" fill-rule=\"evenodd\" fill-opacity=\"1\" /><path clip-path=\"url(#clip140)\" d=\"M2080.6 1514.29 L2098.95 1514.29 L2098.95 1518.22 L2084.88 1518.22 L2084.88 1526.7 Q2085.9 1526.35 2086.92 1526.19 Q2087.94 1526 2088.95 1526 Q2094.74 1526 2098.12 1529.17 Q2101.5 1532.34 2101.5 1537.76 Q2101.5 1543.34 2098.03 1546.44 Q2094.56 1549.52 2088.24 1549.52 Q2086.06 1549.52 2083.79 1549.15 Q2081.55 1548.78 2079.14 1548.04 L2079.14 1543.34 Q2081.22 1544.47 2083.45 1545.03 Q2085.67 1545.58 2088.14 1545.58 Q2092.15 1545.58 2094.49 1543.48 Q2096.82 1541.37 2096.82 1537.76 Q2096.82 1534.15 2094.49 1532.04 Q2092.15 1529.94 2088.14 1529.94 Q2086.27 1529.94 2084.39 1530.35 Q2082.54 1530.77 2080.6 1531.65 L2080.6 1514.29 Z\" fill=\"#000000\" fill-rule=\"evenodd\" fill-opacity=\"1\" /><polyline clip-path=\"url(#clip142)\" style=\"stroke:#000000; stroke-linecap:round; stroke-linejoin:round; stroke-width:2; stroke-opacity:0.1; fill:none\" points=\"\n",
       "  156.598,1447.06 2352.76,1447.06 \n",
       "  \"/>\n",
       "<polyline clip-path=\"url(#clip142)\" style=\"stroke:#000000; stroke-linecap:round; stroke-linejoin:round; stroke-width:2; stroke-opacity:0.1; fill:none\" points=\"\n",
       "  156.598,1106.35 2352.76,1106.35 \n",
       "  \"/>\n",
       "<polyline clip-path=\"url(#clip142)\" style=\"stroke:#000000; stroke-linecap:round; stroke-linejoin:round; stroke-width:2; stroke-opacity:0.1; fill:none\" points=\"\n",
       "  156.598,765.63 2352.76,765.63 \n",
       "  \"/>\n",
       "<polyline clip-path=\"url(#clip142)\" style=\"stroke:#000000; stroke-linecap:round; stroke-linejoin:round; stroke-width:2; stroke-opacity:0.1; fill:none\" points=\"\n",
       "  156.598,424.912 2352.76,424.912 \n",
       "  \"/>\n",
       "<polyline clip-path=\"url(#clip142)\" style=\"stroke:#000000; stroke-linecap:round; stroke-linejoin:round; stroke-width:2; stroke-opacity:0.1; fill:none\" points=\"\n",
       "  156.598,84.1949 2352.76,84.1949 \n",
       "  \"/>\n",
       "<polyline clip-path=\"url(#clip140)\" style=\"stroke:#000000; stroke-linecap:round; stroke-linejoin:round; stroke-width:4; stroke-opacity:1; fill:none\" points=\"\n",
       "  156.598,1486.45 156.598,47.2441 \n",
       "  \"/>\n",
       "<polyline clip-path=\"url(#clip140)\" style=\"stroke:#000000; stroke-linecap:round; stroke-linejoin:round; stroke-width:4; stroke-opacity:1; fill:none\" points=\"\n",
       "  156.598,1447.06 175.496,1447.06 \n",
       "  \"/>\n",
       "<polyline clip-path=\"url(#clip140)\" style=\"stroke:#000000; stroke-linecap:round; stroke-linejoin:round; stroke-width:4; stroke-opacity:1; fill:none\" points=\"\n",
       "  156.598,1106.35 175.496,1106.35 \n",
       "  \"/>\n",
       "<polyline clip-path=\"url(#clip140)\" style=\"stroke:#000000; stroke-linecap:round; stroke-linejoin:round; stroke-width:4; stroke-opacity:1; fill:none\" points=\"\n",
       "  156.598,765.63 175.496,765.63 \n",
       "  \"/>\n",
       "<polyline clip-path=\"url(#clip140)\" style=\"stroke:#000000; stroke-linecap:round; stroke-linejoin:round; stroke-width:4; stroke-opacity:1; fill:none\" points=\"\n",
       "  156.598,424.912 175.496,424.912 \n",
       "  \"/>\n",
       "<polyline clip-path=\"url(#clip140)\" style=\"stroke:#000000; stroke-linecap:round; stroke-linejoin:round; stroke-width:4; stroke-opacity:1; fill:none\" points=\"\n",
       "  156.598,84.1949 175.496,84.1949 \n",
       "  \"/>\n",
       "<path clip-path=\"url(#clip140)\" d=\"M63.4226 1432.86 Q59.8115 1432.86 57.9828 1436.43 Q56.1773 1439.97 56.1773 1447.1 Q56.1773 1454.21 57.9828 1457.77 Q59.8115 1461.31 63.4226 1461.31 Q67.0569 1461.31 68.8624 1457.77 Q70.6911 1454.21 70.6911 1447.1 Q70.6911 1439.97 68.8624 1436.43 Q67.0569 1432.86 63.4226 1432.86 M63.4226 1429.16 Q69.2328 1429.16 72.2883 1433.77 Q75.367 1438.35 75.367 1447.1 Q75.367 1455.83 72.2883 1460.43 Q69.2328 1465.02 63.4226 1465.02 Q57.6125 1465.02 54.5338 1460.43 Q51.4782 1455.83 51.4782 1447.1 Q51.4782 1438.35 54.5338 1433.77 Q57.6125 1429.16 63.4226 1429.16 Z\" fill=\"#000000\" fill-rule=\"evenodd\" fill-opacity=\"1\" /><path clip-path=\"url(#clip140)\" d=\"M83.5845 1458.46 L88.4688 1458.46 L88.4688 1464.34 L83.5845 1464.34 L83.5845 1458.46 Z\" fill=\"#000000\" fill-rule=\"evenodd\" fill-opacity=\"1\" /><path clip-path=\"url(#clip140)\" d=\"M108.654 1432.86 Q105.043 1432.86 103.214 1436.43 Q101.409 1439.97 101.409 1447.1 Q101.409 1454.21 103.214 1457.77 Q105.043 1461.31 108.654 1461.31 Q112.288 1461.31 114.094 1457.77 Q115.922 1454.21 115.922 1447.1 Q115.922 1439.97 114.094 1436.43 Q112.288 1432.86 108.654 1432.86 M108.654 1429.16 Q114.464 1429.16 117.52 1433.77 Q120.598 1438.35 120.598 1447.1 Q120.598 1455.83 117.52 1460.43 Q114.464 1465.02 108.654 1465.02 Q102.844 1465.02 99.765 1460.43 Q96.7095 1455.83 96.7095 1447.1 Q96.7095 1438.35 99.765 1433.77 Q102.844 1429.16 108.654 1429.16 Z\" fill=\"#000000\" fill-rule=\"evenodd\" fill-opacity=\"1\" /><path clip-path=\"url(#clip140)\" d=\"M64.6495 1092.15 Q61.0384 1092.15 59.2097 1095.71 Q57.4041 1099.25 57.4041 1106.38 Q57.4041 1113.49 59.2097 1117.05 Q61.0384 1120.59 64.6495 1120.59 Q68.2837 1120.59 70.0892 1117.05 Q71.9179 1113.49 71.9179 1106.38 Q71.9179 1099.25 70.0892 1095.71 Q68.2837 1092.15 64.6495 1092.15 M64.6495 1088.44 Q70.4596 1088.44 73.5152 1093.05 Q76.5938 1097.63 76.5938 1106.38 Q76.5938 1115.11 73.5152 1119.72 Q70.4596 1124.3 64.6495 1124.3 Q58.8393 1124.3 55.7606 1119.72 Q52.7051 1115.11 52.7051 1106.38 Q52.7051 1097.63 55.7606 1093.05 Q58.8393 1088.44 64.6495 1088.44 Z\" fill=\"#000000\" fill-rule=\"evenodd\" fill-opacity=\"1\" /><path clip-path=\"url(#clip140)\" d=\"M84.8114 1117.75 L89.6956 1117.75 L89.6956 1123.63 L84.8114 1123.63 L84.8114 1117.75 Z\" fill=\"#000000\" fill-rule=\"evenodd\" fill-opacity=\"1\" /><path clip-path=\"url(#clip140)\" d=\"M100.691 1119.69 L108.33 1119.69 L108.33 1093.33 L100.02 1094.99 L100.02 1090.73 L108.283 1089.07 L112.959 1089.07 L112.959 1119.69 L120.598 1119.69 L120.598 1123.63 L100.691 1123.63 L100.691 1119.69 Z\" fill=\"#000000\" fill-rule=\"evenodd\" fill-opacity=\"1\" /><path clip-path=\"url(#clip140)\" d=\"M65.0198 751.428 Q61.4087 751.428 59.58 754.993 Q57.7745 758.535 57.7745 765.664 Q57.7745 772.771 59.58 776.336 Q61.4087 779.877 65.0198 779.877 Q68.6541 779.877 70.4596 776.336 Q72.2883 772.771 72.2883 765.664 Q72.2883 758.535 70.4596 754.993 Q68.6541 751.428 65.0198 751.428 M65.0198 747.725 Q70.83 747.725 73.8855 752.331 Q76.9642 756.914 76.9642 765.664 Q76.9642 774.391 73.8855 778.998 Q70.83 783.581 65.0198 783.581 Q59.2097 783.581 56.131 778.998 Q53.0754 774.391 53.0754 765.664 Q53.0754 756.914 56.131 752.331 Q59.2097 747.725 65.0198 747.725 Z\" fill=\"#000000\" fill-rule=\"evenodd\" fill-opacity=\"1\" /><path clip-path=\"url(#clip140)\" d=\"M85.1818 777.03 L90.066 777.03 L90.066 782.91 L85.1818 782.91 L85.1818 777.03 Z\" fill=\"#000000\" fill-rule=\"evenodd\" fill-opacity=\"1\" /><path clip-path=\"url(#clip140)\" d=\"M104.279 778.974 L120.598 778.974 L120.598 782.91 L98.6539 782.91 L98.6539 778.974 Q101.316 776.22 105.899 771.59 Q110.506 766.938 111.686 765.595 Q113.932 763.072 114.811 761.336 Q115.714 759.576 115.714 757.887 Q115.714 755.132 113.77 753.396 Q111.848 751.66 108.746 751.66 Q106.547 751.66 104.094 752.424 Q101.663 753.188 98.8854 754.739 L98.8854 750.016 Q101.709 748.882 104.163 748.303 Q106.617 747.725 108.654 747.725 Q114.024 747.725 117.219 750.41 Q120.413 753.095 120.413 757.586 Q120.413 759.715 119.603 761.637 Q118.816 763.535 116.709 766.127 Q116.131 766.799 113.029 770.016 Q109.927 773.211 104.279 778.974 Z\" fill=\"#000000\" fill-rule=\"evenodd\" fill-opacity=\"1\" /><path clip-path=\"url(#clip140)\" d=\"M64.0708 410.711 Q60.4597 410.711 58.631 414.276 Q56.8254 417.817 56.8254 424.947 Q56.8254 432.053 58.631 435.618 Q60.4597 439.16 64.0708 439.16 Q67.705 439.16 69.5105 435.618 Q71.3392 432.053 71.3392 424.947 Q71.3392 417.817 69.5105 414.276 Q67.705 410.711 64.0708 410.711 M64.0708 407.007 Q69.8809 407.007 72.9365 411.614 Q76.0151 416.197 76.0151 424.947 Q76.0151 433.674 72.9365 438.28 Q69.8809 442.864 64.0708 442.864 Q58.2606 442.864 55.1819 438.28 Q52.1264 433.674 52.1264 424.947 Q52.1264 416.197 55.1819 411.614 Q58.2606 407.007 64.0708 407.007 Z\" fill=\"#000000\" fill-rule=\"evenodd\" fill-opacity=\"1\" /><path clip-path=\"url(#clip140)\" d=\"M84.2327 436.313 L89.1169 436.313 L89.1169 442.192 L84.2327 442.192 L84.2327 436.313 Z\" fill=\"#000000\" fill-rule=\"evenodd\" fill-opacity=\"1\" /><path clip-path=\"url(#clip140)\" d=\"M113.469 423.558 Q116.825 424.276 118.7 426.544 Q120.598 428.813 120.598 432.146 Q120.598 437.262 117.08 440.063 Q113.561 442.864 107.08 442.864 Q104.904 442.864 102.589 442.424 Q100.297 442.007 97.8437 441.151 L97.8437 436.637 Q99.7882 437.771 102.103 438.35 Q104.418 438.928 106.941 438.928 Q111.339 438.928 113.631 437.192 Q115.945 435.456 115.945 432.146 Q115.945 429.09 113.793 427.378 Q111.663 425.641 107.844 425.641 L103.816 425.641 L103.816 421.799 L108.029 421.799 Q111.478 421.799 113.307 420.433 Q115.135 419.044 115.135 416.452 Q115.135 413.79 113.237 412.378 Q111.362 410.942 107.844 410.942 Q105.922 410.942 103.723 411.359 Q101.524 411.776 98.8854 412.655 L98.8854 408.489 Q101.547 407.748 103.862 407.378 Q106.2 407.007 108.26 407.007 Q113.584 407.007 116.686 409.438 Q119.788 411.845 119.788 415.966 Q119.788 418.836 118.145 420.827 Q116.501 422.794 113.469 423.558 Z\" fill=\"#000000\" fill-rule=\"evenodd\" fill-opacity=\"1\" /><path clip-path=\"url(#clip140)\" d=\"M62.9365 69.9936 Q59.3254 69.9936 57.4967 73.5584 Q55.6912 77.1 55.6912 84.2296 Q55.6912 91.3361 57.4967 94.9009 Q59.3254 98.4425 62.9365 98.4425 Q66.5707 98.4425 68.3763 94.9009 Q70.205 91.3361 70.205 84.2296 Q70.205 77.1 68.3763 73.5584 Q66.5707 69.9936 62.9365 69.9936 M62.9365 66.2899 Q68.7467 66.2899 71.8022 70.8964 Q74.8809 75.4797 74.8809 84.2296 Q74.8809 92.9564 71.8022 97.5629 Q68.7467 102.146 62.9365 102.146 Q57.1264 102.146 54.0477 97.5629 Q50.9921 92.9564 50.9921 84.2296 Q50.9921 75.4797 54.0477 70.8964 Q57.1264 66.2899 62.9365 66.2899 Z\" fill=\"#000000\" fill-rule=\"evenodd\" fill-opacity=\"1\" /><path clip-path=\"url(#clip140)\" d=\"M83.0984 95.5953 L87.9827 95.5953 L87.9827 101.475 L83.0984 101.475 L83.0984 95.5953 Z\" fill=\"#000000\" fill-rule=\"evenodd\" fill-opacity=\"1\" /><path clip-path=\"url(#clip140)\" d=\"M111.015 70.9889 L99.2095 89.4379 L111.015 89.4379 L111.015 70.9889 M109.788 66.9149 L115.668 66.9149 L115.668 89.4379 L120.598 89.4379 L120.598 93.3268 L115.668 93.3268 L115.668 101.475 L111.015 101.475 L111.015 93.3268 L95.4132 93.3268 L95.4132 88.8129 L109.788 66.9149 Z\" fill=\"#000000\" fill-rule=\"evenodd\" fill-opacity=\"1\" /><polyline clip-path=\"url(#clip142)\" style=\"stroke:#009af9; stroke-linecap:round; stroke-linejoin:round; stroke-width:4; stroke-opacity:1; fill:none\" points=\"\n",
       "  218.754,1445.72 225.498,1445.59 232.242,1445.45 294.604,1443.49 356.966,1439.52 394.443,1435.52 431.92,1429.73 463.607,1422.97 495.293,1414 512.503,1408.01 \n",
       "  529.713,1401.1 546.923,1393.19 564.133,1384.15 579.999,1374.73 595.866,1364.16 611.732,1352.36 627.598,1339.22 644.608,1323.56 661.618,1306.15 678.629,1286.88 \n",
       "  695.639,1265.66 715.347,1238.51 735.055,1208.48 754.763,1175.5 774.471,1139.5 791.985,1104.97 809.499,1068.05 827.013,1028.82 844.528,987.337 859.886,949.213 \n",
       "  875.244,909.564 890.603,868.52 905.961,826.231 939.45,730.584 972.94,632.068 1006.63,532.729 1040.32,436.176 1049.63,410.412 1058.94,385.178 1068.25,360.545 \n",
       "  1077.56,336.582 1086.88,313.359 1096.19,290.942 1105.5,269.4 1114.81,248.795 1123.67,230.119 1132.53,212.402 1141.39,195.694 1150.25,180.041 1159.11,165.491 \n",
       "  1167.97,152.084 1176.83,139.86 1185.69,128.855 1194.9,118.74 1204.11,110.01 1213.33,102.694 1222.54,96.8164 1231.75,92.3952 1240.96,89.4453 1250.17,87.9763 \n",
       "  1259.39,87.993 1267.14,89.159 1274.9,91.3751 1282.65,94.6361 1290.41,98.9347 1298.16,104.261 1305.92,110.602 1313.67,117.944 1321.42,126.269 1330.89,137.74 \n",
       "  1340.36,150.609 1349.83,164.834 1359.3,180.367 1368.76,197.157 1378.23,215.149 1387.7,234.283 1397.17,254.498 1414.51,294.127 1431.86,336.752 1440.53,359.053 \n",
       "  1449.2,381.94 1457.88,405.355 1466.55,429.243 1498.59,520.66 1530.63,614.95 1563.09,710.683 1595.54,804.19 1613.73,854.821 1631.92,903.785 1650.1,950.822 \n",
       "  1668.29,995.714 1684.77,1034.4 1701.25,1071.09 1717.73,1105.71 1734.21,1138.23 1753.08,1172.85 1771.95,1204.71 1790.82,1233.85 1809.69,1260.34 1827.16,1282.6 \n",
       "  1844.63,1302.78 1862.1,1320.97 1879.57,1337.31 1896.8,1351.71 1914.02,1364.53 1931.25,1375.91 1948.47,1385.95 1965.19,1394.53 1981.92,1402.07 1998.64,1408.67 \n",
       "  2015.36,1414.42 2049.65,1423.91 2083.94,1430.89 2121.5,1436.34 2159.07,1440.08 2213.64,1443.44 2268.21,1445.25 2279.41,1445.5 2290.6,1445.72 \n",
       "  \"/>\n",
       "<path clip-path=\"url(#clip140)\" d=\"\n",
       "M2007.5 198.898 L2279.55 198.898 L2279.55 95.2176 L2007.5 95.2176  Z\n",
       "  \" fill=\"#ffffff\" fill-rule=\"evenodd\" fill-opacity=\"1\"/>\n",
       "<polyline clip-path=\"url(#clip140)\" style=\"stroke:#000000; stroke-linecap:round; stroke-linejoin:round; stroke-width:4; stroke-opacity:1; fill:none\" points=\"\n",
       "  2007.5,198.898 2279.55,198.898 2279.55,95.2176 2007.5,95.2176 2007.5,198.898 \n",
       "  \"/>\n",
       "<polyline clip-path=\"url(#clip140)\" style=\"stroke:#009af9; stroke-linecap:round; stroke-linejoin:round; stroke-width:4; stroke-opacity:1; fill:none\" points=\"\n",
       "  2031.91,147.058 2178.32,147.058 \n",
       "  \"/>\n",
       "<path clip-path=\"url(#clip140)\" d=\"M2216.56 166.745 Q2214.76 171.375 2213.04 172.787 Q2211.33 174.199 2208.46 174.199 L2205.06 174.199 L2205.06 170.634 L2207.56 170.634 Q2209.32 170.634 2210.29 169.8 Q2211.26 168.967 2212.44 165.865 L2213.2 163.921 L2202.72 138.412 L2207.23 138.412 L2215.33 158.689 L2223.44 138.412 L2227.95 138.412 L2216.56 166.745 Z\" fill=\"#000000\" fill-rule=\"evenodd\" fill-opacity=\"1\" /><path clip-path=\"url(#clip140)\" d=\"M2235.24 160.402 L2242.88 160.402 L2242.88 134.037 L2234.57 135.703 L2234.57 131.444 L2242.83 129.778 L2247.51 129.778 L2247.51 160.402 L2255.15 160.402 L2255.15 164.338 L2235.24 164.338 L2235.24 160.402 Z\" fill=\"#000000\" fill-rule=\"evenodd\" fill-opacity=\"1\" /></svg>\n"
      ]
     },
     "execution_count": 18,
     "metadata": {},
     "output_type": "execute_result"
    }
   ],
   "source": [
    "using StatsPlots\n",
    "d = Normal(2.0, 1.0)\n",
    "plot(d) # note no other arguments!"
   ]
  },
  {
   "attachments": {},
   "cell_type": "markdown",
   "id": "7a48ac97",
   "metadata": {},
   "source": [
    "Calling `plot` on any subtype of `Distributions{Univariate, Continuous}`\n",
    "displays the `pdf` and uses `minimum` and `maximum` to determine the range.\n",
    "\n",
    "Let’s create our own distribution type"
   ]
  },
  {
   "cell_type": "code",
   "execution_count": 19,
   "id": "35d2a517",
   "metadata": {
    "hide-output": false
   },
   "outputs": [],
   "source": [
    "struct OurTruncatedExponential <: Distribution{Univariate,Continuous}\n",
    "    α::Float64\n",
    "    xmax::Float64\n",
    "end\n",
    "Distributions.pdf(d::OurTruncatedExponential, x::Real) = d.α *exp(-d.α * x)/exp(-d.α * d.xmax)\n",
    "Distributions.minimum(d::OurTruncatedExponential) = 0\n",
    "Distributions.maximum(d::OurTruncatedExponential) = d.xmax\n",
    "# ... more to have a complete type"
   ]
  },
  {
   "attachments": {},
   "cell_type": "markdown",
   "id": "15470ae7",
   "metadata": {},
   "source": [
    "To demonstrate this"
   ]
  },
  {
   "cell_type": "code",
   "execution_count": 20,
   "id": "0ebc86fd",
   "metadata": {
    "hide-output": false
   },
   "outputs": [
    {
     "name": "stdout",
     "output_type": "stream",
     "text": [
      "(minimum(d), maximum(d)) = (0, 2.0)\n",
      "support(d) = RealInterval{Float64}(0.0, 2.0)\n"
     ]
    },
    {
     "data": {
      "text/plain": [
       "RealInterval{Float64}(0.0, 2.0)"
      ]
     },
     "execution_count": 20,
     "metadata": {},
     "output_type": "execute_result"
    }
   ],
   "source": [
    "d = OurTruncatedExponential(1.0,2.0)\n",
    "@show minimum(d), maximum(d)\n",
    "@show support(d) # why does this work?"
   ]
  },
  {
   "attachments": {},
   "cell_type": "markdown",
   "id": "79613d99",
   "metadata": {},
   "source": [
    "Curiously, you will note that the `support` function works, even though we did not provide one.\n",
    "\n",
    "This is another example of the power of multiple dispatch and generic programming.\n",
    "\n",
    "In the background, the `Distributions.jl` package  has something like the following implemented"
   ]
  },
  {
   "cell_type": "code",
   "execution_count": 21,
   "id": "f1ddf158",
   "metadata": {
    "hide-output": false
   },
   "outputs": [],
   "source": [
    "    Distributions.support(d::Distribution) = RealInterval(minimum(d), maximum(d))"
   ]
  },
  {
   "attachments": {},
   "cell_type": "markdown",
   "id": "b73b97e1",
   "metadata": {},
   "source": [
    "Since `OurTruncatedExponential <: Distribution`, and we\n",
    "implemented `minimum` and `maximum`, calls to `support` get this\n",
    "implementation as a fallback.\n",
    "\n",
    "These functions are enough to use the  `StatsPlots.jl` package"
   ]
  },
  {
   "cell_type": "code",
   "execution_count": 22,
   "id": "87b8c87e",
   "metadata": {
    "hide-output": false
   },
   "outputs": [
    {
     "data": {
      "image/svg+xml": [
       "<?xml version=\"1.0\" encoding=\"utf-8\"?>\n",
       "<svg xmlns=\"http://www.w3.org/2000/svg\" xmlns:xlink=\"http://www.w3.org/1999/xlink\" width=\"600\" height=\"400\" viewBox=\"0 0 2400 1600\">\n",
       "<defs>\n",
       "  <clipPath id=\"clip180\">\n",
       "    <rect x=\"0\" y=\"0\" width=\"2400\" height=\"1600\"/>\n",
       "  </clipPath>\n",
       "</defs>\n",
       "<path clip-path=\"url(#clip180)\" d=\"\n",
       "M0 1600 L2400 1600 L2400 0 L0 0  Z\n",
       "  \" fill=\"#ffffff\" fill-rule=\"evenodd\" fill-opacity=\"1\"/>\n",
       "<defs>\n",
       "  <clipPath id=\"clip181\">\n",
       "    <rect x=\"480\" y=\"0\" width=\"1681\" height=\"1600\"/>\n",
       "  </clipPath>\n",
       "</defs>\n",
       "<path clip-path=\"url(#clip180)\" d=\"\n",
       "M112.177 1486.45 L2352.76 1486.45 L2352.76 47.2441 L112.177 47.2441  Z\n",
       "  \" fill=\"#ffffff\" fill-rule=\"evenodd\" fill-opacity=\"1\"/>\n",
       "<defs>\n",
       "  <clipPath id=\"clip182\">\n",
       "    <rect x=\"112\" y=\"47\" width=\"2242\" height=\"1440\"/>\n",
       "  </clipPath>\n",
       "</defs>\n",
       "<polyline clip-path=\"url(#clip182)\" style=\"stroke:#000000; stroke-linecap:round; stroke-linejoin:round; stroke-width:2; stroke-opacity:0.1; fill:none\" points=\"\n",
       "  175.59,1486.45 175.59,47.2441 \n",
       "  \"/>\n",
       "<polyline clip-path=\"url(#clip182)\" style=\"stroke:#000000; stroke-linecap:round; stroke-linejoin:round; stroke-width:2; stroke-opacity:0.1; fill:none\" points=\"\n",
       "  704.028,1486.45 704.028,47.2441 \n",
       "  \"/>\n",
       "<polyline clip-path=\"url(#clip182)\" style=\"stroke:#000000; stroke-linecap:round; stroke-linejoin:round; stroke-width:2; stroke-opacity:0.1; fill:none\" points=\"\n",
       "  1232.47,1486.45 1232.47,47.2441 \n",
       "  \"/>\n",
       "<polyline clip-path=\"url(#clip182)\" style=\"stroke:#000000; stroke-linecap:round; stroke-linejoin:round; stroke-width:2; stroke-opacity:0.1; fill:none\" points=\"\n",
       "  1760.9,1486.45 1760.9,47.2441 \n",
       "  \"/>\n",
       "<polyline clip-path=\"url(#clip182)\" style=\"stroke:#000000; stroke-linecap:round; stroke-linejoin:round; stroke-width:2; stroke-opacity:0.1; fill:none\" points=\"\n",
       "  2289.34,1486.45 2289.34,47.2441 \n",
       "  \"/>\n",
       "<polyline clip-path=\"url(#clip180)\" style=\"stroke:#000000; stroke-linecap:round; stroke-linejoin:round; stroke-width:4; stroke-opacity:1; fill:none\" points=\"\n",
       "  112.177,1486.45 2352.76,1486.45 \n",
       "  \"/>\n",
       "<polyline clip-path=\"url(#clip180)\" style=\"stroke:#000000; stroke-linecap:round; stroke-linejoin:round; stroke-width:4; stroke-opacity:1; fill:none\" points=\"\n",
       "  175.59,1486.45 175.59,1467.55 \n",
       "  \"/>\n",
       "<polyline clip-path=\"url(#clip180)\" style=\"stroke:#000000; stroke-linecap:round; stroke-linejoin:round; stroke-width:4; stroke-opacity:1; fill:none\" points=\"\n",
       "  704.028,1486.45 704.028,1467.55 \n",
       "  \"/>\n",
       "<polyline clip-path=\"url(#clip180)\" style=\"stroke:#000000; stroke-linecap:round; stroke-linejoin:round; stroke-width:4; stroke-opacity:1; fill:none\" points=\"\n",
       "  1232.47,1486.45 1232.47,1467.55 \n",
       "  \"/>\n",
       "<polyline clip-path=\"url(#clip180)\" style=\"stroke:#000000; stroke-linecap:round; stroke-linejoin:round; stroke-width:4; stroke-opacity:1; fill:none\" points=\"\n",
       "  1760.9,1486.45 1760.9,1467.55 \n",
       "  \"/>\n",
       "<polyline clip-path=\"url(#clip180)\" style=\"stroke:#000000; stroke-linecap:round; stroke-linejoin:round; stroke-width:4; stroke-opacity:1; fill:none\" points=\"\n",
       "  2289.34,1486.45 2289.34,1467.55 \n",
       "  \"/>\n",
       "<path clip-path=\"url(#clip180)\" d=\"M152.974 1517.37 Q149.363 1517.37 147.534 1520.93 Q145.729 1524.47 145.729 1531.6 Q145.729 1538.71 147.534 1542.27 Q149.363 1545.82 152.974 1545.82 Q156.608 1545.82 158.414 1542.27 Q160.243 1538.71 160.243 1531.6 Q160.243 1524.47 158.414 1520.93 Q156.608 1517.37 152.974 1517.37 M152.974 1513.66 Q158.784 1513.66 161.84 1518.27 Q164.919 1522.85 164.919 1531.6 Q164.919 1540.33 161.84 1544.94 Q158.784 1549.52 152.974 1549.52 Q147.164 1549.52 144.085 1544.94 Q141.03 1540.33 141.03 1531.6 Q141.03 1522.85 144.085 1518.27 Q147.164 1513.66 152.974 1513.66 Z\" fill=\"#000000\" fill-rule=\"evenodd\" fill-opacity=\"1\" /><path clip-path=\"url(#clip180)\" d=\"M173.136 1542.97 L178.02 1542.97 L178.02 1548.85 L173.136 1548.85 L173.136 1542.97 Z\" fill=\"#000000\" fill-rule=\"evenodd\" fill-opacity=\"1\" /><path clip-path=\"url(#clip180)\" d=\"M198.205 1517.37 Q194.594 1517.37 192.766 1520.93 Q190.96 1524.47 190.96 1531.6 Q190.96 1538.71 192.766 1542.27 Q194.594 1545.82 198.205 1545.82 Q201.84 1545.82 203.645 1542.27 Q205.474 1538.71 205.474 1531.6 Q205.474 1524.47 203.645 1520.93 Q201.84 1517.37 198.205 1517.37 M198.205 1513.66 Q204.016 1513.66 207.071 1518.27 Q210.15 1522.85 210.15 1531.6 Q210.15 1540.33 207.071 1544.94 Q204.016 1549.52 198.205 1549.52 Q192.395 1549.52 189.317 1544.94 Q186.261 1540.33 186.261 1531.6 Q186.261 1522.85 189.317 1518.27 Q192.395 1513.66 198.205 1513.66 Z\" fill=\"#000000\" fill-rule=\"evenodd\" fill-opacity=\"1\" /><path clip-path=\"url(#clip180)\" d=\"M681.91 1517.37 Q678.299 1517.37 676.47 1520.93 Q674.665 1524.47 674.665 1531.6 Q674.665 1538.71 676.47 1542.27 Q678.299 1545.82 681.91 1545.82 Q685.544 1545.82 687.35 1542.27 Q689.179 1538.71 689.179 1531.6 Q689.179 1524.47 687.35 1520.93 Q685.544 1517.37 681.91 1517.37 M681.91 1513.66 Q687.72 1513.66 690.776 1518.27 Q693.855 1522.85 693.855 1531.6 Q693.855 1540.33 690.776 1544.94 Q687.72 1549.52 681.91 1549.52 Q676.1 1549.52 673.021 1544.94 Q669.966 1540.33 669.966 1531.6 Q669.966 1522.85 673.021 1518.27 Q676.1 1513.66 681.91 1513.66 Z\" fill=\"#000000\" fill-rule=\"evenodd\" fill-opacity=\"1\" /><path clip-path=\"url(#clip180)\" d=\"M702.072 1542.97 L706.956 1542.97 L706.956 1548.85 L702.072 1548.85 L702.072 1542.97 Z\" fill=\"#000000\" fill-rule=\"evenodd\" fill-opacity=\"1\" /><path clip-path=\"url(#clip180)\" d=\"M717.188 1514.29 L735.544 1514.29 L735.544 1518.22 L721.47 1518.22 L721.47 1526.7 Q722.489 1526.35 723.507 1526.19 Q724.526 1526 725.544 1526 Q731.331 1526 734.711 1529.17 Q738.09 1532.34 738.09 1537.76 Q738.09 1543.34 734.618 1546.44 Q731.146 1549.52 724.827 1549.52 Q722.651 1549.52 720.382 1549.15 Q718.137 1548.78 715.729 1548.04 L715.729 1543.34 Q717.813 1544.47 720.035 1545.03 Q722.257 1545.58 724.734 1545.58 Q728.739 1545.58 731.077 1543.48 Q733.415 1541.37 733.415 1537.76 Q733.415 1534.15 731.077 1532.04 Q728.739 1529.94 724.734 1529.94 Q722.859 1529.94 720.984 1530.35 Q719.132 1530.77 717.188 1531.65 L717.188 1514.29 Z\" fill=\"#000000\" fill-rule=\"evenodd\" fill-opacity=\"1\" /><path clip-path=\"url(#clip180)\" d=\"M1199.62 1544.91 L1207.26 1544.91 L1207.26 1518.55 L1198.95 1520.21 L1198.95 1515.95 L1207.21 1514.29 L1211.89 1514.29 L1211.89 1544.91 L1219.53 1544.91 L1219.53 1548.85 L1199.62 1548.85 L1199.62 1544.91 Z\" fill=\"#000000\" fill-rule=\"evenodd\" fill-opacity=\"1\" /><path clip-path=\"url(#clip180)\" d=\"M1228.97 1542.97 L1233.86 1542.97 L1233.86 1548.85 L1228.97 1548.85 L1228.97 1542.97 Z\" fill=\"#000000\" fill-rule=\"evenodd\" fill-opacity=\"1\" /><path clip-path=\"url(#clip180)\" d=\"M1254.04 1517.37 Q1250.43 1517.37 1248.6 1520.93 Q1246.8 1524.47 1246.8 1531.6 Q1246.8 1538.71 1248.6 1542.27 Q1250.43 1545.82 1254.04 1545.82 Q1257.67 1545.82 1259.48 1542.27 Q1261.31 1538.71 1261.31 1531.6 Q1261.31 1524.47 1259.48 1520.93 Q1257.67 1517.37 1254.04 1517.37 M1254.04 1513.66 Q1259.85 1513.66 1262.91 1518.27 Q1265.98 1522.85 1265.98 1531.6 Q1265.98 1540.33 1262.91 1544.94 Q1259.85 1549.52 1254.04 1549.52 Q1248.23 1549.52 1245.15 1544.94 Q1242.1 1540.33 1242.1 1531.6 Q1242.1 1522.85 1245.15 1518.27 Q1248.23 1513.66 1254.04 1513.66 Z\" fill=\"#000000\" fill-rule=\"evenodd\" fill-opacity=\"1\" /><path clip-path=\"url(#clip180)\" d=\"M1728.56 1544.91 L1736.19 1544.91 L1736.19 1518.55 L1727.88 1520.21 L1727.88 1515.95 L1736.15 1514.29 L1740.82 1514.29 L1740.82 1544.91 L1748.46 1544.91 L1748.46 1548.85 L1728.56 1548.85 L1728.56 1544.91 Z\" fill=\"#000000\" fill-rule=\"evenodd\" fill-opacity=\"1\" /><path clip-path=\"url(#clip180)\" d=\"M1757.91 1542.97 L1762.79 1542.97 L1762.79 1548.85 L1757.91 1548.85 L1757.91 1542.97 Z\" fill=\"#000000\" fill-rule=\"evenodd\" fill-opacity=\"1\" /><path clip-path=\"url(#clip180)\" d=\"M1773.02 1514.29 L1791.38 1514.29 L1791.38 1518.22 L1777.31 1518.22 L1777.31 1526.7 Q1778.32 1526.35 1779.34 1526.19 Q1780.36 1526 1781.38 1526 Q1787.17 1526 1790.55 1529.17 Q1793.93 1532.34 1793.93 1537.76 Q1793.93 1543.34 1790.45 1546.44 Q1786.98 1549.52 1780.66 1549.52 Q1778.49 1549.52 1776.22 1549.15 Q1773.97 1548.78 1771.56 1548.04 L1771.56 1543.34 Q1773.65 1544.47 1775.87 1545.03 Q1778.09 1545.58 1780.57 1545.58 Q1784.57 1545.58 1786.91 1543.48 Q1789.25 1541.37 1789.25 1537.76 Q1789.25 1534.15 1786.91 1532.04 Q1784.57 1529.94 1780.57 1529.94 Q1778.69 1529.94 1776.82 1530.35 Q1774.97 1530.77 1773.02 1531.65 L1773.02 1514.29 Z\" fill=\"#000000\" fill-rule=\"evenodd\" fill-opacity=\"1\" /><path clip-path=\"url(#clip180)\" d=\"M2260.58 1544.91 L2276.9 1544.91 L2276.9 1548.85 L2254.96 1548.85 L2254.96 1544.91 Q2257.62 1542.16 2262.2 1537.53 Q2266.81 1532.88 2267.99 1531.53 Q2270.23 1529.01 2271.11 1527.27 Q2272.02 1525.51 2272.02 1523.82 Q2272.02 1521.07 2270.07 1519.33 Q2268.15 1517.6 2265.05 1517.6 Q2262.85 1517.6 2260.4 1518.36 Q2257.97 1519.13 2255.19 1520.68 L2255.19 1515.95 Q2258.01 1514.82 2260.47 1514.24 Q2262.92 1513.66 2264.96 1513.66 Q2270.33 1513.66 2273.52 1516.35 Q2276.72 1519.03 2276.72 1523.52 Q2276.72 1525.65 2275.91 1527.57 Q2275.12 1529.47 2273.01 1532.07 Q2272.43 1532.74 2269.33 1535.95 Q2266.23 1539.15 2260.58 1544.91 Z\" fill=\"#000000\" fill-rule=\"evenodd\" fill-opacity=\"1\" /><path clip-path=\"url(#clip180)\" d=\"M2286.72 1542.97 L2291.6 1542.97 L2291.6 1548.85 L2286.72 1548.85 L2286.72 1542.97 Z\" fill=\"#000000\" fill-rule=\"evenodd\" fill-opacity=\"1\" /><path clip-path=\"url(#clip180)\" d=\"M2311.79 1517.37 Q2308.17 1517.37 2306.35 1520.93 Q2304.54 1524.47 2304.54 1531.6 Q2304.54 1538.71 2306.35 1542.27 Q2308.17 1545.82 2311.79 1545.82 Q2315.42 1545.82 2317.23 1542.27 Q2319.05 1538.71 2319.05 1531.6 Q2319.05 1524.47 2317.23 1520.93 Q2315.42 1517.37 2311.79 1517.37 M2311.79 1513.66 Q2317.6 1513.66 2320.65 1518.27 Q2323.73 1522.85 2323.73 1531.6 Q2323.73 1540.33 2320.65 1544.94 Q2317.6 1549.52 2311.79 1549.52 Q2305.98 1549.52 2302.9 1544.94 Q2299.84 1540.33 2299.84 1531.6 Q2299.84 1522.85 2302.9 1518.27 Q2305.98 1513.66 2311.79 1513.66 Z\" fill=\"#000000\" fill-rule=\"evenodd\" fill-opacity=\"1\" /><polyline clip-path=\"url(#clip182)\" style=\"stroke:#000000; stroke-linecap:round; stroke-linejoin:round; stroke-width:2; stroke-opacity:0.1; fill:none\" points=\"\n",
       "  112.177,1445.72 2352.76,1445.72 \n",
       "  \"/>\n",
       "<polyline clip-path=\"url(#clip182)\" style=\"stroke:#000000; stroke-linecap:round; stroke-linejoin:round; stroke-width:2; stroke-opacity:0.1; fill:none\" points=\"\n",
       "  112.177,1233.21 2352.76,1233.21 \n",
       "  \"/>\n",
       "<polyline clip-path=\"url(#clip182)\" style=\"stroke:#000000; stroke-linecap:round; stroke-linejoin:round; stroke-width:2; stroke-opacity:0.1; fill:none\" points=\"\n",
       "  112.177,1020.7 2352.76,1020.7 \n",
       "  \"/>\n",
       "<polyline clip-path=\"url(#clip182)\" style=\"stroke:#000000; stroke-linecap:round; stroke-linejoin:round; stroke-width:2; stroke-opacity:0.1; fill:none\" points=\"\n",
       "  112.177,808.185 2352.76,808.185 \n",
       "  \"/>\n",
       "<polyline clip-path=\"url(#clip182)\" style=\"stroke:#000000; stroke-linecap:round; stroke-linejoin:round; stroke-width:2; stroke-opacity:0.1; fill:none\" points=\"\n",
       "  112.177,595.675 2352.76,595.675 \n",
       "  \"/>\n",
       "<polyline clip-path=\"url(#clip182)\" style=\"stroke:#000000; stroke-linecap:round; stroke-linejoin:round; stroke-width:2; stroke-opacity:0.1; fill:none\" points=\"\n",
       "  112.177,383.165 2352.76,383.165 \n",
       "  \"/>\n",
       "<polyline clip-path=\"url(#clip182)\" style=\"stroke:#000000; stroke-linecap:round; stroke-linejoin:round; stroke-width:2; stroke-opacity:0.1; fill:none\" points=\"\n",
       "  112.177,170.655 2352.76,170.655 \n",
       "  \"/>\n",
       "<polyline clip-path=\"url(#clip180)\" style=\"stroke:#000000; stroke-linecap:round; stroke-linejoin:round; stroke-width:4; stroke-opacity:1; fill:none\" points=\"\n",
       "  112.177,1486.45 112.177,47.2441 \n",
       "  \"/>\n",
       "<polyline clip-path=\"url(#clip180)\" style=\"stroke:#000000; stroke-linecap:round; stroke-linejoin:round; stroke-width:4; stroke-opacity:1; fill:none\" points=\"\n",
       "  112.177,1445.72 131.075,1445.72 \n",
       "  \"/>\n",
       "<polyline clip-path=\"url(#clip180)\" style=\"stroke:#000000; stroke-linecap:round; stroke-linejoin:round; stroke-width:4; stroke-opacity:1; fill:none\" points=\"\n",
       "  112.177,1233.21 131.075,1233.21 \n",
       "  \"/>\n",
       "<polyline clip-path=\"url(#clip180)\" style=\"stroke:#000000; stroke-linecap:round; stroke-linejoin:round; stroke-width:4; stroke-opacity:1; fill:none\" points=\"\n",
       "  112.177,1020.7 131.075,1020.7 \n",
       "  \"/>\n",
       "<polyline clip-path=\"url(#clip180)\" style=\"stroke:#000000; stroke-linecap:round; stroke-linejoin:round; stroke-width:4; stroke-opacity:1; fill:none\" points=\"\n",
       "  112.177,808.185 131.075,808.185 \n",
       "  \"/>\n",
       "<polyline clip-path=\"url(#clip180)\" style=\"stroke:#000000; stroke-linecap:round; stroke-linejoin:round; stroke-width:4; stroke-opacity:1; fill:none\" points=\"\n",
       "  112.177,595.675 131.075,595.675 \n",
       "  \"/>\n",
       "<polyline clip-path=\"url(#clip180)\" style=\"stroke:#000000; stroke-linecap:round; stroke-linejoin:round; stroke-width:4; stroke-opacity:1; fill:none\" points=\"\n",
       "  112.177,383.165 131.075,383.165 \n",
       "  \"/>\n",
       "<polyline clip-path=\"url(#clip180)\" style=\"stroke:#000000; stroke-linecap:round; stroke-linejoin:round; stroke-width:4; stroke-opacity:1; fill:none\" points=\"\n",
       "  112.177,170.655 131.075,170.655 \n",
       "  \"/>\n",
       "<path clip-path=\"url(#clip180)\" d=\"M56.2699 1459.06 L63.9087 1459.06 L63.9087 1432.69 L55.5986 1434.36 L55.5986 1430.1 L63.8624 1428.44 L68.5383 1428.44 L68.5383 1459.06 L76.1772 1459.06 L76.1772 1463 L56.2699 1463 L56.2699 1459.06 Z\" fill=\"#000000\" fill-rule=\"evenodd\" fill-opacity=\"1\" /><path clip-path=\"url(#clip180)\" d=\"M59.8578 1246.55 L76.1772 1246.55 L76.1772 1250.49 L54.2328 1250.49 L54.2328 1246.55 Q56.8949 1243.8 61.4782 1239.17 Q66.0846 1234.51 67.2652 1233.17 Q69.5105 1230.65 70.3902 1228.91 Q71.2929 1227.15 71.2929 1225.46 Q71.2929 1222.71 69.3485 1220.97 Q67.4272 1219.24 64.3254 1219.24 Q62.1263 1219.24 59.6726 1220 Q57.2421 1220.76 54.4643 1222.31 L54.4643 1217.59 Q57.2884 1216.46 59.7421 1215.88 Q62.1958 1215.3 64.2328 1215.3 Q69.6031 1215.3 72.7976 1217.99 Q75.992 1220.67 75.992 1225.16 Q75.992 1227.29 75.1818 1229.21 Q74.3948 1231.11 72.2883 1233.7 Q71.7096 1234.37 68.6078 1237.59 Q65.5059 1240.79 59.8578 1246.55 Z\" fill=\"#000000\" fill-rule=\"evenodd\" fill-opacity=\"1\" /><path clip-path=\"url(#clip180)\" d=\"M69.0476 1019.34 Q72.404 1020.06 74.279 1022.33 Q76.1772 1024.6 76.1772 1027.93 Q76.1772 1033.04 72.6587 1035.85 Q69.1402 1038.65 62.6587 1038.65 Q60.4828 1038.65 58.168 1038.21 Q55.8764 1037.79 53.4227 1036.93 L53.4227 1032.42 Q55.3671 1033.55 57.6819 1034.13 Q59.9967 1034.71 62.5198 1034.71 Q66.918 1034.71 69.2096 1032.98 Q71.5244 1031.24 71.5244 1027.93 Q71.5244 1024.87 69.3717 1023.16 Q67.242 1021.42 63.4226 1021.42 L59.3949 1021.42 L59.3949 1017.58 L63.6078 1017.58 Q67.0569 1017.58 68.8855 1016.22 Q70.7142 1014.83 70.7142 1012.23 Q70.7142 1009.57 68.8161 1008.16 Q66.9411 1006.73 63.4226 1006.73 Q61.5013 1006.73 59.3023 1007.14 Q57.1032 1007.56 54.4643 1008.44 L54.4643 1004.27 Q57.1264 1003.53 59.4412 1003.16 Q61.7791 1002.79 63.8393 1002.79 Q69.1633 1002.79 72.2652 1005.22 Q75.367 1007.63 75.367 1011.75 Q75.367 1014.62 73.7235 1016.61 Q72.08 1018.58 69.0476 1019.34 Z\" fill=\"#000000\" fill-rule=\"evenodd\" fill-opacity=\"1\" /><path clip-path=\"url(#clip180)\" d=\"M66.5939 794.979 L54.7884 813.428 L66.5939 813.428 L66.5939 794.979 M65.367 790.905 L71.2466 790.905 L71.2466 813.428 L76.1772 813.428 L76.1772 817.317 L71.2466 817.317 L71.2466 825.465 L66.5939 825.465 L66.5939 817.317 L50.9921 817.317 L50.9921 812.803 L65.367 790.905 Z\" fill=\"#000000\" fill-rule=\"evenodd\" fill-opacity=\"1\" /><path clip-path=\"url(#clip180)\" d=\"M55.2745 578.395 L73.6309 578.395 L73.6309 582.33 L59.5569 582.33 L59.5569 590.802 Q60.5754 590.455 61.5939 590.293 Q62.6124 590.108 63.6309 590.108 Q69.418 590.108 72.7976 593.279 Q76.1772 596.45 76.1772 601.867 Q76.1772 607.446 72.705 610.548 Q69.2328 613.626 62.9134 613.626 Q60.7374 613.626 58.4689 613.256 Q56.2236 612.886 53.8162 612.145 L53.8162 607.446 Q55.8995 608.58 58.1217 609.136 Q60.3439 609.691 62.8208 609.691 Q66.8254 609.691 69.1633 607.585 Q71.5013 605.478 71.5013 601.867 Q71.5013 598.256 69.1633 596.15 Q66.8254 594.043 62.8208 594.043 Q60.9458 594.043 59.0708 594.46 Q57.2189 594.876 55.2745 595.756 L55.2745 578.395 Z\" fill=\"#000000\" fill-rule=\"evenodd\" fill-opacity=\"1\" /><path clip-path=\"url(#clip180)\" d=\"M64.6495 381.301 Q61.5013 381.301 59.6495 383.454 Q57.8208 385.607 57.8208 389.357 Q57.8208 393.084 59.6495 395.26 Q61.5013 397.412 64.6495 397.412 Q67.7976 397.412 69.6263 395.26 Q71.4781 393.084 71.4781 389.357 Q71.4781 385.607 69.6263 383.454 Q67.7976 381.301 64.6495 381.301 M73.9318 366.649 L73.9318 370.908 Q72.1726 370.075 70.367 369.635 Q68.5846 369.195 66.8254 369.195 Q62.1958 369.195 59.7421 372.32 Q57.3115 375.445 56.9643 381.764 Q58.33 379.75 60.3902 378.686 Q62.4504 377.598 64.9272 377.598 Q70.1355 377.598 73.1448 380.769 Q76.1772 383.917 76.1772 389.357 Q76.1772 394.681 73.029 397.899 Q69.8809 401.116 64.6495 401.116 Q58.6541 401.116 55.4828 396.533 Q52.3116 391.926 52.3116 383.2 Q52.3116 375.005 56.2004 370.144 Q60.0893 365.26 66.6402 365.26 Q68.3994 365.26 70.1818 365.607 Q71.9874 365.954 73.9318 366.649 Z\" fill=\"#000000\" fill-rule=\"evenodd\" fill-opacity=\"1\" /><path clip-path=\"url(#clip180)\" d=\"M53.9551 153.375 L76.1772 153.375 L76.1772 155.365 L63.6309 187.935 L58.7467 187.935 L70.5522 157.31 L53.9551 157.31 L53.9551 153.375 Z\" fill=\"#000000\" fill-rule=\"evenodd\" fill-opacity=\"1\" /><polyline clip-path=\"url(#clip182)\" style=\"stroke:#009af9; stroke-linecap:round; stroke-linejoin:round; stroke-width:4; stroke-opacity:1; fill:none\" points=\"\n",
       "  175.59,87.9763 179.03,93.0796 182.471,98.1663 185.911,103.236 189.351,108.29 221.163,154.248 252.975,198.842 284.786,242.115 316.598,284.104 354.833,332.928 \n",
       "  393.068,380.017 425.395,418.522 457.722,455.867 492.839,495.161 527.955,533.171 560.329,567.111 592.704,600.027 627.412,634.215 662.121,667.298 702.334,704.294 \n",
       "  742.547,739.908 778.284,770.441 814.021,799.958 845.359,825.033 876.697,849.376 945.031,900.018 1013.77,947.763 1089.77,997.059 1162.08,1040.78 1237.27,1083.18 \n",
       "  1300.56,1116.61 1377.84,1154.8 1448.62,1187.41 1514,1215.65 1580.23,1242.53 1654.45,1270.72 1721.7,1294.62 1798.7,1320.17 1870,1342.22 1940.29,1362.55 \n",
       "  2008.54,1381.04 2078.5,1398.8 2155.15,1416.95 2266.5,1441.07 2289.34,1445.72 \n",
       "  \"/>\n",
       "<path clip-path=\"url(#clip180)\" d=\"\n",
       "M2001.58 198.898 L2278.07 198.898 L2278.07 95.2176 L2001.58 95.2176  Z\n",
       "  \" fill=\"#ffffff\" fill-rule=\"evenodd\" fill-opacity=\"1\"/>\n",
       "<polyline clip-path=\"url(#clip180)\" style=\"stroke:#000000; stroke-linecap:round; stroke-linejoin:round; stroke-width:4; stroke-opacity:1; fill:none\" points=\"\n",
       "  2001.58,198.898 2278.07,198.898 2278.07,95.2176 2001.58,95.2176 2001.58,198.898 \n",
       "  \"/>\n",
       "<polyline clip-path=\"url(#clip180)\" style=\"stroke:#009af9; stroke-linecap:round; stroke-linejoin:round; stroke-width:4; stroke-opacity:1; fill:none\" points=\"\n",
       "  2026.48,147.058 2175.85,147.058 \n",
       "  \"/>\n",
       "<path clip-path=\"url(#clip180)\" d=\"M2214.59 166.745 Q2212.78 171.375 2211.07 172.787 Q2209.36 174.199 2206.49 174.199 L2203.08 174.199 L2203.08 170.634 L2205.58 170.634 Q2207.34 170.634 2208.31 169.8 Q2209.29 168.967 2210.47 165.865 L2211.23 163.921 L2200.74 138.412 L2205.26 138.412 L2213.36 158.689 L2221.46 138.412 L2225.98 138.412 L2214.59 166.745 Z\" fill=\"#000000\" fill-rule=\"evenodd\" fill-opacity=\"1\" /><path clip-path=\"url(#clip180)\" d=\"M2233.27 160.402 L2240.91 160.402 L2240.91 134.037 L2232.6 135.703 L2232.6 131.444 L2240.86 129.778 L2245.54 129.778 L2245.54 160.402 L2253.17 160.402 L2253.17 164.338 L2233.27 164.338 L2233.27 160.402 Z\" fill=\"#000000\" fill-rule=\"evenodd\" fill-opacity=\"1\" /></svg>\n"
      ]
     },
     "execution_count": 22,
     "metadata": {},
     "output_type": "execute_result"
    }
   ],
   "source": [
    "plot(d) # uses the generic code!"
   ]
  },
  {
   "attachments": {},
   "cell_type": "markdown",
   "id": "c0acea9a",
   "metadata": {},
   "source": [
    "A few things to point out\n",
    "\n",
    "- Even if it worked for `StatsPlots`, our implementation is incomplete, as we haven’t fulfilled all of the requirements of a `Distribution`.  \n",
    "- We also did not implement the `rand` function, which means we are breaking the implicit contract of the `Sampleable` abstract type.  \n",
    "- It turns out that there is a better way to do this precise thing already built into `Distributions`.  "
   ]
  },
  {
   "cell_type": "code",
   "execution_count": 23,
   "id": "a5c298bc",
   "metadata": {
    "hide-output": false
   },
   "outputs": [
    {
     "name": "stdout",
     "output_type": "stream",
     "text": [
      "typeof(d) = Truncated{Exponential{Float64}, Continuous, Float64}\n"
     ]
    },
    {
     "data": {
      "image/svg+xml": [
       "<?xml version=\"1.0\" encoding=\"utf-8\"?>\n",
       "<svg xmlns=\"http://www.w3.org/2000/svg\" xmlns:xlink=\"http://www.w3.org/1999/xlink\" width=\"600\" height=\"400\" viewBox=\"0 0 2400 1600\">\n",
       "<defs>\n",
       "  <clipPath id=\"clip220\">\n",
       "    <rect x=\"0\" y=\"0\" width=\"2400\" height=\"1600\"/>\n",
       "  </clipPath>\n",
       "</defs>\n",
       "<path clip-path=\"url(#clip220)\" d=\"\n",
       "M0 1600 L2400 1600 L2400 0 L0 0  Z\n",
       "  \" fill=\"#ffffff\" fill-rule=\"evenodd\" fill-opacity=\"1\"/>\n",
       "<defs>\n",
       "  <clipPath id=\"clip221\">\n",
       "    <rect x=\"480\" y=\"0\" width=\"1681\" height=\"1600\"/>\n",
       "  </clipPath>\n",
       "</defs>\n",
       "<path clip-path=\"url(#clip220)\" d=\"\n",
       "M184.191 1486.45 L2352.76 1486.45 L2352.76 47.2441 L184.191 47.2441  Z\n",
       "  \" fill=\"#ffffff\" fill-rule=\"evenodd\" fill-opacity=\"1\"/>\n",
       "<defs>\n",
       "  <clipPath id=\"clip222\">\n",
       "    <rect x=\"184\" y=\"47\" width=\"2170\" height=\"1440\"/>\n",
       "  </clipPath>\n",
       "</defs>\n",
       "<polyline clip-path=\"url(#clip222)\" style=\"stroke:#000000; stroke-linecap:round; stroke-linejoin:round; stroke-width:2; stroke-opacity:0.1; fill:none\" points=\"\n",
       "  245.565,1486.45 245.565,47.2441 \n",
       "  \"/>\n",
       "<polyline clip-path=\"url(#clip222)\" style=\"stroke:#000000; stroke-linecap:round; stroke-linejoin:round; stroke-width:2; stroke-opacity:0.1; fill:none\" points=\"\n",
       "  757.019,1486.45 757.019,47.2441 \n",
       "  \"/>\n",
       "<polyline clip-path=\"url(#clip222)\" style=\"stroke:#000000; stroke-linecap:round; stroke-linejoin:round; stroke-width:2; stroke-opacity:0.1; fill:none\" points=\"\n",
       "  1268.47,1486.45 1268.47,47.2441 \n",
       "  \"/>\n",
       "<polyline clip-path=\"url(#clip222)\" style=\"stroke:#000000; stroke-linecap:round; stroke-linejoin:round; stroke-width:2; stroke-opacity:0.1; fill:none\" points=\"\n",
       "  1779.93,1486.45 1779.93,47.2441 \n",
       "  \"/>\n",
       "<polyline clip-path=\"url(#clip222)\" style=\"stroke:#000000; stroke-linecap:round; stroke-linejoin:round; stroke-width:2; stroke-opacity:0.1; fill:none\" points=\"\n",
       "  2291.38,1486.45 2291.38,47.2441 \n",
       "  \"/>\n",
       "<polyline clip-path=\"url(#clip220)\" style=\"stroke:#000000; stroke-linecap:round; stroke-linejoin:round; stroke-width:4; stroke-opacity:1; fill:none\" points=\"\n",
       "  184.191,1486.45 2352.76,1486.45 \n",
       "  \"/>\n",
       "<polyline clip-path=\"url(#clip220)\" style=\"stroke:#000000; stroke-linecap:round; stroke-linejoin:round; stroke-width:4; stroke-opacity:1; fill:none\" points=\"\n",
       "  245.565,1486.45 245.565,1467.55 \n",
       "  \"/>\n",
       "<polyline clip-path=\"url(#clip220)\" style=\"stroke:#000000; stroke-linecap:round; stroke-linejoin:round; stroke-width:4; stroke-opacity:1; fill:none\" points=\"\n",
       "  757.019,1486.45 757.019,1467.55 \n",
       "  \"/>\n",
       "<polyline clip-path=\"url(#clip220)\" style=\"stroke:#000000; stroke-linecap:round; stroke-linejoin:round; stroke-width:4; stroke-opacity:1; fill:none\" points=\"\n",
       "  1268.47,1486.45 1268.47,1467.55 \n",
       "  \"/>\n",
       "<polyline clip-path=\"url(#clip220)\" style=\"stroke:#000000; stroke-linecap:round; stroke-linejoin:round; stroke-width:4; stroke-opacity:1; fill:none\" points=\"\n",
       "  1779.93,1486.45 1779.93,1467.55 \n",
       "  \"/>\n",
       "<polyline clip-path=\"url(#clip220)\" style=\"stroke:#000000; stroke-linecap:round; stroke-linejoin:round; stroke-width:4; stroke-opacity:1; fill:none\" points=\"\n",
       "  2291.38,1486.45 2291.38,1467.55 \n",
       "  \"/>\n",
       "<path clip-path=\"url(#clip220)\" d=\"M222.95 1517.37 Q219.338 1517.37 217.51 1520.93 Q215.704 1524.47 215.704 1531.6 Q215.704 1538.71 217.51 1542.27 Q219.338 1545.82 222.95 1545.82 Q226.584 1545.82 228.389 1542.27 Q230.218 1538.71 230.218 1531.6 Q230.218 1524.47 228.389 1520.93 Q226.584 1517.37 222.95 1517.37 M222.95 1513.66 Q228.76 1513.66 231.815 1518.27 Q234.894 1522.85 234.894 1531.6 Q234.894 1540.33 231.815 1544.94 Q228.76 1549.52 222.95 1549.52 Q217.139 1549.52 214.061 1544.94 Q211.005 1540.33 211.005 1531.6 Q211.005 1522.85 214.061 1518.27 Q217.139 1513.66 222.95 1513.66 Z\" fill=\"#000000\" fill-rule=\"evenodd\" fill-opacity=\"1\" /><path clip-path=\"url(#clip220)\" d=\"M243.111 1542.97 L247.996 1542.97 L247.996 1548.85 L243.111 1548.85 L243.111 1542.97 Z\" fill=\"#000000\" fill-rule=\"evenodd\" fill-opacity=\"1\" /><path clip-path=\"url(#clip220)\" d=\"M268.181 1517.37 Q264.57 1517.37 262.741 1520.93 Q260.935 1524.47 260.935 1531.6 Q260.935 1538.71 262.741 1542.27 Q264.57 1545.82 268.181 1545.82 Q271.815 1545.82 273.621 1542.27 Q275.449 1538.71 275.449 1531.6 Q275.449 1524.47 273.621 1520.93 Q271.815 1517.37 268.181 1517.37 M268.181 1513.66 Q273.991 1513.66 277.046 1518.27 Q280.125 1522.85 280.125 1531.6 Q280.125 1540.33 277.046 1544.94 Q273.991 1549.52 268.181 1549.52 Q262.371 1549.52 259.292 1544.94 Q256.236 1540.33 256.236 1531.6 Q256.236 1522.85 259.292 1518.27 Q262.371 1513.66 268.181 1513.66 Z\" fill=\"#000000\" fill-rule=\"evenodd\" fill-opacity=\"1\" /><path clip-path=\"url(#clip220)\" d=\"M734.901 1517.37 Q731.29 1517.37 729.462 1520.93 Q727.656 1524.47 727.656 1531.6 Q727.656 1538.71 729.462 1542.27 Q731.29 1545.82 734.901 1545.82 Q738.536 1545.82 740.341 1542.27 Q742.17 1538.71 742.17 1531.6 Q742.17 1524.47 740.341 1520.93 Q738.536 1517.37 734.901 1517.37 M734.901 1513.66 Q740.711 1513.66 743.767 1518.27 Q746.846 1522.85 746.846 1531.6 Q746.846 1540.33 743.767 1544.94 Q740.711 1549.52 734.901 1549.52 Q729.091 1549.52 726.012 1544.94 Q722.957 1540.33 722.957 1531.6 Q722.957 1522.85 726.012 1518.27 Q729.091 1513.66 734.901 1513.66 Z\" fill=\"#000000\" fill-rule=\"evenodd\" fill-opacity=\"1\" /><path clip-path=\"url(#clip220)\" d=\"M755.063 1542.97 L759.947 1542.97 L759.947 1548.85 L755.063 1548.85 L755.063 1542.97 Z\" fill=\"#000000\" fill-rule=\"evenodd\" fill-opacity=\"1\" /><path clip-path=\"url(#clip220)\" d=\"M770.179 1514.29 L788.535 1514.29 L788.535 1518.22 L774.461 1518.22 L774.461 1526.7 Q775.48 1526.35 776.498 1526.19 Q777.517 1526 778.535 1526 Q784.322 1526 787.702 1529.17 Q791.082 1532.34 791.082 1537.76 Q791.082 1543.34 787.609 1546.44 Q784.137 1549.52 777.818 1549.52 Q775.642 1549.52 773.373 1549.15 Q771.128 1548.78 768.721 1548.04 L768.721 1543.34 Q770.804 1544.47 773.026 1545.03 Q775.248 1545.58 777.725 1545.58 Q781.73 1545.58 784.068 1543.48 Q786.406 1541.37 786.406 1537.76 Q786.406 1534.15 784.068 1532.04 Q781.73 1529.94 777.725 1529.94 Q775.85 1529.94 773.975 1530.35 Q772.123 1530.77 770.179 1531.65 L770.179 1514.29 Z\" fill=\"#000000\" fill-rule=\"evenodd\" fill-opacity=\"1\" /><path clip-path=\"url(#clip220)\" d=\"M1235.63 1544.91 L1243.27 1544.91 L1243.27 1518.55 L1234.95 1520.21 L1234.95 1515.95 L1243.22 1514.29 L1247.89 1514.29 L1247.89 1544.91 L1255.53 1544.91 L1255.53 1548.85 L1235.63 1548.85 L1235.63 1544.91 Z\" fill=\"#000000\" fill-rule=\"evenodd\" fill-opacity=\"1\" /><path clip-path=\"url(#clip220)\" d=\"M1264.98 1542.97 L1269.86 1542.97 L1269.86 1548.85 L1264.98 1548.85 L1264.98 1542.97 Z\" fill=\"#000000\" fill-rule=\"evenodd\" fill-opacity=\"1\" /><path clip-path=\"url(#clip220)\" d=\"M1290.05 1517.37 Q1286.44 1517.37 1284.61 1520.93 Q1282.8 1524.47 1282.8 1531.6 Q1282.8 1538.71 1284.61 1542.27 Q1286.44 1545.82 1290.05 1545.82 Q1293.68 1545.82 1295.49 1542.27 Q1297.32 1538.71 1297.32 1531.6 Q1297.32 1524.47 1295.49 1520.93 Q1293.68 1517.37 1290.05 1517.37 M1290.05 1513.66 Q1295.86 1513.66 1298.91 1518.27 Q1301.99 1522.85 1301.99 1531.6 Q1301.99 1540.33 1298.91 1544.94 Q1295.86 1549.52 1290.05 1549.52 Q1284.24 1549.52 1281.16 1544.94 Q1278.1 1540.33 1278.1 1531.6 Q1278.1 1522.85 1281.16 1518.27 Q1284.24 1513.66 1290.05 1513.66 Z\" fill=\"#000000\" fill-rule=\"evenodd\" fill-opacity=\"1\" /><path clip-path=\"url(#clip220)\" d=\"M1747.58 1544.91 L1755.22 1544.91 L1755.22 1518.55 L1746.91 1520.21 L1746.91 1515.95 L1755.17 1514.29 L1759.85 1514.29 L1759.85 1544.91 L1767.49 1544.91 L1767.49 1548.85 L1747.58 1548.85 L1747.58 1544.91 Z\" fill=\"#000000\" fill-rule=\"evenodd\" fill-opacity=\"1\" /><path clip-path=\"url(#clip220)\" d=\"M1776.93 1542.97 L1781.81 1542.97 L1781.81 1548.85 L1776.93 1548.85 L1776.93 1542.97 Z\" fill=\"#000000\" fill-rule=\"evenodd\" fill-opacity=\"1\" /><path clip-path=\"url(#clip220)\" d=\"M1792.05 1514.29 L1810.4 1514.29 L1810.4 1518.22 L1796.33 1518.22 L1796.33 1526.7 Q1797.35 1526.35 1798.36 1526.19 Q1799.38 1526 1800.4 1526 Q1806.19 1526 1809.57 1529.17 Q1812.95 1532.34 1812.95 1537.76 Q1812.95 1543.34 1809.48 1546.44 Q1806 1549.52 1799.68 1549.52 Q1797.51 1549.52 1795.24 1549.15 Q1792.99 1548.78 1790.59 1548.04 L1790.59 1543.34 Q1792.67 1544.47 1794.89 1545.03 Q1797.11 1545.58 1799.59 1545.58 Q1803.6 1545.58 1805.93 1543.48 Q1808.27 1541.37 1808.27 1537.76 Q1808.27 1534.15 1805.93 1532.04 Q1803.6 1529.94 1799.59 1529.94 Q1797.72 1529.94 1795.84 1530.35 Q1793.99 1530.77 1792.05 1531.65 L1792.05 1514.29 Z\" fill=\"#000000\" fill-rule=\"evenodd\" fill-opacity=\"1\" /><path clip-path=\"url(#clip220)\" d=\"M2262.62 1544.91 L2278.94 1544.91 L2278.94 1548.85 L2257 1548.85 L2257 1544.91 Q2259.66 1542.16 2264.24 1537.53 Q2268.85 1532.88 2270.03 1531.53 Q2272.27 1529.01 2273.15 1527.27 Q2274.06 1525.51 2274.06 1523.82 Q2274.06 1521.07 2272.11 1519.33 Q2270.19 1517.6 2267.09 1517.6 Q2264.89 1517.6 2262.43 1518.36 Q2260 1519.13 2257.23 1520.68 L2257.23 1515.95 Q2260.05 1514.82 2262.5 1514.24 Q2264.96 1513.66 2266.99 1513.66 Q2272.37 1513.66 2275.56 1516.35 Q2278.75 1519.03 2278.75 1523.52 Q2278.75 1525.65 2277.94 1527.57 Q2277.16 1529.47 2275.05 1532.07 Q2274.47 1532.74 2271.37 1535.95 Q2268.27 1539.15 2262.62 1544.91 Z\" fill=\"#000000\" fill-rule=\"evenodd\" fill-opacity=\"1\" /><path clip-path=\"url(#clip220)\" d=\"M2288.75 1542.97 L2293.64 1542.97 L2293.64 1548.85 L2288.75 1548.85 L2288.75 1542.97 Z\" fill=\"#000000\" fill-rule=\"evenodd\" fill-opacity=\"1\" /><path clip-path=\"url(#clip220)\" d=\"M2313.82 1517.37 Q2310.21 1517.37 2308.38 1520.93 Q2306.58 1524.47 2306.58 1531.6 Q2306.58 1538.71 2308.38 1542.27 Q2310.21 1545.82 2313.82 1545.82 Q2317.46 1545.82 2319.26 1542.27 Q2321.09 1538.71 2321.09 1531.6 Q2321.09 1524.47 2319.26 1520.93 Q2317.46 1517.37 2313.82 1517.37 M2313.82 1513.66 Q2319.63 1513.66 2322.69 1518.27 Q2325.77 1522.85 2325.77 1531.6 Q2325.77 1540.33 2322.69 1544.94 Q2319.63 1549.52 2313.82 1549.52 Q2308.01 1549.52 2304.93 1544.94 Q2301.88 1540.33 2301.88 1531.6 Q2301.88 1522.85 2304.93 1518.27 Q2308.01 1513.66 2313.82 1513.66 Z\" fill=\"#000000\" fill-rule=\"evenodd\" fill-opacity=\"1\" /><polyline clip-path=\"url(#clip222)\" style=\"stroke:#000000; stroke-linecap:round; stroke-linejoin:round; stroke-width:2; stroke-opacity:0.1; fill:none\" points=\"\n",
       "  184.191,1445.72 2352.76,1445.72 \n",
       "  \"/>\n",
       "<polyline clip-path=\"url(#clip222)\" style=\"stroke:#000000; stroke-linecap:round; stroke-linejoin:round; stroke-width:2; stroke-opacity:0.1; fill:none\" points=\"\n",
       "  184.191,1106.28 2352.76,1106.28 \n",
       "  \"/>\n",
       "<polyline clip-path=\"url(#clip222)\" style=\"stroke:#000000; stroke-linecap:round; stroke-linejoin:round; stroke-width:2; stroke-opacity:0.1; fill:none\" points=\"\n",
       "  184.191,766.846 2352.76,766.846 \n",
       "  \"/>\n",
       "<polyline clip-path=\"url(#clip222)\" style=\"stroke:#000000; stroke-linecap:round; stroke-linejoin:round; stroke-width:2; stroke-opacity:0.1; fill:none\" points=\"\n",
       "  184.191,427.411 2352.76,427.411 \n",
       "  \"/>\n",
       "<polyline clip-path=\"url(#clip222)\" style=\"stroke:#000000; stroke-linecap:round; stroke-linejoin:round; stroke-width:2; stroke-opacity:0.1; fill:none\" points=\"\n",
       "  184.191,87.9763 2352.76,87.9763 \n",
       "  \"/>\n",
       "<polyline clip-path=\"url(#clip220)\" style=\"stroke:#000000; stroke-linecap:round; stroke-linejoin:round; stroke-width:4; stroke-opacity:1; fill:none\" points=\"\n",
       "  184.191,1486.45 184.191,47.2441 \n",
       "  \"/>\n",
       "<polyline clip-path=\"url(#clip220)\" style=\"stroke:#000000; stroke-linecap:round; stroke-linejoin:round; stroke-width:4; stroke-opacity:1; fill:none\" points=\"\n",
       "  184.191,1445.72 203.088,1445.72 \n",
       "  \"/>\n",
       "<polyline clip-path=\"url(#clip220)\" style=\"stroke:#000000; stroke-linecap:round; stroke-linejoin:round; stroke-width:4; stroke-opacity:1; fill:none\" points=\"\n",
       "  184.191,1106.28 203.088,1106.28 \n",
       "  \"/>\n",
       "<polyline clip-path=\"url(#clip220)\" style=\"stroke:#000000; stroke-linecap:round; stroke-linejoin:round; stroke-width:4; stroke-opacity:1; fill:none\" points=\"\n",
       "  184.191,766.846 203.088,766.846 \n",
       "  \"/>\n",
       "<polyline clip-path=\"url(#clip220)\" style=\"stroke:#000000; stroke-linecap:round; stroke-linejoin:round; stroke-width:4; stroke-opacity:1; fill:none\" points=\"\n",
       "  184.191,427.411 203.088,427.411 \n",
       "  \"/>\n",
       "<polyline clip-path=\"url(#clip220)\" style=\"stroke:#000000; stroke-linecap:round; stroke-linejoin:round; stroke-width:4; stroke-opacity:1; fill:none\" points=\"\n",
       "  184.191,87.9763 203.088,87.9763 \n",
       "  \"/>\n",
       "<path clip-path=\"url(#clip220)\" d=\"M91.0151 1431.51 Q87.404 1431.51 85.5753 1435.08 Q83.7697 1438.62 83.7697 1445.75 Q83.7697 1452.86 85.5753 1456.42 Q87.404 1459.96 91.0151 1459.96 Q94.6493 1459.96 96.4548 1456.42 Q98.2835 1452.86 98.2835 1445.75 Q98.2835 1438.62 96.4548 1435.08 Q94.6493 1431.51 91.0151 1431.51 M91.0151 1427.81 Q96.8252 1427.81 99.8808 1432.42 Q102.959 1437 102.959 1445.75 Q102.959 1454.48 99.8808 1459.08 Q96.8252 1463.67 91.0151 1463.67 Q85.2049 1463.67 82.1262 1459.08 Q79.0707 1454.48 79.0707 1445.75 Q79.0707 1437 82.1262 1432.42 Q85.2049 1427.81 91.0151 1427.81 Z\" fill=\"#000000\" fill-rule=\"evenodd\" fill-opacity=\"1\" /><path clip-path=\"url(#clip220)\" d=\"M111.177 1457.12 L116.061 1457.12 L116.061 1463 L111.177 1463 L111.177 1457.12 Z\" fill=\"#000000\" fill-rule=\"evenodd\" fill-opacity=\"1\" /><path clip-path=\"url(#clip220)\" d=\"M136.246 1431.51 Q132.635 1431.51 130.807 1435.08 Q129.001 1438.62 129.001 1445.75 Q129.001 1452.86 130.807 1456.42 Q132.635 1459.96 136.246 1459.96 Q139.881 1459.96 141.686 1456.42 Q143.515 1452.86 143.515 1445.75 Q143.515 1438.62 141.686 1435.08 Q139.881 1431.51 136.246 1431.51 M136.246 1427.81 Q142.056 1427.81 145.112 1432.42 Q148.191 1437 148.191 1445.75 Q148.191 1454.48 145.112 1459.08 Q142.056 1463.67 136.246 1463.67 Q130.436 1463.67 127.357 1459.08 Q124.302 1454.48 124.302 1445.75 Q124.302 1437 127.357 1432.42 Q130.436 1427.81 136.246 1427.81 Z\" fill=\"#000000\" fill-rule=\"evenodd\" fill-opacity=\"1\" /><path clip-path=\"url(#clip220)\" d=\"M86.0382 1119.63 L102.358 1119.63 L102.358 1123.56 L80.4133 1123.56 L80.4133 1119.63 Q83.0753 1116.87 87.6586 1112.24 Q92.2651 1107.59 93.4456 1106.25 Q95.691 1103.72 96.5706 1101.99 Q97.4734 1100.23 97.4734 1098.54 Q97.4734 1095.78 95.5289 1094.05 Q93.6076 1092.31 90.5058 1092.31 Q88.3067 1092.31 85.8531 1093.07 Q83.4225 1093.84 80.6447 1095.39 L80.6447 1090.67 Q83.4688 1089.53 85.9225 1088.95 Q88.3762 1088.38 90.4132 1088.38 Q95.7836 1088.38 98.978 1091.06 Q102.172 1093.75 102.172 1098.24 Q102.172 1100.37 101.362 1102.29 Q100.575 1104.19 98.4687 1106.78 Q97.89 1107.45 94.7882 1110.67 Q91.6864 1113.86 86.0382 1119.63 Z\" fill=\"#000000\" fill-rule=\"evenodd\" fill-opacity=\"1\" /><path clip-path=\"url(#clip220)\" d=\"M112.172 1117.68 L117.057 1117.68 L117.057 1123.56 L112.172 1123.56 L112.172 1117.68 Z\" fill=\"#000000\" fill-rule=\"evenodd\" fill-opacity=\"1\" /><path clip-path=\"url(#clip220)\" d=\"M127.288 1089 L145.644 1089 L145.644 1092.94 L131.57 1092.94 L131.57 1101.41 Q132.589 1101.06 133.607 1100.9 Q134.626 1100.71 135.644 1100.71 Q141.431 1100.71 144.811 1103.89 Q148.191 1107.06 148.191 1112.47 Q148.191 1118.05 144.718 1121.15 Q141.246 1124.23 134.927 1124.23 Q132.751 1124.23 130.482 1123.86 Q128.237 1123.49 125.83 1122.75 L125.83 1118.05 Q127.913 1119.19 130.135 1119.74 Q132.357 1120.3 134.834 1120.3 Q138.839 1120.3 141.177 1118.19 Q143.515 1116.08 143.515 1112.47 Q143.515 1108.86 141.177 1106.76 Q138.839 1104.65 134.834 1104.65 Q132.959 1104.65 131.084 1105.07 Q129.232 1105.48 127.288 1106.36 L127.288 1089 Z\" fill=\"#000000\" fill-rule=\"evenodd\" fill-opacity=\"1\" /><path clip-path=\"url(#clip220)\" d=\"M81.0614 749.566 L99.4178 749.566 L99.4178 753.501 L85.3438 753.501 L85.3438 761.973 Q86.3623 761.626 87.3808 761.464 Q88.3993 761.279 89.4178 761.279 Q95.2049 761.279 98.5845 764.45 Q101.964 767.621 101.964 773.038 Q101.964 778.617 98.4919 781.719 Q95.0197 784.797 88.7003 784.797 Q86.5243 784.797 84.2558 784.427 Q82.0105 784.057 79.6031 783.316 L79.6031 778.617 Q81.6864 779.751 83.9086 780.307 Q86.1308 780.862 88.6077 780.862 Q92.6123 780.862 94.9502 778.756 Q97.2882 776.649 97.2882 773.038 Q97.2882 769.427 94.9502 767.321 Q92.6123 765.214 88.6077 765.214 Q86.7327 765.214 84.8577 765.631 Q83.0058 766.047 81.0614 766.927 L81.0614 749.566 Z\" fill=\"#000000\" fill-rule=\"evenodd\" fill-opacity=\"1\" /><path clip-path=\"url(#clip220)\" d=\"M111.177 778.246 L116.061 778.246 L116.061 784.126 L111.177 784.126 L111.177 778.246 Z\" fill=\"#000000\" fill-rule=\"evenodd\" fill-opacity=\"1\" /><path clip-path=\"url(#clip220)\" d=\"M136.246 752.645 Q132.635 752.645 130.807 756.209 Q129.001 759.751 129.001 766.881 Q129.001 773.987 130.807 777.552 Q132.635 781.094 136.246 781.094 Q139.881 781.094 141.686 777.552 Q143.515 773.987 143.515 766.881 Q143.515 759.751 141.686 756.209 Q139.881 752.645 136.246 752.645 M136.246 748.941 Q142.056 748.941 145.112 753.547 Q148.191 758.131 148.191 766.881 Q148.191 775.608 145.112 780.214 Q142.056 784.797 136.246 784.797 Q130.436 784.797 127.357 780.214 Q124.302 775.608 124.302 766.881 Q124.302 758.131 127.357 753.547 Q130.436 748.941 136.246 748.941 Z\" fill=\"#000000\" fill-rule=\"evenodd\" fill-opacity=\"1\" /><path clip-path=\"url(#clip220)\" d=\"M80.8299 410.131 L103.052 410.131 L103.052 412.122 L90.5058 444.691 L85.6216 444.691 L97.4271 414.066 L80.8299 414.066 L80.8299 410.131 Z\" fill=\"#000000\" fill-rule=\"evenodd\" fill-opacity=\"1\" /><path clip-path=\"url(#clip220)\" d=\"M112.172 438.812 L117.057 438.812 L117.057 444.691 L112.172 444.691 L112.172 438.812 Z\" fill=\"#000000\" fill-rule=\"evenodd\" fill-opacity=\"1\" /><path clip-path=\"url(#clip220)\" d=\"M127.288 410.131 L145.644 410.131 L145.644 414.066 L131.57 414.066 L131.57 422.538 Q132.589 422.191 133.607 422.029 Q134.626 421.844 135.644 421.844 Q141.431 421.844 144.811 425.015 Q148.191 428.187 148.191 433.603 Q148.191 439.182 144.718 442.284 Q141.246 445.362 134.927 445.362 Q132.751 445.362 130.482 444.992 Q128.237 444.622 125.83 443.881 L125.83 439.182 Q127.913 440.316 130.135 440.872 Q132.357 441.427 134.834 441.427 Q138.839 441.427 141.177 439.321 Q143.515 437.214 143.515 433.603 Q143.515 429.992 141.177 427.886 Q138.839 425.779 134.834 425.779 Q132.959 425.779 131.084 426.196 Q129.232 426.613 127.288 427.492 L127.288 410.131 Z\" fill=\"#000000\" fill-rule=\"evenodd\" fill-opacity=\"1\" /><path clip-path=\"url(#clip220)\" d=\"M51.6634 101.321 L59.3023 101.321 L59.3023 74.9555 L50.9921 76.6222 L50.9921 72.3629 L59.256 70.6963 L63.9319 70.6963 L63.9319 101.321 L71.5707 101.321 L71.5707 105.256 L51.6634 105.256 L51.6634 101.321 Z\" fill=\"#000000\" fill-rule=\"evenodd\" fill-opacity=\"1\" /><path clip-path=\"url(#clip220)\" d=\"M91.0151 73.775 Q87.404 73.775 85.5753 77.3398 Q83.7697 80.8814 83.7697 88.011 Q83.7697 95.1174 85.5753 98.6822 Q87.404 102.224 91.0151 102.224 Q94.6493 102.224 96.4548 98.6822 Q98.2835 95.1174 98.2835 88.011 Q98.2835 80.8814 96.4548 77.3398 Q94.6493 73.775 91.0151 73.775 M91.0151 70.0713 Q96.8252 70.0713 99.8808 74.6777 Q102.959 79.261 102.959 88.011 Q102.959 96.7378 99.8808 101.344 Q96.8252 105.928 91.0151 105.928 Q85.2049 105.928 82.1262 101.344 Q79.0707 96.7378 79.0707 88.011 Q79.0707 79.261 82.1262 74.6777 Q85.2049 70.0713 91.0151 70.0713 Z\" fill=\"#000000\" fill-rule=\"evenodd\" fill-opacity=\"1\" /><path clip-path=\"url(#clip220)\" d=\"M111.177 99.3767 L116.061 99.3767 L116.061 105.256 L111.177 105.256 L111.177 99.3767 Z\" fill=\"#000000\" fill-rule=\"evenodd\" fill-opacity=\"1\" /><path clip-path=\"url(#clip220)\" d=\"M136.246 73.775 Q132.635 73.775 130.807 77.3398 Q129.001 80.8814 129.001 88.011 Q129.001 95.1174 130.807 98.6822 Q132.635 102.224 136.246 102.224 Q139.881 102.224 141.686 98.6822 Q143.515 95.1174 143.515 88.011 Q143.515 80.8814 141.686 77.3398 Q139.881 73.775 136.246 73.775 M136.246 70.0713 Q142.056 70.0713 145.112 74.6777 Q148.191 79.261 148.191 88.011 Q148.191 96.7378 145.112 101.344 Q142.056 105.928 136.246 105.928 Q130.436 105.928 127.357 101.344 Q124.302 96.7378 124.302 88.011 Q124.302 79.261 127.357 74.6777 Q130.436 70.0713 136.246 70.0713 Z\" fill=\"#000000\" fill-rule=\"evenodd\" fill-opacity=\"1\" /><polyline clip-path=\"url(#clip222)\" style=\"stroke:#009af9; stroke-linecap:round; stroke-linejoin:round; stroke-width:4; stroke-opacity:1; fill:none\" points=\"\n",
       "  245.565,87.9763 247.23,109.896 248.895,131.463 250.56,152.681 252.225,173.556 253.89,194.095 255.555,214.302 257.22,234.183 258.885,253.742 262.733,297.757 \n",
       "  266.582,340.146 270.431,380.97 274.279,420.286 278.128,458.151 281.976,494.617 285.825,529.737 289.674,563.56 293.522,596.134 297.371,627.506 301.22,657.718 \n",
       "  305.068,686.816 308.917,714.839 312.766,741.827 316.614,767.818 320.463,792.85 324.312,816.957 328.16,840.175 332.009,862.535 335.858,884.069 343.555,924.781 \n",
       "  351.252,962.543 358.95,997.567 366.647,1030.05 374.344,1060.18 382.041,1088.13 391.293,1119.05 400.544,1147.3 409.796,1173.1 419.048,1196.68 428.299,1218.21 \n",
       "  437.551,1237.89 446.802,1255.86 456.054,1272.28 463.876,1285.04 471.698,1296.87 479.52,1307.83 487.342,1317.98 502.986,1336.1 518.63,1351.64 535.624,1366.04 \n",
       "  552.618,1378.24 569.612,1388.57 586.605,1397.31 602.272,1404.19 617.939,1410.08 633.606,1415.14 649.273,1419.49 682.866,1426.83 716.459,1432.12 755.38,1436.42 \n",
       "  794.3,1439.36 863.477,1442.48 924.138,1443.93 990.276,1444.78 1056.81,1445.23 1130.36,1445.48 1200.35,1445.6 1273.12,1445.66 1334.38,1445.68 1409.17,1445.7 \n",
       "  1477.68,1445.71 1540.96,1445.71 1605.06,1445.71 1676.89,1445.71 1741.98,1445.72 1816.51,1445.72 1885.52,1445.72 1953.55,1445.72 2019.6,1445.72 2087.32,1445.72 \n",
       "  2161.5,1445.72 2269.27,1445.72 2291.38,1445.72 \n",
       "  \"/>\n",
       "<path clip-path=\"url(#clip220)\" d=\"\n",
       "M2011.18 198.898 L2280.47 198.898 L2280.47 95.2176 L2011.18 95.2176  Z\n",
       "  \" fill=\"#ffffff\" fill-rule=\"evenodd\" fill-opacity=\"1\"/>\n",
       "<polyline clip-path=\"url(#clip220)\" style=\"stroke:#000000; stroke-linecap:round; stroke-linejoin:round; stroke-width:4; stroke-opacity:1; fill:none\" points=\"\n",
       "  2011.18,198.898 2280.47,198.898 2280.47,95.2176 2011.18,95.2176 2011.18,198.898 \n",
       "  \"/>\n",
       "<polyline clip-path=\"url(#clip220)\" style=\"stroke:#009af9; stroke-linecap:round; stroke-linejoin:round; stroke-width:4; stroke-opacity:1; fill:none\" points=\"\n",
       "  2035.28,147.058 2179.85,147.058 \n",
       "  \"/>\n",
       "<path clip-path=\"url(#clip220)\" d=\"M2217.79 166.745 Q2215.98 171.375 2214.27 172.787 Q2212.56 174.199 2209.69 174.199 L2206.28 174.199 L2206.28 170.634 L2208.78 170.634 Q2210.54 170.634 2211.51 169.8 Q2212.49 168.967 2213.67 165.865 L2214.43 163.921 L2203.94 138.412 L2208.46 138.412 L2216.56 158.689 L2224.66 138.412 L2229.18 138.412 L2217.79 166.745 Z\" fill=\"#000000\" fill-rule=\"evenodd\" fill-opacity=\"1\" /><path clip-path=\"url(#clip220)\" d=\"M2236.47 160.402 L2244.11 160.402 L2244.11 134.037 L2235.8 135.703 L2235.8 131.444 L2244.06 129.778 L2248.74 129.778 L2248.74 160.402 L2256.38 160.402 L2256.38 164.338 L2236.47 164.338 L2236.47 160.402 Z\" fill=\"#000000\" fill-rule=\"evenodd\" fill-opacity=\"1\" /></svg>\n"
      ]
     },
     "execution_count": 23,
     "metadata": {},
     "output_type": "execute_result"
    }
   ],
   "source": [
    "d = Truncated(Exponential(0.1), 0.0, 2.0)\n",
    "@show typeof(d)\n",
    "plot(d)"
   ]
  },
  {
   "attachments": {},
   "cell_type": "markdown",
   "id": "b34b1d8c",
   "metadata": {},
   "source": [
    "This is the power of generic programming in general, and Julia in particular: you can combine and compose completely separate packages and code, as long as there is an agreement on abstract types and functions."
   ]
  },
  {
   "attachments": {},
   "cell_type": "markdown",
   "id": "44293704",
   "metadata": {},
   "source": [
    "## Numbers and Algebraic Structures\n",
    "\n",
    "Define two binary functions,  $ + $ and $ \\cdot $, called addition and multiplication – although the operators can be applied to data structures much more abstract than a `Real`.\n",
    "\n",
    "In mathematics, a [ring](https://en.wikipedia.org/wiki/Ring_%28mathematics%29) is a set with associated additive and multiplicative operators where\n",
    "\n",
    "- the additive operator is associative and commutative  \n",
    "- the multiplicative operator is associative and distributive with respect to the additive operator  \n",
    "- there is an additive identity element,  denoted $ 0 $, such that $ a + 0 = a $ for any $ a $ in the set  \n",
    "- there is an additive inverse of each element, denoted $ -a $, such that $ a + (-a) = 0 $  \n",
    "- there is a multiplicative identity element, denoted $ 1 $, such that $ a \\cdot 1 = a = 1 \\cdot a $  \n",
    "- a total or partial ordering is **not** required (i.e., there does not need to be any meaningful $ < $ operator defined)  \n",
    "- a multiplicative inverse is **not** required  \n",
    "\n",
    "\n",
    "While this skips over some parts of the mathematical definition, this algebraic structure provides motivation for the abstract `Number` type in Julia\n",
    "\n",
    "- **Remark:** We use the term “motivation” because they are not formally connected and the mapping is imperfect.  \n",
    "- The main difficulty when dealing with numbers that can be concretely created on a computer is that the requirement that the operators are closed in the set are difficult to ensure (e.g. floating points have finite numbers of bits of information).  \n",
    "\n",
    "\n",
    "Let `typeof(a) = typeof(b) = T <: Number`, then under an informal definition of the **generic interface** for\n",
    "`Number`, the following must be defined\n",
    "\n",
    "- the additive operator: `a + b`  \n",
    "- the multiplicative operator: `a * b`  \n",
    "- an additive inverse operator: `-a`  \n",
    "- an inverse operation for addition `a - b = a + (-b)`  \n",
    "- an additive identity: `zero(T)` or `zero(a)` for convenience  \n",
    "- a multiplicative identity: `one(T)` or `one(a)` for convenience  \n",
    "\n",
    "\n",
    "The core of generic programming is that, given the knowledge that a value is of type `Number`, we can design algorithms using any of these functions and not concern ourselves with the particular concrete type.\n",
    "\n",
    "Furthermore, that generality in designing algorithms comes with no compromises on performance compared to carefully designed algorithms written for that particular type.\n",
    "\n",
    "To demonstrate this for a complex number, where `Complex{Float64} <: Number`"
   ]
  },
  {
   "cell_type": "code",
   "execution_count": 24,
   "id": "e971b227",
   "metadata": {
    "hide-output": false
   },
   "outputs": [
    {
     "name": "stdout",
     "output_type": "stream",
     "text": [
      "typeof(a) = ComplexF64\n",
      "typeof(a) <: Number = true\n",
      "a + b = 1.0 + 3.0im\n",
      "a * b = -2.0 + 2.0im\n",
      "-a = -1.0 - 1.0im\n",
      "a - b = 1.0 - 1.0im\n",
      "zero(a) = 0.0 + 0.0im\n",
      "one(a) = 1.0 + 0.0im\n"
     ]
    }
   ],
   "source": [
    "a = 1.0 + 1.0im\n",
    "b = 0.0 + 2.0im\n",
    "@show typeof(a)\n",
    "@show typeof(a) <: Number\n",
    "@show a + b\n",
    "@show a * b\n",
    "@show -a\n",
    "@show a - b\n",
    "@show zero(a)\n",
    "@show one(a);"
   ]
  },
  {
   "attachments": {},
   "cell_type": "markdown",
   "id": "3549151c",
   "metadata": {},
   "source": [
    "And for an arbitrary precision integer where `BigInt <: Number`\n",
    "(i.e., a different type than the `Int64` you have worked with, but nevertheless a `Number`)"
   ]
  },
  {
   "cell_type": "code",
   "execution_count": 25,
   "id": "2065e1e7",
   "metadata": {
    "hide-output": false
   },
   "outputs": [
    {
     "name": "stdout",
     "output_type": "stream",
     "text": [
      "typeof(a) = BigInt\n",
      "typeof(a) <: Number = true\n",
      "a + b = 14\n",
      "a * b = 40\n",
      "-a = -10\n",
      "a - b = 6\n",
      "zero(a) = 0\n",
      "one(a) = 1\n"
     ]
    }
   ],
   "source": [
    "a = BigInt(10)\n",
    "b = BigInt(4)\n",
    "@show typeof(a)\n",
    "@show typeof(a) <: Number\n",
    "@show a + b\n",
    "@show a * b\n",
    "@show -a\n",
    "@show a - b\n",
    "@show zero(a)\n",
    "@show one(a);"
   ]
  },
  {
   "attachments": {},
   "cell_type": "markdown",
   "id": "46e52b7e",
   "metadata": {},
   "source": [
    "### Complex Numbers and Composition of Generic Functions\n",
    "\n",
    "This allows us to showcase further how different generic packages compose – even if they are only loosely coupled through agreement on common generic interfaces.\n",
    "\n",
    "The `Complex` numbers require some sort of storage for their underlying real and imaginary parts, which is itself left generic.\n",
    "\n",
    "This data structure is defined to work with any type `<: Number`, and is parameterized (e.g. `Complex{Float64}` is a complex number storing the imaginary and real parts in `Float64`)"
   ]
  },
  {
   "cell_type": "code",
   "execution_count": 26,
   "id": "46427d5a",
   "metadata": {
    "hide-output": false
   },
   "outputs": [
    {
     "name": "stdout",
     "output_type": "stream",
     "text": [
      "(x, typeof(x)) = (4.0 + 1.0im, ComplexF64)\n",
      "(xbig, typeof(xbig)) = (4.0 + 1.0im, Complex{BigFloat})\n"
     ]
    }
   ],
   "source": [
    "x = 4.0 + 1.0im\n",
    "@show x, typeof(x)\n",
    "\n",
    "xbig = BigFloat(4.0) + 1.0im\n",
    "@show xbig, typeof(xbig);"
   ]
  },
  {
   "attachments": {},
   "cell_type": "markdown",
   "id": "7b4f3df7",
   "metadata": {},
   "source": [
    "The implementation of the `Complex` numbers use the underlying operations of\n",
    "storage type, so as long as `+`, `*` etc. are defined – as they should be\n",
    "for any `Number` – the complex operation can be defined"
   ]
  },
  {
   "cell_type": "code",
   "execution_count": 27,
   "id": "942f6a72",
   "metadata": {
    "hide-output": false
   },
   "outputs": [
    {
     "data": {
      "text/html": [
       "+(z::<b>Complex</b>, w::<b>Complex</b>) in Base at <a href=\"https://github.com/JuliaLang/julia/tree/8e630552924eac54c809aa7bc30871c7df1582d3/base/complex.jl#L291\" target=\"_blank\">complex.jl:291</a>"
      ],
      "text/plain": [
       "+(\u001b[90mz\u001b[39m::\u001b[1mComplex\u001b[22m, \u001b[90mw\u001b[39m::\u001b[1mComplex\u001b[22m)\n",
       "\u001b[90m     @\u001b[39m \u001b[90mBase\u001b[39m \u001b[90m\u001b[4mcomplex.jl:291\u001b[24m\u001b[39m"
      ]
     },
     "execution_count": 27,
     "metadata": {},
     "output_type": "execute_result"
    }
   ],
   "source": [
    "@which +(x,x)"
   ]
  },
  {
   "attachments": {},
   "cell_type": "markdown",
   "id": "5f148d28",
   "metadata": {},
   "source": [
    "Following that link, the implementation of `+` for complex numbers is"
   ]
  },
  {
   "cell_type": "code",
   "execution_count": 28,
   "id": "223fc0d3",
   "metadata": {
    "hide-output": false
   },
   "outputs": [
    {
     "ename": "LoadError",
     "evalue": "error in method definition: function Base.+ must be explicitly imported to be extended",
     "output_type": "error",
     "traceback": [
      "error in method definition: function Base.+ must be explicitly imported to be extended",
      "",
      "Stacktrace:",
      " [1] top-level scope",
      "   @ none:0",
      " [2] top-level scope",
      "   @ In[28]:1"
     ]
    }
   ],
   "source": [
    "+(z::Complex, w::Complex) = Complex(real(z) + real(w), imag(z) + imag(w))"
   ]
  },
  {
   "attachments": {},
   "cell_type": "markdown",
   "id": "d42ca8cf",
   "metadata": {},
   "source": [
    "`real(z)` and `imag(z)` returns the associated components of the complex number in the underlying storage type (e.g. `Float64` or `BigFloat`).\n",
    "\n",
    "The rest of the function has been carefully written to use functions defined for any `Number` (e.g. `+` but not `<`, since it is not part of the generic number interface).\n",
    "\n",
    "To follow another example , look at the implementation of `abs` specialized for complex numbers"
   ]
  },
  {
   "cell_type": "code",
   "execution_count": 29,
   "id": "8b49dca9",
   "metadata": {
    "hide-output": false
   },
   "outputs": [
    {
     "data": {
      "text/html": [
       "abs(z::<b>Complex</b>) in Base at <a href=\"https://github.com/JuliaLang/julia/tree/8e630552924eac54c809aa7bc30871c7df1582d3/base/complex.jl#L280\" target=\"_blank\">complex.jl:280</a>"
      ],
      "text/plain": [
       "abs(\u001b[90mz\u001b[39m::\u001b[1mComplex\u001b[22m)\n",
       "\u001b[90m     @\u001b[39m \u001b[90mBase\u001b[39m \u001b[90m\u001b[4mcomplex.jl:280\u001b[24m\u001b[39m"
      ]
     },
     "execution_count": 29,
     "metadata": {},
     "output_type": "execute_result"
    }
   ],
   "source": [
    "@which abs(x)"
   ]
  },
  {
   "attachments": {},
   "cell_type": "markdown",
   "id": "6f44d7c1",
   "metadata": {},
   "source": [
    "The source is"
   ]
  },
  {
   "cell_type": "code",
   "execution_count": null,
   "id": "d8f907ee",
   "metadata": {
    "hide-output": false
   },
   "outputs": [],
   "source": [
    "abs(z::Complex)  = hypot(real(z), imag(z))"
   ]
  },
  {
   "attachments": {},
   "cell_type": "markdown",
   "id": "137794c4",
   "metadata": {},
   "source": [
    "In this case, if you look at the generic function to get the hypotenuse, `hypot`, you will see that it has the function signature `hypot(x::T, y::T) where T<:Number`, and hence works for any `Number`.\n",
    "\n",
    "That function, in turn, relies on the underlying `abs` for the type of `real(z)`.\n",
    "\n",
    "This would dispatch to the appropriate `abs` for the type"
   ]
  },
  {
   "cell_type": "code",
   "execution_count": 30,
   "id": "61320f30",
   "metadata": {
    "hide-output": false
   },
   "outputs": [
    {
     "data": {
      "text/html": [
       "abs(x::<b>Union{Float16, Float32, Float64}</b>) in Base at <a href=\"https://github.com/JuliaLang/julia/tree/8e630552924eac54c809aa7bc30871c7df1582d3/base/float.jl#L609\" target=\"_blank\">float.jl:609</a>"
      ],
      "text/plain": [
       "abs(\u001b[90mx\u001b[39m::\u001b[1mUnion\u001b[22m\u001b[0m{Float16, Float32, Float64})\n",
       "\u001b[90m     @\u001b[39m \u001b[90mBase\u001b[39m \u001b[90m\u001b[4mfloat.jl:609\u001b[24m\u001b[39m"
      ]
     },
     "execution_count": 30,
     "metadata": {},
     "output_type": "execute_result"
    }
   ],
   "source": [
    "@which abs(1.0)"
   ]
  },
  {
   "cell_type": "code",
   "execution_count": 31,
   "id": "4bcf5569",
   "metadata": {
    "hide-output": false
   },
   "outputs": [
    {
     "data": {
      "text/html": [
       "abs(x::<b>Real</b>) in Base at <a href=\"https://github.com/JuliaLang/julia/tree/8e630552924eac54c809aa7bc30871c7df1582d3/base/number.jl#L164\" target=\"_blank\">number.jl:164</a>"
      ],
      "text/plain": [
       "abs(\u001b[90mx\u001b[39m::\u001b[1mReal\u001b[22m)\n",
       "\u001b[90m     @\u001b[39m \u001b[90mBase\u001b[39m \u001b[90m\u001b[4mnumber.jl:164\u001b[24m\u001b[39m"
      ]
     },
     "execution_count": 31,
     "metadata": {},
     "output_type": "execute_result"
    }
   ],
   "source": [
    "@which abs(BigFloat(1.0))"
   ]
  },
  {
   "attachments": {},
   "cell_type": "markdown",
   "id": "25d13507",
   "metadata": {},
   "source": [
    "With implementations"
   ]
  },
  {
   "cell_type": "code",
   "execution_count": 32,
   "id": "d1e40c30",
   "metadata": {
    "hide-output": false
   },
   "outputs": [
    {
     "ename": "LoadError",
     "evalue": "error in method definition: function Base.abs must be explicitly imported to be extended",
     "output_type": "error",
     "traceback": [
      "error in method definition: function Base.abs must be explicitly imported to be extended",
      "",
      "Stacktrace:",
      " [1] top-level scope",
      "   @ none:0",
      " [2] top-level scope",
      "   @ In[32]:1"
     ]
    }
   ],
   "source": [
    "abs(x::Real) = ifelse(signbit(x), -x, x)\n",
    "abs(x::Float64) = abs_float(x)"
   ]
  },
  {
   "attachments": {},
   "cell_type": "markdown",
   "id": "8f54a2b1",
   "metadata": {},
   "source": [
    "For a `Real` number (which we will discuss in the next section) the fallback implementation calls a function `signbit` to determine if it should flip the sign of the number.\n",
    "\n",
    "The specialized version for `Float64 <: Real` calls a function called `abs_float` – which turns out to be a specialized implementation at the compiler level.\n",
    "\n",
    "While we have not completely dissected the tree of function calls, at the bottom of the tree you will end at the most optimized version of the function for the underlying datatype.\n",
    "\n",
    "Hopefully this showcases the power of generic programming:  with a well-designed set of abstract types and functions, the code can both be highly general and composable and still use the most efficient implementation possible."
   ]
  },
  {
   "attachments": {},
   "cell_type": "markdown",
   "id": "a2db476c",
   "metadata": {},
   "source": [
    "## Reals and Algebraic Structures\n",
    "\n",
    "Thinking back to the mathematical motivation, a [field](https://en.wikipedia.org/wiki/Field_%28mathematics%29) is a `ring` with a few additional properties, among them\n",
    "\n",
    "- a multiplicative inverse: $ a^{-1} $  \n",
    "- an inverse operation for multiplication: $ a / b = a \\cdot b^{-1} $  \n",
    "\n",
    "\n",
    "Furthermore, we will make it a [total ordered](https://en.wikipedia.org/wiki/Total_order#Strict_total_order) field with\n",
    "\n",
    "- a total ordering binary operator: $ a < b $  \n",
    "\n",
    "\n",
    "This type gives some motivation for the operations and properties of the `Real` type.\n",
    "\n",
    "Of course, `Complex{Float64} <: Number` but not `Real` – since the ordering is not defined for complex numbers in mathematics.\n",
    "\n",
    "These operations are implemented in any subtype of `Real` through\n",
    "\n",
    "- the multiplicative inverse: `inv(a)`  \n",
    "- the multiplicative inverse operation: `a / b = a * inv(b)`  \n",
    "- an ordering `a < b`  \n",
    "\n",
    "\n",
    "We have already shown these with the `Float64` and `BigFloat`.\n",
    "\n",
    "To show this for the `Rational` number type, where `a // b` constructs a rational number $ \\frac{a}{b} $"
   ]
  },
  {
   "cell_type": "code",
   "execution_count": 33,
   "id": "b6102764",
   "metadata": {
    "hide-output": false
   },
   "outputs": [
    {
     "name": "stdout",
     "output_type": "stream",
     "text": [
      "typeof(a) = Rational{Int64}\n",
      "typeof(a) <: Number = true\n",
      "typeof(a) <: Real = true\n",
      "inv(a) = 10//1\n",
      "a / b = 3//20\n",
      "a < b = true\n"
     ]
    }
   ],
   "source": [
    "a = 1 // 10\n",
    "b = 4 // 6\n",
    "@show typeof(a)\n",
    "@show typeof(a) <: Number\n",
    "@show typeof(a) <: Real\n",
    "@show inv(a)\n",
    "@show a / b\n",
    "@show a < b;"
   ]
  },
  {
   "attachments": {},
   "cell_type": "markdown",
   "id": "0a5a4c1f",
   "metadata": {},
   "source": [
    "**Remark:** Here we see where and how the precise connection to the mathematics for number types breaks down for practical reasons, in particular\n",
    "\n",
    "- `Integer` types (i.e., `Int64 <: Integer`) do not have a a multiplicative inverse with closure in the set.  \n",
    "- However, it is necessary in practice for integer division to be defined, and return back a member of the `Real`’s.  \n",
    "- This is called [type promotion](https://docs.julialang.org/en/v1/manual/conversion-and-promotion/#Promotion-1), where a type can be converted to another to ensure an operation is possible by direct conversion between types (i.e., it can be independent of the type hierarchy).  \n",
    "\n",
    "\n",
    "Do not think of the break in the connection between the underlying algebraic structures and the code as a failure of the language or design.\n",
    "\n",
    "Rather, the underlying algorithms for use on a computer do not perfectly fit the algebraic structures in this instance.\n",
    "\n",
    "Moving further down the tree of types provides more operations more directly tied to the computational implementation than abstract algebra.\n",
    "\n",
    "For example, floating point numbers have a machine precision, below which numbers become indistinguishable due to lack of sufficient “bits” of information"
   ]
  },
  {
   "cell_type": "code",
   "execution_count": 34,
   "id": "e5d0f845",
   "metadata": {
    "hide-output": false
   },
   "outputs": [
    {
     "name": "stdout",
     "output_type": "stream",
     "text": [
      "Float64 <: AbstractFloat = true\n",
      "BigFloat <: AbstractFloat = true\n",
      "eps(Float64) = 2.220446049250313e-16\n",
      "eps(BigFloat) = 1.727233711018888925077270372560079914223200072887256277004740694033718360632485e-77\n"
     ]
    }
   ],
   "source": [
    "@show Float64 <: AbstractFloat\n",
    "@show BigFloat <: AbstractFloat\n",
    "@show eps(Float64)\n",
    "@show eps(BigFloat);"
   ]
  },
  {
   "attachments": {},
   "cell_type": "markdown",
   "id": "e375b7ff",
   "metadata": {},
   "source": [
    "The `isless` function also has multiple methods.\n",
    "\n",
    "First let’s try with integers"
   ]
  },
  {
   "cell_type": "code",
   "execution_count": 35,
   "id": "d60064fe",
   "metadata": {
    "hide-output": false
   },
   "outputs": [
    {
     "data": {
      "text/html": [
       "isless(x::<b>Real</b>, y::<b>Real</b>) in Base at <a href=\"https://github.com/JuliaLang/julia/tree/8e630552924eac54c809aa7bc30871c7df1582d3/base/operators.jl#L421\" target=\"_blank\">operators.jl:421</a>"
      ],
      "text/plain": [
       "isless(\u001b[90mx\u001b[39m::\u001b[1mReal\u001b[22m, \u001b[90my\u001b[39m::\u001b[1mReal\u001b[22m)\n",
       "\u001b[90m     @\u001b[39m \u001b[90mBase\u001b[39m \u001b[90m\u001b[4moperators.jl:421\u001b[24m\u001b[39m"
      ]
     },
     "execution_count": 35,
     "metadata": {},
     "output_type": "execute_result"
    }
   ],
   "source": [
    "@which isless(1, 2)"
   ]
  },
  {
   "attachments": {},
   "cell_type": "markdown",
   "id": "e5a42483",
   "metadata": {},
   "source": [
    "As we saw previously, the `Real` data type is an *abstract* type, and encompasses both floats and integers.\n",
    "\n",
    "If we go to the provided link in the source, we see the entirety of the function is"
   ]
  },
  {
   "cell_type": "code",
   "execution_count": 36,
   "id": "1d526aa3",
   "metadata": {
    "hide-output": false
   },
   "outputs": [
    {
     "ename": "LoadError",
     "evalue": "error in method definition: function Base.isless must be explicitly imported to be extended",
     "output_type": "error",
     "traceback": [
      "error in method definition: function Base.isless must be explicitly imported to be extended",
      "",
      "Stacktrace:",
      " [1] top-level scope",
      "   @ none:0",
      " [2] top-level scope",
      "   @ In[36]:1"
     ]
    }
   ],
   "source": [
    "isless(x::Real, y::Real) = x<y"
   ]
  },
  {
   "attachments": {},
   "cell_type": "markdown",
   "id": "d06a25bf",
   "metadata": {},
   "source": [
    "That is, for any values where `typeof(x) <: Real` and `typeof(y) <: Real`, the definition relies on `<`.\n",
    "\n",
    "We know that `<` is defined for the types because it is part of the informal interface for the `Real` abstract type.\n",
    "\n",
    "Note that this is not defined for `Number` because not all `Number` types have the `<` ordering operator defined (e.g. `Complex`).\n",
    "\n",
    "In order to generate fast code, the implementation details may define specialized versions of these operations."
   ]
  },
  {
   "cell_type": "code",
   "execution_count": 37,
   "id": "cff75e60",
   "metadata": {
    "hide-output": false
   },
   "outputs": [
    {
     "data": {
      "text/html": [
       "isless(a::<b>T</b>, b::<b>T</b>)<i> where T<:Union{Float16, Float32, Float64}</i> in Base at <a href=\"https://github.com/JuliaLang/julia/tree/8e630552924eac54c809aa7bc30871c7df1582d3/base/float.jl#L547\" target=\"_blank\">float.jl:547</a>"
      ],
      "text/plain": [
       "isless(\u001b[90ma\u001b[39m::\u001b[1mT\u001b[22m, \u001b[90mb\u001b[39m::\u001b[1mT\u001b[22m) where T<:Union{Float16, Float32, Float64}\n",
       "\u001b[90m     @\u001b[39m \u001b[90mBase\u001b[39m \u001b[90m\u001b[4mfloat.jl:547\u001b[24m\u001b[39m"
      ]
     },
     "execution_count": 37,
     "metadata": {},
     "output_type": "execute_result"
    }
   ],
   "source": [
    "isless(1.0, 2.0)  # applied to two floats\n",
    "@which isless(1.0, 2.0)"
   ]
  },
  {
   "attachments": {},
   "cell_type": "markdown",
   "id": "550523f9",
   "metadata": {},
   "source": [
    "Note that the reason  `Float64 <: Real` calls this implementation rather than the one given above, is that `Float64 <: Real`, and Julia chooses the most specialized implementation for each function.\n",
    "\n",
    "The specialized implementations are often more subtle than you may realize due to [floating point arithmetic](https://docs.oracle.com/cd/E19957-01/806-3568/ncg_goldberg.html), [underflow](https://en.wikipedia.org/wiki/Arithmetic_underflow), etc."
   ]
  },
  {
   "attachments": {},
   "cell_type": "markdown",
   "id": "68410041",
   "metadata": {},
   "source": [
    "## Functions, and Function-Like Types\n",
    "\n",
    "Another common example of the separation between data structures and algorithms is the use of functions.\n",
    "\n",
    "Syntactically, a univariate “function” is any `f` that can call an argument `x` as `f(x)`.\n",
    "\n",
    "For example, we can use a standard function"
   ]
  },
  {
   "cell_type": "code",
   "execution_count": 39,
   "id": "d2383bab",
   "metadata": {
    "hide-output": false
   },
   "outputs": [
    {
     "name": "stdout",
     "output_type": "stream",
     "text": [
      "quadgk(f, 0.0, 1.0) = (0.3333333333333333, 5.551115123125783e-17)\n"
     ]
    },
    {
     "data": {
      "image/svg+xml": [
       "<?xml version=\"1.0\" encoding=\"utf-8\"?>\n",
       "<svg xmlns=\"http://www.w3.org/2000/svg\" xmlns:xlink=\"http://www.w3.org/1999/xlink\" width=\"600\" height=\"400\" viewBox=\"0 0 2400 1600\">\n",
       "<defs>\n",
       "  <clipPath id=\"clip300\">\n",
       "    <rect x=\"0\" y=\"0\" width=\"2400\" height=\"1600\"/>\n",
       "  </clipPath>\n",
       "</defs>\n",
       "<path clip-path=\"url(#clip300)\" d=\"\n",
       "M0 1600 L2400 1600 L2400 0 L0 0  Z\n",
       "  \" fill=\"#ffffff\" fill-rule=\"evenodd\" fill-opacity=\"1\"/>\n",
       "<defs>\n",
       "  <clipPath id=\"clip301\">\n",
       "    <rect x=\"480\" y=\"0\" width=\"1681\" height=\"1600\"/>\n",
       "  </clipPath>\n",
       "</defs>\n",
       "<path clip-path=\"url(#clip300)\" d=\"\n",
       "M141.853 1486.45 L2352.76 1486.45 L2352.76 47.2441 L141.853 47.2441  Z\n",
       "  \" fill=\"#ffffff\" fill-rule=\"evenodd\" fill-opacity=\"1\"/>\n",
       "<defs>\n",
       "  <clipPath id=\"clip302\">\n",
       "    <rect x=\"141\" y=\"47\" width=\"2212\" height=\"1440\"/>\n",
       "  </clipPath>\n",
       "</defs>\n",
       "<polyline clip-path=\"url(#clip302)\" style=\"stroke:#000000; stroke-linecap:round; stroke-linejoin:round; stroke-width:2; stroke-opacity:0.1; fill:none\" points=\"\n",
       "  204.426,1486.45 204.426,47.2441 \n",
       "  \"/>\n",
       "<polyline clip-path=\"url(#clip302)\" style=\"stroke:#000000; stroke-linecap:round; stroke-linejoin:round; stroke-width:2; stroke-opacity:0.1; fill:none\" points=\"\n",
       "  621.577,1486.45 621.577,47.2441 \n",
       "  \"/>\n",
       "<polyline clip-path=\"url(#clip302)\" style=\"stroke:#000000; stroke-linecap:round; stroke-linejoin:round; stroke-width:2; stroke-opacity:0.1; fill:none\" points=\"\n",
       "  1038.73,1486.45 1038.73,47.2441 \n",
       "  \"/>\n",
       "<polyline clip-path=\"url(#clip302)\" style=\"stroke:#000000; stroke-linecap:round; stroke-linejoin:round; stroke-width:2; stroke-opacity:0.1; fill:none\" points=\"\n",
       "  1455.88,1486.45 1455.88,47.2441 \n",
       "  \"/>\n",
       "<polyline clip-path=\"url(#clip302)\" style=\"stroke:#000000; stroke-linecap:round; stroke-linejoin:round; stroke-width:2; stroke-opacity:0.1; fill:none\" points=\"\n",
       "  1873.03,1486.45 1873.03,47.2441 \n",
       "  \"/>\n",
       "<polyline clip-path=\"url(#clip302)\" style=\"stroke:#000000; stroke-linecap:round; stroke-linejoin:round; stroke-width:2; stroke-opacity:0.1; fill:none\" points=\"\n",
       "  2290.18,1486.45 2290.18,47.2441 \n",
       "  \"/>\n",
       "<polyline clip-path=\"url(#clip300)\" style=\"stroke:#000000; stroke-linecap:round; stroke-linejoin:round; stroke-width:4; stroke-opacity:1; fill:none\" points=\"\n",
       "  141.853,1486.45 2352.76,1486.45 \n",
       "  \"/>\n",
       "<polyline clip-path=\"url(#clip300)\" style=\"stroke:#000000; stroke-linecap:round; stroke-linejoin:round; stroke-width:4; stroke-opacity:1; fill:none\" points=\"\n",
       "  204.426,1486.45 204.426,1467.55 \n",
       "  \"/>\n",
       "<polyline clip-path=\"url(#clip300)\" style=\"stroke:#000000; stroke-linecap:round; stroke-linejoin:round; stroke-width:4; stroke-opacity:1; fill:none\" points=\"\n",
       "  621.577,1486.45 621.577,1467.55 \n",
       "  \"/>\n",
       "<polyline clip-path=\"url(#clip300)\" style=\"stroke:#000000; stroke-linecap:round; stroke-linejoin:round; stroke-width:4; stroke-opacity:1; fill:none\" points=\"\n",
       "  1038.73,1486.45 1038.73,1467.55 \n",
       "  \"/>\n",
       "<polyline clip-path=\"url(#clip300)\" style=\"stroke:#000000; stroke-linecap:round; stroke-linejoin:round; stroke-width:4; stroke-opacity:1; fill:none\" points=\"\n",
       "  1455.88,1486.45 1455.88,1467.55 \n",
       "  \"/>\n",
       "<polyline clip-path=\"url(#clip300)\" style=\"stroke:#000000; stroke-linecap:round; stroke-linejoin:round; stroke-width:4; stroke-opacity:1; fill:none\" points=\"\n",
       "  1873.03,1486.45 1873.03,1467.55 \n",
       "  \"/>\n",
       "<polyline clip-path=\"url(#clip300)\" style=\"stroke:#000000; stroke-linecap:round; stroke-linejoin:round; stroke-width:4; stroke-opacity:1; fill:none\" points=\"\n",
       "  2290.18,1486.45 2290.18,1467.55 \n",
       "  \"/>\n",
       "<path clip-path=\"url(#clip300)\" d=\"M204.426 1517.37 Q200.815 1517.37 198.986 1520.93 Q197.18 1524.47 197.18 1531.6 Q197.18 1538.71 198.986 1542.27 Q200.815 1545.82 204.426 1545.82 Q208.06 1545.82 209.865 1542.27 Q211.694 1538.71 211.694 1531.6 Q211.694 1524.47 209.865 1520.93 Q208.06 1517.37 204.426 1517.37 M204.426 1513.66 Q210.236 1513.66 213.291 1518.27 Q216.37 1522.85 216.37 1531.6 Q216.37 1540.33 213.291 1544.94 Q210.236 1549.52 204.426 1549.52 Q198.616 1549.52 195.537 1544.94 Q192.481 1540.33 192.481 1531.6 Q192.481 1522.85 195.537 1518.27 Q198.616 1513.66 204.426 1513.66 Z\" fill=\"#000000\" fill-rule=\"evenodd\" fill-opacity=\"1\" /><path clip-path=\"url(#clip300)\" d=\"M611.959 1544.91 L619.598 1544.91 L619.598 1518.55 L611.288 1520.21 L611.288 1515.95 L619.552 1514.29 L624.228 1514.29 L624.228 1544.91 L631.866 1544.91 L631.866 1548.85 L611.959 1548.85 L611.959 1544.91 Z\" fill=\"#000000\" fill-rule=\"evenodd\" fill-opacity=\"1\" /><path clip-path=\"url(#clip300)\" d=\"M1033.38 1544.91 L1049.7 1544.91 L1049.7 1548.85 L1027.76 1548.85 L1027.76 1544.91 Q1030.42 1542.16 1035 1537.53 Q1039.61 1532.88 1040.79 1531.53 Q1043.03 1529.01 1043.91 1527.27 Q1044.82 1525.51 1044.82 1523.82 Q1044.82 1521.07 1042.87 1519.33 Q1040.95 1517.6 1037.85 1517.6 Q1035.65 1517.6 1033.2 1518.36 Q1030.77 1519.13 1027.99 1520.68 L1027.99 1515.95 Q1030.81 1514.82 1033.27 1514.24 Q1035.72 1513.66 1037.76 1513.66 Q1043.13 1513.66 1046.32 1516.35 Q1049.52 1519.03 1049.52 1523.52 Q1049.52 1525.65 1048.71 1527.57 Q1047.92 1529.47 1045.81 1532.07 Q1045.23 1532.74 1042.13 1535.95 Q1039.03 1539.15 1033.38 1544.91 Z\" fill=\"#000000\" fill-rule=\"evenodd\" fill-opacity=\"1\" /><path clip-path=\"url(#clip300)\" d=\"M1460.13 1530.21 Q1463.48 1530.93 1465.36 1533.2 Q1467.26 1535.47 1467.26 1538.8 Q1467.26 1543.92 1463.74 1546.72 Q1460.22 1549.52 1453.74 1549.52 Q1451.56 1549.52 1449.25 1549.08 Q1446.96 1548.66 1444.5 1547.81 L1444.5 1543.29 Q1446.45 1544.43 1448.76 1545.01 Q1451.08 1545.58 1453.6 1545.58 Q1458 1545.58 1460.29 1543.85 Q1462.6 1542.11 1462.6 1538.8 Q1462.6 1535.75 1460.45 1534.03 Q1458.32 1532.3 1454.5 1532.3 L1450.48 1532.3 L1450.48 1528.45 L1454.69 1528.45 Q1458.14 1528.45 1459.97 1527.09 Q1461.79 1525.7 1461.79 1523.11 Q1461.79 1520.45 1459.9 1519.03 Q1458.02 1517.6 1454.5 1517.6 Q1452.58 1517.6 1450.38 1518.01 Q1448.18 1518.43 1445.54 1519.31 L1445.54 1515.14 Q1448.21 1514.4 1450.52 1514.03 Q1452.86 1513.66 1454.92 1513.66 Q1460.24 1513.66 1463.35 1516.09 Q1466.45 1518.5 1466.45 1522.62 Q1466.45 1525.49 1464.8 1527.48 Q1463.16 1529.45 1460.13 1530.21 Z\" fill=\"#000000\" fill-rule=\"evenodd\" fill-opacity=\"1\" /><path clip-path=\"url(#clip300)\" d=\"M1876.04 1518.36 L1864.24 1536.81 L1876.04 1536.81 L1876.04 1518.36 M1874.81 1514.29 L1880.69 1514.29 L1880.69 1536.81 L1885.62 1536.81 L1885.62 1540.7 L1880.69 1540.7 L1880.69 1548.85 L1876.04 1548.85 L1876.04 1540.7 L1860.44 1540.7 L1860.44 1536.19 L1874.81 1514.29 Z\" fill=\"#000000\" fill-rule=\"evenodd\" fill-opacity=\"1\" /><path clip-path=\"url(#clip300)\" d=\"M2280.46 1514.29 L2298.82 1514.29 L2298.82 1518.22 L2284.74 1518.22 L2284.74 1526.7 Q2285.76 1526.35 2286.78 1526.19 Q2287.8 1526 2288.82 1526 Q2294.6 1526 2297.98 1529.17 Q2301.36 1532.34 2301.36 1537.76 Q2301.36 1543.34 2297.89 1546.44 Q2294.42 1549.52 2288.1 1549.52 Q2285.92 1549.52 2283.66 1549.15 Q2281.41 1548.78 2279 1548.04 L2279 1543.34 Q2281.09 1544.47 2283.31 1545.03 Q2285.53 1545.58 2288.01 1545.58 Q2292.01 1545.58 2294.35 1543.48 Q2296.69 1541.37 2296.69 1537.76 Q2296.69 1534.15 2294.35 1532.04 Q2292.01 1529.94 2288.01 1529.94 Q2286.13 1529.94 2284.26 1530.35 Q2282.41 1530.77 2280.46 1531.65 L2280.46 1514.29 Z\" fill=\"#000000\" fill-rule=\"evenodd\" fill-opacity=\"1\" /><polyline clip-path=\"url(#clip302)\" style=\"stroke:#000000; stroke-linecap:round; stroke-linejoin:round; stroke-width:2; stroke-opacity:0.1; fill:none\" points=\"\n",
       "  141.853,1445.72 2352.76,1445.72 \n",
       "  \"/>\n",
       "<polyline clip-path=\"url(#clip302)\" style=\"stroke:#000000; stroke-linecap:round; stroke-linejoin:round; stroke-width:2; stroke-opacity:0.1; fill:none\" points=\"\n",
       "  141.853,1119.86 2352.76,1119.86 \n",
       "  \"/>\n",
       "<polyline clip-path=\"url(#clip302)\" style=\"stroke:#000000; stroke-linecap:round; stroke-linejoin:round; stroke-width:2; stroke-opacity:0.1; fill:none\" points=\"\n",
       "  141.853,794.001 2352.76,794.001 \n",
       "  \"/>\n",
       "<polyline clip-path=\"url(#clip302)\" style=\"stroke:#000000; stroke-linecap:round; stroke-linejoin:round; stroke-width:2; stroke-opacity:0.1; fill:none\" points=\"\n",
       "  141.853,468.143 2352.76,468.143 \n",
       "  \"/>\n",
       "<polyline clip-path=\"url(#clip302)\" style=\"stroke:#000000; stroke-linecap:round; stroke-linejoin:round; stroke-width:2; stroke-opacity:0.1; fill:none\" points=\"\n",
       "  141.853,142.286 2352.76,142.286 \n",
       "  \"/>\n",
       "<polyline clip-path=\"url(#clip300)\" style=\"stroke:#000000; stroke-linecap:round; stroke-linejoin:round; stroke-width:4; stroke-opacity:1; fill:none\" points=\"\n",
       "  141.853,1486.45 141.853,47.2441 \n",
       "  \"/>\n",
       "<polyline clip-path=\"url(#clip300)\" style=\"stroke:#000000; stroke-linecap:round; stroke-linejoin:round; stroke-width:4; stroke-opacity:1; fill:none\" points=\"\n",
       "  141.853,1445.72 160.751,1445.72 \n",
       "  \"/>\n",
       "<polyline clip-path=\"url(#clip300)\" style=\"stroke:#000000; stroke-linecap:round; stroke-linejoin:round; stroke-width:4; stroke-opacity:1; fill:none\" points=\"\n",
       "  141.853,1119.86 160.751,1119.86 \n",
       "  \"/>\n",
       "<polyline clip-path=\"url(#clip300)\" style=\"stroke:#000000; stroke-linecap:round; stroke-linejoin:round; stroke-width:4; stroke-opacity:1; fill:none\" points=\"\n",
       "  141.853,794.001 160.751,794.001 \n",
       "  \"/>\n",
       "<polyline clip-path=\"url(#clip300)\" style=\"stroke:#000000; stroke-linecap:round; stroke-linejoin:round; stroke-width:4; stroke-opacity:1; fill:none\" points=\"\n",
       "  141.853,468.143 160.751,468.143 \n",
       "  \"/>\n",
       "<polyline clip-path=\"url(#clip300)\" style=\"stroke:#000000; stroke-linecap:round; stroke-linejoin:round; stroke-width:4; stroke-opacity:1; fill:none\" points=\"\n",
       "  141.853,142.286 160.751,142.286 \n",
       "  \"/>\n",
       "<path clip-path=\"url(#clip300)\" d=\"M93.9086 1431.51 Q90.2975 1431.51 88.4688 1435.08 Q86.6632 1438.62 86.6632 1445.75 Q86.6632 1452.86 88.4688 1456.42 Q90.2975 1459.96 93.9086 1459.96 Q97.5428 1459.96 99.3483 1456.42 Q101.177 1452.86 101.177 1445.75 Q101.177 1438.62 99.3483 1435.08 Q97.5428 1431.51 93.9086 1431.51 M93.9086 1427.81 Q99.7187 1427.81 102.774 1432.42 Q105.853 1437 105.853 1445.75 Q105.853 1454.48 102.774 1459.08 Q99.7187 1463.67 93.9086 1463.67 Q88.0984 1463.67 85.0197 1459.08 Q81.9642 1454.48 81.9642 1445.75 Q81.9642 1437 85.0197 1432.42 Q88.0984 1427.81 93.9086 1427.81 Z\" fill=\"#000000\" fill-rule=\"evenodd\" fill-opacity=\"1\" /><path clip-path=\"url(#clip300)\" d=\"M54.5569 1133.2 L62.1958 1133.2 L62.1958 1106.84 L53.8856 1108.5 L53.8856 1104.24 L62.1495 1102.58 L66.8254 1102.58 L66.8254 1133.2 L74.4642 1133.2 L74.4642 1137.14 L54.5569 1137.14 L54.5569 1133.2 Z\" fill=\"#000000\" fill-rule=\"evenodd\" fill-opacity=\"1\" /><path clip-path=\"url(#clip300)\" d=\"M93.9086 1105.66 Q90.2975 1105.66 88.4688 1109.22 Q86.6632 1112.76 86.6632 1119.89 Q86.6632 1127 88.4688 1130.56 Q90.2975 1134.11 93.9086 1134.11 Q97.5428 1134.11 99.3483 1130.56 Q101.177 1127 101.177 1119.89 Q101.177 1112.76 99.3483 1109.22 Q97.5428 1105.66 93.9086 1105.66 M93.9086 1101.95 Q99.7187 1101.95 102.774 1106.56 Q105.853 1111.14 105.853 1119.89 Q105.853 1128.62 102.774 1133.23 Q99.7187 1137.81 93.9086 1137.81 Q88.0984 1137.81 85.0197 1133.23 Q81.9642 1128.62 81.9642 1119.89 Q81.9642 1111.14 85.0197 1106.56 Q88.0984 1101.95 93.9086 1101.95 Z\" fill=\"#000000\" fill-rule=\"evenodd\" fill-opacity=\"1\" /><path clip-path=\"url(#clip300)\" d=\"M57.7745 807.346 L74.0939 807.346 L74.0939 811.281 L52.1495 811.281 L52.1495 807.346 Q54.8115 804.591 59.3949 799.961 Q64.0013 795.309 65.1819 793.966 Q67.4272 791.443 68.3068 789.707 Q69.2096 787.948 69.2096 786.258 Q69.2096 783.503 67.2652 781.767 Q65.3439 780.031 62.2421 780.031 Q60.043 780.031 57.5893 780.795 Q55.1588 781.559 52.381 783.11 L52.381 778.387 Q55.2051 777.253 57.6588 776.674 Q60.1124 776.096 62.1495 776.096 Q67.5198 776.096 70.7142 778.781 Q73.9087 781.466 73.9087 785.957 Q73.9087 788.086 73.0985 790.008 Q72.3115 791.906 70.205 794.498 Q69.6263 795.17 66.5245 798.387 Q63.4226 801.582 57.7745 807.346 Z\" fill=\"#000000\" fill-rule=\"evenodd\" fill-opacity=\"1\" /><path clip-path=\"url(#clip300)\" d=\"M93.9086 779.799 Q90.2975 779.799 88.4688 783.364 Q86.6632 786.906 86.6632 794.035 Q86.6632 801.142 88.4688 804.707 Q90.2975 808.248 93.9086 808.248 Q97.5428 808.248 99.3483 804.707 Q101.177 801.142 101.177 794.035 Q101.177 786.906 99.3483 783.364 Q97.5428 779.799 93.9086 779.799 M93.9086 776.096 Q99.7187 776.096 102.774 780.702 Q105.853 785.286 105.853 794.035 Q105.853 802.762 102.774 807.369 Q99.7187 811.952 93.9086 811.952 Q88.0984 811.952 85.0197 807.369 Q81.9642 802.762 81.9642 794.035 Q81.9642 785.286 85.0197 780.702 Q88.0984 776.096 93.9086 776.096 Z\" fill=\"#000000\" fill-rule=\"evenodd\" fill-opacity=\"1\" /><path clip-path=\"url(#clip300)\" d=\"M67.9133 466.789 Q71.2698 467.507 73.1448 469.775 Q75.0429 472.044 75.0429 475.377 Q75.0429 480.493 71.5244 483.294 Q68.0059 486.095 61.5245 486.095 Q59.3486 486.095 57.0338 485.655 Q54.7421 485.238 52.2884 484.382 L52.2884 479.868 Q54.2328 481.002 56.5477 481.581 Q58.8625 482.159 61.3856 482.159 Q65.7837 482.159 68.0754 480.423 Q70.3902 478.687 70.3902 475.377 Q70.3902 472.322 68.2374 470.609 Q66.1078 468.872 62.2884 468.872 L58.2606 468.872 L58.2606 465.03 L62.4735 465.03 Q65.9226 465.03 67.7513 463.664 Q69.58 462.275 69.58 459.683 Q69.58 457.021 67.6819 455.609 Q65.8069 454.173 62.2884 454.173 Q60.3671 454.173 58.168 454.59 Q55.969 455.007 53.3301 455.886 L53.3301 451.72 Q55.9921 450.979 58.3069 450.609 Q60.6449 450.238 62.705 450.238 Q68.0291 450.238 71.1309 452.669 Q74.2327 455.076 74.2327 459.197 Q74.2327 462.067 72.5892 464.058 Q70.9457 466.025 67.9133 466.789 Z\" fill=\"#000000\" fill-rule=\"evenodd\" fill-opacity=\"1\" /><path clip-path=\"url(#clip300)\" d=\"M93.9086 453.942 Q90.2975 453.942 88.4688 457.507 Q86.6632 461.048 86.6632 468.178 Q86.6632 475.284 88.4688 478.849 Q90.2975 482.391 93.9086 482.391 Q97.5428 482.391 99.3483 478.849 Q101.177 475.284 101.177 468.178 Q101.177 461.048 99.3483 457.507 Q97.5428 453.942 93.9086 453.942 M93.9086 450.238 Q99.7187 450.238 102.774 454.845 Q105.853 459.428 105.853 468.178 Q105.853 476.905 102.774 481.511 Q99.7187 486.095 93.9086 486.095 Q88.0984 486.095 85.0197 481.511 Q81.9642 476.905 81.9642 468.178 Q81.9642 459.428 85.0197 454.845 Q88.0984 450.238 93.9086 450.238 Z\" fill=\"#000000\" fill-rule=\"evenodd\" fill-opacity=\"1\" /><path clip-path=\"url(#clip300)\" d=\"M66.5939 129.08 L54.7884 147.529 L66.5939 147.529 L66.5939 129.08 M65.367 125.006 L71.2466 125.006 L71.2466 147.529 L76.1772 147.529 L76.1772 151.418 L71.2466 151.418 L71.2466 159.566 L66.5939 159.566 L66.5939 151.418 L50.9921 151.418 L50.9921 146.904 L65.367 125.006 Z\" fill=\"#000000\" fill-rule=\"evenodd\" fill-opacity=\"1\" /><path clip-path=\"url(#clip300)\" d=\"M93.9086 128.085 Q90.2975 128.085 88.4688 131.649 Q86.6632 135.191 86.6632 142.321 Q86.6632 149.427 88.4688 152.992 Q90.2975 156.533 93.9086 156.533 Q97.5428 156.533 99.3483 152.992 Q101.177 149.427 101.177 142.321 Q101.177 135.191 99.3483 131.649 Q97.5428 128.085 93.9086 128.085 M93.9086 124.381 Q99.7187 124.381 102.774 128.987 Q105.853 133.571 105.853 142.321 Q105.853 151.047 102.774 155.654 Q99.7187 160.237 93.9086 160.237 Q88.0984 160.237 85.0197 155.654 Q81.9642 151.047 81.9642 142.321 Q81.9642 133.571 85.0197 128.987 Q88.0984 124.381 93.9086 124.381 Z\" fill=\"#000000\" fill-rule=\"evenodd\" fill-opacity=\"1\" /><polyline clip-path=\"url(#clip302)\" style=\"stroke:#009af9; stroke-linecap:round; stroke-linejoin:round; stroke-width:4; stroke-opacity:1; fill:none\" points=\"\n",
       "  204.426,1445.72 246.141,1445.39 287.856,1444.41 329.571,1442.78 371.286,1440.5 413.001,1437.57 454.717,1433.98 496.432,1429.75 538.147,1424.86 579.862,1419.32 \n",
       "  621.577,1413.13 663.292,1406.29 705.007,1398.79 746.723,1390.65 788.438,1381.85 830.153,1372.4 871.868,1362.3 913.583,1351.54 955.298,1340.14 997.014,1328.08 \n",
       "  1038.73,1315.37 1080.44,1302.01 1122.16,1288 1163.87,1273.34 1205.59,1258.02 1247.3,1242.05 1289.02,1225.44 1330.73,1208.17 1372.45,1190.24 1414.17,1171.67 \n",
       "  1455.88,1152.44 1497.6,1132.57 1539.31,1112.04 1581.03,1090.86 1622.74,1069.02 1664.46,1046.54 1706.17,1023.4 1747.89,999.617 1789.6,975.178 1831.32,950.086 \n",
       "  1873.03,924.344 1914.75,897.949 1956.46,870.903 1998.18,843.205 2039.89,814.856 2081.61,785.854 2123.32,756.201 2165.04,725.897 2206.75,694.94 2248.47,663.332 \n",
       "  2290.18,631.072 \n",
       "  \"/>\n",
       "<polyline clip-path=\"url(#clip302)\" style=\"stroke:#e26f46; stroke-linecap:round; stroke-linejoin:round; stroke-width:4; stroke-opacity:1; fill:none\" points=\"\n",
       "  204.426,1445.72 246.141,1445.7 287.856,1445.63 329.571,1445.42 371.286,1445.02 413.001,1444.36 454.717,1443.37 496.432,1441.99 538.147,1440.15 579.862,1437.8 \n",
       "  621.577,1434.85 663.292,1431.26 705.007,1426.95 746.723,1421.85 788.438,1415.91 830.153,1409.06 871.868,1401.23 913.583,1392.35 955.298,1382.37 997.014,1371.21 \n",
       "  1038.73,1358.82 1080.44,1345.12 1122.16,1330.06 1163.87,1313.56 1205.59,1295.56 1247.3,1276 1289.02,1254.81 1330.73,1231.92 1372.45,1207.27 1414.17,1180.8 \n",
       "  1455.88,1152.44 1497.6,1122.13 1539.31,1089.79 1581.03,1055.37 1622.74,1018.8 1664.46,980.011 1706.17,938.942 1747.89,895.527 1789.6,849.701 1831.32,801.398 \n",
       "  1873.03,750.553 1914.75,697.102 1956.46,640.978 1998.18,582.117 2039.89,520.454 2081.61,455.924 2123.32,388.46 2165.04,317.999 2206.75,244.475 2248.47,167.822 \n",
       "  2290.18,87.9763 \n",
       "  \"/>\n",
       "<path clip-path=\"url(#clip300)\" d=\"\n",
       "M215.55 250.738 L535.274 250.738 L535.274 95.2176 L215.55 95.2176  Z\n",
       "  \" fill=\"#ffffff\" fill-rule=\"evenodd\" fill-opacity=\"1\"/>\n",
       "<polyline clip-path=\"url(#clip300)\" style=\"stroke:#000000; stroke-linecap:round; stroke-linejoin:round; stroke-width:4; stroke-opacity:1; fill:none\" points=\"\n",
       "  215.55,250.738 535.274,250.738 535.274,95.2176 215.55,95.2176 215.55,250.738 \n",
       "  \"/>\n",
       "<polyline clip-path=\"url(#clip300)\" style=\"stroke:#009af9; stroke-linecap:round; stroke-linejoin:round; stroke-width:4; stroke-opacity:1; fill:none\" points=\"\n",
       "  240.115,147.058 387.509,147.058 \n",
       "  \"/>\n",
       "<path clip-path=\"url(#clip300)\" d=\"M428.579 128.319 L428.579 131.861 L424.505 131.861 Q422.213 131.861 421.31 132.787 Q420.431 133.713 420.431 136.12 L420.431 138.412 L427.445 138.412 L427.445 141.722 L420.431 141.722 L420.431 164.338 L416.148 164.338 L416.148 141.722 L412.074 141.722 L412.074 138.412 L416.148 138.412 L416.148 136.606 Q416.148 132.278 418.162 130.31 Q420.176 128.319 424.551 128.319 L428.579 128.319 Z\" fill=\"#000000\" fill-rule=\"evenodd\" fill-opacity=\"1\" /><polyline clip-path=\"url(#clip300)\" style=\"stroke:#e26f46; stroke-linecap:round; stroke-linejoin:round; stroke-width:4; stroke-opacity:1; fill:none\" points=\"\n",
       "  240.115,198.898 387.509,198.898 \n",
       "  \"/>\n",
       "<path clip-path=\"url(#clip300)\" d=\"M412.074 190.252 L416.334 190.252 L416.334 216.178 L412.074 216.178 L412.074 190.252 M412.074 180.159 L416.334 180.159 L416.334 185.553 L412.074 185.553 L412.074 180.159 Z\" fill=\"#000000\" fill-rule=\"evenodd\" fill-opacity=\"1\" /><path clip-path=\"url(#clip300)\" d=\"M446.796 200.529 L446.796 216.178 L442.537 216.178 L442.537 200.668 Q442.537 196.988 441.102 195.159 Q439.667 193.33 436.797 193.33 Q433.347 193.33 431.357 195.53 Q429.366 197.729 429.366 201.525 L429.366 216.178 L425.084 216.178 L425.084 190.252 L429.366 190.252 L429.366 194.28 Q430.894 191.942 432.954 190.784 Q435.037 189.627 437.746 189.627 Q442.213 189.627 444.505 192.405 Q446.796 195.159 446.796 200.529 Z\" fill=\"#000000\" fill-rule=\"evenodd\" fill-opacity=\"1\" /><path clip-path=\"url(#clip300)\" d=\"M459.505 182.891 L459.505 190.252 L468.278 190.252 L468.278 193.562 L459.505 193.562 L459.505 207.636 Q459.505 210.807 460.361 211.71 Q461.241 212.613 463.903 212.613 L468.278 212.613 L468.278 216.178 L463.903 216.178 Q458.972 216.178 457.097 214.349 Q455.222 212.497 455.222 207.636 L455.222 193.562 L452.097 193.562 L452.097 190.252 L455.222 190.252 L455.222 182.891 L459.505 182.891 Z\" fill=\"#000000\" fill-rule=\"evenodd\" fill-opacity=\"1\" /><path clip-path=\"url(#clip300)\" d=\"M493.579 224.048 L493.579 227.358 L468.949 227.358 L468.949 224.048 L493.579 224.048 Z\" fill=\"#000000\" fill-rule=\"evenodd\" fill-opacity=\"1\" /><path clip-path=\"url(#clip300)\" d=\"M510.708 180.159 L510.708 183.701 L506.634 183.701 Q504.342 183.701 503.44 184.627 Q502.56 185.553 502.56 187.96 L502.56 190.252 L509.574 190.252 L509.574 193.562 L502.56 193.562 L502.56 216.178 L498.278 216.178 L498.278 193.562 L494.204 193.562 L494.204 190.252 L498.278 190.252 L498.278 188.446 Q498.278 184.118 500.292 182.15 Q502.305 180.159 506.68 180.159 L510.708 180.159 Z\" fill=\"#000000\" fill-rule=\"evenodd\" fill-opacity=\"1\" /></svg>\n"
      ]
     },
     "execution_count": 39,
     "metadata": {},
     "output_type": "execute_result"
    }
   ],
   "source": [
    "using QuadGK\n",
    "f(x) = x^2\n",
    "@show quadgk(f, 0.0, 1.0)  # integral\n",
    "\n",
    "function plotfunctions(f)\n",
    "    intf(x) = quadgk(f, 0.0, x)[1]  # int_0^x f(x) dx\n",
    "\n",
    "    x = 0:0.1:5.0\n",
    "    f_x = f.(x)\n",
    "    plot(x, f_x, label=\"f\")\n",
    "    plot!(x, intf.(x), label=\"int_f\")\n",
    "end\n",
    "plotfunctions(f)  # call with our f"
   ]
  },
  {
   "attachments": {},
   "cell_type": "markdown",
   "id": "0c0ba7e0",
   "metadata": {},
   "source": [
    "Of course, univariate polynomials are another type of univariate function"
   ]
  },
  {
   "cell_type": "code",
   "execution_count": 40,
   "id": "31990737",
   "metadata": {
    "hide-output": false
   },
   "outputs": [
    {
     "name": "stdout",
     "output_type": "stream",
     "text": [
      "p = Polynomial(2 - 5*x + 2*x^2)\n",
      "p(1.0) = -1.0\n"
     ]
    },
    {
     "data": {
      "image/svg+xml": [
       "<?xml version=\"1.0\" encoding=\"utf-8\"?>\n",
       "<svg xmlns=\"http://www.w3.org/2000/svg\" xmlns:xlink=\"http://www.w3.org/1999/xlink\" width=\"600\" height=\"400\" viewBox=\"0 0 2400 1600\">\n",
       "<defs>\n",
       "  <clipPath id=\"clip340\">\n",
       "    <rect x=\"0\" y=\"0\" width=\"2400\" height=\"1600\"/>\n",
       "  </clipPath>\n",
       "</defs>\n",
       "<path clip-path=\"url(#clip340)\" d=\"\n",
       "M0 1600 L2400 1600 L2400 0 L0 0  Z\n",
       "  \" fill=\"#ffffff\" fill-rule=\"evenodd\" fill-opacity=\"1\"/>\n",
       "<defs>\n",
       "  <clipPath id=\"clip341\">\n",
       "    <rect x=\"480\" y=\"0\" width=\"1681\" height=\"1600\"/>\n",
       "  </clipPath>\n",
       "</defs>\n",
       "<path clip-path=\"url(#clip340)\" d=\"\n",
       "M140.696 1486.45 L2352.76 1486.45 L2352.76 47.2441 L140.696 47.2441  Z\n",
       "  \" fill=\"#ffffff\" fill-rule=\"evenodd\" fill-opacity=\"1\"/>\n",
       "<defs>\n",
       "  <clipPath id=\"clip342\">\n",
       "    <rect x=\"140\" y=\"47\" width=\"2213\" height=\"1440\"/>\n",
       "  </clipPath>\n",
       "</defs>\n",
       "<polyline clip-path=\"url(#clip342)\" style=\"stroke:#000000; stroke-linecap:round; stroke-linejoin:round; stroke-width:2; stroke-opacity:0.1; fill:none\" points=\"\n",
       "  203.301,1486.45 203.301,47.2441 \n",
       "  \"/>\n",
       "<polyline clip-path=\"url(#clip342)\" style=\"stroke:#000000; stroke-linecap:round; stroke-linejoin:round; stroke-width:2; stroke-opacity:0.1; fill:none\" points=\"\n",
       "  620.671,1486.45 620.671,47.2441 \n",
       "  \"/>\n",
       "<polyline clip-path=\"url(#clip342)\" style=\"stroke:#000000; stroke-linecap:round; stroke-linejoin:round; stroke-width:2; stroke-opacity:0.1; fill:none\" points=\"\n",
       "  1038.04,1486.45 1038.04,47.2441 \n",
       "  \"/>\n",
       "<polyline clip-path=\"url(#clip342)\" style=\"stroke:#000000; stroke-linecap:round; stroke-linejoin:round; stroke-width:2; stroke-opacity:0.1; fill:none\" points=\"\n",
       "  1455.41,1486.45 1455.41,47.2441 \n",
       "  \"/>\n",
       "<polyline clip-path=\"url(#clip342)\" style=\"stroke:#000000; stroke-linecap:round; stroke-linejoin:round; stroke-width:2; stroke-opacity:0.1; fill:none\" points=\"\n",
       "  1872.78,1486.45 1872.78,47.2441 \n",
       "  \"/>\n",
       "<polyline clip-path=\"url(#clip342)\" style=\"stroke:#000000; stroke-linecap:round; stroke-linejoin:round; stroke-width:2; stroke-opacity:0.1; fill:none\" points=\"\n",
       "  2290.15,1486.45 2290.15,47.2441 \n",
       "  \"/>\n",
       "<polyline clip-path=\"url(#clip340)\" style=\"stroke:#000000; stroke-linecap:round; stroke-linejoin:round; stroke-width:4; stroke-opacity:1; fill:none\" points=\"\n",
       "  140.696,1486.45 2352.76,1486.45 \n",
       "  \"/>\n",
       "<polyline clip-path=\"url(#clip340)\" style=\"stroke:#000000; stroke-linecap:round; stroke-linejoin:round; stroke-width:4; stroke-opacity:1; fill:none\" points=\"\n",
       "  203.301,1486.45 203.301,1467.55 \n",
       "  \"/>\n",
       "<polyline clip-path=\"url(#clip340)\" style=\"stroke:#000000; stroke-linecap:round; stroke-linejoin:round; stroke-width:4; stroke-opacity:1; fill:none\" points=\"\n",
       "  620.671,1486.45 620.671,1467.55 \n",
       "  \"/>\n",
       "<polyline clip-path=\"url(#clip340)\" style=\"stroke:#000000; stroke-linecap:round; stroke-linejoin:round; stroke-width:4; stroke-opacity:1; fill:none\" points=\"\n",
       "  1038.04,1486.45 1038.04,1467.55 \n",
       "  \"/>\n",
       "<polyline clip-path=\"url(#clip340)\" style=\"stroke:#000000; stroke-linecap:round; stroke-linejoin:round; stroke-width:4; stroke-opacity:1; fill:none\" points=\"\n",
       "  1455.41,1486.45 1455.41,1467.55 \n",
       "  \"/>\n",
       "<polyline clip-path=\"url(#clip340)\" style=\"stroke:#000000; stroke-linecap:round; stroke-linejoin:round; stroke-width:4; stroke-opacity:1; fill:none\" points=\"\n",
       "  1872.78,1486.45 1872.78,1467.55 \n",
       "  \"/>\n",
       "<polyline clip-path=\"url(#clip340)\" style=\"stroke:#000000; stroke-linecap:round; stroke-linejoin:round; stroke-width:4; stroke-opacity:1; fill:none\" points=\"\n",
       "  2290.15,1486.45 2290.15,1467.55 \n",
       "  \"/>\n",
       "<path clip-path=\"url(#clip340)\" d=\"M203.301 1517.37 Q199.69 1517.37 197.861 1520.93 Q196.056 1524.47 196.056 1531.6 Q196.056 1538.71 197.861 1542.27 Q199.69 1545.82 203.301 1545.82 Q206.935 1545.82 208.741 1542.27 Q210.57 1538.71 210.57 1531.6 Q210.57 1524.47 208.741 1520.93 Q206.935 1517.37 203.301 1517.37 M203.301 1513.66 Q209.111 1513.66 212.167 1518.27 Q215.245 1522.85 215.245 1531.6 Q215.245 1540.33 212.167 1544.94 Q209.111 1549.52 203.301 1549.52 Q197.491 1549.52 194.412 1544.94 Q191.357 1540.33 191.357 1531.6 Q191.357 1522.85 194.412 1518.27 Q197.491 1513.66 203.301 1513.66 Z\" fill=\"#000000\" fill-rule=\"evenodd\" fill-opacity=\"1\" /><path clip-path=\"url(#clip340)\" d=\"M611.053 1544.91 L618.692 1544.91 L618.692 1518.55 L610.382 1520.21 L610.382 1515.95 L618.645 1514.29 L623.321 1514.29 L623.321 1544.91 L630.96 1544.91 L630.96 1548.85 L611.053 1548.85 L611.053 1544.91 Z\" fill=\"#000000\" fill-rule=\"evenodd\" fill-opacity=\"1\" /><path clip-path=\"url(#clip340)\" d=\"M1032.69 1544.91 L1049.01 1544.91 L1049.01 1548.85 L1027.07 1548.85 L1027.07 1544.91 Q1029.73 1542.16 1034.31 1537.53 Q1038.92 1532.88 1040.1 1531.53 Q1042.35 1529.01 1043.23 1527.27 Q1044.13 1525.51 1044.13 1523.82 Q1044.13 1521.07 1042.18 1519.33 Q1040.26 1517.6 1037.16 1517.6 Q1034.96 1517.6 1032.51 1518.36 Q1030.08 1519.13 1027.3 1520.68 L1027.3 1515.95 Q1030.12 1514.82 1032.58 1514.24 Q1035.03 1513.66 1037.07 1513.66 Q1042.44 1513.66 1045.63 1516.35 Q1048.83 1519.03 1048.83 1523.52 Q1048.83 1525.65 1048.02 1527.57 Q1047.23 1529.47 1045.12 1532.07 Q1044.55 1532.74 1041.44 1535.95 Q1038.34 1539.15 1032.69 1544.91 Z\" fill=\"#000000\" fill-rule=\"evenodd\" fill-opacity=\"1\" /><path clip-path=\"url(#clip340)\" d=\"M1459.66 1530.21 Q1463.01 1530.93 1464.89 1533.2 Q1466.79 1535.47 1466.79 1538.8 Q1466.79 1543.92 1463.27 1546.72 Q1459.75 1549.52 1453.27 1549.52 Q1451.09 1549.52 1448.78 1549.08 Q1446.49 1548.66 1444.03 1547.81 L1444.03 1543.29 Q1445.98 1544.43 1448.29 1545.01 Q1450.61 1545.58 1453.13 1545.58 Q1457.53 1545.58 1459.82 1543.85 Q1462.14 1542.11 1462.14 1538.8 Q1462.14 1535.75 1459.98 1534.03 Q1457.85 1532.3 1454.03 1532.3 L1450.01 1532.3 L1450.01 1528.45 L1454.22 1528.45 Q1457.67 1528.45 1459.5 1527.09 Q1461.32 1525.7 1461.32 1523.11 Q1461.32 1520.45 1459.43 1519.03 Q1457.55 1517.6 1454.03 1517.6 Q1452.11 1517.6 1449.91 1518.01 Q1447.71 1518.43 1445.08 1519.31 L1445.08 1515.14 Q1447.74 1514.4 1450.05 1514.03 Q1452.39 1513.66 1454.45 1513.66 Q1459.77 1513.66 1462.88 1516.09 Q1465.98 1518.5 1465.98 1522.62 Q1465.98 1525.49 1464.33 1527.48 Q1462.69 1529.45 1459.66 1530.21 Z\" fill=\"#000000\" fill-rule=\"evenodd\" fill-opacity=\"1\" /><path clip-path=\"url(#clip340)\" d=\"M1875.79 1518.36 L1863.98 1536.81 L1875.79 1536.81 L1875.79 1518.36 M1874.56 1514.29 L1880.44 1514.29 L1880.44 1536.81 L1885.37 1536.81 L1885.37 1540.7 L1880.44 1540.7 L1880.44 1548.85 L1875.79 1548.85 L1875.79 1540.7 L1860.19 1540.7 L1860.19 1536.19 L1874.56 1514.29 Z\" fill=\"#000000\" fill-rule=\"evenodd\" fill-opacity=\"1\" /><path clip-path=\"url(#clip340)\" d=\"M2280.43 1514.29 L2298.78 1514.29 L2298.78 1518.22 L2284.71 1518.22 L2284.71 1526.7 Q2285.73 1526.35 2286.75 1526.19 Q2287.77 1526 2288.78 1526 Q2294.57 1526 2297.95 1529.17 Q2301.33 1532.34 2301.33 1537.76 Q2301.33 1543.34 2297.86 1546.44 Q2294.39 1549.52 2288.07 1549.52 Q2285.89 1549.52 2283.62 1549.15 Q2281.38 1548.78 2278.97 1548.04 L2278.97 1543.34 Q2281.05 1544.47 2283.28 1545.03 Q2285.5 1545.58 2287.97 1545.58 Q2291.98 1545.58 2294.32 1543.48 Q2296.66 1541.37 2296.66 1537.76 Q2296.66 1534.15 2294.32 1532.04 Q2291.98 1529.94 2287.97 1529.94 Q2286.1 1529.94 2284.22 1530.35 Q2282.37 1530.77 2280.43 1531.65 L2280.43 1514.29 Z\" fill=\"#000000\" fill-rule=\"evenodd\" fill-opacity=\"1\" /><polyline clip-path=\"url(#clip342)\" style=\"stroke:#000000; stroke-linecap:round; stroke-linejoin:round; stroke-width:2; stroke-opacity:0.1; fill:none\" points=\"\n",
       "  140.696,1398.13 2352.76,1398.13 \n",
       "  \"/>\n",
       "<polyline clip-path=\"url(#clip342)\" style=\"stroke:#000000; stroke-linecap:round; stroke-linejoin:round; stroke-width:2; stroke-opacity:0.1; fill:none\" points=\"\n",
       "  140.696,973.212 2352.76,973.212 \n",
       "  \"/>\n",
       "<polyline clip-path=\"url(#clip342)\" style=\"stroke:#000000; stroke-linecap:round; stroke-linejoin:round; stroke-width:2; stroke-opacity:0.1; fill:none\" points=\"\n",
       "  140.696,548.299 2352.76,548.299 \n",
       "  \"/>\n",
       "<polyline clip-path=\"url(#clip342)\" style=\"stroke:#000000; stroke-linecap:round; stroke-linejoin:round; stroke-width:2; stroke-opacity:0.1; fill:none\" points=\"\n",
       "  140.696,123.386 2352.76,123.386 \n",
       "  \"/>\n",
       "<polyline clip-path=\"url(#clip340)\" style=\"stroke:#000000; stroke-linecap:round; stroke-linejoin:round; stroke-width:4; stroke-opacity:1; fill:none\" points=\"\n",
       "  140.696,1486.45 140.696,47.2441 \n",
       "  \"/>\n",
       "<polyline clip-path=\"url(#clip340)\" style=\"stroke:#000000; stroke-linecap:round; stroke-linejoin:round; stroke-width:4; stroke-opacity:1; fill:none\" points=\"\n",
       "  140.696,1398.13 159.593,1398.13 \n",
       "  \"/>\n",
       "<polyline clip-path=\"url(#clip340)\" style=\"stroke:#000000; stroke-linecap:round; stroke-linejoin:round; stroke-width:4; stroke-opacity:1; fill:none\" points=\"\n",
       "  140.696,973.212 159.593,973.212 \n",
       "  \"/>\n",
       "<polyline clip-path=\"url(#clip340)\" style=\"stroke:#000000; stroke-linecap:round; stroke-linejoin:round; stroke-width:4; stroke-opacity:1; fill:none\" points=\"\n",
       "  140.696,548.299 159.593,548.299 \n",
       "  \"/>\n",
       "<polyline clip-path=\"url(#clip340)\" style=\"stroke:#000000; stroke-linecap:round; stroke-linejoin:round; stroke-width:4; stroke-opacity:1; fill:none\" points=\"\n",
       "  140.696,123.386 159.593,123.386 \n",
       "  \"/>\n",
       "<path clip-path=\"url(#clip340)\" d=\"M92.7512 1383.92 Q89.1401 1383.92 87.3114 1387.49 Q85.5058 1391.03 85.5058 1398.16 Q85.5058 1405.27 87.3114 1408.83 Q89.1401 1412.37 92.7512 1412.37 Q96.3854 1412.37 98.1909 1408.83 Q100.02 1405.27 100.02 1398.16 Q100.02 1391.03 98.1909 1387.49 Q96.3854 1383.92 92.7512 1383.92 M92.7512 1380.22 Q98.5613 1380.22 101.617 1384.83 Q104.696 1389.41 104.696 1398.16 Q104.696 1406.89 101.617 1411.49 Q98.5613 1416.08 92.7512 1416.08 Q86.941 1416.08 83.8623 1411.49 Q80.8068 1406.89 80.8068 1398.16 Q80.8068 1389.41 83.8623 1384.83 Q86.941 1380.22 92.7512 1380.22 Z\" fill=\"#000000\" fill-rule=\"evenodd\" fill-opacity=\"1\" /><path clip-path=\"url(#clip340)\" d=\"M53.3995 986.557 L61.0384 986.557 L61.0384 960.191 L52.7282 961.858 L52.7282 957.599 L60.9921 955.932 L65.668 955.932 L65.668 986.557 L73.3068 986.557 L73.3068 990.492 L53.3995 990.492 L53.3995 986.557 Z\" fill=\"#000000\" fill-rule=\"evenodd\" fill-opacity=\"1\" /><path clip-path=\"url(#clip340)\" d=\"M92.7512 959.011 Q89.1401 959.011 87.3114 962.576 Q85.5058 966.117 85.5058 973.247 Q85.5058 980.353 87.3114 983.918 Q89.1401 987.46 92.7512 987.46 Q96.3854 987.46 98.1909 983.918 Q100.02 980.353 100.02 973.247 Q100.02 966.117 98.1909 962.576 Q96.3854 959.011 92.7512 959.011 M92.7512 955.307 Q98.5613 955.307 101.617 959.914 Q104.696 964.497 104.696 973.247 Q104.696 981.974 101.617 986.58 Q98.5613 991.163 92.7512 991.163 Q86.941 991.163 83.8623 986.58 Q80.8068 981.974 80.8068 973.247 Q80.8068 964.497 83.8623 959.914 Q86.941 955.307 92.7512 955.307 Z\" fill=\"#000000\" fill-rule=\"evenodd\" fill-opacity=\"1\" /><path clip-path=\"url(#clip340)\" d=\"M56.6171 561.644 L72.9365 561.644 L72.9365 565.579 L50.9921 565.579 L50.9921 561.644 Q53.6541 558.889 58.2375 554.26 Q62.8439 549.607 64.0245 548.264 Q66.2698 545.741 67.1494 544.005 Q68.0522 542.246 68.0522 540.556 Q68.0522 537.801 66.1078 536.065 Q64.1865 534.329 61.0847 534.329 Q58.8856 534.329 56.4319 535.093 Q54.0014 535.857 51.2236 537.408 L51.2236 532.686 Q54.0477 531.551 56.5014 530.973 Q58.955 530.394 60.9921 530.394 Q66.3624 530.394 69.5568 533.079 Q72.7513 535.764 72.7513 540.255 Q72.7513 542.385 71.9411 544.306 Q71.1541 546.204 69.0476 548.797 Q68.4689 549.468 65.367 552.685 Q62.2652 555.88 56.6171 561.644 Z\" fill=\"#000000\" fill-rule=\"evenodd\" fill-opacity=\"1\" /><path clip-path=\"url(#clip340)\" d=\"M92.7512 534.098 Q89.1401 534.098 87.3114 537.662 Q85.5058 541.204 85.5058 548.334 Q85.5058 555.44 87.3114 559.005 Q89.1401 562.547 92.7512 562.547 Q96.3854 562.547 98.1909 559.005 Q100.02 555.44 100.02 548.334 Q100.02 541.204 98.1909 537.662 Q96.3854 534.098 92.7512 534.098 M92.7512 530.394 Q98.5613 530.394 101.617 535 Q104.696 539.584 104.696 548.334 Q104.696 557.06 101.617 561.667 Q98.5613 566.25 92.7512 566.25 Q86.941 566.25 83.8623 561.667 Q80.8068 557.06 80.8068 548.334 Q80.8068 539.584 83.8623 535 Q86.941 530.394 92.7512 530.394 Z\" fill=\"#000000\" fill-rule=\"evenodd\" fill-opacity=\"1\" /><path clip-path=\"url(#clip340)\" d=\"M66.7559 122.032 Q70.1124 122.749 71.9874 125.018 Q73.8855 127.286 73.8855 130.619 Q73.8855 135.735 70.367 138.536 Q66.8485 141.337 60.3671 141.337 Q58.1912 141.337 55.8764 140.897 Q53.5847 140.481 51.131 139.624 L51.131 135.11 Q53.0754 136.244 55.3903 136.823 Q57.7051 137.402 60.2282 137.402 Q64.6263 137.402 66.918 135.666 Q69.2328 133.93 69.2328 130.619 Q69.2328 127.564 67.08 125.851 Q64.9504 124.115 61.131 124.115 L57.1032 124.115 L57.1032 120.272 L61.3161 120.272 Q64.7652 120.272 66.5939 118.907 Q68.4226 117.518 68.4226 114.925 Q68.4226 112.263 66.5245 110.851 Q64.6495 109.416 61.131 109.416 Q59.2097 109.416 57.0106 109.833 Q54.8115 110.249 52.1727 111.129 L52.1727 106.962 Q54.8347 106.221 57.1495 105.851 Q59.4875 105.481 61.5476 105.481 Q66.8717 105.481 69.9735 107.911 Q73.0753 110.319 73.0753 114.439 Q73.0753 117.309 71.4318 119.3 Q69.7883 121.268 66.7559 122.032 Z\" fill=\"#000000\" fill-rule=\"evenodd\" fill-opacity=\"1\" /><path clip-path=\"url(#clip340)\" d=\"M92.7512 109.184 Q89.1401 109.184 87.3114 112.749 Q85.5058 116.291 85.5058 123.42 Q85.5058 130.527 87.3114 134.092 Q89.1401 137.633 92.7512 137.633 Q96.3854 137.633 98.1909 134.092 Q100.02 130.527 100.02 123.42 Q100.02 116.291 98.1909 112.749 Q96.3854 109.184 92.7512 109.184 M92.7512 105.481 Q98.5613 105.481 101.617 110.087 Q104.696 114.67 104.696 123.42 Q104.696 132.147 101.617 136.754 Q98.5613 141.337 92.7512 141.337 Q86.941 141.337 83.8623 136.754 Q80.8068 132.147 80.8068 123.42 Q80.8068 114.67 83.8623 110.087 Q86.941 105.481 92.7512 105.481 Z\" fill=\"#000000\" fill-rule=\"evenodd\" fill-opacity=\"1\" /><polyline clip-path=\"url(#clip342)\" style=\"stroke:#009af9; stroke-linecap:round; stroke-linejoin:round; stroke-width:4; stroke-opacity:1; fill:none\" points=\"\n",
       "  203.301,1313.14 245.038,1333.54 286.775,1352.23 328.512,1369.23 370.249,1384.53 411.986,1398.13 453.723,1410.02 495.46,1420.22 537.197,1428.72 578.934,1435.52 \n",
       "  620.671,1440.62 662.408,1444.02 704.145,1445.72 745.882,1445.72 787.619,1444.02 829.356,1440.62 871.093,1435.52 912.83,1428.72 954.567,1420.22 996.304,1410.02 \n",
       "  1038.04,1398.13 1079.78,1384.53 1121.51,1369.23 1163.25,1352.23 1204.99,1333.54 1246.73,1313.14 1288.46,1291.05 1330.2,1267.25 1371.94,1241.76 1413.67,1214.56 \n",
       "  1455.41,1185.67 1497.15,1155.08 1538.88,1122.78 1580.62,1088.79 1622.36,1053.1 1664.1,1015.7 1705.83,976.611 1747.57,935.82 1789.31,893.328 1831.04,849.138 \n",
       "  1872.78,803.247 1914.52,755.657 1956.25,706.367 1997.99,655.377 2039.73,602.688 2081.47,548.299 2123.2,492.21 2164.94,434.422 2206.68,374.934 2248.41,313.747 \n",
       "  2290.15,250.86 \n",
       "  \"/>\n",
       "<polyline clip-path=\"url(#clip342)\" style=\"stroke:#e26f46; stroke-linecap:round; stroke-linejoin:round; stroke-width:4; stroke-opacity:1; fill:none\" points=\"\n",
       "  203.301,1398.13 245.038,1390.66 286.775,1385.15 328.512,1381.43 370.249,1379.32 411.986,1378.65 453.723,1379.26 495.46,1380.97 537.197,1383.62 578.934,1387.04 \n",
       "  620.671,1391.04 662.408,1395.48 704.145,1400.16 745.882,1404.94 787.619,1409.63 829.356,1414.06 871.093,1418.07 912.83,1421.48 954.567,1424.13 996.304,1425.84 \n",
       "  1038.04,1426.45 1079.78,1425.79 1121.51,1423.68 1163.25,1419.95 1204.99,1414.44 1246.73,1406.98 1288.46,1397.39 1330.2,1385.51 1371.94,1371.16 1413.67,1354.18 \n",
       "  1455.41,1334.39 1497.15,1311.63 1538.88,1285.72 1580.62,1256.5 1622.36,1223.8 1664.1,1187.44 1705.83,1147.26 1747.57,1103.08 1789.31,1054.74 1831.04,1002.06 \n",
       "  1872.78,944.885 1914.52,883.031 1956.25,816.334 1997.99,744.623 2039.73,667.728 2081.47,585.479 2123.2,497.706 2164.94,404.239 2206.68,304.909 2248.41,199.544 \n",
       "  2290.15,87.9763 \n",
       "  \"/>\n",
       "<path clip-path=\"url(#clip340)\" d=\"\n",
       "M214.431 250.738 L534.271 250.738 L534.271 95.2176 L214.431 95.2176  Z\n",
       "  \" fill=\"#ffffff\" fill-rule=\"evenodd\" fill-opacity=\"1\"/>\n",
       "<polyline clip-path=\"url(#clip340)\" style=\"stroke:#000000; stroke-linecap:round; stroke-linejoin:round; stroke-width:4; stroke-opacity:1; fill:none\" points=\"\n",
       "  214.431,250.738 534.271,250.738 534.271,95.2176 214.431,95.2176 214.431,250.738 \n",
       "  \"/>\n",
       "<polyline clip-path=\"url(#clip340)\" style=\"stroke:#009af9; stroke-linecap:round; stroke-linejoin:round; stroke-width:4; stroke-opacity:1; fill:none\" points=\"\n",
       "  239.009,147.058 386.48,147.058 \n",
       "  \"/>\n",
       "<path clip-path=\"url(#clip340)\" d=\"M427.563 128.319 L427.563 131.861 L423.489 131.861 Q421.197 131.861 420.295 132.787 Q419.415 133.713 419.415 136.12 L419.415 138.412 L426.429 138.412 L426.429 141.722 L419.415 141.722 L419.415 164.338 L415.133 164.338 L415.133 141.722 L411.058 141.722 L411.058 138.412 L415.133 138.412 L415.133 136.606 Q415.133 132.278 417.146 130.31 Q419.16 128.319 423.535 128.319 L427.563 128.319 Z\" fill=\"#000000\" fill-rule=\"evenodd\" fill-opacity=\"1\" /><polyline clip-path=\"url(#clip340)\" style=\"stroke:#e26f46; stroke-linecap:round; stroke-linejoin:round; stroke-width:4; stroke-opacity:1; fill:none\" points=\"\n",
       "  239.009,198.898 386.48,198.898 \n",
       "  \"/>\n",
       "<path clip-path=\"url(#clip340)\" d=\"M411.058 190.252 L415.318 190.252 L415.318 216.178 L411.058 216.178 L411.058 190.252 M411.058 180.159 L415.318 180.159 L415.318 185.553 L411.058 185.553 L411.058 180.159 Z\" fill=\"#000000\" fill-rule=\"evenodd\" fill-opacity=\"1\" /><path clip-path=\"url(#clip340)\" d=\"M445.781 200.529 L445.781 216.178 L441.521 216.178 L441.521 200.668 Q441.521 196.988 440.086 195.159 Q438.651 193.33 435.781 193.33 Q432.332 193.33 430.341 195.53 Q428.35 197.729 428.35 201.525 L428.35 216.178 L424.068 216.178 L424.068 190.252 L428.35 190.252 L428.35 194.28 Q429.878 191.942 431.938 190.784 Q434.021 189.627 436.73 189.627 Q441.197 189.627 443.489 192.405 Q445.781 195.159 445.781 200.529 Z\" fill=\"#000000\" fill-rule=\"evenodd\" fill-opacity=\"1\" /><path clip-path=\"url(#clip340)\" d=\"M458.489 182.891 L458.489 190.252 L467.262 190.252 L467.262 193.562 L458.489 193.562 L458.489 207.636 Q458.489 210.807 459.345 211.71 Q460.225 212.613 462.887 212.613 L467.262 212.613 L467.262 216.178 L462.887 216.178 Q457.956 216.178 456.081 214.349 Q454.206 212.497 454.206 207.636 L454.206 193.562 L451.081 193.562 L451.081 190.252 L454.206 190.252 L454.206 182.891 L458.489 182.891 Z\" fill=\"#000000\" fill-rule=\"evenodd\" fill-opacity=\"1\" /><path clip-path=\"url(#clip340)\" d=\"M492.563 224.048 L492.563 227.358 L467.933 227.358 L467.933 224.048 L492.563 224.048 Z\" fill=\"#000000\" fill-rule=\"evenodd\" fill-opacity=\"1\" /><path clip-path=\"url(#clip340)\" d=\"M509.692 180.159 L509.692 183.701 L505.618 183.701 Q503.326 183.701 502.424 184.627 Q501.544 185.553 501.544 187.96 L501.544 190.252 L508.558 190.252 L508.558 193.562 L501.544 193.562 L501.544 216.178 L497.262 216.178 L497.262 193.562 L493.188 193.562 L493.188 190.252 L497.262 190.252 L497.262 188.446 Q497.262 184.118 499.276 182.15 Q501.289 180.159 505.664 180.159 L509.692 180.159 Z\" fill=\"#000000\" fill-rule=\"evenodd\" fill-opacity=\"1\" /></svg>\n"
      ]
     },
     "execution_count": 40,
     "metadata": {},
     "output_type": "execute_result"
    }
   ],
   "source": [
    "using Polynomials\n",
    "p = Polynomial([2, -5, 2], :x)  # :x just gives a symbol for display\n",
    "@show p\n",
    "@show p(1.0) # call like a function\n",
    "\n",
    "plotfunctions(p)  # same generic function"
   ]
  },
  {
   "attachments": {},
   "cell_type": "markdown",
   "id": "73571f38",
   "metadata": {},
   "source": [
    "Similarly, the result of interpolating data is also a function"
   ]
  },
  {
   "cell_type": "code",
   "execution_count": 41,
   "id": "33f5fa53",
   "metadata": {
    "hide-output": false
   },
   "outputs": [
    {
     "name": "stdout",
     "output_type": "stream",
     "text": [
      "f_int(1.0) = 1.0\n"
     ]
    },
    {
     "ename": "LoadError",
     "evalue": "BoundsError: attempt to access 6-element extrapolate(scale(interpolate(::Vector{Float64}, BSpline(Linear())), (0.0:0.2:1.0,)), Throw()) with element type Float64 at index [1.1]",
     "output_type": "error",
     "traceback": [
      "BoundsError: attempt to access 6-element extrapolate(scale(interpolate(::Vector{Float64}, BSpline(Linear())), (0.0:0.2:1.0,)), Throw()) with element type Float64 at index [1.1]",
      "",
      "Stacktrace:",
      "  [1] throw_boundserror(A::Interpolations.Extrapolation{Float64, 1, ScaledInterpolation{Float64, 1, Interpolations.BSplineInterpolation{Float64, 1, Vector{Float64}, BSpline{Linear{Throw{OnGrid}}}, Tuple{Base.OneTo{Int64}}}, BSpline{Linear{Throw{OnGrid}}}, Tuple{StepRangeLen{Float64, Base.TwicePrecision{Float64}, Base.TwicePrecision{Float64}, Int64}}}, BSpline{Linear{Throw{OnGrid}}}, Throw{Nothing}}, I::Tuple{Float64})",
      "    @ Base ./abstractarray.jl:744",
      "  [2] inbounds_index",
      "    @ ~/.julia/packages/Interpolations/Sxe87/src/extrapolation/extrapolation.jl:111 [inlined]",
      "  [3] inbounds_position",
      "    @ ~/.julia/packages/Interpolations/Sxe87/src/extrapolation/extrapolation.jl:102 [inlined]",
      "  [4] Extrapolation",
      "    @ ~/.julia/packages/Interpolations/Sxe87/src/extrapolation/extrapolation.jl:48 [inlined]",
      "  [5] _broadcast_getindex_evalf",
      "    @ ./broadcast.jl:683 [inlined]",
      "  [6] _broadcast_getindex",
      "    @ ./broadcast.jl:656 [inlined]",
      "  [7] getindex",
      "    @ ./broadcast.jl:610 [inlined]",
      "  [8] macro expansion",
      "    @ ./broadcast.jl:974 [inlined]",
      "  [9] macro expansion",
      "    @ ./simdloop.jl:77 [inlined]",
      " [10] copyto!",
      "    @ ./broadcast.jl:973 [inlined]",
      " [11] copyto!",
      "    @ ./broadcast.jl:926 [inlined]",
      " [12] copy",
      "    @ ./broadcast.jl:898 [inlined]",
      " [13] materialize",
      "    @ ./broadcast.jl:873 [inlined]",
      " [14] plotfunctions(f::Interpolations.Extrapolation{Float64, 1, ScaledInterpolation{Float64, 1, Interpolations.BSplineInterpolation{Float64, 1, Vector{Float64}, BSpline{Linear{Throw{OnGrid}}}, Tuple{Base.OneTo{Int64}}}, BSpline{Linear{Throw{OnGrid}}}, Tuple{StepRangeLen{Float64, Base.TwicePrecision{Float64}, Base.TwicePrecision{Float64}, Int64}}}, BSpline{Linear{Throw{OnGrid}}}, Throw{Nothing}})",
      "    @ Main ./In[39]:9",
      " [15] top-level scope",
      "    @ In[41]:7"
     ]
    }
   ],
   "source": [
    "using Interpolations\n",
    "x = 0.0:0.2:1.0\n",
    "f(x) = x^2\n",
    "f_int = LinearInterpolation(x, f.(x))  # interpolates the coarse grid\n",
    "@show f_int(1.0)  # call like a function\n",
    "\n",
    "plotfunctions(f_int)  # same generic function"
   ]
  },
  {
   "attachments": {},
   "cell_type": "markdown",
   "id": "6910b39d",
   "metadata": {},
   "source": [
    "Note that the same generic `plotfunctions` could use any variable passed to it that “looks” like a function, i.e., can call `f(x)`.\n",
    "\n",
    "This approach to design with types – generic, but without any specific type declarations – is called [duck typing](https://en.wikipedia.org/wiki/Duck_typing).\n",
    "\n",
    "If you need to make an existing type callable, see [Function Like Objects](https://docs.julialang.org/en/v1/manual/methods/#Function-like-objects-1)."
   ]
  },
  {
   "attachments": {},
   "cell_type": "markdown",
   "id": "abe2e1cc",
   "metadata": {},
   "source": [
    "## Limitations of Dispatching on Abstract Types\n",
    "\n",
    "You will notice that types in Julia represent a tree with `Any` at the root.\n",
    "\n",
    "The tree structure has worked well for the above examples, but it doesn’t allow us to associate multiple categorizations of types.\n",
    "\n",
    "For example, a semi-group type would be useful for a writing generic code (e.g.\n",
    "continuous-time solutions for ODEs and matrix-free methods), but cannot be\n",
    "implemented rigorously since the `Matrix` type is a semi-group as well\n",
    "as an `AbstractArray`, but not all semi-groups are `AbstractArray` s.\n",
    "\n",
    "The main way to implement this in a generic language is with a design approach called “traits”.\n",
    "\n",
    "- See the [original discussion](https://github.com/JuliaLang/julia/issues/2345#issuecomment-54537633) and an [example of a package to facilitate the pattern](https://github.com/mauro3/SimpleTraits.jl).  \n",
    "- A complete description of the traits pattern as the natural evolution of Multiple Dispatch is given in this [blog post](https://white.ucc.asn.au/2018/10/03/Dispatch,-Traits-and-Metaprogramming-Over-Reflection.html).  "
   ]
  },
  {
   "attachments": {},
   "cell_type": "markdown",
   "id": "cd0aa038",
   "metadata": {},
   "source": [
    "## Exercises"
   ]
  },
  {
   "attachments": {},
   "cell_type": "markdown",
   "id": "4350a8c1",
   "metadata": {},
   "source": [
    "### Exercise 1a\n",
    "\n",
    "In a previous exercise, we discussed the [trapezoidal rule](https://julia.quantecon.org/../getting_started_julia/introduction_to_types.html#intro-types-ex-5) for numerical integration.\n",
    "\n",
    "To summarize, the vector\n",
    "\n",
    "$$\n",
    "\\int_{\\underline{x}}^{\\bar{x}} f(x) \\, dx \\approx \\omega \\cdot \\vec{f}\n",
    "$$\n",
    "\n",
    "where $ \\vec{f} \\equiv \\begin{bmatrix} f(x_1) & \\ldots & f(x_N) \\end{bmatrix}\\in R^N $ and, for a uniform grid spacing\n",
    "of $ \\Delta $,\n",
    "\n",
    "$$\n",
    "\\omega \\equiv \\Delta \\begin{bmatrix} \\frac{1}{2} & 1 & \\ldots & 1 & \\frac{1}{2}\\end{bmatrix} \\in R^N\n",
    "$$\n",
    "\n",
    "The quadrature rule can be implemented easily as"
   ]
  },
  {
   "cell_type": "code",
   "execution_count": 6,
   "id": "01dbac53",
   "metadata": {
    "hide-output": false
   },
   "outputs": [
    {
     "name": "stdout",
     "output_type": "stream",
     "text": [
      "StepRangeLen{Float64, Base.TwicePrecision{Float64}, Base.TwicePrecision{Float64}, Int64}\n"
     ]
    },
    {
     "data": {
      "text/plain": [
       "0.3333503384008434"
      ]
     },
     "execution_count": 6,
     "metadata": {},
     "output_type": "execute_result"
    }
   ],
   "source": [
    "using LinearAlgebra\n",
    "function trap_weights(x)\n",
    "    return step(x) * [0.5; ones(length(x) - 2); 0.5]\n",
    "end\n",
    "x = range(0.0, 1.0, length = 100)\n",
    "ω = trap_weights(x)\n",
    "f(x) = x^2\n",
    "dot(f.(x), ω)"
   ]
  },
  {
   "attachments": {},
   "cell_type": "markdown",
   "id": "d26b2345",
   "metadata": {},
   "source": [
    "However, in this case the creation of the `ω` temporary is inefficient as there are no reasons to allocate an entire vector just\n",
    "to iterate through it with the `dot`.  Instead, create an iterable by following the [interface definition for Iteration](https://docs.julialang.org/en/v1/manual/interfaces/#man-interface-iteration-1), and\n",
    "implement the modified `trap_weights` and integration.\n",
    "\n",
    "Hint:  create a type such as"
   ]
  },
  {
   "cell_type": "code",
   "execution_count": 5,
   "id": "c4d1e672",
   "metadata": {
    "hide-output": false
   },
   "outputs": [],
   "source": [
    "struct UniformTrapezoidal\n",
    "    count::Int\n",
    "    Delta::Float64\n",
    "end"
   ]
  },
  {
   "attachments": {},
   "cell_type": "markdown",
   "id": "307cafcc",
   "metadata": {},
   "source": [
    "and then implement the function `Base.iterate(S::UniformTrapezoidal, state=1)`."
   ]
  },
  {
   "cell_type": "code",
   "execution_count": 17,
   "id": "9fd7c3c7",
   "metadata": {},
   "outputs": [
    {
     "name": "stdout",
     "output_type": "stream",
     "text": [
      "iterate(S, 12) = nothing\n",
      "StepRangeLen{Float64, Base.TwicePrecision{Float64}, Base.TwicePrecision{Float64}, Int64}\n",
      "trap_weights(range(0.0, 1.0, length = 11)) = [0.05, 0.1, 0.1, 0.1, 0.1, 0.1, 0.1, 0.1, 0.1, 0.1, 0.05]\n"
     ]
    },
    {
     "data": {
      "text/plain": [
       "11-element Vector{Float64}:\n",
       " 0.05\n",
       " 0.1\n",
       " 0.1\n",
       " 0.1\n",
       " 0.1\n",
       " 0.1\n",
       " 0.1\n",
       " 0.1\n",
       " 0.1\n",
       " 0.1\n",
       " 0.05"
      ]
     },
     "execution_count": 17,
     "metadata": {},
     "output_type": "execute_result"
    }
   ],
   "source": [
    "import Base.iterate\n",
    "\n",
    "function iterate(S::UniformTrapezoidal, state=1)\n",
    "    if state > S.count || state <= 0\n",
    "        return nothing\n",
    "    elseif state == 1 || state == S.count\n",
    "        return (S.Delta*0.5, state+1)\n",
    "    else\n",
    "        return (S.Delta, state+1)\n",
    "    end\n",
    "end\n",
    "\n",
    "S = UniformTrapezoidal(11, 0.1)\n",
    "@show iterate(S, 12)\n",
    "@show trap_weights(range(0.0, 1.0, length=11))"
   ]
  },
  {
   "attachments": {},
   "cell_type": "markdown",
   "id": "c35f05ab",
   "metadata": {},
   "source": [
    "### Exercise 1b (Advanced)\n",
    "\n",
    "Make the `UniformTrapezoidal` type operate as an array with [interface definition for AbstractArray](https://docs.julialang.org/en/v1/manual/interfaces/#man-interface-array-1).  With this, you should be able it go `ω[2]` or `length(ω)` to access the quadrature weights."
   ]
  },
  {
   "cell_type": "code",
   "execution_count": 26,
   "id": "42036b6b",
   "metadata": {},
   "outputs": [],
   "source": [
    "Base.size(S::UniformTrapezoidal) = S.count\n",
    "Base.getindex(S::UniformTrapezoidal, i::Int) = iterate(S, i)[1]\n",
    "Base.getindex(S::UniformTrapezoidal, I::Vararg{Int, 1}) = [iterate(S, i)[1] for i in I]\n",
    "Base.length(S::UniformTrapezoidal) = prod(size(S))"
   ]
  },
  {
   "cell_type": "code",
   "execution_count": 28,
   "id": "a53bd2d7",
   "metadata": {},
   "outputs": [
    {
     "name": "stdout",
     "output_type": "stream",
     "text": [
      "UniformTrapezoidal\n",
      "S[1] = [0.05]\n",
      "length(S) = 11\n"
     ]
    },
    {
     "data": {
      "text/plain": [
       "11"
      ]
     },
     "execution_count": 28,
     "metadata": {},
     "output_type": "execute_result"
    }
   ],
   "source": [
    "println(typeof(S))\n",
    "@show S[1]\n",
    "@show length(S)"
   ]
  },
  {
   "attachments": {},
   "cell_type": "markdown",
   "id": "03d9f7b9",
   "metadata": {},
   "source": [
    "### Exercise 2 (Advanced)\n",
    "\n",
    "Implement the same features as Exercise 1a and 1b, but for the  [non-uniform trapezoidal rule](https://en.wikipedia.org/wiki/Trapezoidal_rule#Non-uniform_grid)."
   ]
  }
 ],
 "metadata": {
  "date": 1672949737.1365173,
  "filename": "generic_programming.md",
  "kernelspec": {
   "display_name": "Julia 1.9.0",
   "language": "julia",
   "name": "julia-1.9"
  },
  "language_info": {
   "file_extension": ".jl",
   "mimetype": "application/julia",
   "name": "julia",
   "version": "1.9.0"
  },
  "title": "Generic Programming"
 },
 "nbformat": 4,
 "nbformat_minor": 5
}
