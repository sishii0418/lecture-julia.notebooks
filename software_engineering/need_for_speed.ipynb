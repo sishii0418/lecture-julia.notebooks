{
 "cells": [
  {
   "attachments": {},
   "cell_type": "markdown",
   "id": "e9e8f70b",
   "metadata": {},
   "source": [
    "\n",
    "<a id='types-methods'></a>"
   ]
  },
  {
   "attachments": {},
   "cell_type": "markdown",
   "id": "1e8aa539",
   "metadata": {},
   "source": [
    "# The Need for Speed"
   ]
  },
  {
   "attachments": {},
   "cell_type": "markdown",
   "id": "8292c241",
   "metadata": {},
   "source": [
    "## Contents\n",
    "\n",
    "- [The Need for Speed](#The-Need-for-Speed)  \n",
    "  - [Overview](#Overview)  \n",
    "  - [Understanding Multiple Dispatch in Julia](#Understanding-Multiple-Dispatch-in-Julia)  \n",
    "  - [Foundations](#Foundations)  \n",
    "  - [JIT Compilation in Julia](#JIT-Compilation-in-Julia)  \n",
    "  - [Fast and Slow Julia Code](#Fast-and-Slow-Julia-Code)  \n",
    "  - [Further Comments](#Further-Comments)  "
   ]
  },
  {
   "attachments": {},
   "cell_type": "markdown",
   "id": "bc8feb02",
   "metadata": {},
   "source": [
    "## Overview\n",
    "\n",
    "Computer scientists often classify programming languages according to the following two categories.\n",
    "\n",
    "*High level languages* aim to maximize productivity by\n",
    "\n",
    "- being easy to read, write and debug  \n",
    "- automating standard tasks (e.g., memory management)  \n",
    "- being interactive, etc.  \n",
    "\n",
    "\n",
    "*Low level languages* aim for speed and control, which they achieve by\n",
    "\n",
    "- being closer to the metal (direct access to CPU, memory, etc.)  \n",
    "- requiring a relatively large amount of information from the user (e.g., all data types must be specified)  \n",
    "\n",
    "\n",
    "Traditionally we understand this as a trade off\n",
    "\n",
    "- high productivity or high performance  \n",
    "- optimized for humans or optimized for machines  \n",
    "\n",
    "\n",
    "One of the great strengths of Julia is that it pushes out the curve, achieving\n",
    "both high productivity and high performance with relatively little fuss.\n",
    "\n",
    "The word “relatively” is important here, however…\n",
    "\n",
    "In simple programs, excellent performance is often trivial to achieve.\n",
    "\n",
    "For longer, more sophisticated programs, you need to be aware of potential stumbling blocks.\n",
    "\n",
    "This lecture covers the key points."
   ]
  },
  {
   "attachments": {},
   "cell_type": "markdown",
   "id": "326c960a",
   "metadata": {},
   "source": [
    "### Requirements\n",
    "\n",
    "You should read our [earlier lecture](https://julia.quantecon.org/../more_julia/generic_programming.html) on types, methods and multiple dispatch before this one."
   ]
  },
  {
   "cell_type": "code",
   "execution_count": 1,
   "id": "ef7d5687",
   "metadata": {
    "hide-output": false
   },
   "outputs": [],
   "source": [
    "using LinearAlgebra, Statistics"
   ]
  },
  {
   "attachments": {},
   "cell_type": "markdown",
   "id": "d9c50dbb",
   "metadata": {},
   "source": [
    "## Understanding Multiple Dispatch in Julia\n",
    "\n",
    "This section provides more background on how methods, functions, and types are connected."
   ]
  },
  {
   "attachments": {},
   "cell_type": "markdown",
   "id": "f2ba60a3",
   "metadata": {},
   "source": [
    "### Methods and Functions\n",
    "\n",
    "The precise data type is important, for reasons of both efficiency and mathematical correctness.\n",
    "\n",
    "For example consider 1 + 1 vs. 1.0 + 1.0 or [1 0] + [0 1].\n",
    "\n",
    "On a CPU, integer and floating point addition are different things, using a different set of instructions.\n",
    "\n",
    "Julia handles this problem by storing multiple, specialized versions of functions like addition, one for each data type or set of data types.\n",
    "\n",
    "These individual specialized versions are called **methods**.\n",
    "\n",
    "When an operation like addition is requested, the Julia compiler inspects the type of data to be acted on and hands it out to the appropriate method.\n",
    "\n",
    "This process is called **multiple dispatch**.\n",
    "\n",
    "Like all “infix” operators, 1 + 1 has the alternative syntax +(1, 1)"
   ]
  },
  {
   "cell_type": "code",
   "execution_count": 2,
   "id": "64011918",
   "metadata": {
    "hide-output": false
   },
   "outputs": [
    {
     "data": {
      "text/plain": [
       "2"
      ]
     },
     "execution_count": 2,
     "metadata": {},
     "output_type": "execute_result"
    }
   ],
   "source": [
    "+(1, 1)"
   ]
  },
  {
   "attachments": {},
   "cell_type": "markdown",
   "id": "adc77083",
   "metadata": {},
   "source": [
    "This operator + is itself a function with multiple methods.\n",
    "\n",
    "We can investigate them using the @which macro, which shows the method to which a given call is dispatched"
   ]
  },
  {
   "cell_type": "code",
   "execution_count": 3,
   "id": "1e04623a",
   "metadata": {
    "hide-output": false
   },
   "outputs": [
    {
     "data": {
      "text/html": [
       "+(x::<b>T</b>, y::<b>T</b>)<i> where T<:Union{Float16, Float32, Float64}</i> in Base at <a href=\"https://github.com/JuliaLang/julia/tree/8e630552924eac54c809aa7bc30871c7df1582d3/base/float.jl#L408\" target=\"_blank\">float.jl:408</a>"
      ],
      "text/plain": [
       "+(\u001b[90mx\u001b[39m::\u001b[1mT\u001b[22m, \u001b[90my\u001b[39m::\u001b[1mT\u001b[22m) where T<:Union{Float16, Float32, Float64}\n",
       "\u001b[90m     @\u001b[39m \u001b[90mBase\u001b[39m \u001b[90m\u001b[4mfloat.jl:408\u001b[24m\u001b[39m"
      ]
     },
     "execution_count": 3,
     "metadata": {},
     "output_type": "execute_result"
    }
   ],
   "source": [
    "x, y = 1.0, 1.0\n",
    "@which +(x, y)"
   ]
  },
  {
   "attachments": {},
   "cell_type": "markdown",
   "id": "18a0f539",
   "metadata": {},
   "source": [
    "We see that the operation is sent to the `+` method that specializes in adding\n",
    "floating point numbers.\n",
    "\n",
    "Here’s the integer case"
   ]
  },
  {
   "cell_type": "code",
   "execution_count": 4,
   "id": "28f2bcf0",
   "metadata": {
    "hide-output": false
   },
   "outputs": [
    {
     "data": {
      "text/html": [
       "+(x::<b>T</b>, y::<b>T</b>)<i> where T<:Union{Int128, Int16, Int32, Int64, Int8, UInt128, UInt16, UInt32, UInt64, UInt8}</i> in Base at <a href=\"https://github.com/JuliaLang/julia/tree/8e630552924eac54c809aa7bc30871c7df1582d3/base/int.jl#L87\" target=\"_blank\">int.jl:87</a>"
      ],
      "text/plain": [
       "+(\u001b[90mx\u001b[39m::\u001b[1mT\u001b[22m, \u001b[90my\u001b[39m::\u001b[1mT\u001b[22m) where T<:Union{Int128, Int16, Int32, Int64, Int8, UInt128, UInt16, UInt32, UInt64, UInt8}\n",
       "\u001b[90m     @\u001b[39m \u001b[90mBase\u001b[39m \u001b[90m\u001b[4mint.jl:87\u001b[24m\u001b[39m"
      ]
     },
     "execution_count": 4,
     "metadata": {},
     "output_type": "execute_result"
    }
   ],
   "source": [
    "x, y = 1, 1\n",
    "@which +(x, y)"
   ]
  },
  {
   "attachments": {},
   "cell_type": "markdown",
   "id": "57194635",
   "metadata": {},
   "source": [
    "This output says that the call has been dispatched to the + method\n",
    "responsible for handling integer values.\n",
    "\n",
    "(We’ll learn more about the details of this syntax below)\n",
    "\n",
    "Here’s another example, with complex numbers"
   ]
  },
  {
   "cell_type": "code",
   "execution_count": 5,
   "id": "a3ae85be",
   "metadata": {
    "hide-output": false
   },
   "outputs": [
    {
     "data": {
      "text/html": [
       "+(z::<b>Complex</b>, w::<b>Complex</b>) in Base at <a href=\"https://github.com/JuliaLang/julia/tree/8e630552924eac54c809aa7bc30871c7df1582d3/base/complex.jl#L291\" target=\"_blank\">complex.jl:291</a>"
      ],
      "text/plain": [
       "+(\u001b[90mz\u001b[39m::\u001b[1mComplex\u001b[22m, \u001b[90mw\u001b[39m::\u001b[1mComplex\u001b[22m)\n",
       "\u001b[90m     @\u001b[39m \u001b[90mBase\u001b[39m \u001b[90m\u001b[4mcomplex.jl:291\u001b[24m\u001b[39m"
      ]
     },
     "execution_count": 5,
     "metadata": {},
     "output_type": "execute_result"
    }
   ],
   "source": [
    "x, y = 1.0 + 1.0im, 1.0 + 1.0im\n",
    "@which +(x, y)"
   ]
  },
  {
   "attachments": {},
   "cell_type": "markdown",
   "id": "1379c1c4",
   "metadata": {},
   "source": [
    "Again, the call has been dispatched to a + method specifically designed for handling the given data type."
   ]
  },
  {
   "attachments": {},
   "cell_type": "markdown",
   "id": "63c0eb37",
   "metadata": {},
   "source": [
    "#### Adding Methods\n",
    "\n",
    "It’s straightforward to add methods to existing functions.\n",
    "\n",
    "For example, we can’t at present add an integer and a string in Julia (i.e. `100 + \"100\"` is not valid syntax).\n",
    "\n",
    "This is sensible behavior, but if you want to change it there’s nothing to stop you."
   ]
  },
  {
   "cell_type": "code",
   "execution_count": 6,
   "id": "c4beda09",
   "metadata": {
    "hide-output": false
   },
   "outputs": [
    {
     "name": "stdout",
     "output_type": "stream",
     "text": [
      "100 + \"100\" = 200\n",
      "100 + \"100\" = 200\n"
     ]
    }
   ],
   "source": [
    "import Base: +  # enables adding methods to the + function\n",
    "+(x::Integer, y::String) = x + parse(Int, y)\n",
    "@show +(100, \"100\")\n",
    "@show 100 + \"100\";  # equivalent"
   ]
  },
  {
   "attachments": {},
   "cell_type": "markdown",
   "id": "6e7950fb",
   "metadata": {},
   "source": [
    "The above code is not executed to avoid any chance of a [method invalidation](https://julialang.org/blog/2020/08/invalidations/), where are a source of compile-time latency."
   ]
  },
  {
   "attachments": {},
   "cell_type": "markdown",
   "id": "ab19fdb0",
   "metadata": {},
   "source": [
    "### Understanding the Compilation Process\n",
    "\n",
    "We can now be a little bit clearer about what happens when you call a function on given types.\n",
    "\n",
    "Suppose we execute the function call `f(a, b)` where `a` and `b`\n",
    "are of concrete types `S` and `T` respectively.\n",
    "\n",
    "The Julia interpreter first queries the types of `a` and `b` to obtain the tuple `(S, T)`.\n",
    "\n",
    "It then parses the list of methods belonging to `f`, searching for a match.\n",
    "\n",
    "If it finds a method matching `(S, T)` it calls that method.\n",
    "\n",
    "If not, it looks to see whether the pair `(S, T)` matches any method defined for *immediate parent types*.\n",
    "\n",
    "For example, if `S` is `Float64` and `T` is `ComplexF32` then the\n",
    "immediate parents are `AbstractFloat` and `Number` respectively"
   ]
  },
  {
   "cell_type": "code",
   "execution_count": 7,
   "id": "02551fbd",
   "metadata": {
    "hide-output": false
   },
   "outputs": [
    {
     "data": {
      "text/plain": [
       "AbstractFloat"
      ]
     },
     "execution_count": 7,
     "metadata": {},
     "output_type": "execute_result"
    }
   ],
   "source": [
    "supertype(Float64)"
   ]
  },
  {
   "cell_type": "code",
   "execution_count": 8,
   "id": "806c2c6f",
   "metadata": {
    "hide-output": false
   },
   "outputs": [
    {
     "data": {
      "text/plain": [
       "Number"
      ]
     },
     "execution_count": 8,
     "metadata": {},
     "output_type": "execute_result"
    }
   ],
   "source": [
    "supertype(ComplexF32)"
   ]
  },
  {
   "attachments": {},
   "cell_type": "markdown",
   "id": "5309514c",
   "metadata": {},
   "source": [
    "Hence the interpreter looks next for a method of the form `f(x::AbstractFloat, y::Number)`.\n",
    "\n",
    "If the interpreter can’t find a match in immediate parents (supertypes) it proceeds up the tree, looking at the parents of the last type it checked at each iteration.\n",
    "\n",
    "- If it eventually finds a matching method, it invokes that method.  \n",
    "- If not, we get an error.  \n",
    "\n",
    "\n",
    "This is the process that leads to the following error (since we only added the `+` for adding `Integer` and `String` above)"
   ]
  },
  {
   "cell_type": "code",
   "execution_count": 9,
   "id": "5d681622",
   "metadata": {
    "hide-output": false
   },
   "outputs": [
    {
     "name": "stdout",
     "output_type": "stream",
     "text": [
      "(typeof(100.0) <: Integer) == false = true\n"
     ]
    },
    {
     "ename": "LoadError",
     "evalue": "MethodError: no method matching +(::Float64, ::String)\n\n\u001b[0mClosest candidates are:\n\u001b[0m  +(::Any, ::Any, \u001b[91m::Any\u001b[39m, \u001b[91m::Any...\u001b[39m)\n\u001b[0m\u001b[90m   @\u001b[39m \u001b[90mBase\u001b[39m \u001b[90m\u001b[4moperators.jl:578\u001b[24m\u001b[39m\n\u001b[0m  +(::T, \u001b[91m::T\u001b[39m) where T<:Union{Float16, Float32, Float64}\n\u001b[0m\u001b[90m   @\u001b[39m \u001b[90mBase\u001b[39m \u001b[90m\u001b[4mfloat.jl:408\u001b[24m\u001b[39m\n\u001b[0m  +(::Union{Float16, Float32, Float64}, \u001b[91m::BigFloat\u001b[39m)\n\u001b[0m\u001b[90m   @\u001b[39m \u001b[90mBase\u001b[39m \u001b[90m\u001b[4mmpfr.jl:423\u001b[24m\u001b[39m\n\u001b[0m  ...\n",
     "output_type": "error",
     "traceback": [
      "MethodError: no method matching +(::Float64, ::String)\n\n\u001b[0mClosest candidates are:\n\u001b[0m  +(::Any, ::Any, \u001b[91m::Any\u001b[39m, \u001b[91m::Any...\u001b[39m)\n\u001b[0m\u001b[90m   @\u001b[39m \u001b[90mBase\u001b[39m \u001b[90m\u001b[4moperators.jl:578\u001b[24m\u001b[39m\n\u001b[0m  +(::T, \u001b[91m::T\u001b[39m) where T<:Union{Float16, Float32, Float64}\n\u001b[0m\u001b[90m   @\u001b[39m \u001b[90mBase\u001b[39m \u001b[90m\u001b[4mfloat.jl:408\u001b[24m\u001b[39m\n\u001b[0m  +(::Union{Float16, Float32, Float64}, \u001b[91m::BigFloat\u001b[39m)\n\u001b[0m\u001b[90m   @\u001b[39m \u001b[90mBase\u001b[39m \u001b[90m\u001b[4mmpfr.jl:423\u001b[24m\u001b[39m\n\u001b[0m  ...\n",
      "",
      "Stacktrace:",
      " [1] top-level scope",
      "   @ In[9]:2"
     ]
    }
   ],
   "source": [
    "@show (typeof(100.0) <: Integer) == false\n",
    "100.0 + \"100\""
   ]
  },
  {
   "attachments": {},
   "cell_type": "markdown",
   "id": "a9ddacc3",
   "metadata": {},
   "source": [
    "Because the dispatch procedure starts from concrete types and works upwards, dispatch always invokes the *most specific method* available.\n",
    "\n",
    "For example, if you have methods for function `f` that handle\n",
    "\n",
    "1. `(Float64, Int64)` pairs  \n",
    "1. `(Number, Number)` pairs  \n",
    "\n",
    "\n",
    "and you call `f` with `f(0.5, 1)` then the first method will be invoked.\n",
    "\n",
    "This makes sense because (hopefully) the first method is optimized for\n",
    "exactly this kind of data.\n",
    "\n",
    "The second method is probably more of a “catch all” method that handles other\n",
    "data in a less optimal way.\n",
    "\n",
    "Here’s another simple example, involving a user-defined function"
   ]
  },
  {
   "cell_type": "code",
   "execution_count": 10,
   "id": "28e5687c",
   "metadata": {
    "hide-output": false
   },
   "outputs": [
    {
     "data": {
      "text/plain": [
       "q (generic function with 3 methods)"
      ]
     },
     "execution_count": 10,
     "metadata": {},
     "output_type": "execute_result"
    }
   ],
   "source": [
    "function q(x)  # or q(x::Any)\n",
    "    println(\"Default (Any) method invoked\")\n",
    "end\n",
    "\n",
    "function q(x::Number)\n",
    "    println(\"Number method invoked\")\n",
    "end\n",
    "\n",
    "function q(x::Integer)\n",
    "    println(\"Integer method invoked\")\n",
    "end"
   ]
  },
  {
   "attachments": {},
   "cell_type": "markdown",
   "id": "8324dbc5",
   "metadata": {},
   "source": [
    "Let’s now run this and see how it relates to our discussion of method dispatch\n",
    "above"
   ]
  },
  {
   "cell_type": "code",
   "execution_count": 11,
   "id": "8a0d4d74",
   "metadata": {
    "hide-output": false
   },
   "outputs": [
    {
     "name": "stdout",
     "output_type": "stream",
     "text": [
      "Integer method invoked\n"
     ]
    }
   ],
   "source": [
    "q(3)"
   ]
  },
  {
   "cell_type": "code",
   "execution_count": 12,
   "id": "6577eb4f",
   "metadata": {
    "hide-output": false
   },
   "outputs": [
    {
     "name": "stdout",
     "output_type": "stream",
     "text": [
      "Number method invoked\n"
     ]
    }
   ],
   "source": [
    "q(3.0)"
   ]
  },
  {
   "cell_type": "code",
   "execution_count": 13,
   "id": "6b6f59a0",
   "metadata": {
    "hide-output": false
   },
   "outputs": [
    {
     "name": "stdout",
     "output_type": "stream",
     "text": [
      "Default (Any) method invoked\n"
     ]
    }
   ],
   "source": [
    "q(\"foo\")"
   ]
  },
  {
   "attachments": {},
   "cell_type": "markdown",
   "id": "499a8f9b",
   "metadata": {},
   "source": [
    "Since `typeof(3) <: Int64 <: Integer <: Number`, the call `q(3)` proceeds up the tree to `Integer` and invokes `q(x::Integer)`.\n",
    "\n",
    "On the other hand, `3.0` is a `Float64`, which is not a subtype of  `Integer`.\n",
    "\n",
    "Hence the call `q(3.0)` continues up to `q(x::Number)`.\n",
    "\n",
    "Finally, `q(\"foo\")` is handled by the function operating on `Any`, since `String` is not a subtype of `Number` or `Integer`."
   ]
  },
  {
   "attachments": {},
   "cell_type": "markdown",
   "id": "2039e732",
   "metadata": {},
   "source": [
    "### Analyzing Function Return Types\n",
    "\n",
    "For the most part, time spent “optimizing” Julia code to run faster is about ensuring the compiler can correctly deduce types for all functions.\n",
    "\n",
    "The macro `@code_warntype` gives us a hint"
   ]
  },
  {
   "cell_type": "code",
   "execution_count": 14,
   "id": "f2963bc9",
   "metadata": {
    "hide-output": false
   },
   "outputs": [
    {
     "name": "stdout",
     "output_type": "stream",
     "text": [
      "MethodInstance for f(::Vector{Int64})\n",
      "  from f(\u001b[90mx\u001b[39m)\u001b[90m @\u001b[39m \u001b[90mMain\u001b[39m \u001b[90m\u001b[4mIn[14]:2\u001b[24m\u001b[39m\n",
      "Arguments\n",
      "  #self#\u001b[36m::Core.Const(f)\u001b[39m\n",
      "  x\u001b[36m::Vector{Int64}\u001b[39m\n",
      "Body\u001b[36m::Vector{Int64}\u001b[39m\n",
      "\u001b[90m1 ─\u001b[39m %1 = (2 * x)\u001b[36m::Vector{Int64}\u001b[39m\n",
      "\u001b[90m└──\u001b[39m      return %1\n",
      "\n"
     ]
    }
   ],
   "source": [
    "x = [1, 2, 3]\n",
    "f(x) = 2x\n",
    "@code_warntype f(x)"
   ]
  },
  {
   "attachments": {},
   "cell_type": "markdown",
   "id": "e33f3ecb",
   "metadata": {},
   "source": [
    "The `@code_warntype` macro compiles `f(x)` using the type of `x` as an example – i.e., the `[1, 2, 3]` is used as a prototype for analyzing the compilation, rather than simply calculating the value.\n",
    "\n",
    "Here, the `Body::Array{Int64,1}` tells us the type of the return value of the\n",
    "function, when called with types like `[1, 2, 3]`, is always a vector of integers.\n",
    "\n",
    "In contrast, consider a function potentially returning `nothing`, as in [this lecture](https://julia.quantecon.org/../getting_started_julia/fundamental_types.html)"
   ]
  },
  {
   "cell_type": "code",
   "execution_count": 15,
   "id": "bf967c29",
   "metadata": {
    "hide-output": false
   },
   "outputs": [
    {
     "name": "stdout",
     "output_type": "stream",
     "text": [
      "MethodInstance for f(::Int64)\n",
      "  from f(\u001b[90mx\u001b[39m)\u001b[90m @\u001b[39m \u001b[90mMain\u001b[39m \u001b[90m\u001b[4mIn[15]:1\u001b[24m\u001b[39m\n",
      "Arguments\n",
      "  #self#\u001b[36m::Core.Const(f)\u001b[39m\n",
      "  x\u001b[36m::Int64\u001b[39m\n",
      "Body\u001b[33m\u001b[1m::Union{Nothing, Int64}\u001b[22m\u001b[39m\n",
      "\u001b[90m1 ─\u001b[39m %1 = (x > 0.0)\u001b[36m::Bool\u001b[39m\n",
      "\u001b[90m└──\u001b[39m      goto #3 if not %1\n",
      "\u001b[90m2 ─\u001b[39m      return x\n",
      "\u001b[90m3 ─\u001b[39m      return Main.nothing\n",
      "\n"
     ]
    }
   ],
   "source": [
    "f(x) = x > 0.0 ? x : nothing\n",
    "@code_warntype f(1)"
   ]
  },
  {
   "attachments": {},
   "cell_type": "markdown",
   "id": "b7c089fb",
   "metadata": {},
   "source": [
    "This states that the compiler determines the return type when called with an integer (like `1`) could be one of two different types, `Body::Union{Nothing, Int64}`.\n",
    "\n",
    "A final example is a variation on the above, which returns the maximum of `x` and `0`."
   ]
  },
  {
   "cell_type": "code",
   "execution_count": 16,
   "id": "b9c86eb0",
   "metadata": {
    "hide-output": false
   },
   "outputs": [
    {
     "name": "stdout",
     "output_type": "stream",
     "text": [
      "MethodInstance for f(::Int64)\n",
      "  from f(\u001b[90mx\u001b[39m)\u001b[90m @\u001b[39m \u001b[90mMain\u001b[39m \u001b[90m\u001b[4mIn[16]:1\u001b[24m\u001b[39m\n",
      "Arguments\n",
      "  #self#\u001b[36m::Core.Const(f)\u001b[39m\n",
      "  x\u001b[36m::Int64\u001b[39m\n",
      "Body\u001b[33m\u001b[1m::Union{Float64, Int64}\u001b[22m\u001b[39m\n",
      "\u001b[90m1 ─\u001b[39m %1 = (x > 0.0)\u001b[36m::Bool\u001b[39m\n",
      "\u001b[90m└──\u001b[39m      goto #3 if not %1\n",
      "\u001b[90m2 ─\u001b[39m      return x\n",
      "\u001b[90m3 ─\u001b[39m      return 0.0\n",
      "\n"
     ]
    }
   ],
   "source": [
    "f(x) = x > 0.0 ? x : 0.0\n",
    "@code_warntype f(1)"
   ]
  },
  {
   "attachments": {},
   "cell_type": "markdown",
   "id": "47a83b4a",
   "metadata": {},
   "source": [
    "Which shows that, when called with an integer, the type could be that integer or the floating point `0.0`.\n",
    "\n",
    "On the other hand, if we use change the function to return `0` if x <= 0, it is type-unstable with  floating point."
   ]
  },
  {
   "cell_type": "code",
   "execution_count": 17,
   "id": "214a3c25",
   "metadata": {
    "hide-output": false
   },
   "outputs": [
    {
     "name": "stdout",
     "output_type": "stream",
     "text": [
      "MethodInstance for f(::Float64)\n",
      "  from f(\u001b[90mx\u001b[39m)\u001b[90m @\u001b[39m \u001b[90mMain\u001b[39m \u001b[90m\u001b[4mIn[17]:1\u001b[24m\u001b[39m\n",
      "Arguments\n",
      "  #self#\u001b[36m::Core.Const(f)\u001b[39m\n",
      "  x\u001b[36m::Float64\u001b[39m\n",
      "Body\u001b[33m\u001b[1m::Union{Float64, Int64}\u001b[22m\u001b[39m\n",
      "\u001b[90m1 ─\u001b[39m %1 = (x > 0.0)\u001b[36m::Bool\u001b[39m\n",
      "\u001b[90m└──\u001b[39m      goto #3 if not %1\n",
      "\u001b[90m2 ─\u001b[39m      return x\n",
      "\u001b[90m3 ─\u001b[39m      return 0\n",
      "\n"
     ]
    }
   ],
   "source": [
    "f(x) = x > 0.0 ? x : 0\n",
    "@code_warntype f(1.0)"
   ]
  },
  {
   "attachments": {},
   "cell_type": "markdown",
   "id": "8d5ad62f",
   "metadata": {},
   "source": [
    "The solution is to use the `zero(x)` function which returns the additive identity element of type `x`.\n",
    "\n",
    "On the other hand, if we change the function to return `0` if `x <= 0`, it is type-unstable with  floating point."
   ]
  },
  {
   "cell_type": "code",
   "execution_count": 18,
   "id": "27ff54a4",
   "metadata": {
    "hide-output": false
   },
   "outputs": [
    {
     "name": "stdout",
     "output_type": "stream",
     "text": [
      "zero(2.3) = 0.0\n",
      "zero(4) = 0\n",
      "zero(2.0 + 3im) = 0.0 + 0.0im\n",
      "MethodInstance for f(::Float64)\n",
      "  from f(\u001b[90mx\u001b[39m)\u001b[90m @\u001b[39m \u001b[90mMain\u001b[39m \u001b[90m\u001b[4mIn[18]:5\u001b[24m\u001b[39m\n",
      "Arguments\n",
      "  #self#\u001b[36m::Core.Const(f)\u001b[39m\n",
      "  x\u001b[36m::Float64\u001b[39m\n",
      "Body\u001b[36m::Float64\u001b[39m\n",
      "\u001b[90m1 ─\u001b[39m %1 = (x > 0.0)\u001b[36m::Bool\u001b[39m\n",
      "\u001b[90m└──\u001b[39m      goto #3 if not %1\n",
      "\u001b[90m2 ─\u001b[39m      return x\n",
      "\u001b[90m3 ─\u001b[39m %4 = Main.zero(x)\u001b[36m::Core.Const(0.0)\u001b[39m\n",
      "\u001b[90m└──\u001b[39m      return %4\n",
      "\n"
     ]
    }
   ],
   "source": [
    "@show zero(2.3)\n",
    "@show zero(4)\n",
    "@show zero(2.0 + 3im)\n",
    "\n",
    "f(x) = x > 0.0 ? x : zero(x)\n",
    "@code_warntype f(1.0)"
   ]
  },
  {
   "attachments": {},
   "cell_type": "markdown",
   "id": "d80516f7",
   "metadata": {},
   "source": [
    "## Foundations\n",
    "\n",
    "Let’s think about how quickly code runs, taking as given\n",
    "\n",
    "- hardware configuration  \n",
    "- algorithm (i.e., set of instructions to be executed)  \n",
    "\n",
    "\n",
    "We’ll start by discussing the kinds of instructions that machines understand."
   ]
  },
  {
   "attachments": {},
   "cell_type": "markdown",
   "id": "27b8cb0e",
   "metadata": {},
   "source": [
    "### Machine Code\n",
    "\n",
    "All instructions for computers end up as *machine code*.\n",
    "\n",
    "Writing fast code — expressing a given algorithm so that it runs quickly — boils down to producing efficient machine code.\n",
    "\n",
    "You can do this yourself, by hand, if you want to.\n",
    "\n",
    "Typically this is done by writing [assembly](https://en.wikipedia.org/wiki/Assembly_language), which is a symbolic representation of machine code.\n",
    "\n",
    "Here’s some assembly code implementing a function that takes arguments $ a, b $ and returns $ 2a + 8b $"
   ]
  },
  {
   "attachments": {},
   "cell_type": "markdown",
   "id": "9b5deebe",
   "metadata": {
    "hide-output": false
   },
   "source": [
    "```asm\n",
    "    pushq   %rbp\n",
    "    movq    %rsp, %rbp\n",
    "    addq    %rdi, %rdi\n",
    "    leaq    (%rdi,%rsi,8), %rax\n",
    "    popq    %rbp\n",
    "    retq\n",
    "    nopl    (%rax)\n",
    "```\n"
   ]
  },
  {
   "attachments": {},
   "cell_type": "markdown",
   "id": "ec717e74",
   "metadata": {},
   "source": [
    "Note that this code is specific to one particular piece of hardware that we use — different machines require different machine code.\n",
    "\n",
    "If you ever feel tempted to start rewriting your economic model in assembly, please restrain yourself.\n",
    "\n",
    "It’s far more sensible to give these instructions in a language like Julia,\n",
    "where they can be easily written and understood."
   ]
  },
  {
   "cell_type": "code",
   "execution_count": null,
   "id": "ae6d3a67",
   "metadata": {
    "hide-output": false
   },
   "outputs": [],
   "source": [
    "function f(a, b)\n",
    "    y = 2a + 8b\n",
    "    return y\n",
    "end"
   ]
  },
  {
   "attachments": {},
   "cell_type": "markdown",
   "id": "8d43ece5",
   "metadata": {},
   "source": [
    "or Python"
   ]
  },
  {
   "attachments": {},
   "cell_type": "markdown",
   "id": "2aff9061",
   "metadata": {
    "hide-output": false
   },
   "source": [
    "```python\n",
    "def f(a, b):\n",
    "    y = 2 * a + 8 * b\n",
    "    return y\n",
    "```\n"
   ]
  },
  {
   "attachments": {},
   "cell_type": "markdown",
   "id": "f6f3e666",
   "metadata": {},
   "source": [
    "or even C"
   ]
  },
  {
   "attachments": {},
   "cell_type": "markdown",
   "id": "344ba4a3",
   "metadata": {
    "hide-output": false
   },
   "source": [
    "```c\n",
    "int f(int a, int b) {\n",
    "    int y = 2 * a + 8 * b;\n",
    "    return y;\n",
    "}\n",
    "```\n"
   ]
  },
  {
   "attachments": {},
   "cell_type": "markdown",
   "id": "38a39223",
   "metadata": {},
   "source": [
    "In any of these languages we end up with code that is much easier for humans to write, read, share and debug.\n",
    "\n",
    "We leave it up to the machine itself to turn our code into machine code.\n",
    "\n",
    "How exactly does this happen?"
   ]
  },
  {
   "attachments": {},
   "cell_type": "markdown",
   "id": "8f03de6b",
   "metadata": {},
   "source": [
    "### Generating Machine Code\n",
    "\n",
    "The process for turning high level code into machine code differs across\n",
    "languages.\n",
    "\n",
    "Let’s look at some of the options and how they differ from one another."
   ]
  },
  {
   "attachments": {},
   "cell_type": "markdown",
   "id": "70015d8e",
   "metadata": {},
   "source": [
    "#### AOT Compiled Languages\n",
    "\n",
    "Traditional compiled languages like Fortran, C and C++ are a reasonable option for writing fast code.\n",
    "\n",
    "Indeed, the standard benchmark for performance is still well-written C or Fortran.\n",
    "\n",
    "These languages compile down to efficient machine code because users are forced to provide a lot of detail on data types and how the code will execute.\n",
    "\n",
    "The compiler therefore has ample information for building the corresponding machine code ahead of time (AOT) in a way that\n",
    "\n",
    "- organizes the data optimally in memory and  \n",
    "- implements efficient operations as required for the task in hand  \n",
    "\n",
    "\n",
    "At the same time, the syntax and semantics of C and Fortran are verbose and unwieldy when compared to something like Julia.\n",
    "\n",
    "Moreover, these low level languages lack the interactivity that’s so crucial for scientific work."
   ]
  },
  {
   "attachments": {},
   "cell_type": "markdown",
   "id": "333fc220",
   "metadata": {},
   "source": [
    "#### Interpreted Languages\n",
    "\n",
    "Interpreted languages like Python generate machine code “on the fly”, during program execution.\n",
    "\n",
    "This allows them to be flexible and interactive.\n",
    "\n",
    "Moreover, programmers can leave many tedious details to the runtime environment, such as\n",
    "\n",
    "- specifying variable types  \n",
    "- memory allocation/deallocation, etc.  \n",
    "\n",
    "\n",
    "But all this convenience and flexibility comes at a cost: it’s hard to turn\n",
    "instructions written in these languages into efficient machine code.\n",
    "\n",
    "For example, consider what happens when Python adds a long list of numbers\n",
    "together.\n",
    "\n",
    "Typically the runtime environment has to check the type of these objects one by one before it figures out how to add them.\n",
    "\n",
    "This involves substantial overheads.\n",
    "\n",
    "There are also significant overheads associated with accessing the data values themselves, which might not be stored contiguously in memory.\n",
    "\n",
    "The resulting machine code is often complex and slow."
   ]
  },
  {
   "attachments": {},
   "cell_type": "markdown",
   "id": "c43278fa",
   "metadata": {},
   "source": [
    "#### Just-in-time compilation\n",
    "\n",
    "Just-in-time (JIT) compilation is an alternative approach that marries some of\n",
    "the advantages of AOT compilation and interpreted languages.\n",
    "\n",
    "The basic idea is that functions for specific tasks are compiled as requested.\n",
    "\n",
    "As long as the compiler has enough information about what the function does,\n",
    "it can in principle generate efficient machine code.\n",
    "\n",
    "In some instances, all the information is supplied by the programmer.\n",
    "\n",
    "In other cases, the compiler will attempt to infer missing information on the fly based on usage.\n",
    "\n",
    "Through this approach, computing environments built around JIT compilers aim to\n",
    "\n",
    "- provide all the benefits of high level languages discussed above and, at the same time,  \n",
    "- produce efficient instruction sets when functions are compiled down to machine code  "
   ]
  },
  {
   "attachments": {},
   "cell_type": "markdown",
   "id": "be8e7625",
   "metadata": {},
   "source": [
    "## JIT Compilation in Julia\n",
    "\n",
    "JIT compilation is the approach used by Julia.\n",
    "\n",
    "In an ideal setting, all information necessary to generate efficient native machine code is supplied or inferred.\n",
    "\n",
    "In such a setting, Julia will be on par with machine code from low level languages."
   ]
  },
  {
   "attachments": {},
   "cell_type": "markdown",
   "id": "cf79e790",
   "metadata": {},
   "source": [
    "### An Example\n",
    "\n",
    "Consider the function"
   ]
  },
  {
   "cell_type": "code",
   "execution_count": 19,
   "id": "e2819ed6",
   "metadata": {
    "hide-output": false
   },
   "outputs": [
    {
     "data": {
      "text/plain": [
       "f (generic function with 2 methods)"
      ]
     },
     "execution_count": 19,
     "metadata": {},
     "output_type": "execute_result"
    }
   ],
   "source": [
    "function f(a, b)\n",
    "    y = (a + 8b)^2\n",
    "    return 7y\n",
    "end"
   ]
  },
  {
   "attachments": {},
   "cell_type": "markdown",
   "id": "a7c6915f",
   "metadata": {},
   "source": [
    "Suppose we call `f` with integer arguments (e.g., `z = f(1, 2)`).\n",
    "\n",
    "The JIT compiler now knows the types of `a` and `b`.\n",
    "\n",
    "Moreover, it can infer types for other variables inside the function\n",
    "\n",
    "- e.g., `y` will also be an integer  \n",
    "\n",
    "\n",
    "It then compiles a specialized version of the function to handle integers and\n",
    "stores it in memory.\n",
    "\n",
    "We can view the corresponding machine code using the @code_native macro"
   ]
  },
  {
   "cell_type": "code",
   "execution_count": 20,
   "id": "cf76f073",
   "metadata": {
    "hide-output": false
   },
   "outputs": [
    {
     "name": "stdout",
     "output_type": "stream",
     "text": [
      "\t\u001b[0m.text\n",
      "\t\u001b[0m.file\t\u001b[0m\"f\"\n",
      "\t\u001b[0m.globl\t\u001b[0mjulia_f_1768                    \u001b[90m# -- Begin function julia_f_1768\u001b[39m\n",
      "\t\u001b[0m.p2align\t\u001b[33m4\u001b[39m\u001b[0m, \u001b[33m0x90\u001b[39m\n",
      "\t\u001b[0m.type\t\u001b[0mjulia_f_1768\u001b[0m,\u001b[0m@function\n",
      "\u001b[91mjulia_f_1768:\u001b[39m                           \u001b[90m# @julia_f_1768\u001b[39m\n",
      "\u001b[90m; ┌ @ In[19]:1 within `f`\u001b[39m\n",
      "\t\u001b[0m.cfi_startproc\n",
      "\u001b[90m# %bb.0:                                # %top\u001b[39m\n",
      "\t\u001b[96m\u001b[1mpushq\u001b[22m\u001b[39m\t\u001b[0m%rbp\n",
      "\t\u001b[0m.cfi_def_cfa_offset \u001b[33m16\u001b[39m\n",
      "\t\u001b[0m.cfi_offset \u001b[0m%rbp\u001b[0m, \u001b[33m-16\u001b[39m\n",
      "\t\u001b[96m\u001b[1mmovq\u001b[22m\u001b[39m\t\u001b[0m%rsp\u001b[0m, \u001b[0m%rbp\n",
      "\t\u001b[0m.cfi_def_cfa_register \u001b[0m%rbp\n",
      "\u001b[90m; │ @ In[19]:2 within `f`\u001b[39m\n",
      "\u001b[90m; │┌ @ int.jl:87 within `+`\u001b[39m\n",
      "\t\u001b[96m\u001b[1mleaq\u001b[22m\u001b[39m\t\u001b[33m(\u001b[39m\u001b[0m%rdi\u001b[0m,\u001b[0m%rsi\u001b[0m,\u001b[33m8\u001b[39m\u001b[33m)\u001b[39m\u001b[0m, \u001b[0m%rcx\n",
      "\u001b[90m; │└\u001b[39m\n",
      "\u001b[90m; │┌ @ intfuncs.jl:319 within `literal_pow`\u001b[39m\n",
      "\u001b[90m; ││┌ @ int.jl:88 within `*`\u001b[39m\n",
      "\t\u001b[96m\u001b[1mimulq\u001b[22m\u001b[39m\t\u001b[0m%rcx\u001b[0m, \u001b[0m%rcx\n",
      "\u001b[90m; │└└\u001b[39m\n",
      "\u001b[90m; │ @ In[19]:3 within `f`\u001b[39m\n",
      "\u001b[90m; │┌ @ int.jl:88 within `*`\u001b[39m\n",
      "\t\u001b[96m\u001b[1mleaq\u001b[22m\u001b[39m\t\u001b[33m(\u001b[39m\u001b[0m,\u001b[0m%rcx\u001b[0m,\u001b[33m8\u001b[39m\u001b[33m)\u001b[39m\u001b[0m, \u001b[0m%rax\n",
      "\t\u001b[96m\u001b[1msubq\u001b[22m\u001b[39m\t\u001b[0m%rcx\u001b[0m, \u001b[0m%rax\n",
      "\u001b[90m; │└\u001b[39m\n",
      "\t\u001b[96m\u001b[1mpopq\u001b[22m\u001b[39m\t\u001b[0m%rbp\n",
      "\t\u001b[0m.cfi_def_cfa \u001b[0m%rsp\u001b[0m, \u001b[33m8\u001b[39m\n",
      "\t\u001b[96m\u001b[1mretq\u001b[22m\u001b[39m\n",
      "\u001b[91m.Lfunc_end0:\u001b[39m\n",
      "\t\u001b[0m.size\t\u001b[0mjulia_f_1768\u001b[0m, \u001b[0m.Lfunc_end0-julia_f_1768\n",
      "\t\u001b[0m.cfi_endproc\n",
      "\u001b[90m; └\u001b[39m\n",
      "                                        \u001b[90m# -- End function\u001b[39m\n",
      "\t\u001b[0m.section\t\u001b[0m\".note.GNU-stack\"\u001b[0m,\u001b[0m\"\"\u001b[0m,\u001b[0m@progbits\n"
     ]
    }
   ],
   "source": [
    "@code_native f(1, 2)"
   ]
  },
  {
   "attachments": {},
   "cell_type": "markdown",
   "id": "34ebbeed",
   "metadata": {},
   "source": [
    "If we now call `f` again, but this time with floating point arguments, the JIT compiler will once more infer types for the other variables inside the function.\n",
    "\n",
    "- e.g., `y` will also be a float  \n",
    "\n",
    "\n",
    "It then compiles a new version to handle this type of argument."
   ]
  },
  {
   "cell_type": "code",
   "execution_count": null,
   "id": "d9388446",
   "metadata": {
    "hide-output": false
   },
   "outputs": [],
   "source": [
    "@code_native f(1.0, 2.0)"
   ]
  },
  {
   "attachments": {},
   "cell_type": "markdown",
   "id": "ef0ff9e9",
   "metadata": {},
   "source": [
    "Subsequent calls using either floats or integers are now routed to the appropriate compiled code."
   ]
  },
  {
   "attachments": {},
   "cell_type": "markdown",
   "id": "e7fed9c2",
   "metadata": {},
   "source": [
    "### Potential Problems\n",
    "\n",
    "In some senses, what we saw above was a best case scenario.\n",
    "\n",
    "Sometimes the JIT compiler produces messy, slow machine code.\n",
    "\n",
    "This happens when type inference fails or the compiler has insufficient information to optimize effectively.\n",
    "\n",
    "The next section looks at situations where these problems arise and how to get around them."
   ]
  },
  {
   "attachments": {},
   "cell_type": "markdown",
   "id": "1b498f50",
   "metadata": {},
   "source": [
    "## Fast and Slow Julia Code\n",
    "\n",
    "To summarize what we’ve learned so far, Julia provides a platform for generating highly efficient machine code with relatively little effort by combining\n",
    "\n",
    "1. JIT compilation  \n",
    "1. Optional type declarations and type inference to pin down the types of variables and hence compile efficient code  \n",
    "1. Multiple dispatch to facilitate specialization and optimization of compiled code for different data types  \n",
    "\n",
    "\n",
    "But the process is not flawless, and hiccups can occur.\n",
    "\n",
    "The purpose of this section is to highlight potential issues and show you how\n",
    "to circumvent them."
   ]
  },
  {
   "attachments": {},
   "cell_type": "markdown",
   "id": "8ee99ec9",
   "metadata": {},
   "source": [
    "### BenchmarkTools\n",
    "\n",
    "The main Julia package for benchmarking is [BenchmarkTools.jl](https://www.github.com/JuliaCI/BenchmarkTools.jl).\n",
    "\n",
    "Below, we’ll use the `@btime` macro it exports to evaluate the performance of Julia code.\n",
    "\n",
    "As mentioned in an [earlier lecture](https://julia.quantecon.org/testing.html), we can also save benchmark results to a file and guard against performance regressions in code.\n",
    "\n",
    "For more, see the package docs."
   ]
  },
  {
   "attachments": {},
   "cell_type": "markdown",
   "id": "1d533d02",
   "metadata": {},
   "source": [
    "### Global Variables\n",
    "\n",
    "Global variables are names assigned to values outside of any function or type definition.\n",
    "\n",
    "The are convenient and novice programmers typically use them with abandon.\n",
    "\n",
    "But global variables are also dangerous, especially in medium to large size programs, since\n",
    "\n",
    "- they can affect what happens in any part of your program  \n",
    "- they can be changed by any function  \n",
    "\n",
    "\n",
    "This makes it much harder to be certain about what some  small part of a given piece of code actually commands.\n",
    "\n",
    "Here’s a [useful discussion on the topic](http://wiki.c2.com/?GlobalVariablesAreBad).\n",
    "\n",
    "When it comes to JIT compilation, global variables create further problems.\n",
    "\n",
    "The reason is that the compiler can never be sure of the type of the global\n",
    "variable, or even that the type will stay constant while a given function runs.\n",
    "\n",
    "To illustrate, consider this code, where `b` is global"
   ]
  },
  {
   "cell_type": "code",
   "execution_count": 21,
   "id": "6651de30",
   "metadata": {
    "hide-output": false
   },
   "outputs": [
    {
     "data": {
      "text/plain": [
       "g (generic function with 1 method)"
      ]
     },
     "execution_count": 21,
     "metadata": {},
     "output_type": "execute_result"
    }
   ],
   "source": [
    "b = 1.0\n",
    "function g(a)\n",
    "    global b\n",
    "    tmp = a\n",
    "    for i in 1:1_000_000\n",
    "        tmp = tmp + a + b\n",
    "    end\n",
    "    return tmp\n",
    "end"
   ]
  },
  {
   "attachments": {},
   "cell_type": "markdown",
   "id": "3f5fa13b",
   "metadata": {},
   "source": [
    "The code executes relatively slowly and uses a huge amount of memory."
   ]
  },
  {
   "cell_type": "code",
   "execution_count": 22,
   "id": "f3bffac5",
   "metadata": {
    "hide-output": false
   },
   "outputs": [
    {
     "name": "stdout",
     "output_type": "stream",
     "text": [
      "  39.155 ms (3000001 allocations: 45.78 MiB)\n"
     ]
    },
    {
     "data": {
      "text/plain": [
       "2.000001e6"
      ]
     },
     "execution_count": 22,
     "metadata": {},
     "output_type": "execute_result"
    }
   ],
   "source": [
    "using BenchmarkTools\n",
    "\n",
    "@btime g(1.0)"
   ]
  },
  {
   "attachments": {},
   "cell_type": "markdown",
   "id": "e74cc20b",
   "metadata": {},
   "source": [
    "If you look at the corresponding machine code you will see that it’s a mess."
   ]
  },
  {
   "cell_type": "code",
   "execution_count": 23,
   "id": "da5365fa",
   "metadata": {
    "hide-output": false
   },
   "outputs": [
    {
     "name": "stdout",
     "output_type": "stream",
     "text": [
      "\t\u001b[0m.text\n",
      "\t\u001b[0m.file\t\u001b[0m\"g\"\n",
      "\t\u001b[0m.globl\t\u001b[0mjulia_g_2077                    \u001b[90m# -- Begin function julia_g_2077\u001b[39m\n",
      "\t\u001b[0m.p2align\t\u001b[33m4\u001b[39m\u001b[0m, \u001b[33m0x90\u001b[39m\n",
      "\t\u001b[0m.type\t\u001b[0mjulia_g_2077\u001b[0m,\u001b[0m@function\n",
      "\u001b[91mjulia_g_2077:\u001b[39m                           \u001b[90m# @julia_g_2077\u001b[39m\n",
      "\u001b[90m; ┌ @ In[21]:2 within `g`\u001b[39m\n",
      "\t\u001b[0m.cfi_startproc\n",
      "\u001b[90m# %bb.0:                                # %top\u001b[39m\n",
      "\t\u001b[96m\u001b[1mpushq\u001b[22m\u001b[39m\t\u001b[0m%rbp\n",
      "\t\u001b[0m.cfi_def_cfa_offset \u001b[33m16\u001b[39m\n",
      "\t\u001b[0m.cfi_offset \u001b[0m%rbp\u001b[0m, \u001b[33m-16\u001b[39m\n",
      "\t\u001b[96m\u001b[1mmovq\u001b[22m\u001b[39m\t\u001b[0m%rsp\u001b[0m, \u001b[0m%rbp\n",
      "\t\u001b[0m.cfi_def_cfa_register \u001b[0m%rbp\n",
      "\t\u001b[96m\u001b[1mpushq\u001b[22m\u001b[39m\t\u001b[0m%r15\n",
      "\t\u001b[96m\u001b[1mpushq\u001b[22m\u001b[39m\t\u001b[0m%r14\n",
      "\t\u001b[96m\u001b[1mpushq\u001b[22m\u001b[39m\t\u001b[0m%r13\n",
      "\t\u001b[96m\u001b[1mpushq\u001b[22m\u001b[39m\t\u001b[0m%r12\n",
      "\t\u001b[96m\u001b[1mpushq\u001b[22m\u001b[39m\t\u001b[0m%rbx\n",
      "\t\u001b[96m\u001b[1mandq\u001b[22m\u001b[39m\t\u001b[33m$-32\u001b[39m\u001b[0m, \u001b[0m%rsp\n",
      "\t\u001b[96m\u001b[1msubq\u001b[22m\u001b[39m\t\u001b[33m$96\u001b[39m\u001b[0m, \u001b[0m%rsp\n",
      "\t\u001b[0m.cfi_offset \u001b[0m%rbx\u001b[0m, \u001b[33m-56\u001b[39m\n",
      "\t\u001b[0m.cfi_offset \u001b[0m%r12\u001b[0m, \u001b[33m-48\u001b[39m\n",
      "\t\u001b[0m.cfi_offset \u001b[0m%r13\u001b[0m, \u001b[33m-40\u001b[39m\n",
      "\t\u001b[0m.cfi_offset \u001b[0m%r14\u001b[0m, \u001b[33m-32\u001b[39m\n",
      "\t\u001b[0m.cfi_offset \u001b[0m%r15\u001b[0m, \u001b[33m-24\u001b[39m\n",
      "\t\u001b[96m\u001b[1mvmovsd\u001b[22m\u001b[39m\t\u001b[0m%xmm0\u001b[0m, \u001b[33m8\u001b[39m\u001b[33m(\u001b[39m\u001b[0m%rsp\u001b[33m)\u001b[39m                  \u001b[90m# 8-byte Spill\u001b[39m\n",
      "\t\u001b[96m\u001b[1mmovabsq\u001b[22m\u001b[39m\t\u001b[33m$140170102321232\u001b[39m\u001b[0m, \u001b[0m%r14          \u001b[90m# imm = 0x7F7BE5283050\u001b[39m\n",
      "\t\u001b[96m\u001b[1mvxorps\u001b[22m\u001b[39m\t\u001b[0m%xmm0\u001b[0m, \u001b[0m%xmm0\u001b[0m, \u001b[0m%xmm0\n",
      "\t\u001b[96m\u001b[1mvmovaps\u001b[22m\u001b[39m\t\u001b[0m%ymm0\u001b[0m, \u001b[33m32\u001b[39m\u001b[33m(\u001b[39m\u001b[0m%rsp\u001b[33m)\u001b[39m\n",
      "\t\u001b[96m\u001b[1mmovq\u001b[22m\u001b[39m\t\u001b[33m$0\u001b[39m\u001b[0m, \u001b[33m64\u001b[39m\u001b[33m(\u001b[39m\u001b[0m%rsp\u001b[33m)\u001b[39m\n",
      "\t\u001b[0m#APP\n",
      "\t\u001b[96m\u001b[1mmovq\u001b[22m\u001b[39m\t\u001b[0m%fs\u001b[0m:\u001b[33m0\u001b[39m\u001b[0m, \u001b[0m%rax\n",
      "\t\u001b[0m#NO_APP\n",
      "\t\u001b[96m\u001b[1mmovq\u001b[22m\u001b[39m\t\u001b[33m-8\u001b[39m\u001b[33m(\u001b[39m\u001b[0m%rax\u001b[33m)\u001b[39m\u001b[0m, \u001b[0m%rcx\n",
      "\t\u001b[96m\u001b[1mmovq\u001b[22m\u001b[39m\t\u001b[33m$12\u001b[39m\u001b[0m, \u001b[33m32\u001b[39m\u001b[33m(\u001b[39m\u001b[0m%rsp\u001b[33m)\u001b[39m\n",
      "\t\u001b[96m\u001b[1mmovq\u001b[22m\u001b[39m\t\u001b[33m(\u001b[39m\u001b[0m%rcx\u001b[33m)\u001b[39m\u001b[0m, \u001b[0m%rax\n",
      "\t\u001b[96m\u001b[1mmovq\u001b[22m\u001b[39m\t\u001b[0m%rax\u001b[0m, \u001b[33m40\u001b[39m\u001b[33m(\u001b[39m\u001b[0m%rsp\u001b[33m)\u001b[39m\n",
      "\t\u001b[96m\u001b[1mleaq\u001b[22m\u001b[39m\t\u001b[33m32\u001b[39m\u001b[33m(\u001b[39m\u001b[0m%rsp\u001b[33m)\u001b[39m\u001b[0m, \u001b[0m%rax\n",
      "\t\u001b[96m\u001b[1mmovq\u001b[22m\u001b[39m\t\u001b[0m%rax\u001b[0m, \u001b[33m(\u001b[39m\u001b[0m%rcx\u001b[33m)\u001b[39m\n",
      "\t\u001b[96m\u001b[1mmovq\u001b[22m\u001b[39m\t\u001b[0m%rcx\u001b[0m, \u001b[33m(\u001b[39m\u001b[0m%rsp\u001b[33m)\u001b[39m                    \u001b[90m# 8-byte Spill\u001b[39m\n",
      "\t\u001b[96m\u001b[1mmovq\u001b[22m\u001b[39m\t\u001b[33m16\u001b[39m\u001b[33m(\u001b[39m\u001b[0m%rcx\u001b[33m)\u001b[39m\u001b[0m, \u001b[0m%rdi\n",
      "\t\u001b[96m\u001b[1mmovabsq\u001b[22m\u001b[39m\t\u001b[93m$ijl_gc_pool_alloc\u001b[39m\u001b[0m, \u001b[0m%rax\n",
      "\t\u001b[96m\u001b[1mmovl\u001b[22m\u001b[39m\t\u001b[33m$1392\u001b[39m\u001b[0m, \u001b[0m%esi                     \u001b[90m# imm = 0x570\u001b[39m\n",
      "\t\u001b[96m\u001b[1mmovl\u001b[22m\u001b[39m\t\u001b[33m$16\u001b[39m\u001b[0m, \u001b[0m%edx\n",
      "\t\u001b[96m\u001b[1mvzeroupper\u001b[22m\u001b[39m\n",
      "\t\u001b[96m\u001b[1mcallq\u001b[22m\u001b[39m\t\u001b[0m*\u001b[0m%rax\n",
      "\t\u001b[96m\u001b[1mmovq\u001b[22m\u001b[39m\t\u001b[0m%rax\u001b[0m, \u001b[0m%rbx\n",
      "\t\u001b[96m\u001b[1mmovq\u001b[22m\u001b[39m\t\u001b[0m%r14\u001b[0m, \u001b[33m-8\u001b[39m\u001b[33m(\u001b[39m\u001b[0m%rax\u001b[33m)\u001b[39m\n",
      "\t\u001b[96m\u001b[1mvmovsd\u001b[22m\u001b[39m\t\u001b[33m8\u001b[39m\u001b[33m(\u001b[39m\u001b[0m%rsp\u001b[33m)\u001b[39m\u001b[0m, \u001b[0m%xmm0                  \u001b[90m# 8-byte Reload\u001b[39m\n",
      "                                        \u001b[90m# xmm0 = mem[0],zero\u001b[39m\n",
      "\t\u001b[96m\u001b[1mvmovsd\u001b[22m\u001b[39m\t\u001b[0m%xmm0\u001b[0m, \u001b[33m(\u001b[39m\u001b[0m%rax\u001b[33m)\u001b[39m\n",
      "\t\u001b[96m\u001b[1mmovl\u001b[22m\u001b[39m\t\u001b[33m$1000000\u001b[39m\u001b[0m, \u001b[0m%r12d                 \u001b[90m# imm = 0xF4240\u001b[39m\n",
      "\t\u001b[96m\u001b[1mleaq\u001b[22m\u001b[39m\t\u001b[33m16\u001b[39m\u001b[33m(\u001b[39m\u001b[0m%rsp\u001b[33m)\u001b[39m\u001b[0m, \u001b[0m%r15\n",
      "\t\u001b[0m.p2align\t\u001b[33m4\u001b[39m\u001b[0m, \u001b[33m0x90\u001b[39m\n",
      "\u001b[91m.LBB0_1:\u001b[39m                                \u001b[90m# %L2\u001b[39m\n",
      "                                        \u001b[90m# =>This Inner Loop Header: Depth=1\u001b[39m\n",
      "\t\u001b[96m\u001b[1mmovabsq\u001b[22m\u001b[39m\t\u001b[33m$140170102321232\u001b[39m\u001b[0m, \u001b[0m%r14          \u001b[90m# imm = 0x7F7BE5283050\u001b[39m\n",
      "\u001b[90m; │ @ In[21]:6 within `g`\u001b[39m\n",
      "\t\u001b[96m\u001b[1mmovq\u001b[22m\u001b[39m\t\u001b[33m101517768\u001b[39m\u001b[33m(\u001b[39m\u001b[0m%r14\u001b[33m)\u001b[39m\u001b[0m, \u001b[0m%r13\n",
      "\t\u001b[96m\u001b[1mmovq\u001b[22m\u001b[39m\t\u001b[0m%r13\u001b[0m, \u001b[33m64\u001b[39m\u001b[33m(\u001b[39m\u001b[0m%rsp\u001b[33m)\u001b[39m\n",
      "\t\u001b[96m\u001b[1mmovq\u001b[22m\u001b[39m\t\u001b[0m%rbx\u001b[0m, \u001b[33m56\u001b[39m\u001b[33m(\u001b[39m\u001b[0m%rsp\u001b[33m)\u001b[39m\n",
      "\t\u001b[96m\u001b[1mmovq\u001b[22m\u001b[39m\t\u001b[33m(\u001b[39m\u001b[0m%rsp\u001b[33m)\u001b[39m\u001b[0m, \u001b[0m%rax                    \u001b[90m# 8-byte Reload\u001b[39m\n",
      "\u001b[90m; │┌ @ operators.jl:578 within `+`\u001b[39m\n",
      "\t\u001b[96m\u001b[1mmovq\u001b[22m\u001b[39m\t\u001b[33m16\u001b[39m\u001b[33m(\u001b[39m\u001b[0m%rax\u001b[33m)\u001b[39m\u001b[0m, \u001b[0m%rdi\n",
      "\t\u001b[96m\u001b[1mmovl\u001b[22m\u001b[39m\t\u001b[33m$1392\u001b[39m\u001b[0m, \u001b[0m%esi                     \u001b[90m# imm = 0x570\u001b[39m\n",
      "\t\u001b[96m\u001b[1mmovl\u001b[22m\u001b[39m\t\u001b[33m$16\u001b[39m\u001b[0m, \u001b[0m%edx\n",
      "\t\u001b[96m\u001b[1mmovabsq\u001b[22m\u001b[39m\t\u001b[93m$ijl_gc_pool_alloc\u001b[39m\u001b[0m, \u001b[0m%rax\n",
      "\t\u001b[96m\u001b[1mcallq\u001b[22m\u001b[39m\t\u001b[0m*\u001b[0m%rax\n",
      "\t\u001b[96m\u001b[1mmovq\u001b[22m\u001b[39m\t\u001b[0m%r14\u001b[0m, \u001b[33m-8\u001b[39m\u001b[33m(\u001b[39m\u001b[0m%rax\u001b[33m)\u001b[39m\n",
      "\t\u001b[96m\u001b[1mvmovsd\u001b[22m\u001b[39m\t\u001b[33m8\u001b[39m\u001b[33m(\u001b[39m\u001b[0m%rsp\u001b[33m)\u001b[39m\u001b[0m, \u001b[0m%xmm0                  \u001b[90m# 8-byte Reload\u001b[39m\n",
      "                                        \u001b[90m# xmm0 = mem[0],zero\u001b[39m\n",
      "\t\u001b[96m\u001b[1mvmovsd\u001b[22m\u001b[39m\t\u001b[0m%xmm0\u001b[0m, \u001b[33m(\u001b[39m\u001b[0m%rax\u001b[33m)\u001b[39m\n",
      "\t\u001b[96m\u001b[1mmovq\u001b[22m\u001b[39m\t\u001b[0m%rax\u001b[0m, \u001b[33m48\u001b[39m\u001b[33m(\u001b[39m\u001b[0m%rsp\u001b[33m)\u001b[39m\n",
      "\t\u001b[96m\u001b[1mmovq\u001b[22m\u001b[39m\t\u001b[0m%rbx\u001b[0m, \u001b[33m16\u001b[39m\u001b[33m(\u001b[39m\u001b[0m%rsp\u001b[33m)\u001b[39m\n",
      "\t\u001b[96m\u001b[1mmovq\u001b[22m\u001b[39m\t\u001b[0m%rax\u001b[0m, \u001b[33m24\u001b[39m\u001b[33m(\u001b[39m\u001b[0m%rsp\u001b[33m)\u001b[39m\n",
      "\t\u001b[96m\u001b[1mmovabsq\u001b[22m\u001b[39m\t\u001b[33m$140170025566112\u001b[39m\u001b[0m, \u001b[0m%r14          \u001b[90m# imm = 0x7F7BE094FFA0\u001b[39m\n",
      "\t\u001b[96m\u001b[1mmovq\u001b[22m\u001b[39m\t\u001b[0m%r14\u001b[0m, \u001b[0m%rdi\n",
      "\t\u001b[96m\u001b[1mmovq\u001b[22m\u001b[39m\t\u001b[0m%r15\u001b[0m, \u001b[0m%rsi\n",
      "\t\u001b[96m\u001b[1mmovl\u001b[22m\u001b[39m\t\u001b[33m$2\u001b[39m\u001b[0m, \u001b[0m%edx\n",
      "\t\u001b[96m\u001b[1mmovabsq\u001b[22m\u001b[39m\t\u001b[93m$ijl_apply_generic\u001b[39m\u001b[0m, \u001b[0m%rbx\n",
      "\t\u001b[96m\u001b[1mcallq\u001b[22m\u001b[39m\t\u001b[0m*\u001b[0m%rbx\n",
      "\t\u001b[96m\u001b[1mmovq\u001b[22m\u001b[39m\t\u001b[0m%rax\u001b[0m, \u001b[33m48\u001b[39m\u001b[33m(\u001b[39m\u001b[0m%rsp\u001b[33m)\u001b[39m\n",
      "\t\u001b[96m\u001b[1mmovq\u001b[22m\u001b[39m\t\u001b[0m%rax\u001b[0m, \u001b[33m16\u001b[39m\u001b[33m(\u001b[39m\u001b[0m%rsp\u001b[33m)\u001b[39m\n",
      "\t\u001b[96m\u001b[1mmovq\u001b[22m\u001b[39m\t\u001b[0m%r13\u001b[0m, \u001b[33m24\u001b[39m\u001b[33m(\u001b[39m\u001b[0m%rsp\u001b[33m)\u001b[39m\n",
      "\t\u001b[96m\u001b[1mmovq\u001b[22m\u001b[39m\t\u001b[0m%r14\u001b[0m, \u001b[0m%rdi\n",
      "\t\u001b[96m\u001b[1mmovq\u001b[22m\u001b[39m\t\u001b[0m%r15\u001b[0m, \u001b[0m%rsi\n",
      "\t\u001b[96m\u001b[1mmovl\u001b[22m\u001b[39m\t\u001b[33m$2\u001b[39m\u001b[0m, \u001b[0m%edx\n",
      "\t\u001b[96m\u001b[1mcallq\u001b[22m\u001b[39m\t\u001b[0m*\u001b[0m%rbx\n",
      "\t\u001b[96m\u001b[1mmovq\u001b[22m\u001b[39m\t\u001b[0m%rax\u001b[0m, \u001b[0m%rbx\n",
      "\u001b[90m; │└\u001b[39m\n",
      "\u001b[90m; │ @ In[21]:7 within `g`\u001b[39m\n",
      "\u001b[90m; │┌ @ range.jl:891 within `iterate`\u001b[39m\n",
      "\u001b[90m; ││┌ @ promotion.jl:499 within `==`\u001b[39m\n",
      "\t\u001b[96m\u001b[1mdecq\u001b[22m\u001b[39m\t\u001b[0m%r12\n",
      "\u001b[90m; │└└\u001b[39m\n",
      "\t\u001b[96m\u001b[1mjne\u001b[22m\u001b[39m\t\u001b[0m.LBB0_1\n",
      "\u001b[90m# %bb.2:                                # %L17\u001b[39m\n",
      "\t\u001b[96m\u001b[1mmovq\u001b[22m\u001b[39m\t\u001b[33m40\u001b[39m\u001b[33m(\u001b[39m\u001b[0m%rsp\u001b[33m)\u001b[39m\u001b[0m, \u001b[0m%rax\n",
      "\t\u001b[96m\u001b[1mmovq\u001b[22m\u001b[39m\t\u001b[33m(\u001b[39m\u001b[0m%rsp\u001b[33m)\u001b[39m\u001b[0m, \u001b[0m%rcx                    \u001b[90m# 8-byte Reload\u001b[39m\n",
      "\t\u001b[96m\u001b[1mmovq\u001b[22m\u001b[39m\t\u001b[0m%rax\u001b[0m, \u001b[33m(\u001b[39m\u001b[0m%rcx\u001b[33m)\u001b[39m\n",
      "\u001b[90m; │ @ In[21]:8 within `g`\u001b[39m\n",
      "\t\u001b[96m\u001b[1mmovq\u001b[22m\u001b[39m\t\u001b[0m%rbx\u001b[0m, \u001b[0m%rax\n",
      "\t\u001b[96m\u001b[1mleaq\u001b[22m\u001b[39m\t\u001b[33m-40\u001b[39m\u001b[33m(\u001b[39m\u001b[0m%rbp\u001b[33m)\u001b[39m\u001b[0m, \u001b[0m%rsp\n",
      "\t\u001b[96m\u001b[1mpopq\u001b[22m\u001b[39m\t\u001b[0m%rbx\n",
      "\t\u001b[96m\u001b[1mpopq\u001b[22m\u001b[39m\t\u001b[0m%r12\n",
      "\t\u001b[96m\u001b[1mpopq\u001b[22m\u001b[39m\t\u001b[0m%r13\n",
      "\t\u001b[96m\u001b[1mpopq\u001b[22m\u001b[39m\t\u001b[0m%r14\n",
      "\t\u001b[96m\u001b[1mpopq\u001b[22m\u001b[39m\t\u001b[0m%r15\n",
      "\t\u001b[96m\u001b[1mpopq\u001b[22m\u001b[39m\t\u001b[0m%rbp\n",
      "\t\u001b[0m.cfi_def_cfa \u001b[0m%rsp\u001b[0m, \u001b[33m8\u001b[39m\n",
      "\t\u001b[96m\u001b[1mretq\u001b[22m\u001b[39m\n",
      "\u001b[91m.Lfunc_end0:\u001b[39m\n",
      "\t\u001b[0m.size\t\u001b[0mjulia_g_2077\u001b[0m, \u001b[0m.Lfunc_end0-julia_g_2077\n",
      "\t\u001b[0m.cfi_endproc\n",
      "\u001b[90m; └\u001b[39m\n",
      "                                        \u001b[90m# -- End function\u001b[39m\n",
      "\t\u001b[0m.section\t\u001b[0m\".note.GNU-stack\"\u001b[0m,\u001b[0m\"\"\u001b[0m,\u001b[0m@progbits\n"
     ]
    }
   ],
   "source": [
    "@code_native g(1.0)"
   ]
  },
  {
   "attachments": {},
   "cell_type": "markdown",
   "id": "44ebfdf8",
   "metadata": {},
   "source": [
    "If we eliminate the global variable like so"
   ]
  },
  {
   "cell_type": "code",
   "execution_count": 24,
   "id": "2105cacd",
   "metadata": {
    "hide-output": false
   },
   "outputs": [
    {
     "data": {
      "text/plain": [
       "g (generic function with 2 methods)"
      ]
     },
     "execution_count": 24,
     "metadata": {},
     "output_type": "execute_result"
    }
   ],
   "source": [
    "function g(a, b)\n",
    "    tmp = a\n",
    "    for i in 1:1_000_000\n",
    "        tmp = tmp + a + b\n",
    "    end\n",
    "    return tmp\n",
    "end"
   ]
  },
  {
   "attachments": {},
   "cell_type": "markdown",
   "id": "01757e4b",
   "metadata": {},
   "source": [
    "then execution speed improves dramatically.  Furthermore, the number of allocations has dropped to zero."
   ]
  },
  {
   "cell_type": "code",
   "execution_count": 25,
   "id": "a20fdcd5",
   "metadata": {
    "hide-output": false
   },
   "outputs": [
    {
     "name": "stdout",
     "output_type": "stream",
     "text": [
      "  2.020 ms (0 allocations: 0 bytes)\n"
     ]
    },
    {
     "data": {
      "text/plain": [
       "2.000001e6"
      ]
     },
     "execution_count": 25,
     "metadata": {},
     "output_type": "execute_result"
    }
   ],
   "source": [
    "@btime g(1.0, 1.0)"
   ]
  },
  {
   "attachments": {},
   "cell_type": "markdown",
   "id": "cb436b40",
   "metadata": {},
   "source": [
    "Note that if you called `@time` instead, the first call would be slower as it would need to compile the function.  Conversely, `@btime` discards the first call and runs it multiple times.\n",
    "\n",
    "More information is available with `@benchmark` instead,"
   ]
  },
  {
   "cell_type": "code",
   "execution_count": 26,
   "id": "b88434e8",
   "metadata": {
    "hide-output": false
   },
   "outputs": [
    {
     "data": {
      "text/plain": [
       "BenchmarkTools.Trial: 2166 samples with 1 evaluation.\n",
       " Range \u001b[90m(\u001b[39m\u001b[36m\u001b[1mmin\u001b[22m\u001b[39m … \u001b[35mmax\u001b[39m\u001b[90m):  \u001b[39m\u001b[36m\u001b[1m2.020 ms\u001b[22m\u001b[39m … \u001b[35m  5.486 ms\u001b[39m  \u001b[90m┊\u001b[39m GC \u001b[90m(\u001b[39mmin … max\u001b[90m): \u001b[39m0.00% … 0.00%\n",
       " Time  \u001b[90m(\u001b[39m\u001b[34m\u001b[1mmedian\u001b[22m\u001b[39m\u001b[90m):     \u001b[39m\u001b[34m\u001b[1m2.197 ms               \u001b[22m\u001b[39m\u001b[90m┊\u001b[39m GC \u001b[90m(\u001b[39mmedian\u001b[90m):    \u001b[39m0.00%\n",
       " Time  \u001b[90m(\u001b[39m\u001b[32m\u001b[1mmean\u001b[22m\u001b[39m ± \u001b[32mσ\u001b[39m\u001b[90m):   \u001b[39m\u001b[32m\u001b[1m2.293 ms\u001b[22m\u001b[39m ± \u001b[32m284.213 μs\u001b[39m  \u001b[90m┊\u001b[39m GC \u001b[90m(\u001b[39mmean ± σ\u001b[90m):  \u001b[39m0.00% ± 0.00%\n",
       "\n",
       "  \u001b[39m█\u001b[39m▄\u001b[39m▄\u001b[39m▂\u001b[39m▁\u001b[39m \u001b[39m \u001b[39m \u001b[39m▆\u001b[34m▁\u001b[39m\u001b[39m \u001b[39m \u001b[39m \u001b[32m \u001b[39m\u001b[39m \u001b[39m \u001b[39m \u001b[39m \u001b[39m \u001b[39m \u001b[39m \u001b[39m \u001b[39m \u001b[39m \u001b[39m \u001b[39m \u001b[39m \u001b[39m \u001b[39m \u001b[39m \u001b[39m \u001b[39m \u001b[39m \u001b[39m \u001b[39m \u001b[39m \u001b[39m \u001b[39m \u001b[39m \u001b[39m \u001b[39m \u001b[39m \u001b[39m \u001b[39m \u001b[39m \u001b[39m \u001b[39m \u001b[39m \u001b[39m \u001b[39m \u001b[39m \u001b[39m \u001b[39m \u001b[39m \u001b[39m \u001b[39m \u001b[39m \u001b[39m \u001b[39m \u001b[39m \u001b[39m \n",
       "  \u001b[39m█\u001b[39m█\u001b[39m█\u001b[39m█\u001b[39m█\u001b[39m▇\u001b[39m▇\u001b[39m▆\u001b[39m█\u001b[34m█\u001b[39m\u001b[39m▇\u001b[39m▅\u001b[39m▅\u001b[32m▅\u001b[39m\u001b[39m▅\u001b[39m▅\u001b[39m▅\u001b[39m▄\u001b[39m▄\u001b[39m▄\u001b[39m▄\u001b[39m▃\u001b[39m▄\u001b[39m▃\u001b[39m▄\u001b[39m▄\u001b[39m▄\u001b[39m▄\u001b[39m▃\u001b[39m▃\u001b[39m▄\u001b[39m▃\u001b[39m▃\u001b[39m▂\u001b[39m▃\u001b[39m▃\u001b[39m▃\u001b[39m▃\u001b[39m▃\u001b[39m▃\u001b[39m▃\u001b[39m▃\u001b[39m▃\u001b[39m▃\u001b[39m▂\u001b[39m▂\u001b[39m▂\u001b[39m▂\u001b[39m▂\u001b[39m▃\u001b[39m▂\u001b[39m▂\u001b[39m▂\u001b[39m▁\u001b[39m▂\u001b[39m▃\u001b[39m▂\u001b[39m▂\u001b[39m▂\u001b[39m \u001b[39m▃\n",
       "  2.02 ms\u001b[90m         Histogram: frequency by time\u001b[39m        3.22 ms \u001b[0m\u001b[1m<\u001b[22m\n",
       "\n",
       " Memory estimate\u001b[90m: \u001b[39m\u001b[33m0 bytes\u001b[39m, allocs estimate\u001b[90m: \u001b[39m\u001b[33m0\u001b[39m."
      ]
     },
     "execution_count": 26,
     "metadata": {},
     "output_type": "execute_result"
    }
   ],
   "source": [
    "@benchmark g(1.0, 1.0)"
   ]
  },
  {
   "attachments": {},
   "cell_type": "markdown",
   "id": "2ba8edca",
   "metadata": {},
   "source": [
    "Also, the machine code is simple and clean"
   ]
  },
  {
   "cell_type": "code",
   "execution_count": null,
   "id": "6a4def81",
   "metadata": {
    "hide-output": false
   },
   "outputs": [],
   "source": [
    "@code_native g(1.0, 1.0)"
   ]
  },
  {
   "attachments": {},
   "cell_type": "markdown",
   "id": "61020247",
   "metadata": {},
   "source": [
    "Now the compiler is certain of types throughout execution of the function and\n",
    "hence can optimize accordingly.\n",
    "\n",
    "If global variations are strictly needed (and they almost never are) then you can declare them with a `const` to declare to Julia that the type never changes (the value can).  For example,"
   ]
  },
  {
   "cell_type": "code",
   "execution_count": 27,
   "id": "8afd3d91",
   "metadata": {
    "hide-output": false
   },
   "outputs": [
    {
     "name": "stdout",
     "output_type": "stream",
     "text": [
      "  3.030 ms (0 allocations: 0 bytes)\n"
     ]
    },
    {
     "data": {
      "text/plain": [
       "2.000001e6"
      ]
     },
     "execution_count": 27,
     "metadata": {},
     "output_type": "execute_result"
    }
   ],
   "source": [
    "const b_const = 1.0\n",
    "function g_const(a)\n",
    "    global b_const\n",
    "    tmp = a\n",
    "    for i in 1:1_000_000\n",
    "        tmp = tmp + a + b_const\n",
    "    end\n",
    "    return tmp\n",
    "end\n",
    "@btime g_const(1)"
   ]
  },
  {
   "attachments": {},
   "cell_type": "markdown",
   "id": "2c82ab00",
   "metadata": {},
   "source": [
    "Now the compiler can again generate efficient machine code.\n",
    "\n",
    "However, global variables within a function is almost always a bad idea.  Instead, the `b_const` should be passed as a parameter to the function."
   ]
  },
  {
   "attachments": {},
   "cell_type": "markdown",
   "id": "7fd7d247",
   "metadata": {},
   "source": [
    "### Composite Types with Abstract Field Types\n",
    "\n",
    "Another scenario that trips up the JIT compiler is when composite types have\n",
    "fields with abstract types.\n",
    "\n",
    "We met this issue [earlier](https://julia.quantecon.org/../more_julia/generic_programming.html#spec-field-types), when we discussed AR(1) models.\n",
    "\n",
    "Let’s experiment, using, respectively,\n",
    "\n",
    "- an untyped field  \n",
    "- a field with abstract type, and  \n",
    "- parametric typing  \n",
    "\n",
    "\n",
    "As we’ll see, the last of these options gives us the best performance, while still maintaining significant flexibility.\n",
    "\n",
    "Here’s the untyped case"
   ]
  },
  {
   "cell_type": "code",
   "execution_count": 28,
   "id": "6c870c31",
   "metadata": {
    "hide-output": false
   },
   "outputs": [],
   "source": [
    "struct Foo_any\n",
    "    a\n",
    "end"
   ]
  },
  {
   "attachments": {},
   "cell_type": "markdown",
   "id": "3373ea08",
   "metadata": {},
   "source": [
    "Here’s the case of an abstract type on the field `a`"
   ]
  },
  {
   "cell_type": "code",
   "execution_count": 29,
   "id": "0a8fc18b",
   "metadata": {
    "hide-output": false
   },
   "outputs": [],
   "source": [
    "struct Foo_abstract\n",
    "    a::Real\n",
    "end"
   ]
  },
  {
   "attachments": {},
   "cell_type": "markdown",
   "id": "900dabac",
   "metadata": {},
   "source": [
    "Finally, here’s the parametrically typed case (where the `{T <: Real}` is not necessary for performance, and could simply be `{T}`"
   ]
  },
  {
   "cell_type": "code",
   "execution_count": 30,
   "id": "bd2ca417",
   "metadata": {
    "hide-output": false
   },
   "outputs": [],
   "source": [
    "struct Foo_concrete{T <: Real}\n",
    "    a::T\n",
    "end"
   ]
  },
  {
   "attachments": {},
   "cell_type": "markdown",
   "id": "360e14d6",
   "metadata": {},
   "source": [
    "Now we generate instances"
   ]
  },
  {
   "cell_type": "code",
   "execution_count": 31,
   "id": "47fc87b9",
   "metadata": {
    "hide-output": false
   },
   "outputs": [
    {
     "data": {
      "text/plain": [
       "Foo_concrete{Float64}(1.0)"
      ]
     },
     "execution_count": 31,
     "metadata": {},
     "output_type": "execute_result"
    }
   ],
   "source": [
    "fg = Foo_any(1.0)\n",
    "fa = Foo_abstract(1.0)\n",
    "fc = Foo_concrete(1.0)"
   ]
  },
  {
   "attachments": {},
   "cell_type": "markdown",
   "id": "b1483436",
   "metadata": {},
   "source": [
    "In the last case, concrete type information for the fields is embedded in the object"
   ]
  },
  {
   "cell_type": "code",
   "execution_count": 32,
   "id": "54bd3834",
   "metadata": {
    "hide-output": false
   },
   "outputs": [
    {
     "data": {
      "text/plain": [
       "Foo_concrete{Float64}"
      ]
     },
     "execution_count": 32,
     "metadata": {},
     "output_type": "execute_result"
    }
   ],
   "source": [
    "typeof(fc)"
   ]
  },
  {
   "attachments": {},
   "cell_type": "markdown",
   "id": "ed96f0ac",
   "metadata": {},
   "source": [
    "This is significant because such information is detected by the compiler."
   ]
  },
  {
   "attachments": {},
   "cell_type": "markdown",
   "id": "b3f2e172",
   "metadata": {},
   "source": [
    "#### Timing\n",
    "\n",
    "Here’s a function that uses the field `a` of our objects"
   ]
  },
  {
   "cell_type": "code",
   "execution_count": 33,
   "id": "868d7808",
   "metadata": {
    "hide-output": false
   },
   "outputs": [
    {
     "data": {
      "text/plain": [
       "f (generic function with 2 methods)"
      ]
     },
     "execution_count": 33,
     "metadata": {},
     "output_type": "execute_result"
    }
   ],
   "source": [
    "function f(foo)\n",
    "    tmp = foo.a\n",
    "    for i in 1:1_000_000\n",
    "        tmp = i + foo.a\n",
    "    end\n",
    "    return tmp\n",
    "end"
   ]
  },
  {
   "attachments": {},
   "cell_type": "markdown",
   "id": "b96fcfe4",
   "metadata": {},
   "source": [
    "Let’s try timing our code, starting with the case without any constraints:"
   ]
  },
  {
   "cell_type": "code",
   "execution_count": 34,
   "id": "2a04155d",
   "metadata": {
    "hide-output": false
   },
   "outputs": [
    {
     "name": "stdout",
     "output_type": "stream",
     "text": [
      "  25.174 ms (1999489 allocations: 30.51 MiB)\n"
     ]
    },
    {
     "data": {
      "text/plain": [
       "1.000001e6"
      ]
     },
     "execution_count": 34,
     "metadata": {},
     "output_type": "execute_result"
    }
   ],
   "source": [
    "@btime f($fg)"
   ]
  },
  {
   "attachments": {},
   "cell_type": "markdown",
   "id": "ca62d8f0",
   "metadata": {},
   "source": [
    "The timing is not very impressive.\n",
    "\n",
    "Here’s the nasty looking machine code"
   ]
  },
  {
   "cell_type": "code",
   "execution_count": null,
   "id": "ff45f052",
   "metadata": {
    "hide-output": false
   },
   "outputs": [],
   "source": [
    "@code_native f(fg)"
   ]
  },
  {
   "attachments": {},
   "cell_type": "markdown",
   "id": "cac36a9f",
   "metadata": {},
   "source": [
    "The abstract case is almost identical,"
   ]
  },
  {
   "cell_type": "code",
   "execution_count": 36,
   "id": "47a39b4a",
   "metadata": {
    "hide-output": false
   },
   "outputs": [
    {
     "name": "stdout",
     "output_type": "stream",
     "text": [
      "  23.275 ms (1999489 allocations: 30.51 MiB)\n"
     ]
    },
    {
     "data": {
      "text/plain": [
       "1.000001e6"
      ]
     },
     "execution_count": 36,
     "metadata": {},
     "output_type": "execute_result"
    }
   ],
   "source": [
    "@btime f($fa)"
   ]
  },
  {
   "attachments": {},
   "cell_type": "markdown",
   "id": "08aa5aca",
   "metadata": {},
   "source": [
    "Note the large memory footprint.\n",
    "\n",
    "The machine code is also long and complex, although we omit details.\n",
    "\n",
    "Finally, let’s look at the parametrically typed version"
   ]
  },
  {
   "cell_type": "code",
   "execution_count": 37,
   "id": "6033960d",
   "metadata": {
    "hide-output": false
   },
   "outputs": [
    {
     "name": "stdout",
     "output_type": "stream",
     "text": [
      "  2.700 ns (0 allocations: 0 bytes)\n"
     ]
    },
    {
     "data": {
      "text/plain": [
       "1.000001e6"
      ]
     },
     "execution_count": 37,
     "metadata": {},
     "output_type": "execute_result"
    }
   ],
   "source": [
    "@btime f($fc)"
   ]
  },
  {
   "attachments": {},
   "cell_type": "markdown",
   "id": "32669072",
   "metadata": {},
   "source": [
    "Which is improbably small - since a runtime of 1-2 nanoseconds without any allocations suggests no computations really took place.\n",
    "\n",
    "A hint is in the simplicity of the corresponding machine code"
   ]
  },
  {
   "cell_type": "code",
   "execution_count": 38,
   "id": "f60331e9",
   "metadata": {
    "hide-output": false
   },
   "outputs": [
    {
     "name": "stdout",
     "output_type": "stream",
     "text": [
      "\t\u001b[0m.text\n",
      "\t\u001b[0m.file\t\u001b[0m\"f\"\n",
      "\t\u001b[0m.section\t\u001b[0m.rodata.cst8\u001b[0m,\u001b[0m\"aM\"\u001b[0m,\u001b[0m@progbits\u001b[0m,\u001b[33m8\u001b[39m\n",
      "\t\u001b[0m.p2align\t\u001b[33m3\u001b[39m                               \u001b[90m# -- Begin function julia_f_2633\u001b[39m\n",
      "\u001b[91m.LCPI0_0:\u001b[39m\n",
      "\t\u001b[0m.quad\t\u001b[33m0x412e848000000000\u001b[39m              \u001b[90m# double 1.0E+6\u001b[39m\n",
      "\t\u001b[0m.text\n",
      "\t\u001b[0m.globl\t\u001b[0mjulia_f_2633\n",
      "\t\u001b[0m.p2align\t\u001b[33m4\u001b[39m\u001b[0m, \u001b[33m0x90\u001b[39m\n",
      "\t\u001b[0m.type\t\u001b[0mjulia_f_2633\u001b[0m,\u001b[0m@function\n",
      "\u001b[91mjulia_f_2633:\u001b[39m                           \u001b[90m# @julia_f_2633\u001b[39m\n",
      "\u001b[90m; ┌ @ In[33]:1 within `f`\u001b[39m\n",
      "\t\u001b[0m.cfi_startproc\n",
      "\u001b[90m# %bb.0:                                # %top\u001b[39m\n",
      "\t\u001b[96m\u001b[1mpushq\u001b[22m\u001b[39m\t\u001b[0m%rbp\n",
      "\t\u001b[0m.cfi_def_cfa_offset \u001b[33m16\u001b[39m\n",
      "\t\u001b[0m.cfi_offset \u001b[0m%rbp\u001b[0m, \u001b[33m-16\u001b[39m\n",
      "\t\u001b[96m\u001b[1mmovq\u001b[22m\u001b[39m\t\u001b[0m%rsp\u001b[0m, \u001b[0m%rbp\n",
      "\t\u001b[0m.cfi_def_cfa_register \u001b[0m%rbp\n",
      "\u001b[90m; │ @ In[33]:4 within `f`\u001b[39m\n",
      "\u001b[90m; │┌ @ promotion.jl:410 within `+` @ float.jl:408\u001b[39m\n",
      "\t\u001b[96m\u001b[1mvmovsd\u001b[22m\u001b[39m\t\u001b[33m(\u001b[39m\u001b[0m%rdi\u001b[33m)\u001b[39m\u001b[0m, \u001b[0m%xmm0                   \u001b[90m# xmm0 = mem[0],zero\u001b[39m\n",
      "\t\u001b[96m\u001b[1mmovabsq\u001b[22m\u001b[39m\t\u001b[93m$.LCPI0_0\u001b[39m\u001b[0m, \u001b[0m%rax\n",
      "\t\u001b[96m\u001b[1mvaddsd\u001b[22m\u001b[39m\t\u001b[33m(\u001b[39m\u001b[0m%rax\u001b[33m)\u001b[39m\u001b[0m, \u001b[0m%xmm0\u001b[0m, \u001b[0m%xmm0\n",
      "\u001b[90m; │└\u001b[39m\n",
      "\u001b[90m; │ @ In[33]:6 within `f`\u001b[39m\n",
      "\t\u001b[96m\u001b[1mpopq\u001b[22m\u001b[39m\t\u001b[0m%rbp\n",
      "\t\u001b[0m.cfi_def_cfa \u001b[0m%rsp\u001b[0m, \u001b[33m8\u001b[39m\n",
      "\t\u001b[96m\u001b[1mretq\u001b[22m\u001b[39m\n",
      "\u001b[91m.Lfunc_end0:\u001b[39m\n",
      "\t\u001b[0m.size\t\u001b[0mjulia_f_2633\u001b[0m, \u001b[0m.Lfunc_end0-julia_f_2633\n",
      "\t\u001b[0m.cfi_endproc\n",
      "\u001b[90m; └\u001b[39m\n",
      "                                        \u001b[90m# -- End function\u001b[39m\n",
      "\t\u001b[0m.section\t\u001b[0m\".note.GNU-stack\"\u001b[0m,\u001b[0m\"\"\u001b[0m,\u001b[0m@progbits\n"
     ]
    }
   ],
   "source": [
    "@code_native f(fc)"
   ]
  },
  {
   "attachments": {},
   "cell_type": "markdown",
   "id": "8f047273",
   "metadata": {},
   "source": [
    "This machine code has none of the hallmark assembly instructions associated with a loop, in particular loops (e.g. `for` in julia) end up as jumps in the machine code (e.g. `jne`).\n",
    "\n",
    "Here, the compiler was smart enough to realize that only the final step in the loop matters, i.e. it could generate the equivalent to `f(a) = 1_000_000 + foo.a` and then it can return that directly and skip the loop.  These sorts of code optimizations are only possible if the compiler is able to use a great deal of information about the types.\n",
    "\n",
    "Finally, note that if we compile a slightly different version of the function, which doesn’t actually return the value"
   ]
  },
  {
   "cell_type": "code",
   "execution_count": 39,
   "id": "29a59b03",
   "metadata": {
    "hide-output": false
   },
   "outputs": [
    {
     "name": "stdout",
     "output_type": "stream",
     "text": [
      "\t\u001b[0m.text\n",
      "\t\u001b[0m.file\t\u001b[0m\"f_no_return\"\n",
      "\t\u001b[0m.globl\t\u001b[0mjulia_f_no_return_2635          \u001b[90m# -- Begin function julia_f_no_return_2635\u001b[39m\n",
      "\t\u001b[0m.p2align\t\u001b[33m4\u001b[39m\u001b[0m, \u001b[33m0x90\u001b[39m\n",
      "\t\u001b[0m.type\t\u001b[0mjulia_f_no_return_2635\u001b[0m,\u001b[0m@function\n",
      "\u001b[91mjulia_f_no_return_2635:\u001b[39m                 \u001b[90m# @julia_f_no_return_2635\u001b[39m\n",
      "\u001b[90m; ┌ @ In[39]:1 within `f_no_return`\u001b[39m\n",
      "\t\u001b[0m.cfi_startproc\n",
      "\u001b[90m# %bb.0:                                # %top\u001b[39m\n",
      "\t\u001b[96m\u001b[1mpushq\u001b[22m\u001b[39m\t\u001b[0m%rbp\n",
      "\t\u001b[0m.cfi_def_cfa_offset \u001b[33m16\u001b[39m\n",
      "\t\u001b[0m.cfi_offset \u001b[0m%rbp\u001b[0m, \u001b[33m-16\u001b[39m\n",
      "\t\u001b[96m\u001b[1mmovq\u001b[22m\u001b[39m\t\u001b[0m%rsp\u001b[0m, \u001b[0m%rbp\n",
      "\t\u001b[0m.cfi_def_cfa_register \u001b[0m%rbp\n",
      "\u001b[90m; │ @ In[39]:4 within `f_no_return`\u001b[39m\n",
      "\t\u001b[96m\u001b[1mpopq\u001b[22m\u001b[39m\t\u001b[0m%rbp\n",
      "\t\u001b[0m.cfi_def_cfa \u001b[0m%rsp\u001b[0m, \u001b[33m8\u001b[39m\n",
      "\t\u001b[96m\u001b[1mretq\u001b[22m\u001b[39m\n",
      "\u001b[91m.Lfunc_end0:\u001b[39m\n",
      "\t\u001b[0m.size\t\u001b[0mjulia_f_no_return_2635\u001b[0m, \u001b[0m.Lfunc_end0-julia_f_no_return_2635\n",
      "\t\u001b[0m.cfi_endproc\n",
      "\u001b[90m; └\u001b[39m\n",
      "                                        \u001b[90m# -- End function\u001b[39m\n",
      "\t\u001b[0m.section\t\u001b[0m\".note.GNU-stack\"\u001b[0m,\u001b[0m\"\"\u001b[0m,\u001b[0m@progbits\n"
     ]
    }
   ],
   "source": [
    "function f_no_return(foo)\n",
    "    for i in 1:1_000_000\n",
    "        tmp = i + foo.a\n",
    "    end\n",
    "end\n",
    "@code_native f_no_return(fc)"
   ]
  },
  {
   "attachments": {},
   "cell_type": "markdown",
   "id": "ed4c90d2",
   "metadata": {},
   "source": [
    "We see that the code is even simpler.  In effect, if figured out that because `tmp` wasn’t returned, and the `foo.a` could have no side effects (since it knows the type of `a`), that it doesn’t even need to execute any of the code in the function."
   ]
  },
  {
   "attachments": {},
   "cell_type": "markdown",
   "id": "1498cda4",
   "metadata": {},
   "source": [
    "### Type Inference\n",
    "\n",
    "Consider the following function, which essentially does the same job as Julia’s `sum()` function but acts only on floating point data"
   ]
  },
  {
   "cell_type": "code",
   "execution_count": 40,
   "id": "9099aa66",
   "metadata": {
    "hide-output": false
   },
   "outputs": [
    {
     "data": {
      "text/plain": [
       "sum_float_array (generic function with 1 method)"
      ]
     },
     "execution_count": 40,
     "metadata": {},
     "output_type": "execute_result"
    }
   ],
   "source": [
    "function sum_float_array(x::AbstractVector{<:Number})\n",
    "    sum = 0.0\n",
    "    for i in eachindex(x)\n",
    "        sum += x[i]\n",
    "    end\n",
    "    return sum\n",
    "end"
   ]
  },
  {
   "attachments": {},
   "cell_type": "markdown",
   "id": "9b7e8faa",
   "metadata": {},
   "source": [
    "Calls to this function run very quickly"
   ]
  },
  {
   "cell_type": "code",
   "execution_count": 41,
   "id": "8ee9eb2e",
   "metadata": {
    "hide-output": false
   },
   "outputs": [
    {
     "data": {
      "text/plain": [
       "Vector{Float64}\u001b[90m (alias for \u001b[39m\u001b[90mArray{Float64, 1}\u001b[39m\u001b[90m)\u001b[39m"
      ]
     },
     "execution_count": 41,
     "metadata": {},
     "output_type": "execute_result"
    }
   ],
   "source": [
    "x_range = range(0,  1, length = 100_000)\n",
    "x = collect(x_range)\n",
    "typeof(x)"
   ]
  },
  {
   "cell_type": "code",
   "execution_count": 42,
   "id": "fabf1b2a",
   "metadata": {
    "hide-output": false
   },
   "outputs": [
    {
     "name": "stdout",
     "output_type": "stream",
     "text": [
      "  100.200 μs (0 allocations: 0 bytes)\n"
     ]
    },
    {
     "data": {
      "text/plain": [
       "50000.0"
      ]
     },
     "execution_count": 42,
     "metadata": {},
     "output_type": "execute_result"
    }
   ],
   "source": [
    "@btime sum_float_array($x)"
   ]
  },
  {
   "attachments": {},
   "cell_type": "markdown",
   "id": "947e1d81",
   "metadata": {},
   "source": [
    "When Julia compiles this function, it knows that the data passed in as `x` will be an array of 64 bit floats.  Hence it’s known to the compiler that the relevant method for `+` is always addition of floating point numbers.\n",
    "\n",
    "But consider a version without that type annotation"
   ]
  },
  {
   "cell_type": "code",
   "execution_count": 43,
   "id": "ff9b2c13",
   "metadata": {
    "hide-output": false
   },
   "outputs": [
    {
     "name": "stdout",
     "output_type": "stream",
     "text": [
      "  100.200 μs (0 allocations: 0 bytes)\n"
     ]
    },
    {
     "data": {
      "text/plain": [
       "50000.0"
      ]
     },
     "execution_count": 43,
     "metadata": {},
     "output_type": "execute_result"
    }
   ],
   "source": [
    "function sum_array(x)\n",
    "    sum = 0.0\n",
    "    for i in eachindex(x)\n",
    "        sum += x[i]\n",
    "    end\n",
    "    return sum\n",
    "end\n",
    "@btime sum_array($x)"
   ]
  },
  {
   "attachments": {},
   "cell_type": "markdown",
   "id": "23804c33",
   "metadata": {},
   "source": [
    "Note that this has the same running time as the one with the explicit types.  In julia, there is (almost never) performance gain from declaring types, and if anything they can make things worse by limited the potential for specialized algorithms.  See [generic programming](https://julia.quantecon.org/../more_julia/generic_programming.html) for more.\n",
    "\n",
    "As an example within Julia code, look at the built-in sum for array"
   ]
  },
  {
   "cell_type": "code",
   "execution_count": 44,
   "id": "19fce2ff",
   "metadata": {
    "hide-output": false
   },
   "outputs": [
    {
     "name": "stdout",
     "output_type": "stream",
     "text": [
      "  13.000 μs (0 allocations: 0 bytes)\n"
     ]
    },
    {
     "data": {
      "text/plain": [
       "50000.00000000001"
      ]
     },
     "execution_count": 44,
     "metadata": {},
     "output_type": "execute_result"
    }
   ],
   "source": [
    "@btime sum($x)"
   ]
  },
  {
   "attachments": {},
   "cell_type": "markdown",
   "id": "5d5a43fb",
   "metadata": {},
   "source": [
    "Versus the underlying range"
   ]
  },
  {
   "cell_type": "code",
   "execution_count": 45,
   "id": "5eee4d9b",
   "metadata": {
    "hide-output": false
   },
   "outputs": [
    {
     "name": "stdout",
     "output_type": "stream",
     "text": [
      "  82.213 ns (0 allocations: 0 bytes)\n"
     ]
    },
    {
     "data": {
      "text/plain": [
       "50000.0"
      ]
     },
     "execution_count": 45,
     "metadata": {},
     "output_type": "execute_result"
    }
   ],
   "source": [
    "@btime sum($x_range)"
   ]
  },
  {
   "attachments": {},
   "cell_type": "markdown",
   "id": "e2e1bd54",
   "metadata": {},
   "source": [
    "Note that the difference in speed is enormous—suggesting it is better to keep things in their more structured forms as long as possible.  You can check the underlying source used for this with `@which sum(x_range)` to see the specialized algorithm used."
   ]
  },
  {
   "cell_type": "code",
   "execution_count": 46,
   "id": "259e6567",
   "metadata": {},
   "outputs": [
    {
     "data": {
      "text/html": [
       "sum(r::<b>StepRangeLen{<:Any, <:Base.TwicePrecision, <:Base.TwicePrecision}</b>) in Base at <a href=\"https://github.com/JuliaLang/julia/tree/8e630552924eac54c809aa7bc30871c7df1582d3/base/twiceprecision.jl#L607\" target=\"_blank\">twiceprecision.jl:607</a>"
      ],
      "text/plain": [
       "sum(\u001b[90mr\u001b[39m::\u001b[1mStepRangeLen\u001b[22m\u001b[0m{<:Any, <:Base.TwicePrecision, <:Base.TwicePrecision})\n",
       "\u001b[90m     @\u001b[39m \u001b[90mBase\u001b[39m \u001b[90m\u001b[4mtwiceprecision.jl:607\u001b[24m\u001b[39m"
      ]
     },
     "execution_count": 46,
     "metadata": {},
     "output_type": "execute_result"
    }
   ],
   "source": [
    "@which sum(x_range)"
   ]
  },
  {
   "attachments": {},
   "cell_type": "markdown",
   "id": "53ad7b43",
   "metadata": {},
   "source": [
    "#### Type Inferences\n",
    "\n",
    "Here’s the same function minus the type annotation in the function signature"
   ]
  },
  {
   "cell_type": "code",
   "execution_count": 47,
   "id": "3a547948",
   "metadata": {
    "hide-output": false
   },
   "outputs": [
    {
     "data": {
      "text/plain": [
       "sum_array (generic function with 1 method)"
      ]
     },
     "execution_count": 47,
     "metadata": {},
     "output_type": "execute_result"
    }
   ],
   "source": [
    "function sum_array(x)\n",
    "    sum = 0.0\n",
    "    for i in eachindex(x)\n",
    "        sum += x[i]\n",
    "    end\n",
    "    return sum\n",
    "end"
   ]
  },
  {
   "attachments": {},
   "cell_type": "markdown",
   "id": "d8e1eae2",
   "metadata": {},
   "source": [
    "When we run it with the same array of floating point numbers it executes at a\n",
    "similar speed as the function with type information."
   ]
  },
  {
   "cell_type": "code",
   "execution_count": 48,
   "id": "e48bb109",
   "metadata": {
    "hide-output": false
   },
   "outputs": [
    {
     "name": "stdout",
     "output_type": "stream",
     "text": [
      "  100.200 μs (0 allocations: 0 bytes)\n"
     ]
    },
    {
     "data": {
      "text/plain": [
       "50000.0"
      ]
     },
     "execution_count": 48,
     "metadata": {},
     "output_type": "execute_result"
    }
   ],
   "source": [
    "@btime sum_array($x)"
   ]
  },
  {
   "attachments": {},
   "cell_type": "markdown",
   "id": "02727f06",
   "metadata": {},
   "source": [
    "The reason is that when `sum_array()` is first called on a vector of a given\n",
    "data type, a newly compiled version of the function is produced to handle that\n",
    "type.\n",
    "\n",
    "In this case, since we’re calling the function on a vector of floats, we get a compiled version of the function with essentially the same internal representation as `sum_float_array()`."
   ]
  },
  {
   "attachments": {},
   "cell_type": "markdown",
   "id": "0fc1c937",
   "metadata": {},
   "source": [
    "#### An Abstract Container\n",
    "\n",
    "Things get tougher for the interpreter when the data type within the array is imprecise.\n",
    "\n",
    "For example, the following snippet creates an array where the element type is `Any`"
   ]
  },
  {
   "cell_type": "code",
   "execution_count": 49,
   "id": "72370fb1",
   "metadata": {
    "hide-output": false
   },
   "outputs": [],
   "source": [
    "x = Any[ 1/i for i in 1:1e6 ];"
   ]
  },
  {
   "cell_type": "code",
   "execution_count": 50,
   "id": "56fc5585",
   "metadata": {
    "hide-output": false
   },
   "outputs": [
    {
     "data": {
      "text/plain": [
       "Any"
      ]
     },
     "execution_count": 50,
     "metadata": {},
     "output_type": "execute_result"
    }
   ],
   "source": [
    "eltype(x)"
   ]
  },
  {
   "attachments": {},
   "cell_type": "markdown",
   "id": "922b43ef",
   "metadata": {},
   "source": [
    "Now summation is much slower and memory management is less efficient."
   ]
  },
  {
   "cell_type": "code",
   "execution_count": 51,
   "id": "181c2308",
   "metadata": {
    "hide-output": false
   },
   "outputs": [
    {
     "name": "stdout",
     "output_type": "stream",
     "text": [
      "  23.972 ms (1000000 allocations: 15.26 MiB)\n"
     ]
    },
    {
     "data": {
      "text/plain": [
       "14.392726722864989"
      ]
     },
     "execution_count": 51,
     "metadata": {},
     "output_type": "execute_result"
    }
   ],
   "source": [
    "@btime sum_array($x)"
   ]
  },
  {
   "attachments": {},
   "cell_type": "markdown",
   "id": "f4b8a87f",
   "metadata": {},
   "source": [
    "## Further Comments\n",
    "\n",
    "Here are some final comments on performance."
   ]
  },
  {
   "attachments": {},
   "cell_type": "markdown",
   "id": "43320050",
   "metadata": {},
   "source": [
    "### Summary and Tips\n",
    "\n",
    "Use functions to segregate operations into logically distinct blocks.\n",
    "\n",
    "Data types will be determined at function boundaries.\n",
    "\n",
    "If types are not supplied then they will be inferred.\n",
    "\n",
    "If types are stable and can be inferred effectively your functions will run fast."
   ]
  },
  {
   "attachments": {},
   "cell_type": "markdown",
   "id": "534d54fe",
   "metadata": {},
   "source": [
    "### Further Reading\n",
    "\n",
    "A good next stop for further reading is the [relevant part](https://docs.julialang.org/en/v1/manual/performance-tips/) of the Julia documentation."
   ]
  }
 ],
 "metadata": {
  "date": 1672949738.0588074,
  "filename": "need_for_speed.md",
  "kernelspec": {
   "display_name": "Julia 1.9.0",
   "language": "julia",
   "name": "julia-1.9"
  },
  "language_info": {
   "file_extension": ".jl",
   "mimetype": "application/julia",
   "name": "julia",
   "version": "1.9.0"
  },
  "title": "The Need for Speed"
 },
 "nbformat": 4,
 "nbformat_minor": 5
}
