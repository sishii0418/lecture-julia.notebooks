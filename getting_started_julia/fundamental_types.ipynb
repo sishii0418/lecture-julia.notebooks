{
 "cells": [
  {
   "attachments": {},
   "cell_type": "markdown",
   "id": "f7b5d3a8",
   "metadata": {},
   "source": [
    "\n",
    "<a id='fundamental-types'></a>"
   ]
  },
  {
   "attachments": {},
   "cell_type": "markdown",
   "id": "1f91e0ca",
   "metadata": {},
   "source": [
    "# Arrays, Tuples, Ranges, and Other Fundamental Types"
   ]
  },
  {
   "attachments": {},
   "cell_type": "markdown",
   "id": "4aa16f26",
   "metadata": {},
   "source": [
    "## Contents\n",
    "\n",
    "- [Arrays, Tuples, Ranges, and Other Fundamental Types](#Arrays,-Tuples,-Ranges,-and-Other-Fundamental-Types)  \n",
    "  - [Overview](#Overview)  \n",
    "  - [Array Basics](#Array-Basics)  \n",
    "  - [Operations on Arrays](#Operations-on-Arrays)  \n",
    "  - [Ranges](#Ranges)  \n",
    "  - [Tuples and Named Tuples](#Tuples-and-Named-Tuples)  \n",
    "  - [Nothing, Missing, and Unions](#Nothing,-Missing,-and-Unions)  \n",
    "  - [Exercises](#Exercises)  \n",
    "  - [Solutions](#Solutions)  "
   ]
  },
  {
   "attachments": {},
   "cell_type": "markdown",
   "id": "ce5ff4a3",
   "metadata": {},
   "source": [
    "> “Let’s be clear: the work of science has nothing whatever to do with consensus.\n",
    "> Consensus is the business of politics. Science, on the contrary, requires only\n",
    "> one investigator who happens to be right, which means that he or she has\n",
    "> results that are verifiable by reference to the real world. In science\n",
    "> consensus is irrelevant. What is relevant is reproducible results.” – Michael Crichton"
   ]
  },
  {
   "attachments": {},
   "cell_type": "markdown",
   "id": "273bc1ca",
   "metadata": {},
   "source": [
    "## Overview\n",
    "\n",
    "In Julia, arrays and tuples are the most important data type for working with numerical data.\n",
    "\n",
    "In this lecture we give more details on\n",
    "\n",
    "- creating and manipulating Julia arrays  \n",
    "- fundamental array processing operations  \n",
    "- basic matrix algebra  \n",
    "- tuples and named tuples  \n",
    "- ranges  \n",
    "- nothing, missing, and unions  "
   ]
  },
  {
   "cell_type": "code",
   "execution_count": 1,
   "id": "481f8add",
   "metadata": {
    "hide-output": false
   },
   "outputs": [],
   "source": [
    "using LinearAlgebra, Statistics"
   ]
  },
  {
   "attachments": {},
   "cell_type": "markdown",
   "id": "1e9796fb",
   "metadata": {},
   "source": [
    "## Array Basics\n",
    "\n",
    "([See multi-dimensional arrays documentation](https://docs.julialang.org/en/v1/manual/arrays/))\n",
    "\n",
    "Since it is one of the most important types, we will start with arrays.\n",
    "\n",
    "Later, we will see how arrays (and all other types in Julia) are handled in a generic and extensible way."
   ]
  },
  {
   "attachments": {},
   "cell_type": "markdown",
   "id": "24d5a07c",
   "metadata": {},
   "source": [
    "### Shape and Dimension\n",
    "\n",
    "We’ve already seen some Julia arrays in action"
   ]
  },
  {
   "cell_type": "code",
   "execution_count": 2,
   "id": "3385ff16",
   "metadata": {
    "hide-output": false
   },
   "outputs": [
    {
     "data": {
      "text/plain": [
       "3-element Vector{Int64}:\n",
       " 10\n",
       " 20\n",
       " 30"
      ]
     },
     "execution_count": 2,
     "metadata": {},
     "output_type": "execute_result"
    }
   ],
   "source": [
    "a = [10, 20, 30]"
   ]
  },
  {
   "cell_type": "code",
   "execution_count": 3,
   "id": "ec40da6f",
   "metadata": {
    "hide-output": false
   },
   "outputs": [
    {
     "data": {
      "text/plain": [
       "3-element Vector{Float64}:\n",
       " 1.0\n",
       " 2.0\n",
       " 3.0"
      ]
     },
     "execution_count": 3,
     "metadata": {},
     "output_type": "execute_result"
    }
   ],
   "source": [
    "a = [1.0, 2.0, 3.0]"
   ]
  },
  {
   "attachments": {},
   "cell_type": "markdown",
   "id": "fcad0495",
   "metadata": {},
   "source": [
    "The output tells us that the arrays are of types `Array{Int64,1}` and `Array{Float64,1}` respectively.\n",
    "\n",
    "Here `Int64` and `Float64` are types for the elements inferred by the compiler.\n",
    "\n",
    "We’ll talk more about types later.\n",
    "\n",
    "The `1` in `Array{Int64,1}` and `Array{Any,1}` indicates that the array is\n",
    "one dimensional (i.e., a `Vector`).\n",
    "\n",
    "This is the default for many Julia functions that create arrays"
   ]
  },
  {
   "cell_type": "code",
   "execution_count": 4,
   "id": "3e15f174",
   "metadata": {
    "hide-output": false
   },
   "outputs": [
    {
     "data": {
      "text/plain": [
       "Vector{Float64}\u001b[90m (alias for \u001b[39m\u001b[90mArray{Float64, 1}\u001b[39m\u001b[90m)\u001b[39m"
      ]
     },
     "execution_count": 4,
     "metadata": {},
     "output_type": "execute_result"
    }
   ],
   "source": [
    "typeof(randn(100))"
   ]
  },
  {
   "attachments": {},
   "cell_type": "markdown",
   "id": "5d938e43",
   "metadata": {},
   "source": [
    "In Julia, one dimensional vectors are best interpreted as column vectors, which we will see when we take transposes.\n",
    "\n",
    "We can check the dimensions of `a` using `size()` and `ndims()`\n",
    "functions"
   ]
  },
  {
   "cell_type": "code",
   "execution_count": 5,
   "id": "c4182177",
   "metadata": {
    "hide-output": false
   },
   "outputs": [
    {
     "data": {
      "text/plain": [
       "1"
      ]
     },
     "execution_count": 5,
     "metadata": {},
     "output_type": "execute_result"
    }
   ],
   "source": [
    "ndims(a)"
   ]
  },
  {
   "cell_type": "code",
   "execution_count": 6,
   "id": "1b44a31e",
   "metadata": {
    "hide-output": false
   },
   "outputs": [
    {
     "data": {
      "text/plain": [
       "(3,)"
      ]
     },
     "execution_count": 6,
     "metadata": {},
     "output_type": "execute_result"
    }
   ],
   "source": [
    "size(a)"
   ]
  },
  {
   "attachments": {},
   "cell_type": "markdown",
   "id": "a2912b0f",
   "metadata": {},
   "source": [
    "The syntax `(3,)` displays a tuple containing one element – the size along the one dimension that exists."
   ]
  },
  {
   "attachments": {},
   "cell_type": "markdown",
   "id": "e5962d08",
   "metadata": {},
   "source": [
    "#### Array vs Vector vs Matrix\n",
    "\n",
    "In Julia, `Vector` and `Matrix` are just aliases for one- and two-dimensional arrays\n",
    "respectively"
   ]
  },
  {
   "cell_type": "code",
   "execution_count": 7,
   "id": "777cbf72",
   "metadata": {
    "hide-output": false
   },
   "outputs": [
    {
     "data": {
      "text/plain": [
       "true"
      ]
     },
     "execution_count": 7,
     "metadata": {},
     "output_type": "execute_result"
    }
   ],
   "source": [
    "Array{Int64, 1} == Vector{Int64}\n",
    "Array{Int64, 2} == Matrix{Int64}"
   ]
  },
  {
   "attachments": {},
   "cell_type": "markdown",
   "id": "29532fd8",
   "metadata": {},
   "source": [
    "Vector construction with `,` is then interpreted as a column vector.\n",
    "\n",
    "To see this, we can create a column vector and row vector more directly"
   ]
  },
  {
   "cell_type": "code",
   "execution_count": 8,
   "id": "d268edc7",
   "metadata": {
    "hide-output": false
   },
   "outputs": [
    {
     "data": {
      "text/plain": [
       "true"
      ]
     },
     "execution_count": 8,
     "metadata": {},
     "output_type": "execute_result"
    }
   ],
   "source": [
    "[1, 2, 3] == [1; 2; 3]  # both column vectors"
   ]
  },
  {
   "cell_type": "code",
   "execution_count": 11,
   "id": "45b79b04",
   "metadata": {
    "hide-output": false
   },
   "outputs": [
    {
     "data": {
      "text/plain": [
       "2"
      ]
     },
     "execution_count": 11,
     "metadata": {},
     "output_type": "execute_result"
    }
   ],
   "source": [
    "[1 2 3]  # a row vector is 2-dimensional\n",
    "row_vec = [1 2 3]\n",
    "size(row_vec) # (1, 3)\n",
    "ndims(row_vec) # 2"
   ]
  },
  {
   "attachments": {},
   "cell_type": "markdown",
   "id": "a98605c5",
   "metadata": {},
   "source": [
    "As we’ve seen, in Julia we have both\n",
    "\n",
    "- one-dimensional arrays (i.e., flat arrays)  \n",
    "- arrays of size `(1, n)` or `(n, 1)` that represent row and column vectors respectively  \n",
    "\n",
    "\n",
    "Why do we need both?\n",
    "\n",
    "On one hand, dimension matters for matrix algebra.\n",
    "\n",
    "- Multiplying by a row vector is different to multiplying by a column vector.  \n",
    "\n",
    "\n",
    "On the other, we use arrays in many settings that don’t involve matrix algebra.\n",
    "\n",
    "In such cases, we don’t care about the distinction between row and column vectors.\n",
    "\n",
    "This is why many Julia functions return flat arrays by default.\n",
    "\n",
    "\n",
    "<a id='creating-arrays'></a>"
   ]
  },
  {
   "attachments": {},
   "cell_type": "markdown",
   "id": "510afe4e",
   "metadata": {},
   "source": [
    "### Creating Arrays"
   ]
  },
  {
   "attachments": {},
   "cell_type": "markdown",
   "id": "57686d18",
   "metadata": {},
   "source": [
    "#### Functions that Create Arrays\n",
    "\n",
    "We’ve already seen some functions for creating a vector filled with `0.0`"
   ]
  },
  {
   "cell_type": "code",
   "execution_count": 12,
   "id": "ebf81d24",
   "metadata": {
    "hide-output": false
   },
   "outputs": [
    {
     "data": {
      "text/plain": [
       "3-element Vector{Float64}:\n",
       " 0.0\n",
       " 0.0\n",
       " 0.0"
      ]
     },
     "execution_count": 12,
     "metadata": {},
     "output_type": "execute_result"
    }
   ],
   "source": [
    "zeros(3)"
   ]
  },
  {
   "attachments": {},
   "cell_type": "markdown",
   "id": "673c8d2f",
   "metadata": {},
   "source": [
    "This generalizes to matrices and higher dimensional arrays"
   ]
  },
  {
   "cell_type": "code",
   "execution_count": 13,
   "id": "06c14e80",
   "metadata": {
    "hide-output": false
   },
   "outputs": [
    {
     "data": {
      "text/plain": [
       "2×2 Matrix{Float64}:\n",
       " 0.0  0.0\n",
       " 0.0  0.0"
      ]
     },
     "execution_count": 13,
     "metadata": {},
     "output_type": "execute_result"
    }
   ],
   "source": [
    "zeros(2, 2)"
   ]
  },
  {
   "attachments": {},
   "cell_type": "markdown",
   "id": "bfe4a738",
   "metadata": {},
   "source": [
    "To return an array filled with a single value, use `fill`"
   ]
  },
  {
   "cell_type": "code",
   "execution_count": 14,
   "id": "dfb38d02",
   "metadata": {
    "hide-output": false
   },
   "outputs": [
    {
     "data": {
      "text/plain": [
       "2×2 Matrix{Float64}:\n",
       " 5.0  5.0\n",
       " 5.0  5.0"
      ]
     },
     "execution_count": 14,
     "metadata": {},
     "output_type": "execute_result"
    }
   ],
   "source": [
    "fill(5.0, 2, 2)"
   ]
  },
  {
   "attachments": {},
   "cell_type": "markdown",
   "id": "601e7823",
   "metadata": {},
   "source": [
    "Finally, you can create an empty array using the `Array()` constructor"
   ]
  },
  {
   "cell_type": "code",
   "execution_count": 15,
   "id": "382e6cf6",
   "metadata": {
    "hide-output": false
   },
   "outputs": [
    {
     "data": {
      "text/plain": [
       "2×2 Matrix{Float64}:\n",
       " 6.94918e-310  6.94918e-310\n",
       " 6.94918e-310  6.94918e-310"
      ]
     },
     "execution_count": 15,
     "metadata": {},
     "output_type": "execute_result"
    }
   ],
   "source": [
    "x = Array{Float64}(undef, 2, 2)"
   ]
  },
  {
   "attachments": {},
   "cell_type": "markdown",
   "id": "936b2f58",
   "metadata": {},
   "source": [
    "The printed values you see here are just garbage values.\n",
    "\n",
    "(the existing contents of the allocated memory slots being interpreted as 64 bit floats)\n",
    "\n",
    "If you need more control over the types, fill with a non-floating point"
   ]
  },
  {
   "cell_type": "code",
   "execution_count": 16,
   "id": "8abdcaf8",
   "metadata": {
    "hide-output": false
   },
   "outputs": [
    {
     "data": {
      "text/plain": [
       "2×2 Matrix{Int64}:\n",
       " 0  0\n",
       " 0  0"
      ]
     },
     "execution_count": 16,
     "metadata": {},
     "output_type": "execute_result"
    }
   ],
   "source": [
    "fill(0, 2, 2)  # fills with 0, not 0.0"
   ]
  },
  {
   "attachments": {},
   "cell_type": "markdown",
   "id": "1da8e60f",
   "metadata": {},
   "source": [
    "Or fill with a boolean type"
   ]
  },
  {
   "cell_type": "code",
   "execution_count": 17,
   "id": "e95794e7",
   "metadata": {
    "hide-output": false
   },
   "outputs": [
    {
     "data": {
      "text/plain": [
       "2×2 Matrix{Bool}:\n",
       " 0  0\n",
       " 0  0"
      ]
     },
     "execution_count": 17,
     "metadata": {},
     "output_type": "execute_result"
    }
   ],
   "source": [
    "fill(false, 2, 2)  # produces a boolean matrix"
   ]
  },
  {
   "attachments": {},
   "cell_type": "markdown",
   "id": "a80b2f07",
   "metadata": {},
   "source": [
    "#### Creating Arrays from Existing Arrays\n",
    "\n",
    "For the most part, we will avoid directly specifying the types of arrays, and let the compiler deduce the optimal types on its own.\n",
    "\n",
    "The reasons for this, discussed in more detail in [this lecture](https://julia.quantecon.org/../more_julia/generic_programming.html), are to ensure both clarity and generality.\n",
    "\n",
    "One place this can be inconvenient is when we need to create an array based on an existing array.\n",
    "\n",
    "First, note that assignment in Julia binds a name to a value, but does not make a copy of that type"
   ]
  },
  {
   "cell_type": "code",
   "execution_count": 18,
   "id": "e86d57ab",
   "metadata": {
    "hide-output": false
   },
   "outputs": [
    {
     "data": {
      "text/plain": [
       "3-element Vector{Int64}:\n",
       " 2\n",
       " 2\n",
       " 3"
      ]
     },
     "execution_count": 18,
     "metadata": {},
     "output_type": "execute_result"
    }
   ],
   "source": [
    "x = [1, 2, 3]\n",
    "y = x\n",
    "y[1] = 2\n",
    "x"
   ]
  },
  {
   "attachments": {},
   "cell_type": "markdown",
   "id": "bdf82b25",
   "metadata": {},
   "source": [
    "In the above, `y = x` simply creates a new named binding called `y` which refers to whatever `x` currently binds to.\n",
    "\n",
    "To copy the data, you need to be more explicit"
   ]
  },
  {
   "cell_type": "code",
   "execution_count": 19,
   "id": "78784a41",
   "metadata": {
    "hide-output": false
   },
   "outputs": [
    {
     "data": {
      "text/plain": [
       "3-element Vector{Int64}:\n",
       " 1\n",
       " 2\n",
       " 3"
      ]
     },
     "execution_count": 19,
     "metadata": {},
     "output_type": "execute_result"
    }
   ],
   "source": [
    "x = [1, 2, 3]\n",
    "y = copy(x)\n",
    "y[1] = 2\n",
    "x"
   ]
  },
  {
   "attachments": {},
   "cell_type": "markdown",
   "id": "3e218a66",
   "metadata": {},
   "source": [
    "However, rather than making a copy of `x`, you may want to just have a similarly sized array"
   ]
  },
  {
   "cell_type": "code",
   "execution_count": 20,
   "id": "d8fe8142",
   "metadata": {
    "hide-output": false
   },
   "outputs": [
    {
     "data": {
      "text/plain": [
       "3-element Vector{Int64}:\n",
       " 3\n",
       " 1\n",
       " 0"
      ]
     },
     "execution_count": 20,
     "metadata": {},
     "output_type": "execute_result"
    }
   ],
   "source": [
    "x = [1, 2, 3]\n",
    "y = similar(x)\n",
    "y"
   ]
  },
  {
   "attachments": {},
   "cell_type": "markdown",
   "id": "f5d9aeb0",
   "metadata": {},
   "source": [
    "We can also use `similar` to pre-allocate a vector with a different size, but the same shape"
   ]
  },
  {
   "cell_type": "code",
   "execution_count": 21,
   "id": "aba0defc",
   "metadata": {
    "hide-output": false
   },
   "outputs": [
    {
     "data": {
      "text/plain": [
       "4-element Vector{Int64}:\n",
       " 140653063538768\n",
       " 140653063538832\n",
       " 140653063538864\n",
       " 140653063538896"
      ]
     },
     "execution_count": 21,
     "metadata": {},
     "output_type": "execute_result"
    }
   ],
   "source": [
    "x = [1, 2, 3]\n",
    "y = similar(x, 4)  # make a vector of length 4"
   ]
  },
  {
   "attachments": {},
   "cell_type": "markdown",
   "id": "c2729b3d",
   "metadata": {},
   "source": [
    "Which generalizes to higher dimensions"
   ]
  },
  {
   "cell_type": "code",
   "execution_count": 22,
   "id": "750e788d",
   "metadata": {
    "hide-output": false
   },
   "outputs": [
    {
     "data": {
      "text/plain": [
       "2×2 Matrix{Int64}:\n",
       " 140654078125408  140654051315728\n",
       " 140653998483024  140654178346128"
      ]
     },
     "execution_count": 22,
     "metadata": {},
     "output_type": "execute_result"
    }
   ],
   "source": [
    "x = [1, 2, 3]\n",
    "y = similar(x, 2, 2)  # make a 2x2 matrix"
   ]
  },
  {
   "attachments": {},
   "cell_type": "markdown",
   "id": "e72f8382",
   "metadata": {},
   "source": [
    "#### Array Definitions from Literals\n",
    "\n",
    "As we’ve seen, you can create one dimensional arrays from manually specified data like so"
   ]
  },
  {
   "cell_type": "code",
   "execution_count": 23,
   "id": "601dbc62",
   "metadata": {
    "hide-output": false
   },
   "outputs": [
    {
     "data": {
      "text/plain": [
       "4-element Vector{Int64}:\n",
       " 10\n",
       " 20\n",
       " 30\n",
       " 40"
      ]
     },
     "execution_count": 23,
     "metadata": {},
     "output_type": "execute_result"
    }
   ],
   "source": [
    "a = [10, 20, 30, 40]"
   ]
  },
  {
   "attachments": {},
   "cell_type": "markdown",
   "id": "769d1f3f",
   "metadata": {},
   "source": [
    "In two dimensions we can proceed as follows"
   ]
  },
  {
   "cell_type": "code",
   "execution_count": 24,
   "id": "68d1baf6",
   "metadata": {
    "hide-output": false
   },
   "outputs": [
    {
     "data": {
      "text/plain": [
       "1×4 Matrix{Int64}:\n",
       " 10  20  30  40"
      ]
     },
     "execution_count": 24,
     "metadata": {},
     "output_type": "execute_result"
    }
   ],
   "source": [
    "a = [10 20 30 40]  # two dimensional, shape is 1 x n"
   ]
  },
  {
   "cell_type": "code",
   "execution_count": 25,
   "id": "bc56d153",
   "metadata": {
    "hide-output": false
   },
   "outputs": [
    {
     "data": {
      "text/plain": [
       "2"
      ]
     },
     "execution_count": 25,
     "metadata": {},
     "output_type": "execute_result"
    }
   ],
   "source": [
    "ndims(a)"
   ]
  },
  {
   "cell_type": "code",
   "execution_count": 26,
   "id": "417f6906",
   "metadata": {
    "hide-output": false
   },
   "outputs": [
    {
     "data": {
      "text/plain": [
       "2×2 Matrix{Int64}:\n",
       " 10  20\n",
       " 30  40"
      ]
     },
     "execution_count": 26,
     "metadata": {},
     "output_type": "execute_result"
    }
   ],
   "source": [
    "a = [10 20; 30 40]  # 2 x 2"
   ]
  },
  {
   "attachments": {},
   "cell_type": "markdown",
   "id": "4a362c06",
   "metadata": {},
   "source": [
    "You might then assume that `a = [10; 20; 30; 40]` creates a two dimensional column vector but this isn’t the case."
   ]
  },
  {
   "cell_type": "code",
   "execution_count": 27,
   "id": "6d36cb22",
   "metadata": {
    "hide-output": false
   },
   "outputs": [
    {
     "data": {
      "text/plain": [
       "4-element Vector{Int64}:\n",
       " 10\n",
       " 20\n",
       " 30\n",
       " 40"
      ]
     },
     "execution_count": 27,
     "metadata": {},
     "output_type": "execute_result"
    }
   ],
   "source": [
    "a = [10; 20; 30; 40]"
   ]
  },
  {
   "cell_type": "code",
   "execution_count": 29,
   "id": "9935cada",
   "metadata": {
    "hide-output": false
   },
   "outputs": [
    {
     "data": {
      "text/plain": [
       "1"
      ]
     },
     "execution_count": 29,
     "metadata": {},
     "output_type": "execute_result"
    }
   ],
   "source": [
    "ndims(a)"
   ]
  },
  {
   "attachments": {},
   "cell_type": "markdown",
   "id": "9fd21a03",
   "metadata": {},
   "source": [
    "Instead transpose the matrix (or adjoint if complex)"
   ]
  },
  {
   "cell_type": "code",
   "execution_count": 30,
   "id": "842526f1",
   "metadata": {
    "hide-output": false
   },
   "outputs": [
    {
     "data": {
      "text/plain": [
       "4×1 adjoint(::Matrix{Int64}) with eltype Int64:\n",
       " 10\n",
       " 20\n",
       " 30\n",
       " 40"
      ]
     },
     "execution_count": 30,
     "metadata": {},
     "output_type": "execute_result"
    }
   ],
   "source": [
    "a = [10 20 30 40]'"
   ]
  },
  {
   "cell_type": "code",
   "execution_count": 32,
   "id": "8faf7099",
   "metadata": {
    "hide-output": false
   },
   "outputs": [
    {
     "data": {
      "text/plain": [
       "(4, 1)"
      ]
     },
     "execution_count": 32,
     "metadata": {},
     "output_type": "execute_result"
    }
   ],
   "source": [
    "ndims(a)\n",
    "size(a)"
   ]
  },
  {
   "attachments": {},
   "cell_type": "markdown",
   "id": "544948ee",
   "metadata": {},
   "source": [
    "Note, however, that the transformed array is not a matrix but rather a special type (e.g., `adjoint(::Matrix{Int64}) with eltype Int64`).\n",
    "\n",
    "Keeping the special structure of a transposed array can let Julia use more efficient algorithms in some cases.\n",
    "\n",
    "Finally, we can see how to create multidimensional arrays from literals with the `;` separator.\n",
    "\n",
    "First, we can create a vector"
   ]
  },
  {
   "cell_type": "code",
   "execution_count": 33,
   "id": "3e73d5dc",
   "metadata": {
    "hide-output": false
   },
   "outputs": [
    {
     "data": {
      "text/plain": [
       "2-element Vector{Int64}:\n",
       " 1\n",
       " 2"
      ]
     },
     "execution_count": 33,
     "metadata": {},
     "output_type": "execute_result"
    }
   ],
   "source": [
    "[1; 2;]"
   ]
  },
  {
   "attachments": {},
   "cell_type": "markdown",
   "id": "690fb266",
   "metadata": {},
   "source": [
    "Next, by appending an additional `;` we can tell it to use a 2 dimensional array"
   ]
  },
  {
   "cell_type": "code",
   "execution_count": 34,
   "id": "22908366",
   "metadata": {
    "hide-output": false
   },
   "outputs": [
    {
     "data": {
      "text/plain": [
       "2×1 Matrix{Int64}:\n",
       " 1\n",
       " 2"
      ]
     },
     "execution_count": 34,
     "metadata": {},
     "output_type": "execute_result"
    }
   ],
   "source": [
    "[1; 2;;]"
   ]
  },
  {
   "attachments": {},
   "cell_type": "markdown",
   "id": "b148845e",
   "metadata": {},
   "source": [
    "Or 3 dimensions"
   ]
  },
  {
   "cell_type": "code",
   "execution_count": 35,
   "id": "7d06b1b0",
   "metadata": {
    "hide-output": false
   },
   "outputs": [
    {
     "data": {
      "text/plain": [
       "2×1×1 Array{Int64, 3}:\n",
       "[:, :, 1] =\n",
       " 1\n",
       " 2"
      ]
     },
     "execution_count": 35,
     "metadata": {},
     "output_type": "execute_result"
    }
   ],
   "source": [
    "[1; 2;;;]"
   ]
  },
  {
   "attachments": {},
   "cell_type": "markdown",
   "id": "afc08866",
   "metadata": {},
   "source": [
    "Or a 1x1 matrix with a single value"
   ]
  },
  {
   "cell_type": "code",
   "execution_count": 36,
   "id": "ee68e3c1",
   "metadata": {
    "hide-output": false
   },
   "outputs": [
    {
     "data": {
      "text/plain": [
       "1×1 Matrix{Int64}:\n",
       " 1"
      ]
     },
     "execution_count": 36,
     "metadata": {},
     "output_type": "execute_result"
    }
   ],
   "source": [
    "[1;;]"
   ]
  },
  {
   "attachments": {},
   "cell_type": "markdown",
   "id": "477c2c55",
   "metadata": {},
   "source": [
    "Or a 2x2x1 array"
   ]
  },
  {
   "cell_type": "code",
   "execution_count": 37,
   "id": "2a704ce9",
   "metadata": {
    "hide-output": false
   },
   "outputs": [
    {
     "data": {
      "text/plain": [
       "2×2×1 Array{Int64, 3}:\n",
       "[:, :, 1] =\n",
       " 1  2\n",
       " 3  4"
      ]
     },
     "execution_count": 37,
     "metadata": {},
     "output_type": "execute_result"
    }
   ],
   "source": [
    "[1 2; 3 4;;;]"
   ]
  },
  {
   "attachments": {},
   "cell_type": "markdown",
   "id": "331bbcf5",
   "metadata": {},
   "source": [
    "### Array Indexing\n",
    "\n",
    "We’ve already seen the basics of array indexing"
   ]
  },
  {
   "cell_type": "code",
   "execution_count": 38,
   "id": "4490db15",
   "metadata": {
    "hide-output": false
   },
   "outputs": [
    {
     "data": {
      "text/plain": [
       "30"
      ]
     },
     "execution_count": 38,
     "metadata": {},
     "output_type": "execute_result"
    }
   ],
   "source": [
    "a = [10 20 30 40]\n",
    "a[end-1]"
   ]
  },
  {
   "cell_type": "code",
   "execution_count": 39,
   "id": "1deaeeaf",
   "metadata": {
    "hide-output": false
   },
   "outputs": [
    {
     "data": {
      "text/plain": [
       "3-element Vector{Int64}:\n",
       " 10\n",
       " 20\n",
       " 30"
      ]
     },
     "execution_count": 39,
     "metadata": {},
     "output_type": "execute_result"
    }
   ],
   "source": [
    "a[1:3]"
   ]
  },
  {
   "attachments": {},
   "cell_type": "markdown",
   "id": "c18afdd6",
   "metadata": {},
   "source": [
    "For 2D arrays the index syntax is straightforward"
   ]
  },
  {
   "cell_type": "code",
   "execution_count": 40,
   "id": "70fa218a",
   "metadata": {
    "hide-output": false
   },
   "outputs": [
    {
     "data": {
      "text/plain": [
       "0.7309029603775616"
      ]
     },
     "execution_count": 40,
     "metadata": {},
     "output_type": "execute_result"
    }
   ],
   "source": [
    "a = randn(2, 2)\n",
    "a[1, 1]"
   ]
  },
  {
   "cell_type": "code",
   "execution_count": 41,
   "id": "06111f69",
   "metadata": {
    "hide-output": false
   },
   "outputs": [
    {
     "data": {
      "text/plain": [
       "2-element Vector{Float64}:\n",
       "  0.7309029603775616\n",
       " -0.5137732701591537"
      ]
     },
     "execution_count": 41,
     "metadata": {},
     "output_type": "execute_result"
    }
   ],
   "source": [
    "a[1, :]  # first row"
   ]
  },
  {
   "cell_type": "code",
   "execution_count": 42,
   "id": "a99bb2d8",
   "metadata": {
    "hide-output": false
   },
   "outputs": [
    {
     "data": {
      "text/plain": [
       "2-element Vector{Float64}:\n",
       " 0.7309029603775616\n",
       " 0.2545183398983963"
      ]
     },
     "execution_count": 42,
     "metadata": {},
     "output_type": "execute_result"
    }
   ],
   "source": [
    "a[:, 1]  # first column"
   ]
  },
  {
   "attachments": {},
   "cell_type": "markdown",
   "id": "eeee98e3",
   "metadata": {},
   "source": [
    "Booleans can be used to extract elements"
   ]
  },
  {
   "cell_type": "code",
   "execution_count": 43,
   "id": "fd6f563a",
   "metadata": {
    "hide-output": false
   },
   "outputs": [
    {
     "data": {
      "text/plain": [
       "2×2 Matrix{Float64}:\n",
       " 0.720698  0.715658\n",
       " 0.679236  0.62562"
      ]
     },
     "execution_count": 43,
     "metadata": {},
     "output_type": "execute_result"
    }
   ],
   "source": [
    "a = randn(2, 2)"
   ]
  },
  {
   "cell_type": "code",
   "execution_count": 44,
   "id": "3c2faf82",
   "metadata": {
    "hide-output": false
   },
   "outputs": [
    {
     "data": {
      "text/plain": [
       "2×2 Matrix{Bool}:\n",
       " 1  0\n",
       " 0  1"
      ]
     },
     "execution_count": 44,
     "metadata": {},
     "output_type": "execute_result"
    }
   ],
   "source": [
    "b = [true false; false true]"
   ]
  },
  {
   "cell_type": "code",
   "execution_count": 45,
   "id": "0eaf6603",
   "metadata": {
    "hide-output": false
   },
   "outputs": [
    {
     "data": {
      "text/plain": [
       "2-element Vector{Float64}:\n",
       " 0.7206979360217185\n",
       " 0.6256197040564558"
      ]
     },
     "execution_count": 45,
     "metadata": {},
     "output_type": "execute_result"
    }
   ],
   "source": [
    "a[b]"
   ]
  },
  {
   "attachments": {},
   "cell_type": "markdown",
   "id": "e055286b",
   "metadata": {},
   "source": [
    "This is useful for conditional extraction, as we’ll see below.\n",
    "\n",
    "An aside: some or all elements of an array can be set equal to one number using slice notation."
   ]
  },
  {
   "cell_type": "code",
   "execution_count": 46,
   "id": "54615f55",
   "metadata": {
    "hide-output": false
   },
   "outputs": [
    {
     "data": {
      "text/plain": [
       "4-element Vector{Float64}:\n",
       " 0.0\n",
       " 0.0\n",
       " 0.0\n",
       " 0.0"
      ]
     },
     "execution_count": 46,
     "metadata": {},
     "output_type": "execute_result"
    }
   ],
   "source": [
    "a = zeros(4)"
   ]
  },
  {
   "cell_type": "code",
   "execution_count": 47,
   "id": "3c50f4e0",
   "metadata": {
    "hide-output": false
   },
   "outputs": [
    {
     "data": {
      "text/plain": [
       "3-element view(::Vector{Float64}, 2:4) with eltype Float64:\n",
       " 42.0\n",
       " 42.0\n",
       " 42.0"
      ]
     },
     "execution_count": 47,
     "metadata": {},
     "output_type": "execute_result"
    }
   ],
   "source": [
    "a[2:end] .= 42"
   ]
  },
  {
   "cell_type": "code",
   "execution_count": 48,
   "id": "7e24a649",
   "metadata": {
    "hide-output": false
   },
   "outputs": [
    {
     "data": {
      "text/plain": [
       "4-element Vector{Float64}:\n",
       "  0.0\n",
       " 42.0\n",
       " 42.0\n",
       " 42.0"
      ]
     },
     "execution_count": 48,
     "metadata": {},
     "output_type": "execute_result"
    }
   ],
   "source": [
    "a"
   ]
  },
  {
   "attachments": {},
   "cell_type": "markdown",
   "id": "8cd20d7f",
   "metadata": {},
   "source": [
    "### Views and Slices\n",
    "\n",
    "Using the `:` notation provides a slice of an array, copying the sub-array to a new array with a similar type."
   ]
  },
  {
   "cell_type": "code",
   "execution_count": 49,
   "id": "82a554dc",
   "metadata": {
    "hide-output": false
   },
   "outputs": [
    {
     "name": "stdout",
     "output_type": "stream",
     "text": [
      "b = [2, 4]\n",
      "a = [1 4; 3 5]\n",
      "b = [2, 4]\n"
     ]
    }
   ],
   "source": [
    "a = [1 2; 3 4]\n",
    "b = a[:, 2]\n",
    "@show b\n",
    "a[:, 2] = [4, 5] # modify a\n",
    "@show a\n",
    "@show b;"
   ]
  },
  {
   "attachments": {},
   "cell_type": "markdown",
   "id": "b81790fe",
   "metadata": {},
   "source": [
    "A **view** on the other hand does not copy the value"
   ]
  },
  {
   "cell_type": "code",
   "execution_count": 50,
   "id": "be765c31",
   "metadata": {
    "hide-output": false
   },
   "outputs": [
    {
     "name": "stdout",
     "output_type": "stream",
     "text": [
      "b = [2, 4]\n",
      "a = [1 4; 3 5]\n",
      "b = [4, 5]\n"
     ]
    }
   ],
   "source": [
    "a = [1 2; 3 4]\n",
    "@views b = a[:, 2]\n",
    "@show b\n",
    "a[:, 2] = [4, 5]\n",
    "@show a\n",
    "@show b;"
   ]
  },
  {
   "attachments": {},
   "cell_type": "markdown",
   "id": "78a51722",
   "metadata": {},
   "source": [
    "Note that the only difference is the `@views` macro, which will replace any slices with views in the expression.\n",
    "\n",
    "An alternative is to call the `view` function directly – though it is generally discouraged since it is a step away from the math."
   ]
  },
  {
   "cell_type": "code",
   "execution_count": 51,
   "id": "c11ede59",
   "metadata": {
    "hide-output": false
   },
   "outputs": [
    {
     "data": {
      "text/plain": [
       "true"
      ]
     },
     "execution_count": 51,
     "metadata": {},
     "output_type": "execute_result"
    }
   ],
   "source": [
    "@views b = a[:, 2]\n",
    "view(a, :, 2) == b"
   ]
  },
  {
   "attachments": {},
   "cell_type": "markdown",
   "id": "43067d69",
   "metadata": {},
   "source": [
    "As with most programming in Julia, it is best to avoid prematurely assuming that `@views` will have a significant impact on performance, and stress code clarity above all else.\n",
    "\n",
    "Another important lesson about `@views` is that they **are not** normal, dense arrays."
   ]
  },
  {
   "cell_type": "code",
   "execution_count": 52,
   "id": "2d8bdb89",
   "metadata": {
    "hide-output": false
   },
   "outputs": [
    {
     "name": "stdout",
     "output_type": "stream",
     "text": [
      "typeof(b_slice) = Vector{Int64}\n",
      "typeof(a) = Matrix{Int64}\n",
      "typeof(b) = SubArray{Int64, 1, Matrix{Int64}, Tuple{Base.Slice{Base.OneTo{Int64}}, Int64}, true}\n"
     ]
    }
   ],
   "source": [
    "a = [1 2; 3 4]\n",
    "b_slice = a[:, 2]\n",
    "@show typeof(b_slice)\n",
    "@show typeof(a)\n",
    "@views b = a[:, 2]\n",
    "@show typeof(b);"
   ]
  },
  {
   "attachments": {},
   "cell_type": "markdown",
   "id": "34cb7940",
   "metadata": {},
   "source": [
    "The type of `b` is a good example of how types are not as they may seem.\n",
    "\n",
    "Similarly"
   ]
  },
  {
   "cell_type": "code",
   "execution_count": 53,
   "id": "510d249c",
   "metadata": {
    "hide-output": false
   },
   "outputs": [
    {
     "data": {
      "text/plain": [
       "Adjoint{Int64, Matrix{Int64}}"
      ]
     },
     "execution_count": 53,
     "metadata": {},
     "output_type": "execute_result"
    }
   ],
   "source": [
    "a = [1 2; 3 4]\n",
    "b = a'   # transpose\n",
    "typeof(b)"
   ]
  },
  {
   "attachments": {},
   "cell_type": "markdown",
   "id": "528dab19",
   "metadata": {},
   "source": [
    "To copy into a dense array"
   ]
  },
  {
   "cell_type": "code",
   "execution_count": 54,
   "id": "7fac53d0",
   "metadata": {
    "hide-output": false
   },
   "outputs": [
    {
     "data": {
      "text/plain": [
       "true"
      ]
     },
     "execution_count": 54,
     "metadata": {},
     "output_type": "execute_result"
    }
   ],
   "source": [
    "a = [1 2; 3 4]\n",
    "b = a' # transpose\n",
    "c = Matrix(b)  # convert to matrix\n",
    "d = collect(b) # also `collect` works on any iterable\n",
    "c == d"
   ]
  },
  {
   "attachments": {},
   "cell_type": "markdown",
   "id": "31e63ad5",
   "metadata": {},
   "source": [
    "### Special Matrices\n",
    "\n",
    "As we saw with `transpose`, sometimes types that look like matrices are not stored as a dense array.\n",
    "\n",
    "As an example, consider creating a diagonal matrix"
   ]
  },
  {
   "cell_type": "code",
   "execution_count": 55,
   "id": "ef7db30c",
   "metadata": {
    "hide-output": false
   },
   "outputs": [
    {
     "data": {
      "text/plain": [
       "2×2 Diagonal{Float64, Vector{Float64}}:\n",
       " 1.0   ⋅ \n",
       "  ⋅   2.0"
      ]
     },
     "execution_count": 55,
     "metadata": {},
     "output_type": "execute_result"
    }
   ],
   "source": [
    "d = [1.0, 2.0]\n",
    "a = Diagonal(d)"
   ]
  },
  {
   "attachments": {},
   "cell_type": "markdown",
   "id": "5e06fb91",
   "metadata": {},
   "source": [
    "As you can see, the type is `2×2 Diagonal{Float64,Array{Float64,1}}`, which is not a 2-dimensional array.\n",
    "\n",
    "The reasons for this are both efficiency in storage, as well as efficiency in arithmetic and matrix operations.\n",
    "\n",
    "In every important sense, matrix types such as `Diagonal` are just as much a “matrix” as the dense matrices we have using (see the [introduction to types lecture](https://julia.quantecon.org/introduction_to_types.html) for more)"
   ]
  },
  {
   "cell_type": "code",
   "execution_count": 56,
   "id": "39559fbe",
   "metadata": {
    "hide-output": false
   },
   "outputs": [
    {
     "name": "stdout",
     "output_type": "stream",
     "text": [
      "2a = [2.0 0.0; 0.0 4.0]\n",
      "b * a = [0.2153954640260065 0.7636186602114308; 0.3596707083083095 0.484297848837262]\n"
     ]
    }
   ],
   "source": [
    "@show 2a\n",
    "b = rand(2,2)\n",
    "@show b * a;"
   ]
  },
  {
   "attachments": {},
   "cell_type": "markdown",
   "id": "51094091",
   "metadata": {},
   "source": [
    "Another example is in the construction of an identity matrix, where a naive implementation is"
   ]
  },
  {
   "cell_type": "code",
   "execution_count": 57,
   "id": "b9f8b010",
   "metadata": {
    "hide-output": false
   },
   "outputs": [
    {
     "data": {
      "text/plain": [
       "2×2 Matrix{Float64}:\n",
       " 0.0  2.0\n",
       " 3.0  3.0"
      ]
     },
     "execution_count": 57,
     "metadata": {},
     "output_type": "execute_result"
    }
   ],
   "source": [
    "b = [1.0 2.0; 3.0 4.0]\n",
    "b - Diagonal([1.0, 1.0])  # poor style, inefficient code"
   ]
  },
  {
   "attachments": {},
   "cell_type": "markdown",
   "id": "14ff2c9f",
   "metadata": {},
   "source": [
    "Whereas you should instead use"
   ]
  },
  {
   "cell_type": "code",
   "execution_count": 58,
   "id": "35625865",
   "metadata": {
    "hide-output": false
   },
   "outputs": [
    {
     "data": {
      "text/plain": [
       "2×2 Matrix{Float64}:\n",
       " 0.0  2.0\n",
       " 3.0  3.0"
      ]
     },
     "execution_count": 58,
     "metadata": {},
     "output_type": "execute_result"
    }
   ],
   "source": [
    "b = [1.0 2.0; 3.0 4.0]\n",
    "b - I  # good style, and note the lack of dimensions of I"
   ]
  },
  {
   "attachments": {},
   "cell_type": "markdown",
   "id": "a663808e",
   "metadata": {},
   "source": [
    "While the implementation of `I` is a little abstract to go into at this point, a hint is:"
   ]
  },
  {
   "cell_type": "code",
   "execution_count": 59,
   "id": "5b285bec",
   "metadata": {
    "hide-output": false
   },
   "outputs": [
    {
     "data": {
      "text/plain": [
       "UniformScaling{Bool}"
      ]
     },
     "execution_count": 59,
     "metadata": {},
     "output_type": "execute_result"
    }
   ],
   "source": [
    "typeof(I)"
   ]
  },
  {
   "attachments": {},
   "cell_type": "markdown",
   "id": "c574d892",
   "metadata": {},
   "source": [
    "This is a `UniformScaling` type rather than an identity matrix, making it much more powerful and general."
   ]
  },
  {
   "attachments": {},
   "cell_type": "markdown",
   "id": "8ac9d726",
   "metadata": {},
   "source": [
    "### Assignment and Passing Arrays\n",
    "\n",
    "As discussed above, in Julia, the left hand side of an assignment is a “binding” or a label to a value."
   ]
  },
  {
   "cell_type": "code",
   "execution_count": 60,
   "id": "fb81380d",
   "metadata": {
    "hide-output": false
   },
   "outputs": [
    {
     "data": {
      "text/plain": [
       "1×3 Matrix{Int64}:\n",
       " 1  2  3"
      ]
     },
     "execution_count": 60,
     "metadata": {},
     "output_type": "execute_result"
    }
   ],
   "source": [
    "x = [1 2 3]\n",
    "y = x  # name `y` binds to whatever value `x` bound to"
   ]
  },
  {
   "attachments": {},
   "cell_type": "markdown",
   "id": "03afd11f",
   "metadata": {},
   "source": [
    "The consequence of this, is that you can re-bind that name."
   ]
  },
  {
   "cell_type": "code",
   "execution_count": 61,
   "id": "d458316e",
   "metadata": {
    "hide-output": false
   },
   "outputs": [
    {
     "name": "stdout",
     "output_type": "stream",
     "text": [
      "(x, y, z) = ([1 2 3], [2 3 4], [2 3 4])\n"
     ]
    }
   ],
   "source": [
    "x = [1 2 3]\n",
    "y = x        # name `y` binds to whatever `x` bound to\n",
    "z = [2 3 4]\n",
    "y = z        # only changes name binding, not value!\n",
    "@show (x, y, z);"
   ]
  },
  {
   "attachments": {},
   "cell_type": "markdown",
   "id": "47235a5a",
   "metadata": {},
   "source": [
    "What this means is that if `a` is an array and we set `b = a` then `a` and `b` point to exactly the same data.\n",
    "\n",
    "In the above, suppose you had meant to change the value of `x` to the values of `y`, you need to assign the values rather than the name."
   ]
  },
  {
   "cell_type": "code",
   "execution_count": 62,
   "id": "32a604ea",
   "metadata": {
    "hide-output": false
   },
   "outputs": [
    {
     "name": "stdout",
     "output_type": "stream",
     "text": [
      "(x, y, z) = ([2 3 4], [2 3 4], [2 3 4])\n"
     ]
    }
   ],
   "source": [
    "x = [1 2 3]\n",
    "y = x       # name `y` binds to whatever `x` bound to\n",
    "z = [2 3 4]\n",
    "y .= z      # now dispatches the assignment of each element\n",
    "@show (x, y, z);"
   ]
  },
  {
   "attachments": {},
   "cell_type": "markdown",
   "id": "d19792f5",
   "metadata": {},
   "source": [
    "Alternatively, you could have used `y[:] = z`.\n",
    "\n",
    "This applies to in-place functions as well.\n",
    "\n",
    "First, define a simple function for a linear map"
   ]
  },
  {
   "cell_type": "code",
   "execution_count": 63,
   "id": "5713e544",
   "metadata": {
    "hide-output": false
   },
   "outputs": [
    {
     "data": {
      "text/plain": [
       "2-element Vector{Int64}:\n",
       "  5\n",
       " 11"
      ]
     },
     "execution_count": 63,
     "metadata": {},
     "output_type": "execute_result"
    }
   ],
   "source": [
    "function f(x)\n",
    "    return [1 2; 3 4] * x  # matrix * column vector\n",
    "end\n",
    "\n",
    "val = [1, 2]\n",
    "f(val)"
   ]
  },
  {
   "attachments": {},
   "cell_type": "markdown",
   "id": "8b56fbe6",
   "metadata": {},
   "source": [
    "In general, these “out-of-place” functions are preferred to “in-place” functions, which modify the arguments."
   ]
  },
  {
   "cell_type": "code",
   "execution_count": 64,
   "id": "b020a9a9",
   "metadata": {
    "hide-output": false
   },
   "outputs": [
    {
     "data": {
      "text/plain": [
       "2-element Vector{Int64}:\n",
       "  5\n",
       " 11"
      ]
     },
     "execution_count": 64,
     "metadata": {},
     "output_type": "execute_result"
    }
   ],
   "source": [
    "function f(x)\n",
    "    return [1 2; 3 4] * x # matrix * column vector\n",
    "end\n",
    "\n",
    "val = [1, 2]\n",
    "y = similar(val)\n",
    "\n",
    "function f!(out, x)\n",
    "    out .= [1 2; 3 4] * x\n",
    "end\n",
    "\n",
    "f!(y, val)\n",
    "y"
   ]
  },
  {
   "attachments": {},
   "cell_type": "markdown",
   "id": "3e6b69a5",
   "metadata": {},
   "source": [
    "This demonstrates a key convention in Julia: functions which modify any of the arguments have the name ending with `!` (e.g. `push!`).\n",
    "\n",
    "We can also see a common mistake, where instead of modifying the arguments, the name binding is swapped"
   ]
  },
  {
   "cell_type": "code",
   "execution_count": 65,
   "id": "b4124b07",
   "metadata": {
    "hide-output": false
   },
   "outputs": [
    {
     "data": {
      "text/plain": [
       "2-element Vector{Int64}:\n",
       " 140654078125408\n",
       " 140653017000496"
      ]
     },
     "execution_count": 65,
     "metadata": {},
     "output_type": "execute_result"
    }
   ],
   "source": [
    "function f(x)\n",
    "    return [1 2; 3 4] * x  # matrix * column vector\n",
    "end\n",
    "\n",
    "val = [1, 2]\n",
    "y = similar(val)\n",
    "\n",
    "function f!(out, x)\n",
    "    out = [1 2; 3 4] * x   # MISTAKE! Should be .=\n",
    "end\n",
    "f!(y, val)\n",
    "y"
   ]
  },
  {
   "attachments": {},
   "cell_type": "markdown",
   "id": "01779d4a",
   "metadata": {},
   "source": [
    "The frequency of making this mistake is one of the reasons to avoid in-place functions, unless proven to be necessary by benchmarking."
   ]
  },
  {
   "attachments": {},
   "cell_type": "markdown",
   "id": "f59f0dba",
   "metadata": {},
   "source": [
    "### In-place and Immutable Types\n",
    "\n",
    "Note that scalars are always immutable, such that"
   ]
  },
  {
   "cell_type": "code",
   "execution_count": 66,
   "id": "0a6fe68b",
   "metadata": {
    "hide-output": false
   },
   "outputs": [
    {
     "data": {
      "text/plain": [
       "3"
      ]
     },
     "execution_count": 66,
     "metadata": {},
     "output_type": "execute_result"
    }
   ],
   "source": [
    "y = [1 2]\n",
    "y .-= 2    # y .= y .- 2, no problem\n",
    "\n",
    "x = 5\n",
    "# x .-= 2  # Fails!\n",
    "x = x - 2  # subtle difference - creates a new value and rebinds the variable"
   ]
  },
  {
   "attachments": {},
   "cell_type": "markdown",
   "id": "a4b9ba97",
   "metadata": {},
   "source": [
    "In particular, there is no way to pass any immutable into a function and have it modified"
   ]
  },
  {
   "cell_type": "code",
   "execution_count": 67,
   "id": "3a126c0e",
   "metadata": {
    "hide-output": false
   },
   "outputs": [
    {
     "name": "stdout",
     "output_type": "stream",
     "text": [
      "x = 2\n"
     ]
    }
   ],
   "source": [
    "x = 2\n",
    "\n",
    "function f(x)\n",
    "    x = 3     # MISTAKE! does not modify x, creates a new value!\n",
    "end\n",
    "\n",
    "f(x)          # cannot modify immutables in place\n",
    "@show x;"
   ]
  },
  {
   "attachments": {},
   "cell_type": "markdown",
   "id": "3f7105d3",
   "metadata": {},
   "source": [
    "This is also true for other immutable types such as tuples, as well as some vector types"
   ]
  },
  {
   "cell_type": "code",
   "execution_count": 68,
   "id": "2884abd7",
   "metadata": {
    "hide-output": false
   },
   "outputs": [
    {
     "name": "stdout",
     "output_type": "stream",
     "text": [
      "f(xdynamic) = [2, 4]\n",
      "f(xstatic) = [2, 4]\n",
      "xdynamic = [1, 2]\n",
      "g(xdynamic) = \"Success!\"\n",
      "xdynamic = [2, 4]\n"
     ]
    }
   ],
   "source": [
    "using StaticArrays\n",
    "xdynamic = [1, 2]\n",
    "xstatic = @SVector [1, 2]  # turns it into a highly optimized static vector\n",
    "\n",
    "f(x) = 2x\n",
    "@show f(xdynamic)\n",
    "@show f(xstatic)\n",
    "\n",
    "# inplace version\n",
    "function g(x)\n",
    "    x .= 2x\n",
    "    return \"Success!\"\n",
    "end\n",
    "@show xdynamic\n",
    "@show g(xdynamic)\n",
    "@show xdynamic;\n",
    "\n",
    "# g(xstatic) # fails, static vectors are immutable"
   ]
  },
  {
   "attachments": {},
   "cell_type": "markdown",
   "id": "93733f23",
   "metadata": {},
   "source": [
    "## Operations on Arrays"
   ]
  },
  {
   "attachments": {},
   "cell_type": "markdown",
   "id": "d2ca8c3e",
   "metadata": {},
   "source": [
    "### Array Methods\n",
    "\n",
    "Julia provides standard functions for acting on arrays, some of which we’ve\n",
    "already seen"
   ]
  },
  {
   "cell_type": "code",
   "execution_count": 69,
   "id": "eb637610",
   "metadata": {
    "hide-output": false
   },
   "outputs": [
    {
     "name": "stdout",
     "output_type": "stream",
     "text": [
      "length(a) = 3\n",
      "sum(a) = 0\n",
      "mean(a) = 0.0\n",
      "std(a) = 1.0\n",
      "var(a) = 1.0\n",
      "maximum(a) = 1\n",
      "minimum(a) = -1\n",
      "extrema(a) = (-1, 1)\n"
     ]
    },
    {
     "data": {
      "text/plain": [
       "(-1, 1)"
      ]
     },
     "execution_count": 69,
     "metadata": {},
     "output_type": "execute_result"
    }
   ],
   "source": [
    "a = [-1, 0, 1]\n",
    "\n",
    "@show length(a)\n",
    "@show sum(a)\n",
    "@show mean(a)\n",
    "@show std(a)      # standard deviation\n",
    "@show var(a)      # variance\n",
    "@show maximum(a)\n",
    "@show minimum(a)\n",
    "@show extrema(a)  # (mimimum(a), maximum(a))"
   ]
  },
  {
   "attachments": {},
   "cell_type": "markdown",
   "id": "4637acb2",
   "metadata": {},
   "source": [
    "To sort an array"
   ]
  },
  {
   "cell_type": "code",
   "execution_count": 70,
   "id": "3616dbbb",
   "metadata": {
    "hide-output": false
   },
   "outputs": [
    {
     "data": {
      "text/plain": [
       "3-element Vector{Int64}:\n",
       "  1\n",
       "  0\n",
       " -1"
      ]
     },
     "execution_count": 70,
     "metadata": {},
     "output_type": "execute_result"
    }
   ],
   "source": [
    "b = sort(a, rev = true)  # returns new array, original not modified"
   ]
  },
  {
   "cell_type": "code",
   "execution_count": 71,
   "id": "6e75def1",
   "metadata": {
    "hide-output": false
   },
   "outputs": [
    {
     "data": {
      "text/plain": [
       "3-element Vector{Int64}:\n",
       "  1\n",
       "  0\n",
       " -1"
      ]
     },
     "execution_count": 71,
     "metadata": {},
     "output_type": "execute_result"
    }
   ],
   "source": [
    "b = sort!(a, rev = true)  # returns *modified original* array"
   ]
  },
  {
   "cell_type": "code",
   "execution_count": 72,
   "id": "6a93a975",
   "metadata": {
    "hide-output": false
   },
   "outputs": [
    {
     "data": {
      "text/plain": [
       "true"
      ]
     },
     "execution_count": 72,
     "metadata": {},
     "output_type": "execute_result"
    }
   ],
   "source": [
    "b == a  # tests if have the same values"
   ]
  },
  {
   "cell_type": "code",
   "execution_count": 73,
   "id": "d7c59fe6",
   "metadata": {
    "hide-output": false
   },
   "outputs": [
    {
     "data": {
      "text/plain": [
       "true"
      ]
     },
     "execution_count": 73,
     "metadata": {},
     "output_type": "execute_result"
    }
   ],
   "source": [
    "b === a  # tests if arrays are identical (i.e share same memory)"
   ]
  },
  {
   "attachments": {},
   "cell_type": "markdown",
   "id": "cb505b3f",
   "metadata": {},
   "source": [
    "### Matrix Algebra\n",
    "\n",
    "For two dimensional arrays, `*` means matrix multiplication"
   ]
  },
  {
   "cell_type": "code",
   "execution_count": 74,
   "id": "34fefb3a",
   "metadata": {
    "hide-output": false
   },
   "outputs": [
    {
     "data": {
      "text/plain": [
       "1×2 Matrix{Float64}:\n",
       " 1.0  1.0"
      ]
     },
     "execution_count": 74,
     "metadata": {},
     "output_type": "execute_result"
    }
   ],
   "source": [
    "a = ones(1, 2)"
   ]
  },
  {
   "cell_type": "code",
   "execution_count": 75,
   "id": "2456b305",
   "metadata": {
    "hide-output": false
   },
   "outputs": [
    {
     "data": {
      "text/plain": [
       "2×2 Matrix{Float64}:\n",
       " 1.0  1.0\n",
       " 1.0  1.0"
      ]
     },
     "execution_count": 75,
     "metadata": {},
     "output_type": "execute_result"
    }
   ],
   "source": [
    "b = ones(2, 2)"
   ]
  },
  {
   "cell_type": "code",
   "execution_count": 76,
   "id": "db1fbba3",
   "metadata": {
    "hide-output": false
   },
   "outputs": [
    {
     "data": {
      "text/plain": [
       "1×2 Matrix{Float64}:\n",
       " 2.0  2.0"
      ]
     },
     "execution_count": 76,
     "metadata": {},
     "output_type": "execute_result"
    }
   ],
   "source": [
    "a * b"
   ]
  },
  {
   "cell_type": "code",
   "execution_count": 77,
   "id": "9a998126",
   "metadata": {
    "hide-output": false
   },
   "outputs": [
    {
     "data": {
      "text/plain": [
       "2×1 Matrix{Float64}:\n",
       " 2.0\n",
       " 2.0"
      ]
     },
     "execution_count": 77,
     "metadata": {},
     "output_type": "execute_result"
    }
   ],
   "source": [
    "b * a'"
   ]
  },
  {
   "attachments": {},
   "cell_type": "markdown",
   "id": "d1573a8f",
   "metadata": {},
   "source": [
    "To solve the linear system $ A X = B $ for $ X $ use `A \\ B`"
   ]
  },
  {
   "cell_type": "code",
   "execution_count": 78,
   "id": "e0b5b19c",
   "metadata": {
    "hide-output": false
   },
   "outputs": [
    {
     "data": {
      "text/plain": [
       "2×2 Matrix{Int64}:\n",
       " 1  2\n",
       " 2  3"
      ]
     },
     "execution_count": 78,
     "metadata": {},
     "output_type": "execute_result"
    }
   ],
   "source": [
    "A = [1 2; 2 3]"
   ]
  },
  {
   "cell_type": "code",
   "execution_count": 79,
   "id": "913aa97d",
   "metadata": {
    "hide-output": false
   },
   "outputs": [
    {
     "data": {
      "text/plain": [
       "2×2 Matrix{Float64}:\n",
       " 1.0  1.0\n",
       " 1.0  1.0"
      ]
     },
     "execution_count": 79,
     "metadata": {},
     "output_type": "execute_result"
    }
   ],
   "source": [
    "B = ones(2, 2)"
   ]
  },
  {
   "cell_type": "code",
   "execution_count": 80,
   "id": "6df8bc8a",
   "metadata": {
    "hide-output": false
   },
   "outputs": [
    {
     "data": {
      "text/plain": [
       "2×2 Matrix{Float64}:\n",
       " -1.0  -1.0\n",
       "  1.0   1.0"
      ]
     },
     "execution_count": 80,
     "metadata": {},
     "output_type": "execute_result"
    }
   ],
   "source": [
    "A \\ B"
   ]
  },
  {
   "cell_type": "code",
   "execution_count": 81,
   "id": "3325b16a",
   "metadata": {
    "hide-output": false
   },
   "outputs": [
    {
     "data": {
      "text/plain": [
       "2×2 Matrix{Float64}:\n",
       " -1.0  -1.0\n",
       "  1.0   1.0"
      ]
     },
     "execution_count": 81,
     "metadata": {},
     "output_type": "execute_result"
    }
   ],
   "source": [
    "inv(A) * B"
   ]
  },
  {
   "attachments": {},
   "cell_type": "markdown",
   "id": "dfcf4efc",
   "metadata": {},
   "source": [
    "Although the last two operations give the same result, the first one is numerically more stable and should be preferred in most cases.\n",
    "\n",
    "Multiplying two **one** dimensional vectors gives an error – which is reasonable since the meaning is ambiguous.\n",
    "\n",
    "More precisely, the error is that there isn’t an implementation of `*` for two one dimensional vectors.\n",
    "\n",
    "The output explains this, and lists some other methods of `*` which Julia thinks are close to what we want."
   ]
  },
  {
   "cell_type": "code",
   "execution_count": 82,
   "id": "35dca9c1",
   "metadata": {
    "hide-output": false
   },
   "outputs": [
    {
     "ename": "LoadError",
     "evalue": "MethodError: no method matching *(::Vector{Float64}, ::Vector{Float64})\n\n\u001b[0mClosest candidates are:\n\u001b[0m  *(::Any, ::Any, \u001b[91m::Any\u001b[39m, \u001b[91m::Any...\u001b[39m)\n\u001b[0m\u001b[90m   @\u001b[39m \u001b[90mBase\u001b[39m \u001b[90m\u001b[4moperators.jl:578\u001b[24m\u001b[39m\n\u001b[0m  *(\u001b[91m::StridedMatrix{T}\u001b[39m, ::StridedVector{S}) where {T<:Union{Float32, Float64, ComplexF64, ComplexF32}, S<:Real}\n\u001b[0m\u001b[90m   @\u001b[39m \u001b[35mLinearAlgebra\u001b[39m \u001b[90m/usr/local/bin/julia-1.9.0/share/julia/stdlib/v1.9/LinearAlgebra/src/\u001b[39m\u001b[90m\u001b[4mmatmul.jl:49\u001b[24m\u001b[39m\n\u001b[0m  *(::StridedVecOrMat, \u001b[91m::Adjoint{<:Any, <:LinearAlgebra.LQPackedQ}\u001b[39m)\n\u001b[0m\u001b[90m   @\u001b[39m \u001b[35mLinearAlgebra\u001b[39m \u001b[90m/usr/local/bin/julia-1.9.0/share/julia/stdlib/v1.9/LinearAlgebra/src/\u001b[39m\u001b[90m\u001b[4mlq.jl:269\u001b[24m\u001b[39m\n\u001b[0m  ...\n",
     "output_type": "error",
     "traceback": [
      "MethodError: no method matching *(::Vector{Float64}, ::Vector{Float64})\n\n\u001b[0mClosest candidates are:\n\u001b[0m  *(::Any, ::Any, \u001b[91m::Any\u001b[39m, \u001b[91m::Any...\u001b[39m)\n\u001b[0m\u001b[90m   @\u001b[39m \u001b[90mBase\u001b[39m \u001b[90m\u001b[4moperators.jl:578\u001b[24m\u001b[39m\n\u001b[0m  *(\u001b[91m::StridedMatrix{T}\u001b[39m, ::StridedVector{S}) where {T<:Union{Float32, Float64, ComplexF64, ComplexF32}, S<:Real}\n\u001b[0m\u001b[90m   @\u001b[39m \u001b[35mLinearAlgebra\u001b[39m \u001b[90m/usr/local/bin/julia-1.9.0/share/julia/stdlib/v1.9/LinearAlgebra/src/\u001b[39m\u001b[90m\u001b[4mmatmul.jl:49\u001b[24m\u001b[39m\n\u001b[0m  *(::StridedVecOrMat, \u001b[91m::Adjoint{<:Any, <:LinearAlgebra.LQPackedQ}\u001b[39m)\n\u001b[0m\u001b[90m   @\u001b[39m \u001b[35mLinearAlgebra\u001b[39m \u001b[90m/usr/local/bin/julia-1.9.0/share/julia/stdlib/v1.9/LinearAlgebra/src/\u001b[39m\u001b[90m\u001b[4mlq.jl:269\u001b[24m\u001b[39m\n\u001b[0m  ...\n",
      "",
      "Stacktrace:",
      " [1] top-level scope",
      "   @ In[82]:1"
     ]
    }
   ],
   "source": [
    "ones(2) * ones(2)  # does not conform, expect error"
   ]
  },
  {
   "attachments": {},
   "cell_type": "markdown",
   "id": "4aaa4a3b",
   "metadata": {},
   "source": [
    "Instead, you could take the transpose to form a row vector"
   ]
  },
  {
   "cell_type": "code",
   "execution_count": 83,
   "id": "7d92e844",
   "metadata": {
    "hide-output": false
   },
   "outputs": [
    {
     "data": {
      "text/plain": [
       "2.0"
      ]
     },
     "execution_count": 83,
     "metadata": {},
     "output_type": "execute_result"
    }
   ],
   "source": [
    "ones(2)' * ones(2)"
   ]
  },
  {
   "attachments": {},
   "cell_type": "markdown",
   "id": "8cb7bf3c",
   "metadata": {},
   "source": [
    "Alternatively, for inner product in this setting use `dot()` or the unicode `\\cdot<TAB>`"
   ]
  },
  {
   "cell_type": "code",
   "execution_count": 84,
   "id": "a010977a",
   "metadata": {
    "hide-output": false
   },
   "outputs": [
    {
     "name": "stdout",
     "output_type": "stream",
     "text": [
      "dot(ones(2), ones(2)) = 2.0\n",
      "ones(2) ⋅ ones(2) = 2.0\n"
     ]
    }
   ],
   "source": [
    "@show dot(ones(2), ones(2))\n",
    "@show ones(2) ⋅ ones(2);"
   ]
  },
  {
   "attachments": {},
   "cell_type": "markdown",
   "id": "d5e91ff3",
   "metadata": {},
   "source": [
    "Matrix multiplication using one dimensional vectors similarly follows from treating them as\n",
    "column vectors.  Post-multiplication requires a transpose"
   ]
  },
  {
   "cell_type": "code",
   "execution_count": 85,
   "id": "fa30aa6a",
   "metadata": {
    "hide-output": false
   },
   "outputs": [
    {
     "data": {
      "text/plain": [
       "2-element Vector{Float64}:\n",
       " 2.0\n",
       " 2.0"
      ]
     },
     "execution_count": 85,
     "metadata": {},
     "output_type": "execute_result"
    }
   ],
   "source": [
    "b = ones(2, 2)\n",
    "b * ones(2)"
   ]
  },
  {
   "cell_type": "code",
   "execution_count": 86,
   "id": "8c700249",
   "metadata": {
    "hide-output": false
   },
   "outputs": [
    {
     "data": {
      "text/plain": [
       "1×2 adjoint(::Vector{Float64}) with eltype Float64:\n",
       " 2.0  2.0"
      ]
     },
     "execution_count": 86,
     "metadata": {},
     "output_type": "execute_result"
    }
   ],
   "source": [
    "ones(2)' * b"
   ]
  },
  {
   "attachments": {},
   "cell_type": "markdown",
   "id": "ce1e3d8e",
   "metadata": {},
   "source": [
    "Note that the type of the returned value in this case is not `Array{Float64,1}` but rather\n",
    "`Adjoint{Float64,Array{Float64,1}}`.\n",
    "\n",
    "This is since the left multiplication by a row vector should also be a row-vector.  It also hints\n",
    "that the types in Julia more complicated than first appears in the surface notation, as we will explore\n",
    "further in the [introduction to types lecture](https://julia.quantecon.org/introduction_to_types.html)."
   ]
  },
  {
   "attachments": {},
   "cell_type": "markdown",
   "id": "086496d4",
   "metadata": {},
   "source": [
    "### Elementwise Operations"
   ]
  },
  {
   "attachments": {},
   "cell_type": "markdown",
   "id": "e90d639d",
   "metadata": {},
   "source": [
    "#### Algebraic Operations\n",
    "\n",
    "Suppose that we wish to multiply every element of matrix `A` with the corresponding element of matrix `B`.\n",
    "\n",
    "In that case we need to replace `*` (matrix multiplication) with `.*` (elementwise multiplication).\n",
    "\n",
    "For example, compare"
   ]
  },
  {
   "cell_type": "code",
   "execution_count": 87,
   "id": "6c91fab2",
   "metadata": {
    "hide-output": false
   },
   "outputs": [
    {
     "data": {
      "text/plain": [
       "2×2 Matrix{Float64}:\n",
       " 2.0  2.0\n",
       " 2.0  2.0"
      ]
     },
     "execution_count": 87,
     "metadata": {},
     "output_type": "execute_result"
    }
   ],
   "source": [
    "ones(2, 2) * ones(2, 2)   # matrix multiplication"
   ]
  },
  {
   "cell_type": "code",
   "execution_count": 88,
   "id": "c7d6f41a",
   "metadata": {
    "hide-output": false
   },
   "outputs": [
    {
     "data": {
      "text/plain": [
       "2×2 Matrix{Float64}:\n",
       " 1.0  1.0\n",
       " 1.0  1.0"
      ]
     },
     "execution_count": 88,
     "metadata": {},
     "output_type": "execute_result"
    }
   ],
   "source": [
    "ones(2, 2) .* ones(2, 2)   # element by element multiplication"
   ]
  },
  {
   "attachments": {},
   "cell_type": "markdown",
   "id": "71944680",
   "metadata": {},
   "source": [
    "This is a general principle: `.x` means apply operator `x` elementwise"
   ]
  },
  {
   "cell_type": "code",
   "execution_count": 89,
   "id": "a5281ab3",
   "metadata": {
    "hide-output": false
   },
   "outputs": [
    {
     "data": {
      "text/plain": [
       "2×2 Matrix{Float64}:\n",
       " -1.0  -1.0\n",
       " -1.0  -1.0"
      ]
     },
     "execution_count": 89,
     "metadata": {},
     "output_type": "execute_result"
    }
   ],
   "source": [
    "A = -ones(2, 2)"
   ]
  },
  {
   "cell_type": "code",
   "execution_count": 90,
   "id": "2c6d7aab",
   "metadata": {
    "hide-output": false
   },
   "outputs": [
    {
     "data": {
      "text/plain": [
       "2×2 Matrix{Float64}:\n",
       " 1.0  1.0\n",
       " 1.0  1.0"
      ]
     },
     "execution_count": 90,
     "metadata": {},
     "output_type": "execute_result"
    }
   ],
   "source": [
    "A.^2  # square every element"
   ]
  },
  {
   "attachments": {},
   "cell_type": "markdown",
   "id": "29855b13",
   "metadata": {},
   "source": [
    "However in practice some operations are mathematically valid without broadcasting, and hence the `.` can be omitted."
   ]
  },
  {
   "cell_type": "code",
   "execution_count": 91,
   "id": "ae751f13",
   "metadata": {
    "hide-output": false
   },
   "outputs": [
    {
     "data": {
      "text/plain": [
       "2×2 Matrix{Float64}:\n",
       " 2.0  2.0\n",
       " 2.0  2.0"
      ]
     },
     "execution_count": 91,
     "metadata": {},
     "output_type": "execute_result"
    }
   ],
   "source": [
    "ones(2, 2) + ones(2, 2)  # same as ones(2, 2) .+ ones(2, 2)"
   ]
  },
  {
   "attachments": {},
   "cell_type": "markdown",
   "id": "44c91b25",
   "metadata": {},
   "source": [
    "Scalar multiplication is similar"
   ]
  },
  {
   "cell_type": "code",
   "execution_count": 92,
   "id": "571bad3b",
   "metadata": {
    "hide-output": false
   },
   "outputs": [
    {
     "data": {
      "text/plain": [
       "2×2 Matrix{Float64}:\n",
       " 1.0  1.0\n",
       " 1.0  1.0"
      ]
     },
     "execution_count": 92,
     "metadata": {},
     "output_type": "execute_result"
    }
   ],
   "source": [
    "A = ones(2, 2)"
   ]
  },
  {
   "cell_type": "code",
   "execution_count": 93,
   "id": "030ace90",
   "metadata": {
    "hide-output": false
   },
   "outputs": [
    {
     "data": {
      "text/plain": [
       "2×2 Matrix{Float64}:\n",
       " 2.0  2.0\n",
       " 2.0  2.0"
      ]
     },
     "execution_count": 93,
     "metadata": {},
     "output_type": "execute_result"
    }
   ],
   "source": [
    "2 * A  # same as 2 .* A"
   ]
  },
  {
   "attachments": {},
   "cell_type": "markdown",
   "id": "7418172a",
   "metadata": {},
   "source": [
    "In fact you can omit the `*` altogether and just write `2A`.\n",
    "\n",
    "Unlike MATLAB and other languages, scalar addition requires the `.+` in order to correctly broadcast"
   ]
  },
  {
   "cell_type": "code",
   "execution_count": 94,
   "id": "9ab278a6",
   "metadata": {
    "hide-output": false
   },
   "outputs": [
    {
     "data": {
      "text/plain": [
       "2-element Vector{Int64}:\n",
       " 0\n",
       " 1"
      ]
     },
     "execution_count": 94,
     "metadata": {},
     "output_type": "execute_result"
    }
   ],
   "source": [
    "x = [1, 2]\n",
    "x .+ 1     # not x + 1\n",
    "x .- 1     # not x - 1"
   ]
  },
  {
   "attachments": {},
   "cell_type": "markdown",
   "id": "e3db38a5",
   "metadata": {},
   "source": [
    "#### Elementwise Comparisons\n",
    "\n",
    "Elementwise comparisons also use the `.x` style notation"
   ]
  },
  {
   "cell_type": "code",
   "execution_count": 95,
   "id": "050212ff",
   "metadata": {
    "hide-output": false
   },
   "outputs": [
    {
     "data": {
      "text/plain": [
       "3-element Vector{Int64}:\n",
       " 10\n",
       " 20\n",
       " 30"
      ]
     },
     "execution_count": 95,
     "metadata": {},
     "output_type": "execute_result"
    }
   ],
   "source": [
    "a = [10, 20, 30]"
   ]
  },
  {
   "cell_type": "code",
   "execution_count": 96,
   "id": "bc69286d",
   "metadata": {
    "hide-output": false
   },
   "outputs": [
    {
     "data": {
      "text/plain": [
       "3-element Vector{Int64}:\n",
       " -100\n",
       "    0\n",
       "  100"
      ]
     },
     "execution_count": 96,
     "metadata": {},
     "output_type": "execute_result"
    }
   ],
   "source": [
    "b = [-100, 0, 100]"
   ]
  },
  {
   "cell_type": "code",
   "execution_count": 97,
   "id": "3b5e60b8",
   "metadata": {
    "hide-output": false
   },
   "outputs": [
    {
     "data": {
      "text/plain": [
       "3-element BitVector:\n",
       " 0\n",
       " 0\n",
       " 1"
      ]
     },
     "execution_count": 97,
     "metadata": {},
     "output_type": "execute_result"
    }
   ],
   "source": [
    "b .> a"
   ]
  },
  {
   "cell_type": "code",
   "execution_count": 98,
   "id": "d43528f8",
   "metadata": {
    "hide-output": false
   },
   "outputs": [
    {
     "data": {
      "text/plain": [
       "3-element BitVector:\n",
       " 0\n",
       " 0\n",
       " 0"
      ]
     },
     "execution_count": 98,
     "metadata": {},
     "output_type": "execute_result"
    }
   ],
   "source": [
    "a .== b"
   ]
  },
  {
   "attachments": {},
   "cell_type": "markdown",
   "id": "e2a1d8e8",
   "metadata": {},
   "source": [
    "We can also do comparisons against scalars with parallel syntax"
   ]
  },
  {
   "cell_type": "code",
   "execution_count": 99,
   "id": "96b60880",
   "metadata": {
    "hide-output": false
   },
   "outputs": [
    {
     "data": {
      "text/plain": [
       "3-element Vector{Int64}:\n",
       " -100\n",
       "    0\n",
       "  100"
      ]
     },
     "execution_count": 99,
     "metadata": {},
     "output_type": "execute_result"
    }
   ],
   "source": [
    "b"
   ]
  },
  {
   "cell_type": "code",
   "execution_count": 100,
   "id": "d7163dce",
   "metadata": {
    "hide-output": false
   },
   "outputs": [
    {
     "data": {
      "text/plain": [
       "3-element BitVector:\n",
       " 0\n",
       " 0\n",
       " 1"
      ]
     },
     "execution_count": 100,
     "metadata": {},
     "output_type": "execute_result"
    }
   ],
   "source": [
    "b .> 1"
   ]
  },
  {
   "attachments": {},
   "cell_type": "markdown",
   "id": "ec5a8179",
   "metadata": {},
   "source": [
    "This is particularly useful for *conditional extraction* – extracting the elements of an array that satisfy a condition"
   ]
  },
  {
   "cell_type": "code",
   "execution_count": 101,
   "id": "747dbb99",
   "metadata": {
    "hide-output": false
   },
   "outputs": [
    {
     "data": {
      "text/plain": [
       "4-element Vector{Float64}:\n",
       " -2.447739270051601\n",
       "  1.409636761689613\n",
       " -1.2714662020474041\n",
       "  1.7723313468510513"
      ]
     },
     "execution_count": 101,
     "metadata": {},
     "output_type": "execute_result"
    }
   ],
   "source": [
    "a = randn(4)"
   ]
  },
  {
   "cell_type": "code",
   "execution_count": 102,
   "id": "2afab7bd",
   "metadata": {
    "hide-output": false
   },
   "outputs": [
    {
     "data": {
      "text/plain": [
       "4-element BitVector:\n",
       " 1\n",
       " 0\n",
       " 1\n",
       " 0"
      ]
     },
     "execution_count": 102,
     "metadata": {},
     "output_type": "execute_result"
    }
   ],
   "source": [
    "a .< 0"
   ]
  },
  {
   "cell_type": "code",
   "execution_count": 103,
   "id": "44fff19b",
   "metadata": {
    "hide-output": false
   },
   "outputs": [
    {
     "data": {
      "text/plain": [
       "2-element Vector{Float64}:\n",
       " -2.447739270051601\n",
       " -1.2714662020474041"
      ]
     },
     "execution_count": 103,
     "metadata": {},
     "output_type": "execute_result"
    }
   ],
   "source": [
    "a[a .< 0]"
   ]
  },
  {
   "attachments": {},
   "cell_type": "markdown",
   "id": "710e8dc7",
   "metadata": {},
   "source": [
    "#### Changing Dimensions\n",
    "\n",
    "The primary function for changing the dimensions of an array is `reshape()`"
   ]
  },
  {
   "cell_type": "code",
   "execution_count": 104,
   "id": "2f8b2ce4",
   "metadata": {
    "hide-output": false
   },
   "outputs": [
    {
     "data": {
      "text/plain": [
       "4-element Vector{Int64}:\n",
       " 10\n",
       " 20\n",
       " 30\n",
       " 40"
      ]
     },
     "execution_count": 104,
     "metadata": {},
     "output_type": "execute_result"
    }
   ],
   "source": [
    "a = [10, 20, 30, 40]"
   ]
  },
  {
   "cell_type": "code",
   "execution_count": 105,
   "id": "8f01e843",
   "metadata": {
    "hide-output": false
   },
   "outputs": [
    {
     "data": {
      "text/plain": [
       "2×2 Matrix{Int64}:\n",
       " 10  30\n",
       " 20  40"
      ]
     },
     "execution_count": 105,
     "metadata": {},
     "output_type": "execute_result"
    }
   ],
   "source": [
    "b = reshape(a, 2, 2)"
   ]
  },
  {
   "cell_type": "code",
   "execution_count": 106,
   "id": "bf4f9ca1",
   "metadata": {
    "hide-output": false
   },
   "outputs": [
    {
     "data": {
      "text/plain": [
       "2×2 Matrix{Int64}:\n",
       " 10  30\n",
       " 20  40"
      ]
     },
     "execution_count": 106,
     "metadata": {},
     "output_type": "execute_result"
    }
   ],
   "source": [
    "b"
   ]
  },
  {
   "attachments": {},
   "cell_type": "markdown",
   "id": "15da7f92",
   "metadata": {},
   "source": [
    "Notice that this function returns a view on the existing array.\n",
    "\n",
    "This means that changing the data in the new array will modify the data in the\n",
    "old one."
   ]
  },
  {
   "cell_type": "code",
   "execution_count": 107,
   "id": "f48c0a0a",
   "metadata": {
    "hide-output": false
   },
   "outputs": [
    {
     "data": {
      "text/plain": [
       "100"
      ]
     },
     "execution_count": 107,
     "metadata": {},
     "output_type": "execute_result"
    }
   ],
   "source": [
    "b[1, 1] = 100  # continuing the previous example"
   ]
  },
  {
   "cell_type": "code",
   "execution_count": 108,
   "id": "2816f49b",
   "metadata": {
    "hide-output": false
   },
   "outputs": [
    {
     "data": {
      "text/plain": [
       "2×2 Matrix{Int64}:\n",
       " 100  30\n",
       "  20  40"
      ]
     },
     "execution_count": 108,
     "metadata": {},
     "output_type": "execute_result"
    }
   ],
   "source": [
    "b"
   ]
  },
  {
   "cell_type": "code",
   "execution_count": 109,
   "id": "a32b860f",
   "metadata": {
    "hide-output": false
   },
   "outputs": [
    {
     "data": {
      "text/plain": [
       "4-element Vector{Int64}:\n",
       " 100\n",
       "  20\n",
       "  30\n",
       "  40"
      ]
     },
     "execution_count": 109,
     "metadata": {},
     "output_type": "execute_result"
    }
   ],
   "source": [
    "a"
   ]
  },
  {
   "attachments": {},
   "cell_type": "markdown",
   "id": "ea1867a7",
   "metadata": {},
   "source": [
    "To collapse an array along one dimension you can use `dropdims()`"
   ]
  },
  {
   "cell_type": "code",
   "execution_count": 110,
   "id": "d5ca12a8",
   "metadata": {
    "hide-output": false
   },
   "outputs": [
    {
     "data": {
      "text/plain": [
       "1×4 Matrix{Int64}:\n",
       " 1  2  3  4"
      ]
     },
     "execution_count": 110,
     "metadata": {},
     "output_type": "execute_result"
    }
   ],
   "source": [
    "a = [1 2 3 4]  # two dimensional"
   ]
  },
  {
   "cell_type": "code",
   "execution_count": 111,
   "id": "70fd203a",
   "metadata": {
    "hide-output": false
   },
   "outputs": [
    {
     "data": {
      "text/plain": [
       "4-element Vector{Int64}:\n",
       " 1\n",
       " 2\n",
       " 3\n",
       " 4"
      ]
     },
     "execution_count": 111,
     "metadata": {},
     "output_type": "execute_result"
    }
   ],
   "source": [
    "dropdims(a, dims = 1)"
   ]
  },
  {
   "attachments": {},
   "cell_type": "markdown",
   "id": "7f3b9e16",
   "metadata": {},
   "source": [
    "The return value is an array with the specified dimension “flattened”."
   ]
  },
  {
   "attachments": {},
   "cell_type": "markdown",
   "id": "c8fe819d",
   "metadata": {},
   "source": [
    "### Broadcasting Functions\n",
    "\n",
    "Julia provides standard mathematical functions such as `log`, `exp`, `sin`, etc."
   ]
  },
  {
   "cell_type": "code",
   "execution_count": 112,
   "id": "f4fa5a0b",
   "metadata": {
    "hide-output": false
   },
   "outputs": [
    {
     "data": {
      "text/plain": [
       "0.0"
      ]
     },
     "execution_count": 112,
     "metadata": {},
     "output_type": "execute_result"
    }
   ],
   "source": [
    "log(1.0)"
   ]
  },
  {
   "attachments": {},
   "cell_type": "markdown",
   "id": "1e9a0d00",
   "metadata": {},
   "source": [
    "By default, these functions act *elementwise* on arrays"
   ]
  },
  {
   "cell_type": "code",
   "execution_count": 113,
   "id": "952cce07",
   "metadata": {
    "hide-output": false
   },
   "outputs": [
    {
     "data": {
      "text/plain": [
       "4-element Vector{Float64}:\n",
       " 0.0\n",
       " 0.6931471805599453\n",
       " 1.0986122886681098\n",
       " 1.3862943611198906"
      ]
     },
     "execution_count": 113,
     "metadata": {},
     "output_type": "execute_result"
    }
   ],
   "source": [
    "log.(1:4)"
   ]
  },
  {
   "attachments": {},
   "cell_type": "markdown",
   "id": "79b05a94",
   "metadata": {},
   "source": [
    "Note that we can get the same result as with a comprehension or more explicit loop"
   ]
  },
  {
   "cell_type": "code",
   "execution_count": 114,
   "id": "c2250277",
   "metadata": {
    "hide-output": false
   },
   "outputs": [
    {
     "data": {
      "text/plain": [
       "4-element Vector{Float64}:\n",
       " 0.0\n",
       " 0.6931471805599453\n",
       " 1.0986122886681098\n",
       " 1.3862943611198906"
      ]
     },
     "execution_count": 114,
     "metadata": {},
     "output_type": "execute_result"
    }
   ],
   "source": [
    "[ log(x) for x in 1:4 ]"
   ]
  },
  {
   "attachments": {},
   "cell_type": "markdown",
   "id": "84cae744",
   "metadata": {},
   "source": [
    "Nonetheless the syntax is convenient."
   ]
  },
  {
   "attachments": {},
   "cell_type": "markdown",
   "id": "6367c898",
   "metadata": {},
   "source": [
    "### Linear Algebra\n",
    "\n",
    "([See linear algebra documentation](https://docs.julialang.org/en/v1/stdlib/LinearAlgebra/))\n",
    "\n",
    "Julia provides some a great deal of additional functionality related to linear operations"
   ]
  },
  {
   "cell_type": "code",
   "execution_count": 115,
   "id": "ee9d24b1",
   "metadata": {
    "hide-output": false
   },
   "outputs": [
    {
     "data": {
      "text/plain": [
       "2×2 Matrix{Int64}:\n",
       " 1  2\n",
       " 3  4"
      ]
     },
     "execution_count": 115,
     "metadata": {},
     "output_type": "execute_result"
    }
   ],
   "source": [
    "A = [1 2; 3 4]"
   ]
  },
  {
   "cell_type": "code",
   "execution_count": 116,
   "id": "373dc364",
   "metadata": {
    "hide-output": false
   },
   "outputs": [
    {
     "data": {
      "text/plain": [
       "-2.0"
      ]
     },
     "execution_count": 116,
     "metadata": {},
     "output_type": "execute_result"
    }
   ],
   "source": [
    "det(A)"
   ]
  },
  {
   "cell_type": "code",
   "execution_count": 117,
   "id": "38c01fb8",
   "metadata": {
    "hide-output": false
   },
   "outputs": [
    {
     "data": {
      "text/plain": [
       "5"
      ]
     },
     "execution_count": 117,
     "metadata": {},
     "output_type": "execute_result"
    }
   ],
   "source": [
    "tr(A)"
   ]
  },
  {
   "cell_type": "code",
   "execution_count": 118,
   "id": "813ce85a",
   "metadata": {
    "hide-output": false
   },
   "outputs": [
    {
     "data": {
      "text/plain": [
       "2-element Vector{Float64}:\n",
       " -0.3722813232690143\n",
       "  5.372281323269014"
      ]
     },
     "execution_count": 118,
     "metadata": {},
     "output_type": "execute_result"
    }
   ],
   "source": [
    "eigvals(A)"
   ]
  },
  {
   "cell_type": "code",
   "execution_count": 119,
   "id": "f23dc0c5",
   "metadata": {
    "hide-output": false
   },
   "outputs": [
    {
     "data": {
      "text/plain": [
       "2"
      ]
     },
     "execution_count": 119,
     "metadata": {},
     "output_type": "execute_result"
    }
   ],
   "source": [
    "rank(A)"
   ]
  },
  {
   "attachments": {},
   "cell_type": "markdown",
   "id": "e051bda9",
   "metadata": {},
   "source": [
    "## Ranges\n",
    "\n",
    "As with many other types, a `Range` can act as a vector."
   ]
  },
  {
   "cell_type": "code",
   "execution_count": 120,
   "id": "ca15e24e",
   "metadata": {
    "hide-output": false
   },
   "outputs": [
    {
     "name": "stdout",
     "output_type": "stream",
     "text": [
      "Vector(a) = [10, 11, 12]\n"
     ]
    },
    {
     "data": {
      "text/plain": [
       "3-element Vector{Float64}:\n",
       "  9.0\n",
       " 20.0\n",
       " 33.0"
      ]
     },
     "execution_count": 120,
     "metadata": {},
     "output_type": "execute_result"
    }
   ],
   "source": [
    "a = 10:12        # a range, equivalent to 10:1:12\n",
    "@show Vector(a)  # can convert, but shouldn't\n",
    "\n",
    "b = Diagonal([1.0, 2.0, 3.0])\n",
    "b * a .- [1.0; 2.0; 3.0]"
   ]
  },
  {
   "attachments": {},
   "cell_type": "markdown",
   "id": "8b676f83",
   "metadata": {},
   "source": [
    "Ranges can also be created with floating point numbers using the same notation."
   ]
  },
  {
   "cell_type": "code",
   "execution_count": 121,
   "id": "51d79e52",
   "metadata": {
    "hide-output": false
   },
   "outputs": [
    {
     "data": {
      "text/plain": [
       "0.0:0.1:1.0"
      ]
     },
     "execution_count": 121,
     "metadata": {},
     "output_type": "execute_result"
    }
   ],
   "source": [
    "a = 0.0:0.1:1.0  # 0.0, 0.1, 0.2, ... 1.0"
   ]
  },
  {
   "attachments": {},
   "cell_type": "markdown",
   "id": "47e7de86",
   "metadata": {},
   "source": [
    "But care should be taken if the terminal node is not a multiple of the set sizes."
   ]
  },
  {
   "cell_type": "code",
   "execution_count": 122,
   "id": "64e3c48e",
   "metadata": {
    "hide-output": false
   },
   "outputs": [
    {
     "data": {
      "text/plain": [
       "false"
      ]
     },
     "execution_count": 122,
     "metadata": {},
     "output_type": "execute_result"
    }
   ],
   "source": [
    "maxval = 1.0\n",
    "minval = 0.0\n",
    "stepsize = 0.15\n",
    "a = minval:stepsize:maxval # 0.0, 0.15, 0.3, ...\n",
    "maximum(a) == maxval"
   ]
  },
  {
   "attachments": {},
   "cell_type": "markdown",
   "id": "43dcd117",
   "metadata": {},
   "source": [
    "To evenly space points where the maximum value is important, i.e., `linspace` in other languages"
   ]
  },
  {
   "cell_type": "code",
   "execution_count": 123,
   "id": "67c7cb1b",
   "metadata": {
    "hide-output": false
   },
   "outputs": [
    {
     "data": {
      "text/plain": [
       "true"
      ]
     },
     "execution_count": 123,
     "metadata": {},
     "output_type": "execute_result"
    }
   ],
   "source": [
    "maxval = 1.0\n",
    "minval = 0.0\n",
    "numpoints = 10\n",
    "a = range(minval, maxval, length=numpoints)\n",
    "# or range(minval, stop=maxval, length=numpoints)\n",
    "\n",
    "maximum(a) == maxval"
   ]
  },
  {
   "attachments": {},
   "cell_type": "markdown",
   "id": "85d1e9c0",
   "metadata": {},
   "source": [
    "## Tuples and Named Tuples\n",
    "\n",
    "([See tuples](https://docs.julialang.org/en/v1/manual/functions/#Tuples-1) and [named tuples documentation](https://docs.julialang.org/en/v1/manual/functions/#Named-Tuples-1))\n",
    "\n",
    "We were introduced to tuples earlier, which provide high-performance immutable sets of distinct types."
   ]
  },
  {
   "cell_type": "code",
   "execution_count": 124,
   "id": "6d4a8724",
   "metadata": {
    "hide-output": false
   },
   "outputs": [
    {
     "name": "stdout",
     "output_type": "stream",
     "text": [
      "a = 1.0 and b = test\n"
     ]
    }
   ],
   "source": [
    "t = (1.0, \"test\")\n",
    "t[1]            # access by index\n",
    "a, b = t        # unpack\n",
    "# t[1] = 3.0    # would fail as tuples are immutable\n",
    "println(\"a = $a and b = $b\")"
   ]
  },
  {
   "attachments": {},
   "cell_type": "markdown",
   "id": "2858bec8",
   "metadata": {},
   "source": [
    "As well as **named tuples**, which extend tuples with names for each argument."
   ]
  },
  {
   "cell_type": "code",
   "execution_count": 125,
   "id": "f1a48013",
   "metadata": {
    "hide-output": false
   },
   "outputs": [
    {
     "name": "stdout",
     "output_type": "stream",
     "text": [
      "val1 = 1.0 and val2 = test\n",
      "val1 = 1.0 and val2 = test\n"
     ]
    }
   ],
   "source": [
    "t = (;val1 = 1.0, val2 = \"test\") # ; is optional but good form\n",
    "t.val1      # access by index\n",
    "println(\"val1 = $(t.val1) and val2 = $(t.val2)\") # access by name\n",
    "(;val1, val2) = t  # unpacking notation (note the ;)\n",
    "println(\"val1 = $val1 and val2 = $val2\")"
   ]
  },
  {
   "attachments": {},
   "cell_type": "markdown",
   "id": "99de0e94",
   "metadata": {},
   "source": [
    "While immutable, it is possible to manipulate tuples and generate new ones"
   ]
  },
  {
   "cell_type": "code",
   "execution_count": 126,
   "id": "554284c8",
   "metadata": {
    "hide-output": false
   },
   "outputs": [
    {
     "data": {
      "text/plain": [
       "(val1 = 1.0, val2 = \"test\", val3 = 4, val4 = \"test!!\")"
      ]
     },
     "execution_count": 126,
     "metadata": {},
     "output_type": "execute_result"
    }
   ],
   "source": [
    "t2 = (;val3 = 4, val4 = \"test!!\")\n",
    "t3 = merge(t, t2)  # new tuple"
   ]
  },
  {
   "attachments": {},
   "cell_type": "markdown",
   "id": "e00d6761",
   "metadata": {},
   "source": [
    "Named tuples are a convenient and high-performance way to manage and unpack sets of parameters"
   ]
  },
  {
   "cell_type": "code",
   "execution_count": 127,
   "id": "bc1d0254",
   "metadata": {
    "hide-output": false
   },
   "outputs": [
    {
     "data": {
      "text/plain": [
       "0.30000000000000004"
      ]
     },
     "execution_count": 127,
     "metadata": {},
     "output_type": "execute_result"
    }
   ],
   "source": [
    "function f(parameters)\n",
    "    α, β = parameters.α, parameters.β # poor style, error prone\n",
    "    return α + β\n",
    "end\n",
    "\n",
    "parameters = (;α = 0.1, β = 0.2)\n",
    "f(parameters)"
   ]
  },
  {
   "attachments": {},
   "cell_type": "markdown",
   "id": "c2a4ea8e",
   "metadata": {},
   "source": [
    "This functionality is aided by the unpacking notation"
   ]
  },
  {
   "cell_type": "code",
   "execution_count": 128,
   "id": "7e50572c",
   "metadata": {
    "hide-output": false
   },
   "outputs": [
    {
     "data": {
      "text/plain": [
       "0.30000000000000004"
      ]
     },
     "execution_count": 128,
     "metadata": {},
     "output_type": "execute_result"
    }
   ],
   "source": [
    "function f(parameters)\n",
    "    (;α, β) = parameters  # good style, less sensitive to errors\n",
    "    return α + β\n",
    "end\n",
    "\n",
    "parameters = (;α = 0.1, β = 0.2)\n",
    "f(parameters)"
   ]
  },
  {
   "attachments": {},
   "cell_type": "markdown",
   "id": "79344a5a",
   "metadata": {},
   "source": [
    "In order to manage default values, use the `@with_kw` from the `Parameters.jl` package"
   ]
  },
  {
   "cell_type": "code",
   "execution_count": 129,
   "id": "46e03841",
   "metadata": {
    "hide-output": false
   },
   "outputs": [
    {
     "name": "stdout",
     "output_type": "stream",
     "text": [
      "paramgen() = (α = 0.1, β = 0.2)\n",
      "paramgen(α = 0.2) = (α = 0.2, β = 0.2)\n",
      "paramgen(α = 0.2, β = 0.5) = (α = 0.2, β = 0.5)\n"
     ]
    }
   ],
   "source": [
    "using Parameters\n",
    "paramgen = @with_kw (α = 0.1, β = 0.2)  # create named tuples with defaults\n",
    "\n",
    "# creates named tuples, replacing defaults\n",
    "@show paramgen()  # calling without arguments gives all defaults\n",
    "@show paramgen(α = 0.2)\n",
    "@show paramgen(α = 0.2, β = 0.5);"
   ]
  },
  {
   "attachments": {},
   "cell_type": "markdown",
   "id": "9363cff8",
   "metadata": {},
   "source": [
    "Or create a function which returns the named tuple with defaults, which can also do intermediate calculations"
   ]
  },
  {
   "cell_type": "code",
   "execution_count": 130,
   "id": "97af6450",
   "metadata": {
    "hide-output": false
   },
   "outputs": [
    {
     "name": "stdout",
     "output_type": "stream",
     "text": [
      "paramgen2() = (α = 0.1, β = 0.2)\n",
      "paramgen2(; α = 0.2) = (α = 0.2, β = 0.2)\n"
     ]
    },
    {
     "data": {
      "text/plain": [
       "(α = 0.2, β = 0.2)"
      ]
     },
     "execution_count": 130,
     "metadata": {},
     "output_type": "execute_result"
    }
   ],
   "source": [
    "function paramgen2(;α = 0.1, β = 0.2)\n",
    "    return (;α, β)\n",
    "end\n",
    "@show paramgen2()\n",
    "@show paramgen2(;α = 0.2)"
   ]
  },
  {
   "attachments": {},
   "cell_type": "markdown",
   "id": "27c752d6",
   "metadata": {},
   "source": [
    "An alternative approach, defining a new type using `struct` tends to be more prone to accidental misuse, and leads to a great deal of boilerplate code.\n",
    "\n",
    "For that, and other reasons of generality, we will use named tuples for collections of parameters where possible."
   ]
  },
  {
   "attachments": {},
   "cell_type": "markdown",
   "id": "17e0e2fe",
   "metadata": {},
   "source": [
    "## Nothing, Missing, and Unions\n",
    "\n",
    "Sometimes a variable, return type from a function, or value in an array needs to represent the absence of a value rather than a particular value.\n",
    "\n",
    "There are two distinct use cases for this\n",
    "\n",
    "1. `nothing` (“software engineers null”): used where no value makes sense in a particular context due to a failure in the code, a function parameter not passed in, etc.  \n",
    "1. `missing` (“data scientists null”): used when a value would make conceptual sense, but it isn’t available.  \n",
    "\n",
    "\n",
    "\n",
    "<a id='error-handling'></a>"
   ]
  },
  {
   "attachments": {},
   "cell_type": "markdown",
   "id": "9f84d821",
   "metadata": {},
   "source": [
    "### Nothing and Basic Error Handling\n",
    "\n",
    "The value `nothing` is a single value of type `Nothing`"
   ]
  },
  {
   "cell_type": "code",
   "execution_count": 131,
   "id": "861ba949",
   "metadata": {
    "hide-output": false
   },
   "outputs": [
    {
     "data": {
      "text/plain": [
       "Nothing"
      ]
     },
     "execution_count": 131,
     "metadata": {},
     "output_type": "execute_result"
    }
   ],
   "source": [
    "typeof(nothing)"
   ]
  },
  {
   "attachments": {},
   "cell_type": "markdown",
   "id": "32681ec3",
   "metadata": {},
   "source": [
    "An example of a reasonable use of `nothing` is if you need to have a variable defined in an outer scope, which may or may not be set in an inner one"
   ]
  },
  {
   "cell_type": "code",
   "execution_count": 132,
   "id": "73d46b28",
   "metadata": {
    "hide-output": false
   },
   "outputs": [
    {
     "name": "stdout",
     "output_type": "stream",
     "text": [
      "x = 1.0\n",
      "f(1.0) = 1.0\n",
      "x was not set\n",
      "f(-1.0) = nothing\n"
     ]
    }
   ],
   "source": [
    "function f(y)\n",
    "    x = nothing\n",
    "    if y > 0.0\n",
    "        # calculations to set `x`\n",
    "        x = y\n",
    "    end\n",
    "\n",
    "    # later, can check `x`\n",
    "    if isnothing(x)\n",
    "        println(\"x was not set\")\n",
    "    else\n",
    "        println(\"x = $x\")\n",
    "    end\n",
    "    x\n",
    "end\n",
    "\n",
    "@show f(1.0)\n",
    "@show f(-1.0);"
   ]
  },
  {
   "attachments": {},
   "cell_type": "markdown",
   "id": "d635205d",
   "metadata": {},
   "source": [
    "While in general you want to keep a variable name bound to a single type in Julia, this is a notable exception.\n",
    "\n",
    "Similarly, if needed, you can return a `nothing` from a function to indicate that it did not calculate as expected."
   ]
  },
  {
   "cell_type": "code",
   "execution_count": 133,
   "id": "2dd80ee8",
   "metadata": {
    "hide-output": false
   },
   "outputs": [
    {
     "name": "stdout",
     "output_type": "stream",
     "text": [
      "f(-1.0) failed\n"
     ]
    }
   ],
   "source": [
    "function f(x)\n",
    "    if x > 0.0\n",
    "        return sqrt(x)\n",
    "    else\n",
    "        return nothing\n",
    "    end\n",
    "end\n",
    "x1 = 1.0\n",
    "x2 = -1.0\n",
    "y1 = f(x1)\n",
    "y2 = f(x2)\n",
    "\n",
    "# check results with isnothing\n",
    "if isnothing(y1)\n",
    "    println(\"f($x2) successful\")\n",
    "else\n",
    "    println(\"f($x2) failed\");\n",
    "end"
   ]
  },
  {
   "attachments": {},
   "cell_type": "markdown",
   "id": "2dfd8d53",
   "metadata": {},
   "source": [
    "As an aside, an equivalent way to write the above function is to use the\n",
    "[ternary operator](https://docs.julialang.org/en/v1/manual/control-flow/index.html#man-conditional-evaluation-1),\n",
    "which gives a compact if/then/else structure"
   ]
  },
  {
   "cell_type": "code",
   "execution_count": 134,
   "id": "ded4c5d4",
   "metadata": {
    "hide-output": false
   },
   "outputs": [
    {
     "data": {
      "text/plain": [
       "1.0"
      ]
     },
     "execution_count": 134,
     "metadata": {},
     "output_type": "execute_result"
    }
   ],
   "source": [
    "function f(x)\n",
    "    x > 0.0 ? sqrt(x) : nothing  # the \"a ? b : c\" pattern is the ternary\n",
    "end\n",
    "\n",
    "f(1.0)"
   ]
  },
  {
   "attachments": {},
   "cell_type": "markdown",
   "id": "3f5b4879",
   "metadata": {},
   "source": [
    "We will sometimes use this form when it makes the code more clear (and it will occasionally make the code higher performance).\n",
    "\n",
    "Regardless of how `f(x)` is written,  the return type is an example of a union, where the result could be one of an explicit set of types.\n",
    "\n",
    "In this particular case, the compiler would deduce that the type would be a `Union{Nothing,Float64}` – that is, it returns either a floating point or a `nothing`.\n",
    "\n",
    "You will see this type directly if you use an array containing both types"
   ]
  },
  {
   "cell_type": "code",
   "execution_count": 135,
   "id": "e417cea9",
   "metadata": {
    "hide-output": false
   },
   "outputs": [
    {
     "data": {
      "text/plain": [
       "2-element Vector{Union{Nothing, Float64}}:\n",
       " 1.0\n",
       "  nothing"
      ]
     },
     "execution_count": 135,
     "metadata": {},
     "output_type": "execute_result"
    }
   ],
   "source": [
    "x = [1.0, nothing]"
   ]
  },
  {
   "attachments": {},
   "cell_type": "markdown",
   "id": "1a7a4453",
   "metadata": {},
   "source": [
    "When considering error handling, whether you want a function to return `nothing` or simply fail depends on whether the code calling `f(x)` is carefully checking the results.\n",
    "\n",
    "For example, if you were calling on an array of parameters where a priori you were not sure which ones will succeed, then"
   ]
  },
  {
   "cell_type": "code",
   "execution_count": 136,
   "id": "658ad838",
   "metadata": {
    "hide-output": false
   },
   "outputs": [
    {
     "data": {
      "text/plain": [
       "4-element Vector{Union{Nothing, Float64}}:\n",
       " 0.31622776601683794\n",
       "  nothing\n",
       " 1.4142135623730951\n",
       "  nothing"
      ]
     },
     "execution_count": 136,
     "metadata": {},
     "output_type": "execute_result"
    }
   ],
   "source": [
    "x = [0.1, -1.0, 2.0, -2.0]\n",
    "y = f.(x)\n",
    "\n",
    "# presumably check `y`"
   ]
  },
  {
   "attachments": {},
   "cell_type": "markdown",
   "id": "42dbfb0d",
   "metadata": {},
   "source": [
    "On the other hand, if the parameter passed is invalid and you would prefer not to handle a graceful failure, then using an assertion is more appropriate."
   ]
  },
  {
   "cell_type": "code",
   "execution_count": 137,
   "id": "3b171872",
   "metadata": {
    "hide-output": false
   },
   "outputs": [
    {
     "data": {
      "text/plain": [
       "1.0"
      ]
     },
     "execution_count": 137,
     "metadata": {},
     "output_type": "execute_result"
    }
   ],
   "source": [
    "function f(x)\n",
    "    @assert x > 0.0\n",
    "    sqrt(x)\n",
    "end\n",
    "\n",
    "f(1.0)"
   ]
  },
  {
   "attachments": {},
   "cell_type": "markdown",
   "id": "69f61a80",
   "metadata": {},
   "source": [
    "Finally, `nothing` is a good way to indicate an optional parameter in a function"
   ]
  },
  {
   "cell_type": "code",
   "execution_count": 138,
   "id": "34aefad1",
   "metadata": {
    "hide-output": false
   },
   "outputs": [
    {
     "name": "stdout",
     "output_type": "stream",
     "text": [
      "No z given with 1.0\n",
      "z = 3.0 given with 1.0\n"
     ]
    }
   ],
   "source": [
    "function f(x; z = nothing)\n",
    "\n",
    "    if isnothing(z)\n",
    "        println(\"No z given with $x\")\n",
    "    else\n",
    "        println(\"z = $z given with $x\")\n",
    "    end\n",
    "end\n",
    "\n",
    "f(1.0)\n",
    "f(1.0, z=3.0)"
   ]
  },
  {
   "attachments": {},
   "cell_type": "markdown",
   "id": "16725b81",
   "metadata": {},
   "source": [
    "An alternative to `nothing`, which can be useful and sometimes higher performance,\n",
    "is to use `NaN` to signal that a value is invalid returning from a function."
   ]
  },
  {
   "cell_type": "code",
   "execution_count": 139,
   "id": "f5c7e2e1",
   "metadata": {
    "hide-output": false
   },
   "outputs": [
    {
     "name": "stdout",
     "output_type": "stream",
     "text": [
      "typeof(f(-1.0)) = Float64\n",
      "f(-1.0) == NaN = false\n",
      "isnan(f(-1.0)) = true\n"
     ]
    },
    {
     "data": {
      "text/plain": [
       "true"
      ]
     },
     "execution_count": 139,
     "metadata": {},
     "output_type": "execute_result"
    }
   ],
   "source": [
    "function f(x)\n",
    "    if x > 0.0\n",
    "        return x\n",
    "    else\n",
    "        return NaN\n",
    "    end\n",
    "end\n",
    "\n",
    "f(0.1)\n",
    "f(-1.0)\n",
    "\n",
    "@show typeof(f(-1.0))\n",
    "@show f(-1.0) == NaN  # note, this fails!\n",
    "@show isnan(f(-1.0))  # check with this"
   ]
  },
  {
   "attachments": {},
   "cell_type": "markdown",
   "id": "aef6d5fc",
   "metadata": {},
   "source": [
    "Note that in this case, the return type is `Float64` regardless of the input for `Float64` input.\n",
    "\n",
    "Keep in mind, though, that this only works if the return type of a function is `Float64`."
   ]
  },
  {
   "attachments": {},
   "cell_type": "markdown",
   "id": "04baf2f7",
   "metadata": {},
   "source": [
    "### Exceptions\n",
    "\n",
    "(See [exceptions documentation](https://docs.julialang.org/en/v1/manual/control-flow/index.html#Exception-Handling-1))\n",
    "\n",
    "While returning a `nothing` can be a good way to deal with functions which may or may not return values, a more robust error handling method is to use exceptions.\n",
    "\n",
    "Unless you are writing a package, you will rarely want to define and throw your own exceptions, but will need to deal with them from other libraries.\n",
    "\n",
    "The key distinction for when to use an exceptions vs. return a `nothing` is whether an error is unexpected rather than a normal path of execution.\n",
    "\n",
    "An example of an exception is a `DomainError`, which signifies that a value passed to a function is invalid."
   ]
  },
  {
   "cell_type": "code",
   "execution_count": 140,
   "id": "60d35108",
   "metadata": {
    "hide-output": false
   },
   "outputs": [
    {
     "data": {
      "text/plain": [
       "DomainError(-1.0, \"sqrt will only return a complex result if called with a complex argument. Try sqrt(Complex(x)).\")"
      ]
     },
     "execution_count": 140,
     "metadata": {},
     "output_type": "execute_result"
    }
   ],
   "source": [
    "# throws exception, turned off to prevent breaking notebook\n",
    "# sqrt(-1.0)\n",
    "\n",
    "# to see the error\n",
    "try sqrt(-1.0); catch err; err end  # catches the exception and prints it"
   ]
  },
  {
   "attachments": {},
   "cell_type": "markdown",
   "id": "4c2dac5a",
   "metadata": {},
   "source": [
    "Another example you will see is when the compiler cannot convert between types."
   ]
  },
  {
   "cell_type": "code",
   "execution_count": 141,
   "id": "ca821107",
   "metadata": {
    "hide-output": false
   },
   "outputs": [
    {
     "data": {
      "text/plain": [
       "InexactError(:Int64, Int64, 3.12)"
      ]
     },
     "execution_count": 141,
     "metadata": {},
     "output_type": "execute_result"
    }
   ],
   "source": [
    "# throws exception, turned off to prevent breaking notebook\n",
    "# convert(Int64, 3.12)\n",
    "\n",
    "# to see the error\n",
    "try convert(Int64, 3.12); catch err; err end  # catches the exception and prints it."
   ]
  },
  {
   "attachments": {},
   "cell_type": "markdown",
   "id": "91110ffa",
   "metadata": {},
   "source": [
    "If these exceptions are generated from unexpected cases in your code, it may be appropriate simply let them occur and ensure you can read the error.\n",
    "\n",
    "Occasionally you will want to catch these errors and try to recover, as we did above in the `try` block."
   ]
  },
  {
   "cell_type": "code",
   "execution_count": 142,
   "id": "c6ca23e6",
   "metadata": {
    "hide-output": false
   },
   "outputs": [
    {
     "data": {
      "text/plain": [
       "0.0 + 1.0im"
      ]
     },
     "execution_count": 142,
     "metadata": {},
     "output_type": "execute_result"
    }
   ],
   "source": [
    "function f(x)\n",
    "    try\n",
    "        sqrt(x)\n",
    "    catch err                # enters if exception thrown\n",
    "        sqrt(complex(x, 0))  # convert to complex number\n",
    "    end\n",
    "end\n",
    "\n",
    "f(0.0)\n",
    "f(-1.0)"
   ]
  },
  {
   "attachments": {},
   "cell_type": "markdown",
   "id": "a6d634c2",
   "metadata": {},
   "source": [
    "\n",
    "<a id='missing'></a>"
   ]
  },
  {
   "attachments": {},
   "cell_type": "markdown",
   "id": "fd7c0955",
   "metadata": {},
   "source": [
    "### Missing\n",
    "\n",
    "(see [“missing” documentation](https://docs.julialang.org/en/v1/manual/missing/))\n",
    "\n",
    "The value `missing` of type `Missing` is used to represent missing value in a statistical sense.\n",
    "\n",
    "For example, if you loaded data from a panel, and gaps existed"
   ]
  },
  {
   "cell_type": "code",
   "execution_count": 143,
   "id": "83615da7",
   "metadata": {
    "hide-output": false
   },
   "outputs": [
    {
     "data": {
      "text/plain": [
       "5-element Vector{Union{Missing, Float64}}:\n",
       " 3.0\n",
       "  missing\n",
       " 5.0\n",
       "  missing\n",
       "  missing"
      ]
     },
     "execution_count": 143,
     "metadata": {},
     "output_type": "execute_result"
    }
   ],
   "source": [
    "x = [3.0, missing, 5.0, missing, missing]"
   ]
  },
  {
   "attachments": {},
   "cell_type": "markdown",
   "id": "a445b83a",
   "metadata": {},
   "source": [
    "A key feature of `missing` is that it propagates through other function calls - unlike `nothing`"
   ]
  },
  {
   "cell_type": "code",
   "execution_count": 144,
   "id": "502c73c4",
   "metadata": {
    "hide-output": false
   },
   "outputs": [
    {
     "name": "stdout",
     "output_type": "stream",
     "text": [
      "missing + 1.0 = missing\n",
      "missing * 2 = missing\n",
      "missing * \"test\" = missing\n",
      "f(missing) = missing\n",
      "mean(x) = missing\n"
     ]
    }
   ],
   "source": [
    "f(x) = x^2\n",
    "\n",
    "@show missing + 1.0\n",
    "@show missing * 2\n",
    "@show missing * \"test\"\n",
    "@show f(missing);      # even user-defined functions\n",
    "@show mean(x);"
   ]
  },
  {
   "attachments": {},
   "cell_type": "markdown",
   "id": "81f495e0",
   "metadata": {},
   "source": [
    "The purpose of this is to ensure that failures do not silently fail and provide meaningless numerical results.\n",
    "\n",
    "This even applies for the comparison of values, which"
   ]
  },
  {
   "cell_type": "code",
   "execution_count": 145,
   "id": "a957118c",
   "metadata": {
    "hide-output": false
   },
   "outputs": [
    {
     "name": "stdout",
     "output_type": "stream",
     "text": [
      "x == missing = missing\n",
      "x === missing = true\n",
      "ismissing(x) = true\n"
     ]
    }
   ],
   "source": [
    "x = missing\n",
    "\n",
    "@show x == missing\n",
    "@show x === missing  # an exception\n",
    "@show ismissing(x);"
   ]
  },
  {
   "attachments": {},
   "cell_type": "markdown",
   "id": "77630571",
   "metadata": {},
   "source": [
    "Where `ismissing` is the canonical way to test the value.\n",
    "\n",
    "In the case where you would like to calculate a value without the missing values, you can use `skipmissing`."
   ]
  },
  {
   "cell_type": "code",
   "execution_count": 146,
   "id": "1f039f4a",
   "metadata": {
    "hide-output": false
   },
   "outputs": [
    {
     "name": "stdout",
     "output_type": "stream",
     "text": [
      "mean(x) = missing\n",
      "mean(skipmissing(x)) = 2.6666666666666665\n",
      "coalesce.(x, 0.0) = [1.0, 0.0, 2.0, 0.0, 0.0, 5.0]\n"
     ]
    }
   ],
   "source": [
    "x = [1.0, missing, 2.0, missing, missing, 5.0]\n",
    "\n",
    "@show mean(x)\n",
    "@show mean(skipmissing(x))\n",
    "@show coalesce.(x, 0.0);  # replace missing with 0.0;"
   ]
  },
  {
   "attachments": {},
   "cell_type": "markdown",
   "id": "85921134",
   "metadata": {},
   "source": [
    "As `missing` is similar to R’s `NA` type, we will see more of `missing` when we cover `DataFrames`."
   ]
  },
  {
   "attachments": {},
   "cell_type": "markdown",
   "id": "2f8dc6c9",
   "metadata": {},
   "source": [
    "## Exercises\n",
    "\n",
    "\n",
    "<a id='np-ex1'></a>"
   ]
  },
  {
   "attachments": {},
   "cell_type": "markdown",
   "id": "4247ec68",
   "metadata": {},
   "source": [
    "### Exercise 1\n",
    "\n",
    "This exercise uses matrix operations that arise in certain problems,\n",
    "including when dealing with linear stochastic difference equations.\n",
    "\n",
    "If you aren’t familiar with all the terminology don’t be concerned – you can\n",
    "skim read the background discussion and focus purely on the matrix exercise.\n",
    "\n",
    "With that said, consider the stochastic difference equation\n",
    "\n",
    "\n",
    "<a id='equation-ja-sde'></a>\n",
    "$$\n",
    "X_{t+1} = A X_t + b + \\Sigma W_{t+1} \\tag{4.1}\n",
    "$$\n",
    "\n",
    "Here\n",
    "\n",
    "- $ X_t, b $ and $ X_{t+1} $ are $ n \\times 1 $  \n",
    "- $ A $ is $ n \\times n $  \n",
    "- $ \\Sigma $ is $ n \\times k $  \n",
    "- $ W_t $ is $ k \\times 1 $ and $ \\{W_t\\} $ is iid with zero mean and variance-covariance matrix equal to the identity matrix  \n",
    "\n",
    "\n",
    "Let $ S_t $ denote the $ n \\times n $ variance-covariance matrix of $ X_t $.\n",
    "\n",
    "Using the rules for computing variances in matrix expressions, it can be shown from [(4.1)](#equation-ja-sde) that $ \\{S_t\\} $ obeys\n",
    "\n",
    "\n",
    "<a id='equation-ja-sde-v'></a>\n",
    "$$\n",
    "S_{t+1} = A S_t A' + \\Sigma \\Sigma' \\tag{4.2}\n",
    "$$\n",
    "\n",
    "It can be shown that, provided all eigenvalues of $ A $ lie within the unit circle, the sequence $ \\{S_t\\} $ converges to a unique limit $ S $.\n",
    "\n",
    "This is the **unconditional variance** or **asymptotic variance** of the stochastic difference equation.\n",
    "\n",
    "As an exercise, try writing a simple function that solves for the limit $ S $ by iterating on [(4.2)](#equation-ja-sde-v) given $ A $ and $ \\Sigma $.\n",
    "\n",
    "To test your solution, observe that the limit $ S $ is a solution to the matrix equation\n",
    "\n",
    "\n",
    "<a id='equation-ja-dle'></a>\n",
    "$$\n",
    "S = A S A' + Q\n",
    "\\quad \\text{where} \\quad Q := \\Sigma \\Sigma' \\tag{4.3}\n",
    "$$\n",
    "\n",
    "This kind of equation is known as a **discrete time Lyapunov equation**.\n",
    "\n",
    "The [QuantEcon package](http://quantecon.org/quantecon-jl)\n",
    "provides a function called `solve_discrete_lyapunov` that implements a fast\n",
    "“doubling” algorithm to solve this equation.\n",
    "\n",
    "Test your iterative method against `solve_discrete_lyapunov` using matrices\n",
    "\n",
    "$$\n",
    "A =\n",
    "\\begin{bmatrix}\n",
    "    0.8 & -0.2  \\\\\n",
    "    -0.1 & 0.7\n",
    "\\end{bmatrix}\n",
    "\\qquad\n",
    "\\Sigma =\n",
    "\\begin{bmatrix}\n",
    "    0.5 & 0.4 \\\\\n",
    "    0.4 & 0.6\n",
    "\\end{bmatrix}\n",
    "$$"
   ]
  },
  {
   "cell_type": "code",
   "execution_count": 157,
   "id": "c2a922bb",
   "metadata": {},
   "outputs": [
    {
     "name": "stdout",
     "output_type": "stream",
     "text": [
      "[0.6712288909796063 0.6334752284232434; 0.6334752284232436 0.8588737988318549]\n",
      "[1.1931493135011446 0.35790903890160186; 0.35790903890160186 1.101616132723112]\n"
     ]
    }
   ],
   "source": [
    "# S(A, Sigma) = A * S * A' + Sigma * Sigma'\n",
    "function my_solve_discrete_lyapunov(A, Sigma)\n",
    "    S = Sigma * Sigma'\n",
    "    for _ = 1:50\n",
    "        S = A * S * A' + Sigma * Sigma'\n",
    "    end\n",
    "    return S\n",
    "end\n",
    "\n",
    "A = [0.8 -0.2; -0.1 0.7]\n",
    "Sigma = [0.5 0.4; 0.4 0.6]\n",
    "println(my_solve_discrete_lyapunov(A, Sigma))\n",
    "\n",
    "using QuantEcon\n",
    "println(solve_discrete_lyapunov(A, Sigma))"
   ]
  },
  {
   "attachments": {},
   "cell_type": "markdown",
   "id": "864ba8ec",
   "metadata": {},
   "source": [
    "### Exercise 2\n",
    "\n",
    "Take a stochastic process for $ \\{y_t\\}_{t=0}^T $\n",
    "\n",
    "$$\n",
    "y_{t+1} = \\gamma + \\theta y_t + \\sigma w_{t+1}\n",
    "$$\n",
    "\n",
    "where\n",
    "\n",
    "- $ w_{t+1} $ is distributed `Normal(0,1)`  \n",
    "- $ \\gamma=1, \\sigma=1, y_0 = 0 $  \n",
    "- $ \\theta \\in \\Theta \\equiv \\{0.8, 0.9, 0.98\\} $  \n",
    "\n",
    "\n",
    "Given these parameters\n",
    "\n",
    "- Simulate a single $ y_t $ series for each $ \\theta \\in \\Theta $\n",
    "  for $ T = 150 $.  Feel free to experiment with different $ T $.  \n",
    "- Overlay plots of the rolling mean of the process for each $ \\theta \\in \\Theta $,\n",
    "  i.e. for each $ 1 \\leq \\tau \\leq T $ plot  \n",
    "\n",
    "\n",
    "$$\n",
    "\\frac{1}{\\tau}\\sum_{t=1}^{\\tau}y_T\n",
    "$$\n",
    "\n",
    "- Simulate $ N=200 $ paths of the stochastic process above to the $ T $,\n",
    "  for each $ \\theta \\in \\Theta $, where we refer to an element of a particular\n",
    "  simulation as $ y^n_t $.  \n",
    "- Overlay plots a histogram of the stationary distribution of the final\n",
    "  $ y^n_T $ for each $ \\theta \\in \\Theta $.  Hint: pass `alpha`\n",
    "  to a plot to make it transparent (e.g. `histogram(vals, alpha = 0.5)`) or\n",
    "  use `stephist(vals)` to show just the step function for the histogram.  \n",
    "- Numerically find the mean and variance of this as an ensemble average, i.e.\n",
    "  $ \\sum_{n=1}^N\\frac{y^n_T}{N} $ and\n",
    "  $ \\sum_{n=1}^N\\frac{(y_T^n)^2}{N} -\\left(\\sum_{n=1}^N\\frac{y^n_T}{N}\\right)^2 $.  \n",
    "\n",
    "\n",
    "Later, we will interpret some of these in [this lecture](https://julia.quantecon.org/../tools_and_techniques/lln_clt.html)."
   ]
  },
  {
   "cell_type": "code",
   "execution_count": 171,
   "id": "9f9008f3",
   "metadata": {},
   "outputs": [
    {
     "name": "stdout",
     "output_type": "stream",
     "text": [
      "plt = Plot{Plots.GRBackend() n=3}\n"
     ]
    },
    {
     "data": {
      "image/svg+xml": [
       "<?xml version=\"1.0\" encoding=\"utf-8\"?>\n",
       "<svg xmlns=\"http://www.w3.org/2000/svg\" xmlns:xlink=\"http://www.w3.org/1999/xlink\" width=\"600\" height=\"400\" viewBox=\"0 0 2400 1600\">\n",
       "<defs>\n",
       "  <clipPath id=\"clip300\">\n",
       "    <rect x=\"0\" y=\"0\" width=\"2400\" height=\"1600\"/>\n",
       "  </clipPath>\n",
       "</defs>\n",
       "<path clip-path=\"url(#clip300)\" d=\"\n",
       "M0 1600 L2400 1600 L2400 0 L0 0  Z\n",
       "  \" fill=\"#ffffff\" fill-rule=\"evenodd\" fill-opacity=\"1\"/>\n",
       "<defs>\n",
       "  <clipPath id=\"clip301\">\n",
       "    <rect x=\"480\" y=\"0\" width=\"1681\" height=\"1600\"/>\n",
       "  </clipPath>\n",
       "</defs>\n",
       "<path clip-path=\"url(#clip300)\" d=\"\n",
       "M140.696 1486.45 L2352.76 1486.45 L2352.76 47.2441 L140.696 47.2441  Z\n",
       "  \" fill=\"#ffffff\" fill-rule=\"evenodd\" fill-opacity=\"1\"/>\n",
       "<defs>\n",
       "  <clipPath id=\"clip302\">\n",
       "    <rect x=\"140\" y=\"47\" width=\"2213\" height=\"1440\"/>\n",
       "  </clipPath>\n",
       "</defs>\n",
       "<polyline clip-path=\"url(#clip302)\" style=\"stroke:#000000; stroke-linecap:round; stroke-linejoin:round; stroke-width:2; stroke-opacity:0.1; fill:none\" points=\"\n",
       "  189.389,1486.45 189.389,47.2441 \n",
       "  \"/>\n",
       "<polyline clip-path=\"url(#clip302)\" style=\"stroke:#000000; stroke-linecap:round; stroke-linejoin:round; stroke-width:2; stroke-opacity:0.1; fill:none\" points=\"\n",
       "  885.005,1486.45 885.005,47.2441 \n",
       "  \"/>\n",
       "<polyline clip-path=\"url(#clip302)\" style=\"stroke:#000000; stroke-linecap:round; stroke-linejoin:round; stroke-width:2; stroke-opacity:0.1; fill:none\" points=\"\n",
       "  1580.62,1486.45 1580.62,47.2441 \n",
       "  \"/>\n",
       "<polyline clip-path=\"url(#clip302)\" style=\"stroke:#000000; stroke-linecap:round; stroke-linejoin:round; stroke-width:2; stroke-opacity:0.1; fill:none\" points=\"\n",
       "  2276.24,1486.45 2276.24,47.2441 \n",
       "  \"/>\n",
       "<polyline clip-path=\"url(#clip300)\" style=\"stroke:#000000; stroke-linecap:round; stroke-linejoin:round; stroke-width:4; stroke-opacity:1; fill:none\" points=\"\n",
       "  140.696,1486.45 2352.76,1486.45 \n",
       "  \"/>\n",
       "<polyline clip-path=\"url(#clip300)\" style=\"stroke:#000000; stroke-linecap:round; stroke-linejoin:round; stroke-width:4; stroke-opacity:1; fill:none\" points=\"\n",
       "  189.389,1486.45 189.389,1467.55 \n",
       "  \"/>\n",
       "<polyline clip-path=\"url(#clip300)\" style=\"stroke:#000000; stroke-linecap:round; stroke-linejoin:round; stroke-width:4; stroke-opacity:1; fill:none\" points=\"\n",
       "  885.005,1486.45 885.005,1467.55 \n",
       "  \"/>\n",
       "<polyline clip-path=\"url(#clip300)\" style=\"stroke:#000000; stroke-linecap:round; stroke-linejoin:round; stroke-width:4; stroke-opacity:1; fill:none\" points=\"\n",
       "  1580.62,1486.45 1580.62,1467.55 \n",
       "  \"/>\n",
       "<polyline clip-path=\"url(#clip300)\" style=\"stroke:#000000; stroke-linecap:round; stroke-linejoin:round; stroke-width:4; stroke-opacity:1; fill:none\" points=\"\n",
       "  2276.24,1486.45 2276.24,1467.55 \n",
       "  \"/>\n",
       "<path clip-path=\"url(#clip300)\" d=\"M189.389 1517.37 Q185.778 1517.37 183.949 1520.93 Q182.143 1524.47 182.143 1531.6 Q182.143 1538.71 183.949 1542.27 Q185.778 1545.82 189.389 1545.82 Q193.023 1545.82 194.828 1542.27 Q196.657 1538.71 196.657 1531.6 Q196.657 1524.47 194.828 1520.93 Q193.023 1517.37 189.389 1517.37 M189.389 1513.66 Q195.199 1513.66 198.254 1518.27 Q201.333 1522.85 201.333 1531.6 Q201.333 1540.33 198.254 1544.94 Q195.199 1549.52 189.389 1549.52 Q183.579 1549.52 180.5 1544.94 Q177.444 1540.33 177.444 1531.6 Q177.444 1522.85 180.5 1518.27 Q183.579 1513.66 189.389 1513.66 Z\" fill=\"#000000\" fill-rule=\"evenodd\" fill-opacity=\"1\" /><path clip-path=\"url(#clip300)\" d=\"M859.704 1514.29 L878.061 1514.29 L878.061 1518.22 L863.987 1518.22 L863.987 1526.7 Q865.005 1526.35 866.024 1526.19 Q867.042 1526 868.061 1526 Q873.848 1526 877.227 1529.17 Q880.607 1532.34 880.607 1537.76 Q880.607 1543.34 877.135 1546.44 Q873.663 1549.52 867.343 1549.52 Q865.167 1549.52 862.899 1549.15 Q860.653 1548.78 858.246 1548.04 L858.246 1543.34 Q860.329 1544.47 862.552 1545.03 Q864.774 1545.58 867.251 1545.58 Q871.255 1545.58 873.593 1543.48 Q875.931 1541.37 875.931 1537.76 Q875.931 1534.15 873.593 1532.04 Q871.255 1529.94 867.251 1529.94 Q865.376 1529.94 863.501 1530.35 Q861.649 1530.77 859.704 1531.65 L859.704 1514.29 Z\" fill=\"#000000\" fill-rule=\"evenodd\" fill-opacity=\"1\" /><path clip-path=\"url(#clip300)\" d=\"M899.82 1517.37 Q896.209 1517.37 894.38 1520.93 Q892.575 1524.47 892.575 1531.6 Q892.575 1538.71 894.38 1542.27 Q896.209 1545.82 899.82 1545.82 Q903.454 1545.82 905.26 1542.27 Q907.088 1538.71 907.088 1531.6 Q907.088 1524.47 905.26 1520.93 Q903.454 1517.37 899.82 1517.37 M899.82 1513.66 Q905.63 1513.66 908.686 1518.27 Q911.764 1522.85 911.764 1531.6 Q911.764 1540.33 908.686 1544.94 Q905.63 1549.52 899.82 1549.52 Q894.01 1549.52 890.931 1544.94 Q887.876 1540.33 887.876 1531.6 Q887.876 1522.85 890.931 1518.27 Q894.01 1513.66 899.82 1513.66 Z\" fill=\"#000000\" fill-rule=\"evenodd\" fill-opacity=\"1\" /><path clip-path=\"url(#clip300)\" d=\"M1540.23 1544.91 L1547.87 1544.91 L1547.87 1518.55 L1539.56 1520.21 L1539.56 1515.95 L1547.82 1514.29 L1552.5 1514.29 L1552.5 1544.91 L1560.14 1544.91 L1560.14 1548.85 L1540.23 1548.85 L1540.23 1544.91 Z\" fill=\"#000000\" fill-rule=\"evenodd\" fill-opacity=\"1\" /><path clip-path=\"url(#clip300)\" d=\"M1579.58 1517.37 Q1575.97 1517.37 1574.14 1520.93 Q1572.33 1524.47 1572.33 1531.6 Q1572.33 1538.71 1574.14 1542.27 Q1575.97 1545.82 1579.58 1545.82 Q1583.21 1545.82 1585.02 1542.27 Q1586.85 1538.71 1586.85 1531.6 Q1586.85 1524.47 1585.02 1520.93 Q1583.21 1517.37 1579.58 1517.37 M1579.58 1513.66 Q1585.39 1513.66 1588.45 1518.27 Q1591.52 1522.85 1591.52 1531.6 Q1591.52 1540.33 1588.45 1544.94 Q1585.39 1549.52 1579.58 1549.52 Q1573.77 1549.52 1570.69 1544.94 Q1567.64 1540.33 1567.64 1531.6 Q1567.64 1522.85 1570.69 1518.27 Q1573.77 1513.66 1579.58 1513.66 Z\" fill=\"#000000\" fill-rule=\"evenodd\" fill-opacity=\"1\" /><path clip-path=\"url(#clip300)\" d=\"M1609.74 1517.37 Q1606.13 1517.37 1604.3 1520.93 Q1602.5 1524.47 1602.5 1531.6 Q1602.5 1538.71 1604.3 1542.27 Q1606.13 1545.82 1609.74 1545.82 Q1613.38 1545.82 1615.18 1542.27 Q1617.01 1538.71 1617.01 1531.6 Q1617.01 1524.47 1615.18 1520.93 Q1613.38 1517.37 1609.74 1517.37 M1609.74 1513.66 Q1615.55 1513.66 1618.61 1518.27 Q1621.69 1522.85 1621.69 1531.6 Q1621.69 1540.33 1618.61 1544.94 Q1615.55 1549.52 1609.74 1549.52 Q1603.93 1549.52 1600.85 1544.94 Q1597.8 1540.33 1597.8 1531.6 Q1597.8 1522.85 1600.85 1518.27 Q1603.93 1513.66 1609.74 1513.66 Z\" fill=\"#000000\" fill-rule=\"evenodd\" fill-opacity=\"1\" /><path clip-path=\"url(#clip300)\" d=\"M2235.84 1544.91 L2243.48 1544.91 L2243.48 1518.55 L2235.17 1520.21 L2235.17 1515.95 L2243.44 1514.29 L2248.11 1514.29 L2248.11 1544.91 L2255.75 1544.91 L2255.75 1548.85 L2235.84 1548.85 L2235.84 1544.91 Z\" fill=\"#000000\" fill-rule=\"evenodd\" fill-opacity=\"1\" /><path clip-path=\"url(#clip300)\" d=\"M2265.24 1514.29 L2283.6 1514.29 L2283.6 1518.22 L2269.53 1518.22 L2269.53 1526.7 Q2270.54 1526.35 2271.56 1526.19 Q2272.58 1526 2273.6 1526 Q2279.39 1526 2282.77 1529.17 Q2286.15 1532.34 2286.15 1537.76 Q2286.15 1543.34 2282.67 1546.44 Q2279.2 1549.52 2272.88 1549.52 Q2270.71 1549.52 2268.44 1549.15 Q2266.19 1548.78 2263.78 1548.04 L2263.78 1543.34 Q2265.87 1544.47 2268.09 1545.03 Q2270.31 1545.58 2272.79 1545.58 Q2276.79 1545.58 2279.13 1543.48 Q2281.47 1541.37 2281.47 1537.76 Q2281.47 1534.15 2279.13 1532.04 Q2276.79 1529.94 2272.79 1529.94 Q2270.91 1529.94 2269.04 1530.35 Q2267.19 1530.77 2265.24 1531.65 L2265.24 1514.29 Z\" fill=\"#000000\" fill-rule=\"evenodd\" fill-opacity=\"1\" /><path clip-path=\"url(#clip300)\" d=\"M2305.36 1517.37 Q2301.75 1517.37 2299.92 1520.93 Q2298.11 1524.47 2298.11 1531.6 Q2298.11 1538.71 2299.92 1542.27 Q2301.75 1545.82 2305.36 1545.82 Q2308.99 1545.82 2310.8 1542.27 Q2312.63 1538.71 2312.63 1531.6 Q2312.63 1524.47 2310.8 1520.93 Q2308.99 1517.37 2305.36 1517.37 M2305.36 1513.66 Q2311.17 1513.66 2314.22 1518.27 Q2317.3 1522.85 2317.3 1531.6 Q2317.3 1540.33 2314.22 1544.94 Q2311.17 1549.52 2305.36 1549.52 Q2299.55 1549.52 2296.47 1544.94 Q2293.41 1540.33 2293.41 1531.6 Q2293.41 1522.85 2296.47 1518.27 Q2299.55 1513.66 2305.36 1513.66 Z\" fill=\"#000000\" fill-rule=\"evenodd\" fill-opacity=\"1\" /><polyline clip-path=\"url(#clip302)\" style=\"stroke:#000000; stroke-linecap:round; stroke-linejoin:round; stroke-width:2; stroke-opacity:0.1; fill:none\" points=\"\n",
       "  140.696,1442.04 2352.76,1442.04 \n",
       "  \"/>\n",
       "<polyline clip-path=\"url(#clip302)\" style=\"stroke:#000000; stroke-linecap:round; stroke-linejoin:round; stroke-width:2; stroke-opacity:0.1; fill:none\" points=\"\n",
       "  140.696,1087.42 2352.76,1087.42 \n",
       "  \"/>\n",
       "<polyline clip-path=\"url(#clip302)\" style=\"stroke:#000000; stroke-linecap:round; stroke-linejoin:round; stroke-width:2; stroke-opacity:0.1; fill:none\" points=\"\n",
       "  140.696,732.801 2352.76,732.801 \n",
       "  \"/>\n",
       "<polyline clip-path=\"url(#clip302)\" style=\"stroke:#000000; stroke-linecap:round; stroke-linejoin:round; stroke-width:2; stroke-opacity:0.1; fill:none\" points=\"\n",
       "  140.696,378.18 2352.76,378.18 \n",
       "  \"/>\n",
       "<polyline clip-path=\"url(#clip300)\" style=\"stroke:#000000; stroke-linecap:round; stroke-linejoin:round; stroke-width:4; stroke-opacity:1; fill:none\" points=\"\n",
       "  140.696,1486.45 140.696,47.2441 \n",
       "  \"/>\n",
       "<polyline clip-path=\"url(#clip300)\" style=\"stroke:#000000; stroke-linecap:round; stroke-linejoin:round; stroke-width:4; stroke-opacity:1; fill:none\" points=\"\n",
       "  140.696,1442.04 159.593,1442.04 \n",
       "  \"/>\n",
       "<polyline clip-path=\"url(#clip300)\" style=\"stroke:#000000; stroke-linecap:round; stroke-linejoin:round; stroke-width:4; stroke-opacity:1; fill:none\" points=\"\n",
       "  140.696,1087.42 159.593,1087.42 \n",
       "  \"/>\n",
       "<polyline clip-path=\"url(#clip300)\" style=\"stroke:#000000; stroke-linecap:round; stroke-linejoin:round; stroke-width:4; stroke-opacity:1; fill:none\" points=\"\n",
       "  140.696,732.801 159.593,732.801 \n",
       "  \"/>\n",
       "<polyline clip-path=\"url(#clip300)\" style=\"stroke:#000000; stroke-linecap:round; stroke-linejoin:round; stroke-width:4; stroke-opacity:1; fill:none\" points=\"\n",
       "  140.696,378.18 159.593,378.18 \n",
       "  \"/>\n",
       "<path clip-path=\"url(#clip300)\" d=\"M92.7512 1427.84 Q89.1401 1427.84 87.3114 1431.41 Q85.5058 1434.95 85.5058 1442.08 Q85.5058 1449.19 87.3114 1452.75 Q89.1401 1456.29 92.7512 1456.29 Q96.3854 1456.29 98.1909 1452.75 Q100.02 1449.19 100.02 1442.08 Q100.02 1434.95 98.1909 1431.41 Q96.3854 1427.84 92.7512 1427.84 M92.7512 1424.14 Q98.5613 1424.14 101.617 1428.75 Q104.696 1433.33 104.696 1442.08 Q104.696 1450.81 101.617 1455.41 Q98.5613 1460 92.7512 1460 Q86.941 1460 83.8623 1455.41 Q80.8068 1450.81 80.8068 1442.08 Q80.8068 1433.33 83.8623 1428.75 Q86.941 1424.14 92.7512 1424.14 Z\" fill=\"#000000\" fill-rule=\"evenodd\" fill-opacity=\"1\" /><path clip-path=\"url(#clip300)\" d=\"M53.3995 1100.77 L61.0384 1100.77 L61.0384 1074.4 L52.7282 1076.07 L52.7282 1071.81 L60.9921 1070.14 L65.668 1070.14 L65.668 1100.77 L73.3068 1100.77 L73.3068 1104.7 L53.3995 1104.7 L53.3995 1100.77 Z\" fill=\"#000000\" fill-rule=\"evenodd\" fill-opacity=\"1\" /><path clip-path=\"url(#clip300)\" d=\"M92.7512 1073.22 Q89.1401 1073.22 87.3114 1076.79 Q85.5058 1080.33 85.5058 1087.46 Q85.5058 1094.56 87.3114 1098.13 Q89.1401 1101.67 92.7512 1101.67 Q96.3854 1101.67 98.1909 1098.13 Q100.02 1094.56 100.02 1087.46 Q100.02 1080.33 98.1909 1076.79 Q96.3854 1073.22 92.7512 1073.22 M92.7512 1069.52 Q98.5613 1069.52 101.617 1074.12 Q104.696 1078.71 104.696 1087.46 Q104.696 1096.18 101.617 1100.79 Q98.5613 1105.37 92.7512 1105.37 Q86.941 1105.37 83.8623 1100.79 Q80.8068 1096.18 80.8068 1087.46 Q80.8068 1078.71 83.8623 1074.12 Q86.941 1069.52 92.7512 1069.52 Z\" fill=\"#000000\" fill-rule=\"evenodd\" fill-opacity=\"1\" /><path clip-path=\"url(#clip300)\" d=\"M56.6171 746.146 L72.9365 746.146 L72.9365 750.081 L50.9921 750.081 L50.9921 746.146 Q53.6541 743.391 58.2375 738.762 Q62.8439 734.109 64.0245 732.766 Q66.2698 730.243 67.1494 728.507 Q68.0522 726.748 68.0522 725.058 Q68.0522 722.303 66.1078 720.567 Q64.1865 718.831 61.0847 718.831 Q58.8856 718.831 56.4319 719.595 Q54.0014 720.359 51.2236 721.91 L51.2236 717.188 Q54.0477 716.054 56.5014 715.475 Q58.955 714.896 60.9921 714.896 Q66.3624 714.896 69.5568 717.581 Q72.7513 720.266 72.7513 724.757 Q72.7513 726.887 71.9411 728.808 Q71.1541 730.706 69.0476 733.299 Q68.4689 733.97 65.367 737.188 Q62.2652 740.382 56.6171 746.146 Z\" fill=\"#000000\" fill-rule=\"evenodd\" fill-opacity=\"1\" /><path clip-path=\"url(#clip300)\" d=\"M92.7512 718.6 Q89.1401 718.6 87.3114 722.165 Q85.5058 725.706 85.5058 732.836 Q85.5058 739.942 87.3114 743.507 Q89.1401 747.049 92.7512 747.049 Q96.3854 747.049 98.1909 743.507 Q100.02 739.942 100.02 732.836 Q100.02 725.706 98.1909 722.165 Q96.3854 718.6 92.7512 718.6 M92.7512 714.896 Q98.5613 714.896 101.617 719.503 Q104.696 724.086 104.696 732.836 Q104.696 741.563 101.617 746.169 Q98.5613 750.752 92.7512 750.752 Q86.941 750.752 83.8623 746.169 Q80.8068 741.563 80.8068 732.836 Q80.8068 724.086 83.8623 719.503 Q86.941 714.896 92.7512 714.896 Z\" fill=\"#000000\" fill-rule=\"evenodd\" fill-opacity=\"1\" /><path clip-path=\"url(#clip300)\" d=\"M66.7559 376.825 Q70.1124 377.543 71.9874 379.812 Q73.8855 382.08 73.8855 385.413 Q73.8855 390.529 70.367 393.33 Q66.8485 396.131 60.3671 396.131 Q58.1912 396.131 55.8764 395.691 Q53.5847 395.274 51.131 394.418 L51.131 389.904 Q53.0754 391.038 55.3903 391.617 Q57.7051 392.196 60.2282 392.196 Q64.6263 392.196 66.918 390.46 Q69.2328 388.724 69.2328 385.413 Q69.2328 382.358 67.08 380.645 Q64.9504 378.909 61.131 378.909 L57.1032 378.909 L57.1032 375.066 L61.3161 375.066 Q64.7652 375.066 66.5939 373.7 Q68.4226 372.312 68.4226 369.719 Q68.4226 367.057 66.5245 365.645 Q64.6495 364.21 61.131 364.21 Q59.2097 364.21 57.0106 364.626 Q54.8115 365.043 52.1727 365.923 L52.1727 361.756 Q54.8347 361.015 57.1495 360.645 Q59.4875 360.275 61.5476 360.275 Q66.8717 360.275 69.9735 362.705 Q73.0753 365.113 73.0753 369.233 Q73.0753 372.103 71.4318 374.094 Q69.7883 376.062 66.7559 376.825 Z\" fill=\"#000000\" fill-rule=\"evenodd\" fill-opacity=\"1\" /><path clip-path=\"url(#clip300)\" d=\"M92.7512 363.978 Q89.1401 363.978 87.3114 367.543 Q85.5058 371.085 85.5058 378.214 Q85.5058 385.321 87.3114 388.886 Q89.1401 392.427 92.7512 392.427 Q96.3854 392.427 98.1909 388.886 Q100.02 385.321 100.02 378.214 Q100.02 371.085 98.1909 367.543 Q96.3854 363.978 92.7512 363.978 M92.7512 360.275 Q98.5613 360.275 101.617 364.881 Q104.696 369.464 104.696 378.214 Q104.696 386.941 101.617 391.548 Q98.5613 396.131 92.7512 396.131 Q86.941 396.131 83.8623 391.548 Q80.8068 386.941 80.8068 378.214 Q80.8068 369.464 83.8623 364.881 Q86.941 360.275 92.7512 360.275 Z\" fill=\"#000000\" fill-rule=\"evenodd\" fill-opacity=\"1\" /><polyline clip-path=\"url(#clip302)\" style=\"stroke:#009af9; stroke-linecap:round; stroke-linejoin:round; stroke-width:4; stroke-opacity:1; fill:none\" points=\"\n",
       "  203.301,1442.04 217.213,1410.11 231.126,1387.16 245.038,1365.32 258.95,1342.23 272.863,1329.88 286.775,1319.34 300.687,1309.71 314.6,1304.46 328.512,1303.18 \n",
       "  342.424,1300.65 356.337,1297.92 370.249,1298.07 384.161,1301.73 398.074,1303.23 411.986,1309.39 425.898,1313.79 439.811,1318.98 453.723,1323.04 467.635,1324.78 \n",
       "  481.548,1325.12 495.46,1324.77 509.372,1321.91 523.285,1320.93 537.197,1319.99 551.109,1318.22 565.022,1318.46 578.934,1318.28 592.846,1317.83 606.759,1316.16 \n",
       "  620.671,1315.69 634.583,1316.61 648.496,1317.33 662.408,1316.84 676.32,1316.89 690.233,1317.19 704.145,1317.42 718.057,1318.15 731.97,1318.25 745.882,1317.19 \n",
       "  759.794,1316.11 773.707,1314.49 787.619,1312.49 801.531,1309.83 815.444,1307.32 829.356,1304.49 843.268,1302.65 857.181,1302.31 871.093,1301.5 885.005,1300.63 \n",
       "  898.917,1299.9 912.83,1299.52 926.742,1299.77 940.654,1299.64 954.567,1300.07 968.479,1301 982.391,1301.43 996.304,1302.66 1010.22,1301.93 1024.13,1300.96 \n",
       "  1038.04,1299.94 1051.95,1300.15 1065.87,1300.32 1079.78,1299.36 1093.69,1298.88 1107.6,1299.53 1121.51,1299.84 1135.43,1300.39 1149.34,1301.39 1163.25,1301.95 \n",
       "  1177.16,1302.49 1191.08,1302.9 1204.99,1303.45 1218.9,1304.03 1232.81,1303.87 1246.73,1303.48 1260.64,1303.09 1274.55,1302.02 1288.46,1300.92 1302.38,1299.66 \n",
       "  1316.29,1298.5 1330.2,1297.55 1344.11,1296.93 1358.02,1296.38 1371.94,1296.03 1385.85,1295.64 1399.76,1295.54 1413.67,1295.7 1427.59,1295.58 1441.5,1294.81 \n",
       "  1455.41,1294.17 1469.32,1292.99 1483.24,1292.33 1497.15,1291.86 1511.06,1291.37 1524.97,1290.41 1538.88,1289.97 1552.8,1289.54 1566.71,1289.17 1580.62,1288.82 \n",
       "  1594.53,1288.51 1608.45,1288.2 1622.36,1287.86 1636.27,1287.62 1650.18,1287.59 1664.1,1287.88 1678.01,1288.24 1691.92,1288.64 1705.83,1289.08 1719.74,1288.7 \n",
       "  1733.66,1288.33 1747.57,1288.04 1761.48,1288.09 1775.39,1288.34 1789.31,1287.86 1803.22,1287.29 1817.13,1287.18 1831.04,1286.92 1844.96,1286.62 1858.87,1286.73 \n",
       "  1872.78,1286.38 1886.69,1285.76 1900.61,1284.9 1914.52,1283.85 1928.43,1283.14 1942.34,1282.58 1956.25,1281.79 1970.17,1281.42 1984.08,1280.76 1997.99,1279.99 \n",
       "  2011.9,1279.23 2025.82,1278.85 2039.73,1278.74 2053.64,1278.54 2067.55,1278.13 2081.47,1277.98 2095.38,1277.94 2109.29,1278.1 2123.2,1278.13 2137.11,1278.48 \n",
       "  2151.03,1278.91 2164.94,1279.43 2178.85,1279.95 2192.76,1280.1 2206.68,1280.66 2220.59,1281.6 2234.5,1282.22 2248.41,1283.02 2262.33,1283.79 2276.24,1284.4 \n",
       "  2290.15,1285.06 \n",
       "  \"/>\n",
       "<polyline clip-path=\"url(#clip302)\" style=\"stroke:#e26f46; stroke-linecap:round; stroke-linejoin:round; stroke-width:4; stroke-opacity:1; fill:none\" points=\"\n",
       "  203.301,1442.04 217.213,1423.05 231.126,1380.5 245.038,1344.79 258.95,1324.17 272.863,1313.51 286.775,1308.99 300.687,1301.86 314.6,1300.69 328.512,1294.21 \n",
       "  342.424,1285.81 356.337,1277.05 370.249,1270.4 384.161,1260.91 398.074,1251.7 411.986,1245.68 425.898,1239.8 439.811,1235.4 453.723,1230.74 467.635,1222.17 \n",
       "  481.548,1214.78 495.46,1207.92 509.372,1197.03 523.285,1189.66 537.197,1184.75 551.109,1178.84 565.022,1173.81 578.934,1169.59 592.846,1166.69 606.759,1163.89 \n",
       "  620.671,1161.71 634.583,1161.65 648.496,1161.99 662.408,1161.39 676.32,1159.88 690.233,1158.9 704.145,1157.39 718.057,1155.55 731.97,1153.32 745.882,1152.18 \n",
       "  759.794,1149.29 773.707,1147.75 787.619,1146.63 801.531,1145.26 815.444,1144.14 829.356,1144.81 843.268,1144.99 857.181,1145.46 871.093,1145.15 885.005,1143.71 \n",
       "  898.917,1142.63 912.83,1141.64 926.742,1140.6 940.654,1140.37 954.567,1138.88 968.479,1138.09 982.391,1137.63 996.304,1136.57 1010.22,1135.61 1024.13,1134.92 \n",
       "  1038.04,1133.54 1051.95,1132.53 1065.87,1131.63 1079.78,1130.71 1093.69,1128.81 1107.6,1126.8 1121.51,1124.8 1135.43,1123.31 1149.34,1122.22 1163.25,1120.32 \n",
       "  1177.16,1118.89 1191.08,1118.39 1204.99,1117.45 1218.9,1116.02 1232.81,1115.53 1246.73,1114.21 1260.64,1113.49 1274.55,1112.43 1288.46,1112.84 1302.38,1113.56 \n",
       "  1316.29,1113.79 1330.2,1113.58 1344.11,1113.27 1358.02,1113.1 1371.94,1112.86 1385.85,1112.52 1399.76,1111.3 1413.67,1110 1427.59,1108.61 1441.5,1107.19 \n",
       "  1455.41,1105.91 1469.32,1105.36 1483.24,1105.57 1497.15,1105.72 1511.06,1106.05 1524.97,1106.57 1538.88,1107.74 1552.8,1108.58 1566.71,1109.14 1580.62,1109.59 \n",
       "  1594.53,1110.01 1608.45,1110.15 1622.36,1110.26 1636.27,1110.3 1650.18,1110.08 1664.1,1109.33 1678.01,1108.76 1691.92,1108.31 1705.83,1107.45 1719.74,1106.36 \n",
       "  1733.66,1105.4 1747.57,1105.06 1761.48,1104.89 1775.39,1104.94 1789.31,1105.23 1803.22,1105.74 1817.13,1105.58 1831.04,1105.38 1844.96,1104.93 1858.87,1104.57 \n",
       "  1872.78,1104.06 1886.69,1103.86 1900.61,1104.14 1914.52,1104.53 1928.43,1104.72 1942.34,1105.01 1956.25,1104.81 1970.17,1104.13 1984.08,1103.31 1997.99,1102.87 \n",
       "  2011.9,1102.35 2025.82,1101.77 2039.73,1101.24 2053.64,1100.56 2067.55,1100.36 2081.47,1099.9 2095.38,1099.45 2109.29,1099.4 2123.2,1099.48 2137.11,1099.63 \n",
       "  2151.03,1100.16 2164.94,1100.29 2178.85,1100.65 2192.76,1101.08 2206.68,1101.12 2220.59,1101.18 2234.5,1101.3 2248.41,1101.39 2262.33,1100.91 2276.24,1100.49 \n",
       "  2290.15,1099.85 \n",
       "  \"/>\n",
       "<polyline clip-path=\"url(#clip302)\" style=\"stroke:#3da44d; stroke-linecap:round; stroke-linejoin:round; stroke-width:4; stroke-opacity:1; fill:none\" points=\"\n",
       "  203.301,1442.04 217.213,1445.72 231.126,1400.1 245.038,1367.39 258.95,1329.31 272.863,1292.44 286.775,1260.81 300.687,1236.31 314.6,1212.14 328.512,1187.57 \n",
       "  342.424,1165.41 356.337,1147.75 370.249,1128.89 384.161,1107.96 398.074,1086.7 411.986,1069.38 425.898,1053.37 439.811,1037.58 453.723,1021.06 467.635,1007.38 \n",
       "  481.548,996.975 495.46,986.45 509.372,975.277 523.285,964.084 537.197,954.212 551.109,943.825 565.022,931.122 578.934,918.13 592.846,905.042 606.759,891.143 \n",
       "  620.671,878.926 634.583,864.33 648.496,849.271 662.408,835.686 676.32,822.657 690.233,810.866 704.145,799.73 718.057,788.411 731.97,776.839 745.882,766.324 \n",
       "  759.794,755.293 773.707,744.596 787.619,733.801 801.531,723.628 815.444,714.515 829.356,705.138 843.268,695.825 857.181,685.432 871.093,676.009 885.005,665.664 \n",
       "  898.917,656.59 912.83,648.086 926.742,639.966 940.654,630.918 954.567,622.058 968.479,614.308 982.391,605.943 996.304,598.194 1010.22,590.915 1024.13,582.975 \n",
       "  1038.04,575.086 1051.95,567.234 1065.87,558.565 1079.78,550.051 1093.69,542.014 1107.6,533.241 1121.51,524.282 1135.43,516.346 1149.34,508.601 1163.25,500.43 \n",
       "  1177.16,492.557 1191.08,485.013 1204.99,477.905 1218.9,470.569 1232.81,463.423 1246.73,457.286 1260.64,451.685 1274.55,446.635 1288.46,441.329 1302.38,434.944 \n",
       "  1316.29,428.479 1330.2,421.736 1344.11,415.262 1358.02,409.14 1371.94,402.641 1385.85,395.779 1399.76,388.561 1413.67,381.168 1427.59,374.092 1441.5,366.489 \n",
       "  1455.41,358.912 1469.32,351.97 1483.24,345.334 1497.15,338.757 1511.06,331.348 1524.97,324.774 1538.88,318.417 1552.8,311.64 1566.71,304.826 1580.62,298.569 \n",
       "  1594.53,292.418 1608.45,286.979 1622.36,281.957 1636.27,277.437 1650.18,272.857 1664.1,268.279 1678.01,263.589 1691.92,258.936 1705.83,254.988 1719.74,251.059 \n",
       "  1733.66,247.643 1747.57,243.917 1761.48,240.504 1775.39,236.803 1789.31,233.013 1803.22,228.549 1817.13,223.754 1831.04,219.063 1844.96,214.466 1858.87,210.13 \n",
       "  1872.78,206.341 1886.69,202.861 1900.61,199.02 1914.52,195.031 1928.43,191.228 1942.34,187.326 1956.25,183.68 1970.17,179.83 1984.08,175.579 1997.99,171.362 \n",
       "  2011.9,167.235 2025.82,163.054 2039.73,158.884 2053.64,154.582 2067.55,150.02 2081.47,145.662 2095.38,141.29 2109.29,137.1 2123.2,132.841 2137.11,128.661 \n",
       "  2151.03,124.361 2164.94,120.024 2178.85,115.913 2192.76,111.683 2206.68,107.63 2220.59,103.61 2234.5,99.9383 2248.41,96.7429 2262.33,93.6613 2276.24,90.7524 \n",
       "  2290.15,87.9763 \n",
       "  \"/>\n",
       "<path clip-path=\"url(#clip300)\" d=\"\n",
       "M214.431 302.578 L731.978 302.578 L731.978 95.2176 L214.431 95.2176  Z\n",
       "  \" fill=\"#ffffff\" fill-rule=\"evenodd\" fill-opacity=\"1\"/>\n",
       "<polyline clip-path=\"url(#clip300)\" style=\"stroke:#000000; stroke-linecap:round; stroke-linejoin:round; stroke-width:4; stroke-opacity:1; fill:none\" points=\"\n",
       "  214.431,302.578 731.978,302.578 731.978,95.2176 214.431,95.2176 214.431,302.578 \n",
       "  \"/>\n",
       "<polyline clip-path=\"url(#clip300)\" style=\"stroke:#009af9; stroke-linecap:round; stroke-linejoin:round; stroke-width:4; stroke-opacity:1; fill:none\" points=\"\n",
       "  239.009,147.058 386.48,147.058 \n",
       "  \"/>\n",
       "<path clip-path=\"url(#clip300)\" d=\"M418.466 131.051 L418.466 138.412 L427.239 138.412 L427.239 141.722 L418.466 141.722 L418.466 155.796 Q418.466 158.967 419.322 159.87 Q420.202 160.773 422.864 160.773 L427.239 160.773 L427.239 164.338 L422.864 164.338 Q417.933 164.338 416.058 162.509 Q414.183 160.657 414.183 155.796 L414.183 141.722 L411.058 141.722 L411.058 138.412 L414.183 138.412 L414.183 131.051 L418.466 131.051 Z\" fill=\"#000000\" fill-rule=\"evenodd\" fill-opacity=\"1\" /><path clip-path=\"url(#clip300)\" d=\"M454.392 148.689 L454.392 164.338 L450.132 164.338 L450.132 148.828 Q450.132 145.148 448.697 143.319 Q447.262 141.49 444.392 141.49 Q440.943 141.49 438.952 143.69 Q436.961 145.889 436.961 149.685 L436.961 164.338 L432.679 164.338 L432.679 128.319 L436.961 128.319 L436.961 142.44 Q438.489 140.102 440.549 138.944 Q442.632 137.787 445.341 137.787 Q449.808 137.787 452.1 140.565 Q454.392 143.319 454.392 148.689 Z\" fill=\"#000000\" fill-rule=\"evenodd\" fill-opacity=\"1\" /><path clip-path=\"url(#clip300)\" d=\"M485.063 150.31 L485.063 152.393 L465.479 152.393 Q465.757 156.791 468.118 159.106 Q470.503 161.398 474.739 161.398 Q477.192 161.398 479.484 160.796 Q481.799 160.194 484.067 158.99 L484.067 163.018 Q481.776 163.99 479.368 164.5 Q476.961 165.009 474.484 165.009 Q468.28 165.009 464.646 161.398 Q461.035 157.787 461.035 151.629 Q461.035 145.264 464.461 141.537 Q467.91 137.787 473.743 137.787 Q478.975 137.787 482.007 141.166 Q485.063 144.523 485.063 150.31 M480.803 149.06 Q480.757 145.565 478.836 143.481 Q476.938 141.398 473.79 141.398 Q470.225 141.398 468.072 143.412 Q465.942 145.426 465.618 149.083 L480.803 149.06 Z\" fill=\"#000000\" fill-rule=\"evenodd\" fill-opacity=\"1\" /><path clip-path=\"url(#clip300)\" d=\"M496.266 131.051 L496.266 138.412 L505.039 138.412 L505.039 141.722 L496.266 141.722 L496.266 155.796 Q496.266 158.967 497.123 159.87 Q498.002 160.773 500.664 160.773 L505.039 160.773 L505.039 164.338 L500.664 164.338 Q495.734 164.338 493.859 162.509 Q491.984 160.657 491.984 155.796 L491.984 141.722 L488.859 141.722 L488.859 138.412 L491.984 138.412 L491.984 131.051 L496.266 131.051 Z\" fill=\"#000000\" fill-rule=\"evenodd\" fill-opacity=\"1\" /><path clip-path=\"url(#clip300)\" d=\"M522.424 151.305 Q517.262 151.305 515.271 152.486 Q513.28 153.666 513.28 156.514 Q513.28 158.782 514.762 160.125 Q516.266 161.444 518.836 161.444 Q522.377 161.444 524.507 158.944 Q526.66 156.421 526.66 152.254 L526.66 151.305 L522.424 151.305 M530.919 149.546 L530.919 164.338 L526.66 164.338 L526.66 160.402 Q525.201 162.763 523.025 163.898 Q520.85 165.009 517.701 165.009 Q513.72 165.009 511.359 162.787 Q509.021 160.541 509.021 156.791 Q509.021 152.416 511.938 150.194 Q514.877 147.972 520.688 147.972 L526.66 147.972 L526.66 147.555 Q526.66 144.615 524.715 143.018 Q522.794 141.398 519.299 141.398 Q517.076 141.398 514.97 141.93 Q512.863 142.463 510.919 143.527 L510.919 139.592 Q513.257 138.69 515.456 138.25 Q517.655 137.787 519.738 137.787 Q525.363 137.787 528.141 140.703 Q530.919 143.62 530.919 149.546 Z\" fill=\"#000000\" fill-rule=\"evenodd\" fill-opacity=\"1\" /><path clip-path=\"url(#clip300)\" d=\"M555.317 142.81 L584.993 142.81 L584.993 146.699 L555.317 146.699 L555.317 142.81 M555.317 152.254 L584.993 152.254 L584.993 156.189 L555.317 156.189 L555.317 152.254 Z\" fill=\"#000000\" fill-rule=\"evenodd\" fill-opacity=\"1\" /><path clip-path=\"url(#clip300)\" d=\"M620.155 132.856 Q616.543 132.856 614.715 136.421 Q612.909 139.963 612.909 147.092 Q612.909 154.199 614.715 157.764 Q616.543 161.305 620.155 161.305 Q623.789 161.305 625.594 157.764 Q627.423 154.199 627.423 147.092 Q627.423 139.963 625.594 136.421 Q623.789 132.856 620.155 132.856 M620.155 129.153 Q625.965 129.153 629.02 133.759 Q632.099 138.342 632.099 147.092 Q632.099 155.819 629.02 160.426 Q625.965 165.009 620.155 165.009 Q614.344 165.009 611.266 160.426 Q608.21 155.819 608.21 147.092 Q608.21 138.342 611.266 133.759 Q614.344 129.153 620.155 129.153 Z\" fill=\"#000000\" fill-rule=\"evenodd\" fill-opacity=\"1\" /><path clip-path=\"url(#clip300)\" d=\"M640.317 158.458 L645.201 158.458 L645.201 164.338 L640.317 164.338 L640.317 158.458 Z\" fill=\"#000000\" fill-rule=\"evenodd\" fill-opacity=\"1\" /><path clip-path=\"url(#clip300)\" d=\"M665.386 147.926 Q662.053 147.926 660.131 149.708 Q658.233 151.49 658.233 154.615 Q658.233 157.74 660.131 159.523 Q662.053 161.305 665.386 161.305 Q668.719 161.305 670.64 159.523 Q672.562 157.717 672.562 154.615 Q672.562 151.49 670.64 149.708 Q668.742 147.926 665.386 147.926 M660.71 145.935 Q657.701 145.194 656.011 143.134 Q654.344 141.074 654.344 138.111 Q654.344 133.967 657.284 131.56 Q660.247 129.153 665.386 129.153 Q670.548 129.153 673.488 131.56 Q676.427 133.967 676.427 138.111 Q676.427 141.074 674.738 143.134 Q673.071 145.194 670.085 145.935 Q673.464 146.722 675.339 149.014 Q677.238 151.305 677.238 154.615 Q677.238 159.639 674.159 162.324 Q671.103 165.009 665.386 165.009 Q659.668 165.009 656.59 162.324 Q653.534 159.639 653.534 154.615 Q653.534 151.305 655.432 149.014 Q657.33 146.722 660.71 145.935 M658.997 138.551 Q658.997 141.236 660.664 142.74 Q662.353 144.245 665.386 144.245 Q668.395 144.245 670.085 142.74 Q671.798 141.236 671.798 138.551 Q671.798 135.865 670.085 134.361 Q668.395 132.856 665.386 132.856 Q662.353 132.856 660.664 134.361 Q658.997 135.865 658.997 138.551 Z\" fill=\"#000000\" fill-rule=\"evenodd\" fill-opacity=\"1\" /><polyline clip-path=\"url(#clip300)\" style=\"stroke:#e26f46; stroke-linecap:round; stroke-linejoin:round; stroke-width:4; stroke-opacity:1; fill:none\" points=\"\n",
       "  239.009,198.898 386.48,198.898 \n",
       "  \"/>\n",
       "<path clip-path=\"url(#clip300)\" d=\"M418.466 182.891 L418.466 190.252 L427.239 190.252 L427.239 193.562 L418.466 193.562 L418.466 207.636 Q418.466 210.807 419.322 211.71 Q420.202 212.613 422.864 212.613 L427.239 212.613 L427.239 216.178 L422.864 216.178 Q417.933 216.178 416.058 214.349 Q414.183 212.497 414.183 207.636 L414.183 193.562 L411.058 193.562 L411.058 190.252 L414.183 190.252 L414.183 182.891 L418.466 182.891 Z\" fill=\"#000000\" fill-rule=\"evenodd\" fill-opacity=\"1\" /><path clip-path=\"url(#clip300)\" d=\"M454.392 200.529 L454.392 216.178 L450.132 216.178 L450.132 200.668 Q450.132 196.988 448.697 195.159 Q447.262 193.33 444.392 193.33 Q440.943 193.33 438.952 195.53 Q436.961 197.729 436.961 201.525 L436.961 216.178 L432.679 216.178 L432.679 180.159 L436.961 180.159 L436.961 194.28 Q438.489 191.942 440.549 190.784 Q442.632 189.627 445.341 189.627 Q449.808 189.627 452.1 192.405 Q454.392 195.159 454.392 200.529 Z\" fill=\"#000000\" fill-rule=\"evenodd\" fill-opacity=\"1\" /><path clip-path=\"url(#clip300)\" d=\"M485.063 202.15 L485.063 204.233 L465.479 204.233 Q465.757 208.631 468.118 210.946 Q470.503 213.238 474.739 213.238 Q477.192 213.238 479.484 212.636 Q481.799 212.034 484.067 210.83 L484.067 214.858 Q481.776 215.83 479.368 216.34 Q476.961 216.849 474.484 216.849 Q468.28 216.849 464.646 213.238 Q461.035 209.627 461.035 203.469 Q461.035 197.104 464.461 193.377 Q467.91 189.627 473.743 189.627 Q478.975 189.627 482.007 193.006 Q485.063 196.363 485.063 202.15 M480.803 200.9 Q480.757 197.405 478.836 195.321 Q476.938 193.238 473.79 193.238 Q470.225 193.238 468.072 195.252 Q465.942 197.266 465.618 200.923 L480.803 200.9 Z\" fill=\"#000000\" fill-rule=\"evenodd\" fill-opacity=\"1\" /><path clip-path=\"url(#clip300)\" d=\"M496.266 182.891 L496.266 190.252 L505.039 190.252 L505.039 193.562 L496.266 193.562 L496.266 207.636 Q496.266 210.807 497.123 211.71 Q498.002 212.613 500.664 212.613 L505.039 212.613 L505.039 216.178 L500.664 216.178 Q495.734 216.178 493.859 214.349 Q491.984 212.497 491.984 207.636 L491.984 193.562 L488.859 193.562 L488.859 190.252 L491.984 190.252 L491.984 182.891 L496.266 182.891 Z\" fill=\"#000000\" fill-rule=\"evenodd\" fill-opacity=\"1\" /><path clip-path=\"url(#clip300)\" d=\"M522.424 203.145 Q517.262 203.145 515.271 204.326 Q513.28 205.506 513.28 208.354 Q513.28 210.622 514.762 211.965 Q516.266 213.284 518.836 213.284 Q522.377 213.284 524.507 210.784 Q526.66 208.261 526.66 204.094 L526.66 203.145 L522.424 203.145 M530.919 201.386 L530.919 216.178 L526.66 216.178 L526.66 212.242 Q525.201 214.603 523.025 215.738 Q520.85 216.849 517.701 216.849 Q513.72 216.849 511.359 214.627 Q509.021 212.381 509.021 208.631 Q509.021 204.256 511.938 202.034 Q514.877 199.812 520.688 199.812 L526.66 199.812 L526.66 199.395 Q526.66 196.455 524.715 194.858 Q522.794 193.238 519.299 193.238 Q517.076 193.238 514.97 193.77 Q512.863 194.303 510.919 195.367 L510.919 191.432 Q513.257 190.53 515.456 190.09 Q517.655 189.627 519.738 189.627 Q525.363 189.627 528.141 192.543 Q530.919 195.46 530.919 201.386 Z\" fill=\"#000000\" fill-rule=\"evenodd\" fill-opacity=\"1\" /><path clip-path=\"url(#clip300)\" d=\"M555.317 194.65 L584.993 194.65 L584.993 198.539 L555.317 198.539 L555.317 194.65 M555.317 204.094 L584.993 204.094 L584.993 208.029 L555.317 208.029 L555.317 204.094 Z\" fill=\"#000000\" fill-rule=\"evenodd\" fill-opacity=\"1\" /><path clip-path=\"url(#clip300)\" d=\"M620.155 184.696 Q616.543 184.696 614.715 188.261 Q612.909 191.803 612.909 198.932 Q612.909 206.039 614.715 209.604 Q616.543 213.145 620.155 213.145 Q623.789 213.145 625.594 209.604 Q627.423 206.039 627.423 198.932 Q627.423 191.803 625.594 188.261 Q623.789 184.696 620.155 184.696 M620.155 180.993 Q625.965 180.993 629.02 185.599 Q632.099 190.182 632.099 198.932 Q632.099 207.659 629.02 212.266 Q625.965 216.849 620.155 216.849 Q614.344 216.849 611.266 212.266 Q608.21 207.659 608.21 198.932 Q608.21 190.182 611.266 185.599 Q614.344 180.993 620.155 180.993 Z\" fill=\"#000000\" fill-rule=\"evenodd\" fill-opacity=\"1\" /><path clip-path=\"url(#clip300)\" d=\"M640.317 210.298 L645.201 210.298 L645.201 216.178 L640.317 216.178 L640.317 210.298 Z\" fill=\"#000000\" fill-rule=\"evenodd\" fill-opacity=\"1\" /><path clip-path=\"url(#clip300)\" d=\"M665.386 199.766 Q662.053 199.766 660.131 201.548 Q658.233 203.33 658.233 206.455 Q658.233 209.58 660.131 211.363 Q662.053 213.145 665.386 213.145 Q668.719 213.145 670.64 211.363 Q672.562 209.557 672.562 206.455 Q672.562 203.33 670.64 201.548 Q668.742 199.766 665.386 199.766 M660.71 197.775 Q657.701 197.034 656.011 194.974 Q654.344 192.914 654.344 189.951 Q654.344 185.807 657.284 183.4 Q660.247 180.993 665.386 180.993 Q670.548 180.993 673.488 183.4 Q676.427 185.807 676.427 189.951 Q676.427 192.914 674.738 194.974 Q673.071 197.034 670.085 197.775 Q673.464 198.562 675.339 200.854 Q677.238 203.145 677.238 206.455 Q677.238 211.479 674.159 214.164 Q671.103 216.849 665.386 216.849 Q659.668 216.849 656.59 214.164 Q653.534 211.479 653.534 206.455 Q653.534 203.145 655.432 200.854 Q657.33 198.562 660.71 197.775 M658.997 190.391 Q658.997 193.076 660.664 194.58 Q662.353 196.085 665.386 196.085 Q668.395 196.085 670.085 194.58 Q671.798 193.076 671.798 190.391 Q671.798 187.705 670.085 186.201 Q668.395 184.696 665.386 184.696 Q662.353 184.696 660.664 186.201 Q658.997 187.705 658.997 190.391 Z\" fill=\"#000000\" fill-rule=\"evenodd\" fill-opacity=\"1\" /><polyline clip-path=\"url(#clip300)\" style=\"stroke:#3da44d; stroke-linecap:round; stroke-linejoin:round; stroke-width:4; stroke-opacity:1; fill:none\" points=\"\n",
       "  239.009,250.738 386.48,250.738 \n",
       "  \"/>\n",
       "<path clip-path=\"url(#clip300)\" d=\"M418.466 234.731 L418.466 242.092 L427.239 242.092 L427.239 245.402 L418.466 245.402 L418.466 259.476 Q418.466 262.647 419.322 263.55 Q420.202 264.453 422.864 264.453 L427.239 264.453 L427.239 268.018 L422.864 268.018 Q417.933 268.018 416.058 266.189 Q414.183 264.337 414.183 259.476 L414.183 245.402 L411.058 245.402 L411.058 242.092 L414.183 242.092 L414.183 234.731 L418.466 234.731 Z\" fill=\"#000000\" fill-rule=\"evenodd\" fill-opacity=\"1\" /><path clip-path=\"url(#clip300)\" d=\"M454.392 252.369 L454.392 268.018 L450.132 268.018 L450.132 252.508 Q450.132 248.828 448.697 246.999 Q447.262 245.17 444.392 245.17 Q440.943 245.17 438.952 247.37 Q436.961 249.569 436.961 253.365 L436.961 268.018 L432.679 268.018 L432.679 231.999 L436.961 231.999 L436.961 246.12 Q438.489 243.782 440.549 242.624 Q442.632 241.467 445.341 241.467 Q449.808 241.467 452.1 244.245 Q454.392 246.999 454.392 252.369 Z\" fill=\"#000000\" fill-rule=\"evenodd\" fill-opacity=\"1\" /><path clip-path=\"url(#clip300)\" d=\"M485.063 253.99 L485.063 256.073 L465.479 256.073 Q465.757 260.471 468.118 262.786 Q470.503 265.078 474.739 265.078 Q477.192 265.078 479.484 264.476 Q481.799 263.874 484.067 262.67 L484.067 266.698 Q481.776 267.67 479.368 268.18 Q476.961 268.689 474.484 268.689 Q468.28 268.689 464.646 265.078 Q461.035 261.467 461.035 255.309 Q461.035 248.944 464.461 245.217 Q467.91 241.467 473.743 241.467 Q478.975 241.467 482.007 244.846 Q485.063 248.203 485.063 253.99 M480.803 252.74 Q480.757 249.245 478.836 247.161 Q476.938 245.078 473.79 245.078 Q470.225 245.078 468.072 247.092 Q465.942 249.106 465.618 252.763 L480.803 252.74 Z\" fill=\"#000000\" fill-rule=\"evenodd\" fill-opacity=\"1\" /><path clip-path=\"url(#clip300)\" d=\"M496.266 234.731 L496.266 242.092 L505.039 242.092 L505.039 245.402 L496.266 245.402 L496.266 259.476 Q496.266 262.647 497.123 263.55 Q498.002 264.453 500.664 264.453 L505.039 264.453 L505.039 268.018 L500.664 268.018 Q495.734 268.018 493.859 266.189 Q491.984 264.337 491.984 259.476 L491.984 245.402 L488.859 245.402 L488.859 242.092 L491.984 242.092 L491.984 234.731 L496.266 234.731 Z\" fill=\"#000000\" fill-rule=\"evenodd\" fill-opacity=\"1\" /><path clip-path=\"url(#clip300)\" d=\"M522.424 254.985 Q517.262 254.985 515.271 256.166 Q513.28 257.346 513.28 260.194 Q513.28 262.462 514.762 263.805 Q516.266 265.124 518.836 265.124 Q522.377 265.124 524.507 262.624 Q526.66 260.101 526.66 255.934 L526.66 254.985 L522.424 254.985 M530.919 253.226 L530.919 268.018 L526.66 268.018 L526.66 264.082 Q525.201 266.443 523.025 267.578 Q520.85 268.689 517.701 268.689 Q513.72 268.689 511.359 266.467 Q509.021 264.221 509.021 260.471 Q509.021 256.096 511.938 253.874 Q514.877 251.652 520.688 251.652 L526.66 251.652 L526.66 251.235 Q526.66 248.295 524.715 246.698 Q522.794 245.078 519.299 245.078 Q517.076 245.078 514.97 245.61 Q512.863 246.143 510.919 247.207 L510.919 243.272 Q513.257 242.37 515.456 241.93 Q517.655 241.467 519.738 241.467 Q525.363 241.467 528.141 244.383 Q530.919 247.3 530.919 253.226 Z\" fill=\"#000000\" fill-rule=\"evenodd\" fill-opacity=\"1\" /><path clip-path=\"url(#clip300)\" d=\"M555.317 246.49 L584.993 246.49 L584.993 250.379 L555.317 250.379 L555.317 246.49 M555.317 255.934 L584.993 255.934 L584.993 259.869 L555.317 259.869 L555.317 255.934 Z\" fill=\"#000000\" fill-rule=\"evenodd\" fill-opacity=\"1\" /><path clip-path=\"url(#clip300)\" d=\"M620.155 236.536 Q616.543 236.536 614.715 240.101 Q612.909 243.643 612.909 250.772 Q612.909 257.879 614.715 261.444 Q616.543 264.985 620.155 264.985 Q623.789 264.985 625.594 261.444 Q627.423 257.879 627.423 250.772 Q627.423 243.643 625.594 240.101 Q623.789 236.536 620.155 236.536 M620.155 232.833 Q625.965 232.833 629.02 237.439 Q632.099 242.022 632.099 250.772 Q632.099 259.499 629.02 264.106 Q625.965 268.689 620.155 268.689 Q614.344 268.689 611.266 264.106 Q608.21 259.499 608.21 250.772 Q608.21 242.022 611.266 237.439 Q614.344 232.833 620.155 232.833 Z\" fill=\"#000000\" fill-rule=\"evenodd\" fill-opacity=\"1\" /><path clip-path=\"url(#clip300)\" d=\"M640.317 262.138 L645.201 262.138 L645.201 268.018 L640.317 268.018 L640.317 262.138 Z\" fill=\"#000000\" fill-rule=\"evenodd\" fill-opacity=\"1\" /><path clip-path=\"url(#clip300)\" d=\"M655.525 267.3 L655.525 263.041 Q657.284 263.874 659.09 264.314 Q660.895 264.754 662.631 264.754 Q667.261 264.754 669.691 261.652 Q672.145 258.527 672.492 252.184 Q671.15 254.175 669.09 255.24 Q667.029 256.305 664.529 256.305 Q659.344 256.305 656.312 253.18 Q653.303 250.032 653.303 244.592 Q653.303 239.268 656.451 236.05 Q659.599 232.833 664.83 232.833 Q670.826 232.833 673.974 237.439 Q677.145 242.022 677.145 250.772 Q677.145 258.944 673.256 263.828 Q669.39 268.689 662.84 268.689 Q661.08 268.689 659.275 268.342 Q657.469 267.994 655.525 267.3 M664.83 252.647 Q667.978 252.647 669.807 250.494 Q671.659 248.342 671.659 244.592 Q671.659 240.865 669.807 238.712 Q667.978 236.536 664.83 236.536 Q661.682 236.536 659.83 238.712 Q658.002 240.865 658.002 244.592 Q658.002 248.342 659.83 250.494 Q661.682 252.647 664.83 252.647 Z\" fill=\"#000000\" fill-rule=\"evenodd\" fill-opacity=\"1\" /><path clip-path=\"url(#clip300)\" d=\"M695.548 251.606 Q692.214 251.606 690.293 253.388 Q688.395 255.17 688.395 258.295 Q688.395 261.42 690.293 263.203 Q692.214 264.985 695.548 264.985 Q698.881 264.985 700.802 263.203 Q702.724 261.397 702.724 258.295 Q702.724 255.17 700.802 253.388 Q698.904 251.606 695.548 251.606 M690.872 249.615 Q687.863 248.874 686.173 246.814 Q684.506 244.754 684.506 241.791 Q684.506 237.647 687.446 235.24 Q690.409 232.833 695.548 232.833 Q700.71 232.833 703.65 235.24 Q706.589 237.647 706.589 241.791 Q706.589 244.754 704.899 246.814 Q703.233 248.874 700.247 249.615 Q703.626 250.402 705.501 252.694 Q707.399 254.985 707.399 258.295 Q707.399 263.319 704.321 266.004 Q701.265 268.689 695.548 268.689 Q689.83 268.689 686.751 266.004 Q683.696 263.319 683.696 258.295 Q683.696 254.985 685.594 252.694 Q687.492 250.402 690.872 249.615 M689.159 242.231 Q689.159 244.916 690.825 246.42 Q692.515 247.925 695.548 247.925 Q698.557 247.925 700.247 246.42 Q701.96 244.916 701.96 242.231 Q701.96 239.545 700.247 238.041 Q698.557 236.536 695.548 236.536 Q692.515 236.536 690.825 238.041 Q689.159 239.545 689.159 242.231 Z\" fill=\"#000000\" fill-rule=\"evenodd\" fill-opacity=\"1\" /></svg>\n"
      ]
     },
     "execution_count": 171,
     "metadata": {},
     "output_type": "execute_result"
    }
   ],
   "source": [
    "function stochastic_process(theta, gamma=1, sigma=1, y_0=0, T=150)\n",
    "    y = [0.0]\n",
    "    for _ = 1:T\n",
    "        w = randn()\n",
    "        append!(y, gamma + theta*y[end] + sigma*w)\n",
    "    end\n",
    "    return y\n",
    "end\n",
    "\n",
    "theta08 = stochastic_process(0.8)\n",
    "theta09 = stochastic_process(0.9)\n",
    "theta098 = stochastic_process(0.98)\n",
    "\n",
    "rolling_mean_theta08 = [0.0]\n",
    "rolling_mean_theta09 = [0.0]\n",
    "rolling_mean_theta098 = [0.0]\n",
    "cum_theta08 = 0\n",
    "cum_theta09 = 0\n",
    "cum_theta098 = 0\n",
    "T = 150\n",
    "for tau = 1:T\n",
    "    cum_theta08 += theta08[tau+1]\n",
    "    append!(rolling_mean_theta08, cum_theta08/tau)\n",
    "    cum_theta09 += theta09[tau+1]\n",
    "    append!(rolling_mean_theta09, cum_theta09/tau)\n",
    "    cum_theta098 += theta098[tau+1]\n",
    "    append!(rolling_mean_theta098, cum_theta098/tau)\n",
    "end\n",
    "\n",
    "plt2 = plot(rolling_mean_theta08, label=\"theta = 0.8\")\n",
    "plot!(plt2, rolling_mean_theta09, label=\"theta = 0.8\")\n",
    "plot!(plt2, rolling_mean_theta098, label=\"theta = 0.98\")"
   ]
  },
  {
   "cell_type": "code",
   "execution_count": 183,
   "id": "32bac73e",
   "metadata": {},
   "outputs": [
    {
     "data": {
      "image/svg+xml": [
       "<?xml version=\"1.0\" encoding=\"utf-8\"?>\n",
       "<svg xmlns=\"http://www.w3.org/2000/svg\" xmlns:xlink=\"http://www.w3.org/1999/xlink\" width=\"600\" height=\"400\" viewBox=\"0 0 2400 1600\">\n",
       "<defs>\n",
       "  <clipPath id=\"clip460\">\n",
       "    <rect x=\"0\" y=\"0\" width=\"2400\" height=\"1600\"/>\n",
       "  </clipPath>\n",
       "</defs>\n",
       "<path clip-path=\"url(#clip460)\" d=\"\n",
       "M0 1600 L2400 1600 L2400 0 L0 0  Z\n",
       "  \" fill=\"#ffffff\" fill-rule=\"evenodd\" fill-opacity=\"1\"/>\n",
       "<defs>\n",
       "  <clipPath id=\"clip461\">\n",
       "    <rect x=\"480\" y=\"0\" width=\"1681\" height=\"1600\"/>\n",
       "  </clipPath>\n",
       "</defs>\n",
       "<path clip-path=\"url(#clip460)\" d=\"\n",
       "M141.853 1486.45 L2352.76 1486.45 L2352.76 47.2441 L141.853 47.2441  Z\n",
       "  \" fill=\"#ffffff\" fill-rule=\"evenodd\" fill-opacity=\"1\"/>\n",
       "<defs>\n",
       "  <clipPath id=\"clip462\">\n",
       "    <rect x=\"141\" y=\"47\" width=\"2212\" height=\"1440\"/>\n",
       "  </clipPath>\n",
       "</defs>\n",
       "<polyline clip-path=\"url(#clip462)\" style=\"stroke:#000000; stroke-linecap:round; stroke-linejoin:round; stroke-width:2; stroke-opacity:0.1; fill:none\" points=\"\n",
       "  324.947,1486.45 324.947,47.2441 \n",
       "  \"/>\n",
       "<polyline clip-path=\"url(#clip462)\" style=\"stroke:#000000; stroke-linecap:round; stroke-linejoin:round; stroke-width:2; stroke-opacity:0.1; fill:none\" points=\"\n",
       "  632.399,1486.45 632.399,47.2441 \n",
       "  \"/>\n",
       "<polyline clip-path=\"url(#clip462)\" style=\"stroke:#000000; stroke-linecap:round; stroke-linejoin:round; stroke-width:2; stroke-opacity:0.1; fill:none\" points=\"\n",
       "  939.852,1486.45 939.852,47.2441 \n",
       "  \"/>\n",
       "<polyline clip-path=\"url(#clip462)\" style=\"stroke:#000000; stroke-linecap:round; stroke-linejoin:round; stroke-width:2; stroke-opacity:0.1; fill:none\" points=\"\n",
       "  1247.3,1486.45 1247.3,47.2441 \n",
       "  \"/>\n",
       "<polyline clip-path=\"url(#clip462)\" style=\"stroke:#000000; stroke-linecap:round; stroke-linejoin:round; stroke-width:2; stroke-opacity:0.1; fill:none\" points=\"\n",
       "  1554.76,1486.45 1554.76,47.2441 \n",
       "  \"/>\n",
       "<polyline clip-path=\"url(#clip462)\" style=\"stroke:#000000; stroke-linecap:round; stroke-linejoin:round; stroke-width:2; stroke-opacity:0.1; fill:none\" points=\"\n",
       "  1862.21,1486.45 1862.21,47.2441 \n",
       "  \"/>\n",
       "<polyline clip-path=\"url(#clip462)\" style=\"stroke:#000000; stroke-linecap:round; stroke-linejoin:round; stroke-width:2; stroke-opacity:0.1; fill:none\" points=\"\n",
       "  2169.66,1486.45 2169.66,47.2441 \n",
       "  \"/>\n",
       "<polyline clip-path=\"url(#clip460)\" style=\"stroke:#000000; stroke-linecap:round; stroke-linejoin:round; stroke-width:4; stroke-opacity:1; fill:none\" points=\"\n",
       "  141.853,1486.45 2352.76,1486.45 \n",
       "  \"/>\n",
       "<polyline clip-path=\"url(#clip460)\" style=\"stroke:#000000; stroke-linecap:round; stroke-linejoin:round; stroke-width:4; stroke-opacity:1; fill:none\" points=\"\n",
       "  324.947,1486.45 324.947,1467.55 \n",
       "  \"/>\n",
       "<polyline clip-path=\"url(#clip460)\" style=\"stroke:#000000; stroke-linecap:round; stroke-linejoin:round; stroke-width:4; stroke-opacity:1; fill:none\" points=\"\n",
       "  632.399,1486.45 632.399,1467.55 \n",
       "  \"/>\n",
       "<polyline clip-path=\"url(#clip460)\" style=\"stroke:#000000; stroke-linecap:round; stroke-linejoin:round; stroke-width:4; stroke-opacity:1; fill:none\" points=\"\n",
       "  939.852,1486.45 939.852,1467.55 \n",
       "  \"/>\n",
       "<polyline clip-path=\"url(#clip460)\" style=\"stroke:#000000; stroke-linecap:round; stroke-linejoin:round; stroke-width:4; stroke-opacity:1; fill:none\" points=\"\n",
       "  1247.3,1486.45 1247.3,1467.55 \n",
       "  \"/>\n",
       "<polyline clip-path=\"url(#clip460)\" style=\"stroke:#000000; stroke-linecap:round; stroke-linejoin:round; stroke-width:4; stroke-opacity:1; fill:none\" points=\"\n",
       "  1554.76,1486.45 1554.76,1467.55 \n",
       "  \"/>\n",
       "<polyline clip-path=\"url(#clip460)\" style=\"stroke:#000000; stroke-linecap:round; stroke-linejoin:round; stroke-width:4; stroke-opacity:1; fill:none\" points=\"\n",
       "  1862.21,1486.45 1862.21,1467.55 \n",
       "  \"/>\n",
       "<polyline clip-path=\"url(#clip460)\" style=\"stroke:#000000; stroke-linecap:round; stroke-linejoin:round; stroke-width:4; stroke-opacity:1; fill:none\" points=\"\n",
       "  2169.66,1486.45 2169.66,1467.55 \n",
       "  \"/>\n",
       "<path clip-path=\"url(#clip460)\" d=\"M314.287 1530.21 Q317.644 1530.93 319.519 1533.2 Q321.417 1535.47 321.417 1538.8 Q321.417 1543.92 317.898 1546.72 Q314.38 1549.52 307.899 1549.52 Q305.723 1549.52 303.408 1549.08 Q301.116 1548.66 298.662 1547.81 L298.662 1543.29 Q300.607 1544.43 302.922 1545.01 Q305.236 1545.58 307.76 1545.58 Q312.158 1545.58 314.449 1543.85 Q316.764 1542.11 316.764 1538.8 Q316.764 1535.75 314.611 1534.03 Q312.482 1532.3 308.662 1532.3 L304.635 1532.3 L304.635 1528.45 L308.848 1528.45 Q312.297 1528.45 314.125 1527.09 Q315.954 1525.7 315.954 1523.11 Q315.954 1520.45 314.056 1519.03 Q312.181 1517.6 308.662 1517.6 Q306.741 1517.6 304.542 1518.01 Q302.343 1518.43 299.704 1519.31 L299.704 1515.14 Q302.366 1514.4 304.681 1514.03 Q307.019 1513.66 309.079 1513.66 Q314.403 1513.66 317.505 1516.09 Q320.607 1518.5 320.607 1522.62 Q320.607 1525.49 318.963 1527.48 Q317.32 1529.45 314.287 1530.21 Z\" fill=\"#000000\" fill-rule=\"evenodd\" fill-opacity=\"1\" /><path clip-path=\"url(#clip460)\" d=\"M330.329 1514.29 L348.685 1514.29 L348.685 1518.22 L334.611 1518.22 L334.611 1526.7 Q335.63 1526.35 336.648 1526.19 Q337.667 1526 338.685 1526 Q344.472 1526 347.852 1529.17 Q351.232 1532.34 351.232 1537.76 Q351.232 1543.34 347.759 1546.44 Q344.287 1549.52 337.968 1549.52 Q335.792 1549.52 333.523 1549.15 Q331.278 1548.78 328.871 1548.04 L328.871 1543.34 Q330.954 1544.47 333.176 1545.03 Q335.398 1545.58 337.875 1545.58 Q341.88 1545.58 344.218 1543.48 Q346.556 1541.37 346.556 1537.76 Q346.556 1534.15 344.218 1532.04 Q341.88 1529.94 337.875 1529.94 Q336 1529.94 334.125 1530.35 Q332.273 1530.77 330.329 1531.65 L330.329 1514.29 Z\" fill=\"#000000\" fill-rule=\"evenodd\" fill-opacity=\"1\" /><path clip-path=\"url(#clip460)\" d=\"M620.571 1518.36 L608.765 1536.81 L620.571 1536.81 L620.571 1518.36 M619.344 1514.29 L625.224 1514.29 L625.224 1536.81 L630.154 1536.81 L630.154 1540.7 L625.224 1540.7 L625.224 1548.85 L620.571 1548.85 L620.571 1540.7 L604.969 1540.7 L604.969 1536.19 L619.344 1514.29 Z\" fill=\"#000000\" fill-rule=\"evenodd\" fill-opacity=\"1\" /><path clip-path=\"url(#clip460)\" d=\"M647.886 1517.37 Q644.274 1517.37 642.446 1520.93 Q640.64 1524.47 640.64 1531.6 Q640.64 1538.71 642.446 1542.27 Q644.274 1545.82 647.886 1545.82 Q651.52 1545.82 653.325 1542.27 Q655.154 1538.71 655.154 1531.6 Q655.154 1524.47 653.325 1520.93 Q651.52 1517.37 647.886 1517.37 M647.886 1513.66 Q653.696 1513.66 656.751 1518.27 Q659.83 1522.85 659.83 1531.6 Q659.83 1540.33 656.751 1544.94 Q653.696 1549.52 647.886 1549.52 Q642.075 1549.52 638.997 1544.94 Q635.941 1540.33 635.941 1531.6 Q635.941 1522.85 638.997 1518.27 Q642.075 1513.66 647.886 1513.66 Z\" fill=\"#000000\" fill-rule=\"evenodd\" fill-opacity=\"1\" /><path clip-path=\"url(#clip460)\" d=\"M928.521 1518.36 L916.716 1536.81 L928.521 1536.81 L928.521 1518.36 M927.294 1514.29 L933.174 1514.29 L933.174 1536.81 L938.104 1536.81 L938.104 1540.7 L933.174 1540.7 L933.174 1548.85 L928.521 1548.85 L928.521 1540.7 L912.919 1540.7 L912.919 1536.19 L927.294 1514.29 Z\" fill=\"#000000\" fill-rule=\"evenodd\" fill-opacity=\"1\" /><path clip-path=\"url(#clip460)\" d=\"M945.882 1514.29 L964.238 1514.29 L964.238 1518.22 L950.164 1518.22 L950.164 1526.7 Q951.183 1526.35 952.201 1526.19 Q953.22 1526 954.238 1526 Q960.025 1526 963.405 1529.17 Q966.785 1532.34 966.785 1537.76 Q966.785 1543.34 963.312 1546.44 Q959.84 1549.52 953.521 1549.52 Q951.345 1549.52 949.076 1549.15 Q946.831 1548.78 944.424 1548.04 L944.424 1543.34 Q946.507 1544.47 948.729 1545.03 Q950.951 1545.58 953.428 1545.58 Q957.433 1545.58 959.771 1543.48 Q962.109 1541.37 962.109 1537.76 Q962.109 1534.15 959.771 1532.04 Q957.433 1529.94 953.428 1529.94 Q951.553 1529.94 949.678 1530.35 Q947.826 1530.77 945.882 1531.65 L945.882 1514.29 Z\" fill=\"#000000\" fill-rule=\"evenodd\" fill-opacity=\"1\" /><path clip-path=\"url(#clip460)\" d=\"M1222 1514.29 L1240.36 1514.29 L1240.36 1518.22 L1226.29 1518.22 L1226.29 1526.7 Q1227.3 1526.35 1228.32 1526.19 Q1229.34 1526 1230.36 1526 Q1236.15 1526 1239.53 1529.17 Q1242.91 1532.34 1242.91 1537.76 Q1242.91 1543.34 1239.43 1546.44 Q1235.96 1549.52 1229.64 1549.52 Q1227.47 1549.52 1225.2 1549.15 Q1222.95 1548.78 1220.55 1548.04 L1220.55 1543.34 Q1222.63 1544.47 1224.85 1545.03 Q1227.07 1545.58 1229.55 1545.58 Q1233.55 1545.58 1235.89 1543.48 Q1238.23 1541.37 1238.23 1537.76 Q1238.23 1534.15 1235.89 1532.04 Q1233.55 1529.94 1229.55 1529.94 Q1227.67 1529.94 1225.8 1530.35 Q1223.95 1530.77 1222 1531.65 L1222 1514.29 Z\" fill=\"#000000\" fill-rule=\"evenodd\" fill-opacity=\"1\" /><path clip-path=\"url(#clip460)\" d=\"M1262.12 1517.37 Q1258.51 1517.37 1256.68 1520.93 Q1254.87 1524.47 1254.87 1531.6 Q1254.87 1538.71 1256.68 1542.27 Q1258.51 1545.82 1262.12 1545.82 Q1265.75 1545.82 1267.56 1542.27 Q1269.39 1538.71 1269.39 1531.6 Q1269.39 1524.47 1267.56 1520.93 Q1265.75 1517.37 1262.12 1517.37 M1262.12 1513.66 Q1267.93 1513.66 1270.98 1518.27 Q1274.06 1522.85 1274.06 1531.6 Q1274.06 1540.33 1270.98 1544.94 Q1267.93 1549.52 1262.12 1549.52 Q1256.31 1549.52 1253.23 1544.94 Q1250.17 1540.33 1250.17 1531.6 Q1250.17 1522.85 1253.23 1518.27 Q1256.31 1513.66 1262.12 1513.66 Z\" fill=\"#000000\" fill-rule=\"evenodd\" fill-opacity=\"1\" /><path clip-path=\"url(#clip460)\" d=\"M1529.95 1514.29 L1548.31 1514.29 L1548.31 1518.22 L1534.24 1518.22 L1534.24 1526.7 Q1535.25 1526.35 1536.27 1526.19 Q1537.29 1526 1538.31 1526 Q1544.1 1526 1547.48 1529.17 Q1550.86 1532.34 1550.86 1537.76 Q1550.86 1543.34 1547.38 1546.44 Q1543.91 1549.52 1537.59 1549.52 Q1535.42 1549.52 1533.15 1549.15 Q1530.9 1548.78 1528.5 1548.04 L1528.5 1543.34 Q1530.58 1544.47 1532.8 1545.03 Q1535.02 1545.58 1537.5 1545.58 Q1541.5 1545.58 1543.84 1543.48 Q1546.18 1541.37 1546.18 1537.76 Q1546.18 1534.15 1543.84 1532.04 Q1541.5 1529.94 1537.5 1529.94 Q1535.63 1529.94 1533.75 1530.35 Q1531.9 1530.77 1529.95 1531.65 L1529.95 1514.29 Z\" fill=\"#000000\" fill-rule=\"evenodd\" fill-opacity=\"1\" /><path clip-path=\"url(#clip460)\" d=\"M1560.12 1514.29 L1578.47 1514.29 L1578.47 1518.22 L1564.4 1518.22 L1564.4 1526.7 Q1565.42 1526.35 1566.44 1526.19 Q1567.45 1526 1568.47 1526 Q1574.26 1526 1577.64 1529.17 Q1581.02 1532.34 1581.02 1537.76 Q1581.02 1543.34 1577.55 1546.44 Q1574.07 1549.52 1567.75 1549.52 Q1565.58 1549.52 1563.31 1549.15 Q1561.06 1548.78 1558.66 1548.04 L1558.66 1543.34 Q1560.74 1544.47 1562.96 1545.03 Q1565.19 1545.58 1567.66 1545.58 Q1571.67 1545.58 1574 1543.48 Q1576.34 1541.37 1576.34 1537.76 Q1576.34 1534.15 1574 1532.04 Q1571.67 1529.94 1567.66 1529.94 Q1565.79 1529.94 1563.91 1530.35 Q1562.06 1530.77 1560.12 1531.65 L1560.12 1514.29 Z\" fill=\"#000000\" fill-rule=\"evenodd\" fill-opacity=\"1\" /><path clip-path=\"url(#clip460)\" d=\"M1847.61 1529.7 Q1844.47 1529.7 1842.61 1531.86 Q1840.79 1534.01 1840.79 1537.76 Q1840.79 1541.49 1842.61 1543.66 Q1844.47 1545.82 1847.61 1545.82 Q1850.76 1545.82 1852.59 1543.66 Q1854.44 1541.49 1854.44 1537.76 Q1854.44 1534.01 1852.59 1531.86 Q1850.76 1529.7 1847.61 1529.7 M1856.9 1515.05 L1856.9 1519.31 Q1855.14 1518.48 1853.33 1518.04 Q1851.55 1517.6 1849.79 1517.6 Q1845.16 1517.6 1842.71 1520.72 Q1840.28 1523.85 1839.93 1530.17 Q1841.3 1528.15 1843.36 1527.09 Q1845.42 1526 1847.89 1526 Q1853.1 1526 1856.11 1529.17 Q1859.14 1532.32 1859.14 1537.76 Q1859.14 1543.08 1855.99 1546.3 Q1852.85 1549.52 1847.61 1549.52 Q1841.62 1549.52 1838.45 1544.94 Q1835.28 1540.33 1835.28 1531.6 Q1835.28 1523.41 1839.17 1518.55 Q1843.05 1513.66 1849.61 1513.66 Q1851.36 1513.66 1853.15 1514.01 Q1854.95 1514.36 1856.9 1515.05 Z\" fill=\"#000000\" fill-rule=\"evenodd\" fill-opacity=\"1\" /><path clip-path=\"url(#clip460)\" d=\"M1877.2 1517.37 Q1873.59 1517.37 1871.76 1520.93 Q1869.95 1524.47 1869.95 1531.6 Q1869.95 1538.71 1871.76 1542.27 Q1873.59 1545.82 1877.2 1545.82 Q1880.83 1545.82 1882.64 1542.27 Q1884.47 1538.71 1884.47 1531.6 Q1884.47 1524.47 1882.64 1520.93 Q1880.83 1517.37 1877.2 1517.37 M1877.2 1513.66 Q1883.01 1513.66 1886.06 1518.27 Q1889.14 1522.85 1889.14 1531.6 Q1889.14 1540.33 1886.06 1544.94 Q1883.01 1549.52 1877.2 1549.52 Q1871.39 1549.52 1868.31 1544.94 Q1865.25 1540.33 1865.25 1531.6 Q1865.25 1522.85 1868.31 1518.27 Q1871.39 1513.66 1877.2 1513.66 Z\" fill=\"#000000\" fill-rule=\"evenodd\" fill-opacity=\"1\" /><path clip-path=\"url(#clip460)\" d=\"M2155.56 1529.7 Q2152.42 1529.7 2150.56 1531.86 Q2148.74 1534.01 2148.74 1537.76 Q2148.74 1541.49 2150.56 1543.66 Q2152.42 1545.82 2155.56 1545.82 Q2158.71 1545.82 2160.54 1543.66 Q2162.39 1541.49 2162.39 1537.76 Q2162.39 1534.01 2160.54 1531.86 Q2158.71 1529.7 2155.56 1529.7 M2164.85 1515.05 L2164.85 1519.31 Q2163.09 1518.48 2161.28 1518.04 Q2159.5 1517.6 2157.74 1517.6 Q2153.11 1517.6 2150.66 1520.72 Q2148.23 1523.85 2147.88 1530.17 Q2149.25 1528.15 2151.31 1527.09 Q2153.37 1526 2155.84 1526 Q2161.05 1526 2164.06 1529.17 Q2167.09 1532.32 2167.09 1537.76 Q2167.09 1543.08 2163.94 1546.3 Q2160.8 1549.52 2155.56 1549.52 Q2149.57 1549.52 2146.4 1544.94 Q2143.23 1540.33 2143.23 1531.6 Q2143.23 1523.41 2147.12 1518.55 Q2151 1513.66 2157.56 1513.66 Q2159.31 1513.66 2161.1 1514.01 Q2162.9 1514.36 2164.85 1515.05 Z\" fill=\"#000000\" fill-rule=\"evenodd\" fill-opacity=\"1\" /><path clip-path=\"url(#clip460)\" d=\"M2175.19 1514.29 L2193.55 1514.29 L2193.55 1518.22 L2179.48 1518.22 L2179.48 1526.7 Q2180.5 1526.35 2181.51 1526.19 Q2182.53 1526 2183.55 1526 Q2189.34 1526 2192.72 1529.17 Q2196.1 1532.34 2196.1 1537.76 Q2196.1 1543.34 2192.62 1546.44 Q2189.15 1549.52 2182.83 1549.52 Q2180.66 1549.52 2178.39 1549.15 Q2176.14 1548.78 2173.74 1548.04 L2173.74 1543.34 Q2175.82 1544.47 2178.04 1545.03 Q2180.26 1545.58 2182.74 1545.58 Q2186.75 1545.58 2189.08 1543.48 Q2191.42 1541.37 2191.42 1537.76 Q2191.42 1534.15 2189.08 1532.04 Q2186.75 1529.94 2182.74 1529.94 Q2180.87 1529.94 2178.99 1530.35 Q2177.14 1530.77 2175.19 1531.65 L2175.19 1514.29 Z\" fill=\"#000000\" fill-rule=\"evenodd\" fill-opacity=\"1\" /><polyline clip-path=\"url(#clip462)\" style=\"stroke:#000000; stroke-linecap:round; stroke-linejoin:round; stroke-width:2; stroke-opacity:0.1; fill:none\" points=\"\n",
       "  141.853,1445.72 2352.76,1445.72 \n",
       "  \"/>\n",
       "<polyline clip-path=\"url(#clip462)\" style=\"stroke:#000000; stroke-linecap:round; stroke-linejoin:round; stroke-width:2; stroke-opacity:0.1; fill:none\" points=\"\n",
       "  141.853,1122.44 2352.76,1122.44 \n",
       "  \"/>\n",
       "<polyline clip-path=\"url(#clip462)\" style=\"stroke:#000000; stroke-linecap:round; stroke-linejoin:round; stroke-width:2; stroke-opacity:0.1; fill:none\" points=\"\n",
       "  141.853,799.173 2352.76,799.173 \n",
       "  \"/>\n",
       "<polyline clip-path=\"url(#clip462)\" style=\"stroke:#000000; stroke-linecap:round; stroke-linejoin:round; stroke-width:2; stroke-opacity:0.1; fill:none\" points=\"\n",
       "  141.853,475.902 2352.76,475.902 \n",
       "  \"/>\n",
       "<polyline clip-path=\"url(#clip462)\" style=\"stroke:#000000; stroke-linecap:round; stroke-linejoin:round; stroke-width:2; stroke-opacity:0.1; fill:none\" points=\"\n",
       "  141.853,152.631 2352.76,152.631 \n",
       "  \"/>\n",
       "<polyline clip-path=\"url(#clip460)\" style=\"stroke:#000000; stroke-linecap:round; stroke-linejoin:round; stroke-width:4; stroke-opacity:1; fill:none\" points=\"\n",
       "  141.853,1486.45 141.853,47.2441 \n",
       "  \"/>\n",
       "<polyline clip-path=\"url(#clip460)\" style=\"stroke:#000000; stroke-linecap:round; stroke-linejoin:round; stroke-width:4; stroke-opacity:1; fill:none\" points=\"\n",
       "  141.853,1445.72 160.751,1445.72 \n",
       "  \"/>\n",
       "<polyline clip-path=\"url(#clip460)\" style=\"stroke:#000000; stroke-linecap:round; stroke-linejoin:round; stroke-width:4; stroke-opacity:1; fill:none\" points=\"\n",
       "  141.853,1122.44 160.751,1122.44 \n",
       "  \"/>\n",
       "<polyline clip-path=\"url(#clip460)\" style=\"stroke:#000000; stroke-linecap:round; stroke-linejoin:round; stroke-width:4; stroke-opacity:1; fill:none\" points=\"\n",
       "  141.853,799.173 160.751,799.173 \n",
       "  \"/>\n",
       "<polyline clip-path=\"url(#clip460)\" style=\"stroke:#000000; stroke-linecap:round; stroke-linejoin:round; stroke-width:4; stroke-opacity:1; fill:none\" points=\"\n",
       "  141.853,475.902 160.751,475.902 \n",
       "  \"/>\n",
       "<polyline clip-path=\"url(#clip460)\" style=\"stroke:#000000; stroke-linecap:round; stroke-linejoin:round; stroke-width:4; stroke-opacity:1; fill:none\" points=\"\n",
       "  141.853,152.631 160.751,152.631 \n",
       "  \"/>\n",
       "<path clip-path=\"url(#clip460)\" d=\"M93.9086 1431.51 Q90.2975 1431.51 88.4688 1435.08 Q86.6632 1438.62 86.6632 1445.75 Q86.6632 1452.86 88.4688 1456.42 Q90.2975 1459.96 93.9086 1459.96 Q97.5428 1459.96 99.3483 1456.42 Q101.177 1452.86 101.177 1445.75 Q101.177 1438.62 99.3483 1435.08 Q97.5428 1431.51 93.9086 1431.51 M93.9086 1427.81 Q99.7187 1427.81 102.774 1432.42 Q105.853 1437 105.853 1445.75 Q105.853 1454.48 102.774 1459.08 Q99.7187 1463.67 93.9086 1463.67 Q88.0984 1463.67 85.0197 1459.08 Q81.9642 1454.48 81.9642 1445.75 Q81.9642 1437 85.0197 1432.42 Q88.0984 1427.81 93.9086 1427.81 Z\" fill=\"#000000\" fill-rule=\"evenodd\" fill-opacity=\"1\" /><path clip-path=\"url(#clip460)\" d=\"M54.5569 1135.79 L62.1958 1135.79 L62.1958 1109.42 L53.8856 1111.09 L53.8856 1106.83 L62.1495 1105.16 L66.8254 1105.16 L66.8254 1135.79 L74.4642 1135.79 L74.4642 1139.72 L54.5569 1139.72 L54.5569 1135.79 Z\" fill=\"#000000\" fill-rule=\"evenodd\" fill-opacity=\"1\" /><path clip-path=\"url(#clip460)\" d=\"M93.9086 1108.24 Q90.2975 1108.24 88.4688 1111.81 Q86.6632 1115.35 86.6632 1122.48 Q86.6632 1129.59 88.4688 1133.15 Q90.2975 1136.69 93.9086 1136.69 Q97.5428 1136.69 99.3483 1133.15 Q101.177 1129.59 101.177 1122.48 Q101.177 1115.35 99.3483 1111.81 Q97.5428 1108.24 93.9086 1108.24 M93.9086 1104.54 Q99.7187 1104.54 102.774 1109.15 Q105.853 1113.73 105.853 1122.48 Q105.853 1131.21 102.774 1135.81 Q99.7187 1140.4 93.9086 1140.4 Q88.0984 1140.4 85.0197 1135.81 Q81.9642 1131.21 81.9642 1122.48 Q81.9642 1113.73 85.0197 1109.15 Q88.0984 1104.54 93.9086 1104.54 Z\" fill=\"#000000\" fill-rule=\"evenodd\" fill-opacity=\"1\" /><path clip-path=\"url(#clip460)\" d=\"M57.7745 812.518 L74.0939 812.518 L74.0939 816.453 L52.1495 816.453 L52.1495 812.518 Q54.8115 809.763 59.3949 805.134 Q64.0013 800.481 65.1819 799.138 Q67.4272 796.615 68.3068 794.879 Q69.2096 793.12 69.2096 791.43 Q69.2096 788.675 67.2652 786.939 Q65.3439 785.203 62.2421 785.203 Q60.043 785.203 57.5893 785.967 Q55.1588 786.731 52.381 788.282 L52.381 783.56 Q55.2051 782.426 57.6588 781.847 Q60.1124 781.268 62.1495 781.268 Q67.5198 781.268 70.7142 783.953 Q73.9087 786.638 73.9087 791.129 Q73.9087 793.259 73.0985 795.18 Q72.3115 797.078 70.205 799.671 Q69.6263 800.342 66.5245 803.56 Q63.4226 806.754 57.7745 812.518 Z\" fill=\"#000000\" fill-rule=\"evenodd\" fill-opacity=\"1\" /><path clip-path=\"url(#clip460)\" d=\"M93.9086 784.972 Q90.2975 784.972 88.4688 788.537 Q86.6632 792.078 86.6632 799.208 Q86.6632 806.314 88.4688 809.879 Q90.2975 813.421 93.9086 813.421 Q97.5428 813.421 99.3483 809.879 Q101.177 806.314 101.177 799.208 Q101.177 792.078 99.3483 788.537 Q97.5428 784.972 93.9086 784.972 M93.9086 781.268 Q99.7187 781.268 102.774 785.875 Q105.853 790.458 105.853 799.208 Q105.853 807.935 102.774 812.541 Q99.7187 817.124 93.9086 817.124 Q88.0984 817.124 85.0197 812.541 Q81.9642 807.935 81.9642 799.208 Q81.9642 790.458 85.0197 785.875 Q88.0984 781.268 93.9086 781.268 Z\" fill=\"#000000\" fill-rule=\"evenodd\" fill-opacity=\"1\" /><path clip-path=\"url(#clip460)\" d=\"M67.9133 474.548 Q71.2698 475.265 73.1448 477.534 Q75.0429 479.802 75.0429 483.136 Q75.0429 488.251 71.5244 491.052 Q68.0059 493.853 61.5245 493.853 Q59.3486 493.853 57.0338 493.413 Q54.7421 492.997 52.2884 492.14 L52.2884 487.626 Q54.2328 488.761 56.5477 489.339 Q58.8625 489.918 61.3856 489.918 Q65.7837 489.918 68.0754 488.182 Q70.3902 486.446 70.3902 483.136 Q70.3902 480.08 68.2374 478.367 Q66.1078 476.631 62.2884 476.631 L58.2606 476.631 L58.2606 472.788 L62.4735 472.788 Q65.9226 472.788 67.7513 471.423 Q69.58 470.034 69.58 467.441 Q69.58 464.779 67.6819 463.367 Q65.8069 461.932 62.2884 461.932 Q60.3671 461.932 58.168 462.349 Q55.969 462.765 53.3301 463.645 L53.3301 459.478 Q55.9921 458.738 58.3069 458.367 Q60.6449 457.997 62.705 457.997 Q68.0291 457.997 71.1309 460.427 Q74.2327 462.835 74.2327 466.955 Q74.2327 469.825 72.5892 471.816 Q70.9457 473.784 67.9133 474.548 Z\" fill=\"#000000\" fill-rule=\"evenodd\" fill-opacity=\"1\" /><path clip-path=\"url(#clip460)\" d=\"M93.9086 461.701 Q90.2975 461.701 88.4688 465.265 Q86.6632 468.807 86.6632 475.937 Q86.6632 483.043 88.4688 486.608 Q90.2975 490.149 93.9086 490.149 Q97.5428 490.149 99.3483 486.608 Q101.177 483.043 101.177 475.937 Q101.177 468.807 99.3483 465.265 Q97.5428 461.701 93.9086 461.701 M93.9086 457.997 Q99.7187 457.997 102.774 462.603 Q105.853 467.187 105.853 475.937 Q105.853 484.663 102.774 489.27 Q99.7187 493.853 93.9086 493.853 Q88.0984 493.853 85.0197 489.27 Q81.9642 484.663 81.9642 475.937 Q81.9642 467.187 85.0197 462.603 Q88.0984 457.997 93.9086 457.997 Z\" fill=\"#000000\" fill-rule=\"evenodd\" fill-opacity=\"1\" /><path clip-path=\"url(#clip460)\" d=\"M66.5939 139.425 L54.7884 157.874 L66.5939 157.874 L66.5939 139.425 M65.367 135.351 L71.2466 135.351 L71.2466 157.874 L76.1772 157.874 L76.1772 161.762 L71.2466 161.762 L71.2466 169.911 L66.5939 169.911 L66.5939 161.762 L50.9921 161.762 L50.9921 157.249 L65.367 135.351 Z\" fill=\"#000000\" fill-rule=\"evenodd\" fill-opacity=\"1\" /><path clip-path=\"url(#clip460)\" d=\"M93.9086 138.429 Q90.2975 138.429 88.4688 141.994 Q86.6632 145.536 86.6632 152.665 Q86.6632 159.772 88.4688 163.336 Q90.2975 166.878 93.9086 166.878 Q97.5428 166.878 99.3483 163.336 Q101.177 159.772 101.177 152.665 Q101.177 145.536 99.3483 141.994 Q97.5428 138.429 93.9086 138.429 M93.9086 134.726 Q99.7187 134.726 102.774 139.332 Q105.853 143.915 105.853 152.665 Q105.853 161.392 102.774 165.999 Q99.7187 170.582 93.9086 170.582 Q88.0984 170.582 85.0197 165.999 Q81.9642 161.392 81.9642 152.665 Q81.9642 143.915 85.0197 139.332 Q88.0984 134.726 93.9086 134.726 Z\" fill=\"#000000\" fill-rule=\"evenodd\" fill-opacity=\"1\" /><path clip-path=\"url(#clip462)\" d=\"\n",
       "M263.457 1348.73 L263.457 1445.72 L386.438 1445.72 L386.438 1348.73 L263.457 1348.73 L263.457 1348.73  Z\n",
       "  \" fill=\"#009af9\" fill-rule=\"evenodd\" fill-opacity=\"0.5\"/>\n",
       "<polyline clip-path=\"url(#clip462)\" style=\"stroke:#000000; stroke-linecap:round; stroke-linejoin:round; stroke-width:4; stroke-opacity:0.5; fill:none\" points=\"\n",
       "  263.457,1348.73 263.457,1445.72 386.438,1445.72 386.438,1348.73 263.457,1348.73 \n",
       "  \"/>\n",
       "<path clip-path=\"url(#clip462)\" d=\"\n",
       "M386.438 1381.06 L386.438 1445.72 L509.419 1445.72 L509.419 1381.06 L386.438 1381.06 L386.438 1381.06  Z\n",
       "  \" fill=\"#009af9\" fill-rule=\"evenodd\" fill-opacity=\"0.5\"/>\n",
       "<polyline clip-path=\"url(#clip462)\" style=\"stroke:#000000; stroke-linecap:round; stroke-linejoin:round; stroke-width:4; stroke-opacity:0.5; fill:none\" points=\"\n",
       "  386.438,1381.06 386.438,1445.72 509.419,1445.72 509.419,1381.06 386.438,1381.06 \n",
       "  \"/>\n",
       "<path clip-path=\"url(#clip462)\" d=\"\n",
       "M509.419 1284.08 L509.419 1445.72 L632.399 1445.72 L632.399 1284.08 L509.419 1284.08 L509.419 1284.08  Z\n",
       "  \" fill=\"#009af9\" fill-rule=\"evenodd\" fill-opacity=\"0.5\"/>\n",
       "<polyline clip-path=\"url(#clip462)\" style=\"stroke:#000000; stroke-linecap:round; stroke-linejoin:round; stroke-width:4; stroke-opacity:0.5; fill:none\" points=\"\n",
       "  509.419,1284.08 509.419,1445.72 632.399,1445.72 632.399,1284.08 509.419,1284.08 \n",
       "  \"/>\n",
       "<path clip-path=\"url(#clip462)\" d=\"\n",
       "M632.399 1025.46 L632.399 1445.72 L755.38 1445.72 L755.38 1025.46 L632.399 1025.46 L632.399 1025.46  Z\n",
       "  \" fill=\"#009af9\" fill-rule=\"evenodd\" fill-opacity=\"0.5\"/>\n",
       "<polyline clip-path=\"url(#clip462)\" style=\"stroke:#000000; stroke-linecap:round; stroke-linejoin:round; stroke-width:4; stroke-opacity:0.5; fill:none\" points=\"\n",
       "  632.399,1025.46 632.399,1445.72 755.38,1445.72 755.38,1025.46 632.399,1025.46 \n",
       "  \"/>\n",
       "<path clip-path=\"url(#clip462)\" d=\"\n",
       "M755.38 993.136 L755.38 1445.72 L878.361 1445.72 L878.361 993.136 L755.38 993.136 L755.38 993.136  Z\n",
       "  \" fill=\"#009af9\" fill-rule=\"evenodd\" fill-opacity=\"0.5\"/>\n",
       "<polyline clip-path=\"url(#clip462)\" style=\"stroke:#000000; stroke-linecap:round; stroke-linejoin:round; stroke-width:4; stroke-opacity:0.5; fill:none\" points=\"\n",
       "  755.38,993.136 755.38,1445.72 878.361,1445.72 878.361,993.136 755.38,993.136 \n",
       "  \"/>\n",
       "<path clip-path=\"url(#clip462)\" d=\"\n",
       "M878.361 443.575 L878.361 1445.72 L1001.34 1445.72 L1001.34 443.575 L878.361 443.575 L878.361 443.575  Z\n",
       "  \" fill=\"#009af9\" fill-rule=\"evenodd\" fill-opacity=\"0.5\"/>\n",
       "<polyline clip-path=\"url(#clip462)\" style=\"stroke:#000000; stroke-linecap:round; stroke-linejoin:round; stroke-width:4; stroke-opacity:0.5; fill:none\" points=\"\n",
       "  878.361,443.575 878.361,1445.72 1001.34,1445.72 1001.34,443.575 878.361,443.575 \n",
       "  \"/>\n",
       "<path clip-path=\"url(#clip462)\" d=\"\n",
       "M1001.34 411.248 L1001.34 1445.72 L1124.32 1445.72 L1124.32 411.248 L1001.34 411.248 L1001.34 411.248  Z\n",
       "  \" fill=\"#009af9\" fill-rule=\"evenodd\" fill-opacity=\"0.5\"/>\n",
       "<polyline clip-path=\"url(#clip462)\" style=\"stroke:#000000; stroke-linecap:round; stroke-linejoin:round; stroke-width:4; stroke-opacity:0.5; fill:none\" points=\"\n",
       "  1001.34,411.248 1001.34,1445.72 1124.32,1445.72 1124.32,411.248 1001.34,411.248 \n",
       "  \"/>\n",
       "<path clip-path=\"url(#clip462)\" d=\"\n",
       "M1124.32 87.9763 L1124.32 1445.72 L1247.3 1445.72 L1247.3 87.9763 L1124.32 87.9763 L1124.32 87.9763  Z\n",
       "  \" fill=\"#009af9\" fill-rule=\"evenodd\" fill-opacity=\"0.5\"/>\n",
       "<polyline clip-path=\"url(#clip462)\" style=\"stroke:#000000; stroke-linecap:round; stroke-linejoin:round; stroke-width:4; stroke-opacity:0.5; fill:none\" points=\"\n",
       "  1124.32,87.9763 1124.32,1445.72 1247.3,1445.72 1247.3,87.9763 1124.32,87.9763 \n",
       "  \"/>\n",
       "<path clip-path=\"url(#clip462)\" d=\"\n",
       "M1247.3 734.519 L1247.3 1445.72 L1370.29 1445.72 L1370.29 734.519 L1247.3 734.519 L1247.3 734.519  Z\n",
       "  \" fill=\"#009af9\" fill-rule=\"evenodd\" fill-opacity=\"0.5\"/>\n",
       "<polyline clip-path=\"url(#clip462)\" style=\"stroke:#000000; stroke-linecap:round; stroke-linejoin:round; stroke-width:4; stroke-opacity:0.5; fill:none\" points=\"\n",
       "  1247.3,734.519 1247.3,1445.72 1370.29,1445.72 1370.29,734.519 1247.3,734.519 \n",
       "  \"/>\n",
       "<path clip-path=\"url(#clip462)\" d=\"\n",
       "M1370.29 928.482 L1370.29 1445.72 L1493.27 1445.72 L1493.27 928.482 L1370.29 928.482 L1370.29 928.482  Z\n",
       "  \" fill=\"#009af9\" fill-rule=\"evenodd\" fill-opacity=\"0.5\"/>\n",
       "<polyline clip-path=\"url(#clip462)\" style=\"stroke:#000000; stroke-linecap:round; stroke-linejoin:round; stroke-width:4; stroke-opacity:0.5; fill:none\" points=\"\n",
       "  1370.29,928.482 1370.29,1445.72 1493.27,1445.72 1493.27,928.482 1370.29,928.482 \n",
       "  \"/>\n",
       "<path clip-path=\"url(#clip462)\" d=\"\n",
       "M1493.27 1090.12 L1493.27 1445.72 L1616.25 1445.72 L1616.25 1090.12 L1493.27 1090.12 L1493.27 1090.12  Z\n",
       "  \" fill=\"#009af9\" fill-rule=\"evenodd\" fill-opacity=\"0.5\"/>\n",
       "<polyline clip-path=\"url(#clip462)\" style=\"stroke:#000000; stroke-linecap:round; stroke-linejoin:round; stroke-width:4; stroke-opacity:0.5; fill:none\" points=\"\n",
       "  1493.27,1090.12 1493.27,1445.72 1616.25,1445.72 1616.25,1090.12 1493.27,1090.12 \n",
       "  \"/>\n",
       "<path clip-path=\"url(#clip462)\" d=\"\n",
       "M1616.25 1284.08 L1616.25 1445.72 L1739.23 1445.72 L1739.23 1284.08 L1616.25 1284.08 L1616.25 1284.08  Z\n",
       "  \" fill=\"#009af9\" fill-rule=\"evenodd\" fill-opacity=\"0.5\"/>\n",
       "<polyline clip-path=\"url(#clip462)\" style=\"stroke:#000000; stroke-linecap:round; stroke-linejoin:round; stroke-width:4; stroke-opacity:0.5; fill:none\" points=\"\n",
       "  1616.25,1284.08 1616.25,1445.72 1739.23,1445.72 1739.23,1284.08 1616.25,1284.08 \n",
       "  \"/>\n",
       "<path clip-path=\"url(#clip462)\" d=\"\n",
       "M1739.23 1381.06 L1739.23 1445.72 L1862.21 1445.72 L1862.21 1381.06 L1739.23 1381.06 L1739.23 1381.06  Z\n",
       "  \" fill=\"#009af9\" fill-rule=\"evenodd\" fill-opacity=\"0.5\"/>\n",
       "<polyline clip-path=\"url(#clip462)\" style=\"stroke:#000000; stroke-linecap:round; stroke-linejoin:round; stroke-width:4; stroke-opacity:0.5; fill:none\" points=\"\n",
       "  1739.23,1381.06 1739.23,1445.72 1862.21,1445.72 1862.21,1381.06 1739.23,1381.06 \n",
       "  \"/>\n",
       "<path clip-path=\"url(#clip462)\" d=\"\n",
       "M1862.21 1445.72 L1862.21 1445.72 L1985.19 1445.72 L1985.19 1445.72 L1862.21 1445.72 L1862.21 1445.72  Z\n",
       "  \" fill=\"#009af9\" fill-rule=\"evenodd\" fill-opacity=\"0.5\"/>\n",
       "<polyline clip-path=\"url(#clip462)\" style=\"stroke:#000000; stroke-linecap:round; stroke-linejoin:round; stroke-width:4; stroke-opacity:0.5; fill:none\" points=\"\n",
       "  1862.21,1445.72 1862.21,1445.72 1985.19,1445.72 1862.21,1445.72 \n",
       "  \"/>\n",
       "<path clip-path=\"url(#clip462)\" d=\"\n",
       "M1985.19 1413.39 L1985.19 1445.72 L2108.17 1445.72 L2108.17 1413.39 L1985.19 1413.39 L1985.19 1413.39  Z\n",
       "  \" fill=\"#009af9\" fill-rule=\"evenodd\" fill-opacity=\"0.5\"/>\n",
       "<polyline clip-path=\"url(#clip462)\" style=\"stroke:#000000; stroke-linecap:round; stroke-linejoin:round; stroke-width:4; stroke-opacity:0.5; fill:none\" points=\"\n",
       "  1985.19,1413.39 1985.19,1445.72 2108.17,1445.72 2108.17,1413.39 1985.19,1413.39 \n",
       "  \"/>\n",
       "<path clip-path=\"url(#clip462)\" d=\"\n",
       "M2108.17 1413.39 L2108.17 1445.72 L2231.15 1445.72 L2231.15 1413.39 L2108.17 1413.39 L2108.17 1413.39  Z\n",
       "  \" fill=\"#009af9\" fill-rule=\"evenodd\" fill-opacity=\"0.5\"/>\n",
       "<polyline clip-path=\"url(#clip462)\" style=\"stroke:#000000; stroke-linecap:round; stroke-linejoin:round; stroke-width:4; stroke-opacity:0.5; fill:none\" points=\"\n",
       "  2108.17,1413.39 2108.17,1445.72 2231.15,1445.72 2231.15,1413.39 2108.17,1413.39 \n",
       "  \"/>\n",
       "<circle clip-path=\"url(#clip462)\" style=\"fill:#009af9; stroke:none; fill-opacity:0\" cx=\"324.947\" cy=\"1348.73\" r=\"2\"/>\n",
       "<circle clip-path=\"url(#clip462)\" style=\"fill:#009af9; stroke:none; fill-opacity:0\" cx=\"447.928\" cy=\"1381.06\" r=\"2\"/>\n",
       "<circle clip-path=\"url(#clip462)\" style=\"fill:#009af9; stroke:none; fill-opacity:0\" cx=\"570.909\" cy=\"1284.08\" r=\"2\"/>\n",
       "<circle clip-path=\"url(#clip462)\" style=\"fill:#009af9; stroke:none; fill-opacity:0\" cx=\"693.89\" cy=\"1025.46\" r=\"2\"/>\n",
       "<circle clip-path=\"url(#clip462)\" style=\"fill:#009af9; stroke:none; fill-opacity:0\" cx=\"816.871\" cy=\"993.136\" r=\"2\"/>\n",
       "<circle clip-path=\"url(#clip462)\" style=\"fill:#009af9; stroke:none; fill-opacity:0\" cx=\"939.852\" cy=\"443.575\" r=\"2\"/>\n",
       "<circle clip-path=\"url(#clip462)\" style=\"fill:#009af9; stroke:none; fill-opacity:0\" cx=\"1062.83\" cy=\"411.248\" r=\"2\"/>\n",
       "<circle clip-path=\"url(#clip462)\" style=\"fill:#009af9; stroke:none; fill-opacity:0\" cx=\"1185.81\" cy=\"87.9763\" r=\"2\"/>\n",
       "<circle clip-path=\"url(#clip462)\" style=\"fill:#009af9; stroke:none; fill-opacity:0\" cx=\"1308.79\" cy=\"734.519\" r=\"2\"/>\n",
       "<circle clip-path=\"url(#clip462)\" style=\"fill:#009af9; stroke:none; fill-opacity:0\" cx=\"1431.78\" cy=\"928.482\" r=\"2\"/>\n",
       "<circle clip-path=\"url(#clip462)\" style=\"fill:#009af9; stroke:none; fill-opacity:0\" cx=\"1554.76\" cy=\"1090.12\" r=\"2\"/>\n",
       "<circle clip-path=\"url(#clip462)\" style=\"fill:#009af9; stroke:none; fill-opacity:0\" cx=\"1677.74\" cy=\"1284.08\" r=\"2\"/>\n",
       "<circle clip-path=\"url(#clip462)\" style=\"fill:#009af9; stroke:none; fill-opacity:0\" cx=\"1800.72\" cy=\"1381.06\" r=\"2\"/>\n",
       "<circle clip-path=\"url(#clip462)\" style=\"fill:#009af9; stroke:none; fill-opacity:0\" cx=\"1923.7\" cy=\"1445.72\" r=\"2\"/>\n",
       "<circle clip-path=\"url(#clip462)\" style=\"fill:#009af9; stroke:none; fill-opacity:0\" cx=\"2046.68\" cy=\"1413.39\" r=\"2\"/>\n",
       "<circle clip-path=\"url(#clip462)\" style=\"fill:#009af9; stroke:none; fill-opacity:0\" cx=\"2169.66\" cy=\"1413.39\" r=\"2\"/>\n",
       "<path clip-path=\"url(#clip460)\" d=\"\n",
       "M2005.54 198.898 L2279.06 198.898 L2279.06 95.2176 L2005.54 95.2176  Z\n",
       "  \" fill=\"#ffffff\" fill-rule=\"evenodd\" fill-opacity=\"1\"/>\n",
       "<polyline clip-path=\"url(#clip460)\" style=\"stroke:#000000; stroke-linecap:round; stroke-linejoin:round; stroke-width:4; stroke-opacity:1; fill:none\" points=\"\n",
       "  2005.54,198.898 2279.06,198.898 2279.06,95.2176 2005.54,95.2176 2005.54,198.898 \n",
       "  \"/>\n",
       "<path clip-path=\"url(#clip460)\" d=\"\n",
       "M2030.1 167.794 L2177.5 167.794 L2177.5 126.322 L2030.1 126.322 L2030.1 167.794  Z\n",
       "  \" fill=\"#009af9\" fill-rule=\"evenodd\" fill-opacity=\"0.5\"/>\n",
       "<polyline clip-path=\"url(#clip460)\" style=\"stroke:#000000; stroke-linecap:round; stroke-linejoin:round; stroke-width:4; stroke-opacity:1; fill:none\" points=\"\n",
       "  2030.1,167.794 2177.5,167.794 2177.5,126.322 2030.1,126.322 2030.1,167.794 \n",
       "  \"/>\n",
       "<path clip-path=\"url(#clip460)\" d=\"M2215.91 166.745 Q2214.1 171.375 2212.39 172.787 Q2210.67 174.199 2207.8 174.199 L2204.4 174.199 L2204.4 170.634 L2206.9 170.634 Q2208.66 170.634 2209.63 169.8 Q2210.6 168.967 2211.79 165.865 L2212.55 163.921 L2202.06 138.412 L2206.58 138.412 L2214.68 158.689 L2222.78 138.412 L2227.29 138.412 L2215.91 166.745 Z\" fill=\"#000000\" fill-rule=\"evenodd\" fill-opacity=\"1\" /><path clip-path=\"url(#clip460)\" d=\"M2234.59 160.402 L2242.23 160.402 L2242.23 134.037 L2233.91 135.703 L2233.91 131.444 L2242.18 129.778 L2246.85 129.778 L2246.85 160.402 L2254.49 160.402 L2254.49 164.338 L2234.59 164.338 L2234.59 160.402 Z\" fill=\"#000000\" fill-rule=\"evenodd\" fill-opacity=\"1\" /></svg>\n"
      ]
     },
     "execution_count": 183,
     "metadata": {},
     "output_type": "execute_result"
    }
   ],
   "source": [
    "N = 200\n",
    "results = []\n",
    "for i = 1:N\n",
    "    append!(results, stochastic_process(0.98)[end])\n",
    "end\n",
    "histogram(results, alpha=0.5)"
   ]
  },
  {
   "cell_type": "code",
   "execution_count": 184,
   "id": "b38542a1",
   "metadata": {},
   "outputs": [
    {
     "name": "stdout",
     "output_type": "stream",
     "text": [
      "Average: 47.817785887721854, variance: 23.100745909915815\n"
     ]
    }
   ],
   "source": [
    "using Statistics\n",
    "println(\"Average: $(mean(results)), variance: $(var(results))\")"
   ]
  },
  {
   "attachments": {},
   "cell_type": "markdown",
   "id": "fd754716",
   "metadata": {},
   "source": [
    "### Exercise 3\n",
    "\n",
    "Let the data generating process for a variable be\n",
    "\n",
    "$$\n",
    "y = a x_1 + b x_1^2 + c x_2 + d + \\sigma w\n",
    "$$\n",
    "\n",
    "where $ y, x_1, x_2 $ are scalar observables, $ a,b,c,d $ are parameters to estimate, and $ w $ are iid normal with mean 0 and variance 1.\n",
    "\n",
    "First, let’s simulate data we can use to estimate the parameters\n",
    "\n",
    "- Draw $ N=50 $ values for $ x_1, x_2 $ from iid normal distributions.  \n",
    "\n",
    "\n",
    "Then, simulate with different $ w $\n",
    "\n",
    "- Draw a $ w $ vector for the `N` values and then `y` from this simulated data if the parameters were $ a = 0.1, b = 0.2 c = 0.5, d = 1.0, \\sigma = 0.1 $.  \n",
    "- Repeat that so you have `M = 20` different simulations of the `y` for the `N` values.  \n",
    "\n",
    "\n",
    "Finally, calculate order least squares manually (i.e., put the observables\n",
    "into matrices and vectors, and directly use the equations for\n",
    "[OLS](https://en.wikipedia.org/wiki/Ordinary_least_squares) rather than a package).\n",
    "\n",
    "- For each of the `M=20` simulations, calculate the OLS estimates for $ a, b, c, d, \\sigma $.  \n",
    "- Plot a histogram of these estimates for each variable.  "
   ]
  },
  {
   "attachments": {},
   "cell_type": "markdown",
   "id": "a62d279d",
   "metadata": {},
   "source": [
    "### Exercise 4\n",
    "\n",
    "Redo Exercise 1 using the `fixedpoint` function from `NLsolve` [this lecture](https://julia.quantecon.org/julia_by_example.html).\n",
    "\n",
    "Compare the number of iterations of the NLsolve’s Anderson Acceleration to the handcoded iteration used in Exercise 1.\n",
    "\n",
    "Hint: Convert the matrix to a vector to use `fixedpoint`. e.g. `A = [1 2; 3 4]` then `x = reshape(A, 4)` turns it into a vector.  To reverse, `reshape(x, 2, 2)`."
   ]
  },
  {
   "attachments": {},
   "cell_type": "markdown",
   "id": "13322faf",
   "metadata": {},
   "source": [
    "## Solutions"
   ]
  },
  {
   "attachments": {},
   "cell_type": "markdown",
   "id": "e86d5af7",
   "metadata": {},
   "source": [
    "### Exercise 1\n",
    "\n",
    "Here’s the iterative approach"
   ]
  },
  {
   "cell_type": "code",
   "execution_count": null,
   "id": "238907ec",
   "metadata": {
    "hide-output": false
   },
   "outputs": [],
   "source": [
    "function compute_asymptotic_var(A, Σ;\n",
    "                                S0 = Σ * Σ',\n",
    "                                tolerance = 1e-6,\n",
    "                                maxiter = 500)\n",
    "    V = Σ * Σ'\n",
    "    S = S0\n",
    "    err = tolerance + 1\n",
    "    i = 1\n",
    "    while err > tolerance && i ≤ maxiter\n",
    "        next_S = A * S * A' + V\n",
    "        err = norm(S - next_S)\n",
    "        S = next_S\n",
    "        i += 1\n",
    "    end\n",
    "    return S\n",
    "end"
   ]
  },
  {
   "cell_type": "code",
   "execution_count": null,
   "id": "67cae3e1",
   "metadata": {
    "hide-output": false
   },
   "outputs": [],
   "source": [
    "A = [0.8  -0.2;\n",
    "     -0.1  0.7]\n",
    "\n",
    "Σ = [0.5 0.4;\n",
    "     0.4 0.6]"
   ]
  },
  {
   "attachments": {},
   "cell_type": "markdown",
   "id": "2eb37d15",
   "metadata": {},
   "source": [
    "Note that all eigenvalues of $ A $ lie inside the unit disc."
   ]
  },
  {
   "cell_type": "code",
   "execution_count": null,
   "id": "8baf8bd1",
   "metadata": {
    "hide-output": false
   },
   "outputs": [],
   "source": [
    "maximum(abs, eigvals(A))"
   ]
  },
  {
   "attachments": {},
   "cell_type": "markdown",
   "id": "2fc3132e",
   "metadata": {},
   "source": [
    "Let’s compute the asymptotic variance"
   ]
  },
  {
   "cell_type": "code",
   "execution_count": null,
   "id": "2dce841e",
   "metadata": {
    "hide-output": false
   },
   "outputs": [],
   "source": [
    "our_solution = compute_asymptotic_var(A, Σ)"
   ]
  },
  {
   "attachments": {},
   "cell_type": "markdown",
   "id": "a074a4f1",
   "metadata": {},
   "source": [
    "Now let’s do the same thing using QuantEcon’s `solve_discrete_lyapunov()` function and check we get the same result."
   ]
  },
  {
   "cell_type": "code",
   "execution_count": null,
   "id": "53b81132",
   "metadata": {
    "hide-output": false
   },
   "outputs": [],
   "source": [
    "using QuantEcon"
   ]
  },
  {
   "cell_type": "code",
   "execution_count": null,
   "id": "c5a51be2",
   "metadata": {
    "hide-output": false
   },
   "outputs": [],
   "source": [
    "norm(our_solution - solve_discrete_lyapunov(A, Σ * Σ'))"
   ]
  }
 ],
 "metadata": {
  "date": 1672949735.6993227,
  "filename": "fundamental_types.md",
  "kernelspec": {
   "display_name": "Julia 1.9.0",
   "language": "julia",
   "name": "julia-1.9"
  },
  "language_info": {
   "file_extension": ".jl",
   "mimetype": "application/julia",
   "name": "julia",
   "version": "1.9.0"
  },
  "title": "Arrays, Tuples, Ranges, and Other Fundamental Types"
 },
 "nbformat": 4,
 "nbformat_minor": 5
}
