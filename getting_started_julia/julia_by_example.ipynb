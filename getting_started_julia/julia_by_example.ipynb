{
 "cells": [
  {
   "attachments": {},
   "cell_type": "markdown",
   "id": "7221af1c",
   "metadata": {},
   "source": [
    "\n",
    "<a id='julia-by-example'></a>"
   ]
  },
  {
   "attachments": {},
   "cell_type": "markdown",
   "id": "9dca29e6",
   "metadata": {},
   "source": [
    "# Introductory Examples"
   ]
  },
  {
   "attachments": {},
   "cell_type": "markdown",
   "id": "231b5ec1",
   "metadata": {},
   "source": [
    "## Contents\n",
    "\n",
    "- [Introductory Examples](#Introductory-Examples)  \n",
    "  - [Overview](#Overview)  \n",
    "  - [Example: Plotting a White Noise Process](#Example:-Plotting-a-White-Noise-Process)  \n",
    "  - [Example: Variations on Fixed Points](#Example:-Variations-on-Fixed-Points)  \n",
    "  - [Exercises](#Exercises)  \n",
    "  - [Solutions](#Solutions)  "
   ]
  },
  {
   "attachments": {},
   "cell_type": "markdown",
   "id": "2a600fe6",
   "metadata": {},
   "source": [
    "## Overview\n",
    "\n",
    "We’re now ready to start learning the Julia language itself."
   ]
  },
  {
   "attachments": {},
   "cell_type": "markdown",
   "id": "4d1f5f59",
   "metadata": {},
   "source": [
    "### Level\n",
    "\n",
    "Our approach is aimed at those who already have at least some knowledge of programming — perhaps experience with Python, MATLAB, Fortran, C or similar.\n",
    "\n",
    "In particular, we assume you have some familiarity with fundamental programming concepts such as\n",
    "\n",
    "- variables  \n",
    "- arrays or vectors  \n",
    "- loops  \n",
    "- conditionals (if/else)  \n",
    "\n",
    "\n",
    "\n",
    "<a id='intro-resources'></a>"
   ]
  },
  {
   "attachments": {},
   "cell_type": "markdown",
   "id": "b74c24b2",
   "metadata": {},
   "source": [
    "### (Optional) Resources for Introductory Programming\n",
    "\n",
    "If Julia is your first programming language, then you may want to examine other resources before proceeding through these chapters.\n",
    "\n",
    "First, you will want to ensure that you have [installed Conda](https://julia.quantecon.org/getting_started.html#install-jupyter), [Julia](https://julia.quantecon.org/getting_started.html#intro-repl) in the previous section, and are able to [launch Jupyter Lab](https://julia.quantecon.org/getting_started.html#running-jupyterlab).  Then, even without downloading these lecture notes you can start learning Julia.\n",
    "\n",
    "Some resources for users with little to no programming experience are the:\n",
    "\n",
    "1. [Introduction to Julia](https://juliaacademy.com/p/intro-to-julia) which is appropriate for those with little programming experience.  \n",
    "  - You will need to sign up for this course to access it, but it is free.  \n",
    "  - Avoid the initial lecture on the installation of Julia and nteract.  \n",
    "  - The Jupyter Notebooks for this class are available [online](https://github.com/JuliaAcademy/Introduction-to-Julia)  \n",
    "1. [Julia for Beginners](https://www.youtube.com/playlist?list=PLhQ2JMBcfAsi_3g2AFJ6B84d8c5jw5kXp) from the [julia for talented amateurs](https://www.youtube.com/c/juliafortalentedamateurs) channel.  \n",
    "  - If you watch these, ignore the environment.  It is using a different open-source editor (i.e. Atom, which is being slowly phased out) and the REPL.  However the content itself is independent of the environment. Skip any setup instructions and just use Jupyter.  \n",
    "1. [Julia Programming for Nervous Beginners](https://www.youtube.com/playlist?list=PLP8iPy9hna6Qpx0MgGyElJ5qFlaIXYf1R) youtube tutorials.  \n",
    "  - These get advanced fairly quickly, but have plenty of great content.  \n",
    "  - This may be less gentle of an introduction for new users given the tooling choices.  \n",
    "\n",
    "\n",
    "However, if you have even introductory experience with any programming language (e.g. you do not need to review what a loop, array, variable, or conditional “if” statement is), you should be able to start directly with these lectures."
   ]
  },
  {
   "attachments": {},
   "cell_type": "markdown",
   "id": "168b4de7",
   "metadata": {},
   "source": [
    "### Approach\n",
    "\n",
    "In this lecture we will write and then pick apart small Julia programs.\n",
    "\n",
    "At this stage the objective is to introduce you to basic syntax and data structures.\n",
    "\n",
    "Deeper concepts—how things work—will be covered in later lectures.\n",
    "\n",
    "Since we are looking for simplicity the examples are a little contrived\n",
    "\n",
    "In this lecture, we will often start with a direct MATLAB/FORTRAN approach which often is **poor coding style** in Julia, but then move towards more **elegant code** which is tightly connected to the mathematics.\n",
    "\n",
    "We assume that you’ve worked your way through [our getting started lecture](https://julia.quantecon.org/getting_started.html) already.\n",
    "\n",
    "The definitive reference is [Julia’s own documentation](https://docs.julialang.org/).  The manual is thoughtfully written but is also quite dense.\n",
    "\n",
    "The presentation in this and our remaining lectures is more of a tutorial style based around examples."
   ]
  },
  {
   "attachments": {},
   "cell_type": "markdown",
   "id": "7a1c0b5b",
   "metadata": {},
   "source": [
    "## Example: Plotting a White Noise Process\n",
    "\n",
    "To begin, let’s suppose that we want to simulate and plot the white noise\n",
    "process $ \\epsilon_0, \\epsilon_1, \\ldots, \\epsilon_T $, where each draw $ \\epsilon_t $ is independent standard normal."
   ]
  },
  {
   "attachments": {},
   "cell_type": "markdown",
   "id": "856a4068",
   "metadata": {},
   "source": [
    "### Introduction to Packages\n",
    "\n",
    "Assuming that you followed  [our getting started lecture](https://julia.quantecon.org/getting_started.html) you will have installed all packages required for your notebooks to run.\n",
    "\n",
    "More generally, there are two ways to install packages and versions (where the first method is discouraged, since Julia provides a state-of-the-art setup for reproducible environments)\n",
    "\n",
    "1. `add` the packages directly into your global installation (e.g. `Pkg.add(\"MyPackage\")` or `] add MyPackage`) without any project activated.  \n",
    "  - We [installed](https://julia.quantecon.org/getting_started.html#intro-repl) the `IJulia` package in this way, since it must be accessible in every project.  \n",
    "  - As a reminder, the `]` enters the package mode, and with some terminals you can directly copy in the whole `] add MyPackage` string.  \n",
    "1. using a directory with a `Project.toml` and `Manifest.toml` files, which provides an isolated set of packages for a particular project.  \n",
    "  - If you load a jupyter notebook, it will automatically look up the tree for the project files to activate, but will not automatically install them.  This can be done with `] instantiate`, as we did in our [installation](https://julia.quantecon.org/getting_started.html#install-packages)  \n",
    "  - The project files can be in parent folders relative to the notebooks and sourcecode.  \n",
    "\n",
    "\n",
    "The project provides the environment for running code is **reproducible**, so that anyone can replicate the precise set of package and versions used in construction.\n",
    "\n",
    "After the installation and activation, `using` provides a way to say that a particular code or notebook will use the package."
   ]
  },
  {
   "cell_type": "code",
   "execution_count": 5,
   "id": "e2ae4166",
   "metadata": {
    "hide-output": false
   },
   "outputs": [],
   "source": [
    "using LinearAlgebra, Statistics, Plots, LaTeXStrings"
   ]
  },
  {
   "attachments": {},
   "cell_type": "markdown",
   "id": "08ba9a77",
   "metadata": {},
   "source": [
    "If these packages were not in your project file or global package environment, you will see an error requiring installation.  To reinforce the point aove: Ideally you should be using a local `Project.toml` with these in them, in which case you might simply need to `] instantiate` it.  Without a project file, you can manually add them as required (e.g. `] add Plots`).  See [here](https://julia.quantecon.org/getting_started.html#install-packages) for more on instantiation and activation of projects.\n",
    "\n",
    "\n",
    "<a id='import'></a>"
   ]
  },
  {
   "attachments": {},
   "cell_type": "markdown",
   "id": "0cb7eb50",
   "metadata": {},
   "source": [
    "### Using Functions from a Package\n",
    "\n",
    "Some functions are built into the base Julia, such as `randn`, which returns a single draw from a normal distribution with mean 0 and variance 1 if given no parameters."
   ]
  },
  {
   "cell_type": "code",
   "execution_count": 2,
   "id": "d6e06b95",
   "metadata": {
    "hide-output": false
   },
   "outputs": [
    {
     "data": {
      "text/plain": [
       "1.2052470666450634"
      ]
     },
     "execution_count": 2,
     "metadata": {},
     "output_type": "execute_result"
    }
   ],
   "source": [
    "randn()"
   ]
  },
  {
   "attachments": {},
   "cell_type": "markdown",
   "id": "7cf98de5",
   "metadata": {},
   "source": [
    "Other functions require importing all of the names from an external library"
   ]
  },
  {
   "cell_type": "code",
   "execution_count": 3,
   "id": "fe82084e",
   "metadata": {
    "hide-output": false
   },
   "outputs": [
    {
     "data": {
      "image/svg+xml": [
       "<?xml version=\"1.0\" encoding=\"utf-8\"?>\n",
       "<svg xmlns=\"http://www.w3.org/2000/svg\" xmlns:xlink=\"http://www.w3.org/1999/xlink\" width=\"600\" height=\"400\" viewBox=\"0 0 2400 1600\">\n",
       "<defs>\n",
       "  <clipPath id=\"clip560\">\n",
       "    <rect x=\"0\" y=\"0\" width=\"2400\" height=\"1600\"/>\n",
       "  </clipPath>\n",
       "</defs>\n",
       "<path clip-path=\"url(#clip560)\" d=\"\n",
       "M0 1600 L2400 1600 L2400 0 L0 0  Z\n",
       "  \" fill=\"#ffffff\" fill-rule=\"evenodd\" fill-opacity=\"1\"/>\n",
       "<defs>\n",
       "  <clipPath id=\"clip561\">\n",
       "    <rect x=\"480\" y=\"0\" width=\"1681\" height=\"1600\"/>\n",
       "  </clipPath>\n",
       "</defs>\n",
       "<path clip-path=\"url(#clip560)\" d=\"\n",
       "M148.057 1486.45 L2352.76 1486.45 L2352.76 47.2441 L148.057 47.2441  Z\n",
       "  \" fill=\"#ffffff\" fill-rule=\"evenodd\" fill-opacity=\"1\"/>\n",
       "<defs>\n",
       "  <clipPath id=\"clip562\">\n",
       "    <rect x=\"148\" y=\"47\" width=\"2206\" height=\"1440\"/>\n",
       "  </clipPath>\n",
       "</defs>\n",
       "<polyline clip-path=\"url(#clip562)\" style=\"stroke:#000000; stroke-linecap:round; stroke-linejoin:round; stroke-width:2; stroke-opacity:0.1; fill:none\" points=\"\n",
       "  189.445,1486.45 189.445,47.2441 \n",
       "  \"/>\n",
       "<polyline clip-path=\"url(#clip562)\" style=\"stroke:#000000; stroke-linecap:round; stroke-linejoin:round; stroke-width:2; stroke-opacity:0.1; fill:none\" points=\"\n",
       "  714.673,1486.45 714.673,47.2441 \n",
       "  \"/>\n",
       "<polyline clip-path=\"url(#clip562)\" style=\"stroke:#000000; stroke-linecap:round; stroke-linejoin:round; stroke-width:2; stroke-opacity:0.1; fill:none\" points=\"\n",
       "  1239.9,1486.45 1239.9,47.2441 \n",
       "  \"/>\n",
       "<polyline clip-path=\"url(#clip562)\" style=\"stroke:#000000; stroke-linecap:round; stroke-linejoin:round; stroke-width:2; stroke-opacity:0.1; fill:none\" points=\"\n",
       "  1765.13,1486.45 1765.13,47.2441 \n",
       "  \"/>\n",
       "<polyline clip-path=\"url(#clip562)\" style=\"stroke:#000000; stroke-linecap:round; stroke-linejoin:round; stroke-width:2; stroke-opacity:0.1; fill:none\" points=\"\n",
       "  2290.36,1486.45 2290.36,47.2441 \n",
       "  \"/>\n",
       "<polyline clip-path=\"url(#clip560)\" style=\"stroke:#000000; stroke-linecap:round; stroke-linejoin:round; stroke-width:4; stroke-opacity:1; fill:none\" points=\"\n",
       "  148.057,1486.45 2352.76,1486.45 \n",
       "  \"/>\n",
       "<polyline clip-path=\"url(#clip560)\" style=\"stroke:#000000; stroke-linecap:round; stroke-linejoin:round; stroke-width:4; stroke-opacity:1; fill:none\" points=\"\n",
       "  189.445,1486.45 189.445,1467.55 \n",
       "  \"/>\n",
       "<polyline clip-path=\"url(#clip560)\" style=\"stroke:#000000; stroke-linecap:round; stroke-linejoin:round; stroke-width:4; stroke-opacity:1; fill:none\" points=\"\n",
       "  714.673,1486.45 714.673,1467.55 \n",
       "  \"/>\n",
       "<polyline clip-path=\"url(#clip560)\" style=\"stroke:#000000; stroke-linecap:round; stroke-linejoin:round; stroke-width:4; stroke-opacity:1; fill:none\" points=\"\n",
       "  1239.9,1486.45 1239.9,1467.55 \n",
       "  \"/>\n",
       "<polyline clip-path=\"url(#clip560)\" style=\"stroke:#000000; stroke-linecap:round; stroke-linejoin:round; stroke-width:4; stroke-opacity:1; fill:none\" points=\"\n",
       "  1765.13,1486.45 1765.13,1467.55 \n",
       "  \"/>\n",
       "<polyline clip-path=\"url(#clip560)\" style=\"stroke:#000000; stroke-linecap:round; stroke-linejoin:round; stroke-width:4; stroke-opacity:1; fill:none\" points=\"\n",
       "  2290.36,1486.45 2290.36,1467.55 \n",
       "  \"/>\n",
       "<path clip-path=\"url(#clip560)\" d=\"M189.445 1517.37 Q185.834 1517.37 184.005 1520.93 Q182.199 1524.47 182.199 1531.6 Q182.199 1538.71 184.005 1542.27 Q185.834 1545.82 189.445 1545.82 Q193.079 1545.82 194.884 1542.27 Q196.713 1538.71 196.713 1531.6 Q196.713 1524.47 194.884 1520.93 Q193.079 1517.37 189.445 1517.37 M189.445 1513.66 Q195.255 1513.66 198.31 1518.27 Q201.389 1522.85 201.389 1531.6 Q201.389 1540.33 198.31 1544.94 Q195.255 1549.52 189.445 1549.52 Q183.634 1549.52 180.556 1544.94 Q177.5 1540.33 177.5 1531.6 Q177.5 1522.85 180.556 1518.27 Q183.634 1513.66 189.445 1513.66 Z\" fill=\"#000000\" fill-rule=\"evenodd\" fill-opacity=\"1\" /><path clip-path=\"url(#clip560)\" d=\"M693.944 1544.91 L710.263 1544.91 L710.263 1548.85 L688.319 1548.85 L688.319 1544.91 Q690.981 1542.16 695.564 1537.53 Q700.171 1532.88 701.351 1531.53 Q703.597 1529.01 704.476 1527.27 Q705.379 1525.51 705.379 1523.82 Q705.379 1521.07 703.435 1519.33 Q701.514 1517.6 698.412 1517.6 Q696.213 1517.6 693.759 1518.36 Q691.328 1519.13 688.551 1520.68 L688.551 1515.95 Q691.375 1514.82 693.828 1514.24 Q696.282 1513.66 698.319 1513.66 Q703.689 1513.66 706.884 1516.35 Q710.078 1519.03 710.078 1523.52 Q710.078 1525.65 709.268 1527.57 Q708.481 1529.47 706.375 1532.07 Q705.796 1532.74 702.694 1535.95 Q699.592 1539.15 693.944 1544.91 Z\" fill=\"#000000\" fill-rule=\"evenodd\" fill-opacity=\"1\" /><path clip-path=\"url(#clip560)\" d=\"M720.125 1514.29 L738.481 1514.29 L738.481 1518.22 L724.407 1518.22 L724.407 1526.7 Q725.425 1526.35 726.444 1526.19 Q727.462 1526 728.481 1526 Q734.268 1526 737.648 1529.17 Q741.027 1532.34 741.027 1537.76 Q741.027 1543.34 737.555 1546.44 Q734.083 1549.52 727.763 1549.52 Q725.587 1549.52 723.319 1549.15 Q721.074 1548.78 718.666 1548.04 L718.666 1543.34 Q720.75 1544.47 722.972 1545.03 Q725.194 1545.58 727.671 1545.58 Q731.675 1545.58 734.013 1543.48 Q736.351 1541.37 736.351 1537.76 Q736.351 1534.15 734.013 1532.04 Q731.675 1529.94 727.671 1529.94 Q725.796 1529.94 723.921 1530.35 Q722.069 1530.77 720.125 1531.65 L720.125 1514.29 Z\" fill=\"#000000\" fill-rule=\"evenodd\" fill-opacity=\"1\" /><path clip-path=\"url(#clip560)\" d=\"M1214.6 1514.29 L1232.96 1514.29 L1232.96 1518.22 L1218.88 1518.22 L1218.88 1526.7 Q1219.9 1526.35 1220.92 1526.19 Q1221.94 1526 1222.96 1526 Q1228.74 1526 1232.12 1529.17 Q1235.5 1532.34 1235.5 1537.76 Q1235.5 1543.34 1232.03 1546.44 Q1228.56 1549.52 1222.24 1549.52 Q1220.06 1549.52 1217.8 1549.15 Q1215.55 1548.78 1213.14 1548.04 L1213.14 1543.34 Q1215.23 1544.47 1217.45 1545.03 Q1219.67 1545.58 1222.15 1545.58 Q1226.15 1545.58 1228.49 1543.48 Q1230.83 1541.37 1230.83 1537.76 Q1230.83 1534.15 1228.49 1532.04 Q1226.15 1529.94 1222.15 1529.94 Q1220.27 1529.94 1218.4 1530.35 Q1216.55 1530.77 1214.6 1531.65 L1214.6 1514.29 Z\" fill=\"#000000\" fill-rule=\"evenodd\" fill-opacity=\"1\" /><path clip-path=\"url(#clip560)\" d=\"M1254.72 1517.37 Q1251.11 1517.37 1249.28 1520.93 Q1247.47 1524.47 1247.47 1531.6 Q1247.47 1538.71 1249.28 1542.27 Q1251.11 1545.82 1254.72 1545.82 Q1258.35 1545.82 1260.16 1542.27 Q1261.98 1538.71 1261.98 1531.6 Q1261.98 1524.47 1260.16 1520.93 Q1258.35 1517.37 1254.72 1517.37 M1254.72 1513.66 Q1260.53 1513.66 1263.58 1518.27 Q1266.66 1522.85 1266.66 1531.6 Q1266.66 1540.33 1263.58 1544.94 Q1260.53 1549.52 1254.72 1549.52 Q1248.91 1549.52 1245.83 1544.94 Q1242.77 1540.33 1242.77 1531.6 Q1242.77 1522.85 1245.83 1518.27 Q1248.91 1513.66 1254.72 1513.66 Z\" fill=\"#000000\" fill-rule=\"evenodd\" fill-opacity=\"1\" /><path clip-path=\"url(#clip560)\" d=\"M1738.98 1514.29 L1761.21 1514.29 L1761.21 1516.28 L1748.66 1548.85 L1743.78 1548.85 L1755.58 1518.22 L1738.98 1518.22 L1738.98 1514.29 Z\" fill=\"#000000\" fill-rule=\"evenodd\" fill-opacity=\"1\" /><path clip-path=\"url(#clip560)\" d=\"M1770.37 1514.29 L1788.73 1514.29 L1788.73 1518.22 L1774.66 1518.22 L1774.66 1526.7 Q1775.67 1526.35 1776.69 1526.19 Q1777.71 1526 1778.73 1526 Q1784.52 1526 1787.9 1529.17 Q1791.28 1532.34 1791.28 1537.76 Q1791.28 1543.34 1787.8 1546.44 Q1784.33 1549.52 1778.01 1549.52 Q1775.84 1549.52 1773.57 1549.15 Q1771.32 1548.78 1768.91 1548.04 L1768.91 1543.34 Q1771 1544.47 1773.22 1545.03 Q1775.44 1545.58 1777.92 1545.58 Q1781.92 1545.58 1784.26 1543.48 Q1786.6 1541.37 1786.6 1537.76 Q1786.6 1534.15 1784.26 1532.04 Q1781.92 1529.94 1777.92 1529.94 Q1776.04 1529.94 1774.17 1530.35 Q1772.32 1530.77 1770.37 1531.65 L1770.37 1514.29 Z\" fill=\"#000000\" fill-rule=\"evenodd\" fill-opacity=\"1\" /><path clip-path=\"url(#clip560)\" d=\"M2249.97 1544.91 L2257.6 1544.91 L2257.6 1518.55 L2249.29 1520.21 L2249.29 1515.95 L2257.56 1514.29 L2262.23 1514.29 L2262.23 1544.91 L2269.87 1544.91 L2269.87 1548.85 L2249.97 1548.85 L2249.97 1544.91 Z\" fill=\"#000000\" fill-rule=\"evenodd\" fill-opacity=\"1\" /><path clip-path=\"url(#clip560)\" d=\"M2289.32 1517.37 Q2285.71 1517.37 2283.88 1520.93 Q2282.07 1524.47 2282.07 1531.6 Q2282.07 1538.71 2283.88 1542.27 Q2285.71 1545.82 2289.32 1545.82 Q2292.95 1545.82 2294.76 1542.27 Q2296.59 1538.71 2296.59 1531.6 Q2296.59 1524.47 2294.76 1520.93 Q2292.95 1517.37 2289.32 1517.37 M2289.32 1513.66 Q2295.13 1513.66 2298.18 1518.27 Q2301.26 1522.85 2301.26 1531.6 Q2301.26 1540.33 2298.18 1544.94 Q2295.13 1549.52 2289.32 1549.52 Q2283.51 1549.52 2280.43 1544.94 Q2277.37 1540.33 2277.37 1531.6 Q2277.37 1522.85 2280.43 1518.27 Q2283.51 1513.66 2289.32 1513.66 Z\" fill=\"#000000\" fill-rule=\"evenodd\" fill-opacity=\"1\" /><path clip-path=\"url(#clip560)\" d=\"M2319.48 1517.37 Q2315.87 1517.37 2314.04 1520.93 Q2312.23 1524.47 2312.23 1531.6 Q2312.23 1538.71 2314.04 1542.27 Q2315.87 1545.82 2319.48 1545.82 Q2323.11 1545.82 2324.92 1542.27 Q2326.75 1538.71 2326.75 1531.6 Q2326.75 1524.47 2324.92 1520.93 Q2323.11 1517.37 2319.48 1517.37 M2319.48 1513.66 Q2325.29 1513.66 2328.34 1518.27 Q2331.42 1522.85 2331.42 1531.6 Q2331.42 1540.33 2328.34 1544.94 Q2325.29 1549.52 2319.48 1549.52 Q2313.67 1549.52 2310.59 1544.94 Q2307.53 1540.33 2307.53 1531.6 Q2307.53 1522.85 2310.59 1518.27 Q2313.67 1513.66 2319.48 1513.66 Z\" fill=\"#000000\" fill-rule=\"evenodd\" fill-opacity=\"1\" /><polyline clip-path=\"url(#clip562)\" style=\"stroke:#000000; stroke-linecap:round; stroke-linejoin:round; stroke-width:2; stroke-opacity:0.1; fill:none\" points=\"\n",
       "  148.057,1301.06 2352.76,1301.06 \n",
       "  \"/>\n",
       "<polyline clip-path=\"url(#clip562)\" style=\"stroke:#000000; stroke-linecap:round; stroke-linejoin:round; stroke-width:2; stroke-opacity:0.1; fill:none\" points=\"\n",
       "  148.057,1088.2 2352.76,1088.2 \n",
       "  \"/>\n",
       "<polyline clip-path=\"url(#clip562)\" style=\"stroke:#000000; stroke-linecap:round; stroke-linejoin:round; stroke-width:2; stroke-opacity:0.1; fill:none\" points=\"\n",
       "  148.057,875.337 2352.76,875.337 \n",
       "  \"/>\n",
       "<polyline clip-path=\"url(#clip562)\" style=\"stroke:#000000; stroke-linecap:round; stroke-linejoin:round; stroke-width:2; stroke-opacity:0.1; fill:none\" points=\"\n",
       "  148.057,662.477 2352.76,662.477 \n",
       "  \"/>\n",
       "<polyline clip-path=\"url(#clip562)\" style=\"stroke:#000000; stroke-linecap:round; stroke-linejoin:round; stroke-width:2; stroke-opacity:0.1; fill:none\" points=\"\n",
       "  148.057,449.617 2352.76,449.617 \n",
       "  \"/>\n",
       "<polyline clip-path=\"url(#clip562)\" style=\"stroke:#000000; stroke-linecap:round; stroke-linejoin:round; stroke-width:2; stroke-opacity:0.1; fill:none\" points=\"\n",
       "  148.057,236.757 2352.76,236.757 \n",
       "  \"/>\n",
       "<polyline clip-path=\"url(#clip560)\" style=\"stroke:#000000; stroke-linecap:round; stroke-linejoin:round; stroke-width:4; stroke-opacity:1; fill:none\" points=\"\n",
       "  148.057,1486.45 148.057,47.2441 \n",
       "  \"/>\n",
       "<polyline clip-path=\"url(#clip560)\" style=\"stroke:#000000; stroke-linecap:round; stroke-linejoin:round; stroke-width:4; stroke-opacity:1; fill:none\" points=\"\n",
       "  148.057,1301.06 166.954,1301.06 \n",
       "  \"/>\n",
       "<polyline clip-path=\"url(#clip560)\" style=\"stroke:#000000; stroke-linecap:round; stroke-linejoin:round; stroke-width:4; stroke-opacity:1; fill:none\" points=\"\n",
       "  148.057,1088.2 166.954,1088.2 \n",
       "  \"/>\n",
       "<polyline clip-path=\"url(#clip560)\" style=\"stroke:#000000; stroke-linecap:round; stroke-linejoin:round; stroke-width:4; stroke-opacity:1; fill:none\" points=\"\n",
       "  148.057,875.337 166.954,875.337 \n",
       "  \"/>\n",
       "<polyline clip-path=\"url(#clip560)\" style=\"stroke:#000000; stroke-linecap:round; stroke-linejoin:round; stroke-width:4; stroke-opacity:1; fill:none\" points=\"\n",
       "  148.057,662.477 166.954,662.477 \n",
       "  \"/>\n",
       "<polyline clip-path=\"url(#clip560)\" style=\"stroke:#000000; stroke-linecap:round; stroke-linejoin:round; stroke-width:4; stroke-opacity:1; fill:none\" points=\"\n",
       "  148.057,449.617 166.954,449.617 \n",
       "  \"/>\n",
       "<polyline clip-path=\"url(#clip560)\" style=\"stroke:#000000; stroke-linecap:round; stroke-linejoin:round; stroke-width:4; stroke-opacity:1; fill:none\" points=\"\n",
       "  148.057,236.757 166.954,236.757 \n",
       "  \"/>\n",
       "<path clip-path=\"url(#clip560)\" d=\"M50.9921 1301.51 L80.6679 1301.51 L80.6679 1305.44 L50.9921 1305.44 L50.9921 1301.51 Z\" fill=\"#000000\" fill-rule=\"evenodd\" fill-opacity=\"1\" /><path clip-path=\"url(#clip560)\" d=\"M104.927 1299.7 Q108.283 1300.42 110.158 1302.69 Q112.057 1304.96 112.057 1308.29 Q112.057 1313.41 108.538 1316.21 Q105.02 1319.01 98.5382 1319.01 Q96.3623 1319.01 94.0475 1318.57 Q91.7558 1318.15 89.3021 1317.3 L89.3021 1312.78 Q91.2465 1313.92 93.5613 1314.49 Q95.8761 1315.07 98.3993 1315.07 Q102.797 1315.07 105.089 1313.34 Q107.404 1311.6 107.404 1308.29 Q107.404 1305.23 105.251 1303.52 Q103.121 1301.79 99.3021 1301.79 L95.2743 1301.79 L95.2743 1297.94 L99.4872 1297.94 Q102.936 1297.94 104.765 1296.58 Q106.594 1295.19 106.594 1292.6 Q106.594 1289.93 104.696 1288.52 Q102.821 1287.09 99.3021 1287.09 Q97.3808 1287.09 95.1817 1287.5 Q92.9826 1287.92 90.3438 1288.8 L90.3438 1284.63 Q93.0058 1283.89 95.3206 1283.52 Q97.6585 1283.15 99.7187 1283.15 Q105.043 1283.15 108.145 1285.58 Q111.246 1287.99 111.246 1292.11 Q111.246 1294.98 109.603 1296.97 Q107.959 1298.94 104.927 1299.7 Z\" fill=\"#000000\" fill-rule=\"evenodd\" fill-opacity=\"1\" /><path clip-path=\"url(#clip560)\" d=\"M51.9412 1088.65 L81.617 1088.65 L81.617 1092.58 L51.9412 1092.58 L51.9412 1088.65 Z\" fill=\"#000000\" fill-rule=\"evenodd\" fill-opacity=\"1\" /><path clip-path=\"url(#clip560)\" d=\"M95.7373 1101.54 L112.057 1101.54 L112.057 1105.48 L90.1123 1105.48 L90.1123 1101.54 Q92.7743 1098.79 97.3576 1094.16 Q101.964 1089.5 103.145 1088.16 Q105.39 1085.64 106.27 1083.9 Q107.172 1082.14 107.172 1080.45 Q107.172 1077.7 105.228 1075.96 Q103.307 1074.23 100.205 1074.23 Q98.0058 1074.23 95.5521 1074.99 Q93.1215 1075.75 90.3438 1077.31 L90.3438 1072.58 Q93.1678 1071.45 95.6215 1070.87 Q98.0752 1070.29 100.112 1070.29 Q105.483 1070.29 108.677 1072.98 Q111.871 1075.66 111.871 1080.15 Q111.871 1082.28 111.061 1084.2 Q110.274 1086.1 108.168 1088.69 Q107.589 1089.37 104.487 1092.58 Q101.385 1095.78 95.7373 1101.54 Z\" fill=\"#000000\" fill-rule=\"evenodd\" fill-opacity=\"1\" /><path clip-path=\"url(#clip560)\" d=\"M51.5708 875.788 L81.2466 875.788 L81.2466 879.723 L51.5708 879.723 L51.5708 875.788 Z\" fill=\"#000000\" fill-rule=\"evenodd\" fill-opacity=\"1\" /><path clip-path=\"url(#clip560)\" d=\"M92.1493 888.681 L99.7882 888.681 L99.7882 862.316 L91.478 863.983 L91.478 859.723 L99.7419 858.057 L104.418 858.057 L104.418 888.681 L112.057 888.681 L112.057 892.617 L92.1493 892.617 L92.1493 888.681 Z\" fill=\"#000000\" fill-rule=\"evenodd\" fill-opacity=\"1\" /><path clip-path=\"url(#clip560)\" d=\"M100.112 648.275 Q96.5011 648.275 94.6724 651.84 Q92.8669 655.382 92.8669 662.511 Q92.8669 669.618 94.6724 673.183 Q96.5011 676.724 100.112 676.724 Q103.746 676.724 105.552 673.183 Q107.381 669.618 107.381 662.511 Q107.381 655.382 105.552 651.84 Q103.746 648.275 100.112 648.275 M100.112 644.572 Q105.922 644.572 108.978 649.178 Q112.057 653.761 112.057 662.511 Q112.057 671.238 108.978 675.845 Q105.922 680.428 100.112 680.428 Q94.3021 680.428 91.2234 675.845 Q88.1679 671.238 88.1679 662.511 Q88.1679 653.761 91.2234 649.178 Q94.3021 644.572 100.112 644.572 Z\" fill=\"#000000\" fill-rule=\"evenodd\" fill-opacity=\"1\" /><path clip-path=\"url(#clip560)\" d=\"M92.1493 462.961 L99.7882 462.961 L99.7882 436.596 L91.478 438.262 L91.478 434.003 L99.7419 432.337 L104.418 432.337 L104.418 462.961 L112.057 462.961 L112.057 466.897 L92.1493 466.897 L92.1493 462.961 Z\" fill=\"#000000\" fill-rule=\"evenodd\" fill-opacity=\"1\" /><path clip-path=\"url(#clip560)\" d=\"M95.7373 250.101 L112.057 250.101 L112.057 254.037 L90.1123 254.037 L90.1123 250.101 Q92.7743 247.347 97.3576 242.717 Q101.964 238.064 103.145 236.722 Q105.39 234.199 106.27 232.463 Q107.172 230.703 107.172 229.013 Q107.172 226.259 105.228 224.523 Q103.307 222.787 100.205 222.787 Q98.0058 222.787 95.5521 223.551 Q93.1215 224.314 90.3438 225.865 L90.3438 221.143 Q93.1678 220.009 95.6215 219.43 Q98.0752 218.852 100.112 218.852 Q105.483 218.852 108.677 221.537 Q111.871 224.222 111.871 228.713 Q111.871 230.842 111.061 232.763 Q110.274 234.662 108.168 237.254 Q107.589 237.925 104.487 241.143 Q101.385 244.337 95.7373 250.101 Z\" fill=\"#000000\" fill-rule=\"evenodd\" fill-opacity=\"1\" /><polyline clip-path=\"url(#clip562)\" style=\"stroke:#009af9; stroke-linecap:round; stroke-linejoin:round; stroke-width:4; stroke-opacity:1; fill:none\" points=\"\n",
       "  210.454,577.873 231.463,98.8987 252.472,935.746 273.481,246.178 294.49,693.9 315.499,423.738 336.509,543.415 357.518,795.728 378.527,850.51 399.536,846.685 \n",
       "  420.545,620.842 441.554,925.513 462.563,641.994 483.573,844.037 504.582,669.561 525.591,946.693 546.6,416.777 567.609,290.028 588.618,1154.81 609.627,622.392 \n",
       "  630.637,427.207 651.646,614.18 672.655,654.277 693.664,641.181 714.673,808.19 735.682,687.589 756.691,1010.65 777.701,966.082 798.71,756.904 819.719,746.273 \n",
       "  840.728,1025.32 861.737,822.943 882.746,411.602 903.755,1445.72 924.765,410.871 945.774,633.087 966.783,309.69 987.792,492.208 1008.8,718.95 1029.81,417.465 \n",
       "  1050.82,760.02 1071.83,766.032 1092.84,938.507 1113.85,530.98 1134.86,855.74 1155.87,647.86 1176.87,601.289 1197.88,613.387 1218.89,661.805 1239.9,561.801 \n",
       "  1260.91,818.09 1281.92,582.588 1302.93,923.541 1323.94,757.192 1344.95,591.433 1365.96,1055.22 1386.97,494.678 1407.97,806.869 1428.98,720.004 1449.99,598.745 \n",
       "  1471,609.785 1492.01,751.065 1513.02,468.368 1534.03,837.221 1555.04,429.168 1576.05,967.855 1597.06,873.074 1618.07,904.734 1639.08,531.442 1660.08,821.728 \n",
       "  1681.09,621.928 1702.1,786.315 1723.11,761.351 1744.12,236.954 1765.13,509.894 1786.14,568.268 1807.15,87.9763 1828.16,556.998 1849.17,728.668 1870.18,861.155 \n",
       "  1891.19,837.98 1912.19,516.46 1933.2,1008.51 1954.21,600.683 1975.22,643.313 1996.23,900.562 2017.24,669.892 2038.25,627.842 2059.26,436.918 2080.27,945.115 \n",
       "  2101.28,471.362 2122.29,641.887 2143.29,628.18 2164.3,436.959 2185.31,910.002 2206.32,499.311 2227.33,669.319 2248.34,919.252 2269.35,556.347 2290.36,384.697 \n",
       "  \n",
       "  \"/>\n",
       "<path clip-path=\"url(#clip560)\" d=\"\n",
       "M2006.37 1438.47 L2279.27 1438.47 L2279.27 1334.79 L2006.37 1334.79  Z\n",
       "  \" fill=\"#ffffff\" fill-rule=\"evenodd\" fill-opacity=\"1\"/>\n",
       "<polyline clip-path=\"url(#clip560)\" style=\"stroke:#000000; stroke-linecap:round; stroke-linejoin:round; stroke-width:4; stroke-opacity:1; fill:none\" points=\"\n",
       "  2006.37,1438.47 2279.27,1438.47 2279.27,1334.79 2006.37,1334.79 2006.37,1438.47 \n",
       "  \"/>\n",
       "<polyline clip-path=\"url(#clip560)\" style=\"stroke:#009af9; stroke-linecap:round; stroke-linejoin:round; stroke-width:4; stroke-opacity:1; fill:none\" points=\"\n",
       "  2030.86,1386.63 2177.84,1386.63 \n",
       "  \"/>\n",
       "<path clip-path=\"url(#clip560)\" d=\"M2216.18 1406.32 Q2214.38 1410.95 2212.66 1412.36 Q2210.95 1413.78 2208.08 1413.78 L2204.68 1413.78 L2204.68 1410.21 L2207.18 1410.21 Q2208.94 1410.21 2209.91 1409.38 Q2210.88 1408.54 2212.06 1405.44 L2212.83 1403.5 L2202.34 1377.99 L2206.85 1377.99 L2214.95 1398.27 L2223.06 1377.99 L2227.57 1377.99 L2216.18 1406.32 Z\" fill=\"#000000\" fill-rule=\"evenodd\" fill-opacity=\"1\" /><path clip-path=\"url(#clip560)\" d=\"M2234.86 1399.98 L2242.5 1399.98 L2242.5 1373.61 L2234.19 1375.28 L2234.19 1371.02 L2242.45 1369.35 L2247.13 1369.35 L2247.13 1399.98 L2254.77 1399.98 L2254.77 1403.91 L2234.86 1403.91 L2234.86 1399.98 Z\" fill=\"#000000\" fill-rule=\"evenodd\" fill-opacity=\"1\" /></svg>\n"
      ]
     },
     "execution_count": 3,
     "metadata": {},
     "output_type": "execute_result"
    }
   ],
   "source": [
    "n = 100\n",
    "ϵ = randn(n)\n",
    "plot(1:n, ϵ)"
   ]
  },
  {
   "attachments": {},
   "cell_type": "markdown",
   "id": "2f43b97c",
   "metadata": {},
   "source": [
    "Let’s break this down and see how it works.\n",
    "\n",
    "The effect of the statement `using Plots` is to make all the names exported by the `Plots` module available.\n",
    "\n",
    "If a project file was activated (i.e., running jupyter with the project files local to the notebook), it will use whatever version of `Plots.jl` that was specified in the `Project.toml` and `Manifest.toml` files.\n",
    "\n",
    "The other packages `LinearAlgebra` and `Statistics` are base Julia libraries, but require an explicit using.\n",
    "\n",
    "The arguments to `plot` are the numbers `1,2, ..., n` for the x-axis, a vector `ϵ` for the y-axis, and (optional) settings.\n",
    "\n",
    "The function `randn(n)` returns a column vector `n` random draws from a normal distribution with mean 0 and variance 1."
   ]
  },
  {
   "attachments": {},
   "cell_type": "markdown",
   "id": "18eba952",
   "metadata": {},
   "source": [
    "### Arrays\n",
    "\n",
    "As a language intended for mathematical and scientific computing, Julia has\n",
    "strong support for using unicode characters.\n",
    "\n",
    "In the above case, the `ϵ` and many other symbols can be typed in most Julia editor by providing the LaTeX and `<TAB>`, i.e. `\\epsilon<TAB>`.\n",
    "\n",
    "The return type is one of the most fundamental Julia data types: an array"
   ]
  },
  {
   "cell_type": "code",
   "execution_count": 4,
   "id": "b68e88e0",
   "metadata": {
    "hide-output": false
   },
   "outputs": [
    {
     "data": {
      "text/plain": [
       "Vector{Float64}\u001b[90m (alias for \u001b[39m\u001b[90mArray{Float64, 1}\u001b[39m\u001b[90m)\u001b[39m"
      ]
     },
     "execution_count": 4,
     "metadata": {},
     "output_type": "execute_result"
    }
   ],
   "source": [
    "typeof(ϵ)"
   ]
  },
  {
   "cell_type": "code",
   "execution_count": 5,
   "id": "bf62bc5f",
   "metadata": {
    "hide-output": false
   },
   "outputs": [
    {
     "data": {
      "text/plain": [
       "5-element Vector{Float64}:\n",
       "  0.39746266281858234\n",
       "  2.647645251842892\n",
       " -1.2837994764567677\n",
       "  1.9557393767060478\n",
       " -0.14762546934196485"
      ]
     },
     "execution_count": 5,
     "metadata": {},
     "output_type": "execute_result"
    }
   ],
   "source": [
    "ϵ[1:5]"
   ]
  },
  {
   "attachments": {},
   "cell_type": "markdown",
   "id": "62a69e80",
   "metadata": {},
   "source": [
    "The information from `typeof()` tells us that `ϵ` is an array of 64 bit floating point values, of dimension 1.\n",
    "\n",
    "In Julia, one-dimensional arrays are interpreted as column vectors for purposes of linear algebra.\n",
    "\n",
    "The `ϵ[1:5]` returns an array of the first 5 elements of `ϵ`.\n",
    "\n",
    "Notice from the above that\n",
    "\n",
    "- array indices start at 1 (like MATLAB and Fortran, but unlike Python and C)  \n",
    "- array elements are referenced using square brackets (unlike MATLAB and Fortran)  \n",
    "\n",
    "\n",
    "To get **help and examples** in Jupyter or other julia editors, use the `?` before a function name or syntax."
   ]
  },
  {
   "cell_type": "code",
   "execution_count": null,
   "id": "fa832bfe",
   "metadata": {
    "hide-output": false
   },
   "outputs": [],
   "source": [
    "?typeof\n",
    "\n",
    "search: typeof typejoin TypeError\n",
    "\n",
    "Get the concrete type of x.\n",
    "\n",
    "Examples\n",
    "\n",
    "julia> a = 1//2;\n",
    "\n",
    "julia> typeof(a)\n",
    "Rational{Int64}\n",
    "\n",
    "julia> M = [1 2; 3.5 4];\n",
    "\n",
    "julia> typeof(M)\n",
    "Array{Float64,2}"
   ]
  },
  {
   "attachments": {},
   "cell_type": "markdown",
   "id": "a518901c",
   "metadata": {},
   "source": [
    "### For Loops\n",
    "\n",
    "Although there’s no need in terms of what we wanted to achieve with our\n",
    "program, for the sake of learning syntax let’s rewrite our program to use a\n",
    "`for` loop for generating the data.\n",
    "\n",
    ">**Note**\n",
    ">\n",
    ">The rules for variables accessed in `for` and `while` loops can be sensitive to how they are used (and variables can sometimes require a `global` as part of the declaration).  We strongly advise you to avoid top level (i.e. outside of functions) `for` and `while` loops when working with `.jl`.  This scoping issue does not apply when used within functions, and will not be seen in the REPL or Jupyter notebooks.\n",
    "\n",
    "Starting with the most direct version, and pretending we are in a world where `randn` can only return a single value"
   ]
  },
  {
   "cell_type": "code",
   "execution_count": 6,
   "id": "5b0d068f",
   "metadata": {
    "hide-output": false
   },
   "outputs": [],
   "source": [
    "# poor style\n",
    "n = 100\n",
    "ϵ = zeros(n)\n",
    "for i in 1:n\n",
    "    ϵ[i] = randn()\n",
    "end"
   ]
  },
  {
   "attachments": {},
   "cell_type": "markdown",
   "id": "66c19bb3",
   "metadata": {},
   "source": [
    "Here we first declared `ϵ` to be a vector of `n` numbers, initialized by the floating point `0.0`.\n",
    "\n",
    "The `for` loop then populates this array by successive calls to `randn()`.\n",
    "\n",
    "Like all code blocks in Julia, the end of the `for` loop code block (which is just one line here) is indicated by the keyword `end`.\n",
    "\n",
    "The word `in` from the `for` loop can be replaced by either `∈` or `=`.\n",
    "\n",
    "The index variable is looped over for all integers from `1:n` – but this does not actually create a vector of those indices.\n",
    "\n",
    "Instead, it creates an **iterator** that is looped over – in this case the **range** of integers from `1` to `n`.\n",
    "\n",
    "While this example successfully fills in `ϵ` with the correct values, it is very indirect as the connection between the index `i` and the `ϵ` vector is unclear.\n",
    "\n",
    "To fix this, use `eachindex`"
   ]
  },
  {
   "cell_type": "code",
   "execution_count": 7,
   "id": "16473581",
   "metadata": {
    "hide-output": false
   },
   "outputs": [],
   "source": [
    "# better style\n",
    "n = 100\n",
    "ϵ = zeros(n)\n",
    "for i in eachindex(ϵ)\n",
    "    ϵ[i] = randn()\n",
    "end"
   ]
  },
  {
   "attachments": {},
   "cell_type": "markdown",
   "id": "b7e373fe",
   "metadata": {},
   "source": [
    "Here, `eachindex(ϵ)` returns an iterator of indices which can be used to access `ϵ`.\n",
    "\n",
    "While iterators are memory efficient because the elements are generated on the fly rather than stored in memory, the main benefit is (1) it can lead to code which is clearer and less prone to typos; and (2) it allows the compiler flexibility to creatively generate fast code.\n",
    "\n",
    "In Julia you can also loop directly over arrays themselves, like so"
   ]
  },
  {
   "cell_type": "code",
   "execution_count": 8,
   "id": "0404cfb6",
   "metadata": {
    "hide-output": false
   },
   "outputs": [
    {
     "data": {
      "text/plain": [
       "-0.4337688093419013"
      ]
     },
     "execution_count": 8,
     "metadata": {},
     "output_type": "execute_result"
    }
   ],
   "source": [
    "ϵ_sum = 0.0 # careful to use 0.0 here, instead of 0\n",
    "m = 5\n",
    "for ϵ_val in ϵ[1:m]\n",
    "    ϵ_sum = ϵ_sum + ϵ_val\n",
    "end\n",
    "ϵ_mean = ϵ_sum / m"
   ]
  },
  {
   "attachments": {},
   "cell_type": "markdown",
   "id": "2f8bda9a",
   "metadata": {},
   "source": [
    "where `ϵ[1:m]` returns the elements of the vector at indices `1` to `m`.\n",
    "\n",
    "Of course, in Julia there are built in functions to perform this calculation which we can compare against"
   ]
  },
  {
   "cell_type": "code",
   "execution_count": 9,
   "id": "32aacfd9",
   "metadata": {
    "hide-output": false
   },
   "outputs": [
    {
     "data": {
      "text/plain": [
       "true"
      ]
     },
     "execution_count": 9,
     "metadata": {},
     "output_type": "execute_result"
    }
   ],
   "source": [
    "ϵ_mean ≈ mean(ϵ[1:m])\n",
    "ϵ_mean ≈ sum(ϵ[1:m]) / m"
   ]
  },
  {
   "attachments": {},
   "cell_type": "markdown",
   "id": "16649109",
   "metadata": {},
   "source": [
    "In these examples, note the use of `≈` to test equality, rather than `==`, which is appropriate for integers and other types.\n",
    "\n",
    "Approximately equal, typed with `\\approx<TAB>`, is the appropriate way to compare any floating point numbers due to the standard issues of [floating point math](https://floating-point-gui.de/).\n",
    "\n",
    "\n",
    "<a id='user-defined-functions'></a>"
   ]
  },
  {
   "attachments": {},
   "cell_type": "markdown",
   "id": "0f2c9024",
   "metadata": {},
   "source": [
    "### User-Defined Functions\n",
    "\n",
    "For the sake of the exercise, let’s go back to the `for` loop but restructure our program so that generation of random variables takes place within a user-defined function.\n",
    "\n",
    "To make things more interesting, instead of directly plotting the draws from the distribution, let’s plot the squares of these draws"
   ]
  },
  {
   "cell_type": "code",
   "execution_count": 10,
   "id": "43a0d73a",
   "metadata": {
    "hide-output": false
   },
   "outputs": [
    {
     "data": {
      "image/svg+xml": [
       "<?xml version=\"1.0\" encoding=\"utf-8\"?>\n",
       "<svg xmlns=\"http://www.w3.org/2000/svg\" xmlns:xlink=\"http://www.w3.org/1999/xlink\" width=\"600\" height=\"400\" viewBox=\"0 0 2400 1600\">\n",
       "<defs>\n",
       "  <clipPath id=\"clip600\">\n",
       "    <rect x=\"0\" y=\"0\" width=\"2400\" height=\"1600\"/>\n",
       "  </clipPath>\n",
       "</defs>\n",
       "<path clip-path=\"url(#clip600)\" d=\"\n",
       "M0 1600 L2400 1600 L2400 0 L0 0  Z\n",
       "  \" fill=\"#ffffff\" fill-rule=\"evenodd\" fill-opacity=\"1\"/>\n",
       "<defs>\n",
       "  <clipPath id=\"clip601\">\n",
       "    <rect x=\"480\" y=\"0\" width=\"1681\" height=\"1600\"/>\n",
       "  </clipPath>\n",
       "</defs>\n",
       "<path clip-path=\"url(#clip600)\" d=\"\n",
       "M112.177 1486.45 L2352.76 1486.45 L2352.76 47.2441 L112.177 47.2441  Z\n",
       "  \" fill=\"#ffffff\" fill-rule=\"evenodd\" fill-opacity=\"1\"/>\n",
       "<defs>\n",
       "  <clipPath id=\"clip602\">\n",
       "    <rect x=\"112\" y=\"47\" width=\"2242\" height=\"1440\"/>\n",
       "  </clipPath>\n",
       "</defs>\n",
       "<polyline clip-path=\"url(#clip602)\" style=\"stroke:#000000; stroke-linecap:round; stroke-linejoin:round; stroke-width:2; stroke-opacity:0.1; fill:none\" points=\"\n",
       "  410.451,1486.45 410.451,47.2441 \n",
       "  \"/>\n",
       "<polyline clip-path=\"url(#clip602)\" style=\"stroke:#000000; stroke-linecap:round; stroke-linejoin:round; stroke-width:2; stroke-opacity:0.1; fill:none\" points=\"\n",
       "  880.174,1486.45 880.174,47.2441 \n",
       "  \"/>\n",
       "<polyline clip-path=\"url(#clip602)\" style=\"stroke:#000000; stroke-linecap:round; stroke-linejoin:round; stroke-width:2; stroke-opacity:0.1; fill:none\" points=\"\n",
       "  1349.9,1486.45 1349.9,47.2441 \n",
       "  \"/>\n",
       "<polyline clip-path=\"url(#clip602)\" style=\"stroke:#000000; stroke-linecap:round; stroke-linejoin:round; stroke-width:2; stroke-opacity:0.1; fill:none\" points=\"\n",
       "  1819.62,1486.45 1819.62,47.2441 \n",
       "  \"/>\n",
       "<polyline clip-path=\"url(#clip602)\" style=\"stroke:#000000; stroke-linecap:round; stroke-linejoin:round; stroke-width:2; stroke-opacity:0.1; fill:none\" points=\"\n",
       "  2289.34,1486.45 2289.34,47.2441 \n",
       "  \"/>\n",
       "<polyline clip-path=\"url(#clip600)\" style=\"stroke:#000000; stroke-linecap:round; stroke-linejoin:round; stroke-width:4; stroke-opacity:1; fill:none\" points=\"\n",
       "  112.177,1486.45 2352.76,1486.45 \n",
       "  \"/>\n",
       "<polyline clip-path=\"url(#clip600)\" style=\"stroke:#000000; stroke-linecap:round; stroke-linejoin:round; stroke-width:4; stroke-opacity:1; fill:none\" points=\"\n",
       "  410.451,1486.45 410.451,1467.55 \n",
       "  \"/>\n",
       "<polyline clip-path=\"url(#clip600)\" style=\"stroke:#000000; stroke-linecap:round; stroke-linejoin:round; stroke-width:4; stroke-opacity:1; fill:none\" points=\"\n",
       "  880.174,1486.45 880.174,1467.55 \n",
       "  \"/>\n",
       "<polyline clip-path=\"url(#clip600)\" style=\"stroke:#000000; stroke-linecap:round; stroke-linejoin:round; stroke-width:4; stroke-opacity:1; fill:none\" points=\"\n",
       "  1349.9,1486.45 1349.9,1467.55 \n",
       "  \"/>\n",
       "<polyline clip-path=\"url(#clip600)\" style=\"stroke:#000000; stroke-linecap:round; stroke-linejoin:round; stroke-width:4; stroke-opacity:1; fill:none\" points=\"\n",
       "  1819.62,1486.45 1819.62,1467.55 \n",
       "  \"/>\n",
       "<polyline clip-path=\"url(#clip600)\" style=\"stroke:#000000; stroke-linecap:round; stroke-linejoin:round; stroke-width:4; stroke-opacity:1; fill:none\" points=\"\n",
       "  2289.34,1486.45 2289.34,1467.55 \n",
       "  \"/>\n",
       "<path clip-path=\"url(#clip600)\" d=\"M405.104 1544.91 L421.423 1544.91 L421.423 1548.85 L399.479 1548.85 L399.479 1544.91 Q402.141 1542.16 406.724 1537.53 Q411.331 1532.88 412.511 1531.53 Q414.757 1529.01 415.636 1527.27 Q416.539 1525.51 416.539 1523.82 Q416.539 1521.07 414.595 1519.33 Q412.673 1517.6 409.572 1517.6 Q407.373 1517.6 404.919 1518.36 Q402.488 1519.13 399.711 1520.68 L399.711 1515.95 Q402.535 1514.82 404.988 1514.24 Q407.442 1513.66 409.479 1513.66 Q414.849 1513.66 418.044 1516.35 Q421.238 1519.03 421.238 1523.52 Q421.238 1525.65 420.428 1527.57 Q419.641 1529.47 417.535 1532.07 Q416.956 1532.74 413.854 1535.95 Q410.752 1539.15 405.104 1544.91 Z\" fill=\"#000000\" fill-rule=\"evenodd\" fill-opacity=\"1\" /><path clip-path=\"url(#clip600)\" d=\"M883.184 1518.36 L871.378 1536.81 L883.184 1536.81 L883.184 1518.36 M881.957 1514.29 L887.836 1514.29 L887.836 1536.81 L892.767 1536.81 L892.767 1540.7 L887.836 1540.7 L887.836 1548.85 L883.184 1548.85 L883.184 1540.7 L867.582 1540.7 L867.582 1536.19 L881.957 1514.29 Z\" fill=\"#000000\" fill-rule=\"evenodd\" fill-opacity=\"1\" /><path clip-path=\"url(#clip600)\" d=\"M1350.3 1529.7 Q1347.15 1529.7 1345.3 1531.86 Q1343.47 1534.01 1343.47 1537.76 Q1343.47 1541.49 1345.3 1543.66 Q1347.15 1545.82 1350.3 1545.82 Q1353.45 1545.82 1355.28 1543.66 Q1357.13 1541.49 1357.13 1537.76 Q1357.13 1534.01 1355.28 1531.86 Q1353.45 1529.7 1350.3 1529.7 M1359.58 1515.05 L1359.58 1519.31 Q1357.83 1518.48 1356.02 1518.04 Q1354.24 1517.6 1352.48 1517.6 Q1347.85 1517.6 1345.4 1520.72 Q1342.96 1523.85 1342.62 1530.17 Q1343.98 1528.15 1346.04 1527.09 Q1348.1 1526 1350.58 1526 Q1355.79 1526 1358.8 1529.17 Q1361.83 1532.32 1361.83 1537.76 Q1361.83 1543.08 1358.68 1546.3 Q1355.53 1549.52 1350.3 1549.52 Q1344.31 1549.52 1341.14 1544.94 Q1337.96 1540.33 1337.96 1531.6 Q1337.96 1523.41 1341.85 1518.55 Q1345.74 1513.66 1352.29 1513.66 Q1354.05 1513.66 1355.83 1514.01 Q1357.64 1514.36 1359.58 1515.05 Z\" fill=\"#000000\" fill-rule=\"evenodd\" fill-opacity=\"1\" /><path clip-path=\"url(#clip600)\" d=\"M1819.62 1532.44 Q1816.29 1532.44 1814.37 1534.22 Q1812.47 1536 1812.47 1539.13 Q1812.47 1542.25 1814.37 1544.03 Q1816.29 1545.82 1819.62 1545.82 Q1822.95 1545.82 1824.87 1544.03 Q1826.8 1542.23 1826.8 1539.13 Q1826.8 1536 1824.87 1534.22 Q1822.98 1532.44 1819.62 1532.44 M1814.94 1530.45 Q1811.94 1529.7 1810.25 1527.64 Q1808.58 1525.58 1808.58 1522.62 Q1808.58 1518.48 1811.52 1516.07 Q1814.48 1513.66 1819.62 1513.66 Q1824.78 1513.66 1827.72 1516.07 Q1830.66 1518.48 1830.66 1522.62 Q1830.66 1525.58 1828.97 1527.64 Q1827.31 1529.7 1824.32 1530.45 Q1827.7 1531.23 1829.57 1533.52 Q1831.47 1535.82 1831.47 1539.13 Q1831.47 1544.15 1828.39 1546.83 Q1825.34 1549.52 1819.62 1549.52 Q1813.9 1549.52 1810.82 1546.83 Q1807.77 1544.15 1807.77 1539.13 Q1807.77 1535.82 1809.67 1533.52 Q1811.56 1531.23 1814.94 1530.45 M1813.23 1523.06 Q1813.23 1525.75 1814.9 1527.25 Q1816.59 1528.76 1819.62 1528.76 Q1822.63 1528.76 1824.32 1527.25 Q1826.03 1525.75 1826.03 1523.06 Q1826.03 1520.38 1824.32 1518.87 Q1822.63 1517.37 1819.62 1517.37 Q1816.59 1517.37 1814.9 1518.87 Q1813.23 1520.38 1813.23 1523.06 Z\" fill=\"#000000\" fill-rule=\"evenodd\" fill-opacity=\"1\" /><path clip-path=\"url(#clip600)\" d=\"M2264.03 1544.91 L2271.67 1544.91 L2271.67 1518.55 L2263.36 1520.21 L2263.36 1515.95 L2271.62 1514.29 L2276.3 1514.29 L2276.3 1544.91 L2283.94 1544.91 L2283.94 1548.85 L2264.03 1548.85 L2264.03 1544.91 Z\" fill=\"#000000\" fill-rule=\"evenodd\" fill-opacity=\"1\" /><path clip-path=\"url(#clip600)\" d=\"M2303.38 1517.37 Q2299.77 1517.37 2297.94 1520.93 Q2296.14 1524.47 2296.14 1531.6 Q2296.14 1538.71 2297.94 1542.27 Q2299.77 1545.82 2303.38 1545.82 Q2307.02 1545.82 2308.82 1542.27 Q2310.65 1538.71 2310.65 1531.6 Q2310.65 1524.47 2308.82 1520.93 Q2307.02 1517.37 2303.38 1517.37 M2303.38 1513.66 Q2309.19 1513.66 2312.25 1518.27 Q2315.33 1522.85 2315.33 1531.6 Q2315.33 1540.33 2312.25 1544.94 Q2309.19 1549.52 2303.38 1549.52 Q2297.57 1549.52 2294.49 1544.94 Q2291.44 1540.33 2291.44 1531.6 Q2291.44 1522.85 2294.49 1518.27 Q2297.57 1513.66 2303.38 1513.66 Z\" fill=\"#000000\" fill-rule=\"evenodd\" fill-opacity=\"1\" /><polyline clip-path=\"url(#clip602)\" style=\"stroke:#000000; stroke-linecap:round; stroke-linejoin:round; stroke-width:2; stroke-opacity:0.1; fill:none\" points=\"\n",
       "  112.177,1465.43 2352.76,1465.43 \n",
       "  \"/>\n",
       "<polyline clip-path=\"url(#clip602)\" style=\"stroke:#000000; stroke-linecap:round; stroke-linejoin:round; stroke-width:2; stroke-opacity:0.1; fill:none\" points=\"\n",
       "  112.177,1084.33 2352.76,1084.33 \n",
       "  \"/>\n",
       "<polyline clip-path=\"url(#clip602)\" style=\"stroke:#000000; stroke-linecap:round; stroke-linejoin:round; stroke-width:2; stroke-opacity:0.1; fill:none\" points=\"\n",
       "  112.177,703.239 2352.76,703.239 \n",
       "  \"/>\n",
       "<polyline clip-path=\"url(#clip602)\" style=\"stroke:#000000; stroke-linecap:round; stroke-linejoin:round; stroke-width:2; stroke-opacity:0.1; fill:none\" points=\"\n",
       "  112.177,322.144 2352.76,322.144 \n",
       "  \"/>\n",
       "<polyline clip-path=\"url(#clip600)\" style=\"stroke:#000000; stroke-linecap:round; stroke-linejoin:round; stroke-width:4; stroke-opacity:1; fill:none\" points=\"\n",
       "  112.177,1486.45 112.177,47.2441 \n",
       "  \"/>\n",
       "<polyline clip-path=\"url(#clip600)\" style=\"stroke:#000000; stroke-linecap:round; stroke-linejoin:round; stroke-width:4; stroke-opacity:1; fill:none\" points=\"\n",
       "  112.177,1465.43 131.075,1465.43 \n",
       "  \"/>\n",
       "<polyline clip-path=\"url(#clip600)\" style=\"stroke:#000000; stroke-linecap:round; stroke-linejoin:round; stroke-width:4; stroke-opacity:1; fill:none\" points=\"\n",
       "  112.177,1084.33 131.075,1084.33 \n",
       "  \"/>\n",
       "<polyline clip-path=\"url(#clip600)\" style=\"stroke:#000000; stroke-linecap:round; stroke-linejoin:round; stroke-width:4; stroke-opacity:1; fill:none\" points=\"\n",
       "  112.177,703.239 131.075,703.239 \n",
       "  \"/>\n",
       "<polyline clip-path=\"url(#clip600)\" style=\"stroke:#000000; stroke-linecap:round; stroke-linejoin:round; stroke-width:4; stroke-opacity:1; fill:none\" points=\"\n",
       "  112.177,322.144 131.075,322.144 \n",
       "  \"/>\n",
       "<path clip-path=\"url(#clip600)\" d=\"M64.2328 1451.23 Q60.6217 1451.23 58.793 1454.79 Q56.9875 1458.34 56.9875 1465.46 Q56.9875 1472.57 58.793 1476.14 Q60.6217 1479.68 64.2328 1479.68 Q67.867 1479.68 69.6726 1476.14 Q71.5013 1472.57 71.5013 1465.46 Q71.5013 1458.34 69.6726 1454.79 Q67.867 1451.23 64.2328 1451.23 M64.2328 1447.52 Q70.0429 1447.52 73.0985 1452.13 Q76.1772 1456.71 76.1772 1465.46 Q76.1772 1474.19 73.0985 1478.8 Q70.0429 1483.38 64.2328 1483.38 Q58.4226 1483.38 55.344 1478.8 Q52.2884 1474.19 52.2884 1465.46 Q52.2884 1456.71 55.344 1452.13 Q58.4226 1447.52 64.2328 1447.52 Z\" fill=\"#000000\" fill-rule=\"evenodd\" fill-opacity=\"1\" /><path clip-path=\"url(#clip600)\" d=\"M59.8578 1097.68 L76.1772 1097.68 L76.1772 1101.61 L54.2328 1101.61 L54.2328 1097.68 Q56.8949 1094.92 61.4782 1090.3 Q66.0846 1085.64 67.2652 1084.3 Q69.5105 1081.78 70.3902 1080.04 Q71.2929 1078.28 71.2929 1076.59 Q71.2929 1073.84 69.3485 1072.1 Q67.4272 1070.36 64.3254 1070.36 Q62.1263 1070.36 59.6726 1071.13 Q57.2421 1071.89 54.4643 1073.44 L54.4643 1068.72 Q57.2884 1067.59 59.7421 1067.01 Q62.1958 1066.43 64.2328 1066.43 Q69.6031 1066.43 72.7976 1069.11 Q75.992 1071.8 75.992 1076.29 Q75.992 1078.42 75.1818 1080.34 Q74.3948 1082.24 72.2883 1084.83 Q71.7096 1085.5 68.6078 1088.72 Q65.5059 1091.92 59.8578 1097.68 Z\" fill=\"#000000\" fill-rule=\"evenodd\" fill-opacity=\"1\" /><path clip-path=\"url(#clip600)\" d=\"M66.5939 690.033 L54.7884 708.482 L66.5939 708.482 L66.5939 690.033 M65.367 685.959 L71.2466 685.959 L71.2466 708.482 L76.1772 708.482 L76.1772 712.371 L71.2466 712.371 L71.2466 720.519 L66.5939 720.519 L66.5939 712.371 L50.9921 712.371 L50.9921 707.857 L65.367 685.959 Z\" fill=\"#000000\" fill-rule=\"evenodd\" fill-opacity=\"1\" /><path clip-path=\"url(#clip600)\" d=\"M64.6495 320.281 Q61.5013 320.281 59.6495 322.433 Q57.8208 324.586 57.8208 328.336 Q57.8208 332.063 59.6495 334.239 Q61.5013 336.392 64.6495 336.392 Q67.7976 336.392 69.6263 334.239 Q71.4781 332.063 71.4781 328.336 Q71.4781 324.586 69.6263 322.433 Q67.7976 320.281 64.6495 320.281 M73.9318 305.628 L73.9318 309.887 Q72.1726 309.054 70.367 308.614 Q68.5846 308.174 66.8254 308.174 Q62.1958 308.174 59.7421 311.299 Q57.3115 314.424 56.9643 320.744 Q58.33 318.73 60.3902 317.665 Q62.4504 316.577 64.9272 316.577 Q70.1355 316.577 73.1448 319.748 Q76.1772 322.896 76.1772 328.336 Q76.1772 333.66 73.029 336.878 Q69.8809 340.095 64.6495 340.095 Q58.6541 340.095 55.4828 335.512 Q52.3116 330.906 52.3116 322.179 Q52.3116 313.984 56.2004 309.123 Q60.0893 304.239 66.6402 304.239 Q68.3994 304.239 70.1818 304.586 Q71.9874 304.933 73.9318 305.628 Z\" fill=\"#000000\" fill-rule=\"evenodd\" fill-opacity=\"1\" /><polyline clip-path=\"url(#clip602)\" style=\"stroke:#009af9; stroke-linecap:round; stroke-linejoin:round; stroke-width:4; stroke-opacity:1; fill:none\" points=\"\n",
       "  175.59,1414.38 410.451,1432.99 645.313,1070.65 880.174,1443.95 1115.04,1308.59 1349.9,1445.72 1584.76,1316.77 1819.62,1417.12 2054.48,87.9763 2289.34,1442.31 \n",
       "  \n",
       "  \"/>\n",
       "<path clip-path=\"url(#clip600)\" d=\"\n",
       "M186.863 198.898 L463.351 198.898 L463.351 95.2176 L186.863 95.2176  Z\n",
       "  \" fill=\"#ffffff\" fill-rule=\"evenodd\" fill-opacity=\"1\"/>\n",
       "<polyline clip-path=\"url(#clip600)\" style=\"stroke:#000000; stroke-linecap:round; stroke-linejoin:round; stroke-width:4; stroke-opacity:1; fill:none\" points=\"\n",
       "  186.863,198.898 463.351,198.898 463.351,95.2176 186.863,95.2176 186.863,198.898 \n",
       "  \"/>\n",
       "<polyline clip-path=\"url(#clip600)\" style=\"stroke:#009af9; stroke-linecap:round; stroke-linejoin:round; stroke-width:4; stroke-opacity:1; fill:none\" points=\"\n",
       "  211.758,147.058 361.13,147.058 \n",
       "  \"/>\n",
       "<path clip-path=\"url(#clip600)\" d=\"M399.868 166.745 Q398.063 171.375 396.35 172.787 Q394.637 174.199 391.766 174.199 L388.364 174.199 L388.364 170.634 L390.864 170.634 Q392.623 170.634 393.595 169.8 Q394.567 168.967 395.748 165.865 L396.512 163.921 L386.026 138.412 L390.54 138.412 L398.641 158.689 L406.743 138.412 L411.257 138.412 L399.868 166.745 Z\" fill=\"#000000\" fill-rule=\"evenodd\" fill-opacity=\"1\" /><path clip-path=\"url(#clip600)\" d=\"M418.549 160.402 L426.188 160.402 L426.188 134.037 L417.877 135.703 L417.877 131.444 L426.141 129.778 L430.817 129.778 L430.817 160.402 L438.456 160.402 L438.456 164.338 L418.549 164.338 L418.549 160.402 Z\" fill=\"#000000\" fill-rule=\"evenodd\" fill-opacity=\"1\" /></svg>\n"
      ]
     },
     "execution_count": 10,
     "metadata": {},
     "output_type": "execute_result"
    }
   ],
   "source": [
    "# poor style\n",
    "function generatedata(n)\n",
    "    ϵ = zeros(n)\n",
    "    for i in eachindex(ϵ)\n",
    "        ϵ[i] = (randn())^2 # squaring the result\n",
    "    end\n",
    "    return ϵ\n",
    "end\n",
    "\n",
    "data = generatedata(10)\n",
    "plot(data)"
   ]
  },
  {
   "attachments": {},
   "cell_type": "markdown",
   "id": "0766fd3c",
   "metadata": {},
   "source": [
    "Here\n",
    "\n",
    "- `function` is a Julia keyword that indicates the start of a function definition  \n",
    "- `generatedata` is an arbitrary name for the function  \n",
    "- `return` is a keyword indicating the return value, as is often unnecessary  \n",
    "\n",
    "\n",
    "Let us make this example slightly better by “remembering” that `randn` can return a vectors."
   ]
  },
  {
   "cell_type": "code",
   "execution_count": 11,
   "id": "84790c21",
   "metadata": {
    "hide-output": false
   },
   "outputs": [
    {
     "data": {
      "text/plain": [
       "5-element Vector{Float64}:\n",
       " 0.18019352658860058\n",
       " 0.35445307003685234\n",
       " 2.3409206167538272\n",
       " 0.8929011047984071\n",
       " 0.18384825029412383"
      ]
     },
     "execution_count": 11,
     "metadata": {},
     "output_type": "execute_result"
    }
   ],
   "source": [
    "# still poor style\n",
    "function generatedata(n)\n",
    "    ϵ = randn(n) # use built in function\n",
    "\n",
    "    for i in eachindex(ϵ)\n",
    "        ϵ[i] = ϵ[i]^2 # squaring the result\n",
    "    end\n",
    "\n",
    "    return ϵ\n",
    "end\n",
    "data = generatedata(5)"
   ]
  },
  {
   "attachments": {},
   "cell_type": "markdown",
   "id": "97106fb3",
   "metadata": {},
   "source": [
    "While better, the looping over the `i` index to square the results is difficult to read.\n",
    "\n",
    "Instead of looping, we can **broadcast** the `^2` square function over a vector using a `.`.\n",
    "\n",
    "To be clear, unlike Python, R, and MATLAB (to a lesser extent), the reason to drop the `for` is **not** for performance reasons, but rather because of code clarity.\n",
    "\n",
    "Loops of this sort are at least as efficient as vectorized approach in compiled languages like Julia, so use a for loop if you think it makes the code more clear."
   ]
  },
  {
   "cell_type": "code",
   "execution_count": 12,
   "id": "4190a8ce",
   "metadata": {
    "hide-output": false
   },
   "outputs": [
    {
     "data": {
      "text/plain": [
       "5-element Vector{Float64}:\n",
       " 3.6253708279603973\n",
       " 0.006146921349297236\n",
       " 5.050368831865418\n",
       " 3.917192923650125\n",
       " 0.37943820549589663"
      ]
     },
     "execution_count": 12,
     "metadata": {},
     "output_type": "execute_result"
    }
   ],
   "source": [
    "# better style\n",
    "function generatedata(n)\n",
    "    ϵ = randn(n) # use built in function\n",
    "    return ϵ.^2\n",
    " end\n",
    "data = generatedata(5)"
   ]
  },
  {
   "attachments": {},
   "cell_type": "markdown",
   "id": "5a57d115",
   "metadata": {},
   "source": [
    "We can even drop the `function` if we define it on a single line."
   ]
  },
  {
   "cell_type": "code",
   "execution_count": 13,
   "id": "423b4075",
   "metadata": {
    "hide-output": false
   },
   "outputs": [
    {
     "data": {
      "text/plain": [
       "5-element Vector{Float64}:\n",
       " 6.273166424814722\n",
       " 1.917680186287883\n",
       " 0.36500383504000616\n",
       " 3.1327755646215008\n",
       " 0.9777155980642884"
      ]
     },
     "execution_count": 13,
     "metadata": {},
     "output_type": "execute_result"
    }
   ],
   "source": [
    "# good style\n",
    "generatedata(n) = randn(n).^2\n",
    "data = generatedata(5)"
   ]
  },
  {
   "attachments": {},
   "cell_type": "markdown",
   "id": "68886418",
   "metadata": {},
   "source": [
    "Finally, we can broadcast any function, where squaring is only a special case."
   ]
  },
  {
   "cell_type": "code",
   "execution_count": 14,
   "id": "0a795fc0",
   "metadata": {
    "hide-output": false
   },
   "outputs": [
    {
     "data": {
      "text/plain": [
       "5-element Vector{Float64}:\n",
       " 0.05747875646521377\n",
       " 6.420959024748381\n",
       " 2.035667002176816\n",
       " 1.1605969634503237\n",
       " 0.21071315166535823"
      ]
     },
     "execution_count": 14,
     "metadata": {},
     "output_type": "execute_result"
    }
   ],
   "source": [
    "# good style\n",
    "f(x) = x^2 # simple square function\n",
    "generatedata(n) = f.(randn(n)) # broadcasts on f\n",
    "data = generatedata(5)"
   ]
  },
  {
   "attachments": {},
   "cell_type": "markdown",
   "id": "fb467c3e",
   "metadata": {},
   "source": [
    "As a final – abstract – approach, we can make the `generatedata` function able to generically apply to a function."
   ]
  },
  {
   "cell_type": "code",
   "execution_count": 15,
   "id": "788d5d90",
   "metadata": {
    "hide-output": false
   },
   "outputs": [
    {
     "data": {
      "text/plain": [
       "5-element Vector{Float64}:\n",
       " 1.13605049182936\n",
       " 2.681617126040935\n",
       " 0.005173758405201123\n",
       " 0.17186954279423258\n",
       " 0.0014194317433881454"
      ]
     },
     "execution_count": 15,
     "metadata": {},
     "output_type": "execute_result"
    }
   ],
   "source": [
    "generatedata(n, gen) = gen.(randn(n)) # broadcasts on gen\n",
    "f(x) = x^2 # simple square function\n",
    "data = generatedata(5, f) # applies f"
   ]
  },
  {
   "attachments": {},
   "cell_type": "markdown",
   "id": "ed87f7bd",
   "metadata": {},
   "source": [
    "Whether this example is better or worse than the previous version depends on how it is used.\n",
    "\n",
    "High degrees of abstraction and generality, e.g. passing in a function `f` in this case, can make code either clearer or more confusing, but Julia enables you to use these techniques **with no performance overhead**.\n",
    "\n",
    "For this particular case, the clearest and most general solution is probably the simplest."
   ]
  },
  {
   "cell_type": "code",
   "execution_count": 16,
   "id": "6c8949d6",
   "metadata": {
    "hide-output": false
   },
   "outputs": [
    {
     "data": {
      "image/svg+xml": [
       "<?xml version=\"1.0\" encoding=\"utf-8\"?>\n",
       "<svg xmlns=\"http://www.w3.org/2000/svg\" xmlns:xlink=\"http://www.w3.org/1999/xlink\" width=\"600\" height=\"400\" viewBox=\"0 0 2400 1600\">\n",
       "<defs>\n",
       "  <clipPath id=\"clip640\">\n",
       "    <rect x=\"0\" y=\"0\" width=\"2400\" height=\"1600\"/>\n",
       "  </clipPath>\n",
       "</defs>\n",
       "<path clip-path=\"url(#clip640)\" d=\"\n",
       "M0 1600 L2400 1600 L2400 0 L0 0  Z\n",
       "  \" fill=\"#ffffff\" fill-rule=\"evenodd\" fill-opacity=\"1\"/>\n",
       "<defs>\n",
       "  <clipPath id=\"clip641\">\n",
       "    <rect x=\"480\" y=\"0\" width=\"1681\" height=\"1600\"/>\n",
       "  </clipPath>\n",
       "</defs>\n",
       "<defs>\n",
       "  <clipPath id=\"clip642\">\n",
       "    <rect x=\"112\" y=\"47\" width=\"2242\" height=\"1440\"/>\n",
       "  </clipPath>\n",
       "</defs>\n",
       "<path clip-path=\"url(#clip640)\" d=\"\n",
       "M147.108 1486.45 L2352.76 1486.45 L2352.76 47.2441 L147.108 47.2441  Z\n",
       "  \" fill=\"#ffffff\" fill-rule=\"evenodd\" fill-opacity=\"1\"/>\n",
       "<defs>\n",
       "  <clipPath id=\"clip643\">\n",
       "    <rect x=\"147\" y=\"47\" width=\"2207\" height=\"1440\"/>\n",
       "  </clipPath>\n",
       "</defs>\n",
       "<polyline clip-path=\"url(#clip643)\" style=\"stroke:#000000; stroke-linecap:round; stroke-linejoin:round; stroke-width:2; stroke-opacity:0.1; fill:none\" points=\"\n",
       "  188.513,1486.45 188.513,47.2441 \n",
       "  \"/>\n",
       "<polyline clip-path=\"url(#clip643)\" style=\"stroke:#000000; stroke-linecap:round; stroke-linejoin:round; stroke-width:2; stroke-opacity:0.1; fill:none\" points=\"\n",
       "  713.968,1486.45 713.968,47.2441 \n",
       "  \"/>\n",
       "<polyline clip-path=\"url(#clip643)\" style=\"stroke:#000000; stroke-linecap:round; stroke-linejoin:round; stroke-width:2; stroke-opacity:0.1; fill:none\" points=\"\n",
       "  1239.42,1486.45 1239.42,47.2441 \n",
       "  \"/>\n",
       "<polyline clip-path=\"url(#clip643)\" style=\"stroke:#000000; stroke-linecap:round; stroke-linejoin:round; stroke-width:2; stroke-opacity:0.1; fill:none\" points=\"\n",
       "  1764.88,1486.45 1764.88,47.2441 \n",
       "  \"/>\n",
       "<polyline clip-path=\"url(#clip643)\" style=\"stroke:#000000; stroke-linecap:round; stroke-linejoin:round; stroke-width:2; stroke-opacity:0.1; fill:none\" points=\"\n",
       "  2290.33,1486.45 2290.33,47.2441 \n",
       "  \"/>\n",
       "<polyline clip-path=\"url(#clip640)\" style=\"stroke:#000000; stroke-linecap:round; stroke-linejoin:round; stroke-width:4; stroke-opacity:1; fill:none\" points=\"\n",
       "  147.108,1486.45 2352.76,1486.45 \n",
       "  \"/>\n",
       "<polyline clip-path=\"url(#clip640)\" style=\"stroke:#000000; stroke-linecap:round; stroke-linejoin:round; stroke-width:4; stroke-opacity:1; fill:none\" points=\"\n",
       "  188.513,1486.45 188.513,1467.55 \n",
       "  \"/>\n",
       "<polyline clip-path=\"url(#clip640)\" style=\"stroke:#000000; stroke-linecap:round; stroke-linejoin:round; stroke-width:4; stroke-opacity:1; fill:none\" points=\"\n",
       "  713.968,1486.45 713.968,1467.55 \n",
       "  \"/>\n",
       "<polyline clip-path=\"url(#clip640)\" style=\"stroke:#000000; stroke-linecap:round; stroke-linejoin:round; stroke-width:4; stroke-opacity:1; fill:none\" points=\"\n",
       "  1239.42,1486.45 1239.42,1467.55 \n",
       "  \"/>\n",
       "<polyline clip-path=\"url(#clip640)\" style=\"stroke:#000000; stroke-linecap:round; stroke-linejoin:round; stroke-width:4; stroke-opacity:1; fill:none\" points=\"\n",
       "  1764.88,1486.45 1764.88,1467.55 \n",
       "  \"/>\n",
       "<polyline clip-path=\"url(#clip640)\" style=\"stroke:#000000; stroke-linecap:round; stroke-linejoin:round; stroke-width:4; stroke-opacity:1; fill:none\" points=\"\n",
       "  2290.33,1486.45 2290.33,1467.55 \n",
       "  \"/>\n",
       "<path clip-path=\"url(#clip640)\" d=\"M188.513 1517.37 Q184.902 1517.37 183.074 1520.93 Q181.268 1524.47 181.268 1531.6 Q181.268 1538.71 183.074 1542.27 Q184.902 1545.82 188.513 1545.82 Q192.148 1545.82 193.953 1542.27 Q195.782 1538.71 195.782 1531.6 Q195.782 1524.47 193.953 1520.93 Q192.148 1517.37 188.513 1517.37 M188.513 1513.66 Q194.324 1513.66 197.379 1518.27 Q200.458 1522.85 200.458 1531.6 Q200.458 1540.33 197.379 1544.94 Q194.324 1549.52 188.513 1549.52 Q182.703 1549.52 179.625 1544.94 Q176.569 1540.33 176.569 1531.6 Q176.569 1522.85 179.625 1518.27 Q182.703 1513.66 188.513 1513.66 Z\" fill=\"#000000\" fill-rule=\"evenodd\" fill-opacity=\"1\" /><path clip-path=\"url(#clip640)\" d=\"M693.239 1544.91 L709.558 1544.91 L709.558 1548.85 L687.614 1548.85 L687.614 1544.91 Q690.276 1542.16 694.859 1537.53 Q699.466 1532.88 700.646 1531.53 Q702.892 1529.01 703.771 1527.27 Q704.674 1525.51 704.674 1523.82 Q704.674 1521.07 702.73 1519.33 Q700.808 1517.6 697.707 1517.6 Q695.507 1517.6 693.054 1518.36 Q690.623 1519.13 687.845 1520.68 L687.845 1515.95 Q690.67 1514.82 693.123 1514.24 Q695.577 1513.66 697.614 1513.66 Q702.984 1513.66 706.179 1516.35 Q709.373 1519.03 709.373 1523.52 Q709.373 1525.65 708.563 1527.57 Q707.776 1529.47 705.669 1532.07 Q705.091 1532.74 701.989 1535.95 Q698.887 1539.15 693.239 1544.91 Z\" fill=\"#000000\" fill-rule=\"evenodd\" fill-opacity=\"1\" /><path clip-path=\"url(#clip640)\" d=\"M719.419 1514.29 L737.776 1514.29 L737.776 1518.22 L723.702 1518.22 L723.702 1526.7 Q724.72 1526.35 725.739 1526.19 Q726.757 1526 727.776 1526 Q733.563 1526 736.942 1529.17 Q740.322 1532.34 740.322 1537.76 Q740.322 1543.34 736.85 1546.44 Q733.378 1549.52 727.058 1549.52 Q724.882 1549.52 722.614 1549.15 Q720.368 1548.78 717.961 1548.04 L717.961 1543.34 Q720.044 1544.47 722.267 1545.03 Q724.489 1545.58 726.966 1545.58 Q730.97 1545.58 733.308 1543.48 Q735.646 1541.37 735.646 1537.76 Q735.646 1534.15 733.308 1532.04 Q730.97 1529.94 726.966 1529.94 Q725.091 1529.94 723.216 1530.35 Q721.364 1530.77 719.419 1531.65 L719.419 1514.29 Z\" fill=\"#000000\" fill-rule=\"evenodd\" fill-opacity=\"1\" /><path clip-path=\"url(#clip640)\" d=\"M1214.12 1514.29 L1232.48 1514.29 L1232.48 1518.22 L1218.4 1518.22 L1218.4 1526.7 Q1219.42 1526.35 1220.44 1526.19 Q1221.46 1526 1222.48 1526 Q1228.27 1526 1231.64 1529.17 Q1235.02 1532.34 1235.02 1537.76 Q1235.02 1543.34 1231.55 1546.44 Q1228.08 1549.52 1221.76 1549.52 Q1219.58 1549.52 1217.32 1549.15 Q1215.07 1548.78 1212.66 1548.04 L1212.66 1543.34 Q1214.75 1544.47 1216.97 1545.03 Q1219.19 1545.58 1221.67 1545.58 Q1225.67 1545.58 1228.01 1543.48 Q1230.35 1541.37 1230.35 1537.76 Q1230.35 1534.15 1228.01 1532.04 Q1225.67 1529.94 1221.67 1529.94 Q1219.79 1529.94 1217.92 1530.35 Q1216.07 1530.77 1214.12 1531.65 L1214.12 1514.29 Z\" fill=\"#000000\" fill-rule=\"evenodd\" fill-opacity=\"1\" /><path clip-path=\"url(#clip640)\" d=\"M1254.24 1517.37 Q1250.63 1517.37 1248.8 1520.93 Q1246.99 1524.47 1246.99 1531.6 Q1246.99 1538.71 1248.8 1542.27 Q1250.63 1545.82 1254.24 1545.82 Q1257.87 1545.82 1259.68 1542.27 Q1261.51 1538.71 1261.51 1531.6 Q1261.51 1524.47 1259.68 1520.93 Q1257.87 1517.37 1254.24 1517.37 M1254.24 1513.66 Q1260.05 1513.66 1263.1 1518.27 Q1266.18 1522.85 1266.18 1531.6 Q1266.18 1540.33 1263.1 1544.94 Q1260.05 1549.52 1254.24 1549.52 Q1248.43 1549.52 1245.35 1544.94 Q1242.29 1540.33 1242.29 1531.6 Q1242.29 1522.85 1245.35 1518.27 Q1248.43 1513.66 1254.24 1513.66 Z\" fill=\"#000000\" fill-rule=\"evenodd\" fill-opacity=\"1\" /><path clip-path=\"url(#clip640)\" d=\"M1738.73 1514.29 L1760.95 1514.29 L1760.95 1516.28 L1748.41 1548.85 L1743.52 1548.85 L1755.33 1518.22 L1738.73 1518.22 L1738.73 1514.29 Z\" fill=\"#000000\" fill-rule=\"evenodd\" fill-opacity=\"1\" /><path clip-path=\"url(#clip640)\" d=\"M1770.12 1514.29 L1788.48 1514.29 L1788.48 1518.22 L1774.4 1518.22 L1774.4 1526.7 Q1775.42 1526.35 1776.44 1526.19 Q1777.46 1526 1778.48 1526 Q1784.26 1526 1787.64 1529.17 Q1791.02 1532.34 1791.02 1537.76 Q1791.02 1543.34 1787.55 1546.44 Q1784.08 1549.52 1777.76 1549.52 Q1775.58 1549.52 1773.31 1549.15 Q1771.07 1548.78 1768.66 1548.04 L1768.66 1543.34 Q1770.75 1544.47 1772.97 1545.03 Q1775.19 1545.58 1777.67 1545.58 Q1781.67 1545.58 1784.01 1543.48 Q1786.35 1541.37 1786.35 1537.76 Q1786.35 1534.15 1784.01 1532.04 Q1781.67 1529.94 1777.67 1529.94 Q1775.79 1529.94 1773.92 1530.35 Q1772.06 1530.77 1770.12 1531.65 L1770.12 1514.29 Z\" fill=\"#000000\" fill-rule=\"evenodd\" fill-opacity=\"1\" /><path clip-path=\"url(#clip640)\" d=\"M2249.94 1544.91 L2257.58 1544.91 L2257.58 1518.55 L2249.27 1520.21 L2249.27 1515.95 L2257.53 1514.29 L2262.21 1514.29 L2262.21 1544.91 L2269.85 1544.91 L2269.85 1548.85 L2249.94 1548.85 L2249.94 1544.91 Z\" fill=\"#000000\" fill-rule=\"evenodd\" fill-opacity=\"1\" /><path clip-path=\"url(#clip640)\" d=\"M2289.29 1517.37 Q2285.68 1517.37 2283.85 1520.93 Q2282.04 1524.47 2282.04 1531.6 Q2282.04 1538.71 2283.85 1542.27 Q2285.68 1545.82 2289.29 1545.82 Q2292.92 1545.82 2294.73 1542.27 Q2296.56 1538.71 2296.56 1531.6 Q2296.56 1524.47 2294.73 1520.93 Q2292.92 1517.37 2289.29 1517.37 M2289.29 1513.66 Q2295.1 1513.66 2298.16 1518.27 Q2301.23 1522.85 2301.23 1531.6 Q2301.23 1540.33 2298.16 1544.94 Q2295.1 1549.52 2289.29 1549.52 Q2283.48 1549.52 2280.4 1544.94 Q2277.35 1540.33 2277.35 1531.6 Q2277.35 1522.85 2280.4 1518.27 Q2283.48 1513.66 2289.29 1513.66 Z\" fill=\"#000000\" fill-rule=\"evenodd\" fill-opacity=\"1\" /><path clip-path=\"url(#clip640)\" d=\"M2319.45 1517.37 Q2315.84 1517.37 2314.01 1520.93 Q2312.21 1524.47 2312.21 1531.6 Q2312.21 1538.71 2314.01 1542.27 Q2315.84 1545.82 2319.45 1545.82 Q2323.09 1545.82 2324.89 1542.27 Q2326.72 1538.71 2326.72 1531.6 Q2326.72 1524.47 2324.89 1520.93 Q2323.09 1517.37 2319.45 1517.37 M2319.45 1513.66 Q2325.26 1513.66 2328.32 1518.27 Q2331.4 1522.85 2331.4 1531.6 Q2331.4 1540.33 2328.32 1544.94 Q2325.26 1549.52 2319.45 1549.52 Q2313.64 1549.52 2310.56 1544.94 Q2307.51 1540.33 2307.51 1531.6 Q2307.51 1522.85 2310.56 1518.27 Q2313.64 1513.66 2319.45 1513.66 Z\" fill=\"#000000\" fill-rule=\"evenodd\" fill-opacity=\"1\" /><polyline clip-path=\"url(#clip643)\" style=\"stroke:#000000; stroke-linecap:round; stroke-linejoin:round; stroke-width:2; stroke-opacity:0.1; fill:none\" points=\"\n",
       "  147.108,1372.57 2352.76,1372.57 \n",
       "  \"/>\n",
       "<polyline clip-path=\"url(#clip643)\" style=\"stroke:#000000; stroke-linecap:round; stroke-linejoin:round; stroke-width:2; stroke-opacity:0.1; fill:none\" points=\"\n",
       "  147.108,1053.06 2352.76,1053.06 \n",
       "  \"/>\n",
       "<polyline clip-path=\"url(#clip643)\" style=\"stroke:#000000; stroke-linecap:round; stroke-linejoin:round; stroke-width:2; stroke-opacity:0.1; fill:none\" points=\"\n",
       "  147.108,733.559 2352.76,733.559 \n",
       "  \"/>\n",
       "<polyline clip-path=\"url(#clip643)\" style=\"stroke:#000000; stroke-linecap:round; stroke-linejoin:round; stroke-width:2; stroke-opacity:0.1; fill:none\" points=\"\n",
       "  147.108,414.054 2352.76,414.054 \n",
       "  \"/>\n",
       "<polyline clip-path=\"url(#clip643)\" style=\"stroke:#000000; stroke-linecap:round; stroke-linejoin:round; stroke-width:2; stroke-opacity:0.1; fill:none\" points=\"\n",
       "  147.108,94.5482 2352.76,94.5482 \n",
       "  \"/>\n",
       "<polyline clip-path=\"url(#clip640)\" style=\"stroke:#000000; stroke-linecap:round; stroke-linejoin:round; stroke-width:4; stroke-opacity:1; fill:none\" points=\"\n",
       "  147.108,1486.45 147.108,47.2441 \n",
       "  \"/>\n",
       "<polyline clip-path=\"url(#clip640)\" style=\"stroke:#000000; stroke-linecap:round; stroke-linejoin:round; stroke-width:4; stroke-opacity:1; fill:none\" points=\"\n",
       "  147.108,1372.57 166.005,1372.57 \n",
       "  \"/>\n",
       "<polyline clip-path=\"url(#clip640)\" style=\"stroke:#000000; stroke-linecap:round; stroke-linejoin:round; stroke-width:4; stroke-opacity:1; fill:none\" points=\"\n",
       "  147.108,1053.06 166.005,1053.06 \n",
       "  \"/>\n",
       "<polyline clip-path=\"url(#clip640)\" style=\"stroke:#000000; stroke-linecap:round; stroke-linejoin:round; stroke-width:4; stroke-opacity:1; fill:none\" points=\"\n",
       "  147.108,733.559 166.005,733.559 \n",
       "  \"/>\n",
       "<polyline clip-path=\"url(#clip640)\" style=\"stroke:#000000; stroke-linecap:round; stroke-linejoin:round; stroke-width:4; stroke-opacity:1; fill:none\" points=\"\n",
       "  147.108,414.054 166.005,414.054 \n",
       "  \"/>\n",
       "<polyline clip-path=\"url(#clip640)\" style=\"stroke:#000000; stroke-linecap:round; stroke-linejoin:round; stroke-width:4; stroke-opacity:1; fill:none\" points=\"\n",
       "  147.108,94.5482 166.005,94.5482 \n",
       "  \"/>\n",
       "<path clip-path=\"url(#clip640)\" d=\"M50.9921 1373.02 L80.6679 1373.02 L80.6679 1376.96 L50.9921 1376.96 L50.9921 1373.02 Z\" fill=\"#000000\" fill-rule=\"evenodd\" fill-opacity=\"1\" /><path clip-path=\"url(#clip640)\" d=\"M94.7882 1385.91 L111.108 1385.91 L111.108 1389.85 L89.1632 1389.85 L89.1632 1385.91 Q91.8252 1383.16 96.4085 1378.53 Q101.015 1373.88 102.196 1372.53 Q104.441 1370.01 105.321 1368.28 Q106.223 1366.52 106.223 1364.83 Q106.223 1362.07 104.279 1360.34 Q102.358 1358.6 99.2558 1358.6 Q97.0567 1358.6 94.603 1359.36 Q92.1725 1360.13 89.3947 1361.68 L89.3947 1356.96 Q92.2188 1355.82 94.6724 1355.24 Q97.1261 1354.66 99.1632 1354.66 Q104.534 1354.66 107.728 1357.35 Q110.922 1360.03 110.922 1364.53 Q110.922 1366.65 110.112 1368.58 Q109.325 1370.47 107.219 1373.07 Q106.64 1373.74 103.538 1376.96 Q100.436 1380.15 94.7882 1385.91 Z\" fill=\"#000000\" fill-rule=\"evenodd\" fill-opacity=\"1\" /><path clip-path=\"url(#clip640)\" d=\"M99.1632 1038.86 Q95.5521 1038.86 93.7234 1042.43 Q91.9178 1045.97 91.9178 1053.1 Q91.9178 1060.21 93.7234 1063.77 Q95.5521 1067.31 99.1632 1067.31 Q102.797 1067.31 104.603 1063.77 Q106.432 1060.21 106.432 1053.1 Q106.432 1045.97 104.603 1042.43 Q102.797 1038.86 99.1632 1038.86 M99.1632 1035.16 Q104.973 1035.16 108.029 1039.77 Q111.108 1044.35 111.108 1053.1 Q111.108 1061.83 108.029 1066.43 Q104.973 1071.02 99.1632 1071.02 Q93.353 1071.02 90.2743 1066.43 Q87.2188 1061.83 87.2188 1053.1 Q87.2188 1044.35 90.2743 1039.77 Q93.353 1035.16 99.1632 1035.16 Z\" fill=\"#000000\" fill-rule=\"evenodd\" fill-opacity=\"1\" /><path clip-path=\"url(#clip640)\" d=\"M94.7882 746.904 L111.108 746.904 L111.108 750.839 L89.1632 750.839 L89.1632 746.904 Q91.8252 744.149 96.4085 739.519 Q101.015 734.867 102.196 733.524 Q104.441 731.001 105.321 729.265 Q106.223 727.506 106.223 725.816 Q106.223 723.061 104.279 721.325 Q102.358 719.589 99.2558 719.589 Q97.0567 719.589 94.603 720.353 Q92.1725 721.117 89.3947 722.668 L89.3947 717.945 Q92.2188 716.811 94.6724 716.232 Q97.1261 715.654 99.1632 715.654 Q104.534 715.654 107.728 718.339 Q110.922 721.024 110.922 725.515 Q110.922 727.644 110.112 729.566 Q109.325 731.464 107.219 734.056 Q106.64 734.728 103.538 737.945 Q100.436 741.14 94.7882 746.904 Z\" fill=\"#000000\" fill-rule=\"evenodd\" fill-opacity=\"1\" /><path clip-path=\"url(#clip640)\" d=\"M101.524 400.848 L89.7188 419.297 L101.524 419.297 L101.524 400.848 M100.297 396.774 L106.177 396.774 L106.177 419.297 L111.108 419.297 L111.108 423.185 L106.177 423.185 L106.177 431.334 L101.524 431.334 L101.524 423.185 L85.9225 423.185 L85.9225 418.672 L100.297 396.774 Z\" fill=\"#000000\" fill-rule=\"evenodd\" fill-opacity=\"1\" /><path clip-path=\"url(#clip640)\" d=\"M99.5798 92.6848 Q96.4317 92.6848 94.5799 94.8376 Q92.7512 96.9904 92.7512 100.74 Q92.7512 104.467 94.5799 106.643 Q96.4317 108.796 99.5798 108.796 Q102.728 108.796 104.557 106.643 Q106.408 104.467 106.408 100.74 Q106.408 96.9904 104.557 94.8376 Q102.728 92.6848 99.5798 92.6848 M108.862 78.0321 L108.862 82.2914 Q107.103 81.458 105.297 81.0182 Q103.515 80.5784 101.756 80.5784 Q97.1261 80.5784 94.6724 83.7034 Q92.2419 86.8284 91.8947 93.1478 Q93.2604 91.1339 95.3206 90.0691 Q97.3808 88.9811 99.8576 88.9811 Q105.066 88.9811 108.075 92.1524 Q111.108 95.3005 111.108 100.74 Q111.108 106.064 107.959 109.282 Q104.811 112.5 99.5798 112.5 Q93.5845 112.5 90.4132 107.916 Q87.2419 103.31 87.2419 94.583 Q87.2419 86.3886 91.1308 81.5275 Q95.0197 76.6432 101.571 76.6432 Q103.33 76.6432 105.112 76.9905 Q106.918 77.3377 108.862 78.0321 Z\" fill=\"#000000\" fill-rule=\"evenodd\" fill-opacity=\"1\" /><polyline clip-path=\"url(#clip643)\" style=\"stroke:#009af9; stroke-linecap:round; stroke-linejoin:round; stroke-width:4; stroke-opacity:1; fill:none\" points=\"\n",
       "  209.532,683.52 230.55,1052.13 251.568,1050.53 272.586,434.157 293.604,882.196 314.622,1044.09 335.641,924.424 356.659,1027.85 377.677,996.335 398.695,1031.83 \n",
       "  419.713,676.752 440.732,931.074 461.75,1048.66 482.768,795.942 503.786,992.85 524.804,920.146 545.823,1017.58 566.841,982.294 587.859,551.73 608.877,775.274 \n",
       "  629.895,1038.45 650.913,857.714 671.932,1033.2 692.95,1049.76 713.968,499.475 734.986,1048 756.004,872.029 777.023,1045.72 798.041,875.932 819.059,1049.65 \n",
       "  840.077,819.289 861.095,1020.11 882.113,87.9763 903.132,1006.68 924.15,970.186 945.168,976.145 966.186,979.163 987.204,980.693 1008.22,795.218 1029.24,1052.14 \n",
       "  1050.26,1051.36 1071.28,805.3 1092.3,532.903 1113.31,995.265 1134.33,826.294 1155.35,990.453 1176.37,803.849 1197.39,1016.13 1218.4,891.726 1239.42,1042.33 \n",
       "  1260.44,672.141 1281.46,869.519 1302.48,884.541 1323.5,1029.9 1344.51,1014.64 1365.53,561.35 1386.55,993.344 1407.57,1003.83 1428.59,986.493 1449.6,1037.87 \n",
       "  1470.62,1052.01 1491.64,878.796 1512.66,976.45 1533.68,437.936 1554.7,1051.84 1575.71,1034.11 1596.73,820.188 1617.75,943.17 1638.77,1002.39 1659.79,470.726 \n",
       "  1680.8,1004.83 1701.82,1045.01 1722.84,311.158 1743.86,996.162 1764.88,1018.58 1785.9,667.42 1806.91,897.149 1827.93,1048.35 1848.95,1044.95 1869.97,931.078 \n",
       "  1890.99,539.108 1912,1008.52 1933.02,948.385 1954.04,1042.17 1975.06,1015.66 1996.08,1050.4 2017.1,1023.43 2038.11,829.174 2059.13,304.074 2080.15,843.572 \n",
       "  2101.17,955.595 2122.19,294.225 2143.2,1026.81 2164.22,743.386 2185.24,918.245 2206.26,1018.18 2227.28,1047.94 2248.3,1046.97 2269.31,264.736 2290.33,923.193 \n",
       "  \n",
       "  \"/>\n",
       "<polyline clip-path=\"url(#clip643)\" style=\"stroke:#e26f46; stroke-linecap:round; stroke-linejoin:round; stroke-width:4; stroke-opacity:1; fill:none\" points=\"\n",
       "  209.532,1296.04 230.55,1065.28 251.568,1073.2 272.586,1367.5 293.604,887.847 314.622,1015.19 335.641,1196.42 356.659,1116.53 377.677,1148.26 398.695,1111.31 \n",
       "  419.713,1298.25 440.732,913.464 461.75,1026.54 482.768,850.392 503.786,954.986 524.804,907.345 545.823,977.771 566.841,1159.39 587.859,1336.06 608.877,1263.72 \n",
       "  629.895,1004.75 650.913,1229.72 671.932,996.73 692.95,1076.05 713.968,1350.45 734.986,1024.61 756.004,883.003 777.023,1087.31 798.041,884.846 819.059,1076.42 \n",
       "  840.077,859.812 861.095,1125.63 882.113,1445.72 903.132,966.987 924.15,937.999 945.168,1163.92 966.186,944.409 987.204,1160.59 1008.22,850.107 1029.24,1065.2 \n",
       "  1050.26,1036.55 1071.28,854.114 1092.3,764.798 1113.31,956.973 1134.33,862.73 1155.35,1153.08 1176.37,1252.6 1197.39,1129.88 1218.4,1213.61 1239.42,1011.66 \n",
       "  1260.44,1299.75 1281.46,881.828 1302.48,1217.14 1323.5,992.236 1344.51,974.72 1365.53,1333.34 1386.55,1150.74 1407.57,1141.75 1428.59,949.939 1449.6,1003.8 \n",
       "  1470.62,1040.11 1491.64,886.212 1512.66,1163.7 1533.68,1366.54 1554.7,1067.05 1575.71,1108.09 1596.73,1245.94 1617.75,920.566 1638.77,1143.04 1659.79,748.056 \n",
       "  1680.8,965.279 1701.82,1017.19 1722.84,708.795 1743.86,957.721 1764.88,978.846 1785.9,1301.27 1806.91,895.242 1827.93,1025.63 1848.95,1089.07 1869.97,1192.66 \n",
       "  1890.99,1339.61 1912,968.703 1933.02,1182.38 1954.04,1094.78 1975.06,1130.36 1996.08,1032.45 2017.1,1121.87 2038.11,1242.19 2059.13,1398.97 2080.15,1236 \n",
       "  2101.17,928.281 2122.19,704.888 2143.2,1117.83 2164.22,830.641 2185.24,1199.82 2206.26,978.415 2227.28,1024.44 2248.3,1021.85 2269.31,698.187 2290.33,909.025 \n",
       "  \n",
       "  \"/>\n",
       "<path clip-path=\"url(#clip640)\" d=\"\n",
       "M220.629 250.738 L488.368 250.738 L488.368 95.2176 L220.629 95.2176  Z\n",
       "  \" fill=\"#ffffff\" fill-rule=\"evenodd\" fill-opacity=\"1\"/>\n",
       "<polyline clip-path=\"url(#clip640)\" style=\"stroke:#000000; stroke-linecap:round; stroke-linejoin:round; stroke-width:4; stroke-opacity:1; fill:none\" points=\"\n",
       "  220.629,250.738 488.368,250.738 488.368,95.2176 220.629,95.2176 220.629,250.738 \n",
       "  \"/>\n",
       "<polyline clip-path=\"url(#clip640)\" style=\"stroke:#009af9; stroke-linecap:round; stroke-linejoin:round; stroke-width:4; stroke-opacity:1; fill:none\" points=\"\n",
       "  245.136,147.058 392.18,147.058 \n",
       "  \"/>\n",
       "<path clip-path=\"url(#clip640)\" d=\"M440.578 147.001 Q440.578 148.312 439.758 149.062 Q438.938 149.788 438.001 149.788 Q437.111 149.788 436.643 149.273 Q436.174 148.757 436.174 148.102 Q436.174 147.212 436.83 146.439 Q437.486 145.666 438.47 145.502 Q437.509 144.893 436.081 144.893 Q435.144 144.893 434.324 145.385 Q433.528 145.877 433.036 146.509 Q432.567 147.141 432.146 148.055 Q431.747 148.945 431.583 149.484 Q431.443 149.999 431.326 150.561 L429.686 157.119 Q428.89 160.234 428.89 161.335 Q428.89 162.694 429.546 163.607 Q430.202 164.497 431.513 164.497 Q432.028 164.497 432.614 164.357 Q433.2 164.193 433.949 163.771 Q434.722 163.326 435.401 162.67 Q436.104 161.991 436.783 160.843 Q437.462 159.696 437.908 158.22 Q438.048 157.705 438.517 157.705 Q439.102 157.705 439.102 158.173 Q439.102 158.571 438.774 159.415 Q438.47 160.234 437.79 161.312 Q437.135 162.366 436.268 163.326 Q435.401 164.263 434.113 164.919 Q432.825 165.575 431.42 165.575 Q429.405 165.575 428.07 164.497 Q426.735 163.42 426.243 161.921 Q426.126 162.132 425.962 162.413 Q425.798 162.694 425.306 163.326 Q424.838 163.935 424.299 164.404 Q423.76 164.849 422.917 165.2 Q422.097 165.575 421.207 165.575 Q420.083 165.575 419.076 165.247 Q418.092 164.919 417.389 164.169 Q416.687 163.42 416.687 162.389 Q416.687 161.242 417.46 160.445 Q418.256 159.625 419.334 159.625 Q420.013 159.625 420.551 160.024 Q421.114 160.422 421.114 161.288 Q421.114 162.249 420.458 162.975 Q419.802 163.701 418.865 163.888 Q419.825 164.497 421.254 164.497 Q422.8 164.497 424.018 163.139 Q425.236 161.78 425.822 159.508 Q427.274 154.051 427.836 151.615 Q428.398 149.156 428.398 148.102 Q428.398 147.118 428.14 146.439 Q427.883 145.759 427.438 145.455 Q427.016 145.127 426.618 145.01 Q426.243 144.893 425.822 144.893 Q425.119 144.893 424.323 145.174 Q423.55 145.455 422.613 146.111 Q421.699 146.743 420.833 148.055 Q419.966 149.366 419.38 151.17 Q419.263 151.709 418.748 151.709 Q418.186 151.685 418.186 151.217 Q418.186 150.819 418.49 149.999 Q418.818 149.156 419.474 148.102 Q420.153 147.048 421.02 146.111 Q421.91 145.15 423.198 144.495 Q424.51 143.839 425.915 143.839 Q426.548 143.839 427.157 143.979 Q427.789 144.096 428.539 144.448 Q429.311 144.799 429.991 145.572 Q430.67 146.345 431.092 147.469 Q431.373 146.931 431.747 146.415 Q432.146 145.9 432.755 145.268 Q433.387 144.612 434.254 144.237 Q435.144 143.839 436.127 143.839 Q437.088 143.839 438.025 144.096 Q438.962 144.331 439.758 145.104 Q440.578 145.853 440.578 147.001 Z\" fill=\"#000000\" fill-rule=\"evenodd\" fill-opacity=\"1\" /><path clip-path=\"url(#clip640)\" d=\"M445.463 150.696 Q445.463 150.09 445.512 149.909 Q445.578 149.729 445.84 149.45 L452.284 142.269 Q455.809 138.301 455.809 134.842 Q455.809 132.595 454.628 130.989 Q453.464 129.382 451.316 129.382 Q449.841 129.382 448.595 130.284 Q447.349 131.185 446.775 132.792 Q446.873 132.759 447.217 132.759 Q448.054 132.759 448.513 133.284 Q448.988 133.809 448.988 134.514 Q448.988 135.415 448.398 135.858 Q447.824 136.284 447.25 136.284 Q447.021 136.284 446.709 136.235 Q446.414 136.186 445.939 135.727 Q445.463 135.251 445.463 134.415 Q445.463 132.071 447.234 130.202 Q449.021 128.332 451.743 128.332 Q454.825 128.332 456.842 130.169 Q458.875 131.989 458.875 134.842 Q458.875 135.842 458.563 136.76 Q458.268 137.662 457.858 138.367 Q457.465 139.072 456.383 140.203 Q455.3 141.334 454.431 142.138 Q453.563 142.941 451.611 144.646 L448.054 148.106 L454.104 148.106 Q457.055 148.106 457.284 147.843 Q457.612 147.368 458.022 144.859 L458.875 144.859 L457.924 150.696 L445.463 150.696 Z\" fill=\"#000000\" fill-rule=\"evenodd\" fill-opacity=\"1\" /><polyline clip-path=\"url(#clip640)\" style=\"stroke:#e26f46; stroke-linecap:round; stroke-linejoin:round; stroke-width:4; stroke-opacity:1; fill:none\" points=\"\n",
       "  245.136,198.898 392.18,198.898 \n",
       "  \"/>\n",
       "<path clip-path=\"url(#clip640)\" d=\"M440.578 191.089 Q440.578 192.4 439.758 193.15 Q438.938 193.876 438.001 193.876 Q437.111 193.876 436.643 193.361 Q436.174 192.846 436.174 192.19 Q436.174 191.3 436.83 190.527 Q437.486 189.754 438.47 189.59 Q437.509 188.981 436.081 188.981 Q435.144 188.981 434.324 189.473 Q433.528 189.965 433.036 190.597 Q432.567 191.229 432.146 192.143 Q431.747 193.033 431.583 193.572 Q431.443 194.087 431.326 194.649 L429.686 201.207 Q428.89 204.323 428.89 205.423 Q428.89 206.782 429.546 207.695 Q430.202 208.585 431.513 208.585 Q432.028 208.585 432.614 208.445 Q433.2 208.281 433.949 207.859 Q434.722 207.414 435.401 206.758 Q436.104 206.079 436.783 204.931 Q437.462 203.784 437.908 202.308 Q438.048 201.793 438.517 201.793 Q439.102 201.793 439.102 202.261 Q439.102 202.66 438.774 203.503 Q438.47 204.323 437.79 205.4 Q437.135 206.454 436.268 207.414 Q435.401 208.351 434.113 209.007 Q432.825 209.663 431.42 209.663 Q429.405 209.663 428.07 208.585 Q426.735 207.508 426.243 206.009 Q426.126 206.22 425.962 206.501 Q425.798 206.782 425.306 207.414 Q424.838 208.023 424.299 208.492 Q423.76 208.937 422.917 209.288 Q422.097 209.663 421.207 209.663 Q420.083 209.663 419.076 209.335 Q418.092 209.007 417.389 208.257 Q416.687 207.508 416.687 206.477 Q416.687 205.33 417.46 204.533 Q418.256 203.714 419.334 203.714 Q420.013 203.714 420.551 204.112 Q421.114 204.51 421.114 205.377 Q421.114 206.337 420.458 207.063 Q419.802 207.789 418.865 207.976 Q419.825 208.585 421.254 208.585 Q422.8 208.585 424.018 207.227 Q425.236 205.868 425.822 203.596 Q427.274 198.139 427.836 195.703 Q428.398 193.244 428.398 192.19 Q428.398 191.206 428.14 190.527 Q427.883 189.847 427.438 189.543 Q427.016 189.215 426.618 189.098 Q426.243 188.981 425.822 188.981 Q425.119 188.981 424.323 189.262 Q423.55 189.543 422.613 190.199 Q421.699 190.831 420.833 192.143 Q419.966 193.455 419.38 195.258 Q419.263 195.797 418.748 195.797 Q418.186 195.773 418.186 195.305 Q418.186 194.907 418.49 194.087 Q418.818 193.244 419.474 192.19 Q420.153 191.136 421.02 190.199 Q421.91 189.238 423.198 188.583 Q424.51 187.927 425.915 187.927 Q426.548 187.927 427.157 188.067 Q427.789 188.184 428.539 188.536 Q429.311 188.887 429.991 189.66 Q430.67 190.433 431.092 191.557 Q431.373 191.019 431.747 190.503 Q432.146 189.988 432.755 189.356 Q433.387 188.7 434.254 188.325 Q435.144 187.927 436.127 187.927 Q437.088 187.927 438.025 188.184 Q438.962 188.419 439.758 189.192 Q440.578 189.941 440.578 191.089 Z\" fill=\"#000000\" fill-rule=\"evenodd\" fill-opacity=\"1\" /></svg>\n"
      ]
     },
     "execution_count": 16,
     "metadata": {},
     "output_type": "execute_result"
    }
   ],
   "source": [
    "# direct solution with broadcasting, and small user-defined function\n",
    "n = 100\n",
    "f(x) = x^2\n",
    "\n",
    "x = randn(n)\n",
    "plot(f.(x), label=L\"x^2\")\n",
    "plot!(x, label=L\"x\") # layer on the same plot"
   ]
  },
  {
   "attachments": {},
   "cell_type": "markdown",
   "id": "1d7032e6",
   "metadata": {},
   "source": [
    "While broadcasting above superficially looks like vectorizing functions in MATLAB, or Python ufuncs, it is much richer and built on core foundations of the language.\n",
    "\n",
    "The other additional function `plot!` adds a graph to the existing plot.\n",
    "\n",
    "This follows a general convention in Julia, where a function that modifies the arguments or a global state has a `!` at the end of its name.\n",
    "\n",
    "The `L` in front of the labels is using the LaTeXStrings package, which will try to interpret the text as latex for display."
   ]
  },
  {
   "attachments": {},
   "cell_type": "markdown",
   "id": "ee5fc3b2",
   "metadata": {},
   "source": [
    "#### A Slightly More Useful Function\n",
    "\n",
    "Let’s make a slightly more useful function.\n",
    "\n",
    "This function will be passed in a choice of probability distribution and respond by plotting a histogram of observations.\n",
    "\n",
    "In doing so we’ll make use of the `Distributions` package, which we assume was instantiated above with the project.\n",
    "\n",
    "Here’s the code"
   ]
  },
  {
   "cell_type": "code",
   "execution_count": 17,
   "id": "e2c708f6",
   "metadata": {
    "hide-output": false
   },
   "outputs": [
    {
     "data": {
      "image/svg+xml": [
       "<?xml version=\"1.0\" encoding=\"utf-8\"?>\n",
       "<svg xmlns=\"http://www.w3.org/2000/svg\" xmlns:xlink=\"http://www.w3.org/1999/xlink\" width=\"600\" height=\"400\" viewBox=\"0 0 2400 1600\">\n",
       "<defs>\n",
       "  <clipPath id=\"clip680\">\n",
       "    <rect x=\"0\" y=\"0\" width=\"2400\" height=\"1600\"/>\n",
       "  </clipPath>\n",
       "</defs>\n",
       "<path clip-path=\"url(#clip680)\" d=\"\n",
       "M0 1600 L2400 1600 L2400 0 L0 0  Z\n",
       "  \" fill=\"#ffffff\" fill-rule=\"evenodd\" fill-opacity=\"1\"/>\n",
       "<defs>\n",
       "  <clipPath id=\"clip681\">\n",
       "    <rect x=\"480\" y=\"0\" width=\"1681\" height=\"1600\"/>\n",
       "  </clipPath>\n",
       "</defs>\n",
       "<path clip-path=\"url(#clip680)\" d=\"\n",
       "M169.121 1486.45 L2352.76 1486.45 L2352.76 47.2441 L169.121 47.2441  Z\n",
       "  \" fill=\"#ffffff\" fill-rule=\"evenodd\" fill-opacity=\"1\"/>\n",
       "<defs>\n",
       "  <clipPath id=\"clip682\">\n",
       "    <rect x=\"169\" y=\"47\" width=\"2185\" height=\"1440\"/>\n",
       "  </clipPath>\n",
       "</defs>\n",
       "<polyline clip-path=\"url(#clip682)\" style=\"stroke:#000000; stroke-linecap:round; stroke-linejoin:round; stroke-width:2; stroke-opacity:0.1; fill:none\" points=\"\n",
       "  493.796,1486.45 493.796,47.2441 \n",
       "  \"/>\n",
       "<polyline clip-path=\"url(#clip682)\" style=\"stroke:#000000; stroke-linecap:round; stroke-linejoin:round; stroke-width:2; stroke-opacity:0.1; fill:none\" points=\"\n",
       "  902.939,1486.45 902.939,47.2441 \n",
       "  \"/>\n",
       "<polyline clip-path=\"url(#clip682)\" style=\"stroke:#000000; stroke-linecap:round; stroke-linejoin:round; stroke-width:2; stroke-opacity:0.1; fill:none\" points=\"\n",
       "  1312.08,1486.45 1312.08,47.2441 \n",
       "  \"/>\n",
       "<polyline clip-path=\"url(#clip682)\" style=\"stroke:#000000; stroke-linecap:round; stroke-linejoin:round; stroke-width:2; stroke-opacity:0.1; fill:none\" points=\"\n",
       "  1721.22,1486.45 1721.22,47.2441 \n",
       "  \"/>\n",
       "<polyline clip-path=\"url(#clip682)\" style=\"stroke:#000000; stroke-linecap:round; stroke-linejoin:round; stroke-width:2; stroke-opacity:0.1; fill:none\" points=\"\n",
       "  2130.37,1486.45 2130.37,47.2441 \n",
       "  \"/>\n",
       "<polyline clip-path=\"url(#clip680)\" style=\"stroke:#000000; stroke-linecap:round; stroke-linejoin:round; stroke-width:4; stroke-opacity:1; fill:none\" points=\"\n",
       "  169.121,1486.45 2352.76,1486.45 \n",
       "  \"/>\n",
       "<polyline clip-path=\"url(#clip680)\" style=\"stroke:#000000; stroke-linecap:round; stroke-linejoin:round; stroke-width:4; stroke-opacity:1; fill:none\" points=\"\n",
       "  493.796,1486.45 493.796,1467.55 \n",
       "  \"/>\n",
       "<polyline clip-path=\"url(#clip680)\" style=\"stroke:#000000; stroke-linecap:round; stroke-linejoin:round; stroke-width:4; stroke-opacity:1; fill:none\" points=\"\n",
       "  902.939,1486.45 902.939,1467.55 \n",
       "  \"/>\n",
       "<polyline clip-path=\"url(#clip680)\" style=\"stroke:#000000; stroke-linecap:round; stroke-linejoin:round; stroke-width:4; stroke-opacity:1; fill:none\" points=\"\n",
       "  1312.08,1486.45 1312.08,1467.55 \n",
       "  \"/>\n",
       "<polyline clip-path=\"url(#clip680)\" style=\"stroke:#000000; stroke-linecap:round; stroke-linejoin:round; stroke-width:4; stroke-opacity:1; fill:none\" points=\"\n",
       "  1721.22,1486.45 1721.22,1467.55 \n",
       "  \"/>\n",
       "<polyline clip-path=\"url(#clip680)\" style=\"stroke:#000000; stroke-linecap:round; stroke-linejoin:round; stroke-width:4; stroke-opacity:1; fill:none\" points=\"\n",
       "  2130.37,1486.45 2130.37,1467.55 \n",
       "  \"/>\n",
       "<path clip-path=\"url(#clip680)\" d=\"M462.697 1532.02 L492.373 1532.02 L492.373 1535.95 L462.697 1535.95 L462.697 1532.02 Z\" fill=\"#000000\" fill-rule=\"evenodd\" fill-opacity=\"1\" /><path clip-path=\"url(#clip680)\" d=\"M515.312 1518.36 L503.507 1536.81 L515.312 1536.81 L515.312 1518.36 M514.086 1514.29 L519.965 1514.29 L519.965 1536.81 L524.896 1536.81 L524.896 1540.7 L519.965 1540.7 L519.965 1548.85 L515.312 1548.85 L515.312 1540.7 L499.711 1540.7 L499.711 1536.19 L514.086 1514.29 Z\" fill=\"#000000\" fill-rule=\"evenodd\" fill-opacity=\"1\" /><path clip-path=\"url(#clip680)\" d=\"M872.881 1532.02 L902.557 1532.02 L902.557 1535.95 L872.881 1535.95 L872.881 1532.02 Z\" fill=\"#000000\" fill-rule=\"evenodd\" fill-opacity=\"1\" /><path clip-path=\"url(#clip680)\" d=\"M916.677 1544.91 L932.997 1544.91 L932.997 1548.85 L911.052 1548.85 L911.052 1544.91 Q913.714 1542.16 918.298 1537.53 Q922.904 1532.88 924.085 1531.53 Q926.33 1529.01 927.21 1527.27 Q928.112 1525.51 928.112 1523.82 Q928.112 1521.07 926.168 1519.33 Q924.247 1517.6 921.145 1517.6 Q918.946 1517.6 916.492 1518.36 Q914.062 1519.13 911.284 1520.68 L911.284 1515.95 Q914.108 1514.82 916.562 1514.24 Q919.015 1513.66 921.052 1513.66 Q926.423 1513.66 929.617 1516.35 Q932.811 1519.03 932.811 1523.52 Q932.811 1525.65 932.001 1527.57 Q931.214 1529.47 929.108 1532.07 Q928.529 1532.74 925.427 1535.95 Q922.325 1539.15 916.677 1544.91 Z\" fill=\"#000000\" fill-rule=\"evenodd\" fill-opacity=\"1\" /><path clip-path=\"url(#clip680)\" d=\"M1312.08 1517.37 Q1308.47 1517.37 1306.64 1520.93 Q1304.84 1524.47 1304.84 1531.6 Q1304.84 1538.71 1306.64 1542.27 Q1308.47 1545.82 1312.08 1545.82 Q1315.72 1545.82 1317.52 1542.27 Q1319.35 1538.71 1319.35 1531.6 Q1319.35 1524.47 1317.52 1520.93 Q1315.72 1517.37 1312.08 1517.37 M1312.08 1513.66 Q1317.89 1513.66 1320.95 1518.27 Q1324.03 1522.85 1324.03 1531.6 Q1324.03 1540.33 1320.95 1544.94 Q1317.89 1549.52 1312.08 1549.52 Q1306.27 1549.52 1303.19 1544.94 Q1300.14 1540.33 1300.14 1531.6 Q1300.14 1522.85 1303.19 1518.27 Q1306.27 1513.66 1312.08 1513.66 Z\" fill=\"#000000\" fill-rule=\"evenodd\" fill-opacity=\"1\" /><path clip-path=\"url(#clip680)\" d=\"M1715.88 1544.91 L1732.2 1544.91 L1732.2 1548.85 L1710.25 1548.85 L1710.25 1544.91 Q1712.91 1542.16 1717.5 1537.53 Q1722.1 1532.88 1723.28 1531.53 Q1725.53 1529.01 1726.41 1527.27 Q1727.31 1525.51 1727.31 1523.82 Q1727.31 1521.07 1725.37 1519.33 Q1723.45 1517.6 1720.34 1517.6 Q1718.15 1517.6 1715.69 1518.36 Q1713.26 1519.13 1710.48 1520.68 L1710.48 1515.95 Q1713.31 1514.82 1715.76 1514.24 Q1718.21 1513.66 1720.25 1513.66 Q1725.62 1513.66 1728.82 1516.35 Q1732.01 1519.03 1732.01 1523.52 Q1732.01 1525.65 1731.2 1527.57 Q1730.41 1529.47 1728.31 1532.07 Q1727.73 1532.74 1724.63 1535.95 Q1721.52 1539.15 1715.88 1544.91 Z\" fill=\"#000000\" fill-rule=\"evenodd\" fill-opacity=\"1\" /><path clip-path=\"url(#clip680)\" d=\"M2133.38 1518.36 L2121.57 1536.81 L2133.38 1536.81 L2133.38 1518.36 M2132.15 1514.29 L2138.03 1514.29 L2138.03 1536.81 L2142.96 1536.81 L2142.96 1540.7 L2138.03 1540.7 L2138.03 1548.85 L2133.38 1548.85 L2133.38 1540.7 L2117.77 1540.7 L2117.77 1536.19 L2132.15 1514.29 Z\" fill=\"#000000\" fill-rule=\"evenodd\" fill-opacity=\"1\" /><polyline clip-path=\"url(#clip682)\" style=\"stroke:#000000; stroke-linecap:round; stroke-linejoin:round; stroke-width:2; stroke-opacity:0.1; fill:none\" points=\"\n",
       "  169.121,1445.72 2352.76,1445.72 \n",
       "  \"/>\n",
       "<polyline clip-path=\"url(#clip682)\" style=\"stroke:#000000; stroke-linecap:round; stroke-linejoin:round; stroke-width:2; stroke-opacity:0.1; fill:none\" points=\"\n",
       "  169.121,1137.14 2352.76,1137.14 \n",
       "  \"/>\n",
       "<polyline clip-path=\"url(#clip682)\" style=\"stroke:#000000; stroke-linecap:round; stroke-linejoin:round; stroke-width:2; stroke-opacity:0.1; fill:none\" points=\"\n",
       "  169.121,828.561 2352.76,828.561 \n",
       "  \"/>\n",
       "<polyline clip-path=\"url(#clip682)\" style=\"stroke:#000000; stroke-linecap:round; stroke-linejoin:round; stroke-width:2; stroke-opacity:0.1; fill:none\" points=\"\n",
       "  169.121,519.984 2352.76,519.984 \n",
       "  \"/>\n",
       "<polyline clip-path=\"url(#clip682)\" style=\"stroke:#000000; stroke-linecap:round; stroke-linejoin:round; stroke-width:2; stroke-opacity:0.1; fill:none\" points=\"\n",
       "  169.121,211.407 2352.76,211.407 \n",
       "  \"/>\n",
       "<polyline clip-path=\"url(#clip680)\" style=\"stroke:#000000; stroke-linecap:round; stroke-linejoin:round; stroke-width:4; stroke-opacity:1; fill:none\" points=\"\n",
       "  169.121,1486.45 169.121,47.2441 \n",
       "  \"/>\n",
       "<polyline clip-path=\"url(#clip680)\" style=\"stroke:#000000; stroke-linecap:round; stroke-linejoin:round; stroke-width:4; stroke-opacity:1; fill:none\" points=\"\n",
       "  169.121,1445.72 188.019,1445.72 \n",
       "  \"/>\n",
       "<polyline clip-path=\"url(#clip680)\" style=\"stroke:#000000; stroke-linecap:round; stroke-linejoin:round; stroke-width:4; stroke-opacity:1; fill:none\" points=\"\n",
       "  169.121,1137.14 188.019,1137.14 \n",
       "  \"/>\n",
       "<polyline clip-path=\"url(#clip680)\" style=\"stroke:#000000; stroke-linecap:round; stroke-linejoin:round; stroke-width:4; stroke-opacity:1; fill:none\" points=\"\n",
       "  169.121,828.561 188.019,828.561 \n",
       "  \"/>\n",
       "<polyline clip-path=\"url(#clip680)\" style=\"stroke:#000000; stroke-linecap:round; stroke-linejoin:round; stroke-width:4; stroke-opacity:1; fill:none\" points=\"\n",
       "  169.121,519.984 188.019,519.984 \n",
       "  \"/>\n",
       "<polyline clip-path=\"url(#clip680)\" style=\"stroke:#000000; stroke-linecap:round; stroke-linejoin:round; stroke-width:4; stroke-opacity:1; fill:none\" points=\"\n",
       "  169.121,211.407 188.019,211.407 \n",
       "  \"/>\n",
       "<path clip-path=\"url(#clip680)\" d=\"M121.177 1431.51 Q117.566 1431.51 115.737 1435.08 Q113.932 1438.62 113.932 1445.75 Q113.932 1452.86 115.737 1456.42 Q117.566 1459.96 121.177 1459.96 Q124.811 1459.96 126.617 1456.42 Q128.445 1452.86 128.445 1445.75 Q128.445 1438.62 126.617 1435.08 Q124.811 1431.51 121.177 1431.51 M121.177 1427.81 Q126.987 1427.81 130.043 1432.42 Q133.121 1437 133.121 1445.75 Q133.121 1454.48 130.043 1459.08 Q126.987 1463.67 121.177 1463.67 Q115.367 1463.67 112.288 1459.08 Q109.233 1454.48 109.233 1445.75 Q109.233 1437 112.288 1432.42 Q115.367 1427.81 121.177 1427.81 Z\" fill=\"#000000\" fill-rule=\"evenodd\" fill-opacity=\"1\" /><path clip-path=\"url(#clip680)\" d=\"M86.0382 1150.48 L102.358 1150.48 L102.358 1154.42 L80.4133 1154.42 L80.4133 1150.48 Q83.0753 1147.73 87.6586 1143.1 Q92.2651 1138.45 93.4456 1137.1 Q95.691 1134.58 96.5706 1132.84 Q97.4734 1131.09 97.4734 1129.4 Q97.4734 1126.64 95.5289 1124.9 Q93.6076 1123.17 90.5058 1123.17 Q88.3067 1123.17 85.8531 1123.93 Q83.4225 1124.7 80.6447 1126.25 L80.6447 1121.53 Q83.4688 1120.39 85.9225 1119.81 Q88.3762 1119.23 90.4132 1119.23 Q95.7836 1119.23 98.978 1121.92 Q102.172 1124.6 102.172 1129.09 Q102.172 1131.22 101.362 1133.15 Q100.575 1135.04 98.4687 1137.64 Q97.89 1138.31 94.7882 1141.53 Q91.6864 1144.72 86.0382 1150.48 Z\" fill=\"#000000\" fill-rule=\"evenodd\" fill-opacity=\"1\" /><path clip-path=\"url(#clip680)\" d=\"M112.219 1119.86 L130.575 1119.86 L130.575 1123.79 L116.501 1123.79 L116.501 1132.27 Q117.52 1131.92 118.538 1131.76 Q119.557 1131.57 120.575 1131.57 Q126.362 1131.57 129.742 1134.74 Q133.121 1137.91 133.121 1143.33 Q133.121 1148.91 129.649 1152.01 Q126.177 1155.09 119.857 1155.09 Q117.682 1155.09 115.413 1154.72 Q113.168 1154.35 110.76 1153.61 L110.76 1148.91 Q112.844 1150.04 115.066 1150.6 Q117.288 1151.15 119.765 1151.15 Q123.77 1151.15 126.107 1149.05 Q128.445 1146.94 128.445 1143.33 Q128.445 1139.72 126.107 1137.61 Q123.77 1135.51 119.765 1135.51 Q117.89 1135.51 116.015 1135.92 Q114.163 1136.34 112.219 1137.22 L112.219 1119.86 Z\" fill=\"#000000\" fill-rule=\"evenodd\" fill-opacity=\"1\" /><path clip-path=\"url(#clip680)\" d=\"M81.0614 811.281 L99.4178 811.281 L99.4178 815.217 L85.3438 815.217 L85.3438 823.689 Q86.3623 823.342 87.3808 823.179 Q88.3993 822.994 89.4178 822.994 Q95.2049 822.994 98.5845 826.166 Q101.964 829.337 101.964 834.754 Q101.964 840.332 98.4919 843.434 Q95.0197 846.513 88.7003 846.513 Q86.5243 846.513 84.2558 846.142 Q82.0105 845.772 79.6031 845.031 L79.6031 840.332 Q81.6864 841.466 83.9086 842.022 Q86.1308 842.578 88.6077 842.578 Q92.6123 842.578 94.9502 840.471 Q97.2882 838.365 97.2882 834.754 Q97.2882 831.142 94.9502 829.036 Q92.6123 826.929 88.6077 826.929 Q86.7327 826.929 84.8577 827.346 Q83.0058 827.763 81.0614 828.642 L81.0614 811.281 Z\" fill=\"#000000\" fill-rule=\"evenodd\" fill-opacity=\"1\" /><path clip-path=\"url(#clip680)\" d=\"M121.177 814.36 Q117.566 814.36 115.737 817.925 Q113.932 821.467 113.932 828.596 Q113.932 835.703 115.737 839.267 Q117.566 842.809 121.177 842.809 Q124.811 842.809 126.617 839.267 Q128.445 835.703 128.445 828.596 Q128.445 821.467 126.617 817.925 Q124.811 814.36 121.177 814.36 M121.177 810.656 Q126.987 810.656 130.043 815.263 Q133.121 819.846 133.121 828.596 Q133.121 837.323 130.043 841.929 Q126.987 846.513 121.177 846.513 Q115.367 846.513 112.288 841.929 Q109.233 837.323 109.233 828.596 Q109.233 819.846 112.288 815.263 Q115.367 810.656 121.177 810.656 Z\" fill=\"#000000\" fill-rule=\"evenodd\" fill-opacity=\"1\" /><path clip-path=\"url(#clip680)\" d=\"M80.8299 502.704 L103.052 502.704 L103.052 504.695 L90.5058 537.264 L85.6216 537.264 L97.4271 506.639 L80.8299 506.639 L80.8299 502.704 Z\" fill=\"#000000\" fill-rule=\"evenodd\" fill-opacity=\"1\" /><path clip-path=\"url(#clip680)\" d=\"M112.219 502.704 L130.575 502.704 L130.575 506.639 L116.501 506.639 L116.501 515.112 Q117.52 514.764 118.538 514.602 Q119.557 514.417 120.575 514.417 Q126.362 514.417 129.742 517.588 Q133.121 520.76 133.121 526.176 Q133.121 531.755 129.649 534.857 Q126.177 537.936 119.857 537.936 Q117.682 537.936 115.413 537.565 Q113.168 537.195 110.76 536.454 L110.76 531.755 Q112.844 532.889 115.066 533.445 Q117.288 534 119.765 534 Q123.77 534 126.107 531.894 Q128.445 529.787 128.445 526.176 Q128.445 522.565 126.107 520.459 Q123.77 518.352 119.765 518.352 Q117.89 518.352 116.015 518.769 Q114.163 519.186 112.219 520.065 L112.219 502.704 Z\" fill=\"#000000\" fill-rule=\"evenodd\" fill-opacity=\"1\" /><path clip-path=\"url(#clip680)\" d=\"M51.6634 224.752 L59.3023 224.752 L59.3023 198.386 L50.9921 200.053 L50.9921 195.794 L59.256 194.127 L63.9319 194.127 L63.9319 224.752 L71.5707 224.752 L71.5707 228.687 L51.6634 228.687 L51.6634 224.752 Z\" fill=\"#000000\" fill-rule=\"evenodd\" fill-opacity=\"1\" /><path clip-path=\"url(#clip680)\" d=\"M91.0151 197.206 Q87.404 197.206 85.5753 200.771 Q83.7697 204.312 83.7697 211.442 Q83.7697 218.548 85.5753 222.113 Q87.404 225.655 91.0151 225.655 Q94.6493 225.655 96.4548 222.113 Q98.2835 218.548 98.2835 211.442 Q98.2835 204.312 96.4548 200.771 Q94.6493 197.206 91.0151 197.206 M91.0151 193.502 Q96.8252 193.502 99.8808 198.109 Q102.959 202.692 102.959 211.442 Q102.959 220.169 99.8808 224.775 Q96.8252 229.358 91.0151 229.358 Q85.2049 229.358 82.1262 224.775 Q79.0707 220.169 79.0707 211.442 Q79.0707 202.692 82.1262 198.109 Q85.2049 193.502 91.0151 193.502 Z\" fill=\"#000000\" fill-rule=\"evenodd\" fill-opacity=\"1\" /><path clip-path=\"url(#clip680)\" d=\"M121.177 197.206 Q117.566 197.206 115.737 200.771 Q113.932 204.312 113.932 211.442 Q113.932 218.548 115.737 222.113 Q117.566 225.655 121.177 225.655 Q124.811 225.655 126.617 222.113 Q128.445 218.548 128.445 211.442 Q128.445 204.312 126.617 200.771 Q124.811 197.206 121.177 197.206 M121.177 193.502 Q126.987 193.502 130.043 198.109 Q133.121 202.692 133.121 211.442 Q133.121 220.169 130.043 224.775 Q126.987 229.358 121.177 229.358 Q115.367 229.358 112.288 224.775 Q109.233 220.169 109.233 211.442 Q109.233 202.692 112.288 198.109 Q115.367 193.502 121.177 193.502 Z\" fill=\"#000000\" fill-rule=\"evenodd\" fill-opacity=\"1\" /><path clip-path=\"url(#clip682)\" d=\"\n",
       "M289.225 1396.34 L289.225 1445.72 L391.511 1445.72 L391.511 1396.34 L289.225 1396.34 L289.225 1396.34  Z\n",
       "  \" fill=\"#009af9\" fill-rule=\"evenodd\" fill-opacity=\"1\"/>\n",
       "<polyline clip-path=\"url(#clip682)\" style=\"stroke:#000000; stroke-linecap:round; stroke-linejoin:round; stroke-width:4; stroke-opacity:1; fill:none\" points=\"\n",
       "  289.225,1396.34 289.225,1445.72 391.511,1445.72 391.511,1396.34 289.225,1396.34 \n",
       "  \"/>\n",
       "<path clip-path=\"url(#clip682)\" d=\"\n",
       "M391.511 1421.03 L391.511 1445.72 L493.796 1445.72 L493.796 1421.03 L391.511 1421.03 L391.511 1421.03  Z\n",
       "  \" fill=\"#009af9\" fill-rule=\"evenodd\" fill-opacity=\"1\"/>\n",
       "<polyline clip-path=\"url(#clip682)\" style=\"stroke:#000000; stroke-linecap:round; stroke-linejoin:round; stroke-width:4; stroke-opacity:1; fill:none\" points=\"\n",
       "  391.511,1421.03 391.511,1445.72 493.796,1445.72 493.796,1421.03 391.511,1421.03 \n",
       "  \"/>\n",
       "<path clip-path=\"url(#clip682)\" d=\"\n",
       "M493.796 1384 L493.796 1445.72 L596.082 1445.72 L596.082 1384 L493.796 1384 L493.796 1384  Z\n",
       "  \" fill=\"#009af9\" fill-rule=\"evenodd\" fill-opacity=\"1\"/>\n",
       "<polyline clip-path=\"url(#clip682)\" style=\"stroke:#000000; stroke-linecap:round; stroke-linejoin:round; stroke-width:4; stroke-opacity:1; fill:none\" points=\"\n",
       "  493.796,1384 493.796,1445.72 596.082,1445.72 596.082,1384 493.796,1384 \n",
       "  \"/>\n",
       "<path clip-path=\"url(#clip682)\" d=\"\n",
       "M596.082 1396.34 L596.082 1445.72 L698.368 1445.72 L698.368 1396.34 L596.082 1396.34 L596.082 1396.34  Z\n",
       "  \" fill=\"#009af9\" fill-rule=\"evenodd\" fill-opacity=\"1\"/>\n",
       "<polyline clip-path=\"url(#clip682)\" style=\"stroke:#000000; stroke-linecap:round; stroke-linejoin:round; stroke-width:4; stroke-opacity:1; fill:none\" points=\"\n",
       "  596.082,1396.34 596.082,1445.72 698.368,1445.72 698.368,1396.34 596.082,1396.34 \n",
       "  \"/>\n",
       "<path clip-path=\"url(#clip682)\" d=\"\n",
       "M698.368 1384 L698.368 1445.72 L800.653 1445.72 L800.653 1384 L698.368 1384 L698.368 1384  Z\n",
       "  \" fill=\"#009af9\" fill-rule=\"evenodd\" fill-opacity=\"1\"/>\n",
       "<polyline clip-path=\"url(#clip682)\" style=\"stroke:#000000; stroke-linecap:round; stroke-linejoin:round; stroke-width:4; stroke-opacity:1; fill:none\" points=\"\n",
       "  698.368,1384 698.368,1445.72 800.653,1445.72 800.653,1384 698.368,1384 \n",
       "  \"/>\n",
       "<path clip-path=\"url(#clip682)\" d=\"\n",
       "M800.653 1260.57 L800.653 1445.72 L902.939 1445.72 L902.939 1260.57 L800.653 1260.57 L800.653 1260.57  Z\n",
       "  \" fill=\"#009af9\" fill-rule=\"evenodd\" fill-opacity=\"1\"/>\n",
       "<polyline clip-path=\"url(#clip682)\" style=\"stroke:#000000; stroke-linecap:round; stroke-linejoin:round; stroke-width:4; stroke-opacity:1; fill:none\" points=\"\n",
       "  800.653,1260.57 800.653,1445.72 902.939,1445.72 902.939,1260.57 800.653,1260.57 \n",
       "  \"/>\n",
       "<path clip-path=\"url(#clip682)\" d=\"\n",
       "M902.939 1149.48 L902.939 1445.72 L1005.22 1445.72 L1005.22 1149.48 L902.939 1149.48 L902.939 1149.48  Z\n",
       "  \" fill=\"#009af9\" fill-rule=\"evenodd\" fill-opacity=\"1\"/>\n",
       "<polyline clip-path=\"url(#clip682)\" style=\"stroke:#000000; stroke-linecap:round; stroke-linejoin:round; stroke-width:4; stroke-opacity:1; fill:none\" points=\"\n",
       "  902.939,1149.48 902.939,1445.72 1005.22,1445.72 1005.22,1149.48 902.939,1149.48 \n",
       "  \"/>\n",
       "<path clip-path=\"url(#clip682)\" d=\"\n",
       "M1005.22 1087.77 L1005.22 1445.72 L1107.51 1445.72 L1107.51 1087.77 L1005.22 1087.77 L1005.22 1087.77  Z\n",
       "  \" fill=\"#009af9\" fill-rule=\"evenodd\" fill-opacity=\"1\"/>\n",
       "<polyline clip-path=\"url(#clip682)\" style=\"stroke:#000000; stroke-linecap:round; stroke-linejoin:round; stroke-width:4; stroke-opacity:1; fill:none\" points=\"\n",
       "  1005.22,1087.77 1005.22,1445.72 1107.51,1445.72 1107.51,1087.77 1005.22,1087.77 \n",
       "  \"/>\n",
       "<path clip-path=\"url(#clip682)\" d=\"\n",
       "M1107.51 828.561 L1107.51 1445.72 L1209.8 1445.72 L1209.8 828.561 L1107.51 828.561 L1107.51 828.561  Z\n",
       "  \" fill=\"#009af9\" fill-rule=\"evenodd\" fill-opacity=\"1\"/>\n",
       "<polyline clip-path=\"url(#clip682)\" style=\"stroke:#000000; stroke-linecap:round; stroke-linejoin:round; stroke-width:4; stroke-opacity:1; fill:none\" points=\"\n",
       "  1107.51,828.561 1107.51,1445.72 1209.8,1445.72 1209.8,828.561 1107.51,828.561 \n",
       "  \"/>\n",
       "<path clip-path=\"url(#clip682)\" d=\"\n",
       "M1209.8 162.035 L1209.8 1445.72 L1312.08 1445.72 L1312.08 162.035 L1209.8 162.035 L1209.8 162.035  Z\n",
       "  \" fill=\"#009af9\" fill-rule=\"evenodd\" fill-opacity=\"1\"/>\n",
       "<polyline clip-path=\"url(#clip682)\" style=\"stroke:#000000; stroke-linecap:round; stroke-linejoin:round; stroke-width:4; stroke-opacity:1; fill:none\" points=\"\n",
       "  1209.8,162.035 1209.8,1445.72 1312.08,1445.72 1312.08,162.035 1209.8,162.035 \n",
       "  \"/>\n",
       "<path clip-path=\"url(#clip682)\" d=\"\n",
       "M1312.08 87.9763 L1312.08 1445.72 L1414.37 1445.72 L1414.37 87.9763 L1312.08 87.9763 L1312.08 87.9763  Z\n",
       "  \" fill=\"#009af9\" fill-rule=\"evenodd\" fill-opacity=\"1\"/>\n",
       "<polyline clip-path=\"url(#clip682)\" style=\"stroke:#000000; stroke-linecap:round; stroke-linejoin:round; stroke-width:4; stroke-opacity:1; fill:none\" points=\"\n",
       "  1312.08,87.9763 1312.08,1445.72 1414.37,1445.72 1414.37,87.9763 1312.08,87.9763 \n",
       "  \"/>\n",
       "<path clip-path=\"url(#clip682)\" d=\"\n",
       "M1414.37 631.072 L1414.37 1445.72 L1516.65 1445.72 L1516.65 631.072 L1414.37 631.072 L1414.37 631.072  Z\n",
       "  \" fill=\"#009af9\" fill-rule=\"evenodd\" fill-opacity=\"1\"/>\n",
       "<polyline clip-path=\"url(#clip682)\" style=\"stroke:#000000; stroke-linecap:round; stroke-linejoin:round; stroke-width:4; stroke-opacity:1; fill:none\" points=\"\n",
       "  1414.37,631.072 1414.37,1445.72 1516.65,1445.72 1516.65,631.072 1414.37,631.072 \n",
       "  \"/>\n",
       "<path clip-path=\"url(#clip682)\" d=\"\n",
       "M1516.65 1087.77 L1516.65 1445.72 L1618.94 1445.72 L1618.94 1087.77 L1516.65 1087.77 L1516.65 1087.77  Z\n",
       "  \" fill=\"#009af9\" fill-rule=\"evenodd\" fill-opacity=\"1\"/>\n",
       "<polyline clip-path=\"url(#clip682)\" style=\"stroke:#000000; stroke-linecap:round; stroke-linejoin:round; stroke-width:4; stroke-opacity:1; fill:none\" points=\"\n",
       "  1516.65,1087.77 1516.65,1445.72 1618.94,1445.72 1618.94,1087.77 1516.65,1087.77 \n",
       "  \"/>\n",
       "<path clip-path=\"url(#clip682)\" d=\"\n",
       "M1618.94 1248.23 L1618.94 1445.72 L1721.22 1445.72 L1721.22 1248.23 L1618.94 1248.23 L1618.94 1248.23  Z\n",
       "  \" fill=\"#009af9\" fill-rule=\"evenodd\" fill-opacity=\"1\"/>\n",
       "<polyline clip-path=\"url(#clip682)\" style=\"stroke:#000000; stroke-linecap:round; stroke-linejoin:round; stroke-width:4; stroke-opacity:1; fill:none\" points=\"\n",
       "  1618.94,1248.23 1618.94,1445.72 1721.22,1445.72 1721.22,1248.23 1618.94,1248.23 \n",
       "  \"/>\n",
       "<path clip-path=\"url(#clip682)\" d=\"\n",
       "M1721.22 1198.85 L1721.22 1445.72 L1823.51 1445.72 L1823.51 1198.85 L1721.22 1198.85 L1721.22 1198.85  Z\n",
       "  \" fill=\"#009af9\" fill-rule=\"evenodd\" fill-opacity=\"1\"/>\n",
       "<polyline clip-path=\"url(#clip682)\" style=\"stroke:#000000; stroke-linecap:round; stroke-linejoin:round; stroke-width:4; stroke-opacity:1; fill:none\" points=\"\n",
       "  1721.22,1198.85 1721.22,1445.72 1823.51,1445.72 1823.51,1198.85 1721.22,1198.85 \n",
       "  \"/>\n",
       "<path clip-path=\"url(#clip682)\" d=\"\n",
       "M1823.51 1371.66 L1823.51 1445.72 L1925.8 1445.72 L1925.8 1371.66 L1823.51 1371.66 L1823.51 1371.66  Z\n",
       "  \" fill=\"#009af9\" fill-rule=\"evenodd\" fill-opacity=\"1\"/>\n",
       "<polyline clip-path=\"url(#clip682)\" style=\"stroke:#000000; stroke-linecap:round; stroke-linejoin:round; stroke-width:4; stroke-opacity:1; fill:none\" points=\"\n",
       "  1823.51,1371.66 1823.51,1445.72 1925.8,1445.72 1925.8,1371.66 1823.51,1371.66 \n",
       "  \"/>\n",
       "<path clip-path=\"url(#clip682)\" d=\"\n",
       "M1925.8 1359.31 L1925.8 1445.72 L2028.08 1445.72 L2028.08 1359.31 L1925.8 1359.31 L1925.8 1359.31  Z\n",
       "  \" fill=\"#009af9\" fill-rule=\"evenodd\" fill-opacity=\"1\"/>\n",
       "<polyline clip-path=\"url(#clip682)\" style=\"stroke:#000000; stroke-linecap:round; stroke-linejoin:round; stroke-width:4; stroke-opacity:1; fill:none\" points=\"\n",
       "  1925.8,1359.31 1925.8,1445.72 2028.08,1445.72 2028.08,1359.31 1925.8,1359.31 \n",
       "  \"/>\n",
       "<path clip-path=\"url(#clip682)\" d=\"\n",
       "M2028.08 1408.69 L2028.08 1445.72 L2130.37 1445.72 L2130.37 1408.69 L2028.08 1408.69 L2028.08 1408.69  Z\n",
       "  \" fill=\"#009af9\" fill-rule=\"evenodd\" fill-opacity=\"1\"/>\n",
       "<polyline clip-path=\"url(#clip682)\" style=\"stroke:#000000; stroke-linecap:round; stroke-linejoin:round; stroke-width:4; stroke-opacity:1; fill:none\" points=\"\n",
       "  2028.08,1408.69 2028.08,1445.72 2130.37,1445.72 2130.37,1408.69 2028.08,1408.69 \n",
       "  \"/>\n",
       "<path clip-path=\"url(#clip682)\" d=\"\n",
       "M2130.37 1433.37 L2130.37 1445.72 L2232.65 1445.72 L2232.65 1433.37 L2130.37 1433.37 L2130.37 1433.37  Z\n",
       "  \" fill=\"#009af9\" fill-rule=\"evenodd\" fill-opacity=\"1\"/>\n",
       "<polyline clip-path=\"url(#clip682)\" style=\"stroke:#000000; stroke-linecap:round; stroke-linejoin:round; stroke-width:4; stroke-opacity:1; fill:none\" points=\"\n",
       "  2130.37,1433.37 2130.37,1445.72 2232.65,1445.72 2232.65,1433.37 2130.37,1433.37 \n",
       "  \"/>\n",
       "<circle clip-path=\"url(#clip682)\" style=\"fill:#009af9; stroke:none; fill-opacity:0\" cx=\"340.368\" cy=\"1396.34\" r=\"2\"/>\n",
       "<circle clip-path=\"url(#clip682)\" style=\"fill:#009af9; stroke:none; fill-opacity:0\" cx=\"442.654\" cy=\"1421.03\" r=\"2\"/>\n",
       "<circle clip-path=\"url(#clip682)\" style=\"fill:#009af9; stroke:none; fill-opacity:0\" cx=\"544.939\" cy=\"1384\" r=\"2\"/>\n",
       "<circle clip-path=\"url(#clip682)\" style=\"fill:#009af9; stroke:none; fill-opacity:0\" cx=\"647.225\" cy=\"1396.34\" r=\"2\"/>\n",
       "<circle clip-path=\"url(#clip682)\" style=\"fill:#009af9; stroke:none; fill-opacity:0\" cx=\"749.51\" cy=\"1384\" r=\"2\"/>\n",
       "<circle clip-path=\"url(#clip682)\" style=\"fill:#009af9; stroke:none; fill-opacity:0\" cx=\"851.796\" cy=\"1260.57\" r=\"2\"/>\n",
       "<circle clip-path=\"url(#clip682)\" style=\"fill:#009af9; stroke:none; fill-opacity:0\" cx=\"954.082\" cy=\"1149.48\" r=\"2\"/>\n",
       "<circle clip-path=\"url(#clip682)\" style=\"fill:#009af9; stroke:none; fill-opacity:0\" cx=\"1056.37\" cy=\"1087.77\" r=\"2\"/>\n",
       "<circle clip-path=\"url(#clip682)\" style=\"fill:#009af9; stroke:none; fill-opacity:0\" cx=\"1158.65\" cy=\"828.561\" r=\"2\"/>\n",
       "<circle clip-path=\"url(#clip682)\" style=\"fill:#009af9; stroke:none; fill-opacity:0\" cx=\"1260.94\" cy=\"162.035\" r=\"2\"/>\n",
       "<circle clip-path=\"url(#clip682)\" style=\"fill:#009af9; stroke:none; fill-opacity:0\" cx=\"1363.22\" cy=\"87.9763\" r=\"2\"/>\n",
       "<circle clip-path=\"url(#clip682)\" style=\"fill:#009af9; stroke:none; fill-opacity:0\" cx=\"1465.51\" cy=\"631.072\" r=\"2\"/>\n",
       "<circle clip-path=\"url(#clip682)\" style=\"fill:#009af9; stroke:none; fill-opacity:0\" cx=\"1567.8\" cy=\"1087.77\" r=\"2\"/>\n",
       "<circle clip-path=\"url(#clip682)\" style=\"fill:#009af9; stroke:none; fill-opacity:0\" cx=\"1670.08\" cy=\"1248.23\" r=\"2\"/>\n",
       "<circle clip-path=\"url(#clip682)\" style=\"fill:#009af9; stroke:none; fill-opacity:0\" cx=\"1772.37\" cy=\"1198.85\" r=\"2\"/>\n",
       "<circle clip-path=\"url(#clip682)\" style=\"fill:#009af9; stroke:none; fill-opacity:0\" cx=\"1874.65\" cy=\"1371.66\" r=\"2\"/>\n",
       "<circle clip-path=\"url(#clip682)\" style=\"fill:#009af9; stroke:none; fill-opacity:0\" cx=\"1976.94\" cy=\"1359.31\" r=\"2\"/>\n",
       "<circle clip-path=\"url(#clip682)\" style=\"fill:#009af9; stroke:none; fill-opacity:0\" cx=\"2079.22\" cy=\"1408.69\" r=\"2\"/>\n",
       "<circle clip-path=\"url(#clip682)\" style=\"fill:#009af9; stroke:none; fill-opacity:0\" cx=\"2181.51\" cy=\"1433.37\" r=\"2\"/>\n",
       "<path clip-path=\"url(#clip680)\" d=\"\n",
       "M2009.17 198.898 L2279.97 198.898 L2279.97 95.2176 L2009.17 95.2176  Z\n",
       "  \" fill=\"#ffffff\" fill-rule=\"evenodd\" fill-opacity=\"1\"/>\n",
       "<polyline clip-path=\"url(#clip680)\" style=\"stroke:#000000; stroke-linecap:round; stroke-linejoin:round; stroke-width:4; stroke-opacity:1; fill:none\" points=\"\n",
       "  2009.17,198.898 2279.97,198.898 2279.97,95.2176 2009.17,95.2176 2009.17,198.898 \n",
       "  \"/>\n",
       "<path clip-path=\"url(#clip680)\" d=\"\n",
       "M2033.44 167.794 L2179.01 167.794 L2179.01 126.322 L2033.44 126.322 L2033.44 167.794  Z\n",
       "  \" fill=\"#009af9\" fill-rule=\"evenodd\" fill-opacity=\"1\"/>\n",
       "<polyline clip-path=\"url(#clip680)\" style=\"stroke:#000000; stroke-linecap:round; stroke-linejoin:round; stroke-width:4; stroke-opacity:1; fill:none\" points=\"\n",
       "  2033.44,167.794 2179.01,167.794 2179.01,126.322 2033.44,126.322 2033.44,167.794 \n",
       "  \"/>\n",
       "<path clip-path=\"url(#clip680)\" d=\"M2217.12 166.745 Q2215.31 171.375 2213.6 172.787 Q2211.89 174.199 2209.02 174.199 L2205.61 174.199 L2205.61 170.634 L2208.11 170.634 Q2209.87 170.634 2210.84 169.8 Q2211.82 168.967 2213 165.865 L2213.76 163.921 L2203.28 138.412 L2207.79 138.412 L2215.89 158.689 L2223.99 138.412 L2228.51 138.412 L2217.12 166.745 Z\" fill=\"#000000\" fill-rule=\"evenodd\" fill-opacity=\"1\" /><path clip-path=\"url(#clip680)\" d=\"M2235.8 160.402 L2243.44 160.402 L2243.44 134.037 L2235.13 135.703 L2235.13 131.444 L2243.39 129.778 L2248.07 129.778 L2248.07 160.402 L2255.71 160.402 L2255.71 164.338 L2235.8 164.338 L2235.8 160.402 Z\" fill=\"#000000\" fill-rule=\"evenodd\" fill-opacity=\"1\" /></svg>\n"
      ]
     },
     "execution_count": 17,
     "metadata": {},
     "output_type": "execute_result"
    }
   ],
   "source": [
    "using Distributions\n",
    "\n",
    "function plothistogram(distribution, n)\n",
    "    ϵ = rand(distribution, n)  # n draws from distribution\n",
    "    histogram(ϵ)\n",
    "end\n",
    "\n",
    "lp = Laplace()\n",
    "plothistogram(lp, 500)"
   ]
  },
  {
   "attachments": {},
   "cell_type": "markdown",
   "id": "af8fd514",
   "metadata": {},
   "source": [
    "Let’s have a casual discussion of how all this works while leaving technical details for later in the lectures.\n",
    "\n",
    "First, `lp = Laplace()` creates an instance of a data type defined\n",
    "in the `Distributions` module that represents the Laplace distribution.\n",
    "\n",
    "The name `lp` is bound to this value.\n",
    "\n",
    "When we make the function call `plothistogram(lp, 500)` the code in the body\n",
    "of the function `plothistogram` is run with\n",
    "\n",
    "- the name `distribution` bound to the same value as `lp`  \n",
    "- the name `n` bound to the integer `500`  "
   ]
  },
  {
   "attachments": {},
   "cell_type": "markdown",
   "id": "6fbfc1b1",
   "metadata": {},
   "source": [
    "#### A Mystery\n",
    "\n",
    "Now consider the function call `rand(distribution, n)`.\n",
    "\n",
    "This looks like something of a mystery.\n",
    "\n",
    "The function `rand()` is defined in the base library such that `rand(n)` returns `n` uniform random variables on $ [0, 1) $."
   ]
  },
  {
   "cell_type": "code",
   "execution_count": 18,
   "id": "b7e0fcce",
   "metadata": {
    "hide-output": false
   },
   "outputs": [
    {
     "data": {
      "text/plain": [
       "3-element Vector{Float64}:\n",
       " 0.9209252403302969\n",
       " 0.06451341852781578\n",
       " 0.7365926280272875"
      ]
     },
     "execution_count": 18,
     "metadata": {},
     "output_type": "execute_result"
    }
   ],
   "source": [
    "rand(3)"
   ]
  },
  {
   "attachments": {},
   "cell_type": "markdown",
   "id": "fe55aefa",
   "metadata": {},
   "source": [
    "On the other hand, `distribution` points to a data type representing the Laplace distribution that has been defined in a third party package.\n",
    "\n",
    "So how can it be that `rand()` is able to take this kind of value as an\n",
    "argument and return the output that we want?\n",
    "\n",
    "The answer in a nutshell is **multiple dispatch**, which Julia uses to implement **generic programming**.\n",
    "\n",
    "This refers to the idea that functions in Julia can have different behavior\n",
    "depending on the particular arguments that they’re passed.\n",
    "\n",
    "Hence in Julia we can take an existing function and give it a new behavior by defining how it acts on a new type of value.\n",
    "\n",
    "The compiler knows which function definition to apply to in a given setting by looking at the types of the values the function is called on.\n",
    "\n",
    "In Julia these alternative versions of a function are called **methods**."
   ]
  },
  {
   "attachments": {},
   "cell_type": "markdown",
   "id": "022c1c10",
   "metadata": {},
   "source": [
    "## Example: Variations on Fixed Points\n",
    "\n",
    "Take a mapping $ f : X \\to X $ for some set $ X $.\n",
    "\n",
    "If there exists an $ x^* \\in X $ such that $ f(x^*) = x^* $, then $ x^* $: is called a “fixed point” of $ f $.\n",
    "\n",
    "For our second example, we will start with a simple example of determining fixed points of a function.\n",
    "\n",
    "The goal is to start with code in a MATLAB style, and move towards a more **Julian** style with high mathematical clarity."
   ]
  },
  {
   "attachments": {},
   "cell_type": "markdown",
   "id": "12b0b443",
   "metadata": {},
   "source": [
    "### Fixed Point Maps\n",
    "\n",
    "Consider the simple equation, where the scalars $ p,\\beta $ are given, and  $ v $ is the scalar we wish to solve for\n",
    "\n",
    "$$\n",
    "v = p + \\beta v\n",
    "$$\n",
    "\n",
    "Of course, in this simple example, with parameter restrictions this can be solved as $ v = p/(1 - \\beta) $.\n",
    "\n",
    "Rearrange the equation in terms of a map $ f(x) : \\mathbb R \\to \\mathbb R $\n",
    "\n",
    "\n",
    "<a id='equation-fixed-point-map'></a>\n",
    "$$\n",
    "v = f(v) \\tag{2.1}\n",
    "$$\n",
    "\n",
    "where\n",
    "\n",
    "$$\n",
    "f(v) := p + \\beta v\n",
    "$$\n",
    "\n",
    "Therefore, a fixed point $ v^* $ of $ f(\\cdot) $ is a solution to the above problem."
   ]
  },
  {
   "attachments": {},
   "cell_type": "markdown",
   "id": "259f206c",
   "metadata": {},
   "source": [
    "### While Loops\n",
    "\n",
    "One approach to finding a fixed point of [(2.1)](#equation-fixed-point-map) is to start with an initial value, and iterate the map\n",
    "\n",
    "\n",
    "<a id='equation-fixed-point-naive'></a>\n",
    "$$\n",
    "v^{n+1} = f(v^n) \\tag{2.2}\n",
    "$$\n",
    "\n",
    "For this exact `f` function,  we can see the convergence to $ v = p/(1-\\beta) $ when $ |\\beta| < 1 $ by iterating backwards and taking $ n\\to\\infty $\n",
    "\n",
    "$$\n",
    "v^{n+1} = p + \\beta v^n = p + \\beta p + \\beta^2 v^{n-1} = p \\sum_{i=0}^{n-1} \\beta^i + \\beta^n v_0\n",
    "$$\n",
    "\n",
    "To implement the iteration in [(2.2)](#equation-fixed-point-naive), we start by solving this problem with a `while` loop.\n",
    "\n",
    "The syntax for the while loop contains no surprises, and looks nearly identical to a MATLAB implementation."
   ]
  },
  {
   "cell_type": "code",
   "execution_count": 19,
   "id": "716d2107",
   "metadata": {
    "hide-output": false
   },
   "outputs": [
    {
     "name": "stdout",
     "output_type": "stream",
     "text": [
      "Fixed point = 9.999999173706609\n",
      "  |f(x) - x| = 9.181037796679448e-8 in 155 iterations\n"
     ]
    }
   ],
   "source": [
    "# poor style\n",
    "p = 1.0 # note 1.0 rather than 1\n",
    "β = 0.9\n",
    "maxiter = 1000\n",
    "tolerance = 1.0E-7\n",
    "v_iv = 0.8 # initial condition\n",
    "\n",
    "# setup the algorithm\n",
    "v_old = v_iv\n",
    "normdiff = Inf\n",
    "iter = 1\n",
    "while normdiff > tolerance && iter <= maxiter\n",
    "    v_new = p + β * v_old # the f(v) map\n",
    "    normdiff = norm(v_new - v_old)\n",
    "\n",
    "    # replace and continue\n",
    "    v_old = v_new\n",
    "    iter = iter + 1\n",
    "end\n",
    "println(\"Fixed point = $v_old\n",
    "  |f(x) - x| = $normdiff in $iter iterations\")"
   ]
  },
  {
   "attachments": {},
   "cell_type": "markdown",
   "id": "f1dfbfdb",
   "metadata": {},
   "source": [
    "The `while` loop, like the `for` loop should only be used directly in Jupyter or the inside of a function.\n",
    "\n",
    "Here, we have used the `norm` function (from the `LinearAlgebra` base library) to compare the values.\n",
    "\n",
    "The other new function is the `println` with the string interpolation, which splices the value of an expression or variable prefixed by \\$ into a string.\n",
    "\n",
    "An alternative approach is to use a `for` loop, and check for convergence in each iteration."
   ]
  },
  {
   "cell_type": "code",
   "execution_count": 20,
   "id": "1a90c2c4",
   "metadata": {
    "hide-output": false
   },
   "outputs": [
    {
     "name": "stdout",
     "output_type": "stream",
     "text": [
      "Fixed point = 9.999999081896231\n",
      "  |f(x) - x| = 9.181037796679448e-8 in 154 iterations\n"
     ]
    }
   ],
   "source": [
    "# setup the algorithm\n",
    "v_old = v_iv\n",
    "normdiff = Inf\n",
    "iter = 1\n",
    "for i in 1:maxiter\n",
    "    v_new = p + β * v_old # the f(v) map\n",
    "    normdiff = norm(v_new - v_old)\n",
    "    if normdiff < tolerance # check convergence\n",
    "        iter = i\n",
    "        break # converged, exit loop\n",
    "    end\n",
    "    # replace and continue\n",
    "    v_old = v_new\n",
    "end\n",
    "println(\"Fixed point = $v_old\n",
    "  |f(x) - x| = $normdiff in $iter iterations\")"
   ]
  },
  {
   "attachments": {},
   "cell_type": "markdown",
   "id": "513dcefc",
   "metadata": {},
   "source": [
    "The new feature there is `break` , which leaves a `for` or `while` loop."
   ]
  },
  {
   "attachments": {},
   "cell_type": "markdown",
   "id": "099f650a",
   "metadata": {},
   "source": [
    "### Using a Function\n",
    "\n",
    "The first problem with this setup is that it depends on being sequentially run – which can be easily remedied with a function."
   ]
  },
  {
   "cell_type": "code",
   "execution_count": 21,
   "id": "908dcf31",
   "metadata": {
    "hide-output": false
   },
   "outputs": [
    {
     "name": "stdout",
     "output_type": "stream",
     "text": [
      "Fixed point = 9.999999173706609\n",
      "  |f(x) - x| = 9.181037796679448e-8 in 155 iterations\n"
     ]
    }
   ],
   "source": [
    "# better, but still poor style\n",
    "function v_fp(β, ρ, v_iv, tolerance, maxiter)\n",
    "    # setup the algorithm\n",
    "    v_old = v_iv\n",
    "    normdiff = Inf\n",
    "    iter = 1\n",
    "    while normdiff > tolerance && iter <= maxiter\n",
    "        v_new = p + β * v_old # the f(v) map\n",
    "        normdiff = norm(v_new - v_old)\n",
    "\n",
    "        # replace and continue\n",
    "        v_old = v_new\n",
    "        iter = iter + 1\n",
    "    end\n",
    "    return (v_old, normdiff, iter) # returns a tuple\n",
    "end\n",
    "\n",
    "# some values\n",
    "p = 1.0 # note 1.0 rather than 1\n",
    "β = 0.9\n",
    "maxiter = 1000\n",
    "tolerance = 1.0E-7\n",
    "v_initial = 0.8 # initial condition\n",
    "\n",
    "v_star, normdiff, iter = v_fp(β, p, v_initial, tolerance, maxiter)\n",
    "println(\"Fixed point = $v_star\n",
    "  |f(x) - x| = $normdiff in $iter iterations\")"
   ]
  },
  {
   "attachments": {},
   "cell_type": "markdown",
   "id": "cc9cef71",
   "metadata": {},
   "source": [
    "While better, there could still be improvements."
   ]
  },
  {
   "attachments": {},
   "cell_type": "markdown",
   "id": "9b771503",
   "metadata": {},
   "source": [
    "### Passing a Function\n",
    "\n",
    "The chief issue is that the algorithm (finding a fixed point) is reusable and generic, while the function we calculate `p + β * v` is specific to our problem.\n",
    "\n",
    "A key feature of languages like Julia, is the ability to efficiently handle functions passed to other functions."
   ]
  },
  {
   "cell_type": "code",
   "execution_count": 22,
   "id": "e3f7c8c0",
   "metadata": {
    "hide-output": false
   },
   "outputs": [
    {
     "name": "stdout",
     "output_type": "stream",
     "text": [
      "Fixed point = 9.999999173706609\n",
      "  |f(x) - x| = 9.181037796679448e-8 in 155 iterations\n"
     ]
    }
   ],
   "source": [
    "# better style\n",
    "function fixedpointmap(f, iv, tolerance, maxiter)\n",
    "    # setup the algorithm\n",
    "    x_old = iv\n",
    "    normdiff = Inf\n",
    "    iter = 1\n",
    "    while normdiff > tolerance && iter <= maxiter\n",
    "        x_new = f(x_old) # use the passed in map\n",
    "        normdiff = norm(x_new - x_old)\n",
    "        x_old = x_new\n",
    "        iter = iter + 1\n",
    "    end\n",
    "    return (x_old, normdiff, iter)\n",
    "end\n",
    "\n",
    "# define a map and parameters\n",
    "p = 1.0\n",
    "β = 0.9\n",
    "f(v) = p + β * v # note that p and β are used in the function!\n",
    "\n",
    "maxiter = 1000\n",
    "tolerance = 1.0E-7\n",
    "v_initial = 0.8 # initial condition\n",
    "\n",
    "v_star, normdiff, iter = fixedpointmap(f, v_initial, tolerance, maxiter)\n",
    "println(\"Fixed point = $v_star\n",
    "  |f(x) - x| = $normdiff in $iter iterations\")"
   ]
  },
  {
   "attachments": {},
   "cell_type": "markdown",
   "id": "07fb624b",
   "metadata": {},
   "source": [
    "Much closer, but there are still hidden bugs if the user orders the settings or returns types wrong."
   ]
  },
  {
   "attachments": {},
   "cell_type": "markdown",
   "id": "c8ec3a19",
   "metadata": {},
   "source": [
    "### Named Arguments and Return Values\n",
    "\n",
    "To enable this, Julia has two features:  named function parameters, and named tuples"
   ]
  },
  {
   "cell_type": "code",
   "execution_count": 23,
   "id": "2ae6c781",
   "metadata": {
    "hide-output": false
   },
   "outputs": [
    {
     "name": "stdout",
     "output_type": "stream",
     "text": [
      "Fixed point = 9.999999918629035\n",
      "  |f(x) - x| = 9.041219328764782e-9 in 177 iterations\n"
     ]
    }
   ],
   "source": [
    "# good style\n",
    "function fixedpointmap(f, iv; tolerance=1E-7, maxiter=1000)\n",
    "    # setup the algorithm\n",
    "    x_old = iv\n",
    "    normdiff = Inf\n",
    "    iter = 1\n",
    "    while normdiff > tolerance && iter <= maxiter\n",
    "        x_new = f(x_old) # use the passed in map\n",
    "        normdiff = norm(x_new - x_old)\n",
    "        x_old = x_new\n",
    "        iter = iter + 1\n",
    "    end\n",
    "    return (;value = x_old, normdiff, iter) # A named tuple\n",
    "end\n",
    "\n",
    "# define a map and parameters\n",
    "p = 1.0\n",
    "β = 0.9\n",
    "f(v) = p + β * v # note that p and β are used in the function!\n",
    "\n",
    "sol = fixedpointmap(f, 0.8; tolerance=1.0E-8) # don't need to pass\n",
    "println(\"Fixed point = $(sol.value)\n",
    "  |f(x) - x| = $(sol.normdiff) in $(sol.iter) iterations\")"
   ]
  },
  {
   "attachments": {},
   "cell_type": "markdown",
   "id": "65561515",
   "metadata": {},
   "source": [
    "In this example, all function parameters after the `;` in the list, must be called by name.\n",
    "\n",
    "Furthermore, a default value may be enabled – so the named parameter `iv` is required while `tolerance` and `maxiter` have default values.\n",
    "\n",
    "The return type of the function also has named fields, `value, normdiff,` and `iter` – all accessed intuitively using `.`.\n",
    "\n",
    "Finally, this shows how named tuples and keyword arguments are constructed from local variable names.  In particular, ` (;value = x_old, normdiff, iter)` is identical to `(value = x_old, normdiff = normdiff, iter = iter)` where anything after the `;` is assumed to be a keyword with the name identical to the local variable.\n",
    "\n",
    "The named tuple notation is also used for unpacking values.  In particular we could have written the execution of this with"
   ]
  },
  {
   "cell_type": "code",
   "execution_count": 24,
   "id": "13696b6f",
   "metadata": {
    "hide-output": false
   },
   "outputs": [
    {
     "name": "stdout",
     "output_type": "stream",
     "text": [
      "Fixed point = 9.999999918629035\n",
      "  |f(x) - x| = 9.041219328764782e-9 in 177 iterations\n"
     ]
    }
   ],
   "source": [
    "(;value, normdiff, iter) = fixedpointmap(f, 0.8; tolerance=1.0E-8)\n",
    "println(\"Fixed point = $value\n",
    "  |f(x) - x| = $normdiff in $iter iterations\")"
   ]
  },
  {
   "attachments": {},
   "cell_type": "markdown",
   "id": "1600407c",
   "metadata": {},
   "source": [
    "That is, `(; value, normdiff, iter) = expression` is the same as `exp = expression(); value = exp.value, normdiff = exp.normdiff, iter = exp.iter`.\n",
    "\n",
    "To show the flexibility of this code, we can use it to find a fixed point of the non-linear logistic equation, $ x = f(x) $ where $ f(x) := r x (1-x) $."
   ]
  },
  {
   "cell_type": "code",
   "execution_count": 25,
   "id": "138c784b",
   "metadata": {
    "hide-output": false
   },
   "outputs": [
    {
     "name": "stdout",
     "output_type": "stream",
     "text": [
      "Fixed point = 0.4999999999999968\n",
      "  |f(x) - x| = 3.979330237546819e-8 in 7 iterations\n"
     ]
    }
   ],
   "source": [
    "r = 2.0\n",
    "f(x) = r * x * (1 - x)\n",
    "\n",
    "sol = fixedpointmap(f, 0.8) # the ; is optional but generally good style\n",
    "println(\"Fixed point = $(sol.value)\n",
    "  |f(x) - x| = $(sol.normdiff) in $(sol.iter) iterations\")"
   ]
  },
  {
   "attachments": {},
   "cell_type": "markdown",
   "id": "4ebe609a",
   "metadata": {},
   "source": [
    "### Using a Package\n",
    "\n",
    "But best of all is to avoid writing code altogether."
   ]
  },
  {
   "cell_type": "code",
   "execution_count": 26,
   "id": "297cf2a3",
   "metadata": {
    "hide-output": false
   },
   "outputs": [
    {
     "name": "stdout",
     "output_type": "stream",
     "text": [
      "Fixed point = [9.999999909587816]\n",
      "  |f(x) - x| = 9.041219328764782e-9 in 176 iterations\n"
     ]
    }
   ],
   "source": [
    "# best style\n",
    "using NLsolve\n",
    "\n",
    "p = 1.0\n",
    "β = 0.9\n",
    "f(v) = p .+ β * v # broadcast the +\n",
    "sol = fixedpoint(f, [0.8]; m = 0)\n",
    "normdiff = norm(f(sol.zero) - sol.zero)\n",
    "println(\"Fixed point = $(sol.zero)\n",
    "  |f(x) - x| = $normdiff in $(sol.iterations) iterations\")"
   ]
  },
  {
   "attachments": {},
   "cell_type": "markdown",
   "id": "d607527e",
   "metadata": {},
   "source": [
    "The `fixedpoint` function from the `NLsolve.jl` library implements the simple fixed point iteration scheme above.\n",
    "\n",
    "Since the `NLsolve` library only accepts vector based inputs, we needed to make the `f(v)` function broadcast on the `+` sign, and pass in the initial condition as a vector of length 1 with `[0.8]`.\n",
    "\n",
    "While a key benefit of using a package is that the code is clearer, and the implementation is tested, by using an orthogonal library we also enable performance improvements."
   ]
  },
  {
   "cell_type": "code",
   "execution_count": 27,
   "id": "2a81f035",
   "metadata": {
    "hide-output": false
   },
   "outputs": [
    {
     "name": "stdout",
     "output_type": "stream",
     "text": [
      "Fixed point = [9.999999999999972]\n",
      "  |f(x) - x| = 3.552713678800501e-15  in 3 iterations\n",
      "  converged = true\n"
     ]
    }
   ],
   "source": [
    "# best style\n",
    "p = 1.0\n",
    "β = 0.9\n",
    "iv = [0.8]\n",
    "sol = fixedpoint(v -> p .+ β * v, iv)\n",
    "fnorm = norm(f(sol.zero) - sol.zero)\n",
    "println(\"Fixed point = $(sol.zero)\n",
    "  |f(x) - x| = $fnorm  in $(sol.iterations) iterations\n",
    "  converged = $(sol.f_converged)\")"
   ]
  },
  {
   "attachments": {},
   "cell_type": "markdown",
   "id": "90737691",
   "metadata": {},
   "source": [
    "Note that this completes in `3` iterations vs `176` for the naive fixed point iteration algorithm.\n",
    "\n",
    "Since Anderson iteration is doing more calculations in an iteration,  whether it is faster or not would depend on the complexity of the `f` function.\n",
    "\n",
    "But this demonstrates the value of keeping the math separate from the algorithm, since by decoupling the mathematical definition of the fixed point from the implementation in [(2.2)](#equation-fixed-point-naive), we were able to exploit new algorithms for finding a fixed point.\n",
    "\n",
    "The only other change in this function is the move from directly defining `f(v)` and using an **anonymous** function.\n",
    "\n",
    "Similar to anonymous functions in MATLAB, and lambda functions in Python, Julia enables the creation of small functions without any names.\n",
    "\n",
    "The code `v -> p .+ β * v` defines a function of a dummy argument, `v` with the same body as our `f(x)`."
   ]
  },
  {
   "attachments": {},
   "cell_type": "markdown",
   "id": "1dfe6e70",
   "metadata": {},
   "source": [
    "### Composing Packages\n",
    "\n",
    "A key benefit of using Julia is that you can compose various packages, types, and techniques, without making changes to your underlying source.\n",
    "\n",
    "As an example, consider if we want to solve the model with a higher-precision, as floating points cannot be distinguished beyond the machine epsilon for that type (recall that computers approximate real numbers to the nearest binary  of a given precision; the *machine epsilon* is the smallest nonzero magnitude).\n",
    "\n",
    "In Julia, this number can be calculated as"
   ]
  },
  {
   "cell_type": "code",
   "execution_count": 28,
   "id": "91839598",
   "metadata": {
    "hide-output": false
   },
   "outputs": [
    {
     "data": {
      "text/plain": [
       "2.220446049250313e-16"
      ]
     },
     "execution_count": 28,
     "metadata": {},
     "output_type": "execute_result"
    }
   ],
   "source": [
    "eps()"
   ]
  },
  {
   "attachments": {},
   "cell_type": "markdown",
   "id": "1d083cec",
   "metadata": {},
   "source": [
    "For many cases, this is sufficient precision – but consider that in iterative algorithms applied millions of times, those small differences can add up.\n",
    "\n",
    "The only change we will need to our model in order to use a different floating point type is to call the function with an arbitrary precision floating point, `BigFloat`, for the initial value."
   ]
  },
  {
   "cell_type": "code",
   "execution_count": 29,
   "id": "d8e47037",
   "metadata": {
    "hide-output": false
   },
   "outputs": [
    {
     "name": "stdout",
     "output_type": "stream",
     "text": [
      "Fixed point = BigFloat[10.00000000000000222044604925031357388532909931412848377287867809936811555686155]\n",
      "  |f(x) - x| = 0.0 in 3 iterations\n"
     ]
    }
   ],
   "source": [
    "# use arbitrary precision floating points\n",
    "p = 1.0\n",
    "β = 0.9\n",
    "iv = [BigFloat(0.8)] # higher precision\n",
    "\n",
    "# otherwise identical\n",
    "sol = fixedpoint(v -> p .+ β * v, iv)\n",
    "normdiff = norm(f(sol.zero) - sol.zero)\n",
    "println(\"Fixed point = $(sol.zero)\n",
    "  |f(x) - x| = $normdiff in $(sol.iterations) iterations\")"
   ]
  },
  {
   "attachments": {},
   "cell_type": "markdown",
   "id": "413ac625",
   "metadata": {},
   "source": [
    "Here, the literal `BigFloat(0.8)` takes the number `0.8` and changes it to an arbitrary precision number.\n",
    "\n",
    "The result is that the residual is now **exactly** `0.0` since it is able to use arbitrary precision in the calculations, and the solution has a finite-precision solution with those parameters."
   ]
  },
  {
   "attachments": {},
   "cell_type": "markdown",
   "id": "51005f96",
   "metadata": {},
   "source": [
    "### Multivariate Fixed Point Maps\n",
    "\n",
    "The above example can be extended to multivariate maps without any modifications to the fixed point iteration code.\n",
    "\n",
    "Using our own, homegrown iteration and simply passing in a bivariate map:"
   ]
  },
  {
   "cell_type": "code",
   "execution_count": 30,
   "id": "35268ba9",
   "metadata": {
    "hide-output": false
   },
   "outputs": [
    {
     "name": "stdout",
     "output_type": "stream",
     "text": [
      "Fixed point = [9.999999961080519, 19.999999923853192]\n",
      "  |f(x) - x| = 9.501826248250528e-9 in 184 iterations\n"
     ]
    }
   ],
   "source": [
    "p = [1.0, 2.0]\n",
    "β = 0.9\n",
    "iv = [0.8, 2.0]\n",
    "f(v) = p .+ β * v # note that p and β are used in the function!\n",
    "\n",
    "sol = fixedpointmap(f, iv; tolerance = 1.0E-8)\n",
    "println(\"Fixed point = $(sol.value)\n",
    "  |f(x) - x| = $(sol.normdiff) in $(sol.iter) iterations\")"
   ]
  },
  {
   "attachments": {},
   "cell_type": "markdown",
   "id": "b78056e0",
   "metadata": {},
   "source": [
    "This also works without any modifications with the `fixedpoint` library function."
   ]
  },
  {
   "cell_type": "code",
   "execution_count": 31,
   "id": "31fe632c",
   "metadata": {
    "hide-output": false
   },
   "outputs": [
    {
     "name": "stdout",
     "output_type": "stream",
     "text": [
      "Fixed point = [10.0, 20.000000000000004, 0.9999999999999929]\n",
      "  |f(x) - x| = 6.661338147750939e-16 in 3 iterations\n"
     ]
    }
   ],
   "source": [
    "using NLsolve\n",
    "\n",
    "p = [1.0, 2.0, 0.1]\n",
    "β = 0.9\n",
    "iv =[0.8, 2.0, 51.0]\n",
    "f(v) = p .+ β * v\n",
    "\n",
    "sol = fixedpoint(v -> p .+ β * v, iv)\n",
    "normdiff = norm(f(sol.zero) - sol.zero)\n",
    "println(\"Fixed point = $(sol.zero)\n",
    "  |f(x) - x| = $normdiff in $(sol.iterations) iterations\")"
   ]
  },
  {
   "attachments": {},
   "cell_type": "markdown",
   "id": "4a7eabd4",
   "metadata": {},
   "source": [
    "Finally, to demonstrate the importance of composing different libraries, use a `StaticArrays.jl` type, which provides an efficient implementation for small arrays and matrices."
   ]
  },
  {
   "cell_type": "code",
   "execution_count": 32,
   "id": "92cd6de0",
   "metadata": {
    "hide-output": false
   },
   "outputs": [
    {
     "name": "stdout",
     "output_type": "stream",
     "text": [
      "Fixed point = [10.0, 20.000000000000004, 0.9999999999999929]\n",
      "  |f(x) - x| = 6.661338147750939e-16 in 3 iterations\n"
     ]
    }
   ],
   "source": [
    "using NLsolve, StaticArrays\n",
    "p = @SVector [1.0, 2.0, 0.1]\n",
    "β = 0.9\n",
    "iv = [0.8, 2.0, 51.0]\n",
    "f(v) = p .+ β * v\n",
    "\n",
    "sol = fixedpoint(v -> p .+ β * v, iv)\n",
    "normdiff = norm(f(sol.zero) - sol.zero)\n",
    "println(\"Fixed point = $(sol.zero)\n",
    "  |f(x) - x| = $normdiff in $(sol.iterations) iterations\")"
   ]
  },
  {
   "attachments": {},
   "cell_type": "markdown",
   "id": "cc55f921",
   "metadata": {},
   "source": [
    "The `@SVector` in front of the `[1.0, 2.0, 0.1]` is a macro for turning a vector literal into a static vector.\n",
    "\n",
    "All macros in Julia are prefixed by `@` in the name, and manipulate the code prior to compilation.\n",
    "\n",
    "We will see a variety of macros, and discuss the “metaprogramming” behind them in a later lecture."
   ]
  },
  {
   "attachments": {},
   "cell_type": "markdown",
   "id": "d2f57389",
   "metadata": {},
   "source": [
    "## Exercises\n",
    "\n",
    "\n",
    "<a id='jbe-ex1'></a>"
   ]
  },
  {
   "attachments": {},
   "cell_type": "markdown",
   "id": "cb5903f9",
   "metadata": {},
   "source": [
    "### Exercise 1\n",
    "\n",
    "Recall that $ n! $ is read as “$ n $ factorial” and defined as\n",
    "$ n! = n \\times (n - 1) \\times \\cdots \\times 2 \\times 1 $.\n",
    "\n",
    "In Julia you can compute this value with `factorial(n)`.\n",
    "\n",
    "Write your own version of this function, called `factorial2`, using a `for` loop.\n",
    "\n",
    "\n",
    "<a id='jbe-ex2'></a>"
   ]
  },
  {
   "cell_type": "code",
   "execution_count": 34,
   "id": "88b7833f",
   "metadata": {},
   "outputs": [
    {
     "data": {
      "text/plain": [
       "true"
      ]
     },
     "execution_count": 34,
     "metadata": {},
     "output_type": "execute_result"
    }
   ],
   "source": [
    "function factorial2(n)\n",
    "    ans = 1\n",
    "    for i in 1:n\n",
    "        ans *= i\n",
    "    end\n",
    "    return ans\n",
    "end\n",
    "\n",
    "factorial2(4) == factorial(4)"
   ]
  },
  {
   "attachments": {},
   "cell_type": "markdown",
   "id": "df6003e7",
   "metadata": {},
   "source": [
    "### Exercise 2\n",
    "\n",
    "The [binomial random variable](https://en.wikipedia.org/wiki/Binomial_distribution) $ Y \\sim Bin(n, p) $ represents\n",
    "\n",
    "- number of successes in $ n $ binary trials  \n",
    "- each trial succeeds with probability $ p $  \n",
    "\n",
    "\n",
    "Using only `rand()` from the set of Julia’s built-in random number\n",
    "generators (not the `Distributions` package), write a function `binomial_rv` such that `binomial_rv(n, p)` generates one draw of $ Y $.\n",
    "\n",
    "Hint: If $ U $ is uniform on $ (0, 1) $ and $ p \\in (0,1) $, then the expression `U < p` evaluates to `true` with probability $ p $.\n",
    "\n",
    "\n",
    "<a id='jbe-ex3'></a>"
   ]
  },
  {
   "cell_type": "code",
   "execution_count": 41,
   "id": "8330e081",
   "metadata": {},
   "outputs": [
    {
     "name": "stdout",
     "output_type": "stream",
     "text": [
      "3, 5, 4, 3, 6, 9, 8, 5, 3, 6, 3, 5, 4, 6, 6, 5, 4, 6, 7, 4, 3, 2, 4, 6, 8, "
     ]
    }
   ],
   "source": [
    "function binomial_rv(n, p)\n",
    "    return sum([rand() < p for _ in 1:n])\n",
    "end\n",
    "\n",
    "for j in 1:25\n",
    "    b = binomial_rv(10, 0.5)\n",
    "    print(\"$b, \")\n",
    "end"
   ]
  },
  {
   "attachments": {},
   "cell_type": "markdown",
   "id": "dcdaf206",
   "metadata": {},
   "source": [
    "### Exercise 3\n",
    "\n",
    "Compute an approximation to $ \\pi $ using Monte Carlo.\n",
    "\n",
    "For random number generation use only `rand()`.\n",
    "\n",
    "Your hints are as follows:\n",
    "\n",
    "- If $ U $ is a bivariate uniform random variable on the unit square $ (0, 1)^2 $, then the probability that $ U $ lies in a subset $ B $ of $ (0,1)^2 $ is equal to the area of $ B $.  \n",
    "- If $ U_1,\\ldots,U_n $ are iid copies of $ U $, then, as $ n $ gets larger, the fraction that falls in $ B $ converges to the probability of landing in $ B $.  \n",
    "- For a circle, area = π * $ radius^2 $.  \n",
    "\n",
    "\n",
    "\n",
    "<a id='jbe-ex4'></a>"
   ]
  },
  {
   "cell_type": "code",
   "execution_count": 54,
   "id": "a0138eea",
   "metadata": {},
   "outputs": [
    {
     "name": "stdout",
     "output_type": "stream",
     "text": [
      "3.143068\n"
     ]
    }
   ],
   "source": [
    "itr = 1000000\n",
    "count = 0\n",
    "\n",
    "for _ in 1:itr\n",
    "    point = rand(2)\n",
    "    dist_to_centre = sqrt((point[1] - 0.5)^2 + (point[2] - 0.5)^2)\n",
    "    if dist_to_centre <= 0.5\n",
    "        count += 1\n",
    "    end\n",
    "end\n",
    "\n",
    "println(count / itr / 0.25)"
   ]
  },
  {
   "attachments": {},
   "cell_type": "markdown",
   "id": "647aa53e",
   "metadata": {},
   "source": [
    "### Exercise 4\n",
    "\n",
    "Write a program that prints one realization of the following random device:\n",
    "\n",
    "- Flip an unbiased coin 10 times.  \n",
    "- If 3 consecutive heads occur one or more times within this sequence, pay one dollar.  \n",
    "- If not, pay nothing.  \n",
    "\n",
    "\n",
    "Once again use only `rand()` as your random number generator.\n",
    "\n",
    "\n",
    "<a id='jbe-ex5'></a>"
   ]
  },
  {
   "cell_type": "code",
   "execution_count": 71,
   "id": "d345665a",
   "metadata": {},
   "outputs": [
    {
     "name": "stdout",
     "output_type": "stream",
     "text": [
      "Fail"
     ]
    }
   ],
   "source": [
    "function payorfail()\n",
    "    cointoss = rand(10)\n",
    "    consecutive = 0\n",
    "    for i in cointoss\n",
    "        if i > 0.5\n",
    "            consecutive += 1\n",
    "        else\n",
    "            consecutive = 0\n",
    "        end\n",
    "        if consecutive == 3\n",
    "            print(\"Pay\")\n",
    "            return\n",
    "        end\n",
    "    end\n",
    "    print(\"Fail\")\n",
    "    return\n",
    "end\n",
    "\n",
    "payorfail()"
   ]
  },
  {
   "attachments": {},
   "cell_type": "markdown",
   "id": "8f59b1d2",
   "metadata": {},
   "source": [
    "### Exercise 5\n",
    "\n",
    "Simulate and plot the correlated time series\n",
    "\n",
    "$$\n",
    "x_{t+1} = \\alpha \\, x_t + \\epsilon_{t+1}\n",
    "\\quad \\text{where} \\quad\n",
    "x_0 = 0\n",
    "\\quad \\text{and} \\quad t = 0,\\ldots,n\n",
    "$$\n",
    "\n",
    "The sequence of shocks $ \\{\\epsilon_t\\} $ is assumed to be iid and standard normal.\n",
    "\n",
    "Set $ n = 200 $ and $ \\alpha = 0.9 $.\n",
    "\n",
    "\n",
    "<a id='jbe-ex6'></a>"
   ]
  },
  {
   "cell_type": "code",
   "execution_count": 10,
   "id": "f178dc7e",
   "metadata": {},
   "outputs": [
    {
     "data": {
      "image/svg+xml": [
       "<?xml version=\"1.0\" encoding=\"utf-8\"?>\n",
       "<svg xmlns=\"http://www.w3.org/2000/svg\" xmlns:xlink=\"http://www.w3.org/1999/xlink\" width=\"600\" height=\"400\" viewBox=\"0 0 2400 1600\">\n",
       "<defs>\n",
       "  <clipPath id=\"clip590\">\n",
       "    <rect x=\"0\" y=\"0\" width=\"2400\" height=\"1600\"/>\n",
       "  </clipPath>\n",
       "</defs>\n",
       "<path clip-path=\"url(#clip590)\" d=\"\n",
       "M0 1600 L2400 1600 L2400 0 L0 0  Z\n",
       "  \" fill=\"#ffffff\" fill-rule=\"evenodd\" fill-opacity=\"1\"/>\n",
       "<defs>\n",
       "  <clipPath id=\"clip591\">\n",
       "    <rect x=\"480\" y=\"0\" width=\"1681\" height=\"1600\"/>\n",
       "  </clipPath>\n",
       "</defs>\n",
       "<path clip-path=\"url(#clip590)\" d=\"\n",
       "M149.191 1486.45 L2352.76 1486.45 L2352.76 47.2441 L149.191 47.2441  Z\n",
       "  \" fill=\"#ffffff\" fill-rule=\"evenodd\" fill-opacity=\"1\"/>\n",
       "<defs>\n",
       "  <clipPath id=\"clip592\">\n",
       "    <rect x=\"149\" y=\"47\" width=\"2205\" height=\"1440\"/>\n",
       "  </clipPath>\n",
       "</defs>\n",
       "<polyline clip-path=\"url(#clip592)\" style=\"stroke:#000000; stroke-linecap:round; stroke-linejoin:round; stroke-width:2; stroke-opacity:0.1; fill:none\" points=\"\n",
       "  201.162,1486.45 201.162,47.2441 \n",
       "  \"/>\n",
       "<polyline clip-path=\"url(#clip592)\" style=\"stroke:#000000; stroke-linecap:round; stroke-linejoin:round; stroke-width:2; stroke-opacity:0.1; fill:none\" points=\"\n",
       "  720.87,1486.45 720.87,47.2441 \n",
       "  \"/>\n",
       "<polyline clip-path=\"url(#clip592)\" style=\"stroke:#000000; stroke-linecap:round; stroke-linejoin:round; stroke-width:2; stroke-opacity:0.1; fill:none\" points=\"\n",
       "  1240.58,1486.45 1240.58,47.2441 \n",
       "  \"/>\n",
       "<polyline clip-path=\"url(#clip592)\" style=\"stroke:#000000; stroke-linecap:round; stroke-linejoin:round; stroke-width:2; stroke-opacity:0.1; fill:none\" points=\"\n",
       "  1760.29,1486.45 1760.29,47.2441 \n",
       "  \"/>\n",
       "<polyline clip-path=\"url(#clip592)\" style=\"stroke:#000000; stroke-linecap:round; stroke-linejoin:round; stroke-width:2; stroke-opacity:0.1; fill:none\" points=\"\n",
       "  2280,1486.45 2280,47.2441 \n",
       "  \"/>\n",
       "<polyline clip-path=\"url(#clip590)\" style=\"stroke:#000000; stroke-linecap:round; stroke-linejoin:round; stroke-width:4; stroke-opacity:1; fill:none\" points=\"\n",
       "  149.191,1486.45 2352.76,1486.45 \n",
       "  \"/>\n",
       "<polyline clip-path=\"url(#clip590)\" style=\"stroke:#000000; stroke-linecap:round; stroke-linejoin:round; stroke-width:4; stroke-opacity:1; fill:none\" points=\"\n",
       "  201.162,1486.45 201.162,1467.55 \n",
       "  \"/>\n",
       "<polyline clip-path=\"url(#clip590)\" style=\"stroke:#000000; stroke-linecap:round; stroke-linejoin:round; stroke-width:4; stroke-opacity:1; fill:none\" points=\"\n",
       "  720.87,1486.45 720.87,1467.55 \n",
       "  \"/>\n",
       "<polyline clip-path=\"url(#clip590)\" style=\"stroke:#000000; stroke-linecap:round; stroke-linejoin:round; stroke-width:4; stroke-opacity:1; fill:none\" points=\"\n",
       "  1240.58,1486.45 1240.58,1467.55 \n",
       "  \"/>\n",
       "<polyline clip-path=\"url(#clip590)\" style=\"stroke:#000000; stroke-linecap:round; stroke-linejoin:round; stroke-width:4; stroke-opacity:1; fill:none\" points=\"\n",
       "  1760.29,1486.45 1760.29,1467.55 \n",
       "  \"/>\n",
       "<polyline clip-path=\"url(#clip590)\" style=\"stroke:#000000; stroke-linecap:round; stroke-linejoin:round; stroke-width:4; stroke-opacity:1; fill:none\" points=\"\n",
       "  2280,1486.45 2280,1467.55 \n",
       "  \"/>\n",
       "<path clip-path=\"url(#clip590)\" d=\"M201.162 1517.37 Q197.551 1517.37 195.722 1520.93 Q193.916 1524.47 193.916 1531.6 Q193.916 1538.71 195.722 1542.27 Q197.551 1545.82 201.162 1545.82 Q204.796 1545.82 206.602 1542.27 Q208.43 1538.71 208.43 1531.6 Q208.43 1524.47 206.602 1520.93 Q204.796 1517.37 201.162 1517.37 M201.162 1513.66 Q206.972 1513.66 210.027 1518.27 Q213.106 1522.85 213.106 1531.6 Q213.106 1540.33 210.027 1544.94 Q206.972 1549.52 201.162 1549.52 Q195.352 1549.52 192.273 1544.94 Q189.217 1540.33 189.217 1531.6 Q189.217 1522.85 192.273 1518.27 Q195.352 1513.66 201.162 1513.66 Z\" fill=\"#000000\" fill-rule=\"evenodd\" fill-opacity=\"1\" /><path clip-path=\"url(#clip590)\" d=\"M695.57 1514.29 L713.926 1514.29 L713.926 1518.22 L699.852 1518.22 L699.852 1526.7 Q700.871 1526.35 701.889 1526.19 Q702.908 1526 703.926 1526 Q709.713 1526 713.093 1529.17 Q716.472 1532.34 716.472 1537.76 Q716.472 1543.34 713 1546.44 Q709.528 1549.52 703.209 1549.52 Q701.033 1549.52 698.764 1549.15 Q696.519 1548.78 694.111 1548.04 L694.111 1543.34 Q696.195 1544.47 698.417 1545.03 Q700.639 1545.58 703.116 1545.58 Q707.121 1545.58 709.458 1543.48 Q711.796 1541.37 711.796 1537.76 Q711.796 1534.15 709.458 1532.04 Q707.121 1529.94 703.116 1529.94 Q701.241 1529.94 699.366 1530.35 Q697.514 1530.77 695.57 1531.65 L695.57 1514.29 Z\" fill=\"#000000\" fill-rule=\"evenodd\" fill-opacity=\"1\" /><path clip-path=\"url(#clip590)\" d=\"M735.685 1517.37 Q732.074 1517.37 730.245 1520.93 Q728.44 1524.47 728.44 1531.6 Q728.44 1538.71 730.245 1542.27 Q732.074 1545.82 735.685 1545.82 Q739.319 1545.82 741.125 1542.27 Q742.954 1538.71 742.954 1531.6 Q742.954 1524.47 741.125 1520.93 Q739.319 1517.37 735.685 1517.37 M735.685 1513.66 Q741.495 1513.66 744.551 1518.27 Q747.63 1522.85 747.63 1531.6 Q747.63 1540.33 744.551 1544.94 Q741.495 1549.52 735.685 1549.52 Q729.875 1549.52 726.796 1544.94 Q723.741 1540.33 723.741 1531.6 Q723.741 1522.85 726.796 1518.27 Q729.875 1513.66 735.685 1513.66 Z\" fill=\"#000000\" fill-rule=\"evenodd\" fill-opacity=\"1\" /><path clip-path=\"url(#clip590)\" d=\"M1200.19 1544.91 L1207.82 1544.91 L1207.82 1518.55 L1199.51 1520.21 L1199.51 1515.95 L1207.78 1514.29 L1212.45 1514.29 L1212.45 1544.91 L1220.09 1544.91 L1220.09 1548.85 L1200.19 1548.85 L1200.19 1544.91 Z\" fill=\"#000000\" fill-rule=\"evenodd\" fill-opacity=\"1\" /><path clip-path=\"url(#clip590)\" d=\"M1239.54 1517.37 Q1235.93 1517.37 1234.1 1520.93 Q1232.29 1524.47 1232.29 1531.6 Q1232.29 1538.71 1234.1 1542.27 Q1235.93 1545.82 1239.54 1545.82 Q1243.17 1545.82 1244.98 1542.27 Q1246.81 1538.71 1246.81 1531.6 Q1246.81 1524.47 1244.98 1520.93 Q1243.17 1517.37 1239.54 1517.37 M1239.54 1513.66 Q1245.35 1513.66 1248.4 1518.27 Q1251.48 1522.85 1251.48 1531.6 Q1251.48 1540.33 1248.4 1544.94 Q1245.35 1549.52 1239.54 1549.52 Q1233.73 1549.52 1230.65 1544.94 Q1227.59 1540.33 1227.59 1531.6 Q1227.59 1522.85 1230.65 1518.27 Q1233.73 1513.66 1239.54 1513.66 Z\" fill=\"#000000\" fill-rule=\"evenodd\" fill-opacity=\"1\" /><path clip-path=\"url(#clip590)\" d=\"M1269.7 1517.37 Q1266.09 1517.37 1264.26 1520.93 Q1262.45 1524.47 1262.45 1531.6 Q1262.45 1538.71 1264.26 1542.27 Q1266.09 1545.82 1269.7 1545.82 Q1273.33 1545.82 1275.14 1542.27 Q1276.97 1538.71 1276.97 1531.6 Q1276.97 1524.47 1275.14 1520.93 Q1273.33 1517.37 1269.7 1517.37 M1269.7 1513.66 Q1275.51 1513.66 1278.57 1518.27 Q1281.64 1522.85 1281.64 1531.6 Q1281.64 1540.33 1278.57 1544.94 Q1275.51 1549.52 1269.7 1549.52 Q1263.89 1549.52 1260.81 1544.94 Q1257.76 1540.33 1257.76 1531.6 Q1257.76 1522.85 1260.81 1518.27 Q1263.89 1513.66 1269.7 1513.66 Z\" fill=\"#000000\" fill-rule=\"evenodd\" fill-opacity=\"1\" /><path clip-path=\"url(#clip590)\" d=\"M1719.89 1544.91 L1727.53 1544.91 L1727.53 1518.55 L1719.22 1520.21 L1719.22 1515.95 L1727.49 1514.29 L1732.16 1514.29 L1732.16 1544.91 L1739.8 1544.91 L1739.8 1548.85 L1719.89 1548.85 L1719.89 1544.91 Z\" fill=\"#000000\" fill-rule=\"evenodd\" fill-opacity=\"1\" /><path clip-path=\"url(#clip590)\" d=\"M1749.29 1514.29 L1767.65 1514.29 L1767.65 1518.22 L1753.58 1518.22 L1753.58 1526.7 Q1754.59 1526.35 1755.61 1526.19 Q1756.63 1526 1757.65 1526 Q1763.44 1526 1766.82 1529.17 Q1770.2 1532.34 1770.2 1537.76 Q1770.2 1543.34 1766.72 1546.44 Q1763.25 1549.52 1756.93 1549.52 Q1754.76 1549.52 1752.49 1549.15 Q1750.24 1548.78 1747.83 1548.04 L1747.83 1543.34 Q1749.92 1544.47 1752.14 1545.03 Q1754.36 1545.58 1756.84 1545.58 Q1760.84 1545.58 1763.18 1543.48 Q1765.52 1541.37 1765.52 1537.76 Q1765.52 1534.15 1763.18 1532.04 Q1760.84 1529.94 1756.84 1529.94 Q1754.96 1529.94 1753.09 1530.35 Q1751.24 1530.77 1749.29 1531.65 L1749.29 1514.29 Z\" fill=\"#000000\" fill-rule=\"evenodd\" fill-opacity=\"1\" /><path clip-path=\"url(#clip590)\" d=\"M1789.41 1517.37 Q1785.8 1517.37 1783.97 1520.93 Q1782.16 1524.47 1782.16 1531.6 Q1782.16 1538.71 1783.97 1542.27 Q1785.8 1545.82 1789.41 1545.82 Q1793.04 1545.82 1794.85 1542.27 Q1796.68 1538.71 1796.68 1531.6 Q1796.68 1524.47 1794.85 1520.93 Q1793.04 1517.37 1789.41 1517.37 M1789.41 1513.66 Q1795.22 1513.66 1798.27 1518.27 Q1801.35 1522.85 1801.35 1531.6 Q1801.35 1540.33 1798.27 1544.94 Q1795.22 1549.52 1789.41 1549.52 Q1783.6 1549.52 1780.52 1544.94 Q1777.46 1540.33 1777.46 1531.6 Q1777.46 1522.85 1780.52 1518.27 Q1783.6 1513.66 1789.41 1513.66 Z\" fill=\"#000000\" fill-rule=\"evenodd\" fill-opacity=\"1\" /><path clip-path=\"url(#clip590)\" d=\"M2243.69 1544.91 L2260.01 1544.91 L2260.01 1548.85 L2238.06 1548.85 L2238.06 1544.91 Q2240.73 1542.16 2245.31 1537.53 Q2249.92 1532.88 2251.1 1531.53 Q2253.34 1529.01 2254.22 1527.27 Q2255.12 1525.51 2255.12 1523.82 Q2255.12 1521.07 2253.18 1519.33 Q2251.26 1517.6 2248.16 1517.6 Q2245.96 1517.6 2243.5 1518.36 Q2241.07 1519.13 2238.3 1520.68 L2238.3 1515.95 Q2241.12 1514.82 2243.57 1514.24 Q2246.03 1513.66 2248.06 1513.66 Q2253.43 1513.66 2256.63 1516.35 Q2259.82 1519.03 2259.82 1523.52 Q2259.82 1525.65 2259.01 1527.57 Q2258.23 1529.47 2256.12 1532.07 Q2255.54 1532.74 2252.44 1535.95 Q2249.34 1539.15 2243.69 1544.91 Z\" fill=\"#000000\" fill-rule=\"evenodd\" fill-opacity=\"1\" /><path clip-path=\"url(#clip590)\" d=\"M2279.82 1517.37 Q2276.21 1517.37 2274.38 1520.93 Q2272.58 1524.47 2272.58 1531.6 Q2272.58 1538.71 2274.38 1542.27 Q2276.21 1545.82 2279.82 1545.82 Q2283.46 1545.82 2285.26 1542.27 Q2287.09 1538.71 2287.09 1531.6 Q2287.09 1524.47 2285.26 1520.93 Q2283.46 1517.37 2279.82 1517.37 M2279.82 1513.66 Q2285.63 1513.66 2288.69 1518.27 Q2291.77 1522.85 2291.77 1531.6 Q2291.77 1540.33 2288.69 1544.94 Q2285.63 1549.52 2279.82 1549.52 Q2274.01 1549.52 2270.93 1544.94 Q2267.88 1540.33 2267.88 1531.6 Q2267.88 1522.85 2270.93 1518.27 Q2274.01 1513.66 2279.82 1513.66 Z\" fill=\"#000000\" fill-rule=\"evenodd\" fill-opacity=\"1\" /><path clip-path=\"url(#clip590)\" d=\"M2309.98 1517.37 Q2306.37 1517.37 2304.55 1520.93 Q2302.74 1524.47 2302.74 1531.6 Q2302.74 1538.71 2304.55 1542.27 Q2306.37 1545.82 2309.98 1545.82 Q2313.62 1545.82 2315.42 1542.27 Q2317.25 1538.71 2317.25 1531.6 Q2317.25 1524.47 2315.42 1520.93 Q2313.62 1517.37 2309.98 1517.37 M2309.98 1513.66 Q2315.8 1513.66 2318.85 1518.27 Q2321.93 1522.85 2321.93 1531.6 Q2321.93 1540.33 2318.85 1544.94 Q2315.8 1549.52 2309.98 1549.52 Q2304.17 1549.52 2301.1 1544.94 Q2298.04 1540.33 2298.04 1531.6 Q2298.04 1522.85 2301.1 1518.27 Q2304.17 1513.66 2309.98 1513.66 Z\" fill=\"#000000\" fill-rule=\"evenodd\" fill-opacity=\"1\" /><polyline clip-path=\"url(#clip592)\" style=\"stroke:#000000; stroke-linecap:round; stroke-linejoin:round; stroke-width:2; stroke-opacity:0.1; fill:none\" points=\"\n",
       "  149.191,1260.72 2352.76,1260.72 \n",
       "  \"/>\n",
       "<polyline clip-path=\"url(#clip592)\" style=\"stroke:#000000; stroke-linecap:round; stroke-linejoin:round; stroke-width:2; stroke-opacity:0.1; fill:none\" points=\"\n",
       "  149.191,993.31 2352.76,993.31 \n",
       "  \"/>\n",
       "<polyline clip-path=\"url(#clip592)\" style=\"stroke:#000000; stroke-linecap:round; stroke-linejoin:round; stroke-width:2; stroke-opacity:0.1; fill:none\" points=\"\n",
       "  149.191,725.897 2352.76,725.897 \n",
       "  \"/>\n",
       "<polyline clip-path=\"url(#clip592)\" style=\"stroke:#000000; stroke-linecap:round; stroke-linejoin:round; stroke-width:2; stroke-opacity:0.1; fill:none\" points=\"\n",
       "  149.191,458.484 2352.76,458.484 \n",
       "  \"/>\n",
       "<polyline clip-path=\"url(#clip592)\" style=\"stroke:#000000; stroke-linecap:round; stroke-linejoin:round; stroke-width:2; stroke-opacity:0.1; fill:none\" points=\"\n",
       "  149.191,191.072 2352.76,191.072 \n",
       "  \"/>\n",
       "<polyline clip-path=\"url(#clip590)\" style=\"stroke:#000000; stroke-linecap:round; stroke-linejoin:round; stroke-width:4; stroke-opacity:1; fill:none\" points=\"\n",
       "  149.191,1486.45 149.191,47.2441 \n",
       "  \"/>\n",
       "<polyline clip-path=\"url(#clip590)\" style=\"stroke:#000000; stroke-linecap:round; stroke-linejoin:round; stroke-width:4; stroke-opacity:1; fill:none\" points=\"\n",
       "  149.191,1260.72 168.089,1260.72 \n",
       "  \"/>\n",
       "<polyline clip-path=\"url(#clip590)\" style=\"stroke:#000000; stroke-linecap:round; stroke-linejoin:round; stroke-width:4; stroke-opacity:1; fill:none\" points=\"\n",
       "  149.191,993.31 168.089,993.31 \n",
       "  \"/>\n",
       "<polyline clip-path=\"url(#clip590)\" style=\"stroke:#000000; stroke-linecap:round; stroke-linejoin:round; stroke-width:4; stroke-opacity:1; fill:none\" points=\"\n",
       "  149.191,725.897 168.089,725.897 \n",
       "  \"/>\n",
       "<polyline clip-path=\"url(#clip590)\" style=\"stroke:#000000; stroke-linecap:round; stroke-linejoin:round; stroke-width:4; stroke-opacity:1; fill:none\" points=\"\n",
       "  149.191,458.484 168.089,458.484 \n",
       "  \"/>\n",
       "<polyline clip-path=\"url(#clip590)\" style=\"stroke:#000000; stroke-linecap:round; stroke-linejoin:round; stroke-width:4; stroke-opacity:1; fill:none\" points=\"\n",
       "  149.191,191.072 168.089,191.072 \n",
       "  \"/>\n",
       "<path clip-path=\"url(#clip590)\" d=\"M50.9921 1261.17 L80.6679 1261.17 L80.6679 1265.11 L50.9921 1265.11 L50.9921 1261.17 Z\" fill=\"#000000\" fill-rule=\"evenodd\" fill-opacity=\"1\" /><path clip-path=\"url(#clip590)\" d=\"M103.608 1247.52 L91.8021 1265.97 L103.608 1265.97 L103.608 1247.52 M102.381 1243.44 L108.26 1243.44 L108.26 1265.97 L113.191 1265.97 L113.191 1269.85 L108.26 1269.85 L108.26 1278 L103.608 1278 L103.608 1269.85 L88.0058 1269.85 L88.0058 1265.34 L102.381 1243.44 Z\" fill=\"#000000\" fill-rule=\"evenodd\" fill-opacity=\"1\" /><path clip-path=\"url(#clip590)\" d=\"M53.0754 993.761 L82.7512 993.761 L82.7512 997.696 L53.0754 997.696 L53.0754 993.761 Z\" fill=\"#000000\" fill-rule=\"evenodd\" fill-opacity=\"1\" /><path clip-path=\"url(#clip590)\" d=\"M96.8715 1006.65 L113.191 1006.65 L113.191 1010.59 L91.2465 1010.59 L91.2465 1006.65 Q93.9086 1003.9 98.4919 999.27 Q103.098 994.618 104.279 993.275 Q106.524 990.752 107.404 989.016 Q108.307 987.256 108.307 985.567 Q108.307 982.812 106.362 981.076 Q104.441 979.34 101.339 979.34 Q99.14 979.34 96.6863 980.104 Q94.2558 980.868 91.478 982.419 L91.478 977.696 Q94.3021 976.562 96.7558 975.983 Q99.2095 975.405 101.246 975.405 Q106.617 975.405 109.811 978.09 Q113.006 980.775 113.006 985.266 Q113.006 987.395 112.196 989.317 Q111.408 991.215 109.302 993.807 Q108.723 994.479 105.621 997.696 Q102.52 1000.89 96.8715 1006.65 Z\" fill=\"#000000\" fill-rule=\"evenodd\" fill-opacity=\"1\" /><path clip-path=\"url(#clip590)\" d=\"M101.246 711.696 Q97.6354 711.696 95.8067 715.26 Q94.0012 718.802 94.0012 725.932 Q94.0012 733.038 95.8067 736.603 Q97.6354 740.145 101.246 740.145 Q104.881 740.145 106.686 736.603 Q108.515 733.038 108.515 725.932 Q108.515 718.802 106.686 715.26 Q104.881 711.696 101.246 711.696 M101.246 707.992 Q107.057 707.992 110.112 712.598 Q113.191 717.182 113.191 725.932 Q113.191 734.659 110.112 739.265 Q107.057 743.848 101.246 743.848 Q95.4363 743.848 92.3576 739.265 Q89.3021 734.659 89.3021 725.932 Q89.3021 717.182 92.3576 712.598 Q95.4363 707.992 101.246 707.992 Z\" fill=\"#000000\" fill-rule=\"evenodd\" fill-opacity=\"1\" /><path clip-path=\"url(#clip590)\" d=\"M96.8715 471.829 L113.191 471.829 L113.191 475.764 L91.2465 475.764 L91.2465 471.829 Q93.9086 469.075 98.4919 464.445 Q103.098 459.792 104.279 458.45 Q106.524 455.926 107.404 454.19 Q108.307 452.431 108.307 450.741 Q108.307 447.987 106.362 446.251 Q104.441 444.515 101.339 444.515 Q99.14 444.515 96.6863 445.278 Q94.2558 446.042 91.478 447.593 L91.478 442.871 Q94.3021 441.737 96.7558 441.158 Q99.2095 440.579 101.246 440.579 Q106.617 440.579 109.811 443.265 Q113.006 445.95 113.006 450.44 Q113.006 452.57 112.196 454.491 Q111.408 456.389 109.302 458.982 Q108.723 459.653 105.621 462.871 Q102.52 466.065 96.8715 471.829 Z\" fill=\"#000000\" fill-rule=\"evenodd\" fill-opacity=\"1\" /><path clip-path=\"url(#clip590)\" d=\"M103.608 177.866 L91.8021 196.315 L103.608 196.315 L103.608 177.866 M102.381 173.792 L108.26 173.792 L108.26 196.315 L113.191 196.315 L113.191 200.204 L108.26 200.204 L108.26 208.352 L103.608 208.352 L103.608 200.204 L88.0058 200.204 L88.0058 195.69 L102.381 173.792 Z\" fill=\"#000000\" fill-rule=\"evenodd\" fill-opacity=\"1\" /><polyline clip-path=\"url(#clip592)\" style=\"stroke:#009af9; stroke-linecap:round; stroke-linejoin:round; stroke-width:4; stroke-opacity:1; fill:none\" points=\"\n",
       "  211.556,725.897 221.95,877.8 232.344,927.886 242.738,790.755 253.133,932.269 263.527,894.89 273.921,764.534 284.315,899.652 294.709,734.411 305.103,576.03 \n",
       "  315.498,448.587 325.892,608.062 336.286,692.266 346.68,699.685 357.074,704.85 367.469,731.765 377.863,853.833 388.257,779.019 398.651,791.992 409.045,993.569 \n",
       "  419.439,986.552 429.834,1137.95 440.228,1168.97 450.622,1185.35 461.016,1152.52 471.41,996.512 481.804,1121.22 492.199,1084.7 502.593,1066.29 512.987,1112.96 \n",
       "  523.381,1040.27 533.775,1111.71 544.17,954.493 554.564,918.337 564.958,902.438 575.352,1044.63 585.746,812.643 596.14,1073.32 606.535,807.521 616.929,860.601 \n",
       "  627.323,828.73 637.717,979.594 648.111,1127.04 658.505,1376.37 668.9,1283.09 679.294,1089.88 689.688,1017.22 700.082,1141.09 710.476,974.467 720.87,1029.93 \n",
       "  731.265,1004.77 741.659,1087.6 752.053,1097.29 762.447,1184.92 772.841,1154.67 783.236,1042.61 793.63,1320.92 804.024,1445.72 814.418,1376.58 824.812,1277.98 \n",
       "  835.206,1250.01 845.601,1427.2 855.995,1389 866.389,1285.39 876.783,1246.48 887.177,1094.84 897.571,1072.57 907.966,1072.23 918.36,1026.84 928.754,780.811 \n",
       "  939.148,728.98 949.542,779.385 959.936,686.853 970.331,624.411 980.725,605.756 991.119,494.071 1001.51,378.009 1011.91,234.864 1022.3,297.967 1032.7,212.829 \n",
       "  1043.09,299.954 1053.48,428.89 1063.88,336.183 1074.27,322.116 1084.67,394.448 1095.06,421.573 1105.45,463.752 1115.85,663.644 1126.24,748.592 1136.64,640.161 \n",
       "  1147.03,672.289 1157.43,639.905 1167.82,795.553 1178.21,631.98 1188.61,668.772 1199,790.738 1209.4,743.386 1219.79,684.832 1230.19,542.765 1240.58,170.376 \n",
       "  1250.97,250.91 1261.37,309.329 1271.76,390.148 1282.16,370.056 1292.55,519.233 1302.94,543.475 1313.34,372.33 1323.73,460.204 1334.13,524.873 1344.52,256.417 \n",
       "  1354.92,154.446 1365.31,177.721 1375.7,268.518 1386.1,340.474 1396.49,300.209 1406.89,274.519 1417.28,508.424 1427.67,873.21 1438.07,768.807 1448.46,883.421 \n",
       "  1458.86,866.705 1469.25,777.423 1479.65,924.094 1490.04,1167.62 1500.43,1185.53 1510.83,1176.28 1521.22,1192.83 1531.62,1004.29 1542.01,904.581 1552.4,866.491 \n",
       "  1562.8,1113.06 1573.19,967.067 1583.59,996.939 1593.98,991.717 1604.38,807.881 1614.77,846.237 1625.16,798.095 1635.56,866.791 1645.95,932.908 1656.35,997.655 \n",
       "  1666.74,883.728 1677.13,1017.11 1687.53,1029.71 1697.92,1085.94 1708.32,953.513 1718.71,828.764 1729.11,712.017 1739.5,535.723 1749.89,479.137 1760.29,436.297 \n",
       "  1770.68,238.622 1781.08,151.713 1791.47,87.9763 1801.86,490.417 1812.26,557.155 1822.65,477.505 1833.05,250.705 1843.44,283.106 1853.84,295.993 1864.23,442.547 \n",
       "  1874.62,567.797 1885.02,411.43 1895.41,375.185 1905.81,444.064 1916.2,586.521 1926.59,544.47 1936.99,615.182 1947.38,535.468 1957.78,539.94 1968.17,509.552 \n",
       "  1978.57,455.919 1988.96,655.978 1999.35,483.53 2009.75,616.828 2020.14,848.512 2030.54,913.728 2040.93,1083.29 2051.32,1110.96 2061.72,1018 2072.11,972.015 \n",
       "  2082.51,1121.18 2092.9,1193.19 2103.3,1164.93 2113.69,934.804 2124.08,906.667 2134.48,1299.47 2144.87,1193.26 2155.27,976.312 2165.66,910.202 2176.05,947.048 \n",
       "  2186.45,808.306 2196.84,829.411 2207.24,1014.53 2217.63,885.66 2228.03,816.029 2238.42,759.926 2248.81,912.264 2259.21,770.426 2269.6,820.176 2280,895.525 \n",
       "  2290.39,952.637 \n",
       "  \"/>\n",
       "<path clip-path=\"url(#clip590)\" d=\"\n",
       "M222.643 198.898 L495.43 198.898 L495.43 95.2176 L222.643 95.2176  Z\n",
       "  \" fill=\"#ffffff\" fill-rule=\"evenodd\" fill-opacity=\"1\"/>\n",
       "<polyline clip-path=\"url(#clip590)\" style=\"stroke:#000000; stroke-linecap:round; stroke-linejoin:round; stroke-width:4; stroke-opacity:1; fill:none\" points=\"\n",
       "  222.643,198.898 495.43,198.898 495.43,95.2176 222.643,95.2176 222.643,198.898 \n",
       "  \"/>\n",
       "<polyline clip-path=\"url(#clip590)\" style=\"stroke:#009af9; stroke-linecap:round; stroke-linejoin:round; stroke-width:4; stroke-opacity:1; fill:none\" points=\"\n",
       "  247.127,147.058 394.031,147.058 \n",
       "  \"/>\n",
       "<path clip-path=\"url(#clip590)\" d=\"M432.358 166.745 Q430.552 171.375 428.84 172.787 Q427.127 174.199 424.256 174.199 L420.853 174.199 L420.853 170.634 L423.353 170.634 Q425.113 170.634 426.085 169.8 Q427.057 168.967 428.238 165.865 L429.002 163.921 L418.515 138.412 L423.029 138.412 L431.131 158.689 L439.233 138.412 L443.747 138.412 L432.358 166.745 Z\" fill=\"#000000\" fill-rule=\"evenodd\" fill-opacity=\"1\" /><path clip-path=\"url(#clip590)\" d=\"M451.038 160.402 L458.677 160.402 L458.677 134.037 L450.367 135.703 L450.367 131.444 L458.631 129.778 L463.307 129.778 L463.307 160.402 L470.946 160.402 L470.946 164.338 L451.038 164.338 L451.038 160.402 Z\" fill=\"#000000\" fill-rule=\"evenodd\" fill-opacity=\"1\" /></svg>\n"
      ]
     },
     "execution_count": 10,
     "metadata": {},
     "output_type": "execute_result"
    }
   ],
   "source": [
    "function timeseries(;n=200, alpha=0.9, x_0=0.0)\n",
    "    xs = [x_0]\n",
    "    for _ in 1:n\n",
    "        append!(xs, alpha * xs[end] + randn())\n",
    "    end\n",
    "    return xs\n",
    "end\n",
    "\n",
    "plot(timeseries())\n"
   ]
  },
  {
   "attachments": {},
   "cell_type": "markdown",
   "id": "1ae8f6ec",
   "metadata": {},
   "source": [
    "### Exercise 6\n",
    "\n",
    "Plot three simulated time series, one for each of the cases $ \\alpha = 0 $, $ \\alpha = 0.8 $ and $ \\alpha = 0.98 $.\n",
    "\n",
    "(The figure will illustrate how time series with the same one-step-ahead conditional volatilities, as these three processes have, can have very different unconditional volatilities)\n",
    "\n",
    "\n",
    "<a id='jbe-ex7'></a>"
   ]
  },
  {
   "cell_type": "code",
   "execution_count": 11,
   "id": "9a7de7cc",
   "metadata": {},
   "outputs": [
    {
     "data": {
      "image/svg+xml": [
       "<?xml version=\"1.0\" encoding=\"utf-8\"?>\n",
       "<svg xmlns=\"http://www.w3.org/2000/svg\" xmlns:xlink=\"http://www.w3.org/1999/xlink\" width=\"600\" height=\"400\" viewBox=\"0 0 2400 1600\">\n",
       "<defs>\n",
       "  <clipPath id=\"clip630\">\n",
       "    <rect x=\"0\" y=\"0\" width=\"2400\" height=\"1600\"/>\n",
       "  </clipPath>\n",
       "</defs>\n",
       "<path clip-path=\"url(#clip630)\" d=\"\n",
       "M0 1600 L2400 1600 L2400 0 L0 0  Z\n",
       "  \" fill=\"#ffffff\" fill-rule=\"evenodd\" fill-opacity=\"1\"/>\n",
       "<defs>\n",
       "  <clipPath id=\"clip631\">\n",
       "    <rect x=\"480\" y=\"0\" width=\"1681\" height=\"1600\"/>\n",
       "  </clipPath>\n",
       "</defs>\n",
       "<path clip-path=\"url(#clip630)\" d=\"\n",
       "M178.867 1486.45 L2352.76 1486.45 L2352.76 47.2441 L178.867 47.2441  Z\n",
       "  \" fill=\"#ffffff\" fill-rule=\"evenodd\" fill-opacity=\"1\"/>\n",
       "<defs>\n",
       "  <clipPath id=\"clip632\">\n",
       "    <rect x=\"178\" y=\"47\" width=\"2175\" height=\"1440\"/>\n",
       "  </clipPath>\n",
       "</defs>\n",
       "<polyline clip-path=\"url(#clip632)\" style=\"stroke:#000000; stroke-linecap:round; stroke-linejoin:round; stroke-width:2; stroke-opacity:0.1; fill:none\" points=\"\n",
       "  230.138,1486.45 230.138,47.2441 \n",
       "  \"/>\n",
       "<polyline clip-path=\"url(#clip632)\" style=\"stroke:#000000; stroke-linecap:round; stroke-linejoin:round; stroke-width:2; stroke-opacity:0.1; fill:none\" points=\"\n",
       "  742.847,1486.45 742.847,47.2441 \n",
       "  \"/>\n",
       "<polyline clip-path=\"url(#clip632)\" style=\"stroke:#000000; stroke-linecap:round; stroke-linejoin:round; stroke-width:2; stroke-opacity:0.1; fill:none\" points=\"\n",
       "  1255.56,1486.45 1255.56,47.2441 \n",
       "  \"/>\n",
       "<polyline clip-path=\"url(#clip632)\" style=\"stroke:#000000; stroke-linecap:round; stroke-linejoin:round; stroke-width:2; stroke-opacity:0.1; fill:none\" points=\"\n",
       "  1768.27,1486.45 1768.27,47.2441 \n",
       "  \"/>\n",
       "<polyline clip-path=\"url(#clip632)\" style=\"stroke:#000000; stroke-linecap:round; stroke-linejoin:round; stroke-width:2; stroke-opacity:0.1; fill:none\" points=\"\n",
       "  2280.98,1486.45 2280.98,47.2441 \n",
       "  \"/>\n",
       "<polyline clip-path=\"url(#clip630)\" style=\"stroke:#000000; stroke-linecap:round; stroke-linejoin:round; stroke-width:4; stroke-opacity:1; fill:none\" points=\"\n",
       "  178.867,1486.45 2352.76,1486.45 \n",
       "  \"/>\n",
       "<polyline clip-path=\"url(#clip630)\" style=\"stroke:#000000; stroke-linecap:round; stroke-linejoin:round; stroke-width:4; stroke-opacity:1; fill:none\" points=\"\n",
       "  230.138,1486.45 230.138,1467.55 \n",
       "  \"/>\n",
       "<polyline clip-path=\"url(#clip630)\" style=\"stroke:#000000; stroke-linecap:round; stroke-linejoin:round; stroke-width:4; stroke-opacity:1; fill:none\" points=\"\n",
       "  742.847,1486.45 742.847,1467.55 \n",
       "  \"/>\n",
       "<polyline clip-path=\"url(#clip630)\" style=\"stroke:#000000; stroke-linecap:round; stroke-linejoin:round; stroke-width:4; stroke-opacity:1; fill:none\" points=\"\n",
       "  1255.56,1486.45 1255.56,1467.55 \n",
       "  \"/>\n",
       "<polyline clip-path=\"url(#clip630)\" style=\"stroke:#000000; stroke-linecap:round; stroke-linejoin:round; stroke-width:4; stroke-opacity:1; fill:none\" points=\"\n",
       "  1768.27,1486.45 1768.27,1467.55 \n",
       "  \"/>\n",
       "<polyline clip-path=\"url(#clip630)\" style=\"stroke:#000000; stroke-linecap:round; stroke-linejoin:round; stroke-width:4; stroke-opacity:1; fill:none\" points=\"\n",
       "  2280.98,1486.45 2280.98,1467.55 \n",
       "  \"/>\n",
       "<path clip-path=\"url(#clip630)\" d=\"M230.138 1517.37 Q226.527 1517.37 224.698 1520.93 Q222.892 1524.47 222.892 1531.6 Q222.892 1538.71 224.698 1542.27 Q226.527 1545.82 230.138 1545.82 Q233.772 1545.82 235.577 1542.27 Q237.406 1538.71 237.406 1531.6 Q237.406 1524.47 235.577 1520.93 Q233.772 1517.37 230.138 1517.37 M230.138 1513.66 Q235.948 1513.66 239.003 1518.27 Q242.082 1522.85 242.082 1531.6 Q242.082 1540.33 239.003 1544.94 Q235.948 1549.52 230.138 1549.52 Q224.327 1549.52 221.249 1544.94 Q218.193 1540.33 218.193 1531.6 Q218.193 1522.85 221.249 1518.27 Q224.327 1513.66 230.138 1513.66 Z\" fill=\"#000000\" fill-rule=\"evenodd\" fill-opacity=\"1\" /><path clip-path=\"url(#clip630)\" d=\"M717.547 1514.29 L735.903 1514.29 L735.903 1518.22 L721.829 1518.22 L721.829 1526.7 Q722.847 1526.35 723.866 1526.19 Q724.884 1526 725.903 1526 Q731.69 1526 735.07 1529.17 Q738.449 1532.34 738.449 1537.76 Q738.449 1543.34 734.977 1546.44 Q731.505 1549.52 725.185 1549.52 Q723.009 1549.52 720.741 1549.15 Q718.496 1548.78 716.088 1548.04 L716.088 1543.34 Q718.172 1544.47 720.394 1545.03 Q722.616 1545.58 725.093 1545.58 Q729.097 1545.58 731.435 1543.48 Q733.773 1541.37 733.773 1537.76 Q733.773 1534.15 731.435 1532.04 Q729.097 1529.94 725.093 1529.94 Q723.218 1529.94 721.343 1530.35 Q719.491 1530.77 717.547 1531.65 L717.547 1514.29 Z\" fill=\"#000000\" fill-rule=\"evenodd\" fill-opacity=\"1\" /><path clip-path=\"url(#clip630)\" d=\"M757.662 1517.37 Q754.051 1517.37 752.222 1520.93 Q750.417 1524.47 750.417 1531.6 Q750.417 1538.71 752.222 1542.27 Q754.051 1545.82 757.662 1545.82 Q761.296 1545.82 763.102 1542.27 Q764.931 1538.71 764.931 1531.6 Q764.931 1524.47 763.102 1520.93 Q761.296 1517.37 757.662 1517.37 M757.662 1513.66 Q763.472 1513.66 766.528 1518.27 Q769.606 1522.85 769.606 1531.6 Q769.606 1540.33 766.528 1544.94 Q763.472 1549.52 757.662 1549.52 Q751.852 1549.52 748.773 1544.94 Q745.718 1540.33 745.718 1531.6 Q745.718 1522.85 748.773 1518.27 Q751.852 1513.66 757.662 1513.66 Z\" fill=\"#000000\" fill-rule=\"evenodd\" fill-opacity=\"1\" /><path clip-path=\"url(#clip630)\" d=\"M1215.16 1544.91 L1222.8 1544.91 L1222.8 1518.55 L1214.49 1520.21 L1214.49 1515.95 L1222.76 1514.29 L1227.43 1514.29 L1227.43 1544.91 L1235.07 1544.91 L1235.07 1548.85 L1215.16 1548.85 L1215.16 1544.91 Z\" fill=\"#000000\" fill-rule=\"evenodd\" fill-opacity=\"1\" /><path clip-path=\"url(#clip630)\" d=\"M1254.52 1517.37 Q1250.9 1517.37 1249.08 1520.93 Q1247.27 1524.47 1247.27 1531.6 Q1247.27 1538.71 1249.08 1542.27 Q1250.9 1545.82 1254.52 1545.82 Q1258.15 1545.82 1259.96 1542.27 Q1261.78 1538.71 1261.78 1531.6 Q1261.78 1524.47 1259.96 1520.93 Q1258.15 1517.37 1254.52 1517.37 M1254.52 1513.66 Q1260.33 1513.66 1263.38 1518.27 Q1266.46 1522.85 1266.46 1531.6 Q1266.46 1540.33 1263.38 1544.94 Q1260.33 1549.52 1254.52 1549.52 Q1248.71 1549.52 1245.63 1544.94 Q1242.57 1540.33 1242.57 1531.6 Q1242.57 1522.85 1245.63 1518.27 Q1248.71 1513.66 1254.52 1513.66 Z\" fill=\"#000000\" fill-rule=\"evenodd\" fill-opacity=\"1\" /><path clip-path=\"url(#clip630)\" d=\"M1284.68 1517.37 Q1281.07 1517.37 1279.24 1520.93 Q1277.43 1524.47 1277.43 1531.6 Q1277.43 1538.71 1279.24 1542.27 Q1281.07 1545.82 1284.68 1545.82 Q1288.31 1545.82 1290.12 1542.27 Q1291.95 1538.71 1291.95 1531.6 Q1291.95 1524.47 1290.12 1520.93 Q1288.31 1517.37 1284.68 1517.37 M1284.68 1513.66 Q1290.49 1513.66 1293.54 1518.27 Q1296.62 1522.85 1296.62 1531.6 Q1296.62 1540.33 1293.54 1544.94 Q1290.49 1549.52 1284.68 1549.52 Q1278.87 1549.52 1275.79 1544.94 Q1272.73 1540.33 1272.73 1531.6 Q1272.73 1522.85 1275.79 1518.27 Q1278.87 1513.66 1284.68 1513.66 Z\" fill=\"#000000\" fill-rule=\"evenodd\" fill-opacity=\"1\" /><path clip-path=\"url(#clip630)\" d=\"M1727.87 1544.91 L1735.51 1544.91 L1735.51 1518.55 L1727.2 1520.21 L1727.2 1515.95 L1735.47 1514.29 L1740.14 1514.29 L1740.14 1544.91 L1747.78 1544.91 L1747.78 1548.85 L1727.87 1548.85 L1727.87 1544.91 Z\" fill=\"#000000\" fill-rule=\"evenodd\" fill-opacity=\"1\" /><path clip-path=\"url(#clip630)\" d=\"M1757.27 1514.29 L1775.63 1514.29 L1775.63 1518.22 L1761.55 1518.22 L1761.55 1526.7 Q1762.57 1526.35 1763.59 1526.19 Q1764.61 1526 1765.63 1526 Q1771.41 1526 1774.79 1529.17 Q1778.17 1532.34 1778.17 1537.76 Q1778.17 1543.34 1774.7 1546.44 Q1771.23 1549.52 1764.91 1549.52 Q1762.73 1549.52 1760.47 1549.15 Q1758.22 1548.78 1755.81 1548.04 L1755.81 1543.34 Q1757.9 1544.47 1760.12 1545.03 Q1762.34 1545.58 1764.82 1545.58 Q1768.82 1545.58 1771.16 1543.48 Q1773.5 1541.37 1773.5 1537.76 Q1773.5 1534.15 1771.16 1532.04 Q1768.82 1529.94 1764.82 1529.94 Q1762.94 1529.94 1761.07 1530.35 Q1759.22 1530.77 1757.27 1531.65 L1757.27 1514.29 Z\" fill=\"#000000\" fill-rule=\"evenodd\" fill-opacity=\"1\" /><path clip-path=\"url(#clip630)\" d=\"M1797.39 1517.37 Q1793.78 1517.37 1791.95 1520.93 Q1790.14 1524.47 1790.14 1531.6 Q1790.14 1538.71 1791.95 1542.27 Q1793.78 1545.82 1797.39 1545.82 Q1801.02 1545.82 1802.83 1542.27 Q1804.66 1538.71 1804.66 1531.6 Q1804.66 1524.47 1802.83 1520.93 Q1801.02 1517.37 1797.39 1517.37 M1797.39 1513.66 Q1803.2 1513.66 1806.25 1518.27 Q1809.33 1522.85 1809.33 1531.6 Q1809.33 1540.33 1806.25 1544.94 Q1803.2 1549.52 1797.39 1549.52 Q1791.58 1549.52 1788.5 1544.94 Q1785.44 1540.33 1785.44 1531.6 Q1785.44 1522.85 1788.5 1518.27 Q1791.58 1513.66 1797.39 1513.66 Z\" fill=\"#000000\" fill-rule=\"evenodd\" fill-opacity=\"1\" /><path clip-path=\"url(#clip630)\" d=\"M2244.67 1544.91 L2260.99 1544.91 L2260.99 1548.85 L2239.04 1548.85 L2239.04 1544.91 Q2241.71 1542.16 2246.29 1537.53 Q2250.9 1532.88 2252.08 1531.53 Q2254.32 1529.01 2255.2 1527.27 Q2256.1 1525.51 2256.1 1523.82 Q2256.1 1521.07 2254.16 1519.33 Q2252.24 1517.6 2249.14 1517.6 Q2246.94 1517.6 2244.48 1518.36 Q2242.05 1519.13 2239.28 1520.68 L2239.28 1515.95 Q2242.1 1514.82 2244.55 1514.24 Q2247.01 1513.66 2249.04 1513.66 Q2254.41 1513.66 2257.61 1516.35 Q2260.8 1519.03 2260.8 1523.52 Q2260.8 1525.65 2259.99 1527.57 Q2259.21 1529.47 2257.1 1532.07 Q2256.52 1532.74 2253.42 1535.95 Q2250.32 1539.15 2244.67 1544.91 Z\" fill=\"#000000\" fill-rule=\"evenodd\" fill-opacity=\"1\" /><path clip-path=\"url(#clip630)\" d=\"M2280.8 1517.37 Q2277.19 1517.37 2275.36 1520.93 Q2273.56 1524.47 2273.56 1531.6 Q2273.56 1538.71 2275.36 1542.27 Q2277.19 1545.82 2280.8 1545.82 Q2284.44 1545.82 2286.24 1542.27 Q2288.07 1538.71 2288.07 1531.6 Q2288.07 1524.47 2286.24 1520.93 Q2284.44 1517.37 2280.8 1517.37 M2280.8 1513.66 Q2286.61 1513.66 2289.67 1518.27 Q2292.75 1522.85 2292.75 1531.6 Q2292.75 1540.33 2289.67 1544.94 Q2286.61 1549.52 2280.8 1549.52 Q2274.99 1549.52 2271.91 1544.94 Q2268.86 1540.33 2268.86 1531.6 Q2268.86 1522.85 2271.91 1518.27 Q2274.99 1513.66 2280.8 1513.66 Z\" fill=\"#000000\" fill-rule=\"evenodd\" fill-opacity=\"1\" /><path clip-path=\"url(#clip630)\" d=\"M2310.96 1517.37 Q2307.35 1517.37 2305.53 1520.93 Q2303.72 1524.47 2303.72 1531.6 Q2303.72 1538.71 2305.53 1542.27 Q2307.35 1545.82 2310.96 1545.82 Q2314.6 1545.82 2316.4 1542.27 Q2318.23 1538.71 2318.23 1531.6 Q2318.23 1524.47 2316.4 1520.93 Q2314.6 1517.37 2310.96 1517.37 M2310.96 1513.66 Q2316.77 1513.66 2319.83 1518.27 Q2322.91 1522.85 2322.91 1531.6 Q2322.91 1540.33 2319.83 1544.94 Q2316.77 1549.52 2310.96 1549.52 Q2305.15 1549.52 2302.08 1544.94 Q2299.02 1540.33 2299.02 1531.6 Q2299.02 1522.85 2302.08 1518.27 Q2305.15 1513.66 2310.96 1513.66 Z\" fill=\"#000000\" fill-rule=\"evenodd\" fill-opacity=\"1\" /><polyline clip-path=\"url(#clip632)\" style=\"stroke:#000000; stroke-linecap:round; stroke-linejoin:round; stroke-width:2; stroke-opacity:0.1; fill:none\" points=\"\n",
       "  178.867,1235.43 2352.76,1235.43 \n",
       "  \"/>\n",
       "<polyline clip-path=\"url(#clip632)\" style=\"stroke:#000000; stroke-linecap:round; stroke-linejoin:round; stroke-width:2; stroke-opacity:0.1; fill:none\" points=\"\n",
       "  178.867,839.699 2352.76,839.699 \n",
       "  \"/>\n",
       "<polyline clip-path=\"url(#clip632)\" style=\"stroke:#000000; stroke-linecap:round; stroke-linejoin:round; stroke-width:2; stroke-opacity:0.1; fill:none\" points=\"\n",
       "  178.867,443.971 2352.76,443.971 \n",
       "  \"/>\n",
       "<polyline clip-path=\"url(#clip632)\" style=\"stroke:#000000; stroke-linecap:round; stroke-linejoin:round; stroke-width:2; stroke-opacity:0.1; fill:none\" points=\"\n",
       "  178.867,48.2423 2352.76,48.2423 \n",
       "  \"/>\n",
       "<polyline clip-path=\"url(#clip630)\" style=\"stroke:#000000; stroke-linecap:round; stroke-linejoin:round; stroke-width:4; stroke-opacity:1; fill:none\" points=\"\n",
       "  178.867,1486.45 178.867,47.2441 \n",
       "  \"/>\n",
       "<polyline clip-path=\"url(#clip630)\" style=\"stroke:#000000; stroke-linecap:round; stroke-linejoin:round; stroke-width:4; stroke-opacity:1; fill:none\" points=\"\n",
       "  178.867,1235.43 197.764,1235.43 \n",
       "  \"/>\n",
       "<polyline clip-path=\"url(#clip630)\" style=\"stroke:#000000; stroke-linecap:round; stroke-linejoin:round; stroke-width:4; stroke-opacity:1; fill:none\" points=\"\n",
       "  178.867,839.699 197.764,839.699 \n",
       "  \"/>\n",
       "<polyline clip-path=\"url(#clip630)\" style=\"stroke:#000000; stroke-linecap:round; stroke-linejoin:round; stroke-width:4; stroke-opacity:1; fill:none\" points=\"\n",
       "  178.867,443.971 197.764,443.971 \n",
       "  \"/>\n",
       "<polyline clip-path=\"url(#clip630)\" style=\"stroke:#000000; stroke-linecap:round; stroke-linejoin:round; stroke-width:4; stroke-opacity:1; fill:none\" points=\"\n",
       "  178.867,48.2423 197.764,48.2423 \n",
       "  \"/>\n",
       "<path clip-path=\"url(#clip630)\" d=\"M50.9921 1235.88 L80.6679 1235.88 L80.6679 1239.81 L50.9921 1239.81 L50.9921 1235.88 Z\" fill=\"#000000\" fill-rule=\"evenodd\" fill-opacity=\"1\" /><path clip-path=\"url(#clip630)\" d=\"M91.5706 1248.77 L99.2095 1248.77 L99.2095 1222.41 L90.8993 1224.07 L90.8993 1219.81 L99.1632 1218.15 L103.839 1218.15 L103.839 1248.77 L111.478 1248.77 L111.478 1252.71 L91.5706 1252.71 L91.5706 1248.77 Z\" fill=\"#000000\" fill-rule=\"evenodd\" fill-opacity=\"1\" /><path clip-path=\"url(#clip630)\" d=\"M130.922 1221.23 Q127.311 1221.23 125.482 1224.79 Q123.677 1228.33 123.677 1235.46 Q123.677 1242.57 125.482 1246.13 Q127.311 1249.68 130.922 1249.68 Q134.556 1249.68 136.362 1246.13 Q138.191 1242.57 138.191 1235.46 Q138.191 1228.33 136.362 1224.79 Q134.556 1221.23 130.922 1221.23 M130.922 1217.52 Q136.732 1217.52 139.788 1222.13 Q142.867 1226.71 142.867 1235.46 Q142.867 1244.19 139.788 1248.8 Q136.732 1253.38 130.922 1253.38 Q125.112 1253.38 122.033 1248.8 Q118.978 1244.19 118.978 1235.46 Q118.978 1226.71 122.033 1222.13 Q125.112 1217.52 130.922 1217.52 Z\" fill=\"#000000\" fill-rule=\"evenodd\" fill-opacity=\"1\" /><path clip-path=\"url(#clip630)\" d=\"M82.1494 840.151 L111.825 840.151 L111.825 844.086 L82.1494 844.086 L82.1494 840.151 Z\" fill=\"#000000\" fill-rule=\"evenodd\" fill-opacity=\"1\" /><path clip-path=\"url(#clip630)\" d=\"M121.964 822.419 L140.32 822.419 L140.32 826.355 L126.246 826.355 L126.246 834.827 Q127.265 834.479 128.283 834.317 Q129.302 834.132 130.32 834.132 Q136.107 834.132 139.487 837.304 Q142.867 840.475 142.867 845.891 Q142.867 851.47 139.394 854.572 Q135.922 857.651 129.603 857.651 Q127.427 857.651 125.158 857.28 Q122.913 856.91 120.506 856.169 L120.506 851.47 Q122.589 852.604 124.811 853.16 Q127.033 853.715 129.51 853.715 Q133.515 853.715 135.853 851.609 Q138.191 849.503 138.191 845.891 Q138.191 842.28 135.853 840.174 Q133.515 838.067 129.51 838.067 Q127.635 838.067 125.76 838.484 Q123.908 838.901 121.964 839.78 L121.964 822.419 Z\" fill=\"#000000\" fill-rule=\"evenodd\" fill-opacity=\"1\" /><path clip-path=\"url(#clip630)\" d=\"M130.922 429.77 Q127.311 429.77 125.482 433.334 Q123.677 436.876 123.677 444.006 Q123.677 451.112 125.482 454.677 Q127.311 458.218 130.922 458.218 Q134.556 458.218 136.362 454.677 Q138.191 451.112 138.191 444.006 Q138.191 436.876 136.362 433.334 Q134.556 429.77 130.922 429.77 M130.922 426.066 Q136.732 426.066 139.788 430.672 Q142.867 435.256 142.867 444.006 Q142.867 452.732 139.788 457.339 Q136.732 461.922 130.922 461.922 Q125.112 461.922 122.033 457.339 Q118.978 452.732 118.978 444.006 Q118.978 435.256 122.033 430.672 Q125.112 426.066 130.922 426.066 Z\" fill=\"#000000\" fill-rule=\"evenodd\" fill-opacity=\"1\" /><path clip-path=\"url(#clip630)\" d=\"M121.964 30.9623 L140.32 30.9623 L140.32 34.8975 L126.246 34.8975 L126.246 43.3697 Q127.265 43.0224 128.283 42.8604 Q129.302 42.6752 130.32 42.6752 Q136.107 42.6752 139.487 45.8465 Q142.867 49.0178 142.867 54.4344 Q142.867 60.0131 139.394 63.1149 Q135.922 66.1936 129.603 66.1936 Q127.427 66.1936 125.158 65.8233 Q122.913 65.4529 120.506 64.7121 L120.506 60.0131 Q122.589 61.1474 124.811 61.7029 Q127.033 62.2585 129.51 62.2585 Q133.515 62.2585 135.853 60.152 Q138.191 58.0455 138.191 54.4344 Q138.191 50.8233 135.853 48.7169 Q133.515 46.6104 129.51 46.6104 Q127.635 46.6104 125.76 47.0271 Q123.908 47.4437 121.964 48.3233 L121.964 30.9623 Z\" fill=\"#000000\" fill-rule=\"evenodd\" fill-opacity=\"1\" /><polyline clip-path=\"url(#clip632)\" style=\"stroke:#009af9; stroke-linecap:round; stroke-linejoin:round; stroke-width:4; stroke-opacity:1; fill:none\" points=\"\n",
       "  240.392,443.971 250.646,437.766 260.9,361.861 271.154,490.991 281.409,535.416 291.663,430.174 301.917,594.67 312.171,455.26 322.425,573.107 332.68,438.831 \n",
       "  342.934,365.153 353.188,443.13 363.442,276.047 373.696,537.554 383.951,508.67 394.205,439.319 404.459,390.603 414.713,435.271 424.967,468.733 435.222,324.876 \n",
       "  445.476,369.604 455.73,492.75 465.984,533.523 476.238,415.655 486.492,519.305 496.747,586.783 507.001,441.513 517.255,542.577 527.509,509.926 537.763,389.467 \n",
       "  548.018,311.08 558.272,451.931 568.526,393.481 578.78,516.537 589.034,397.077 599.289,373.697 609.543,511.987 619.797,401.116 630.051,537.342 640.305,519.785 \n",
       "  650.56,351.469 660.814,475.576 671.068,539.728 681.322,299.263 691.576,324.856 701.831,292.691 712.085,443.085 722.339,437.684 732.593,332.221 742.847,350.588 \n",
       "  753.102,397.79 763.356,480.81 773.61,389.79 783.864,473.395 794.118,414.214 804.373,522.262 814.627,465.188 824.881,459.18 835.135,481.977 845.389,563.435 \n",
       "  855.643,307.398 865.898,438.553 876.152,336.507 886.406,462.352 896.66,567.352 906.914,381.049 917.169,534.022 927.423,420.834 937.677,488.163 947.931,407.066 \n",
       "  958.185,490.487 968.44,433.399 978.694,374.254 988.948,651.578 999.202,498.718 1009.46,449.898 1019.71,516.497 1029.96,489.006 1040.22,356.196 1050.47,475.072 \n",
       "  1060.73,432.878 1070.98,243.145 1081.24,425.766 1091.49,581.324 1101.74,440.699 1112,332.511 1122.25,304.494 1132.51,551.848 1142.76,345.544 1153.02,558.22 \n",
       "  1163.27,282.968 1173.52,300.208 1183.78,461.918 1194.03,443.089 1204.29,352.715 1214.54,316.072 1224.79,354.517 1235.05,480.83 1245.3,377.36 1255.56,505.45 \n",
       "  1265.81,514.058 1276.07,395.935 1286.32,390.247 1296.57,546.809 1306.83,376.598 1317.08,511.824 1327.34,561.566 1337.59,488.689 1347.84,550.101 1358.1,369.755 \n",
       "  1368.35,483.042 1378.61,487.413 1388.86,476.708 1399.12,451.977 1409.37,513.734 1419.62,411.64 1429.88,309.426 1440.13,450.215 1450.39,503.197 1460.64,396.402 \n",
       "  1470.9,344.591 1481.15,302.877 1491.4,480.438 1501.66,449.659 1511.91,343.691 1522.17,410.725 1532.42,430.918 1542.67,408.487 1552.93,407.892 1563.18,444.794 \n",
       "  1573.44,626.617 1583.69,466.191 1593.95,477.742 1604.2,529.267 1614.45,409.362 1624.71,493.114 1634.96,518.359 1645.22,410.533 1655.47,447.524 1665.72,367.039 \n",
       "  1675.98,450.418 1686.23,593.544 1696.49,512.454 1706.74,452.846 1717,433.139 1727.25,541.699 1737.5,401.301 1747.76,528.638 1758.01,329.397 1768.27,330.052 \n",
       "  1778.52,452.017 1788.78,404.018 1799.03,565.475 1809.28,417.564 1819.54,424.437 1829.79,410.597 1840.05,536.965 1850.3,443.863 1860.55,406.776 1870.81,386.286 \n",
       "  1881.06,544.518 1891.32,329.251 1901.57,327.07 1911.83,464.278 1922.08,520.231 1932.33,495.613 1942.59,483.33 1952.84,311.394 1963.1,369.874 1973.35,547.587 \n",
       "  1983.6,401.688 1993.86,457.395 2004.11,548.445 2014.37,358.208 2024.62,384.652 2034.88,463.749 2045.13,516.609 2055.38,428.31 2065.64,383.947 2075.89,505.964 \n",
       "  2086.15,451.108 2096.4,478.987 2106.66,460.14 2116.91,446.51 2127.16,408.14 2137.42,510.592 2147.67,535.903 2157.93,629.973 2168.18,494.646 2178.43,483.874 \n",
       "  2188.69,319.881 2198.94,447.744 2209.2,510.46 2219.45,563.004 2229.71,343.18 2239.96,404.382 2250.21,501.349 2260.47,472.067 2270.72,470.205 2280.98,378.379 \n",
       "  2291.23,478.994 \n",
       "  \"/>\n",
       "<polyline clip-path=\"url(#clip632)\" style=\"stroke:#e26f46; stroke-linecap:round; stroke-linejoin:round; stroke-width:4; stroke-opacity:1; fill:none\" points=\"\n",
       "  240.392,443.971 250.646,429.877 260.9,392.49 271.154,476.638 281.409,554.715 291.663,473.769 301.917,322.012 312.171,365.552 322.425,517.007 332.68,563.989 \n",
       "  342.934,401.878 353.188,341.121 363.442,222.814 373.696,171.36 383.951,194.8 394.205,177.119 404.459,224.729 414.713,296.594 424.967,348.888 435.222,379.702 \n",
       "  445.476,417.01 455.73,569.333 465.984,617.45 476.238,511.897 486.492,460.405 496.747,460.483 507.001,463.423 517.255,375.066 527.509,289.459 537.763,422.13 \n",
       "  548.018,433.112 558.272,471.743 568.526,322.951 578.78,359.232 589.034,427.221 599.289,476.297 609.543,500.861 619.797,551.307 630.051,497.149 640.305,302.959 \n",
       "  650.56,326.829 660.814,354.03 671.068,361.608 681.322,493.505 691.576,384.48 701.831,412.084 712.085,416.177 722.339,480.994 732.593,347.041 742.847,430.652 \n",
       "  753.102,549.625 763.356,436.12 773.61,425.395 783.864,631.466 794.118,473.159 804.373,428.683 814.627,426.443 824.881,407.25 835.135,503.707 845.389,541.998 \n",
       "  855.643,632.853 865.898,800.152 876.152,744.899 886.406,611.476 896.66,493.014 906.914,507.387 917.169,604.23 927.423,648.136 937.677,555.556 947.931,682.871 \n",
       "  958.185,600.927 968.44,579.57 978.694,457.352 988.948,423.022 999.202,463.382 1009.46,500.038 1019.71,548.673 1029.96,533.037 1040.22,500.431 1050.47,409.452 \n",
       "  1060.73,318.136 1070.98,253.024 1081.24,258.214 1091.49,372.192 1101.74,386.436 1112,459.506 1122.25,496.476 1132.51,521.967 1142.76,619.594 1153.02,541.61 \n",
       "  1163.27,662.317 1173.52,607.992 1183.78,632.642 1194.03,513.972 1204.29,613.193 1214.54,549.126 1224.79,614.781 1235.05,519.255 1245.3,527.607 1255.56,560.536 \n",
       "  1265.81,504.119 1276.07,423.926 1286.32,480.816 1296.57,292.814 1306.83,314.191 1317.08,432.844 1327.34,427.636 1337.59,374.573 1347.84,315.522 1358.1,436.439 \n",
       "  1368.35,475.062 1378.61,400.082 1388.86,292.483 1399.12,390.774 1409.37,463.029 1419.62,342.657 1429.88,393.841 1440.13,480.013 1450.39,388.627 1460.64,451.242 \n",
       "  1470.9,391.174 1481.15,388.812 1491.4,420.594 1501.66,453.728 1511.91,358.918 1522.17,377.694 1532.42,369.024 1542.67,435.965 1552.93,530.938 1563.18,596.845 \n",
       "  1573.44,652.217 1583.69,605.553 1593.95,499.428 1604.2,391.303 1614.45,386.65 1624.71,561.044 1634.96,580.092 1645.22,542.419 1655.47,454.413 1665.72,243.766 \n",
       "  1675.98,334.921 1686.23,403.343 1696.49,373.892 1706.74,426.425 1717,463.431 1727.25,504.488 1737.5,299.328 1747.76,308.491 1758.01,297.397 1768.27,225.191 \n",
       "  1778.52,155.701 1788.78,173.209 1799.03,128.503 1809.28,138.006 1819.54,127.269 1829.79,235.331 1840.05,277.883 1850.3,335.633 1860.55,241.85 1870.81,307.217 \n",
       "  1881.06,271.118 1891.32,238.127 1901.57,221.424 1911.83,244.205 1922.08,333.492 1932.33,336.695 1942.59,369.699 1952.84,288.665 1963.1,393.351 1973.35,711.873 \n",
       "  1983.6,684.503 1993.86,596.437 2004.11,524.643 2014.37,535.311 2024.62,502.684 2034.88,595.23 2045.13,551.685 2055.38,460.035 2065.64,575.698 2075.89,560.492 \n",
       "  2086.15,526.497 2096.4,544.065 2106.66,528.074 2116.91,599.409 2127.16,483.077 2137.42,542.51 2147.67,514.048 2157.93,393.09 2168.18,246.715 2178.43,320.331 \n",
       "  2188.69,397.348 2198.94,491.6 2209.2,459.514 2219.45,410.285 2229.71,446.455 2239.96,636.84 2250.21,717.87 2260.47,759.606 2270.72,734.81 2280.98,607.048 \n",
       "  2291.23,659.848 \n",
       "  \"/>\n",
       "<polyline clip-path=\"url(#clip632)\" style=\"stroke:#3da44d; stroke-linecap:round; stroke-linejoin:round; stroke-width:4; stroke-opacity:1; fill:none\" points=\"\n",
       "  240.392,443.971 250.646,334.576 260.9,410.908 271.154,354.752 281.409,355.438 291.663,386.341 301.917,386.772 312.171,357.254 322.425,485.713 332.68,360.679 \n",
       "  342.934,316.528 353.188,266.667 363.442,341.755 373.696,293.812 383.951,319.807 394.205,230.217 404.459,273.854 414.713,99.4039 424.967,87.9763 435.222,120.686 \n",
       "  445.476,252.392 455.73,374.39 465.984,321.204 476.238,254.51 486.492,214.81 496.747,211.215 507.001,295.949 517.255,386.061 527.509,322.906 537.763,268.969 \n",
       "  548.018,330.98 558.272,291.912 568.526,418.892 578.78,302.727 589.034,492.285 599.289,533.268 609.543,530.335 619.797,580.02 630.051,537.22 640.305,591.628 \n",
       "  650.56,619.406 660.814,826.69 671.068,794.125 681.322,663.775 691.576,624.386 701.831,646.538 712.085,560.732 722.339,477.648 732.593,610.621 742.847,704.764 \n",
       "  753.102,768.777 763.356,688.002 773.61,666.729 783.864,695.333 794.118,571.933 804.373,686.157 814.627,739.592 824.881,790.077 835.135,763.276 845.389,750.311 \n",
       "  855.643,623.21 865.898,605.124 876.152,674.527 886.406,728.374 896.66,735.513 906.914,803.646 917.169,791.525 927.423,895.386 937.677,866.242 947.931,827.984 \n",
       "  958.185,882.059 968.44,839.096 978.694,812.391 988.948,800.6 999.202,877.67 1009.46,954.062 1019.71,966.329 1029.96,935.808 1040.22,1016.18 1050.47,1129.38 \n",
       "  1060.73,1211.52 1070.98,1183.16 1081.24,1099.92 1091.49,1072.06 1101.74,1126.08 1112,1180.63 1122.25,1147.53 1132.51,1132.1 1142.76,960.267 1153.02,929.108 \n",
       "  1163.27,948.626 1173.52,874.138 1183.78,905.132 1194.03,1019.98 1204.29,1059.57 1214.54,1088.47 1224.79,992.245 1235.05,1034.98 1245.3,1032.06 1255.56,939.693 \n",
       "  1265.81,920.395 1276.07,941.772 1286.32,916.02 1296.57,958.883 1306.83,1022.66 1317.08,1020.66 1327.34,936.762 1337.59,894.045 1347.84,879.573 1358.1,889.576 \n",
       "  1368.35,964.004 1378.61,851.196 1388.86,672.168 1399.12,733.42 1409.37,767.162 1419.62,677.182 1429.88,734.192 1440.13,727.529 1450.39,748.893 1460.64,896.697 \n",
       "  1470.9,876.254 1481.15,786.505 1491.4,866.604 1501.66,798.464 1511.91,875.446 1522.17,903.005 1532.42,961.969 1542.67,914.41 1552.93,950.714 1563.18,825.116 \n",
       "  1573.44,919.648 1583.69,953.511 1593.95,920.865 1604.2,775.947 1614.45,652.211 1624.71,695.506 1634.96,743.258 1645.22,881.298 1655.47,891.333 1665.72,952.173 \n",
       "  1675.98,881.652 1686.23,834.253 1696.49,805.847 1706.74,794.514 1717,845.101 1727.25,963.894 1737.5,959.707 1747.76,1078.45 1758.01,1074.56 1768.27,1025.67 \n",
       "  1778.52,966.205 1788.78,1043.9 1799.03,1130.39 1809.28,1240.66 1819.54,1245.4 1829.79,1260.45 1840.05,1255.45 1850.3,1258.46 1860.55,1360.56 1870.81,1425.35 \n",
       "  1881.06,1443.04 1891.32,1445.72 1901.57,1445.71 1911.83,1286.08 1922.08,1135.21 1932.33,1124.31 1942.59,1207.06 1952.84,1103.34 1963.1,1153.57 1973.35,1175.47 \n",
       "  1983.6,1129.95 1993.86,1165.84 2004.11,1279.51 2014.37,1078.29 2024.62,1112.67 2034.88,1085.38 2045.13,1038.88 2055.38,1035.67 2065.64,1029.32 2075.89,977.584 \n",
       "  2086.15,1122.55 2096.4,1199.82 2106.66,1132.43 2116.91,1376.49 2127.16,1360.49 2137.42,1232.75 2147.67,1091.99 2157.93,1229.63 2168.18,1193.68 2178.43,1202.01 \n",
       "  2188.69,1211.18 2198.94,1324.62 2209.2,1086.4 2219.45,1146.73 2229.71,1057.07 2239.96,1101.11 2250.21,1116.95 2260.47,1046.82 2270.72,1199.1 2280.98,1201.31 \n",
       "  2291.23,1125.24 \n",
       "  \"/>\n",
       "<path clip-path=\"url(#clip630)\" d=\"\n",
       "M251.33 1438.47 L739.319 1438.47 L739.319 1231.11 L251.33 1231.11  Z\n",
       "  \" fill=\"#ffffff\" fill-rule=\"evenodd\" fill-opacity=\"1\"/>\n",
       "<polyline clip-path=\"url(#clip630)\" style=\"stroke:#000000; stroke-linecap:round; stroke-linejoin:round; stroke-width:4; stroke-opacity:1; fill:none\" points=\"\n",
       "  251.33,1438.47 739.319,1438.47 739.319,1231.11 251.33,1231.11 251.33,1438.47 \n",
       "  \"/>\n",
       "<polyline clip-path=\"url(#clip630)\" style=\"stroke:#009af9; stroke-linecap:round; stroke-linejoin:round; stroke-width:4; stroke-opacity:1; fill:none\" points=\"\n",
       "  275.484,1282.95 420.41,1282.95 \n",
       "  \"/>\n",
       "<path clip-path=\"url(#clip630)\" d=\"M457.967 1287.2 Q452.805 1287.2 450.814 1288.38 Q448.823 1289.56 448.823 1292.41 Q448.823 1294.68 450.305 1296.02 Q451.81 1297.34 454.379 1297.34 Q457.921 1297.34 460.05 1294.84 Q462.203 1292.32 462.203 1288.15 L462.203 1287.2 L457.967 1287.2 M466.462 1285.44 L466.462 1300.23 L462.203 1300.23 L462.203 1296.3 Q460.745 1298.66 458.569 1299.79 Q456.393 1300.91 453.245 1300.91 Q449.263 1300.91 446.902 1298.68 Q444.564 1296.44 444.564 1292.69 Q444.564 1288.31 447.481 1286.09 Q450.421 1283.87 456.231 1283.87 L462.203 1283.87 L462.203 1283.45 Q462.203 1280.51 460.259 1278.92 Q458.337 1277.29 454.842 1277.29 Q452.62 1277.29 450.513 1277.83 Q448.407 1278.36 446.462 1279.42 L446.462 1275.49 Q448.8 1274.59 450.999 1274.15 Q453.198 1273.68 455.282 1273.68 Q460.907 1273.68 463.684 1276.6 Q466.462 1279.52 466.462 1285.44 Z\" fill=\"#000000\" fill-rule=\"evenodd\" fill-opacity=\"1\" /><path clip-path=\"url(#clip630)\" d=\"M475.235 1264.22 L479.495 1264.22 L479.495 1300.23 L475.235 1300.23 L475.235 1264.22 Z\" fill=\"#000000\" fill-rule=\"evenodd\" fill-opacity=\"1\" /><path clip-path=\"url(#clip630)\" d=\"M492.527 1296.35 L492.527 1310.1 L488.245 1310.1 L488.245 1274.31 L492.527 1274.31 L492.527 1278.24 Q493.87 1275.93 495.907 1274.82 Q497.967 1273.68 500.814 1273.68 Q505.536 1273.68 508.476 1277.43 Q511.439 1281.18 511.439 1287.29 Q511.439 1293.41 508.476 1297.16 Q505.536 1300.91 500.814 1300.91 Q497.967 1300.91 495.907 1299.79 Q493.87 1298.66 492.527 1296.35 M507.018 1287.29 Q507.018 1282.6 505.073 1279.93 Q503.152 1277.25 499.772 1277.25 Q496.393 1277.25 494.448 1279.93 Q492.527 1282.6 492.527 1287.29 Q492.527 1291.99 494.448 1294.68 Q496.393 1297.34 499.772 1297.34 Q503.152 1297.34 505.073 1294.68 Q507.018 1291.99 507.018 1287.29 Z\" fill=\"#000000\" fill-rule=\"evenodd\" fill-opacity=\"1\" /><path clip-path=\"url(#clip630)\" d=\"M540.05 1284.59 L540.05 1300.23 L535.791 1300.23 L535.791 1284.73 Q535.791 1281.04 534.355 1279.22 Q532.92 1277.39 530.05 1277.39 Q526.601 1277.39 524.61 1279.59 Q522.619 1281.79 522.619 1285.58 L522.619 1300.23 L518.337 1300.23 L518.337 1264.22 L522.619 1264.22 L522.619 1278.34 Q524.147 1276 526.207 1274.84 Q528.291 1273.68 530.999 1273.68 Q535.467 1273.68 537.758 1276.46 Q540.05 1279.22 540.05 1284.59 Z\" fill=\"#000000\" fill-rule=\"evenodd\" fill-opacity=\"1\" /><path clip-path=\"url(#clip630)\" d=\"M560.327 1287.2 Q555.165 1287.2 553.175 1288.38 Q551.184 1289.56 551.184 1292.41 Q551.184 1294.68 552.665 1296.02 Q554.17 1297.34 556.74 1297.34 Q560.281 1297.34 562.411 1294.84 Q564.564 1292.32 564.564 1288.15 L564.564 1287.2 L560.327 1287.2 M568.823 1285.44 L568.823 1300.23 L564.564 1300.23 L564.564 1296.3 Q563.105 1298.66 560.929 1299.79 Q558.753 1300.91 555.605 1300.91 Q551.624 1300.91 549.263 1298.68 Q546.925 1296.44 546.925 1292.69 Q546.925 1288.31 549.841 1286.09 Q552.781 1283.87 558.591 1283.87 L564.564 1283.87 L564.564 1283.45 Q564.564 1280.51 562.619 1278.92 Q560.698 1277.29 557.202 1277.29 Q554.98 1277.29 552.874 1277.83 Q550.767 1278.36 548.823 1279.42 L548.823 1275.49 Q551.161 1274.59 553.36 1274.15 Q555.559 1273.68 557.642 1273.68 Q563.267 1273.68 566.045 1276.6 Q568.823 1279.52 568.823 1285.44 Z\" fill=\"#000000\" fill-rule=\"evenodd\" fill-opacity=\"1\" /><path clip-path=\"url(#clip630)\" d=\"M578.151 1278.71 L607.827 1278.71 L607.827 1282.6 L578.151 1282.6 L578.151 1278.71 M578.151 1288.15 L607.827 1288.15 L607.827 1292.09 L578.151 1292.09 L578.151 1288.15 Z\" fill=\"#000000\" fill-rule=\"evenodd\" fill-opacity=\"1\" /><path clip-path=\"url(#clip630)\" d=\"M627.92 1268.75 Q624.309 1268.75 622.48 1272.32 Q620.674 1275.86 620.674 1282.99 Q620.674 1290.1 622.48 1293.66 Q624.309 1297.2 627.92 1297.2 Q631.554 1297.2 633.359 1293.66 Q635.188 1290.1 635.188 1282.99 Q635.188 1275.86 633.359 1272.32 Q631.554 1268.75 627.92 1268.75 M627.92 1265.05 Q633.73 1265.05 636.785 1269.66 Q639.864 1274.24 639.864 1282.99 Q639.864 1291.72 636.785 1296.32 Q633.73 1300.91 627.92 1300.91 Q622.11 1300.91 619.031 1296.32 Q615.975 1291.72 615.975 1282.99 Q615.975 1274.24 619.031 1269.66 Q622.11 1265.05 627.92 1265.05 Z\" fill=\"#000000\" fill-rule=\"evenodd\" fill-opacity=\"1\" /><polyline clip-path=\"url(#clip630)\" style=\"stroke:#e26f46; stroke-linecap:round; stroke-linejoin:round; stroke-width:4; stroke-opacity:1; fill:none\" points=\"\n",
       "  275.484,1334.79 420.41,1334.79 \n",
       "  \"/>\n",
       "<path clip-path=\"url(#clip630)\" d=\"M457.967 1339.04 Q452.805 1339.04 450.814 1340.22 Q448.823 1341.4 448.823 1344.25 Q448.823 1346.52 450.305 1347.86 Q451.81 1349.18 454.379 1349.18 Q457.921 1349.18 460.05 1346.68 Q462.203 1344.16 462.203 1339.99 L462.203 1339.04 L457.967 1339.04 M466.462 1337.28 L466.462 1352.07 L462.203 1352.07 L462.203 1348.14 Q460.745 1350.5 458.569 1351.63 Q456.393 1352.75 453.245 1352.75 Q449.263 1352.75 446.902 1350.52 Q444.564 1348.28 444.564 1344.53 Q444.564 1340.15 447.481 1337.93 Q450.421 1335.71 456.231 1335.71 L462.203 1335.71 L462.203 1335.29 Q462.203 1332.35 460.259 1330.76 Q458.337 1329.13 454.842 1329.13 Q452.62 1329.13 450.513 1329.67 Q448.407 1330.2 446.462 1331.26 L446.462 1327.33 Q448.8 1326.43 450.999 1325.99 Q453.198 1325.52 455.282 1325.52 Q460.907 1325.52 463.684 1328.44 Q466.462 1331.36 466.462 1337.28 Z\" fill=\"#000000\" fill-rule=\"evenodd\" fill-opacity=\"1\" /><path clip-path=\"url(#clip630)\" d=\"M475.235 1316.06 L479.495 1316.06 L479.495 1352.07 L475.235 1352.07 L475.235 1316.06 Z\" fill=\"#000000\" fill-rule=\"evenodd\" fill-opacity=\"1\" /><path clip-path=\"url(#clip630)\" d=\"M492.527 1348.19 L492.527 1361.94 L488.245 1361.94 L488.245 1326.15 L492.527 1326.15 L492.527 1330.08 Q493.87 1327.77 495.907 1326.66 Q497.967 1325.52 500.814 1325.52 Q505.536 1325.52 508.476 1329.27 Q511.439 1333.02 511.439 1339.13 Q511.439 1345.25 508.476 1349 Q505.536 1352.75 500.814 1352.75 Q497.967 1352.75 495.907 1351.63 Q493.87 1350.5 492.527 1348.19 M507.018 1339.13 Q507.018 1334.44 505.073 1331.77 Q503.152 1329.09 499.772 1329.09 Q496.393 1329.09 494.448 1331.77 Q492.527 1334.44 492.527 1339.13 Q492.527 1343.83 494.448 1346.52 Q496.393 1349.18 499.772 1349.18 Q503.152 1349.18 505.073 1346.52 Q507.018 1343.83 507.018 1339.13 Z\" fill=\"#000000\" fill-rule=\"evenodd\" fill-opacity=\"1\" /><path clip-path=\"url(#clip630)\" d=\"M540.05 1336.43 L540.05 1352.07 L535.791 1352.07 L535.791 1336.57 Q535.791 1332.88 534.355 1331.06 Q532.92 1329.23 530.05 1329.23 Q526.601 1329.23 524.61 1331.43 Q522.619 1333.63 522.619 1337.42 L522.619 1352.07 L518.337 1352.07 L518.337 1316.06 L522.619 1316.06 L522.619 1330.18 Q524.147 1327.84 526.207 1326.68 Q528.291 1325.52 530.999 1325.52 Q535.467 1325.52 537.758 1328.3 Q540.05 1331.06 540.05 1336.43 Z\" fill=\"#000000\" fill-rule=\"evenodd\" fill-opacity=\"1\" /><path clip-path=\"url(#clip630)\" d=\"M560.327 1339.04 Q555.165 1339.04 553.175 1340.22 Q551.184 1341.4 551.184 1344.25 Q551.184 1346.52 552.665 1347.86 Q554.17 1349.18 556.74 1349.18 Q560.281 1349.18 562.411 1346.68 Q564.564 1344.16 564.564 1339.99 L564.564 1339.04 L560.327 1339.04 M568.823 1337.28 L568.823 1352.07 L564.564 1352.07 L564.564 1348.14 Q563.105 1350.5 560.929 1351.63 Q558.753 1352.75 555.605 1352.75 Q551.624 1352.75 549.263 1350.52 Q546.925 1348.28 546.925 1344.53 Q546.925 1340.15 549.841 1337.93 Q552.781 1335.71 558.591 1335.71 L564.564 1335.71 L564.564 1335.29 Q564.564 1332.35 562.619 1330.76 Q560.698 1329.13 557.202 1329.13 Q554.98 1329.13 552.874 1329.67 Q550.767 1330.2 548.823 1331.26 L548.823 1327.33 Q551.161 1326.43 553.36 1325.99 Q555.559 1325.52 557.642 1325.52 Q563.267 1325.52 566.045 1328.44 Q568.823 1331.36 568.823 1337.28 Z\" fill=\"#000000\" fill-rule=\"evenodd\" fill-opacity=\"1\" /><path clip-path=\"url(#clip630)\" d=\"M578.151 1330.55 L607.827 1330.55 L607.827 1334.44 L578.151 1334.44 L578.151 1330.55 M578.151 1339.99 L607.827 1339.99 L607.827 1343.93 L578.151 1343.93 L578.151 1339.99 Z\" fill=\"#000000\" fill-rule=\"evenodd\" fill-opacity=\"1\" /><path clip-path=\"url(#clip630)\" d=\"M627.92 1320.59 Q624.309 1320.59 622.48 1324.16 Q620.674 1327.7 620.674 1334.83 Q620.674 1341.94 622.48 1345.5 Q624.309 1349.04 627.92 1349.04 Q631.554 1349.04 633.359 1345.5 Q635.188 1341.94 635.188 1334.83 Q635.188 1327.7 633.359 1324.16 Q631.554 1320.59 627.92 1320.59 M627.92 1316.89 Q633.73 1316.89 636.785 1321.5 Q639.864 1326.08 639.864 1334.83 Q639.864 1343.56 636.785 1348.16 Q633.73 1352.75 627.92 1352.75 Q622.11 1352.75 619.031 1348.16 Q615.975 1343.56 615.975 1334.83 Q615.975 1326.08 619.031 1321.5 Q622.11 1316.89 627.92 1316.89 Z\" fill=\"#000000\" fill-rule=\"evenodd\" fill-opacity=\"1\" /><path clip-path=\"url(#clip630)\" d=\"M648.082 1346.19 L652.966 1346.19 L652.966 1352.07 L648.082 1352.07 L648.082 1346.19 Z\" fill=\"#000000\" fill-rule=\"evenodd\" fill-opacity=\"1\" /><path clip-path=\"url(#clip630)\" d=\"M673.151 1335.66 Q669.818 1335.66 667.896 1337.44 Q665.998 1339.23 665.998 1342.35 Q665.998 1345.48 667.896 1347.26 Q669.818 1349.04 673.151 1349.04 Q676.484 1349.04 678.406 1347.26 Q680.327 1345.45 680.327 1342.35 Q680.327 1339.23 678.406 1337.44 Q676.507 1335.66 673.151 1335.66 M668.475 1333.67 Q665.466 1332.93 663.776 1330.87 Q662.109 1328.81 662.109 1325.85 Q662.109 1321.7 665.049 1319.3 Q668.012 1316.89 673.151 1316.89 Q678.313 1316.89 681.253 1319.3 Q684.193 1321.7 684.193 1325.85 Q684.193 1328.81 682.503 1330.87 Q680.836 1332.93 677.85 1333.67 Q681.23 1334.46 683.105 1336.75 Q685.003 1339.04 685.003 1342.35 Q685.003 1347.38 681.924 1350.06 Q678.869 1352.75 673.151 1352.75 Q667.433 1352.75 664.355 1350.06 Q661.299 1347.38 661.299 1342.35 Q661.299 1339.04 663.197 1336.75 Q665.095 1334.46 668.475 1333.67 M666.762 1326.29 Q666.762 1328.97 668.429 1330.48 Q670.119 1331.98 673.151 1331.98 Q676.16 1331.98 677.85 1330.48 Q679.563 1328.97 679.563 1326.29 Q679.563 1323.6 677.85 1322.1 Q676.16 1320.59 673.151 1320.59 Q670.119 1320.59 668.429 1322.1 Q666.762 1323.6 666.762 1326.29 Z\" fill=\"#000000\" fill-rule=\"evenodd\" fill-opacity=\"1\" /><polyline clip-path=\"url(#clip630)\" style=\"stroke:#3da44d; stroke-linecap:round; stroke-linejoin:round; stroke-width:4; stroke-opacity:1; fill:none\" points=\"\n",
       "  275.484,1386.63 420.41,1386.63 \n",
       "  \"/>\n",
       "<path clip-path=\"url(#clip630)\" d=\"M457.967 1390.88 Q452.805 1390.88 450.814 1392.06 Q448.823 1393.24 448.823 1396.09 Q448.823 1398.36 450.305 1399.7 Q451.81 1401.02 454.379 1401.02 Q457.921 1401.02 460.05 1398.52 Q462.203 1396 462.203 1391.83 L462.203 1390.88 L457.967 1390.88 M466.462 1389.12 L466.462 1403.91 L462.203 1403.91 L462.203 1399.98 Q460.745 1402.34 458.569 1403.47 Q456.393 1404.59 453.245 1404.59 Q449.263 1404.59 446.902 1402.36 Q444.564 1400.12 444.564 1396.37 Q444.564 1391.99 447.481 1389.77 Q450.421 1387.55 456.231 1387.55 L462.203 1387.55 L462.203 1387.13 Q462.203 1384.19 460.259 1382.6 Q458.337 1380.97 454.842 1380.97 Q452.62 1380.97 450.513 1381.51 Q448.407 1382.04 446.462 1383.1 L446.462 1379.17 Q448.8 1378.27 450.999 1377.83 Q453.198 1377.36 455.282 1377.36 Q460.907 1377.36 463.684 1380.28 Q466.462 1383.2 466.462 1389.12 Z\" fill=\"#000000\" fill-rule=\"evenodd\" fill-opacity=\"1\" /><path clip-path=\"url(#clip630)\" d=\"M475.235 1367.9 L479.495 1367.9 L479.495 1403.91 L475.235 1403.91 L475.235 1367.9 Z\" fill=\"#000000\" fill-rule=\"evenodd\" fill-opacity=\"1\" /><path clip-path=\"url(#clip630)\" d=\"M492.527 1400.03 L492.527 1413.78 L488.245 1413.78 L488.245 1377.99 L492.527 1377.99 L492.527 1381.92 Q493.87 1379.61 495.907 1378.5 Q497.967 1377.36 500.814 1377.36 Q505.536 1377.36 508.476 1381.11 Q511.439 1384.86 511.439 1390.97 Q511.439 1397.09 508.476 1400.84 Q505.536 1404.59 500.814 1404.59 Q497.967 1404.59 495.907 1403.47 Q493.87 1402.34 492.527 1400.03 M507.018 1390.97 Q507.018 1386.28 505.073 1383.61 Q503.152 1380.93 499.772 1380.93 Q496.393 1380.93 494.448 1383.61 Q492.527 1386.28 492.527 1390.97 Q492.527 1395.67 494.448 1398.36 Q496.393 1401.02 499.772 1401.02 Q503.152 1401.02 505.073 1398.36 Q507.018 1395.67 507.018 1390.97 Z\" fill=\"#000000\" fill-rule=\"evenodd\" fill-opacity=\"1\" /><path clip-path=\"url(#clip630)\" d=\"M540.05 1388.27 L540.05 1403.91 L535.791 1403.91 L535.791 1388.41 Q535.791 1384.72 534.355 1382.9 Q532.92 1381.07 530.05 1381.07 Q526.601 1381.07 524.61 1383.27 Q522.619 1385.47 522.619 1389.26 L522.619 1403.91 L518.337 1403.91 L518.337 1367.9 L522.619 1367.9 L522.619 1382.02 Q524.147 1379.68 526.207 1378.52 Q528.291 1377.36 530.999 1377.36 Q535.467 1377.36 537.758 1380.14 Q540.05 1382.9 540.05 1388.27 Z\" fill=\"#000000\" fill-rule=\"evenodd\" fill-opacity=\"1\" /><path clip-path=\"url(#clip630)\" d=\"M560.327 1390.88 Q555.165 1390.88 553.175 1392.06 Q551.184 1393.24 551.184 1396.09 Q551.184 1398.36 552.665 1399.7 Q554.17 1401.02 556.74 1401.02 Q560.281 1401.02 562.411 1398.52 Q564.564 1396 564.564 1391.83 L564.564 1390.88 L560.327 1390.88 M568.823 1389.12 L568.823 1403.91 L564.564 1403.91 L564.564 1399.98 Q563.105 1402.34 560.929 1403.47 Q558.753 1404.59 555.605 1404.59 Q551.624 1404.59 549.263 1402.36 Q546.925 1400.12 546.925 1396.37 Q546.925 1391.99 549.841 1389.77 Q552.781 1387.55 558.591 1387.55 L564.564 1387.55 L564.564 1387.13 Q564.564 1384.19 562.619 1382.6 Q560.698 1380.97 557.202 1380.97 Q554.98 1380.97 552.874 1381.51 Q550.767 1382.04 548.823 1383.1 L548.823 1379.17 Q551.161 1378.27 553.36 1377.83 Q555.559 1377.36 557.642 1377.36 Q563.267 1377.36 566.045 1380.28 Q568.823 1383.2 568.823 1389.12 Z\" fill=\"#000000\" fill-rule=\"evenodd\" fill-opacity=\"1\" /><path clip-path=\"url(#clip630)\" d=\"M578.151 1382.39 L607.827 1382.39 L607.827 1386.28 L578.151 1386.28 L578.151 1382.39 M578.151 1391.83 L607.827 1391.83 L607.827 1395.77 L578.151 1395.77 L578.151 1391.83 Z\" fill=\"#000000\" fill-rule=\"evenodd\" fill-opacity=\"1\" /><path clip-path=\"url(#clip630)\" d=\"M627.92 1372.43 Q624.309 1372.43 622.48 1376 Q620.674 1379.54 620.674 1386.67 Q620.674 1393.78 622.48 1397.34 Q624.309 1400.88 627.92 1400.88 Q631.554 1400.88 633.359 1397.34 Q635.188 1393.78 635.188 1386.67 Q635.188 1379.54 633.359 1376 Q631.554 1372.43 627.92 1372.43 M627.92 1368.73 Q633.73 1368.73 636.785 1373.34 Q639.864 1377.92 639.864 1386.67 Q639.864 1395.4 636.785 1400 Q633.73 1404.59 627.92 1404.59 Q622.11 1404.59 619.031 1400 Q615.975 1395.4 615.975 1386.67 Q615.975 1377.92 619.031 1373.34 Q622.11 1368.73 627.92 1368.73 Z\" fill=\"#000000\" fill-rule=\"evenodd\" fill-opacity=\"1\" /><path clip-path=\"url(#clip630)\" d=\"M648.082 1398.03 L652.966 1398.03 L652.966 1403.91 L648.082 1403.91 L648.082 1398.03 Z\" fill=\"#000000\" fill-rule=\"evenodd\" fill-opacity=\"1\" /><path clip-path=\"url(#clip630)\" d=\"M663.29 1403.2 L663.29 1398.94 Q665.049 1399.77 666.855 1400.21 Q668.66 1400.65 670.396 1400.65 Q675.026 1400.65 677.456 1397.55 Q679.91 1394.42 680.257 1388.08 Q678.915 1390.07 676.855 1391.14 Q674.794 1392.2 672.294 1392.2 Q667.109 1392.2 664.077 1389.08 Q661.068 1385.93 661.068 1380.49 Q661.068 1375.16 664.216 1371.95 Q667.364 1368.73 672.595 1368.73 Q678.591 1368.73 681.739 1373.34 Q684.91 1377.92 684.91 1386.67 Q684.91 1394.84 681.021 1399.72 Q677.156 1404.59 670.605 1404.59 Q668.845 1404.59 667.04 1404.24 Q665.234 1403.89 663.29 1403.2 M672.595 1388.54 Q675.744 1388.54 677.572 1386.39 Q679.424 1384.24 679.424 1380.49 Q679.424 1376.76 677.572 1374.61 Q675.744 1372.43 672.595 1372.43 Q669.447 1372.43 667.595 1374.61 Q665.767 1376.76 665.767 1380.49 Q665.767 1384.24 667.595 1386.39 Q669.447 1388.54 672.595 1388.54 Z\" fill=\"#000000\" fill-rule=\"evenodd\" fill-opacity=\"1\" /><path clip-path=\"url(#clip630)\" d=\"M703.313 1387.5 Q699.98 1387.5 698.058 1389.28 Q696.16 1391.07 696.16 1394.19 Q696.16 1397.32 698.058 1399.1 Q699.98 1400.88 703.313 1400.88 Q706.646 1400.88 708.567 1399.1 Q710.489 1397.29 710.489 1394.19 Q710.489 1391.07 708.567 1389.28 Q706.669 1387.5 703.313 1387.5 M698.637 1385.51 Q695.628 1384.77 693.938 1382.71 Q692.271 1380.65 692.271 1377.69 Q692.271 1373.54 695.211 1371.14 Q698.174 1368.73 703.313 1368.73 Q708.475 1368.73 711.415 1371.14 Q714.354 1373.54 714.354 1377.69 Q714.354 1380.65 712.665 1382.71 Q710.998 1384.77 708.012 1385.51 Q711.391 1386.3 713.266 1388.59 Q715.165 1390.88 715.165 1394.19 Q715.165 1399.22 712.086 1401.9 Q709.03 1404.59 703.313 1404.59 Q697.595 1404.59 694.517 1401.9 Q691.461 1399.22 691.461 1394.19 Q691.461 1390.88 693.359 1388.59 Q695.257 1386.3 698.637 1385.51 M696.924 1378.13 Q696.924 1380.81 698.591 1382.32 Q700.28 1383.82 703.313 1383.82 Q706.322 1383.82 708.012 1382.32 Q709.725 1380.81 709.725 1378.13 Q709.725 1375.44 708.012 1373.94 Q706.322 1372.43 703.313 1372.43 Q700.28 1372.43 698.591 1373.94 Q696.924 1375.44 696.924 1378.13 Z\" fill=\"#000000\" fill-rule=\"evenodd\" fill-opacity=\"1\" /></svg>\n"
      ]
     },
     "execution_count": 11,
     "metadata": {},
     "output_type": "execute_result"
    }
   ],
   "source": [
    "plot(timeseries(alpha=0.0), label=\"alpha=0\")\n",
    "plot!(timeseries(alpha=0.8), label=\"alpha=0.8\")\n",
    "plot!(timeseries(alpha=0.98), label=\"alpha=0.98\")"
   ]
  },
  {
   "attachments": {},
   "cell_type": "markdown",
   "id": "61d969ad",
   "metadata": {},
   "source": [
    "### Exercise 7\n",
    "\n",
    "This exercise is more challenging.\n",
    "\n",
    "Take a random walk, starting from $ x_0 = 1 $\n",
    "\n",
    "$$\n",
    "x_{t+1} = \\, \\alpha \\, x_t + \\sigma\\, \\epsilon_{t+1}\n",
    "\\quad \\text{where} \\quad\n",
    "x_0 = 1\n",
    "\\quad \\text{and} \\quad t = 0,\\ldots,t_{\\max}\n",
    "$$\n",
    "\n",
    "- Furthermore, assume that the $ x_{t_{\\max}} = 0 $  (i.e. at $ t_{\\max} $, the value drops to zero, regardless of its current state).  \n",
    "- The sequence of shocks $ \\{\\epsilon_t\\} $ is assumed to be iid and standard normal.  \n",
    "- For a given path $ \\{x_t\\} $ define a **first-passage time** as $ T_a = \\min\\{t\\, |\\, x_t \\leq a\\} $, where by the assumption of the process $ T_a \\leq t_{\\max} $.  \n",
    "\n",
    "\n",
    "Start with $ \\sigma = 0.2, \\alpha = 1.0 $\n",
    "\n",
    "1. calculate the first-passage time, $ T_0 $, for 100 simulated random walks – to a $ t_{\\max} = 200 $ and plot a histogram  \n",
    "1. plot the sample mean of $ T_0 $ from the simulation for $ \\alpha \\in \\{0.8, 1.0, 1.2\\} $  \n",
    "\n",
    "\n",
    "\n",
    "<a id='jbe-ex8a'></a>"
   ]
  },
  {
   "cell_type": "code",
   "execution_count": 32,
   "id": "fab5263e",
   "metadata": {},
   "outputs": [
    {
     "data": {
      "image/svg+xml": [
       "<?xml version=\"1.0\" encoding=\"utf-8\"?>\n",
       "<svg xmlns=\"http://www.w3.org/2000/svg\" xmlns:xlink=\"http://www.w3.org/1999/xlink\" width=\"600\" height=\"400\" viewBox=\"0 0 2400 1600\">\n",
       "<defs>\n",
       "  <clipPath id=\"clip070\">\n",
       "    <rect x=\"0\" y=\"0\" width=\"2400\" height=\"1600\"/>\n",
       "  </clipPath>\n",
       "</defs>\n",
       "<path clip-path=\"url(#clip070)\" d=\"\n",
       "M0 1600 L2400 1600 L2400 0 L0 0  Z\n",
       "  \" fill=\"#ffffff\" fill-rule=\"evenodd\" fill-opacity=\"1\"/>\n",
       "<defs>\n",
       "  <clipPath id=\"clip071\">\n",
       "    <rect x=\"480\" y=\"0\" width=\"1681\" height=\"1600\"/>\n",
       "  </clipPath>\n",
       "</defs>\n",
       "<path clip-path=\"url(#clip070)\" d=\"\n",
       "M140.696 1486.45 L2352.76 1486.45 L2352.76 47.2441 L140.696 47.2441  Z\n",
       "  \" fill=\"#ffffff\" fill-rule=\"evenodd\" fill-opacity=\"1\"/>\n",
       "<defs>\n",
       "  <clipPath id=\"clip072\">\n",
       "    <rect x=\"140\" y=\"47\" width=\"2213\" height=\"1440\"/>\n",
       "  </clipPath>\n",
       "</defs>\n",
       "<polyline clip-path=\"url(#clip072)\" style=\"stroke:#000000; stroke-linecap:round; stroke-linejoin:round; stroke-width:2; stroke-opacity:0.1; fill:none\" points=\"\n",
       "  262.363,1486.45 262.363,47.2441 \n",
       "  \"/>\n",
       "<polyline clip-path=\"url(#clip072)\" style=\"stroke:#000000; stroke-linecap:round; stroke-linejoin:round; stroke-width:2; stroke-opacity:0.1; fill:none\" points=\"\n",
       "  754.544,1486.45 754.544,47.2441 \n",
       "  \"/>\n",
       "<polyline clip-path=\"url(#clip072)\" style=\"stroke:#000000; stroke-linecap:round; stroke-linejoin:round; stroke-width:2; stroke-opacity:0.1; fill:none\" points=\"\n",
       "  1246.73,1486.45 1246.73,47.2441 \n",
       "  \"/>\n",
       "<polyline clip-path=\"url(#clip072)\" style=\"stroke:#000000; stroke-linecap:round; stroke-linejoin:round; stroke-width:2; stroke-opacity:0.1; fill:none\" points=\"\n",
       "  1738.91,1486.45 1738.91,47.2441 \n",
       "  \"/>\n",
       "<polyline clip-path=\"url(#clip072)\" style=\"stroke:#000000; stroke-linecap:round; stroke-linejoin:round; stroke-width:2; stroke-opacity:0.1; fill:none\" points=\"\n",
       "  2231.09,1486.45 2231.09,47.2441 \n",
       "  \"/>\n",
       "<polyline clip-path=\"url(#clip070)\" style=\"stroke:#000000; stroke-linecap:round; stroke-linejoin:round; stroke-width:4; stroke-opacity:1; fill:none\" points=\"\n",
       "  140.696,1486.45 2352.76,1486.45 \n",
       "  \"/>\n",
       "<polyline clip-path=\"url(#clip070)\" style=\"stroke:#000000; stroke-linecap:round; stroke-linejoin:round; stroke-width:4; stroke-opacity:1; fill:none\" points=\"\n",
       "  262.363,1486.45 262.363,1467.55 \n",
       "  \"/>\n",
       "<polyline clip-path=\"url(#clip070)\" style=\"stroke:#000000; stroke-linecap:round; stroke-linejoin:round; stroke-width:4; stroke-opacity:1; fill:none\" points=\"\n",
       "  754.544,1486.45 754.544,1467.55 \n",
       "  \"/>\n",
       "<polyline clip-path=\"url(#clip070)\" style=\"stroke:#000000; stroke-linecap:round; stroke-linejoin:round; stroke-width:4; stroke-opacity:1; fill:none\" points=\"\n",
       "  1246.73,1486.45 1246.73,1467.55 \n",
       "  \"/>\n",
       "<polyline clip-path=\"url(#clip070)\" style=\"stroke:#000000; stroke-linecap:round; stroke-linejoin:round; stroke-width:4; stroke-opacity:1; fill:none\" points=\"\n",
       "  1738.91,1486.45 1738.91,1467.55 \n",
       "  \"/>\n",
       "<polyline clip-path=\"url(#clip070)\" style=\"stroke:#000000; stroke-linecap:round; stroke-linejoin:round; stroke-width:4; stroke-opacity:1; fill:none\" points=\"\n",
       "  2231.09,1486.45 2231.09,1467.55 \n",
       "  \"/>\n",
       "<path clip-path=\"url(#clip070)\" d=\"M262.363 1517.37 Q258.752 1517.37 256.923 1520.93 Q255.117 1524.47 255.117 1531.6 Q255.117 1538.71 256.923 1542.27 Q258.752 1545.82 262.363 1545.82 Q265.997 1545.82 267.803 1542.27 Q269.631 1538.71 269.631 1531.6 Q269.631 1524.47 267.803 1520.93 Q265.997 1517.37 262.363 1517.37 M262.363 1513.66 Q268.173 1513.66 271.228 1518.27 Q274.307 1522.85 274.307 1531.6 Q274.307 1540.33 271.228 1544.94 Q268.173 1549.52 262.363 1549.52 Q256.553 1549.52 253.474 1544.94 Q250.418 1540.33 250.418 1531.6 Q250.418 1522.85 253.474 1518.27 Q256.553 1513.66 262.363 1513.66 Z\" fill=\"#000000\" fill-rule=\"evenodd\" fill-opacity=\"1\" /><path clip-path=\"url(#clip070)\" d=\"M729.243 1514.29 L747.6 1514.29 L747.6 1518.22 L733.526 1518.22 L733.526 1526.7 Q734.544 1526.35 735.563 1526.19 Q736.581 1526 737.6 1526 Q743.387 1526 746.767 1529.17 Q750.146 1532.34 750.146 1537.76 Q750.146 1543.34 746.674 1546.44 Q743.202 1549.52 736.882 1549.52 Q734.706 1549.52 732.438 1549.15 Q730.193 1548.78 727.785 1548.04 L727.785 1543.34 Q729.868 1544.47 732.091 1545.03 Q734.313 1545.58 736.79 1545.58 Q740.794 1545.58 743.132 1543.48 Q745.47 1541.37 745.47 1537.76 Q745.47 1534.15 743.132 1532.04 Q740.794 1529.94 736.79 1529.94 Q734.915 1529.94 733.04 1530.35 Q731.188 1530.77 729.243 1531.65 L729.243 1514.29 Z\" fill=\"#000000\" fill-rule=\"evenodd\" fill-opacity=\"1\" /><path clip-path=\"url(#clip070)\" d=\"M769.359 1517.37 Q765.748 1517.37 763.919 1520.93 Q762.114 1524.47 762.114 1531.6 Q762.114 1538.71 763.919 1542.27 Q765.748 1545.82 769.359 1545.82 Q772.993 1545.82 774.799 1542.27 Q776.627 1538.71 776.627 1531.6 Q776.627 1524.47 774.799 1520.93 Q772.993 1517.37 769.359 1517.37 M769.359 1513.66 Q775.169 1513.66 778.225 1518.27 Q781.303 1522.85 781.303 1531.6 Q781.303 1540.33 778.225 1544.94 Q775.169 1549.52 769.359 1549.52 Q763.549 1549.52 760.47 1544.94 Q757.415 1540.33 757.415 1531.6 Q757.415 1522.85 760.47 1518.27 Q763.549 1513.66 769.359 1513.66 Z\" fill=\"#000000\" fill-rule=\"evenodd\" fill-opacity=\"1\" /><path clip-path=\"url(#clip070)\" d=\"M1206.33 1544.91 L1213.97 1544.91 L1213.97 1518.55 L1205.66 1520.21 L1205.66 1515.95 L1213.92 1514.29 L1218.6 1514.29 L1218.6 1544.91 L1226.24 1544.91 L1226.24 1548.85 L1206.33 1548.85 L1206.33 1544.91 Z\" fill=\"#000000\" fill-rule=\"evenodd\" fill-opacity=\"1\" /><path clip-path=\"url(#clip070)\" d=\"M1245.68 1517.37 Q1242.07 1517.37 1240.24 1520.93 Q1238.44 1524.47 1238.44 1531.6 Q1238.44 1538.71 1240.24 1542.27 Q1242.07 1545.82 1245.68 1545.82 Q1249.32 1545.82 1251.12 1542.27 Q1252.95 1538.71 1252.95 1531.6 Q1252.95 1524.47 1251.12 1520.93 Q1249.32 1517.37 1245.68 1517.37 M1245.68 1513.66 Q1251.49 1513.66 1254.55 1518.27 Q1257.63 1522.85 1257.63 1531.6 Q1257.63 1540.33 1254.55 1544.94 Q1251.49 1549.52 1245.68 1549.52 Q1239.87 1549.52 1236.8 1544.94 Q1233.74 1540.33 1233.74 1531.6 Q1233.74 1522.85 1236.8 1518.27 Q1239.87 1513.66 1245.68 1513.66 Z\" fill=\"#000000\" fill-rule=\"evenodd\" fill-opacity=\"1\" /><path clip-path=\"url(#clip070)\" d=\"M1275.85 1517.37 Q1272.23 1517.37 1270.41 1520.93 Q1268.6 1524.47 1268.6 1531.6 Q1268.6 1538.71 1270.41 1542.27 Q1272.23 1545.82 1275.85 1545.82 Q1279.48 1545.82 1281.29 1542.27 Q1283.11 1538.71 1283.11 1531.6 Q1283.11 1524.47 1281.29 1520.93 Q1279.48 1517.37 1275.85 1517.37 M1275.85 1513.66 Q1281.66 1513.66 1284.71 1518.27 Q1287.79 1522.85 1287.79 1531.6 Q1287.79 1540.33 1284.71 1544.94 Q1281.66 1549.52 1275.85 1549.52 Q1270.04 1549.52 1266.96 1544.94 Q1263.9 1540.33 1263.9 1531.6 Q1263.9 1522.85 1266.96 1518.27 Q1270.04 1513.66 1275.85 1513.66 Z\" fill=\"#000000\" fill-rule=\"evenodd\" fill-opacity=\"1\" /><path clip-path=\"url(#clip070)\" d=\"M1698.51 1544.91 L1706.15 1544.91 L1706.15 1518.55 L1697.84 1520.21 L1697.84 1515.95 L1706.11 1514.29 L1710.78 1514.29 L1710.78 1544.91 L1718.42 1544.91 L1718.42 1548.85 L1698.51 1548.85 L1698.51 1544.91 Z\" fill=\"#000000\" fill-rule=\"evenodd\" fill-opacity=\"1\" /><path clip-path=\"url(#clip070)\" d=\"M1727.91 1514.29 L1746.27 1514.29 L1746.27 1518.22 L1732.19 1518.22 L1732.19 1526.7 Q1733.21 1526.35 1734.23 1526.19 Q1735.25 1526 1736.27 1526 Q1742.06 1526 1745.43 1529.17 Q1748.81 1532.34 1748.81 1537.76 Q1748.81 1543.34 1745.34 1546.44 Q1741.87 1549.52 1735.55 1549.52 Q1733.37 1549.52 1731.11 1549.15 Q1728.86 1548.78 1726.45 1548.04 L1726.45 1543.34 Q1728.54 1544.47 1730.76 1545.03 Q1732.98 1545.58 1735.46 1545.58 Q1739.46 1545.58 1741.8 1543.48 Q1744.14 1541.37 1744.14 1537.76 Q1744.14 1534.15 1741.8 1532.04 Q1739.46 1529.94 1735.46 1529.94 Q1733.58 1529.94 1731.71 1530.35 Q1729.86 1530.77 1727.91 1531.65 L1727.91 1514.29 Z\" fill=\"#000000\" fill-rule=\"evenodd\" fill-opacity=\"1\" /><path clip-path=\"url(#clip070)\" d=\"M1768.03 1517.37 Q1764.42 1517.37 1762.59 1520.93 Q1760.78 1524.47 1760.78 1531.6 Q1760.78 1538.71 1762.59 1542.27 Q1764.42 1545.82 1768.03 1545.82 Q1771.66 1545.82 1773.47 1542.27 Q1775.3 1538.71 1775.3 1531.6 Q1775.3 1524.47 1773.47 1520.93 Q1771.66 1517.37 1768.03 1517.37 M1768.03 1513.66 Q1773.84 1513.66 1776.89 1518.27 Q1779.97 1522.85 1779.97 1531.6 Q1779.97 1540.33 1776.89 1544.94 Q1773.84 1549.52 1768.03 1549.52 Q1762.22 1549.52 1759.14 1544.94 Q1756.08 1540.33 1756.08 1531.6 Q1756.08 1522.85 1759.14 1518.27 Q1762.22 1513.66 1768.03 1513.66 Z\" fill=\"#000000\" fill-rule=\"evenodd\" fill-opacity=\"1\" /><path clip-path=\"url(#clip070)\" d=\"M2194.78 1544.91 L2211.1 1544.91 L2211.1 1548.85 L2189.16 1548.85 L2189.16 1544.91 Q2191.82 1542.16 2196.4 1537.53 Q2201.01 1532.88 2202.19 1531.53 Q2204.43 1529.01 2205.31 1527.27 Q2206.22 1525.51 2206.22 1523.82 Q2206.22 1521.07 2204.27 1519.33 Q2202.35 1517.6 2199.25 1517.6 Q2197.05 1517.6 2194.6 1518.36 Q2192.17 1519.13 2189.39 1520.68 L2189.39 1515.95 Q2192.21 1514.82 2194.67 1514.24 Q2197.12 1513.66 2199.16 1513.66 Q2204.53 1513.66 2207.72 1516.35 Q2210.92 1519.03 2210.92 1523.52 Q2210.92 1525.65 2210.1 1527.57 Q2209.32 1529.47 2207.21 1532.07 Q2206.63 1532.74 2203.53 1535.95 Q2200.43 1539.15 2194.78 1544.91 Z\" fill=\"#000000\" fill-rule=\"evenodd\" fill-opacity=\"1\" /><path clip-path=\"url(#clip070)\" d=\"M2230.92 1517.37 Q2227.3 1517.37 2225.48 1520.93 Q2223.67 1524.47 2223.67 1531.6 Q2223.67 1538.71 2225.48 1542.27 Q2227.3 1545.82 2230.92 1545.82 Q2234.55 1545.82 2236.35 1542.27 Q2238.18 1538.71 2238.18 1531.6 Q2238.18 1524.47 2236.35 1520.93 Q2234.55 1517.37 2230.92 1517.37 M2230.92 1513.66 Q2236.73 1513.66 2239.78 1518.27 Q2242.86 1522.85 2242.86 1531.6 Q2242.86 1540.33 2239.78 1544.94 Q2236.73 1549.52 2230.92 1549.52 Q2225.1 1549.52 2222.03 1544.94 Q2218.97 1540.33 2218.97 1531.6 Q2218.97 1522.85 2222.03 1518.27 Q2225.1 1513.66 2230.92 1513.66 Z\" fill=\"#000000\" fill-rule=\"evenodd\" fill-opacity=\"1\" /><path clip-path=\"url(#clip070)\" d=\"M2261.08 1517.37 Q2257.47 1517.37 2255.64 1520.93 Q2253.83 1524.47 2253.83 1531.6 Q2253.83 1538.71 2255.64 1542.27 Q2257.47 1545.82 2261.08 1545.82 Q2264.71 1545.82 2266.52 1542.27 Q2268.35 1538.71 2268.35 1531.6 Q2268.35 1524.47 2266.52 1520.93 Q2264.71 1517.37 2261.08 1517.37 M2261.08 1513.66 Q2266.89 1513.66 2269.94 1518.27 Q2273.02 1522.85 2273.02 1531.6 Q2273.02 1540.33 2269.94 1544.94 Q2266.89 1549.52 2261.08 1549.52 Q2255.27 1549.52 2252.19 1544.94 Q2249.13 1540.33 2249.13 1531.6 Q2249.13 1522.85 2252.19 1518.27 Q2255.27 1513.66 2261.08 1513.66 Z\" fill=\"#000000\" fill-rule=\"evenodd\" fill-opacity=\"1\" /><polyline clip-path=\"url(#clip072)\" style=\"stroke:#000000; stroke-linecap:round; stroke-linejoin:round; stroke-width:2; stroke-opacity:0.1; fill:none\" points=\"\n",
       "  140.696,1445.72 2352.76,1445.72 \n",
       "  \"/>\n",
       "<polyline clip-path=\"url(#clip072)\" style=\"stroke:#000000; stroke-linecap:round; stroke-linejoin:round; stroke-width:2; stroke-opacity:0.1; fill:none\" points=\"\n",
       "  140.696,1088.42 2352.76,1088.42 \n",
       "  \"/>\n",
       "<polyline clip-path=\"url(#clip072)\" style=\"stroke:#000000; stroke-linecap:round; stroke-linejoin:round; stroke-width:2; stroke-opacity:0.1; fill:none\" points=\"\n",
       "  140.696,731.116 2352.76,731.116 \n",
       "  \"/>\n",
       "<polyline clip-path=\"url(#clip072)\" style=\"stroke:#000000; stroke-linecap:round; stroke-linejoin:round; stroke-width:2; stroke-opacity:0.1; fill:none\" points=\"\n",
       "  140.696,373.816 2352.76,373.816 \n",
       "  \"/>\n",
       "<polyline clip-path=\"url(#clip070)\" style=\"stroke:#000000; stroke-linecap:round; stroke-linejoin:round; stroke-width:4; stroke-opacity:1; fill:none\" points=\"\n",
       "  140.696,1486.45 140.696,47.2441 \n",
       "  \"/>\n",
       "<polyline clip-path=\"url(#clip070)\" style=\"stroke:#000000; stroke-linecap:round; stroke-linejoin:round; stroke-width:4; stroke-opacity:1; fill:none\" points=\"\n",
       "  140.696,1445.72 159.593,1445.72 \n",
       "  \"/>\n",
       "<polyline clip-path=\"url(#clip070)\" style=\"stroke:#000000; stroke-linecap:round; stroke-linejoin:round; stroke-width:4; stroke-opacity:1; fill:none\" points=\"\n",
       "  140.696,1088.42 159.593,1088.42 \n",
       "  \"/>\n",
       "<polyline clip-path=\"url(#clip070)\" style=\"stroke:#000000; stroke-linecap:round; stroke-linejoin:round; stroke-width:4; stroke-opacity:1; fill:none\" points=\"\n",
       "  140.696,731.116 159.593,731.116 \n",
       "  \"/>\n",
       "<polyline clip-path=\"url(#clip070)\" style=\"stroke:#000000; stroke-linecap:round; stroke-linejoin:round; stroke-width:4; stroke-opacity:1; fill:none\" points=\"\n",
       "  140.696,373.816 159.593,373.816 \n",
       "  \"/>\n",
       "<path clip-path=\"url(#clip070)\" d=\"M92.7512 1431.51 Q89.1401 1431.51 87.3114 1435.08 Q85.5058 1438.62 85.5058 1445.75 Q85.5058 1452.86 87.3114 1456.42 Q89.1401 1459.96 92.7512 1459.96 Q96.3854 1459.96 98.1909 1456.42 Q100.02 1452.86 100.02 1445.75 Q100.02 1438.62 98.1909 1435.08 Q96.3854 1431.51 92.7512 1431.51 M92.7512 1427.81 Q98.5613 1427.81 101.617 1432.42 Q104.696 1437 104.696 1445.75 Q104.696 1454.48 101.617 1459.08 Q98.5613 1463.67 92.7512 1463.67 Q86.941 1463.67 83.8623 1459.08 Q80.8068 1454.48 80.8068 1445.75 Q80.8068 1437 83.8623 1432.42 Q86.941 1427.81 92.7512 1427.81 Z\" fill=\"#000000\" fill-rule=\"evenodd\" fill-opacity=\"1\" /><path clip-path=\"url(#clip070)\" d=\"M53.3995 1101.76 L61.0384 1101.76 L61.0384 1075.4 L52.7282 1077.06 L52.7282 1072.8 L60.9921 1071.14 L65.668 1071.14 L65.668 1101.76 L73.3068 1101.76 L73.3068 1105.7 L53.3995 1105.7 L53.3995 1101.76 Z\" fill=\"#000000\" fill-rule=\"evenodd\" fill-opacity=\"1\" /><path clip-path=\"url(#clip070)\" d=\"M92.7512 1074.21 Q89.1401 1074.21 87.3114 1077.78 Q85.5058 1081.32 85.5058 1088.45 Q85.5058 1095.56 87.3114 1099.12 Q89.1401 1102.66 92.7512 1102.66 Q96.3854 1102.66 98.1909 1099.12 Q100.02 1095.56 100.02 1088.45 Q100.02 1081.32 98.1909 1077.78 Q96.3854 1074.21 92.7512 1074.21 M92.7512 1070.51 Q98.5613 1070.51 101.617 1075.12 Q104.696 1079.7 104.696 1088.45 Q104.696 1097.18 101.617 1101.78 Q98.5613 1106.37 92.7512 1106.37 Q86.941 1106.37 83.8623 1101.78 Q80.8068 1097.18 80.8068 1088.45 Q80.8068 1079.7 83.8623 1075.12 Q86.941 1070.51 92.7512 1070.51 Z\" fill=\"#000000\" fill-rule=\"evenodd\" fill-opacity=\"1\" /><path clip-path=\"url(#clip070)\" d=\"M56.6171 744.461 L72.9365 744.461 L72.9365 748.396 L50.9921 748.396 L50.9921 744.461 Q53.6541 741.706 58.2375 737.077 Q62.8439 732.424 64.0245 731.081 Q66.2698 728.558 67.1494 726.822 Q68.0522 725.063 68.0522 723.373 Q68.0522 720.618 66.1078 718.882 Q64.1865 717.146 61.0847 717.146 Q58.8856 717.146 56.4319 717.91 Q54.0014 718.674 51.2236 720.225 L51.2236 715.503 Q54.0477 714.368 56.5014 713.79 Q58.955 713.211 60.9921 713.211 Q66.3624 713.211 69.5568 715.896 Q72.7513 718.581 72.7513 723.072 Q72.7513 725.202 71.9411 727.123 Q71.1541 729.021 69.0476 731.614 Q68.4689 732.285 65.367 735.503 Q62.2652 738.697 56.6171 744.461 Z\" fill=\"#000000\" fill-rule=\"evenodd\" fill-opacity=\"1\" /><path clip-path=\"url(#clip070)\" d=\"M92.7512 716.915 Q89.1401 716.915 87.3114 720.479 Q85.5058 724.021 85.5058 731.151 Q85.5058 738.257 87.3114 741.822 Q89.1401 745.364 92.7512 745.364 Q96.3854 745.364 98.1909 741.822 Q100.02 738.257 100.02 731.151 Q100.02 724.021 98.1909 720.479 Q96.3854 716.915 92.7512 716.915 M92.7512 713.211 Q98.5613 713.211 101.617 717.817 Q104.696 722.401 104.696 731.151 Q104.696 739.878 101.617 744.484 Q98.5613 749.067 92.7512 749.067 Q86.941 749.067 83.8623 744.484 Q80.8068 739.878 80.8068 731.151 Q80.8068 722.401 83.8623 717.817 Q86.941 713.211 92.7512 713.211 Z\" fill=\"#000000\" fill-rule=\"evenodd\" fill-opacity=\"1\" /><path clip-path=\"url(#clip070)\" d=\"M66.7559 372.462 Q70.1124 373.18 71.9874 375.448 Q73.8855 377.717 73.8855 381.05 Q73.8855 386.166 70.367 388.967 Q66.8485 391.767 60.3671 391.767 Q58.1912 391.767 55.8764 391.328 Q53.5847 390.911 51.131 390.054 L51.131 385.541 Q53.0754 386.675 55.3903 387.254 Q57.7051 387.832 60.2282 387.832 Q64.6263 387.832 66.918 386.096 Q69.2328 384.36 69.2328 381.05 Q69.2328 377.994 67.08 376.281 Q64.9504 374.545 61.131 374.545 L57.1032 374.545 L57.1032 370.703 L61.3161 370.703 Q64.7652 370.703 66.5939 369.337 Q68.4226 367.948 68.4226 365.356 Q68.4226 362.694 66.5245 361.281 Q64.6495 359.846 61.131 359.846 Q59.2097 359.846 57.0106 360.263 Q54.8115 360.68 52.1727 361.559 L52.1727 357.393 Q54.8347 356.652 57.1495 356.282 Q59.4875 355.911 61.5476 355.911 Q66.8717 355.911 69.9735 358.342 Q73.0753 360.749 73.0753 364.869 Q73.0753 367.74 71.4318 369.731 Q69.7883 371.698 66.7559 372.462 Z\" fill=\"#000000\" fill-rule=\"evenodd\" fill-opacity=\"1\" /><path clip-path=\"url(#clip070)\" d=\"M92.7512 359.615 Q89.1401 359.615 87.3114 363.18 Q85.5058 366.721 85.5058 373.851 Q85.5058 380.957 87.3114 384.522 Q89.1401 388.064 92.7512 388.064 Q96.3854 388.064 98.1909 384.522 Q100.02 380.957 100.02 373.851 Q100.02 366.721 98.1909 363.18 Q96.3854 359.615 92.7512 359.615 M92.7512 355.911 Q98.5613 355.911 101.617 360.518 Q104.696 365.101 104.696 373.851 Q104.696 382.578 101.617 387.184 Q98.5613 391.767 92.7512 391.767 Q86.941 391.767 83.8623 387.184 Q80.8068 382.578 80.8068 373.851 Q80.8068 365.101 83.8623 360.518 Q86.941 355.911 92.7512 355.911 Z\" fill=\"#000000\" fill-rule=\"evenodd\" fill-opacity=\"1\" /><path clip-path=\"url(#clip072)\" d=\"\n",
       "M262.363 87.9763 L262.363 1445.72 L754.544 1445.72 L754.544 87.9763 L262.363 87.9763 L262.363 87.9763  Z\n",
       "  \" fill=\"#009af9\" fill-rule=\"evenodd\" fill-opacity=\"1\"/>\n",
       "<polyline clip-path=\"url(#clip072)\" style=\"stroke:#000000; stroke-linecap:round; stroke-linejoin:round; stroke-width:4; stroke-opacity:1; fill:none\" points=\"\n",
       "  262.363,87.9763 262.363,1445.72 754.544,1445.72 754.544,87.9763 262.363,87.9763 \n",
       "  \"/>\n",
       "<path clip-path=\"url(#clip072)\" d=\"\n",
       "M754.544 874.036 L754.544 1445.72 L1246.73 1445.72 L1246.73 874.036 L754.544 874.036 L754.544 874.036  Z\n",
       "  \" fill=\"#009af9\" fill-rule=\"evenodd\" fill-opacity=\"1\"/>\n",
       "<polyline clip-path=\"url(#clip072)\" style=\"stroke:#000000; stroke-linecap:round; stroke-linejoin:round; stroke-width:4; stroke-opacity:1; fill:none\" points=\"\n",
       "  754.544,874.036 754.544,1445.72 1246.73,1445.72 1246.73,874.036 754.544,874.036 \n",
       "  \"/>\n",
       "<path clip-path=\"url(#clip072)\" d=\"\n",
       "M1246.73 1159.88 L1246.73 1445.72 L1738.91 1445.72 L1738.91 1159.88 L1246.73 1159.88 L1246.73 1159.88  Z\n",
       "  \" fill=\"#009af9\" fill-rule=\"evenodd\" fill-opacity=\"1\"/>\n",
       "<polyline clip-path=\"url(#clip072)\" style=\"stroke:#000000; stroke-linecap:round; stroke-linejoin:round; stroke-width:4; stroke-opacity:1; fill:none\" points=\"\n",
       "  1246.73,1159.88 1246.73,1445.72 1738.91,1445.72 1738.91,1159.88 1246.73,1159.88 \n",
       "  \"/>\n",
       "<path clip-path=\"url(#clip072)\" d=\"\n",
       "M1738.91 1195.61 L1738.91 1445.72 L2231.09 1445.72 L2231.09 1195.61 L1738.91 1195.61 L1738.91 1195.61  Z\n",
       "  \" fill=\"#009af9\" fill-rule=\"evenodd\" fill-opacity=\"1\"/>\n",
       "<polyline clip-path=\"url(#clip072)\" style=\"stroke:#000000; stroke-linecap:round; stroke-linejoin:round; stroke-width:4; stroke-opacity:1; fill:none\" points=\"\n",
       "  1738.91,1195.61 1738.91,1445.72 2231.09,1445.72 2231.09,1195.61 1738.91,1195.61 \n",
       "  \"/>\n",
       "<circle clip-path=\"url(#clip072)\" style=\"fill:#009af9; stroke:none; fill-opacity:0\" cx=\"508.454\" cy=\"87.9763\" r=\"2\"/>\n",
       "<circle clip-path=\"url(#clip072)\" style=\"fill:#009af9; stroke:none; fill-opacity:0\" cx=\"1000.63\" cy=\"874.036\" r=\"2\"/>\n",
       "<circle clip-path=\"url(#clip072)\" style=\"fill:#009af9; stroke:none; fill-opacity:0\" cx=\"1492.82\" cy=\"1159.88\" r=\"2\"/>\n",
       "<circle clip-path=\"url(#clip072)\" style=\"fill:#009af9; stroke:none; fill-opacity:0\" cx=\"1985\" cy=\"1195.61\" r=\"2\"/>\n",
       "<path clip-path=\"url(#clip070)\" d=\"\n",
       "M2005.38 198.898 L2279.02 198.898 L2279.02 95.2176 L2005.38 95.2176  Z\n",
       "  \" fill=\"#ffffff\" fill-rule=\"evenodd\" fill-opacity=\"1\"/>\n",
       "<polyline clip-path=\"url(#clip070)\" style=\"stroke:#000000; stroke-linecap:round; stroke-linejoin:round; stroke-width:4; stroke-opacity:1; fill:none\" points=\"\n",
       "  2005.38,198.898 2279.02,198.898 2279.02,95.2176 2005.38,95.2176 2005.38,198.898 \n",
       "  \"/>\n",
       "<path clip-path=\"url(#clip070)\" d=\"\n",
       "M2029.96 167.794 L2177.43 167.794 L2177.43 126.322 L2029.96 126.322 L2029.96 167.794  Z\n",
       "  \" fill=\"#009af9\" fill-rule=\"evenodd\" fill-opacity=\"1\"/>\n",
       "<polyline clip-path=\"url(#clip070)\" style=\"stroke:#000000; stroke-linecap:round; stroke-linejoin:round; stroke-width:4; stroke-opacity:1; fill:none\" points=\"\n",
       "  2029.96,167.794 2177.43,167.794 2177.43,126.322 2029.96,126.322 2029.96,167.794 \n",
       "  \"/>\n",
       "<path clip-path=\"url(#clip070)\" d=\"M2215.85 166.745 Q2214.05 171.375 2212.34 172.787 Q2210.62 174.199 2207.75 174.199 L2204.35 174.199 L2204.35 170.634 L2206.85 170.634 Q2208.61 170.634 2209.58 169.8 Q2210.55 168.967 2211.73 165.865 L2212.5 163.921 L2202.01 138.412 L2206.53 138.412 L2214.63 158.689 L2222.73 138.412 L2227.24 138.412 L2215.85 166.745 Z\" fill=\"#000000\" fill-rule=\"evenodd\" fill-opacity=\"1\" /><path clip-path=\"url(#clip070)\" d=\"M2234.53 160.402 L2242.17 160.402 L2242.17 134.037 L2233.86 135.703 L2233.86 131.444 L2242.13 129.778 L2246.8 129.778 L2246.8 160.402 L2254.44 160.402 L2254.44 164.338 L2234.53 164.338 L2234.53 160.402 Z\" fill=\"#000000\" fill-rule=\"evenodd\" fill-opacity=\"1\" /></svg>\n"
      ]
     },
     "execution_count": 32,
     "metadata": {},
     "output_type": "execute_result"
    }
   ],
   "source": [
    "sigma = 0.2\n",
    "# alpha = 1.0\n",
    "\n",
    "function random_walk(alpha)\n",
    "    x = [1.0]\n",
    "    t_max = 200\n",
    "    if x[end] <= 0\n",
    "        T_0 = 0\n",
    "    else\n",
    "        T_0 = Inf\n",
    "    end\n",
    "    for t in 1:t_max\n",
    "        append!(x, alpha * x[end] + sigma * randn())\n",
    "        if T_0 == Inf && x[end] <= 0\n",
    "            T_0 = t\n",
    "        end\n",
    "    end\n",
    "    x[end] = 0.0\n",
    "    return x, T_0\n",
    "end\n",
    "\n",
    "T_0_list = [random_walk(1.0)[2] for _ in 1:100]\n",
    "histogram(T_0_list)"
   ]
  },
  {
   "cell_type": "code",
   "execution_count": 37,
   "id": "4f698946",
   "metadata": {},
   "outputs": [
    {
     "name": "stdout",
     "output_type": "stream",
     "text": [
      "mean_T_0_alpha08 = 11.06\n",
      "mean_T_0_alpha10 = Inf\n",
      "mean_T_0_alpha12 = Inf\n"
     ]
    },
    {
     "data": {
      "text/plain": [
       "Inf"
      ]
     },
     "execution_count": 37,
     "metadata": {},
     "output_type": "execute_result"
    }
   ],
   "source": [
    "mean_T_0_alpha08 = mean([random_walk(0.8)[2] for _ in 1:100])\n",
    "mean_T_0_alpha10 = mean([random_walk(1.0)[2] for _ in 1:100])\n",
    "mean_T_0_alpha12 = mean([random_walk(1.2)[2] for _ in 1:100])\n",
    "\n",
    "@show mean_T_0_alpha08\n",
    "@show mean_T_0_alpha10\n",
    "@show mean_T_0_alpha12"
   ]
  },
  {
   "attachments": {},
   "cell_type": "markdown",
   "id": "aebfe8d0",
   "metadata": {},
   "source": [
    "### Exercise 8(a)\n",
    "\n",
    "This exercise is more challenging.\n",
    "\n",
    "The root of a univariate function $ f(\\cdot) $ is an $ x $ such that $ f(x) = 0 $.\n",
    "\n",
    "One solution method to find local roots of smooth functions is called Newton’s method.\n",
    "\n",
    "Starting with an $ x_0 $ guess, a function $ f(\\cdot) $ and the first-derivative $ f'(\\cdot) $, the algorithm is to repeat\n",
    "\n",
    "$$\n",
    "x^{n+1} = x^n - \\frac{f(x^n)}{f'(x^n)}\n",
    "$$\n",
    "\n",
    "until $ | x^{n+1} - x^n| $ is below a tolerance\n",
    "\n",
    "1. Use a variation of the `fixedpointmap` code to implement Newton’s method, where the function would accept arguments `f, f_prime, x_0, tolerance, maxiter`.  \n",
    "1. Test it with $ f(x) = (x-1)^3 $ and another function of your choice where you can analytically find the derivative.  "
   ]
  },
  {
   "cell_type": "code",
   "execution_count": 1,
   "id": "28b54bca",
   "metadata": {},
   "outputs": [
    {
     "data": {
      "text/plain": [
       "f (generic function with 1 method)"
      ]
     },
     "execution_count": 1,
     "metadata": {},
     "output_type": "execute_result"
    }
   ],
   "source": [
    "function newtonsmethod(f, f_prime, x_0; tolerance=1E-7, maxiter=1000)\n",
    "    x_old = x_0\n",
    "    normdiff = Inf\n",
    "    iter = 1\n",
    "    while normdiff > tolerance && iter <= maxiter\n",
    "        x_new = x_old - f(x_old) / (f_prime(x_old)+eps())\n",
    "        normdiff = norm(x_new-x_old)\n",
    "        x_old = x_new\n",
    "        iter += 1\n",
    "    end\n",
    "    return (;value = x_old, normdiff, iter)\n",
    "end\n",
    "\n",
    "f(x) = (x-1)^3\n",
    "# f_prime(x) = 3(x-1)^2\n",
    "# newtonsmethod(f, f_prime, 6)"
   ]
  },
  {
   "attachments": {},
   "cell_type": "markdown",
   "id": "0a34a6b4",
   "metadata": {},
   "source": [
    "### Exercise 8(b)\n",
    "\n",
    "For those impatient to use more advanced features of Julia, implement a version of Exercise 8(a) where `f_prime` is calculated with auto-differentiation."
   ]
  },
  {
   "cell_type": "code",
   "execution_count": 6,
   "id": "0534a83f",
   "metadata": {
    "hide-output": false
   },
   "outputs": [
    {
     "data": {
      "text/plain": [
       "(value = 8.940696727410821e-8, normdiff = 8.940696716308591e-8, iter = 27)"
      ]
     },
     "execution_count": 6,
     "metadata": {},
     "output_type": "execute_result"
    }
   ],
   "source": [
    "using ForwardDiff\n",
    "\n",
    "# operator to get the derivative of this function using AD\n",
    "D(f) = x -> ForwardDiff.derivative(f, x)\n",
    "\n",
    "# example usage: create a function and get the derivative\n",
    "f(x) = x^2\n",
    "f_prime = D(f)\n",
    "\n",
    "f(0.1), f_prime(0.1)\n",
    "newtonsmethod(f, f_prime, 6)"
   ]
  },
  {
   "attachments": {},
   "cell_type": "markdown",
   "id": "bab66dca",
   "metadata": {},
   "source": [
    "1. Using the `D(f)` operator definition above, implement a version of Newton’s method that does not require the user to provide an analytical derivative.  \n",
    "1. Test the sorts of `f` functions which can be automatically integrated by `ForwardDff.jl`.  "
   ]
  },
  {
   "cell_type": "code",
   "execution_count": 9,
   "id": "afaf64c9",
   "metadata": {},
   "outputs": [
    {
     "data": {
      "text/plain": [
       "(value = 0.9999998641255449, normdiff = 6.775581296025734e-8, iter = 40)"
      ]
     },
     "execution_count": 9,
     "metadata": {},
     "output_type": "execute_result"
    }
   ],
   "source": [
    "function newtonsmethod(f, x_0; tolerance=1E-7, maxiter=1000)\n",
    "    f_prime = x -> ForwardDiff.derivative(f, x)\n",
    "    x_old = x_0\n",
    "    normdiff = Inf\n",
    "    iter = 1\n",
    "    while normdiff > tolerance && iter <= maxiter\n",
    "        x_new = x_old - f(x_old) / (f_prime(x_old)+eps())\n",
    "        normdiff = norm(x_new-x_old)\n",
    "        x_old = x_new\n",
    "        iter += 1\n",
    "    end\n",
    "    return (;value = x_old, normdiff, iter)\n",
    "end\n",
    "\n",
    "f(x) = (x-1)^3\n",
    "newtonsmethod(f, 0)"
   ]
  },
  {
   "attachments": {},
   "cell_type": "markdown",
   "id": "d65126bb",
   "metadata": {},
   "source": [
    "## Solutions"
   ]
  },
  {
   "attachments": {},
   "cell_type": "markdown",
   "id": "0a9f09be",
   "metadata": {},
   "source": [
    "### Exercise 1"
   ]
  },
  {
   "cell_type": "code",
   "execution_count": null,
   "id": "e7daa9c0",
   "metadata": {
    "hide-output": false
   },
   "outputs": [],
   "source": [
    "function factorial2(n)\n",
    "    k = 1\n",
    "    for i in 1:n\n",
    "        k *= i  # or k = k * i\n",
    "    end\n",
    "    return k\n",
    "end\n",
    "\n",
    "factorial2(4)"
   ]
  },
  {
   "cell_type": "code",
   "execution_count": null,
   "id": "45a1f37d",
   "metadata": {
    "hide-output": false
   },
   "outputs": [],
   "source": [
    "factorial2(4) == factorial(4) # built-in function"
   ]
  },
  {
   "attachments": {},
   "cell_type": "markdown",
   "id": "1b5e9176",
   "metadata": {},
   "source": [
    "### Exercise 2"
   ]
  },
  {
   "cell_type": "code",
   "execution_count": 42,
   "id": "18846793",
   "metadata": {
    "hide-output": false
   },
   "outputs": [
    {
     "name": "stdout",
     "output_type": "stream",
     "text": [
      "6, 4, 1, 6, 6, 5, 4, 3, 5, 6, 2, 5, 6, 6, 3, 3, 4, 4, 2, 7, 5, 5, 4, 4, 8, "
     ]
    }
   ],
   "source": [
    "function binomial_rv(n, p)\n",
    "    count = 0\n",
    "    U = rand(n)\n",
    "    for i in 1:n\n",
    "        if U[i] < p\n",
    "            count += 1 # or count = count + 1\n",
    "        end\n",
    "    end\n",
    "    return count\n",
    "end\n",
    "\n",
    "for j in 1:25\n",
    "    b = binomial_rv(10, 0.5)\n",
    "    print(\"$b, \")\n",
    "end"
   ]
  },
  {
   "attachments": {},
   "cell_type": "markdown",
   "id": "9f949e8d",
   "metadata": {},
   "source": [
    "### Exercise 3\n",
    "\n",
    "Consider a circle with diameter 1 embedded in a unit square.\n",
    "\n",
    "Let $ A $ be its area and let $ r = 1/2 $ be its radius.\n",
    "\n",
    "If we know $ \\pi $ then we can compute $ A $ via\n",
    "$ A = \\pi r^2 $.\n",
    "\n",
    "But the point here is to compute $ \\pi $, which we can do by\n",
    "$ \\pi = A / r^2 $.\n",
    "\n",
    "Summary: If we can estimate the area of the unit circle, then dividing\n",
    "by $ r^2 = (1/2)^2 = 1/4 $ gives an estimate of $ \\pi $.\n",
    "\n",
    "We estimate the area by sampling bivariate uniforms and looking at the\n",
    "fraction that fall into the unit circle."
   ]
  },
  {
   "cell_type": "code",
   "execution_count": 45,
   "id": "e34377e5",
   "metadata": {
    "hide-output": false
   },
   "outputs": [
    {
     "name": "stdout",
     "output_type": "stream",
     "text": [
      "3.139544"
     ]
    }
   ],
   "source": [
    "n = 1000000\n",
    "count = 0\n",
    "for i in 1:n\n",
    "    u, v = rand(2)\n",
    "    d = sqrt((u - 0.5)^2 + (v - 0.5)^2)  # distance from middle of square\n",
    "    if d < 0.5\n",
    "        count += 1\n",
    "    end\n",
    "end\n",
    "\n",
    "area_estimate = count / n\n",
    "\n",
    "print(area_estimate * 4)  # dividing by radius**2"
   ]
  },
  {
   "attachments": {},
   "cell_type": "markdown",
   "id": "68e1596c",
   "metadata": {},
   "source": [
    "### Exercise 4"
   ]
  },
  {
   "cell_type": "code",
   "execution_count": null,
   "id": "ce2d1896",
   "metadata": {
    "hide-output": false
   },
   "outputs": [],
   "source": [
    "payoff = 0\n",
    "count = 0\n",
    "\n",
    "print(\"Count = \")\n",
    "\n",
    "for i in 1:10\n",
    "    U = rand()\n",
    "    if U < 0.5\n",
    "        count += 1\n",
    "    else\n",
    "        count = 0\n",
    "    end\n",
    "    print(count)\n",
    "    if count == 3\n",
    "        payoff = 1\n",
    "    end\n",
    "end\n",
    "println(\"\\npayoff = $payoff\")"
   ]
  },
  {
   "attachments": {},
   "cell_type": "markdown",
   "id": "4a190362",
   "metadata": {},
   "source": [
    "We can simplify this somewhat using the **ternary operator**. Here are\n",
    "some examples"
   ]
  },
  {
   "cell_type": "code",
   "execution_count": null,
   "id": "0836cf9f",
   "metadata": {
    "hide-output": false
   },
   "outputs": [],
   "source": [
    "a = 1  < 2 ? \"foo\" : \"bar\""
   ]
  },
  {
   "cell_type": "code",
   "execution_count": null,
   "id": "7bfbae34",
   "metadata": {
    "hide-output": false
   },
   "outputs": [],
   "source": [
    "a = 1 > 2 ? \"foo\" : \"bar\""
   ]
  },
  {
   "attachments": {},
   "cell_type": "markdown",
   "id": "dd6b65ea",
   "metadata": {},
   "source": [
    "Using this construction:"
   ]
  },
  {
   "cell_type": "code",
   "execution_count": null,
   "id": "4b0f5af4",
   "metadata": {
    "hide-output": false
   },
   "outputs": [],
   "source": [
    "payoff = 0.0\n",
    "count = 0.0\n",
    "\n",
    "print(\"Count = \")\n",
    "\n",
    "for i in 1:10\n",
    "    U = rand()\n",
    "    count = U < 0.5 ? count + 1 : 0\n",
    "    print(count)\n",
    "    if count == 3\n",
    "        payoff = 1\n",
    "    end\n",
    "end\n",
    "println(\"\\npayoff = $payoff\")"
   ]
  },
  {
   "attachments": {},
   "cell_type": "markdown",
   "id": "5a63d63f",
   "metadata": {},
   "source": [
    "### Exercise 5\n",
    "\n",
    "Here’s one solution"
   ]
  },
  {
   "cell_type": "code",
   "execution_count": null,
   "id": "1b8f717e",
   "metadata": {
    "hide-output": false
   },
   "outputs": [],
   "source": [
    "using Plots\n",
    "α = 0.9\n",
    "n = 200\n",
    "x = zeros(n + 1)\n",
    "\n",
    "for t in 1:n\n",
    "    x[t+1] = α * x[t] + randn()\n",
    "end\n",
    "plot(x)"
   ]
  },
  {
   "attachments": {},
   "cell_type": "markdown",
   "id": "80031639",
   "metadata": {},
   "source": [
    "### Exercise 6"
   ]
  },
  {
   "cell_type": "code",
   "execution_count": 9,
   "id": "2c3706ab",
   "metadata": {
    "hide-output": false
   },
   "outputs": [
    {
     "data": {
      "image/svg+xml": [
       "<?xml version=\"1.0\" encoding=\"utf-8\"?>\n",
       "<svg xmlns=\"http://www.w3.org/2000/svg\" xmlns:xlink=\"http://www.w3.org/1999/xlink\" width=\"600\" height=\"400\" viewBox=\"0 0 2400 1600\">\n",
       "<defs>\n",
       "  <clipPath id=\"clip550\">\n",
       "    <rect x=\"0\" y=\"0\" width=\"2400\" height=\"1600\"/>\n",
       "  </clipPath>\n",
       "</defs>\n",
       "<path clip-path=\"url(#clip550)\" d=\"\n",
       "M0 1600 L2400 1600 L2400 0 L0 0  Z\n",
       "  \" fill=\"#ffffff\" fill-rule=\"evenodd\" fill-opacity=\"1\"/>\n",
       "<defs>\n",
       "  <clipPath id=\"clip551\">\n",
       "    <rect x=\"480\" y=\"0\" width=\"1681\" height=\"1600\"/>\n",
       "  </clipPath>\n",
       "</defs>\n",
       "<path clip-path=\"url(#clip550)\" d=\"\n",
       "M147.709 1486.45 L2352.76 1486.45 L2352.76 47.2441 L147.709 47.2441  Z\n",
       "  \" fill=\"#ffffff\" fill-rule=\"evenodd\" fill-opacity=\"1\"/>\n",
       "<defs>\n",
       "  <clipPath id=\"clip552\">\n",
       "    <rect x=\"147\" y=\"47\" width=\"2206\" height=\"1440\"/>\n",
       "  </clipPath>\n",
       "</defs>\n",
       "<polyline clip-path=\"url(#clip552)\" style=\"stroke:#000000; stroke-linecap:round; stroke-linejoin:round; stroke-width:2; stroke-opacity:0.1; fill:none\" points=\"\n",
       "  199.715,1486.45 199.715,47.2441 \n",
       "  \"/>\n",
       "<polyline clip-path=\"url(#clip552)\" style=\"stroke:#000000; stroke-linecap:round; stroke-linejoin:round; stroke-width:2; stroke-opacity:0.1; fill:none\" points=\"\n",
       "  719.773,1486.45 719.773,47.2441 \n",
       "  \"/>\n",
       "<polyline clip-path=\"url(#clip552)\" style=\"stroke:#000000; stroke-linecap:round; stroke-linejoin:round; stroke-width:2; stroke-opacity:0.1; fill:none\" points=\"\n",
       "  1239.83,1486.45 1239.83,47.2441 \n",
       "  \"/>\n",
       "<polyline clip-path=\"url(#clip552)\" style=\"stroke:#000000; stroke-linecap:round; stroke-linejoin:round; stroke-width:2; stroke-opacity:0.1; fill:none\" points=\"\n",
       "  1759.89,1486.45 1759.89,47.2441 \n",
       "  \"/>\n",
       "<polyline clip-path=\"url(#clip552)\" style=\"stroke:#000000; stroke-linecap:round; stroke-linejoin:round; stroke-width:2; stroke-opacity:0.1; fill:none\" points=\"\n",
       "  2279.95,1486.45 2279.95,47.2441 \n",
       "  \"/>\n",
       "<polyline clip-path=\"url(#clip550)\" style=\"stroke:#000000; stroke-linecap:round; stroke-linejoin:round; stroke-width:4; stroke-opacity:1; fill:none\" points=\"\n",
       "  147.709,1486.45 2352.76,1486.45 \n",
       "  \"/>\n",
       "<polyline clip-path=\"url(#clip550)\" style=\"stroke:#000000; stroke-linecap:round; stroke-linejoin:round; stroke-width:4; stroke-opacity:1; fill:none\" points=\"\n",
       "  199.715,1486.45 199.715,1467.55 \n",
       "  \"/>\n",
       "<polyline clip-path=\"url(#clip550)\" style=\"stroke:#000000; stroke-linecap:round; stroke-linejoin:round; stroke-width:4; stroke-opacity:1; fill:none\" points=\"\n",
       "  719.773,1486.45 719.773,1467.55 \n",
       "  \"/>\n",
       "<polyline clip-path=\"url(#clip550)\" style=\"stroke:#000000; stroke-linecap:round; stroke-linejoin:round; stroke-width:4; stroke-opacity:1; fill:none\" points=\"\n",
       "  1239.83,1486.45 1239.83,1467.55 \n",
       "  \"/>\n",
       "<polyline clip-path=\"url(#clip550)\" style=\"stroke:#000000; stroke-linecap:round; stroke-linejoin:round; stroke-width:4; stroke-opacity:1; fill:none\" points=\"\n",
       "  1759.89,1486.45 1759.89,1467.55 \n",
       "  \"/>\n",
       "<polyline clip-path=\"url(#clip550)\" style=\"stroke:#000000; stroke-linecap:round; stroke-linejoin:round; stroke-width:4; stroke-opacity:1; fill:none\" points=\"\n",
       "  2279.95,1486.45 2279.95,1467.55 \n",
       "  \"/>\n",
       "<path clip-path=\"url(#clip550)\" d=\"M199.715 1517.37 Q196.104 1517.37 194.275 1520.93 Q192.47 1524.47 192.47 1531.6 Q192.47 1538.71 194.275 1542.27 Q196.104 1545.82 199.715 1545.82 Q203.349 1545.82 205.155 1542.27 Q206.984 1538.71 206.984 1531.6 Q206.984 1524.47 205.155 1520.93 Q203.349 1517.37 199.715 1517.37 M199.715 1513.66 Q205.525 1513.66 208.581 1518.27 Q211.66 1522.85 211.66 1531.6 Q211.66 1540.33 208.581 1544.94 Q205.525 1549.52 199.715 1549.52 Q193.905 1549.52 190.826 1544.94 Q187.771 1540.33 187.771 1531.6 Q187.771 1522.85 190.826 1518.27 Q193.905 1513.66 199.715 1513.66 Z\" fill=\"#000000\" fill-rule=\"evenodd\" fill-opacity=\"1\" /><path clip-path=\"url(#clip550)\" d=\"M694.473 1514.29 L712.829 1514.29 L712.829 1518.22 L698.755 1518.22 L698.755 1526.7 Q699.773 1526.35 700.792 1526.19 Q701.81 1526 702.829 1526 Q708.616 1526 711.996 1529.17 Q715.375 1532.34 715.375 1537.76 Q715.375 1543.34 711.903 1546.44 Q708.431 1549.52 702.111 1549.52 Q699.935 1549.52 697.667 1549.15 Q695.422 1548.78 693.014 1548.04 L693.014 1543.34 Q695.098 1544.47 697.32 1545.03 Q699.542 1545.58 702.019 1545.58 Q706.023 1545.58 708.361 1543.48 Q710.699 1541.37 710.699 1537.76 Q710.699 1534.15 708.361 1532.04 Q706.023 1529.94 702.019 1529.94 Q700.144 1529.94 698.269 1530.35 Q696.417 1530.77 694.473 1531.65 L694.473 1514.29 Z\" fill=\"#000000\" fill-rule=\"evenodd\" fill-opacity=\"1\" /><path clip-path=\"url(#clip550)\" d=\"M734.588 1517.37 Q730.977 1517.37 729.148 1520.93 Q727.343 1524.47 727.343 1531.6 Q727.343 1538.71 729.148 1542.27 Q730.977 1545.82 734.588 1545.82 Q738.222 1545.82 740.028 1542.27 Q741.857 1538.71 741.857 1531.6 Q741.857 1524.47 740.028 1520.93 Q738.222 1517.37 734.588 1517.37 M734.588 1513.66 Q740.398 1513.66 743.454 1518.27 Q746.532 1522.85 746.532 1531.6 Q746.532 1540.33 743.454 1544.94 Q740.398 1549.52 734.588 1549.52 Q728.778 1549.52 725.699 1544.94 Q722.644 1540.33 722.644 1531.6 Q722.644 1522.85 725.699 1518.27 Q728.778 1513.66 734.588 1513.66 Z\" fill=\"#000000\" fill-rule=\"evenodd\" fill-opacity=\"1\" /><path clip-path=\"url(#clip550)\" d=\"M1199.44 1544.91 L1207.08 1544.91 L1207.08 1518.55 L1198.77 1520.21 L1198.77 1515.95 L1207.03 1514.29 L1211.71 1514.29 L1211.71 1544.91 L1219.35 1544.91 L1219.35 1548.85 L1199.44 1548.85 L1199.44 1544.91 Z\" fill=\"#000000\" fill-rule=\"evenodd\" fill-opacity=\"1\" /><path clip-path=\"url(#clip550)\" d=\"M1238.79 1517.37 Q1235.18 1517.37 1233.35 1520.93 Q1231.54 1524.47 1231.54 1531.6 Q1231.54 1538.71 1233.35 1542.27 Q1235.18 1545.82 1238.79 1545.82 Q1242.42 1545.82 1244.23 1542.27 Q1246.06 1538.71 1246.06 1531.6 Q1246.06 1524.47 1244.23 1520.93 Q1242.42 1517.37 1238.79 1517.37 M1238.79 1513.66 Q1244.6 1513.66 1247.66 1518.27 Q1250.73 1522.85 1250.73 1531.6 Q1250.73 1540.33 1247.66 1544.94 Q1244.6 1549.52 1238.79 1549.52 Q1232.98 1549.52 1229.9 1544.94 Q1226.85 1540.33 1226.85 1531.6 Q1226.85 1522.85 1229.9 1518.27 Q1232.98 1513.66 1238.79 1513.66 Z\" fill=\"#000000\" fill-rule=\"evenodd\" fill-opacity=\"1\" /><path clip-path=\"url(#clip550)\" d=\"M1268.95 1517.37 Q1265.34 1517.37 1263.51 1520.93 Q1261.71 1524.47 1261.71 1531.6 Q1261.71 1538.71 1263.51 1542.27 Q1265.34 1545.82 1268.95 1545.82 Q1272.59 1545.82 1274.39 1542.27 Q1276.22 1538.71 1276.22 1531.6 Q1276.22 1524.47 1274.39 1520.93 Q1272.59 1517.37 1268.95 1517.37 M1268.95 1513.66 Q1274.76 1513.66 1277.82 1518.27 Q1280.9 1522.85 1280.9 1531.6 Q1280.9 1540.33 1277.82 1544.94 Q1274.76 1549.52 1268.95 1549.52 Q1263.14 1549.52 1260.06 1544.94 Q1257.01 1540.33 1257.01 1531.6 Q1257.01 1522.85 1260.06 1518.27 Q1263.14 1513.66 1268.95 1513.66 Z\" fill=\"#000000\" fill-rule=\"evenodd\" fill-opacity=\"1\" /><path clip-path=\"url(#clip550)\" d=\"M1719.5 1544.91 L1727.14 1544.91 L1727.14 1518.55 L1718.83 1520.21 L1718.83 1515.95 L1727.09 1514.29 L1731.76 1514.29 L1731.76 1544.91 L1739.4 1544.91 L1739.4 1548.85 L1719.5 1548.85 L1719.5 1544.91 Z\" fill=\"#000000\" fill-rule=\"evenodd\" fill-opacity=\"1\" /><path clip-path=\"url(#clip550)\" d=\"M1748.89 1514.29 L1767.25 1514.29 L1767.25 1518.22 L1753.18 1518.22 L1753.18 1526.7 Q1754.2 1526.35 1755.21 1526.19 Q1756.23 1526 1757.25 1526 Q1763.04 1526 1766.42 1529.17 Q1769.8 1532.34 1769.8 1537.76 Q1769.8 1543.34 1766.32 1546.44 Q1762.85 1549.52 1756.53 1549.52 Q1754.36 1549.52 1752.09 1549.15 Q1749.84 1548.78 1747.44 1548.04 L1747.44 1543.34 Q1749.52 1544.47 1751.74 1545.03 Q1753.96 1545.58 1756.44 1545.58 Q1760.45 1545.58 1762.78 1543.48 Q1765.12 1541.37 1765.12 1537.76 Q1765.12 1534.15 1762.78 1532.04 Q1760.45 1529.94 1756.44 1529.94 Q1754.57 1529.94 1752.69 1530.35 Q1750.84 1530.77 1748.89 1531.65 L1748.89 1514.29 Z\" fill=\"#000000\" fill-rule=\"evenodd\" fill-opacity=\"1\" /><path clip-path=\"url(#clip550)\" d=\"M1789.01 1517.37 Q1785.4 1517.37 1783.57 1520.93 Q1781.76 1524.47 1781.76 1531.6 Q1781.76 1538.71 1783.57 1542.27 Q1785.4 1545.82 1789.01 1545.82 Q1792.64 1545.82 1794.45 1542.27 Q1796.28 1538.71 1796.28 1531.6 Q1796.28 1524.47 1794.45 1520.93 Q1792.64 1517.37 1789.01 1517.37 M1789.01 1513.66 Q1794.82 1513.66 1797.88 1518.27 Q1800.95 1522.85 1800.95 1531.6 Q1800.95 1540.33 1797.88 1544.94 Q1794.82 1549.52 1789.01 1549.52 Q1783.2 1549.52 1780.12 1544.94 Q1777.07 1540.33 1777.07 1531.6 Q1777.07 1522.85 1780.12 1518.27 Q1783.2 1513.66 1789.01 1513.66 Z\" fill=\"#000000\" fill-rule=\"evenodd\" fill-opacity=\"1\" /><path clip-path=\"url(#clip550)\" d=\"M2243.64 1544.91 L2259.96 1544.91 L2259.96 1548.85 L2238.02 1548.85 L2238.02 1544.91 Q2240.68 1542.16 2245.26 1537.53 Q2249.87 1532.88 2251.05 1531.53 Q2253.29 1529.01 2254.17 1527.27 Q2255.08 1525.51 2255.08 1523.82 Q2255.08 1521.07 2253.13 1519.33 Q2251.21 1517.6 2248.11 1517.6 Q2245.91 1517.6 2243.45 1518.36 Q2241.02 1519.13 2238.25 1520.68 L2238.25 1515.95 Q2241.07 1514.82 2243.52 1514.24 Q2245.98 1513.66 2248.02 1513.66 Q2253.39 1513.66 2256.58 1516.35 Q2259.77 1519.03 2259.77 1523.52 Q2259.77 1525.65 2258.96 1527.57 Q2258.18 1529.47 2256.07 1532.07 Q2255.49 1532.74 2252.39 1535.95 Q2249.29 1539.15 2243.64 1544.91 Z\" fill=\"#000000\" fill-rule=\"evenodd\" fill-opacity=\"1\" /><path clip-path=\"url(#clip550)\" d=\"M2279.77 1517.37 Q2276.16 1517.37 2274.33 1520.93 Q2272.53 1524.47 2272.53 1531.6 Q2272.53 1538.71 2274.33 1542.27 Q2276.16 1545.82 2279.77 1545.82 Q2283.41 1545.82 2285.21 1542.27 Q2287.04 1538.71 2287.04 1531.6 Q2287.04 1524.47 2285.21 1520.93 Q2283.41 1517.37 2279.77 1517.37 M2279.77 1513.66 Q2285.58 1513.66 2288.64 1518.27 Q2291.72 1522.85 2291.72 1531.6 Q2291.72 1540.33 2288.64 1544.94 Q2285.58 1549.52 2279.77 1549.52 Q2273.96 1549.52 2270.89 1544.94 Q2267.83 1540.33 2267.83 1531.6 Q2267.83 1522.85 2270.89 1518.27 Q2273.96 1513.66 2279.77 1513.66 Z\" fill=\"#000000\" fill-rule=\"evenodd\" fill-opacity=\"1\" /><path clip-path=\"url(#clip550)\" d=\"M2309.94 1517.37 Q2306.32 1517.37 2304.5 1520.93 Q2302.69 1524.47 2302.69 1531.6 Q2302.69 1538.71 2304.5 1542.27 Q2306.32 1545.82 2309.94 1545.82 Q2313.57 1545.82 2315.38 1542.27 Q2317.2 1538.71 2317.2 1531.6 Q2317.2 1524.47 2315.38 1520.93 Q2313.57 1517.37 2309.94 1517.37 M2309.94 1513.66 Q2315.75 1513.66 2318.8 1518.27 Q2321.88 1522.85 2321.88 1531.6 Q2321.88 1540.33 2318.8 1544.94 Q2315.75 1549.52 2309.94 1549.52 Q2304.13 1549.52 2301.05 1544.94 Q2297.99 1540.33 2297.99 1531.6 Q2297.99 1522.85 2301.05 1518.27 Q2304.13 1513.66 2309.94 1513.66 Z\" fill=\"#000000\" fill-rule=\"evenodd\" fill-opacity=\"1\" /><polyline clip-path=\"url(#clip552)\" style=\"stroke:#000000; stroke-linecap:round; stroke-linejoin:round; stroke-width:2; stroke-opacity:0.1; fill:none\" points=\"\n",
       "  147.709,1359.52 2352.76,1359.52 \n",
       "  \"/>\n",
       "<polyline clip-path=\"url(#clip552)\" style=\"stroke:#000000; stroke-linecap:round; stroke-linejoin:round; stroke-width:2; stroke-opacity:0.1; fill:none\" points=\"\n",
       "  147.709,950.668 2352.76,950.668 \n",
       "  \"/>\n",
       "<polyline clip-path=\"url(#clip552)\" style=\"stroke:#000000; stroke-linecap:round; stroke-linejoin:round; stroke-width:2; stroke-opacity:0.1; fill:none\" points=\"\n",
       "  147.709,541.819 2352.76,541.819 \n",
       "  \"/>\n",
       "<polyline clip-path=\"url(#clip552)\" style=\"stroke:#000000; stroke-linecap:round; stroke-linejoin:round; stroke-width:2; stroke-opacity:0.1; fill:none\" points=\"\n",
       "  147.709,132.97 2352.76,132.97 \n",
       "  \"/>\n",
       "<polyline clip-path=\"url(#clip550)\" style=\"stroke:#000000; stroke-linecap:round; stroke-linejoin:round; stroke-width:4; stroke-opacity:1; fill:none\" points=\"\n",
       "  147.709,1486.45 147.709,47.2441 \n",
       "  \"/>\n",
       "<polyline clip-path=\"url(#clip550)\" style=\"stroke:#000000; stroke-linecap:round; stroke-linejoin:round; stroke-width:4; stroke-opacity:1; fill:none\" points=\"\n",
       "  147.709,1359.52 166.607,1359.52 \n",
       "  \"/>\n",
       "<polyline clip-path=\"url(#clip550)\" style=\"stroke:#000000; stroke-linecap:round; stroke-linejoin:round; stroke-width:4; stroke-opacity:1; fill:none\" points=\"\n",
       "  147.709,950.668 166.607,950.668 \n",
       "  \"/>\n",
       "<polyline clip-path=\"url(#clip550)\" style=\"stroke:#000000; stroke-linecap:round; stroke-linejoin:round; stroke-width:4; stroke-opacity:1; fill:none\" points=\"\n",
       "  147.709,541.819 166.607,541.819 \n",
       "  \"/>\n",
       "<polyline clip-path=\"url(#clip550)\" style=\"stroke:#000000; stroke-linecap:round; stroke-linejoin:round; stroke-width:4; stroke-opacity:1; fill:none\" points=\"\n",
       "  147.709,132.97 166.607,132.97 \n",
       "  \"/>\n",
       "<path clip-path=\"url(#clip550)\" d=\"M50.9921 1359.97 L80.6679 1359.97 L80.6679 1363.9 L50.9921 1363.9 L50.9921 1359.97 Z\" fill=\"#000000\" fill-rule=\"evenodd\" fill-opacity=\"1\" /><path clip-path=\"url(#clip550)\" d=\"M90.8067 1342.24 L109.163 1342.24 L109.163 1346.17 L95.0891 1346.17 L95.0891 1354.64 Q96.1076 1354.3 97.1261 1354.14 Q98.1447 1353.95 99.1632 1353.95 Q104.95 1353.95 108.33 1357.12 Q111.709 1360.29 111.709 1365.71 Q111.709 1371.29 108.237 1374.39 Q104.765 1377.47 98.4456 1377.47 Q96.2697 1377.47 94.0012 1377.1 Q91.7558 1376.73 89.3484 1375.99 L89.3484 1371.29 Q91.4317 1372.42 93.6539 1372.98 Q95.8761 1373.53 98.353 1373.53 Q102.358 1373.53 104.696 1371.43 Q107.033 1369.32 107.033 1365.71 Q107.033 1362.1 104.696 1359.99 Q102.358 1357.89 98.353 1357.89 Q96.478 1357.89 94.603 1358.3 Q92.7512 1358.72 90.8067 1359.6 L90.8067 1342.24 Z\" fill=\"#000000\" fill-rule=\"evenodd\" fill-opacity=\"1\" /><path clip-path=\"url(#clip550)\" d=\"M99.765 936.467 Q96.1539 936.467 94.3252 940.032 Q92.5197 943.573 92.5197 950.703 Q92.5197 957.809 94.3252 961.374 Q96.1539 964.916 99.765 964.916 Q103.399 964.916 105.205 961.374 Q107.033 957.809 107.033 950.703 Q107.033 943.573 105.205 940.032 Q103.399 936.467 99.765 936.467 M99.765 932.763 Q105.575 932.763 108.631 937.37 Q111.709 941.953 111.709 950.703 Q111.709 959.43 108.631 964.036 Q105.575 968.619 99.765 968.619 Q93.9549 968.619 90.8762 964.036 Q87.8206 959.43 87.8206 950.703 Q87.8206 941.953 90.8762 937.37 Q93.9549 932.763 99.765 932.763 Z\" fill=\"#000000\" fill-rule=\"evenodd\" fill-opacity=\"1\" /><path clip-path=\"url(#clip550)\" d=\"M90.8067 524.539 L109.163 524.539 L109.163 528.474 L95.0891 528.474 L95.0891 536.947 Q96.1076 536.599 97.1261 536.437 Q98.1447 536.252 99.1632 536.252 Q104.95 536.252 108.33 539.423 Q111.709 542.595 111.709 548.011 Q111.709 553.59 108.237 556.692 Q104.765 559.77 98.4456 559.77 Q96.2697 559.77 94.0012 559.4 Q91.7558 559.03 89.3484 558.289 L89.3484 553.59 Q91.4317 554.724 93.6539 555.28 Q95.8761 555.835 98.353 555.835 Q102.358 555.835 104.696 553.729 Q107.033 551.622 107.033 548.011 Q107.033 544.4 104.696 542.294 Q102.358 540.187 98.353 540.187 Q96.478 540.187 94.603 540.604 Q92.7512 541.021 90.8067 541.9 L90.8067 524.539 Z\" fill=\"#000000\" fill-rule=\"evenodd\" fill-opacity=\"1\" /><path clip-path=\"url(#clip550)\" d=\"M60.4134 146.315 L68.0522 146.315 L68.0522 119.949 L59.7421 121.616 L59.7421 117.357 L68.0059 115.69 L72.6818 115.69 L72.6818 146.315 L80.3207 146.315 L80.3207 150.25 L60.4134 150.25 L60.4134 146.315 Z\" fill=\"#000000\" fill-rule=\"evenodd\" fill-opacity=\"1\" /><path clip-path=\"url(#clip550)\" d=\"M99.765 118.769 Q96.1539 118.769 94.3252 122.334 Q92.5197 125.875 92.5197 133.005 Q92.5197 140.111 94.3252 143.676 Q96.1539 147.218 99.765 147.218 Q103.399 147.218 105.205 143.676 Q107.033 140.111 107.033 133.005 Q107.033 125.875 105.205 122.334 Q103.399 118.769 99.765 118.769 M99.765 115.065 Q105.575 115.065 108.631 119.672 Q111.709 124.255 111.709 133.005 Q111.709 141.732 108.631 146.338 Q105.575 150.921 99.765 150.921 Q93.9549 150.921 90.8762 146.338 Q87.8206 141.732 87.8206 133.005 Q87.8206 124.255 90.8762 119.672 Q93.9549 115.065 99.765 115.065 Z\" fill=\"#000000\" fill-rule=\"evenodd\" fill-opacity=\"1\" /><polyline clip-path=\"url(#clip552)\" style=\"stroke:#009af9; stroke-linecap:round; stroke-linejoin:round; stroke-width:4; stroke-opacity:1; fill:none\" points=\"\n",
       "  210.116,950.668 220.518,941.378 230.919,1164.63 241.32,930.425 251.721,853.323 262.122,935.215 272.523,1030.41 282.925,963.472 293.326,885.726 303.727,954.119 \n",
       "  314.128,971.686 324.529,986.094 334.93,999.704 345.331,1022.14 355.733,967.152 366.134,1028.67 376.535,904.658 386.936,847.72 397.337,903.977 407.738,866.86 \n",
       "  418.14,1052.77 428.541,947.651 438.942,1158.58 449.343,1026.38 459.744,995.923 470.145,1058.38 480.547,873.771 490.948,931.167 501.349,936.967 511.75,853.143 \n",
       "  522.151,789.102 532.552,940.701 542.954,865.2 553.355,1089.28 563.756,876.709 574.157,829.205 584.558,910.228 594.959,831.693 605.361,862.395 615.762,888.484 \n",
       "  626.163,1090.02 636.564,1086.55 646.965,962.696 657.366,792.651 667.768,957.23 678.169,964.024 688.57,966.469 698.971,985.722 709.372,981.716 719.773,1064.48 \n",
       "  730.175,1149.09 740.576,994.019 750.977,934.367 761.378,891.385 771.779,936.3 782.18,1007.01 792.581,974.589 802.983,874.681 813.384,897.476 823.785,896.444 \n",
       "  834.186,892.938 844.587,926.458 854.988,1018.36 865.39,1002.39 875.791,1136.15 886.192,854.085 896.593,1075.61 906.994,986.434 917.395,1052.82 927.797,992.729 \n",
       "  938.198,898.567 948.599,874.405 959,923.201 969.401,932.886 979.802,960.553 990.204,1097 1000.6,894.583 1011.01,1041.38 1021.41,1033.36 1031.81,937.933 \n",
       "  1042.21,881.167 1052.61,957.337 1063.01,857.787 1073.41,902.157 1083.81,970.196 1094.22,906.492 1104.62,1001.14 1115.02,853.601 1125.42,941.372 1135.82,962.051 \n",
       "  1146.22,940.645 1156.62,1128.1 1167.02,1027.71 1177.42,854.814 1187.83,1022.4 1198.23,1000.29 1208.63,929.622 1219.03,897.086 1229.43,929.151 1239.83,918.49 \n",
       "  1250.23,1027.39 1260.63,898.691 1271.03,990.598 1281.44,957.853 1291.84,960.968 1302.24,884.622 1312.64,797.718 1323.04,896.312 1333.44,962.415 1343.84,853.539 \n",
       "  1354.24,1050.4 1364.65,801.882 1375.05,982.826 1385.45,972.887 1395.85,1002.72 1406.25,933.6 1416.65,1003.65 1427.05,1132.57 1437.45,910.602 1447.85,781.747 \n",
       "  1458.26,962.642 1468.66,925.377 1479.06,917.472 1489.46,1038.86 1499.86,996.818 1510.26,929.563 1520.66,852.426 1531.06,865.368 1541.47,927.026 1551.87,973.26 \n",
       "  1562.27,866.151 1572.67,930.271 1583.07,924.86 1593.47,906.165 1603.87,1075.02 1614.27,1084.45 1624.67,1042.42 1635.08,1023.69 1645.48,832.676 1655.88,1043.13 \n",
       "  1666.28,884.775 1676.68,920.38 1687.08,819.354 1697.48,879.164 1707.88,1074.87 1718.28,745.012 1728.69,1040.14 1739.09,984.628 1749.49,833.757 1759.89,980.479 \n",
       "  1770.29,940.809 1780.69,929.659 1791.09,960.722 1801.49,965.451 1811.9,1085.24 1822.3,784.828 1832.7,992.152 1843.1,1056.83 1853.5,1057.42 1863.9,884.268 \n",
       "  1874.3,906.907 1884.7,929.167 1895.1,804.068 1905.51,887.26 1915.91,850.318 1926.31,959.008 1936.71,951.009 1947.11,880.79 1957.51,979.543 1967.91,968.156 \n",
       "  1978.31,903.605 1988.72,911.843 1999.12,853.206 2009.52,801.992 2019.92,921.003 2030.32,922.822 2040.72,907.258 2051.12,995.278 2061.52,1022.76 2071.92,913.592 \n",
       "  2082.33,1029.55 2092.73,1053.34 2103.13,912.469 2113.53,880.778 2123.93,1015.93 2134.33,746.483 2144.73,784.502 2155.13,1068.16 2165.53,888.121 2175.94,810.141 \n",
       "  2186.34,864.666 2196.74,945.801 2207.14,852.752 2217.54,883.396 2227.94,1025.62 2238.34,960.301 2248.74,911.217 2259.15,985.662 2269.55,969.22 2279.95,934.569 \n",
       "  2290.35,815.407 \n",
       "  \"/>\n",
       "<polyline clip-path=\"url(#clip552)\" style=\"stroke:#e26f46; stroke-linecap:round; stroke-linejoin:round; stroke-width:4; stroke-opacity:1; fill:none\" points=\"\n",
       "  210.116,950.668 220.518,874.089 230.919,824.194 241.32,871.547 251.721,871.64 262.122,959.523 272.523,934.933 282.925,1086 293.326,986.989 303.727,930.116 \n",
       "  314.128,1000.26 324.529,999.02 334.93,1115.13 345.331,1145.34 355.733,1135.58 366.134,1171.36 376.535,1107.82 386.936,1064.42 397.337,1084.33 407.738,1255.27 \n",
       "  418.14,1029.76 428.541,906.698 438.942,922.669 449.343,1004.87 459.744,1047.97 470.145,1001.3 480.547,1122.77 490.948,1162.35 501.349,1103.5 511.75,1144.23 \n",
       "  522.151,1014.35 532.552,1154.33 542.954,1098.02 553.355,1102.54 563.756,942.772 574.157,846.958 584.558,901.454 594.959,977.203 605.361,864.627 615.762,580.371 \n",
       "  626.163,653.45 636.564,772.084 646.965,749.336 657.366,831.278 667.768,949.113 678.169,959.424 688.57,1033.77 698.971,989.531 709.372,930.815 719.773,826.515 \n",
       "  730.175,826.221 740.576,843.469 750.977,949.163 761.378,977.236 771.779,924.217 782.18,973.564 792.581,912.563 802.983,843.027 813.384,926.469 823.785,860.53 \n",
       "  834.186,939.449 844.587,923.057 854.988,1002.3 865.39,897.86 875.791,857.852 886.192,905.127 896.593,947.838 906.994,874.303 917.395,899.359 927.797,803.235 \n",
       "  938.198,936.892 948.599,829.476 959,759.588 969.401,730.226 979.802,744.195 990.204,853.692 1000.6,881.619 1011.01,795.048 1021.41,847.47 1031.81,807.846 \n",
       "  1042.21,820.767 1052.61,700.522 1063.01,762.581 1073.41,792.858 1083.81,801.268 1094.22,664.014 1104.62,601.585 1115.02,583.255 1125.42,598.736 1135.82,632.241 \n",
       "  1146.22,621.29 1156.62,486.499 1167.02,675.498 1177.42,720.674 1187.83,785.019 1198.23,934.184 1208.63,936.814 1219.03,902.759 1229.43,1012.56 1239.83,922.618 \n",
       "  1250.23,931.955 1260.63,1003.84 1271.03,899.533 1281.44,924.298 1291.84,898.943 1302.24,821.577 1312.64,780.526 1323.04,753.81 1333.44,622.905 1343.84,629.829 \n",
       "  1354.24,699.047 1364.65,862.955 1375.05,957.441 1385.45,999.841 1395.85,978.877 1406.25,955.247 1416.65,976.917 1427.05,974.951 1437.45,996.582 1447.85,1050.69 \n",
       "  1458.26,1024.91 1468.66,1134.39 1479.06,1069.13 1489.46,881.935 1499.86,862.209 1510.26,782.956 1520.66,802.108 1531.06,744.563 1541.47,847.263 1551.87,914.564 \n",
       "  1562.27,941.268 1572.67,928.198 1583.07,870.118 1593.47,887.536 1603.87,733.866 1614.27,807.877 1624.67,866.139 1635.08,728.661 1645.48,696.535 1655.88,805.449 \n",
       "  1666.28,748.409 1676.68,750.861 1687.08,843.49 1697.48,880.446 1707.88,876.422 1718.28,714.36 1728.69,757.184 1739.09,751.382 1749.49,743.349 1759.89,683.009 \n",
       "  1770.29,838.337 1780.69,909.393 1791.09,896.009 1801.49,876.339 1811.9,920.24 1822.3,1001.05 1832.7,1017.8 1843.1,1098.15 1853.5,1120.59 1863.9,905.446 \n",
       "  1874.3,776.692 1884.7,738.103 1895.1,771.209 1905.51,734.157 1915.91,713.078 1926.31,834.708 1936.71,895.56 1947.11,820.369 1957.51,901.768 1967.91,863.28 \n",
       "  1978.31,898.943 1988.72,954.858 1999.12,974.597 2009.52,1021.83 2019.92,952.903 2030.32,925.097 2040.72,759.426 2051.12,772.444 2061.52,791.337 2071.92,742.183 \n",
       "  2082.33,728.219 2092.73,766.97 2103.13,845.71 2113.53,849.652 2123.93,878.746 2134.33,884.655 2144.73,823.378 2155.13,893.498 2165.53,714.434 2175.94,714.679 \n",
       "  2186.34,699.392 2196.74,748.064 2207.14,926.817 2217.54,889.052 2227.94,811.342 2238.34,752.101 2248.74,833.898 2259.15,961.099 2269.55,1002.85 2279.95,1047.37 \n",
       "  2290.35,1151.22 \n",
       "  \"/>\n",
       "<polyline clip-path=\"url(#clip552)\" style=\"stroke:#3da44d; stroke-linecap:round; stroke-linejoin:round; stroke-width:4; stroke-opacity:1; fill:none\" points=\"\n",
       "  210.116,950.668 220.518,973.107 230.919,1048.82 241.32,1109.59 251.721,1197.41 262.122,1251.08 272.523,1109.43 282.925,1232.81 293.326,1337.57 303.727,1408.18 \n",
       "  314.128,1445.72 324.529,1339.28 334.93,1302.07 345.331,1268.97 355.733,1288.26 366.134,1242.17 376.535,1264.35 386.936,1306.67 397.337,1276.9 407.738,1196.48 \n",
       "  418.14,1098.08 428.541,903.925 438.942,882.926 449.343,946.558 459.744,949.436 470.145,1043.96 480.547,1020.5 490.948,1098.75 501.349,973.575 511.75,1007.82 \n",
       "  522.151,927.076 532.552,946.415 542.954,888.7 553.355,887.804 563.756,856.359 574.157,801.595 584.558,760.968 594.959,621.369 605.361,555.073 615.762,427.419 \n",
       "  626.163,369.034 636.564,380.569 646.965,391.754 657.366,462.988 667.768,417.661 678.169,570.366 688.57,560.864 698.971,428.756 709.372,439.998 719.773,402.409 \n",
       "  730.175,377.872 740.576,426.199 750.977,528.675 761.378,395.604 771.779,472.058 782.18,575.408 792.581,551.915 802.983,648.066 813.384,472.115 823.785,486.703 \n",
       "  834.186,384.921 844.587,456.178 854.988,434.124 865.39,360.916 875.791,374.739 886.192,481.861 896.593,483.345 906.994,401.206 917.395,526.663 927.797,496.072 \n",
       "  938.198,592.569 948.599,472.806 959,408.291 969.401,459.753 979.802,455.985 990.204,557.174 1000.6,519.431 1011.01,463.192 1021.41,313.822 1031.81,289.632 \n",
       "  1042.21,224.221 1052.61,146.372 1063.01,87.9763 1073.41,154.567 1083.81,286.321 1094.22,353.638 1104.62,373.617 1115.02,484.801 1125.42,500.777 1135.82,553.771 \n",
       "  1146.22,580.191 1156.62,562.911 1167.02,517.779 1177.42,696.444 1187.83,702.09 1198.23,683.714 1208.63,650.835 1219.03,587.83 1229.43,672.307 1239.83,660.689 \n",
       "  1250.23,753.733 1260.63,678.24 1271.03,546.152 1281.44,689.595 1291.84,685.545 1302.24,688.983 1312.64,680.318 1323.04,614.498 1333.44,789.3 1343.84,743.55 \n",
       "  1354.24,746.842 1364.65,773.472 1375.05,599.581 1385.45,587.206 1395.85,520.211 1406.25,502.558 1416.65,594.944 1427.05,622.981 1437.45,733.395 1447.85,709.593 \n",
       "  1458.26,680.613 1468.66,808.855 1479.06,933.159 1489.46,843.004 1499.86,826.216 1510.26,869.583 1520.66,889.893 1531.06,794.665 1541.47,804.099 1551.87,801.617 \n",
       "  1562.27,775.448 1572.67,732.151 1583.07,787.183 1593.47,911.335 1603.87,978.569 1614.27,961.737 1624.67,907.177 1635.08,871.237 1645.48,872.356 1655.88,864.086 \n",
       "  1666.28,871.993 1676.68,876.672 1687.08,885.383 1697.48,751.114 1707.88,666.452 1718.28,563.05 1728.69,483.262 1739.09,502.414 1749.49,336.717 1759.89,181.8 \n",
       "  1770.29,206.655 1780.69,292.008 1791.09,216.178 1801.49,322.433 1811.9,341.153 1822.3,455.436 1832.7,505.929 1843.1,518.712 1853.5,592.714 1863.9,483.387 \n",
       "  1874.3,470.917 1884.7,596.16 1895.1,716.543 1905.51,686.421 1915.91,490.297 1926.31,603.267 1936.71,662.597 1947.11,833.568 1957.51,914.025 1967.91,816.917 \n",
       "  1978.31,606.65 1988.72,525.391 1999.12,594.61 2009.52,580.307 2019.92,462.761 2030.32,391.465 2040.72,376.188 2051.12,397.912 2061.52,449.064 2071.92,437.773 \n",
       "  2082.33,298 2092.73,228.013 2103.13,376.129 2113.53,320.718 2123.93,245.389 2134.33,434.058 2144.73,374.981 2155.13,417.896 2165.53,313.371 2175.94,296.303 \n",
       "  2186.34,206.95 2196.74,309.552 2207.14,335.359 2217.54,477.124 2227.94,567.802 2238.34,635.683 2248.74,729.43 2259.15,636.759 2269.55,526.426 2279.95,540.435 \n",
       "  2290.35,552.314 \n",
       "  \"/>\n",
       "<path clip-path=\"url(#clip550)\" d=\"\n",
       "M1758.01 1438.47 L2279.25 1438.47 L2279.25 1231.11 L1758.01 1231.11  Z\n",
       "  \" fill=\"#ffffff\" fill-rule=\"evenodd\" fill-opacity=\"1\"/>\n",
       "<polyline clip-path=\"url(#clip550)\" style=\"stroke:#000000; stroke-linecap:round; stroke-linejoin:round; stroke-width:4; stroke-opacity:1; fill:none\" points=\"\n",
       "  1758.01,1438.47 2279.25,1438.47 2279.25,1231.11 1758.01,1231.11 1758.01,1438.47 \n",
       "  \"/>\n",
       "<polyline clip-path=\"url(#clip550)\" style=\"stroke:#009af9; stroke-linecap:round; stroke-linejoin:round; stroke-width:4; stroke-opacity:1; fill:none\" points=\"\n",
       "  1782.51,1282.95 1929.51,1282.95 \n",
       "  \"/>\n",
       "<path clip-path=\"url(#clip550)\" d=\"M1967.42 1287.2 Q1962.26 1287.2 1960.26 1288.38 Q1958.27 1289.56 1958.27 1292.41 Q1958.27 1294.68 1959.76 1296.02 Q1961.26 1297.34 1963.83 1297.34 Q1967.37 1297.34 1969.5 1294.84 Q1971.65 1292.32 1971.65 1288.15 L1971.65 1287.2 L1967.42 1287.2 M1975.91 1285.44 L1975.91 1300.23 L1971.65 1300.23 L1971.65 1296.3 Q1970.2 1298.66 1968.02 1299.79 Q1965.84 1300.91 1962.7 1300.91 Q1958.71 1300.91 1956.35 1298.68 Q1954.01 1296.44 1954.01 1292.69 Q1954.01 1288.31 1956.93 1286.09 Q1959.87 1283.87 1965.68 1283.87 L1971.65 1283.87 L1971.65 1283.45 Q1971.65 1280.51 1969.71 1278.92 Q1967.79 1277.29 1964.29 1277.29 Q1962.07 1277.29 1959.96 1277.83 Q1957.86 1278.36 1955.91 1279.42 L1955.91 1275.49 Q1958.25 1274.59 1960.45 1274.15 Q1962.65 1273.68 1964.73 1273.68 Q1970.36 1273.68 1973.13 1276.6 Q1975.91 1279.52 1975.91 1285.44 Z\" fill=\"#000000\" fill-rule=\"evenodd\" fill-opacity=\"1\" /><path clip-path=\"url(#clip550)\" d=\"M1984.69 1264.22 L1988.95 1264.22 L1988.95 1300.23 L1984.69 1300.23 L1984.69 1264.22 Z\" fill=\"#000000\" fill-rule=\"evenodd\" fill-opacity=\"1\" /><path clip-path=\"url(#clip550)\" d=\"M2001.98 1296.35 L2001.98 1310.1 L1997.7 1310.1 L1997.7 1274.31 L2001.98 1274.31 L2001.98 1278.24 Q2003.32 1275.93 2005.36 1274.82 Q2007.42 1273.68 2010.26 1273.68 Q2014.99 1273.68 2017.93 1277.43 Q2020.89 1281.18 2020.89 1287.29 Q2020.89 1293.41 2017.93 1297.16 Q2014.99 1300.91 2010.26 1300.91 Q2007.42 1300.91 2005.36 1299.79 Q2003.32 1298.66 2001.98 1296.35 M2016.47 1287.29 Q2016.47 1282.6 2014.52 1279.93 Q2012.6 1277.25 2009.22 1277.25 Q2005.84 1277.25 2003.9 1279.93 Q2001.98 1282.6 2001.98 1287.29 Q2001.98 1291.99 2003.9 1294.68 Q2005.84 1297.34 2009.22 1297.34 Q2012.6 1297.34 2014.52 1294.68 Q2016.47 1291.99 2016.47 1287.29 Z\" fill=\"#000000\" fill-rule=\"evenodd\" fill-opacity=\"1\" /><path clip-path=\"url(#clip550)\" d=\"M2049.5 1284.59 L2049.5 1300.23 L2045.24 1300.23 L2045.24 1284.73 Q2045.24 1281.04 2043.81 1279.22 Q2042.37 1277.39 2039.5 1277.39 Q2036.05 1277.39 2034.06 1279.59 Q2032.07 1281.79 2032.07 1285.58 L2032.07 1300.23 L2027.79 1300.23 L2027.79 1264.22 L2032.07 1264.22 L2032.07 1278.34 Q2033.6 1276 2035.66 1274.84 Q2037.74 1273.68 2040.45 1273.68 Q2044.92 1273.68 2047.21 1276.46 Q2049.5 1279.22 2049.5 1284.59 Z\" fill=\"#000000\" fill-rule=\"evenodd\" fill-opacity=\"1\" /><path clip-path=\"url(#clip550)\" d=\"M2069.78 1287.2 Q2064.62 1287.2 2062.63 1288.38 Q2060.63 1289.56 2060.63 1292.41 Q2060.63 1294.68 2062.12 1296.02 Q2063.62 1297.34 2066.19 1297.34 Q2069.73 1297.34 2071.86 1294.84 Q2074.01 1292.32 2074.01 1288.15 L2074.01 1287.2 L2069.78 1287.2 M2078.27 1285.44 L2078.27 1300.23 L2074.01 1300.23 L2074.01 1296.3 Q2072.56 1298.66 2070.38 1299.79 Q2068.2 1300.91 2065.06 1300.91 Q2061.07 1300.91 2058.71 1298.68 Q2056.38 1296.44 2056.38 1292.69 Q2056.38 1288.31 2059.29 1286.09 Q2062.23 1283.87 2068.04 1283.87 L2074.01 1283.87 L2074.01 1283.45 Q2074.01 1280.51 2072.07 1278.92 Q2070.15 1277.29 2066.65 1277.29 Q2064.43 1277.29 2062.32 1277.83 Q2060.22 1278.36 2058.27 1279.42 L2058.27 1275.49 Q2060.61 1274.59 2062.81 1274.15 Q2065.01 1273.68 2067.09 1273.68 Q2072.72 1273.68 2075.5 1276.6 Q2078.27 1279.52 2078.27 1285.44 Z\" fill=\"#000000\" fill-rule=\"evenodd\" fill-opacity=\"1\" /><path clip-path=\"url(#clip550)\" d=\"M2102.67 1278.71 L2132.35 1278.71 L2132.35 1282.6 L2102.67 1282.6 L2102.67 1278.71 M2102.67 1288.15 L2132.35 1288.15 L2132.35 1292.09 L2102.67 1292.09 L2102.67 1288.15 Z\" fill=\"#000000\" fill-rule=\"evenodd\" fill-opacity=\"1\" /><path clip-path=\"url(#clip550)\" d=\"M2167.51 1268.75 Q2163.9 1268.75 2162.07 1272.32 Q2160.26 1275.86 2160.26 1282.99 Q2160.26 1290.1 2162.07 1293.66 Q2163.9 1297.2 2167.51 1297.2 Q2171.14 1297.2 2172.95 1293.66 Q2174.78 1290.1 2174.78 1282.99 Q2174.78 1275.86 2172.95 1272.32 Q2171.14 1268.75 2167.51 1268.75 M2167.51 1265.05 Q2173.32 1265.05 2176.37 1269.66 Q2179.45 1274.24 2179.45 1282.99 Q2179.45 1291.72 2176.37 1296.32 Q2173.32 1300.91 2167.51 1300.91 Q2161.7 1300.91 2158.62 1296.32 Q2155.56 1291.72 2155.56 1282.99 Q2155.56 1274.24 2158.62 1269.66 Q2161.7 1265.05 2167.51 1265.05 Z\" fill=\"#000000\" fill-rule=\"evenodd\" fill-opacity=\"1\" /><path clip-path=\"url(#clip550)\" d=\"M2187.67 1294.35 L2192.56 1294.35 L2192.56 1300.23 L2187.67 1300.23 L2187.67 1294.35 Z\" fill=\"#000000\" fill-rule=\"evenodd\" fill-opacity=\"1\" /><path clip-path=\"url(#clip550)\" d=\"M2212.74 1268.75 Q2209.13 1268.75 2207.3 1272.32 Q2205.49 1275.86 2205.49 1282.99 Q2205.49 1290.1 2207.3 1293.66 Q2209.13 1297.2 2212.74 1297.2 Q2216.37 1297.2 2218.18 1293.66 Q2220.01 1290.1 2220.01 1282.99 Q2220.01 1275.86 2218.18 1272.32 Q2216.37 1268.75 2212.74 1268.75 M2212.74 1265.05 Q2218.55 1265.05 2221.61 1269.66 Q2224.68 1274.24 2224.68 1282.99 Q2224.68 1291.72 2221.61 1296.32 Q2218.55 1300.91 2212.74 1300.91 Q2206.93 1300.91 2203.85 1296.32 Q2200.8 1291.72 2200.8 1282.99 Q2200.8 1274.24 2203.85 1269.66 Q2206.93 1265.05 2212.74 1265.05 Z\" fill=\"#000000\" fill-rule=\"evenodd\" fill-opacity=\"1\" /><polyline clip-path=\"url(#clip550)\" style=\"stroke:#e26f46; stroke-linecap:round; stroke-linejoin:round; stroke-width:4; stroke-opacity:1; fill:none\" points=\"\n",
       "  1782.51,1334.79 1929.51,1334.79 \n",
       "  \"/>\n",
       "<path clip-path=\"url(#clip550)\" d=\"M1967.42 1339.04 Q1962.26 1339.04 1960.26 1340.22 Q1958.27 1341.4 1958.27 1344.25 Q1958.27 1346.52 1959.76 1347.86 Q1961.26 1349.18 1963.83 1349.18 Q1967.37 1349.18 1969.5 1346.68 Q1971.65 1344.16 1971.65 1339.99 L1971.65 1339.04 L1967.42 1339.04 M1975.91 1337.28 L1975.91 1352.07 L1971.65 1352.07 L1971.65 1348.14 Q1970.2 1350.5 1968.02 1351.63 Q1965.84 1352.75 1962.7 1352.75 Q1958.71 1352.75 1956.35 1350.52 Q1954.01 1348.28 1954.01 1344.53 Q1954.01 1340.15 1956.93 1337.93 Q1959.87 1335.71 1965.68 1335.71 L1971.65 1335.71 L1971.65 1335.29 Q1971.65 1332.35 1969.71 1330.76 Q1967.79 1329.13 1964.29 1329.13 Q1962.07 1329.13 1959.96 1329.67 Q1957.86 1330.2 1955.91 1331.26 L1955.91 1327.33 Q1958.25 1326.43 1960.45 1325.99 Q1962.65 1325.52 1964.73 1325.52 Q1970.36 1325.52 1973.13 1328.44 Q1975.91 1331.36 1975.91 1337.28 Z\" fill=\"#000000\" fill-rule=\"evenodd\" fill-opacity=\"1\" /><path clip-path=\"url(#clip550)\" d=\"M1984.69 1316.06 L1988.95 1316.06 L1988.95 1352.07 L1984.69 1352.07 L1984.69 1316.06 Z\" fill=\"#000000\" fill-rule=\"evenodd\" fill-opacity=\"1\" /><path clip-path=\"url(#clip550)\" d=\"M2001.98 1348.19 L2001.98 1361.94 L1997.7 1361.94 L1997.7 1326.15 L2001.98 1326.15 L2001.98 1330.08 Q2003.32 1327.77 2005.36 1326.66 Q2007.42 1325.52 2010.26 1325.52 Q2014.99 1325.52 2017.93 1329.27 Q2020.89 1333.02 2020.89 1339.13 Q2020.89 1345.25 2017.93 1349 Q2014.99 1352.75 2010.26 1352.75 Q2007.42 1352.75 2005.36 1351.63 Q2003.32 1350.5 2001.98 1348.19 M2016.47 1339.13 Q2016.47 1334.44 2014.52 1331.77 Q2012.6 1329.09 2009.22 1329.09 Q2005.84 1329.09 2003.9 1331.77 Q2001.98 1334.44 2001.98 1339.13 Q2001.98 1343.83 2003.9 1346.52 Q2005.84 1349.18 2009.22 1349.18 Q2012.6 1349.18 2014.52 1346.52 Q2016.47 1343.83 2016.47 1339.13 Z\" fill=\"#000000\" fill-rule=\"evenodd\" fill-opacity=\"1\" /><path clip-path=\"url(#clip550)\" d=\"M2049.5 1336.43 L2049.5 1352.07 L2045.24 1352.07 L2045.24 1336.57 Q2045.24 1332.88 2043.81 1331.06 Q2042.37 1329.23 2039.5 1329.23 Q2036.05 1329.23 2034.06 1331.43 Q2032.07 1333.63 2032.07 1337.42 L2032.07 1352.07 L2027.79 1352.07 L2027.79 1316.06 L2032.07 1316.06 L2032.07 1330.18 Q2033.6 1327.84 2035.66 1326.68 Q2037.74 1325.52 2040.45 1325.52 Q2044.92 1325.52 2047.21 1328.3 Q2049.5 1331.06 2049.5 1336.43 Z\" fill=\"#000000\" fill-rule=\"evenodd\" fill-opacity=\"1\" /><path clip-path=\"url(#clip550)\" d=\"M2069.78 1339.04 Q2064.62 1339.04 2062.63 1340.22 Q2060.63 1341.4 2060.63 1344.25 Q2060.63 1346.52 2062.12 1347.86 Q2063.62 1349.18 2066.19 1349.18 Q2069.73 1349.18 2071.86 1346.68 Q2074.01 1344.16 2074.01 1339.99 L2074.01 1339.04 L2069.78 1339.04 M2078.27 1337.28 L2078.27 1352.07 L2074.01 1352.07 L2074.01 1348.14 Q2072.56 1350.5 2070.38 1351.63 Q2068.2 1352.75 2065.06 1352.75 Q2061.07 1352.75 2058.71 1350.52 Q2056.38 1348.28 2056.38 1344.53 Q2056.38 1340.15 2059.29 1337.93 Q2062.23 1335.71 2068.04 1335.71 L2074.01 1335.71 L2074.01 1335.29 Q2074.01 1332.35 2072.07 1330.76 Q2070.15 1329.13 2066.65 1329.13 Q2064.43 1329.13 2062.32 1329.67 Q2060.22 1330.2 2058.27 1331.26 L2058.27 1327.33 Q2060.61 1326.43 2062.81 1325.99 Q2065.01 1325.52 2067.09 1325.52 Q2072.72 1325.52 2075.5 1328.44 Q2078.27 1331.36 2078.27 1337.28 Z\" fill=\"#000000\" fill-rule=\"evenodd\" fill-opacity=\"1\" /><path clip-path=\"url(#clip550)\" d=\"M2102.67 1330.55 L2132.35 1330.55 L2132.35 1334.44 L2102.67 1334.44 L2102.67 1330.55 M2102.67 1339.99 L2132.35 1339.99 L2132.35 1343.93 L2102.67 1343.93 L2102.67 1339.99 Z\" fill=\"#000000\" fill-rule=\"evenodd\" fill-opacity=\"1\" /><path clip-path=\"url(#clip550)\" d=\"M2167.51 1320.59 Q2163.9 1320.59 2162.07 1324.16 Q2160.26 1327.7 2160.26 1334.83 Q2160.26 1341.94 2162.07 1345.5 Q2163.9 1349.04 2167.51 1349.04 Q2171.14 1349.04 2172.95 1345.5 Q2174.78 1341.94 2174.78 1334.83 Q2174.78 1327.7 2172.95 1324.16 Q2171.14 1320.59 2167.51 1320.59 M2167.51 1316.89 Q2173.32 1316.89 2176.37 1321.5 Q2179.45 1326.08 2179.45 1334.83 Q2179.45 1343.56 2176.37 1348.16 Q2173.32 1352.75 2167.51 1352.75 Q2161.7 1352.75 2158.62 1348.16 Q2155.56 1343.56 2155.56 1334.83 Q2155.56 1326.08 2158.62 1321.5 Q2161.7 1316.89 2167.51 1316.89 Z\" fill=\"#000000\" fill-rule=\"evenodd\" fill-opacity=\"1\" /><path clip-path=\"url(#clip550)\" d=\"M2187.67 1346.19 L2192.56 1346.19 L2192.56 1352.07 L2187.67 1352.07 L2187.67 1346.19 Z\" fill=\"#000000\" fill-rule=\"evenodd\" fill-opacity=\"1\" /><path clip-path=\"url(#clip550)\" d=\"M2212.74 1335.66 Q2209.41 1335.66 2207.49 1337.44 Q2205.59 1339.23 2205.59 1342.35 Q2205.59 1345.48 2207.49 1347.26 Q2209.41 1349.04 2212.74 1349.04 Q2216.07 1349.04 2217.99 1347.26 Q2219.92 1345.45 2219.92 1342.35 Q2219.92 1339.23 2217.99 1337.44 Q2216.1 1335.66 2212.74 1335.66 M2208.06 1333.67 Q2205.06 1332.93 2203.37 1330.87 Q2201.7 1328.81 2201.7 1325.85 Q2201.7 1321.7 2204.64 1319.3 Q2207.6 1316.89 2212.74 1316.89 Q2217.9 1316.89 2220.84 1319.3 Q2223.78 1321.7 2223.78 1325.85 Q2223.78 1328.81 2222.09 1330.87 Q2220.43 1332.93 2217.44 1333.67 Q2220.82 1334.46 2222.69 1336.75 Q2224.59 1339.04 2224.59 1342.35 Q2224.59 1347.38 2221.51 1350.06 Q2218.46 1352.75 2212.74 1352.75 Q2207.02 1352.75 2203.94 1350.06 Q2200.89 1347.38 2200.89 1342.35 Q2200.89 1339.04 2202.79 1336.75 Q2204.68 1334.46 2208.06 1333.67 M2206.35 1326.29 Q2206.35 1328.97 2208.02 1330.48 Q2209.71 1331.98 2212.74 1331.98 Q2215.75 1331.98 2217.44 1330.48 Q2219.15 1328.97 2219.15 1326.29 Q2219.15 1323.6 2217.44 1322.1 Q2215.75 1320.59 2212.74 1320.59 Q2209.71 1320.59 2208.02 1322.1 Q2206.35 1323.6 2206.35 1326.29 Z\" fill=\"#000000\" fill-rule=\"evenodd\" fill-opacity=\"1\" /><polyline clip-path=\"url(#clip550)\" style=\"stroke:#3da44d; stroke-linecap:round; stroke-linejoin:round; stroke-width:4; stroke-opacity:1; fill:none\" points=\"\n",
       "  1782.51,1386.63 1929.51,1386.63 \n",
       "  \"/>\n",
       "<path clip-path=\"url(#clip550)\" d=\"M1967.42 1390.88 Q1962.26 1390.88 1960.26 1392.06 Q1958.27 1393.24 1958.27 1396.09 Q1958.27 1398.36 1959.76 1399.7 Q1961.26 1401.02 1963.83 1401.02 Q1967.37 1401.02 1969.5 1398.52 Q1971.65 1396 1971.65 1391.83 L1971.65 1390.88 L1967.42 1390.88 M1975.91 1389.12 L1975.91 1403.91 L1971.65 1403.91 L1971.65 1399.98 Q1970.2 1402.34 1968.02 1403.47 Q1965.84 1404.59 1962.7 1404.59 Q1958.71 1404.59 1956.35 1402.36 Q1954.01 1400.12 1954.01 1396.37 Q1954.01 1391.99 1956.93 1389.77 Q1959.87 1387.55 1965.68 1387.55 L1971.65 1387.55 L1971.65 1387.13 Q1971.65 1384.19 1969.71 1382.6 Q1967.79 1380.97 1964.29 1380.97 Q1962.07 1380.97 1959.96 1381.51 Q1957.86 1382.04 1955.91 1383.1 L1955.91 1379.17 Q1958.25 1378.27 1960.45 1377.83 Q1962.65 1377.36 1964.73 1377.36 Q1970.36 1377.36 1973.13 1380.28 Q1975.91 1383.2 1975.91 1389.12 Z\" fill=\"#000000\" fill-rule=\"evenodd\" fill-opacity=\"1\" /><path clip-path=\"url(#clip550)\" d=\"M1984.69 1367.9 L1988.95 1367.9 L1988.95 1403.91 L1984.69 1403.91 L1984.69 1367.9 Z\" fill=\"#000000\" fill-rule=\"evenodd\" fill-opacity=\"1\" /><path clip-path=\"url(#clip550)\" d=\"M2001.98 1400.03 L2001.98 1413.78 L1997.7 1413.78 L1997.7 1377.99 L2001.98 1377.99 L2001.98 1381.92 Q2003.32 1379.61 2005.36 1378.5 Q2007.42 1377.36 2010.26 1377.36 Q2014.99 1377.36 2017.93 1381.11 Q2020.89 1384.86 2020.89 1390.97 Q2020.89 1397.09 2017.93 1400.84 Q2014.99 1404.59 2010.26 1404.59 Q2007.42 1404.59 2005.36 1403.47 Q2003.32 1402.34 2001.98 1400.03 M2016.47 1390.97 Q2016.47 1386.28 2014.52 1383.61 Q2012.6 1380.93 2009.22 1380.93 Q2005.84 1380.93 2003.9 1383.61 Q2001.98 1386.28 2001.98 1390.97 Q2001.98 1395.67 2003.9 1398.36 Q2005.84 1401.02 2009.22 1401.02 Q2012.6 1401.02 2014.52 1398.36 Q2016.47 1395.67 2016.47 1390.97 Z\" fill=\"#000000\" fill-rule=\"evenodd\" fill-opacity=\"1\" /><path clip-path=\"url(#clip550)\" d=\"M2049.5 1388.27 L2049.5 1403.91 L2045.24 1403.91 L2045.24 1388.41 Q2045.24 1384.72 2043.81 1382.9 Q2042.37 1381.07 2039.5 1381.07 Q2036.05 1381.07 2034.06 1383.27 Q2032.07 1385.47 2032.07 1389.26 L2032.07 1403.91 L2027.79 1403.91 L2027.79 1367.9 L2032.07 1367.9 L2032.07 1382.02 Q2033.6 1379.68 2035.66 1378.52 Q2037.74 1377.36 2040.45 1377.36 Q2044.92 1377.36 2047.21 1380.14 Q2049.5 1382.9 2049.5 1388.27 Z\" fill=\"#000000\" fill-rule=\"evenodd\" fill-opacity=\"1\" /><path clip-path=\"url(#clip550)\" d=\"M2069.78 1390.88 Q2064.62 1390.88 2062.63 1392.06 Q2060.63 1393.24 2060.63 1396.09 Q2060.63 1398.36 2062.12 1399.7 Q2063.62 1401.02 2066.19 1401.02 Q2069.73 1401.02 2071.86 1398.52 Q2074.01 1396 2074.01 1391.83 L2074.01 1390.88 L2069.78 1390.88 M2078.27 1389.12 L2078.27 1403.91 L2074.01 1403.91 L2074.01 1399.98 Q2072.56 1402.34 2070.38 1403.47 Q2068.2 1404.59 2065.06 1404.59 Q2061.07 1404.59 2058.71 1402.36 Q2056.38 1400.12 2056.38 1396.37 Q2056.38 1391.99 2059.29 1389.77 Q2062.23 1387.55 2068.04 1387.55 L2074.01 1387.55 L2074.01 1387.13 Q2074.01 1384.19 2072.07 1382.6 Q2070.15 1380.97 2066.65 1380.97 Q2064.43 1380.97 2062.32 1381.51 Q2060.22 1382.04 2058.27 1383.1 L2058.27 1379.17 Q2060.61 1378.27 2062.81 1377.83 Q2065.01 1377.36 2067.09 1377.36 Q2072.72 1377.36 2075.5 1380.28 Q2078.27 1383.2 2078.27 1389.12 Z\" fill=\"#000000\" fill-rule=\"evenodd\" fill-opacity=\"1\" /><path clip-path=\"url(#clip550)\" d=\"M2102.67 1382.39 L2132.35 1382.39 L2132.35 1386.28 L2102.67 1386.28 L2102.67 1382.39 M2102.67 1391.83 L2132.35 1391.83 L2132.35 1395.77 L2102.67 1395.77 L2102.67 1391.83 Z\" fill=\"#000000\" fill-rule=\"evenodd\" fill-opacity=\"1\" /><path clip-path=\"url(#clip550)\" d=\"M2167.51 1372.43 Q2163.9 1372.43 2162.07 1376 Q2160.26 1379.54 2160.26 1386.67 Q2160.26 1393.78 2162.07 1397.34 Q2163.9 1400.88 2167.51 1400.88 Q2171.14 1400.88 2172.95 1397.34 Q2174.78 1393.78 2174.78 1386.67 Q2174.78 1379.54 2172.95 1376 Q2171.14 1372.43 2167.51 1372.43 M2167.51 1368.73 Q2173.32 1368.73 2176.37 1373.34 Q2179.45 1377.92 2179.45 1386.67 Q2179.45 1395.4 2176.37 1400 Q2173.32 1404.59 2167.51 1404.59 Q2161.7 1404.59 2158.62 1400 Q2155.56 1395.4 2155.56 1386.67 Q2155.56 1377.92 2158.62 1373.34 Q2161.7 1368.73 2167.51 1368.73 Z\" fill=\"#000000\" fill-rule=\"evenodd\" fill-opacity=\"1\" /><path clip-path=\"url(#clip550)\" d=\"M2187.67 1398.03 L2192.56 1398.03 L2192.56 1403.91 L2187.67 1403.91 L2187.67 1398.03 Z\" fill=\"#000000\" fill-rule=\"evenodd\" fill-opacity=\"1\" /><path clip-path=\"url(#clip550)\" d=\"M2202.88 1403.2 L2202.88 1398.94 Q2204.64 1399.77 2206.44 1400.21 Q2208.25 1400.65 2209.99 1400.65 Q2214.62 1400.65 2217.05 1397.55 Q2219.5 1394.42 2219.85 1388.08 Q2218.5 1390.07 2216.44 1391.14 Q2214.38 1392.2 2211.88 1392.2 Q2206.7 1392.2 2203.67 1389.08 Q2200.66 1385.93 2200.66 1380.49 Q2200.66 1375.16 2203.81 1371.95 Q2206.95 1368.73 2212.18 1368.73 Q2218.18 1368.73 2221.33 1373.34 Q2224.5 1377.92 2224.5 1386.67 Q2224.5 1394.84 2220.61 1399.72 Q2216.74 1404.59 2210.19 1404.59 Q2208.43 1404.59 2206.63 1404.24 Q2204.82 1403.89 2202.88 1403.2 M2212.18 1388.54 Q2215.33 1388.54 2217.16 1386.39 Q2219.01 1384.24 2219.01 1380.49 Q2219.01 1376.76 2217.16 1374.61 Q2215.33 1372.43 2212.18 1372.43 Q2209.04 1372.43 2207.18 1374.61 Q2205.36 1376.76 2205.36 1380.49 Q2205.36 1384.24 2207.18 1386.39 Q2209.04 1388.54 2212.18 1388.54 Z\" fill=\"#000000\" fill-rule=\"evenodd\" fill-opacity=\"1\" /><path clip-path=\"url(#clip550)\" d=\"M2242.9 1387.5 Q2239.57 1387.5 2237.65 1389.28 Q2235.75 1391.07 2235.75 1394.19 Q2235.75 1397.32 2237.65 1399.1 Q2239.57 1400.88 2242.9 1400.88 Q2246.24 1400.88 2248.16 1399.1 Q2250.08 1397.29 2250.08 1394.19 Q2250.08 1391.07 2248.16 1389.28 Q2246.26 1387.5 2242.9 1387.5 M2238.23 1385.51 Q2235.22 1384.77 2233.53 1382.71 Q2231.86 1380.65 2231.86 1377.69 Q2231.86 1373.54 2234.8 1371.14 Q2237.76 1368.73 2242.9 1368.73 Q2248.06 1368.73 2251 1371.14 Q2253.94 1373.54 2253.94 1377.69 Q2253.94 1380.65 2252.25 1382.71 Q2250.59 1384.77 2247.6 1385.51 Q2250.98 1386.3 2252.86 1388.59 Q2254.75 1390.88 2254.75 1394.19 Q2254.75 1399.22 2251.68 1401.9 Q2248.62 1404.59 2242.9 1404.59 Q2237.18 1404.59 2234.11 1401.9 Q2231.05 1399.22 2231.05 1394.19 Q2231.05 1390.88 2232.95 1388.59 Q2234.85 1386.3 2238.23 1385.51 M2236.51 1378.13 Q2236.51 1380.81 2238.18 1382.32 Q2239.87 1383.82 2242.9 1383.82 Q2245.91 1383.82 2247.6 1382.32 Q2249.31 1380.81 2249.31 1378.13 Q2249.31 1375.44 2247.6 1373.94 Q2245.91 1372.43 2242.9 1372.43 Q2239.87 1372.43 2238.18 1373.94 Q2236.51 1375.44 2236.51 1378.13 Z\" fill=\"#000000\" fill-rule=\"evenodd\" fill-opacity=\"1\" /></svg>\n"
      ]
     },
     "execution_count": 9,
     "metadata": {},
     "output_type": "execute_result"
    }
   ],
   "source": [
    "αs = [0.0, 0.8, 0.98]\n",
    "n = 200\n",
    "p = plot() # naming a plot to add to\n",
    "\n",
    "for α in αs\n",
    "    x = zeros(n + 1)\n",
    "    x[1] = 0.0\n",
    "    for t in 1:n\n",
    "        x[t+1] = α * x[t] + randn()\n",
    "    end\n",
    "    plot!(p, x, label = \"alpha = $α\") # add to plot p\n",
    "end\n",
    "p # display plot"
   ]
  },
  {
   "attachments": {},
   "cell_type": "markdown",
   "id": "e9558a82",
   "metadata": {},
   "source": [
    "### Exercise 7: Hint\n",
    "\n",
    "As a hint, notice the following pattern for finding the number of draws of a uniform random number until it is below a given threshold"
   ]
  },
  {
   "cell_type": "code",
   "execution_count": null,
   "id": "07e0b9a0",
   "metadata": {
    "hide-output": false
   },
   "outputs": [],
   "source": [
    "function drawsuntilthreshold(threshold; maxdraws=100)\n",
    "    for i in 1:maxdraws\n",
    "        val = rand()\n",
    "        if val < threshold # checks threshold\n",
    "            return i # leaves function, returning draw number\n",
    "        end\n",
    "    end\n",
    "    return Inf # if here, reached maxdraws\n",
    "end\n",
    "\n",
    "draws = drawsuntilthreshold(0.1; maxdraws=100)"
   ]
  },
  {
   "attachments": {},
   "cell_type": "markdown",
   "id": "3f1e3efe",
   "metadata": {},
   "source": [
    "Additionally, it is sometimes convenient to add to just push numbers onto an array without indexing it directly"
   ]
  },
  {
   "cell_type": "code",
   "execution_count": null,
   "id": "c978e925",
   "metadata": {
    "hide-output": false
   },
   "outputs": [],
   "source": [
    "vals = zeros(0) # empty vector\n",
    "\n",
    "for i in 1:100\n",
    "    val = rand()\n",
    "    if val < 0.5\n",
    "        push!(vals, val)\n",
    "    end\n",
    "end\n",
    "println(\"There were $(length(vals)) below 0.5\")"
   ]
  }
 ],
 "metadata": {
  "date": 1672949736.1014984,
  "filename": "julia_by_example.md",
  "kernelspec": {
   "display_name": "Julia 1.9.0",
   "language": "julia",
   "name": "julia-1.9"
  },
  "language_info": {
   "file_extension": ".jl",
   "mimetype": "application/julia",
   "name": "julia",
   "version": "1.9.0"
  },
  "title": "Introductory Examples"
 },
 "nbformat": 4,
 "nbformat_minor": 5
}
