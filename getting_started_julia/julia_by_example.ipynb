{
 "cells": [
  {
   "attachments": {},
   "cell_type": "markdown",
   "id": "7221af1c",
   "metadata": {},
   "source": [
    "\n",
    "<a id='julia-by-example'></a>"
   ]
  },
  {
   "attachments": {},
   "cell_type": "markdown",
   "id": "9dca29e6",
   "metadata": {},
   "source": [
    "# Introductory Examples"
   ]
  },
  {
   "attachments": {},
   "cell_type": "markdown",
   "id": "231b5ec1",
   "metadata": {},
   "source": [
    "## Contents\n",
    "\n",
    "- [Introductory Examples](#Introductory-Examples)  \n",
    "  - [Overview](#Overview)  \n",
    "  - [Example: Plotting a White Noise Process](#Example:-Plotting-a-White-Noise-Process)  \n",
    "  - [Example: Variations on Fixed Points](#Example:-Variations-on-Fixed-Points)  \n",
    "  - [Exercises](#Exercises)  \n",
    "  - [Solutions](#Solutions)  "
   ]
  },
  {
   "attachments": {},
   "cell_type": "markdown",
   "id": "2a600fe6",
   "metadata": {},
   "source": [
    "## Overview\n",
    "\n",
    "We’re now ready to start learning the Julia language itself."
   ]
  },
  {
   "attachments": {},
   "cell_type": "markdown",
   "id": "4d1f5f59",
   "metadata": {},
   "source": [
    "### Level\n",
    "\n",
    "Our approach is aimed at those who already have at least some knowledge of programming — perhaps experience with Python, MATLAB, Fortran, C or similar.\n",
    "\n",
    "In particular, we assume you have some familiarity with fundamental programming concepts such as\n",
    "\n",
    "- variables  \n",
    "- arrays or vectors  \n",
    "- loops  \n",
    "- conditionals (if/else)  \n",
    "\n",
    "\n",
    "\n",
    "<a id='intro-resources'></a>"
   ]
  },
  {
   "attachments": {},
   "cell_type": "markdown",
   "id": "b74c24b2",
   "metadata": {},
   "source": [
    "### (Optional) Resources for Introductory Programming\n",
    "\n",
    "If Julia is your first programming language, then you may want to examine other resources before proceeding through these chapters.\n",
    "\n",
    "First, you will want to ensure that you have [installed Conda](https://julia.quantecon.org/getting_started.html#install-jupyter), [Julia](https://julia.quantecon.org/getting_started.html#intro-repl) in the previous section, and are able to [launch Jupyter Lab](https://julia.quantecon.org/getting_started.html#running-jupyterlab).  Then, even without downloading these lecture notes you can start learning Julia.\n",
    "\n",
    "Some resources for users with little to no programming experience are the:\n",
    "\n",
    "1. [Introduction to Julia](https://juliaacademy.com/p/intro-to-julia) which is appropriate for those with little programming experience.  \n",
    "  - You will need to sign up for this course to access it, but it is free.  \n",
    "  - Avoid the initial lecture on the installation of Julia and nteract.  \n",
    "  - The Jupyter Notebooks for this class are available [online](https://github.com/JuliaAcademy/Introduction-to-Julia)  \n",
    "1. [Julia for Beginners](https://www.youtube.com/playlist?list=PLhQ2JMBcfAsi_3g2AFJ6B84d8c5jw5kXp) from the [julia for talented amateurs](https://www.youtube.com/c/juliafortalentedamateurs) channel.  \n",
    "  - If you watch these, ignore the environment.  It is using a different open-source editor (i.e. Atom, which is being slowly phased out) and the REPL.  However the content itself is independent of the environment. Skip any setup instructions and just use Jupyter.  \n",
    "1. [Julia Programming for Nervous Beginners](https://www.youtube.com/playlist?list=PLP8iPy9hna6Qpx0MgGyElJ5qFlaIXYf1R) youtube tutorials.  \n",
    "  - These get advanced fairly quickly, but have plenty of great content.  \n",
    "  - This may be less gentle of an introduction for new users given the tooling choices.  \n",
    "\n",
    "\n",
    "However, if you have even introductory experience with any programming language (e.g. you do not need to review what a loop, array, variable, or conditional “if” statement is), you should be able to start directly with these lectures."
   ]
  },
  {
   "attachments": {},
   "cell_type": "markdown",
   "id": "168b4de7",
   "metadata": {},
   "source": [
    "### Approach\n",
    "\n",
    "In this lecture we will write and then pick apart small Julia programs.\n",
    "\n",
    "At this stage the objective is to introduce you to basic syntax and data structures.\n",
    "\n",
    "Deeper concepts—how things work—will be covered in later lectures.\n",
    "\n",
    "Since we are looking for simplicity the examples are a little contrived\n",
    "\n",
    "In this lecture, we will often start with a direct MATLAB/FORTRAN approach which often is **poor coding style** in Julia, but then move towards more **elegant code** which is tightly connected to the mathematics.\n",
    "\n",
    "We assume that you’ve worked your way through [our getting started lecture](https://julia.quantecon.org/getting_started.html) already.\n",
    "\n",
    "The definitive reference is [Julia’s own documentation](https://docs.julialang.org/).  The manual is thoughtfully written but is also quite dense.\n",
    "\n",
    "The presentation in this and our remaining lectures is more of a tutorial style based around examples."
   ]
  },
  {
   "attachments": {},
   "cell_type": "markdown",
   "id": "7a1c0b5b",
   "metadata": {},
   "source": [
    "## Example: Plotting a White Noise Process\n",
    "\n",
    "To begin, let’s suppose that we want to simulate and plot the white noise\n",
    "process $ \\epsilon_0, \\epsilon_1, \\ldots, \\epsilon_T $, where each draw $ \\epsilon_t $ is independent standard normal."
   ]
  },
  {
   "attachments": {},
   "cell_type": "markdown",
   "id": "856a4068",
   "metadata": {},
   "source": [
    "### Introduction to Packages\n",
    "\n",
    "Assuming that you followed  [our getting started lecture](https://julia.quantecon.org/getting_started.html) you will have installed all packages required for your notebooks to run.\n",
    "\n",
    "More generally, there are two ways to install packages and versions (where the first method is discouraged, since Julia provides a state-of-the-art setup for reproducible environments)\n",
    "\n",
    "1. `add` the packages directly into your global installation (e.g. `Pkg.add(\"MyPackage\")` or `] add MyPackage`) without any project activated.  \n",
    "  - We [installed](https://julia.quantecon.org/getting_started.html#intro-repl) the `IJulia` package in this way, since it must be accessible in every project.  \n",
    "  - As a reminder, the `]` enters the package mode, and with some terminals you can directly copy in the whole `] add MyPackage` string.  \n",
    "1. using a directory with a `Project.toml` and `Manifest.toml` files, which provides an isolated set of packages for a particular project.  \n",
    "  - If you load a jupyter notebook, it will automatically look up the tree for the project files to activate, but will not automatically install them.  This can be done with `] instantiate`, as we did in our [installation](https://julia.quantecon.org/getting_started.html#install-packages)  \n",
    "  - The project files can be in parent folders relative to the notebooks and sourcecode.  \n",
    "\n",
    "\n",
    "The project provides the environment for running code is **reproducible**, so that anyone can replicate the precise set of package and versions used in construction.\n",
    "\n",
    "After the installation and activation, `using` provides a way to say that a particular code or notebook will use the package."
   ]
  },
  {
   "cell_type": "code",
   "execution_count": 1,
   "id": "e2ae4166",
   "metadata": {
    "hide-output": false
   },
   "outputs": [],
   "source": [
    "using LinearAlgebra, Statistics, Plots, LaTeXStrings"
   ]
  },
  {
   "attachments": {},
   "cell_type": "markdown",
   "id": "08ba9a77",
   "metadata": {},
   "source": [
    "If these packages were not in your project file or global package environment, you will see an error requiring installation.  To reinforce the point aove: Ideally you should be using a local `Project.toml` with these in them, in which case you might simply need to `] instantiate` it.  Without a project file, you can manually add them as required (e.g. `] add Plots`).  See [here](https://julia.quantecon.org/getting_started.html#install-packages) for more on instantiation and activation of projects.\n",
    "\n",
    "\n",
    "<a id='import'></a>"
   ]
  },
  {
   "attachments": {},
   "cell_type": "markdown",
   "id": "0cb7eb50",
   "metadata": {},
   "source": [
    "### Using Functions from a Package\n",
    "\n",
    "Some functions are built into the base Julia, such as `randn`, which returns a single draw from a normal distribution with mean 0 and variance 1 if given no parameters."
   ]
  },
  {
   "cell_type": "code",
   "execution_count": 2,
   "id": "d6e06b95",
   "metadata": {
    "hide-output": false
   },
   "outputs": [
    {
     "data": {
      "text/plain": [
       "1.2052470666450634"
      ]
     },
     "execution_count": 2,
     "metadata": {},
     "output_type": "execute_result"
    }
   ],
   "source": [
    "randn()"
   ]
  },
  {
   "attachments": {},
   "cell_type": "markdown",
   "id": "7cf98de5",
   "metadata": {},
   "source": [
    "Other functions require importing all of the names from an external library"
   ]
  },
  {
   "cell_type": "code",
   "execution_count": 3,
   "id": "fe82084e",
   "metadata": {
    "hide-output": false
   },
   "outputs": [
    {
     "data": {
      "image/svg+xml": [
       "<?xml version=\"1.0\" encoding=\"utf-8\"?>\n",
       "<svg xmlns=\"http://www.w3.org/2000/svg\" xmlns:xlink=\"http://www.w3.org/1999/xlink\" width=\"600\" height=\"400\" viewBox=\"0 0 2400 1600\">\n",
       "<defs>\n",
       "  <clipPath id=\"clip560\">\n",
       "    <rect x=\"0\" y=\"0\" width=\"2400\" height=\"1600\"/>\n",
       "  </clipPath>\n",
       "</defs>\n",
       "<path clip-path=\"url(#clip560)\" d=\"\n",
       "M0 1600 L2400 1600 L2400 0 L0 0  Z\n",
       "  \" fill=\"#ffffff\" fill-rule=\"evenodd\" fill-opacity=\"1\"/>\n",
       "<defs>\n",
       "  <clipPath id=\"clip561\">\n",
       "    <rect x=\"480\" y=\"0\" width=\"1681\" height=\"1600\"/>\n",
       "  </clipPath>\n",
       "</defs>\n",
       "<path clip-path=\"url(#clip560)\" d=\"\n",
       "M148.057 1486.45 L2352.76 1486.45 L2352.76 47.2441 L148.057 47.2441  Z\n",
       "  \" fill=\"#ffffff\" fill-rule=\"evenodd\" fill-opacity=\"1\"/>\n",
       "<defs>\n",
       "  <clipPath id=\"clip562\">\n",
       "    <rect x=\"148\" y=\"47\" width=\"2206\" height=\"1440\"/>\n",
       "  </clipPath>\n",
       "</defs>\n",
       "<polyline clip-path=\"url(#clip562)\" style=\"stroke:#000000; stroke-linecap:round; stroke-linejoin:round; stroke-width:2; stroke-opacity:0.1; fill:none\" points=\"\n",
       "  189.445,1486.45 189.445,47.2441 \n",
       "  \"/>\n",
       "<polyline clip-path=\"url(#clip562)\" style=\"stroke:#000000; stroke-linecap:round; stroke-linejoin:round; stroke-width:2; stroke-opacity:0.1; fill:none\" points=\"\n",
       "  714.673,1486.45 714.673,47.2441 \n",
       "  \"/>\n",
       "<polyline clip-path=\"url(#clip562)\" style=\"stroke:#000000; stroke-linecap:round; stroke-linejoin:round; stroke-width:2; stroke-opacity:0.1; fill:none\" points=\"\n",
       "  1239.9,1486.45 1239.9,47.2441 \n",
       "  \"/>\n",
       "<polyline clip-path=\"url(#clip562)\" style=\"stroke:#000000; stroke-linecap:round; stroke-linejoin:round; stroke-width:2; stroke-opacity:0.1; fill:none\" points=\"\n",
       "  1765.13,1486.45 1765.13,47.2441 \n",
       "  \"/>\n",
       "<polyline clip-path=\"url(#clip562)\" style=\"stroke:#000000; stroke-linecap:round; stroke-linejoin:round; stroke-width:2; stroke-opacity:0.1; fill:none\" points=\"\n",
       "  2290.36,1486.45 2290.36,47.2441 \n",
       "  \"/>\n",
       "<polyline clip-path=\"url(#clip560)\" style=\"stroke:#000000; stroke-linecap:round; stroke-linejoin:round; stroke-width:4; stroke-opacity:1; fill:none\" points=\"\n",
       "  148.057,1486.45 2352.76,1486.45 \n",
       "  \"/>\n",
       "<polyline clip-path=\"url(#clip560)\" style=\"stroke:#000000; stroke-linecap:round; stroke-linejoin:round; stroke-width:4; stroke-opacity:1; fill:none\" points=\"\n",
       "  189.445,1486.45 189.445,1467.55 \n",
       "  \"/>\n",
       "<polyline clip-path=\"url(#clip560)\" style=\"stroke:#000000; stroke-linecap:round; stroke-linejoin:round; stroke-width:4; stroke-opacity:1; fill:none\" points=\"\n",
       "  714.673,1486.45 714.673,1467.55 \n",
       "  \"/>\n",
       "<polyline clip-path=\"url(#clip560)\" style=\"stroke:#000000; stroke-linecap:round; stroke-linejoin:round; stroke-width:4; stroke-opacity:1; fill:none\" points=\"\n",
       "  1239.9,1486.45 1239.9,1467.55 \n",
       "  \"/>\n",
       "<polyline clip-path=\"url(#clip560)\" style=\"stroke:#000000; stroke-linecap:round; stroke-linejoin:round; stroke-width:4; stroke-opacity:1; fill:none\" points=\"\n",
       "  1765.13,1486.45 1765.13,1467.55 \n",
       "  \"/>\n",
       "<polyline clip-path=\"url(#clip560)\" style=\"stroke:#000000; stroke-linecap:round; stroke-linejoin:round; stroke-width:4; stroke-opacity:1; fill:none\" points=\"\n",
       "  2290.36,1486.45 2290.36,1467.55 \n",
       "  \"/>\n",
       "<path clip-path=\"url(#clip560)\" d=\"M189.445 1517.37 Q185.834 1517.37 184.005 1520.93 Q182.199 1524.47 182.199 1531.6 Q182.199 1538.71 184.005 1542.27 Q185.834 1545.82 189.445 1545.82 Q193.079 1545.82 194.884 1542.27 Q196.713 1538.71 196.713 1531.6 Q196.713 1524.47 194.884 1520.93 Q193.079 1517.37 189.445 1517.37 M189.445 1513.66 Q195.255 1513.66 198.31 1518.27 Q201.389 1522.85 201.389 1531.6 Q201.389 1540.33 198.31 1544.94 Q195.255 1549.52 189.445 1549.52 Q183.634 1549.52 180.556 1544.94 Q177.5 1540.33 177.5 1531.6 Q177.5 1522.85 180.556 1518.27 Q183.634 1513.66 189.445 1513.66 Z\" fill=\"#000000\" fill-rule=\"evenodd\" fill-opacity=\"1\" /><path clip-path=\"url(#clip560)\" d=\"M693.944 1544.91 L710.263 1544.91 L710.263 1548.85 L688.319 1548.85 L688.319 1544.91 Q690.981 1542.16 695.564 1537.53 Q700.171 1532.88 701.351 1531.53 Q703.597 1529.01 704.476 1527.27 Q705.379 1525.51 705.379 1523.82 Q705.379 1521.07 703.435 1519.33 Q701.514 1517.6 698.412 1517.6 Q696.213 1517.6 693.759 1518.36 Q691.328 1519.13 688.551 1520.68 L688.551 1515.95 Q691.375 1514.82 693.828 1514.24 Q696.282 1513.66 698.319 1513.66 Q703.689 1513.66 706.884 1516.35 Q710.078 1519.03 710.078 1523.52 Q710.078 1525.65 709.268 1527.57 Q708.481 1529.47 706.375 1532.07 Q705.796 1532.74 702.694 1535.95 Q699.592 1539.15 693.944 1544.91 Z\" fill=\"#000000\" fill-rule=\"evenodd\" fill-opacity=\"1\" /><path clip-path=\"url(#clip560)\" d=\"M720.125 1514.29 L738.481 1514.29 L738.481 1518.22 L724.407 1518.22 L724.407 1526.7 Q725.425 1526.35 726.444 1526.19 Q727.462 1526 728.481 1526 Q734.268 1526 737.648 1529.17 Q741.027 1532.34 741.027 1537.76 Q741.027 1543.34 737.555 1546.44 Q734.083 1549.52 727.763 1549.52 Q725.587 1549.52 723.319 1549.15 Q721.074 1548.78 718.666 1548.04 L718.666 1543.34 Q720.75 1544.47 722.972 1545.03 Q725.194 1545.58 727.671 1545.58 Q731.675 1545.58 734.013 1543.48 Q736.351 1541.37 736.351 1537.76 Q736.351 1534.15 734.013 1532.04 Q731.675 1529.94 727.671 1529.94 Q725.796 1529.94 723.921 1530.35 Q722.069 1530.77 720.125 1531.65 L720.125 1514.29 Z\" fill=\"#000000\" fill-rule=\"evenodd\" fill-opacity=\"1\" /><path clip-path=\"url(#clip560)\" d=\"M1214.6 1514.29 L1232.96 1514.29 L1232.96 1518.22 L1218.88 1518.22 L1218.88 1526.7 Q1219.9 1526.35 1220.92 1526.19 Q1221.94 1526 1222.96 1526 Q1228.74 1526 1232.12 1529.17 Q1235.5 1532.34 1235.5 1537.76 Q1235.5 1543.34 1232.03 1546.44 Q1228.56 1549.52 1222.24 1549.52 Q1220.06 1549.52 1217.8 1549.15 Q1215.55 1548.78 1213.14 1548.04 L1213.14 1543.34 Q1215.23 1544.47 1217.45 1545.03 Q1219.67 1545.58 1222.15 1545.58 Q1226.15 1545.58 1228.49 1543.48 Q1230.83 1541.37 1230.83 1537.76 Q1230.83 1534.15 1228.49 1532.04 Q1226.15 1529.94 1222.15 1529.94 Q1220.27 1529.94 1218.4 1530.35 Q1216.55 1530.77 1214.6 1531.65 L1214.6 1514.29 Z\" fill=\"#000000\" fill-rule=\"evenodd\" fill-opacity=\"1\" /><path clip-path=\"url(#clip560)\" d=\"M1254.72 1517.37 Q1251.11 1517.37 1249.28 1520.93 Q1247.47 1524.47 1247.47 1531.6 Q1247.47 1538.71 1249.28 1542.27 Q1251.11 1545.82 1254.72 1545.82 Q1258.35 1545.82 1260.16 1542.27 Q1261.98 1538.71 1261.98 1531.6 Q1261.98 1524.47 1260.16 1520.93 Q1258.35 1517.37 1254.72 1517.37 M1254.72 1513.66 Q1260.53 1513.66 1263.58 1518.27 Q1266.66 1522.85 1266.66 1531.6 Q1266.66 1540.33 1263.58 1544.94 Q1260.53 1549.52 1254.72 1549.52 Q1248.91 1549.52 1245.83 1544.94 Q1242.77 1540.33 1242.77 1531.6 Q1242.77 1522.85 1245.83 1518.27 Q1248.91 1513.66 1254.72 1513.66 Z\" fill=\"#000000\" fill-rule=\"evenodd\" fill-opacity=\"1\" /><path clip-path=\"url(#clip560)\" d=\"M1738.98 1514.29 L1761.21 1514.29 L1761.21 1516.28 L1748.66 1548.85 L1743.78 1548.85 L1755.58 1518.22 L1738.98 1518.22 L1738.98 1514.29 Z\" fill=\"#000000\" fill-rule=\"evenodd\" fill-opacity=\"1\" /><path clip-path=\"url(#clip560)\" d=\"M1770.37 1514.29 L1788.73 1514.29 L1788.73 1518.22 L1774.66 1518.22 L1774.66 1526.7 Q1775.67 1526.35 1776.69 1526.19 Q1777.71 1526 1778.73 1526 Q1784.52 1526 1787.9 1529.17 Q1791.28 1532.34 1791.28 1537.76 Q1791.28 1543.34 1787.8 1546.44 Q1784.33 1549.52 1778.01 1549.52 Q1775.84 1549.52 1773.57 1549.15 Q1771.32 1548.78 1768.91 1548.04 L1768.91 1543.34 Q1771 1544.47 1773.22 1545.03 Q1775.44 1545.58 1777.92 1545.58 Q1781.92 1545.58 1784.26 1543.48 Q1786.6 1541.37 1786.6 1537.76 Q1786.6 1534.15 1784.26 1532.04 Q1781.92 1529.94 1777.92 1529.94 Q1776.04 1529.94 1774.17 1530.35 Q1772.32 1530.77 1770.37 1531.65 L1770.37 1514.29 Z\" fill=\"#000000\" fill-rule=\"evenodd\" fill-opacity=\"1\" /><path clip-path=\"url(#clip560)\" d=\"M2249.97 1544.91 L2257.6 1544.91 L2257.6 1518.55 L2249.29 1520.21 L2249.29 1515.95 L2257.56 1514.29 L2262.23 1514.29 L2262.23 1544.91 L2269.87 1544.91 L2269.87 1548.85 L2249.97 1548.85 L2249.97 1544.91 Z\" fill=\"#000000\" fill-rule=\"evenodd\" fill-opacity=\"1\" /><path clip-path=\"url(#clip560)\" d=\"M2289.32 1517.37 Q2285.71 1517.37 2283.88 1520.93 Q2282.07 1524.47 2282.07 1531.6 Q2282.07 1538.71 2283.88 1542.27 Q2285.71 1545.82 2289.32 1545.82 Q2292.95 1545.82 2294.76 1542.27 Q2296.59 1538.71 2296.59 1531.6 Q2296.59 1524.47 2294.76 1520.93 Q2292.95 1517.37 2289.32 1517.37 M2289.32 1513.66 Q2295.13 1513.66 2298.18 1518.27 Q2301.26 1522.85 2301.26 1531.6 Q2301.26 1540.33 2298.18 1544.94 Q2295.13 1549.52 2289.32 1549.52 Q2283.51 1549.52 2280.43 1544.94 Q2277.37 1540.33 2277.37 1531.6 Q2277.37 1522.85 2280.43 1518.27 Q2283.51 1513.66 2289.32 1513.66 Z\" fill=\"#000000\" fill-rule=\"evenodd\" fill-opacity=\"1\" /><path clip-path=\"url(#clip560)\" d=\"M2319.48 1517.37 Q2315.87 1517.37 2314.04 1520.93 Q2312.23 1524.47 2312.23 1531.6 Q2312.23 1538.71 2314.04 1542.27 Q2315.87 1545.82 2319.48 1545.82 Q2323.11 1545.82 2324.92 1542.27 Q2326.75 1538.71 2326.75 1531.6 Q2326.75 1524.47 2324.92 1520.93 Q2323.11 1517.37 2319.48 1517.37 M2319.48 1513.66 Q2325.29 1513.66 2328.34 1518.27 Q2331.42 1522.85 2331.42 1531.6 Q2331.42 1540.33 2328.34 1544.94 Q2325.29 1549.52 2319.48 1549.52 Q2313.67 1549.52 2310.59 1544.94 Q2307.53 1540.33 2307.53 1531.6 Q2307.53 1522.85 2310.59 1518.27 Q2313.67 1513.66 2319.48 1513.66 Z\" fill=\"#000000\" fill-rule=\"evenodd\" fill-opacity=\"1\" /><polyline clip-path=\"url(#clip562)\" style=\"stroke:#000000; stroke-linecap:round; stroke-linejoin:round; stroke-width:2; stroke-opacity:0.1; fill:none\" points=\"\n",
       "  148.057,1301.06 2352.76,1301.06 \n",
       "  \"/>\n",
       "<polyline clip-path=\"url(#clip562)\" style=\"stroke:#000000; stroke-linecap:round; stroke-linejoin:round; stroke-width:2; stroke-opacity:0.1; fill:none\" points=\"\n",
       "  148.057,1088.2 2352.76,1088.2 \n",
       "  \"/>\n",
       "<polyline clip-path=\"url(#clip562)\" style=\"stroke:#000000; stroke-linecap:round; stroke-linejoin:round; stroke-width:2; stroke-opacity:0.1; fill:none\" points=\"\n",
       "  148.057,875.337 2352.76,875.337 \n",
       "  \"/>\n",
       "<polyline clip-path=\"url(#clip562)\" style=\"stroke:#000000; stroke-linecap:round; stroke-linejoin:round; stroke-width:2; stroke-opacity:0.1; fill:none\" points=\"\n",
       "  148.057,662.477 2352.76,662.477 \n",
       "  \"/>\n",
       "<polyline clip-path=\"url(#clip562)\" style=\"stroke:#000000; stroke-linecap:round; stroke-linejoin:round; stroke-width:2; stroke-opacity:0.1; fill:none\" points=\"\n",
       "  148.057,449.617 2352.76,449.617 \n",
       "  \"/>\n",
       "<polyline clip-path=\"url(#clip562)\" style=\"stroke:#000000; stroke-linecap:round; stroke-linejoin:round; stroke-width:2; stroke-opacity:0.1; fill:none\" points=\"\n",
       "  148.057,236.757 2352.76,236.757 \n",
       "  \"/>\n",
       "<polyline clip-path=\"url(#clip560)\" style=\"stroke:#000000; stroke-linecap:round; stroke-linejoin:round; stroke-width:4; stroke-opacity:1; fill:none\" points=\"\n",
       "  148.057,1486.45 148.057,47.2441 \n",
       "  \"/>\n",
       "<polyline clip-path=\"url(#clip560)\" style=\"stroke:#000000; stroke-linecap:round; stroke-linejoin:round; stroke-width:4; stroke-opacity:1; fill:none\" points=\"\n",
       "  148.057,1301.06 166.954,1301.06 \n",
       "  \"/>\n",
       "<polyline clip-path=\"url(#clip560)\" style=\"stroke:#000000; stroke-linecap:round; stroke-linejoin:round; stroke-width:4; stroke-opacity:1; fill:none\" points=\"\n",
       "  148.057,1088.2 166.954,1088.2 \n",
       "  \"/>\n",
       "<polyline clip-path=\"url(#clip560)\" style=\"stroke:#000000; stroke-linecap:round; stroke-linejoin:round; stroke-width:4; stroke-opacity:1; fill:none\" points=\"\n",
       "  148.057,875.337 166.954,875.337 \n",
       "  \"/>\n",
       "<polyline clip-path=\"url(#clip560)\" style=\"stroke:#000000; stroke-linecap:round; stroke-linejoin:round; stroke-width:4; stroke-opacity:1; fill:none\" points=\"\n",
       "  148.057,662.477 166.954,662.477 \n",
       "  \"/>\n",
       "<polyline clip-path=\"url(#clip560)\" style=\"stroke:#000000; stroke-linecap:round; stroke-linejoin:round; stroke-width:4; stroke-opacity:1; fill:none\" points=\"\n",
       "  148.057,449.617 166.954,449.617 \n",
       "  \"/>\n",
       "<polyline clip-path=\"url(#clip560)\" style=\"stroke:#000000; stroke-linecap:round; stroke-linejoin:round; stroke-width:4; stroke-opacity:1; fill:none\" points=\"\n",
       "  148.057,236.757 166.954,236.757 \n",
       "  \"/>\n",
       "<path clip-path=\"url(#clip560)\" d=\"M50.9921 1301.51 L80.6679 1301.51 L80.6679 1305.44 L50.9921 1305.44 L50.9921 1301.51 Z\" fill=\"#000000\" fill-rule=\"evenodd\" fill-opacity=\"1\" /><path clip-path=\"url(#clip560)\" d=\"M104.927 1299.7 Q108.283 1300.42 110.158 1302.69 Q112.057 1304.96 112.057 1308.29 Q112.057 1313.41 108.538 1316.21 Q105.02 1319.01 98.5382 1319.01 Q96.3623 1319.01 94.0475 1318.57 Q91.7558 1318.15 89.3021 1317.3 L89.3021 1312.78 Q91.2465 1313.92 93.5613 1314.49 Q95.8761 1315.07 98.3993 1315.07 Q102.797 1315.07 105.089 1313.34 Q107.404 1311.6 107.404 1308.29 Q107.404 1305.23 105.251 1303.52 Q103.121 1301.79 99.3021 1301.79 L95.2743 1301.79 L95.2743 1297.94 L99.4872 1297.94 Q102.936 1297.94 104.765 1296.58 Q106.594 1295.19 106.594 1292.6 Q106.594 1289.93 104.696 1288.52 Q102.821 1287.09 99.3021 1287.09 Q97.3808 1287.09 95.1817 1287.5 Q92.9826 1287.92 90.3438 1288.8 L90.3438 1284.63 Q93.0058 1283.89 95.3206 1283.52 Q97.6585 1283.15 99.7187 1283.15 Q105.043 1283.15 108.145 1285.58 Q111.246 1287.99 111.246 1292.11 Q111.246 1294.98 109.603 1296.97 Q107.959 1298.94 104.927 1299.7 Z\" fill=\"#000000\" fill-rule=\"evenodd\" fill-opacity=\"1\" /><path clip-path=\"url(#clip560)\" d=\"M51.9412 1088.65 L81.617 1088.65 L81.617 1092.58 L51.9412 1092.58 L51.9412 1088.65 Z\" fill=\"#000000\" fill-rule=\"evenodd\" fill-opacity=\"1\" /><path clip-path=\"url(#clip560)\" d=\"M95.7373 1101.54 L112.057 1101.54 L112.057 1105.48 L90.1123 1105.48 L90.1123 1101.54 Q92.7743 1098.79 97.3576 1094.16 Q101.964 1089.5 103.145 1088.16 Q105.39 1085.64 106.27 1083.9 Q107.172 1082.14 107.172 1080.45 Q107.172 1077.7 105.228 1075.96 Q103.307 1074.23 100.205 1074.23 Q98.0058 1074.23 95.5521 1074.99 Q93.1215 1075.75 90.3438 1077.31 L90.3438 1072.58 Q93.1678 1071.45 95.6215 1070.87 Q98.0752 1070.29 100.112 1070.29 Q105.483 1070.29 108.677 1072.98 Q111.871 1075.66 111.871 1080.15 Q111.871 1082.28 111.061 1084.2 Q110.274 1086.1 108.168 1088.69 Q107.589 1089.37 104.487 1092.58 Q101.385 1095.78 95.7373 1101.54 Z\" fill=\"#000000\" fill-rule=\"evenodd\" fill-opacity=\"1\" /><path clip-path=\"url(#clip560)\" d=\"M51.5708 875.788 L81.2466 875.788 L81.2466 879.723 L51.5708 879.723 L51.5708 875.788 Z\" fill=\"#000000\" fill-rule=\"evenodd\" fill-opacity=\"1\" /><path clip-path=\"url(#clip560)\" d=\"M92.1493 888.681 L99.7882 888.681 L99.7882 862.316 L91.478 863.983 L91.478 859.723 L99.7419 858.057 L104.418 858.057 L104.418 888.681 L112.057 888.681 L112.057 892.617 L92.1493 892.617 L92.1493 888.681 Z\" fill=\"#000000\" fill-rule=\"evenodd\" fill-opacity=\"1\" /><path clip-path=\"url(#clip560)\" d=\"M100.112 648.275 Q96.5011 648.275 94.6724 651.84 Q92.8669 655.382 92.8669 662.511 Q92.8669 669.618 94.6724 673.183 Q96.5011 676.724 100.112 676.724 Q103.746 676.724 105.552 673.183 Q107.381 669.618 107.381 662.511 Q107.381 655.382 105.552 651.84 Q103.746 648.275 100.112 648.275 M100.112 644.572 Q105.922 644.572 108.978 649.178 Q112.057 653.761 112.057 662.511 Q112.057 671.238 108.978 675.845 Q105.922 680.428 100.112 680.428 Q94.3021 680.428 91.2234 675.845 Q88.1679 671.238 88.1679 662.511 Q88.1679 653.761 91.2234 649.178 Q94.3021 644.572 100.112 644.572 Z\" fill=\"#000000\" fill-rule=\"evenodd\" fill-opacity=\"1\" /><path clip-path=\"url(#clip560)\" d=\"M92.1493 462.961 L99.7882 462.961 L99.7882 436.596 L91.478 438.262 L91.478 434.003 L99.7419 432.337 L104.418 432.337 L104.418 462.961 L112.057 462.961 L112.057 466.897 L92.1493 466.897 L92.1493 462.961 Z\" fill=\"#000000\" fill-rule=\"evenodd\" fill-opacity=\"1\" /><path clip-path=\"url(#clip560)\" d=\"M95.7373 250.101 L112.057 250.101 L112.057 254.037 L90.1123 254.037 L90.1123 250.101 Q92.7743 247.347 97.3576 242.717 Q101.964 238.064 103.145 236.722 Q105.39 234.199 106.27 232.463 Q107.172 230.703 107.172 229.013 Q107.172 226.259 105.228 224.523 Q103.307 222.787 100.205 222.787 Q98.0058 222.787 95.5521 223.551 Q93.1215 224.314 90.3438 225.865 L90.3438 221.143 Q93.1678 220.009 95.6215 219.43 Q98.0752 218.852 100.112 218.852 Q105.483 218.852 108.677 221.537 Q111.871 224.222 111.871 228.713 Q111.871 230.842 111.061 232.763 Q110.274 234.662 108.168 237.254 Q107.589 237.925 104.487 241.143 Q101.385 244.337 95.7373 250.101 Z\" fill=\"#000000\" fill-rule=\"evenodd\" fill-opacity=\"1\" /><polyline clip-path=\"url(#clip562)\" style=\"stroke:#009af9; stroke-linecap:round; stroke-linejoin:round; stroke-width:4; stroke-opacity:1; fill:none\" points=\"\n",
       "  210.454,577.873 231.463,98.8987 252.472,935.746 273.481,246.178 294.49,693.9 315.499,423.738 336.509,543.415 357.518,795.728 378.527,850.51 399.536,846.685 \n",
       "  420.545,620.842 441.554,925.513 462.563,641.994 483.573,844.037 504.582,669.561 525.591,946.693 546.6,416.777 567.609,290.028 588.618,1154.81 609.627,622.392 \n",
       "  630.637,427.207 651.646,614.18 672.655,654.277 693.664,641.181 714.673,808.19 735.682,687.589 756.691,1010.65 777.701,966.082 798.71,756.904 819.719,746.273 \n",
       "  840.728,1025.32 861.737,822.943 882.746,411.602 903.755,1445.72 924.765,410.871 945.774,633.087 966.783,309.69 987.792,492.208 1008.8,718.95 1029.81,417.465 \n",
       "  1050.82,760.02 1071.83,766.032 1092.84,938.507 1113.85,530.98 1134.86,855.74 1155.87,647.86 1176.87,601.289 1197.88,613.387 1218.89,661.805 1239.9,561.801 \n",
       "  1260.91,818.09 1281.92,582.588 1302.93,923.541 1323.94,757.192 1344.95,591.433 1365.96,1055.22 1386.97,494.678 1407.97,806.869 1428.98,720.004 1449.99,598.745 \n",
       "  1471,609.785 1492.01,751.065 1513.02,468.368 1534.03,837.221 1555.04,429.168 1576.05,967.855 1597.06,873.074 1618.07,904.734 1639.08,531.442 1660.08,821.728 \n",
       "  1681.09,621.928 1702.1,786.315 1723.11,761.351 1744.12,236.954 1765.13,509.894 1786.14,568.268 1807.15,87.9763 1828.16,556.998 1849.17,728.668 1870.18,861.155 \n",
       "  1891.19,837.98 1912.19,516.46 1933.2,1008.51 1954.21,600.683 1975.22,643.313 1996.23,900.562 2017.24,669.892 2038.25,627.842 2059.26,436.918 2080.27,945.115 \n",
       "  2101.28,471.362 2122.29,641.887 2143.29,628.18 2164.3,436.959 2185.31,910.002 2206.32,499.311 2227.33,669.319 2248.34,919.252 2269.35,556.347 2290.36,384.697 \n",
       "  \n",
       "  \"/>\n",
       "<path clip-path=\"url(#clip560)\" d=\"\n",
       "M2006.37 1438.47 L2279.27 1438.47 L2279.27 1334.79 L2006.37 1334.79  Z\n",
       "  \" fill=\"#ffffff\" fill-rule=\"evenodd\" fill-opacity=\"1\"/>\n",
       "<polyline clip-path=\"url(#clip560)\" style=\"stroke:#000000; stroke-linecap:round; stroke-linejoin:round; stroke-width:4; stroke-opacity:1; fill:none\" points=\"\n",
       "  2006.37,1438.47 2279.27,1438.47 2279.27,1334.79 2006.37,1334.79 2006.37,1438.47 \n",
       "  \"/>\n",
       "<polyline clip-path=\"url(#clip560)\" style=\"stroke:#009af9; stroke-linecap:round; stroke-linejoin:round; stroke-width:4; stroke-opacity:1; fill:none\" points=\"\n",
       "  2030.86,1386.63 2177.84,1386.63 \n",
       "  \"/>\n",
       "<path clip-path=\"url(#clip560)\" d=\"M2216.18 1406.32 Q2214.38 1410.95 2212.66 1412.36 Q2210.95 1413.78 2208.08 1413.78 L2204.68 1413.78 L2204.68 1410.21 L2207.18 1410.21 Q2208.94 1410.21 2209.91 1409.38 Q2210.88 1408.54 2212.06 1405.44 L2212.83 1403.5 L2202.34 1377.99 L2206.85 1377.99 L2214.95 1398.27 L2223.06 1377.99 L2227.57 1377.99 L2216.18 1406.32 Z\" fill=\"#000000\" fill-rule=\"evenodd\" fill-opacity=\"1\" /><path clip-path=\"url(#clip560)\" d=\"M2234.86 1399.98 L2242.5 1399.98 L2242.5 1373.61 L2234.19 1375.28 L2234.19 1371.02 L2242.45 1369.35 L2247.13 1369.35 L2247.13 1399.98 L2254.77 1399.98 L2254.77 1403.91 L2234.86 1403.91 L2234.86 1399.98 Z\" fill=\"#000000\" fill-rule=\"evenodd\" fill-opacity=\"1\" /></svg>\n"
      ]
     },
     "execution_count": 3,
     "metadata": {},
     "output_type": "execute_result"
    }
   ],
   "source": [
    "n = 100\n",
    "ϵ = randn(n)\n",
    "plot(1:n, ϵ)"
   ]
  },
  {
   "attachments": {},
   "cell_type": "markdown",
   "id": "2f43b97c",
   "metadata": {},
   "source": [
    "Let’s break this down and see how it works.\n",
    "\n",
    "The effect of the statement `using Plots` is to make all the names exported by the `Plots` module available.\n",
    "\n",
    "If a project file was activated (i.e., running jupyter with the project files local to the notebook), it will use whatever version of `Plots.jl` that was specified in the `Project.toml` and `Manifest.toml` files.\n",
    "\n",
    "The other packages `LinearAlgebra` and `Statistics` are base Julia libraries, but require an explicit using.\n",
    "\n",
    "The arguments to `plot` are the numbers `1,2, ..., n` for the x-axis, a vector `ϵ` for the y-axis, and (optional) settings.\n",
    "\n",
    "The function `randn(n)` returns a column vector `n` random draws from a normal distribution with mean 0 and variance 1."
   ]
  },
  {
   "attachments": {},
   "cell_type": "markdown",
   "id": "18eba952",
   "metadata": {},
   "source": [
    "### Arrays\n",
    "\n",
    "As a language intended for mathematical and scientific computing, Julia has\n",
    "strong support for using unicode characters.\n",
    "\n",
    "In the above case, the `ϵ` and many other symbols can be typed in most Julia editor by providing the LaTeX and `<TAB>`, i.e. `\\epsilon<TAB>`.\n",
    "\n",
    "The return type is one of the most fundamental Julia data types: an array"
   ]
  },
  {
   "cell_type": "code",
   "execution_count": 4,
   "id": "b68e88e0",
   "metadata": {
    "hide-output": false
   },
   "outputs": [
    {
     "data": {
      "text/plain": [
       "Vector{Float64}\u001b[90m (alias for \u001b[39m\u001b[90mArray{Float64, 1}\u001b[39m\u001b[90m)\u001b[39m"
      ]
     },
     "execution_count": 4,
     "metadata": {},
     "output_type": "execute_result"
    }
   ],
   "source": [
    "typeof(ϵ)"
   ]
  },
  {
   "cell_type": "code",
   "execution_count": 5,
   "id": "bf62bc5f",
   "metadata": {
    "hide-output": false
   },
   "outputs": [
    {
     "data": {
      "text/plain": [
       "5-element Vector{Float64}:\n",
       "  0.39746266281858234\n",
       "  2.647645251842892\n",
       " -1.2837994764567677\n",
       "  1.9557393767060478\n",
       " -0.14762546934196485"
      ]
     },
     "execution_count": 5,
     "metadata": {},
     "output_type": "execute_result"
    }
   ],
   "source": [
    "ϵ[1:5]"
   ]
  },
  {
   "attachments": {},
   "cell_type": "markdown",
   "id": "62a69e80",
   "metadata": {},
   "source": [
    "The information from `typeof()` tells us that `ϵ` is an array of 64 bit floating point values, of dimension 1.\n",
    "\n",
    "In Julia, one-dimensional arrays are interpreted as column vectors for purposes of linear algebra.\n",
    "\n",
    "The `ϵ[1:5]` returns an array of the first 5 elements of `ϵ`.\n",
    "\n",
    "Notice from the above that\n",
    "\n",
    "- array indices start at 1 (like MATLAB and Fortran, but unlike Python and C)  \n",
    "- array elements are referenced using square brackets (unlike MATLAB and Fortran)  \n",
    "\n",
    "\n",
    "To get **help and examples** in Jupyter or other julia editors, use the `?` before a function name or syntax."
   ]
  },
  {
   "cell_type": "code",
   "execution_count": null,
   "id": "fa832bfe",
   "metadata": {
    "hide-output": false
   },
   "outputs": [],
   "source": [
    "?typeof\n",
    "\n",
    "search: typeof typejoin TypeError\n",
    "\n",
    "Get the concrete type of x.\n",
    "\n",
    "Examples\n",
    "\n",
    "julia> a = 1//2;\n",
    "\n",
    "julia> typeof(a)\n",
    "Rational{Int64}\n",
    "\n",
    "julia> M = [1 2; 3.5 4];\n",
    "\n",
    "julia> typeof(M)\n",
    "Array{Float64,2}"
   ]
  },
  {
   "attachments": {},
   "cell_type": "markdown",
   "id": "a518901c",
   "metadata": {},
   "source": [
    "### For Loops\n",
    "\n",
    "Although there’s no need in terms of what we wanted to achieve with our\n",
    "program, for the sake of learning syntax let’s rewrite our program to use a\n",
    "`for` loop for generating the data.\n",
    "\n",
    ">**Note**\n",
    ">\n",
    ">The rules for variables accessed in `for` and `while` loops can be sensitive to how they are used (and variables can sometimes require a `global` as part of the declaration).  We strongly advise you to avoid top level (i.e. outside of functions) `for` and `while` loops when working with `.jl`.  This scoping issue does not apply when used within functions, and will not be seen in the REPL or Jupyter notebooks.\n",
    "\n",
    "Starting with the most direct version, and pretending we are in a world where `randn` can only return a single value"
   ]
  },
  {
   "cell_type": "code",
   "execution_count": 6,
   "id": "5b0d068f",
   "metadata": {
    "hide-output": false
   },
   "outputs": [],
   "source": [
    "# poor style\n",
    "n = 100\n",
    "ϵ = zeros(n)\n",
    "for i in 1:n\n",
    "    ϵ[i] = randn()\n",
    "end"
   ]
  },
  {
   "attachments": {},
   "cell_type": "markdown",
   "id": "66c19bb3",
   "metadata": {},
   "source": [
    "Here we first declared `ϵ` to be a vector of `n` numbers, initialized by the floating point `0.0`.\n",
    "\n",
    "The `for` loop then populates this array by successive calls to `randn()`.\n",
    "\n",
    "Like all code blocks in Julia, the end of the `for` loop code block (which is just one line here) is indicated by the keyword `end`.\n",
    "\n",
    "The word `in` from the `for` loop can be replaced by either `∈` or `=`.\n",
    "\n",
    "The index variable is looped over for all integers from `1:n` – but this does not actually create a vector of those indices.\n",
    "\n",
    "Instead, it creates an **iterator** that is looped over – in this case the **range** of integers from `1` to `n`.\n",
    "\n",
    "While this example successfully fills in `ϵ` with the correct values, it is very indirect as the connection between the index `i` and the `ϵ` vector is unclear.\n",
    "\n",
    "To fix this, use `eachindex`"
   ]
  },
  {
   "cell_type": "code",
   "execution_count": 7,
   "id": "16473581",
   "metadata": {
    "hide-output": false
   },
   "outputs": [],
   "source": [
    "# better style\n",
    "n = 100\n",
    "ϵ = zeros(n)\n",
    "for i in eachindex(ϵ)\n",
    "    ϵ[i] = randn()\n",
    "end"
   ]
  },
  {
   "attachments": {},
   "cell_type": "markdown",
   "id": "b7e373fe",
   "metadata": {},
   "source": [
    "Here, `eachindex(ϵ)` returns an iterator of indices which can be used to access `ϵ`.\n",
    "\n",
    "While iterators are memory efficient because the elements are generated on the fly rather than stored in memory, the main benefit is (1) it can lead to code which is clearer and less prone to typos; and (2) it allows the compiler flexibility to creatively generate fast code.\n",
    "\n",
    "In Julia you can also loop directly over arrays themselves, like so"
   ]
  },
  {
   "cell_type": "code",
   "execution_count": 8,
   "id": "0404cfb6",
   "metadata": {
    "hide-output": false
   },
   "outputs": [
    {
     "data": {
      "text/plain": [
       "-0.4337688093419013"
      ]
     },
     "execution_count": 8,
     "metadata": {},
     "output_type": "execute_result"
    }
   ],
   "source": [
    "ϵ_sum = 0.0 # careful to use 0.0 here, instead of 0\n",
    "m = 5\n",
    "for ϵ_val in ϵ[1:m]\n",
    "    ϵ_sum = ϵ_sum + ϵ_val\n",
    "end\n",
    "ϵ_mean = ϵ_sum / m"
   ]
  },
  {
   "attachments": {},
   "cell_type": "markdown",
   "id": "2f8bda9a",
   "metadata": {},
   "source": [
    "where `ϵ[1:m]` returns the elements of the vector at indices `1` to `m`.\n",
    "\n",
    "Of course, in Julia there are built in functions to perform this calculation which we can compare against"
   ]
  },
  {
   "cell_type": "code",
   "execution_count": 9,
   "id": "32aacfd9",
   "metadata": {
    "hide-output": false
   },
   "outputs": [
    {
     "data": {
      "text/plain": [
       "true"
      ]
     },
     "execution_count": 9,
     "metadata": {},
     "output_type": "execute_result"
    }
   ],
   "source": [
    "ϵ_mean ≈ mean(ϵ[1:m])\n",
    "ϵ_mean ≈ sum(ϵ[1:m]) / m"
   ]
  },
  {
   "attachments": {},
   "cell_type": "markdown",
   "id": "16649109",
   "metadata": {},
   "source": [
    "In these examples, note the use of `≈` to test equality, rather than `==`, which is appropriate for integers and other types.\n",
    "\n",
    "Approximately equal, typed with `\\approx<TAB>`, is the appropriate way to compare any floating point numbers due to the standard issues of [floating point math](https://floating-point-gui.de/).\n",
    "\n",
    "\n",
    "<a id='user-defined-functions'></a>"
   ]
  },
  {
   "attachments": {},
   "cell_type": "markdown",
   "id": "0f2c9024",
   "metadata": {},
   "source": [
    "### User-Defined Functions\n",
    "\n",
    "For the sake of the exercise, let’s go back to the `for` loop but restructure our program so that generation of random variables takes place within a user-defined function.\n",
    "\n",
    "To make things more interesting, instead of directly plotting the draws from the distribution, let’s plot the squares of these draws"
   ]
  },
  {
   "cell_type": "code",
   "execution_count": 10,
   "id": "43a0d73a",
   "metadata": {
    "hide-output": false
   },
   "outputs": [
    {
     "data": {
      "image/svg+xml": [
       "<?xml version=\"1.0\" encoding=\"utf-8\"?>\n",
       "<svg xmlns=\"http://www.w3.org/2000/svg\" xmlns:xlink=\"http://www.w3.org/1999/xlink\" width=\"600\" height=\"400\" viewBox=\"0 0 2400 1600\">\n",
       "<defs>\n",
       "  <clipPath id=\"clip600\">\n",
       "    <rect x=\"0\" y=\"0\" width=\"2400\" height=\"1600\"/>\n",
       "  </clipPath>\n",
       "</defs>\n",
       "<path clip-path=\"url(#clip600)\" d=\"\n",
       "M0 1600 L2400 1600 L2400 0 L0 0  Z\n",
       "  \" fill=\"#ffffff\" fill-rule=\"evenodd\" fill-opacity=\"1\"/>\n",
       "<defs>\n",
       "  <clipPath id=\"clip601\">\n",
       "    <rect x=\"480\" y=\"0\" width=\"1681\" height=\"1600\"/>\n",
       "  </clipPath>\n",
       "</defs>\n",
       "<path clip-path=\"url(#clip600)\" d=\"\n",
       "M112.177 1486.45 L2352.76 1486.45 L2352.76 47.2441 L112.177 47.2441  Z\n",
       "  \" fill=\"#ffffff\" fill-rule=\"evenodd\" fill-opacity=\"1\"/>\n",
       "<defs>\n",
       "  <clipPath id=\"clip602\">\n",
       "    <rect x=\"112\" y=\"47\" width=\"2242\" height=\"1440\"/>\n",
       "  </clipPath>\n",
       "</defs>\n",
       "<polyline clip-path=\"url(#clip602)\" style=\"stroke:#000000; stroke-linecap:round; stroke-linejoin:round; stroke-width:2; stroke-opacity:0.1; fill:none\" points=\"\n",
       "  410.451,1486.45 410.451,47.2441 \n",
       "  \"/>\n",
       "<polyline clip-path=\"url(#clip602)\" style=\"stroke:#000000; stroke-linecap:round; stroke-linejoin:round; stroke-width:2; stroke-opacity:0.1; fill:none\" points=\"\n",
       "  880.174,1486.45 880.174,47.2441 \n",
       "  \"/>\n",
       "<polyline clip-path=\"url(#clip602)\" style=\"stroke:#000000; stroke-linecap:round; stroke-linejoin:round; stroke-width:2; stroke-opacity:0.1; fill:none\" points=\"\n",
       "  1349.9,1486.45 1349.9,47.2441 \n",
       "  \"/>\n",
       "<polyline clip-path=\"url(#clip602)\" style=\"stroke:#000000; stroke-linecap:round; stroke-linejoin:round; stroke-width:2; stroke-opacity:0.1; fill:none\" points=\"\n",
       "  1819.62,1486.45 1819.62,47.2441 \n",
       "  \"/>\n",
       "<polyline clip-path=\"url(#clip602)\" style=\"stroke:#000000; stroke-linecap:round; stroke-linejoin:round; stroke-width:2; stroke-opacity:0.1; fill:none\" points=\"\n",
       "  2289.34,1486.45 2289.34,47.2441 \n",
       "  \"/>\n",
       "<polyline clip-path=\"url(#clip600)\" style=\"stroke:#000000; stroke-linecap:round; stroke-linejoin:round; stroke-width:4; stroke-opacity:1; fill:none\" points=\"\n",
       "  112.177,1486.45 2352.76,1486.45 \n",
       "  \"/>\n",
       "<polyline clip-path=\"url(#clip600)\" style=\"stroke:#000000; stroke-linecap:round; stroke-linejoin:round; stroke-width:4; stroke-opacity:1; fill:none\" points=\"\n",
       "  410.451,1486.45 410.451,1467.55 \n",
       "  \"/>\n",
       "<polyline clip-path=\"url(#clip600)\" style=\"stroke:#000000; stroke-linecap:round; stroke-linejoin:round; stroke-width:4; stroke-opacity:1; fill:none\" points=\"\n",
       "  880.174,1486.45 880.174,1467.55 \n",
       "  \"/>\n",
       "<polyline clip-path=\"url(#clip600)\" style=\"stroke:#000000; stroke-linecap:round; stroke-linejoin:round; stroke-width:4; stroke-opacity:1; fill:none\" points=\"\n",
       "  1349.9,1486.45 1349.9,1467.55 \n",
       "  \"/>\n",
       "<polyline clip-path=\"url(#clip600)\" style=\"stroke:#000000; stroke-linecap:round; stroke-linejoin:round; stroke-width:4; stroke-opacity:1; fill:none\" points=\"\n",
       "  1819.62,1486.45 1819.62,1467.55 \n",
       "  \"/>\n",
       "<polyline clip-path=\"url(#clip600)\" style=\"stroke:#000000; stroke-linecap:round; stroke-linejoin:round; stroke-width:4; stroke-opacity:1; fill:none\" points=\"\n",
       "  2289.34,1486.45 2289.34,1467.55 \n",
       "  \"/>\n",
       "<path clip-path=\"url(#clip600)\" d=\"M405.104 1544.91 L421.423 1544.91 L421.423 1548.85 L399.479 1548.85 L399.479 1544.91 Q402.141 1542.16 406.724 1537.53 Q411.331 1532.88 412.511 1531.53 Q414.757 1529.01 415.636 1527.27 Q416.539 1525.51 416.539 1523.82 Q416.539 1521.07 414.595 1519.33 Q412.673 1517.6 409.572 1517.6 Q407.373 1517.6 404.919 1518.36 Q402.488 1519.13 399.711 1520.68 L399.711 1515.95 Q402.535 1514.82 404.988 1514.24 Q407.442 1513.66 409.479 1513.66 Q414.849 1513.66 418.044 1516.35 Q421.238 1519.03 421.238 1523.52 Q421.238 1525.65 420.428 1527.57 Q419.641 1529.47 417.535 1532.07 Q416.956 1532.74 413.854 1535.95 Q410.752 1539.15 405.104 1544.91 Z\" fill=\"#000000\" fill-rule=\"evenodd\" fill-opacity=\"1\" /><path clip-path=\"url(#clip600)\" d=\"M883.184 1518.36 L871.378 1536.81 L883.184 1536.81 L883.184 1518.36 M881.957 1514.29 L887.836 1514.29 L887.836 1536.81 L892.767 1536.81 L892.767 1540.7 L887.836 1540.7 L887.836 1548.85 L883.184 1548.85 L883.184 1540.7 L867.582 1540.7 L867.582 1536.19 L881.957 1514.29 Z\" fill=\"#000000\" fill-rule=\"evenodd\" fill-opacity=\"1\" /><path clip-path=\"url(#clip600)\" d=\"M1350.3 1529.7 Q1347.15 1529.7 1345.3 1531.86 Q1343.47 1534.01 1343.47 1537.76 Q1343.47 1541.49 1345.3 1543.66 Q1347.15 1545.82 1350.3 1545.82 Q1353.45 1545.82 1355.28 1543.66 Q1357.13 1541.49 1357.13 1537.76 Q1357.13 1534.01 1355.28 1531.86 Q1353.45 1529.7 1350.3 1529.7 M1359.58 1515.05 L1359.58 1519.31 Q1357.83 1518.48 1356.02 1518.04 Q1354.24 1517.6 1352.48 1517.6 Q1347.85 1517.6 1345.4 1520.72 Q1342.96 1523.85 1342.62 1530.17 Q1343.98 1528.15 1346.04 1527.09 Q1348.1 1526 1350.58 1526 Q1355.79 1526 1358.8 1529.17 Q1361.83 1532.32 1361.83 1537.76 Q1361.83 1543.08 1358.68 1546.3 Q1355.53 1549.52 1350.3 1549.52 Q1344.31 1549.52 1341.14 1544.94 Q1337.96 1540.33 1337.96 1531.6 Q1337.96 1523.41 1341.85 1518.55 Q1345.74 1513.66 1352.29 1513.66 Q1354.05 1513.66 1355.83 1514.01 Q1357.64 1514.36 1359.58 1515.05 Z\" fill=\"#000000\" fill-rule=\"evenodd\" fill-opacity=\"1\" /><path clip-path=\"url(#clip600)\" d=\"M1819.62 1532.44 Q1816.29 1532.44 1814.37 1534.22 Q1812.47 1536 1812.47 1539.13 Q1812.47 1542.25 1814.37 1544.03 Q1816.29 1545.82 1819.62 1545.82 Q1822.95 1545.82 1824.87 1544.03 Q1826.8 1542.23 1826.8 1539.13 Q1826.8 1536 1824.87 1534.22 Q1822.98 1532.44 1819.62 1532.44 M1814.94 1530.45 Q1811.94 1529.7 1810.25 1527.64 Q1808.58 1525.58 1808.58 1522.62 Q1808.58 1518.48 1811.52 1516.07 Q1814.48 1513.66 1819.62 1513.66 Q1824.78 1513.66 1827.72 1516.07 Q1830.66 1518.48 1830.66 1522.62 Q1830.66 1525.58 1828.97 1527.64 Q1827.31 1529.7 1824.32 1530.45 Q1827.7 1531.23 1829.57 1533.52 Q1831.47 1535.82 1831.47 1539.13 Q1831.47 1544.15 1828.39 1546.83 Q1825.34 1549.52 1819.62 1549.52 Q1813.9 1549.52 1810.82 1546.83 Q1807.77 1544.15 1807.77 1539.13 Q1807.77 1535.82 1809.67 1533.52 Q1811.56 1531.23 1814.94 1530.45 M1813.23 1523.06 Q1813.23 1525.75 1814.9 1527.25 Q1816.59 1528.76 1819.62 1528.76 Q1822.63 1528.76 1824.32 1527.25 Q1826.03 1525.75 1826.03 1523.06 Q1826.03 1520.38 1824.32 1518.87 Q1822.63 1517.37 1819.62 1517.37 Q1816.59 1517.37 1814.9 1518.87 Q1813.23 1520.38 1813.23 1523.06 Z\" fill=\"#000000\" fill-rule=\"evenodd\" fill-opacity=\"1\" /><path clip-path=\"url(#clip600)\" d=\"M2264.03 1544.91 L2271.67 1544.91 L2271.67 1518.55 L2263.36 1520.21 L2263.36 1515.95 L2271.62 1514.29 L2276.3 1514.29 L2276.3 1544.91 L2283.94 1544.91 L2283.94 1548.85 L2264.03 1548.85 L2264.03 1544.91 Z\" fill=\"#000000\" fill-rule=\"evenodd\" fill-opacity=\"1\" /><path clip-path=\"url(#clip600)\" d=\"M2303.38 1517.37 Q2299.77 1517.37 2297.94 1520.93 Q2296.14 1524.47 2296.14 1531.6 Q2296.14 1538.71 2297.94 1542.27 Q2299.77 1545.82 2303.38 1545.82 Q2307.02 1545.82 2308.82 1542.27 Q2310.65 1538.71 2310.65 1531.6 Q2310.65 1524.47 2308.82 1520.93 Q2307.02 1517.37 2303.38 1517.37 M2303.38 1513.66 Q2309.19 1513.66 2312.25 1518.27 Q2315.33 1522.85 2315.33 1531.6 Q2315.33 1540.33 2312.25 1544.94 Q2309.19 1549.52 2303.38 1549.52 Q2297.57 1549.52 2294.49 1544.94 Q2291.44 1540.33 2291.44 1531.6 Q2291.44 1522.85 2294.49 1518.27 Q2297.57 1513.66 2303.38 1513.66 Z\" fill=\"#000000\" fill-rule=\"evenodd\" fill-opacity=\"1\" /><polyline clip-path=\"url(#clip602)\" style=\"stroke:#000000; stroke-linecap:round; stroke-linejoin:round; stroke-width:2; stroke-opacity:0.1; fill:none\" points=\"\n",
       "  112.177,1465.43 2352.76,1465.43 \n",
       "  \"/>\n",
       "<polyline clip-path=\"url(#clip602)\" style=\"stroke:#000000; stroke-linecap:round; stroke-linejoin:round; stroke-width:2; stroke-opacity:0.1; fill:none\" points=\"\n",
       "  112.177,1084.33 2352.76,1084.33 \n",
       "  \"/>\n",
       "<polyline clip-path=\"url(#clip602)\" style=\"stroke:#000000; stroke-linecap:round; stroke-linejoin:round; stroke-width:2; stroke-opacity:0.1; fill:none\" points=\"\n",
       "  112.177,703.239 2352.76,703.239 \n",
       "  \"/>\n",
       "<polyline clip-path=\"url(#clip602)\" style=\"stroke:#000000; stroke-linecap:round; stroke-linejoin:round; stroke-width:2; stroke-opacity:0.1; fill:none\" points=\"\n",
       "  112.177,322.144 2352.76,322.144 \n",
       "  \"/>\n",
       "<polyline clip-path=\"url(#clip600)\" style=\"stroke:#000000; stroke-linecap:round; stroke-linejoin:round; stroke-width:4; stroke-opacity:1; fill:none\" points=\"\n",
       "  112.177,1486.45 112.177,47.2441 \n",
       "  \"/>\n",
       "<polyline clip-path=\"url(#clip600)\" style=\"stroke:#000000; stroke-linecap:round; stroke-linejoin:round; stroke-width:4; stroke-opacity:1; fill:none\" points=\"\n",
       "  112.177,1465.43 131.075,1465.43 \n",
       "  \"/>\n",
       "<polyline clip-path=\"url(#clip600)\" style=\"stroke:#000000; stroke-linecap:round; stroke-linejoin:round; stroke-width:4; stroke-opacity:1; fill:none\" points=\"\n",
       "  112.177,1084.33 131.075,1084.33 \n",
       "  \"/>\n",
       "<polyline clip-path=\"url(#clip600)\" style=\"stroke:#000000; stroke-linecap:round; stroke-linejoin:round; stroke-width:4; stroke-opacity:1; fill:none\" points=\"\n",
       "  112.177,703.239 131.075,703.239 \n",
       "  \"/>\n",
       "<polyline clip-path=\"url(#clip600)\" style=\"stroke:#000000; stroke-linecap:round; stroke-linejoin:round; stroke-width:4; stroke-opacity:1; fill:none\" points=\"\n",
       "  112.177,322.144 131.075,322.144 \n",
       "  \"/>\n",
       "<path clip-path=\"url(#clip600)\" d=\"M64.2328 1451.23 Q60.6217 1451.23 58.793 1454.79 Q56.9875 1458.34 56.9875 1465.46 Q56.9875 1472.57 58.793 1476.14 Q60.6217 1479.68 64.2328 1479.68 Q67.867 1479.68 69.6726 1476.14 Q71.5013 1472.57 71.5013 1465.46 Q71.5013 1458.34 69.6726 1454.79 Q67.867 1451.23 64.2328 1451.23 M64.2328 1447.52 Q70.0429 1447.52 73.0985 1452.13 Q76.1772 1456.71 76.1772 1465.46 Q76.1772 1474.19 73.0985 1478.8 Q70.0429 1483.38 64.2328 1483.38 Q58.4226 1483.38 55.344 1478.8 Q52.2884 1474.19 52.2884 1465.46 Q52.2884 1456.71 55.344 1452.13 Q58.4226 1447.52 64.2328 1447.52 Z\" fill=\"#000000\" fill-rule=\"evenodd\" fill-opacity=\"1\" /><path clip-path=\"url(#clip600)\" d=\"M59.8578 1097.68 L76.1772 1097.68 L76.1772 1101.61 L54.2328 1101.61 L54.2328 1097.68 Q56.8949 1094.92 61.4782 1090.3 Q66.0846 1085.64 67.2652 1084.3 Q69.5105 1081.78 70.3902 1080.04 Q71.2929 1078.28 71.2929 1076.59 Q71.2929 1073.84 69.3485 1072.1 Q67.4272 1070.36 64.3254 1070.36 Q62.1263 1070.36 59.6726 1071.13 Q57.2421 1071.89 54.4643 1073.44 L54.4643 1068.72 Q57.2884 1067.59 59.7421 1067.01 Q62.1958 1066.43 64.2328 1066.43 Q69.6031 1066.43 72.7976 1069.11 Q75.992 1071.8 75.992 1076.29 Q75.992 1078.42 75.1818 1080.34 Q74.3948 1082.24 72.2883 1084.83 Q71.7096 1085.5 68.6078 1088.72 Q65.5059 1091.92 59.8578 1097.68 Z\" fill=\"#000000\" fill-rule=\"evenodd\" fill-opacity=\"1\" /><path clip-path=\"url(#clip600)\" d=\"M66.5939 690.033 L54.7884 708.482 L66.5939 708.482 L66.5939 690.033 M65.367 685.959 L71.2466 685.959 L71.2466 708.482 L76.1772 708.482 L76.1772 712.371 L71.2466 712.371 L71.2466 720.519 L66.5939 720.519 L66.5939 712.371 L50.9921 712.371 L50.9921 707.857 L65.367 685.959 Z\" fill=\"#000000\" fill-rule=\"evenodd\" fill-opacity=\"1\" /><path clip-path=\"url(#clip600)\" d=\"M64.6495 320.281 Q61.5013 320.281 59.6495 322.433 Q57.8208 324.586 57.8208 328.336 Q57.8208 332.063 59.6495 334.239 Q61.5013 336.392 64.6495 336.392 Q67.7976 336.392 69.6263 334.239 Q71.4781 332.063 71.4781 328.336 Q71.4781 324.586 69.6263 322.433 Q67.7976 320.281 64.6495 320.281 M73.9318 305.628 L73.9318 309.887 Q72.1726 309.054 70.367 308.614 Q68.5846 308.174 66.8254 308.174 Q62.1958 308.174 59.7421 311.299 Q57.3115 314.424 56.9643 320.744 Q58.33 318.73 60.3902 317.665 Q62.4504 316.577 64.9272 316.577 Q70.1355 316.577 73.1448 319.748 Q76.1772 322.896 76.1772 328.336 Q76.1772 333.66 73.029 336.878 Q69.8809 340.095 64.6495 340.095 Q58.6541 340.095 55.4828 335.512 Q52.3116 330.906 52.3116 322.179 Q52.3116 313.984 56.2004 309.123 Q60.0893 304.239 66.6402 304.239 Q68.3994 304.239 70.1818 304.586 Q71.9874 304.933 73.9318 305.628 Z\" fill=\"#000000\" fill-rule=\"evenodd\" fill-opacity=\"1\" /><polyline clip-path=\"url(#clip602)\" style=\"stroke:#009af9; stroke-linecap:round; stroke-linejoin:round; stroke-width:4; stroke-opacity:1; fill:none\" points=\"\n",
       "  175.59,1414.38 410.451,1432.99 645.313,1070.65 880.174,1443.95 1115.04,1308.59 1349.9,1445.72 1584.76,1316.77 1819.62,1417.12 2054.48,87.9763 2289.34,1442.31 \n",
       "  \n",
       "  \"/>\n",
       "<path clip-path=\"url(#clip600)\" d=\"\n",
       "M186.863 198.898 L463.351 198.898 L463.351 95.2176 L186.863 95.2176  Z\n",
       "  \" fill=\"#ffffff\" fill-rule=\"evenodd\" fill-opacity=\"1\"/>\n",
       "<polyline clip-path=\"url(#clip600)\" style=\"stroke:#000000; stroke-linecap:round; stroke-linejoin:round; stroke-width:4; stroke-opacity:1; fill:none\" points=\"\n",
       "  186.863,198.898 463.351,198.898 463.351,95.2176 186.863,95.2176 186.863,198.898 \n",
       "  \"/>\n",
       "<polyline clip-path=\"url(#clip600)\" style=\"stroke:#009af9; stroke-linecap:round; stroke-linejoin:round; stroke-width:4; stroke-opacity:1; fill:none\" points=\"\n",
       "  211.758,147.058 361.13,147.058 \n",
       "  \"/>\n",
       "<path clip-path=\"url(#clip600)\" d=\"M399.868 166.745 Q398.063 171.375 396.35 172.787 Q394.637 174.199 391.766 174.199 L388.364 174.199 L388.364 170.634 L390.864 170.634 Q392.623 170.634 393.595 169.8 Q394.567 168.967 395.748 165.865 L396.512 163.921 L386.026 138.412 L390.54 138.412 L398.641 158.689 L406.743 138.412 L411.257 138.412 L399.868 166.745 Z\" fill=\"#000000\" fill-rule=\"evenodd\" fill-opacity=\"1\" /><path clip-path=\"url(#clip600)\" d=\"M418.549 160.402 L426.188 160.402 L426.188 134.037 L417.877 135.703 L417.877 131.444 L426.141 129.778 L430.817 129.778 L430.817 160.402 L438.456 160.402 L438.456 164.338 L418.549 164.338 L418.549 160.402 Z\" fill=\"#000000\" fill-rule=\"evenodd\" fill-opacity=\"1\" /></svg>\n"
      ]
     },
     "execution_count": 10,
     "metadata": {},
     "output_type": "execute_result"
    }
   ],
   "source": [
    "# poor style\n",
    "function generatedata(n)\n",
    "    ϵ = zeros(n)\n",
    "    for i in eachindex(ϵ)\n",
    "        ϵ[i] = (randn())^2 # squaring the result\n",
    "    end\n",
    "    return ϵ\n",
    "end\n",
    "\n",
    "data = generatedata(10)\n",
    "plot(data)"
   ]
  },
  {
   "attachments": {},
   "cell_type": "markdown",
   "id": "0766fd3c",
   "metadata": {},
   "source": [
    "Here\n",
    "\n",
    "- `function` is a Julia keyword that indicates the start of a function definition  \n",
    "- `generatedata` is an arbitrary name for the function  \n",
    "- `return` is a keyword indicating the return value, as is often unnecessary  \n",
    "\n",
    "\n",
    "Let us make this example slightly better by “remembering” that `randn` can return a vectors."
   ]
  },
  {
   "cell_type": "code",
   "execution_count": 11,
   "id": "84790c21",
   "metadata": {
    "hide-output": false
   },
   "outputs": [
    {
     "data": {
      "text/plain": [
       "5-element Vector{Float64}:\n",
       " 0.18019352658860058\n",
       " 0.35445307003685234\n",
       " 2.3409206167538272\n",
       " 0.8929011047984071\n",
       " 0.18384825029412383"
      ]
     },
     "execution_count": 11,
     "metadata": {},
     "output_type": "execute_result"
    }
   ],
   "source": [
    "# still poor style\n",
    "function generatedata(n)\n",
    "    ϵ = randn(n) # use built in function\n",
    "\n",
    "    for i in eachindex(ϵ)\n",
    "        ϵ[i] = ϵ[i]^2 # squaring the result\n",
    "    end\n",
    "\n",
    "    return ϵ\n",
    "end\n",
    "data = generatedata(5)"
   ]
  },
  {
   "attachments": {},
   "cell_type": "markdown",
   "id": "97106fb3",
   "metadata": {},
   "source": [
    "While better, the looping over the `i` index to square the results is difficult to read.\n",
    "\n",
    "Instead of looping, we can **broadcast** the `^2` square function over a vector using a `.`.\n",
    "\n",
    "To be clear, unlike Python, R, and MATLAB (to a lesser extent), the reason to drop the `for` is **not** for performance reasons, but rather because of code clarity.\n",
    "\n",
    "Loops of this sort are at least as efficient as vectorized approach in compiled languages like Julia, so use a for loop if you think it makes the code more clear."
   ]
  },
  {
   "cell_type": "code",
   "execution_count": 12,
   "id": "4190a8ce",
   "metadata": {
    "hide-output": false
   },
   "outputs": [
    {
     "data": {
      "text/plain": [
       "5-element Vector{Float64}:\n",
       " 3.6253708279603973\n",
       " 0.006146921349297236\n",
       " 5.050368831865418\n",
       " 3.917192923650125\n",
       " 0.37943820549589663"
      ]
     },
     "execution_count": 12,
     "metadata": {},
     "output_type": "execute_result"
    }
   ],
   "source": [
    "# better style\n",
    "function generatedata(n)\n",
    "    ϵ = randn(n) # use built in function\n",
    "    return ϵ.^2\n",
    " end\n",
    "data = generatedata(5)"
   ]
  },
  {
   "attachments": {},
   "cell_type": "markdown",
   "id": "5a57d115",
   "metadata": {},
   "source": [
    "We can even drop the `function` if we define it on a single line."
   ]
  },
  {
   "cell_type": "code",
   "execution_count": 13,
   "id": "423b4075",
   "metadata": {
    "hide-output": false
   },
   "outputs": [
    {
     "data": {
      "text/plain": [
       "5-element Vector{Float64}:\n",
       " 6.273166424814722\n",
       " 1.917680186287883\n",
       " 0.36500383504000616\n",
       " 3.1327755646215008\n",
       " 0.9777155980642884"
      ]
     },
     "execution_count": 13,
     "metadata": {},
     "output_type": "execute_result"
    }
   ],
   "source": [
    "# good style\n",
    "generatedata(n) = randn(n).^2\n",
    "data = generatedata(5)"
   ]
  },
  {
   "attachments": {},
   "cell_type": "markdown",
   "id": "68886418",
   "metadata": {},
   "source": [
    "Finally, we can broadcast any function, where squaring is only a special case."
   ]
  },
  {
   "cell_type": "code",
   "execution_count": 14,
   "id": "0a795fc0",
   "metadata": {
    "hide-output": false
   },
   "outputs": [
    {
     "data": {
      "text/plain": [
       "5-element Vector{Float64}:\n",
       " 0.05747875646521377\n",
       " 6.420959024748381\n",
       " 2.035667002176816\n",
       " 1.1605969634503237\n",
       " 0.21071315166535823"
      ]
     },
     "execution_count": 14,
     "metadata": {},
     "output_type": "execute_result"
    }
   ],
   "source": [
    "# good style\n",
    "f(x) = x^2 # simple square function\n",
    "generatedata(n) = f.(randn(n)) # broadcasts on f\n",
    "data = generatedata(5)"
   ]
  },
  {
   "attachments": {},
   "cell_type": "markdown",
   "id": "fb467c3e",
   "metadata": {},
   "source": [
    "As a final – abstract – approach, we can make the `generatedata` function able to generically apply to a function."
   ]
  },
  {
   "cell_type": "code",
   "execution_count": 15,
   "id": "788d5d90",
   "metadata": {
    "hide-output": false
   },
   "outputs": [
    {
     "data": {
      "text/plain": [
       "5-element Vector{Float64}:\n",
       " 1.13605049182936\n",
       " 2.681617126040935\n",
       " 0.005173758405201123\n",
       " 0.17186954279423258\n",
       " 0.0014194317433881454"
      ]
     },
     "execution_count": 15,
     "metadata": {},
     "output_type": "execute_result"
    }
   ],
   "source": [
    "generatedata(n, gen) = gen.(randn(n)) # broadcasts on gen\n",
    "f(x) = x^2 # simple square function\n",
    "data = generatedata(5, f) # applies f"
   ]
  },
  {
   "attachments": {},
   "cell_type": "markdown",
   "id": "ed87f7bd",
   "metadata": {},
   "source": [
    "Whether this example is better or worse than the previous version depends on how it is used.\n",
    "\n",
    "High degrees of abstraction and generality, e.g. passing in a function `f` in this case, can make code either clearer or more confusing, but Julia enables you to use these techniques **with no performance overhead**.\n",
    "\n",
    "For this particular case, the clearest and most general solution is probably the simplest."
   ]
  },
  {
   "cell_type": "code",
   "execution_count": 16,
   "id": "6c8949d6",
   "metadata": {
    "hide-output": false
   },
   "outputs": [
    {
     "data": {
      "image/svg+xml": [
       "<?xml version=\"1.0\" encoding=\"utf-8\"?>\n",
       "<svg xmlns=\"http://www.w3.org/2000/svg\" xmlns:xlink=\"http://www.w3.org/1999/xlink\" width=\"600\" height=\"400\" viewBox=\"0 0 2400 1600\">\n",
       "<defs>\n",
       "  <clipPath id=\"clip640\">\n",
       "    <rect x=\"0\" y=\"0\" width=\"2400\" height=\"1600\"/>\n",
       "  </clipPath>\n",
       "</defs>\n",
       "<path clip-path=\"url(#clip640)\" d=\"\n",
       "M0 1600 L2400 1600 L2400 0 L0 0  Z\n",
       "  \" fill=\"#ffffff\" fill-rule=\"evenodd\" fill-opacity=\"1\"/>\n",
       "<defs>\n",
       "  <clipPath id=\"clip641\">\n",
       "    <rect x=\"480\" y=\"0\" width=\"1681\" height=\"1600\"/>\n",
       "  </clipPath>\n",
       "</defs>\n",
       "<defs>\n",
       "  <clipPath id=\"clip642\">\n",
       "    <rect x=\"112\" y=\"47\" width=\"2242\" height=\"1440\"/>\n",
       "  </clipPath>\n",
       "</defs>\n",
       "<path clip-path=\"url(#clip640)\" d=\"\n",
       "M147.108 1486.45 L2352.76 1486.45 L2352.76 47.2441 L147.108 47.2441  Z\n",
       "  \" fill=\"#ffffff\" fill-rule=\"evenodd\" fill-opacity=\"1\"/>\n",
       "<defs>\n",
       "  <clipPath id=\"clip643\">\n",
       "    <rect x=\"147\" y=\"47\" width=\"2207\" height=\"1440\"/>\n",
       "  </clipPath>\n",
       "</defs>\n",
       "<polyline clip-path=\"url(#clip643)\" style=\"stroke:#000000; stroke-linecap:round; stroke-linejoin:round; stroke-width:2; stroke-opacity:0.1; fill:none\" points=\"\n",
       "  188.513,1486.45 188.513,47.2441 \n",
       "  \"/>\n",
       "<polyline clip-path=\"url(#clip643)\" style=\"stroke:#000000; stroke-linecap:round; stroke-linejoin:round; stroke-width:2; stroke-opacity:0.1; fill:none\" points=\"\n",
       "  713.968,1486.45 713.968,47.2441 \n",
       "  \"/>\n",
       "<polyline clip-path=\"url(#clip643)\" style=\"stroke:#000000; stroke-linecap:round; stroke-linejoin:round; stroke-width:2; stroke-opacity:0.1; fill:none\" points=\"\n",
       "  1239.42,1486.45 1239.42,47.2441 \n",
       "  \"/>\n",
       "<polyline clip-path=\"url(#clip643)\" style=\"stroke:#000000; stroke-linecap:round; stroke-linejoin:round; stroke-width:2; stroke-opacity:0.1; fill:none\" points=\"\n",
       "  1764.88,1486.45 1764.88,47.2441 \n",
       "  \"/>\n",
       "<polyline clip-path=\"url(#clip643)\" style=\"stroke:#000000; stroke-linecap:round; stroke-linejoin:round; stroke-width:2; stroke-opacity:0.1; fill:none\" points=\"\n",
       "  2290.33,1486.45 2290.33,47.2441 \n",
       "  \"/>\n",
       "<polyline clip-path=\"url(#clip640)\" style=\"stroke:#000000; stroke-linecap:round; stroke-linejoin:round; stroke-width:4; stroke-opacity:1; fill:none\" points=\"\n",
       "  147.108,1486.45 2352.76,1486.45 \n",
       "  \"/>\n",
       "<polyline clip-path=\"url(#clip640)\" style=\"stroke:#000000; stroke-linecap:round; stroke-linejoin:round; stroke-width:4; stroke-opacity:1; fill:none\" points=\"\n",
       "  188.513,1486.45 188.513,1467.55 \n",
       "  \"/>\n",
       "<polyline clip-path=\"url(#clip640)\" style=\"stroke:#000000; stroke-linecap:round; stroke-linejoin:round; stroke-width:4; stroke-opacity:1; fill:none\" points=\"\n",
       "  713.968,1486.45 713.968,1467.55 \n",
       "  \"/>\n",
       "<polyline clip-path=\"url(#clip640)\" style=\"stroke:#000000; stroke-linecap:round; stroke-linejoin:round; stroke-width:4; stroke-opacity:1; fill:none\" points=\"\n",
       "  1239.42,1486.45 1239.42,1467.55 \n",
       "  \"/>\n",
       "<polyline clip-path=\"url(#clip640)\" style=\"stroke:#000000; stroke-linecap:round; stroke-linejoin:round; stroke-width:4; stroke-opacity:1; fill:none\" points=\"\n",
       "  1764.88,1486.45 1764.88,1467.55 \n",
       "  \"/>\n",
       "<polyline clip-path=\"url(#clip640)\" style=\"stroke:#000000; stroke-linecap:round; stroke-linejoin:round; stroke-width:4; stroke-opacity:1; fill:none\" points=\"\n",
       "  2290.33,1486.45 2290.33,1467.55 \n",
       "  \"/>\n",
       "<path clip-path=\"url(#clip640)\" d=\"M188.513 1517.37 Q184.902 1517.37 183.074 1520.93 Q181.268 1524.47 181.268 1531.6 Q181.268 1538.71 183.074 1542.27 Q184.902 1545.82 188.513 1545.82 Q192.148 1545.82 193.953 1542.27 Q195.782 1538.71 195.782 1531.6 Q195.782 1524.47 193.953 1520.93 Q192.148 1517.37 188.513 1517.37 M188.513 1513.66 Q194.324 1513.66 197.379 1518.27 Q200.458 1522.85 200.458 1531.6 Q200.458 1540.33 197.379 1544.94 Q194.324 1549.52 188.513 1549.52 Q182.703 1549.52 179.625 1544.94 Q176.569 1540.33 176.569 1531.6 Q176.569 1522.85 179.625 1518.27 Q182.703 1513.66 188.513 1513.66 Z\" fill=\"#000000\" fill-rule=\"evenodd\" fill-opacity=\"1\" /><path clip-path=\"url(#clip640)\" d=\"M693.239 1544.91 L709.558 1544.91 L709.558 1548.85 L687.614 1548.85 L687.614 1544.91 Q690.276 1542.16 694.859 1537.53 Q699.466 1532.88 700.646 1531.53 Q702.892 1529.01 703.771 1527.27 Q704.674 1525.51 704.674 1523.82 Q704.674 1521.07 702.73 1519.33 Q700.808 1517.6 697.707 1517.6 Q695.507 1517.6 693.054 1518.36 Q690.623 1519.13 687.845 1520.68 L687.845 1515.95 Q690.67 1514.82 693.123 1514.24 Q695.577 1513.66 697.614 1513.66 Q702.984 1513.66 706.179 1516.35 Q709.373 1519.03 709.373 1523.52 Q709.373 1525.65 708.563 1527.57 Q707.776 1529.47 705.669 1532.07 Q705.091 1532.74 701.989 1535.95 Q698.887 1539.15 693.239 1544.91 Z\" fill=\"#000000\" fill-rule=\"evenodd\" fill-opacity=\"1\" /><path clip-path=\"url(#clip640)\" d=\"M719.419 1514.29 L737.776 1514.29 L737.776 1518.22 L723.702 1518.22 L723.702 1526.7 Q724.72 1526.35 725.739 1526.19 Q726.757 1526 727.776 1526 Q733.563 1526 736.942 1529.17 Q740.322 1532.34 740.322 1537.76 Q740.322 1543.34 736.85 1546.44 Q733.378 1549.52 727.058 1549.52 Q724.882 1549.52 722.614 1549.15 Q720.368 1548.78 717.961 1548.04 L717.961 1543.34 Q720.044 1544.47 722.267 1545.03 Q724.489 1545.58 726.966 1545.58 Q730.97 1545.58 733.308 1543.48 Q735.646 1541.37 735.646 1537.76 Q735.646 1534.15 733.308 1532.04 Q730.97 1529.94 726.966 1529.94 Q725.091 1529.94 723.216 1530.35 Q721.364 1530.77 719.419 1531.65 L719.419 1514.29 Z\" fill=\"#000000\" fill-rule=\"evenodd\" fill-opacity=\"1\" /><path clip-path=\"url(#clip640)\" d=\"M1214.12 1514.29 L1232.48 1514.29 L1232.48 1518.22 L1218.4 1518.22 L1218.4 1526.7 Q1219.42 1526.35 1220.44 1526.19 Q1221.46 1526 1222.48 1526 Q1228.27 1526 1231.64 1529.17 Q1235.02 1532.34 1235.02 1537.76 Q1235.02 1543.34 1231.55 1546.44 Q1228.08 1549.52 1221.76 1549.52 Q1219.58 1549.52 1217.32 1549.15 Q1215.07 1548.78 1212.66 1548.04 L1212.66 1543.34 Q1214.75 1544.47 1216.97 1545.03 Q1219.19 1545.58 1221.67 1545.58 Q1225.67 1545.58 1228.01 1543.48 Q1230.35 1541.37 1230.35 1537.76 Q1230.35 1534.15 1228.01 1532.04 Q1225.67 1529.94 1221.67 1529.94 Q1219.79 1529.94 1217.92 1530.35 Q1216.07 1530.77 1214.12 1531.65 L1214.12 1514.29 Z\" fill=\"#000000\" fill-rule=\"evenodd\" fill-opacity=\"1\" /><path clip-path=\"url(#clip640)\" d=\"M1254.24 1517.37 Q1250.63 1517.37 1248.8 1520.93 Q1246.99 1524.47 1246.99 1531.6 Q1246.99 1538.71 1248.8 1542.27 Q1250.63 1545.82 1254.24 1545.82 Q1257.87 1545.82 1259.68 1542.27 Q1261.51 1538.71 1261.51 1531.6 Q1261.51 1524.47 1259.68 1520.93 Q1257.87 1517.37 1254.24 1517.37 M1254.24 1513.66 Q1260.05 1513.66 1263.1 1518.27 Q1266.18 1522.85 1266.18 1531.6 Q1266.18 1540.33 1263.1 1544.94 Q1260.05 1549.52 1254.24 1549.52 Q1248.43 1549.52 1245.35 1544.94 Q1242.29 1540.33 1242.29 1531.6 Q1242.29 1522.85 1245.35 1518.27 Q1248.43 1513.66 1254.24 1513.66 Z\" fill=\"#000000\" fill-rule=\"evenodd\" fill-opacity=\"1\" /><path clip-path=\"url(#clip640)\" d=\"M1738.73 1514.29 L1760.95 1514.29 L1760.95 1516.28 L1748.41 1548.85 L1743.52 1548.85 L1755.33 1518.22 L1738.73 1518.22 L1738.73 1514.29 Z\" fill=\"#000000\" fill-rule=\"evenodd\" fill-opacity=\"1\" /><path clip-path=\"url(#clip640)\" d=\"M1770.12 1514.29 L1788.48 1514.29 L1788.48 1518.22 L1774.4 1518.22 L1774.4 1526.7 Q1775.42 1526.35 1776.44 1526.19 Q1777.46 1526 1778.48 1526 Q1784.26 1526 1787.64 1529.17 Q1791.02 1532.34 1791.02 1537.76 Q1791.02 1543.34 1787.55 1546.44 Q1784.08 1549.52 1777.76 1549.52 Q1775.58 1549.52 1773.31 1549.15 Q1771.07 1548.78 1768.66 1548.04 L1768.66 1543.34 Q1770.75 1544.47 1772.97 1545.03 Q1775.19 1545.58 1777.67 1545.58 Q1781.67 1545.58 1784.01 1543.48 Q1786.35 1541.37 1786.35 1537.76 Q1786.35 1534.15 1784.01 1532.04 Q1781.67 1529.94 1777.67 1529.94 Q1775.79 1529.94 1773.92 1530.35 Q1772.06 1530.77 1770.12 1531.65 L1770.12 1514.29 Z\" fill=\"#000000\" fill-rule=\"evenodd\" fill-opacity=\"1\" /><path clip-path=\"url(#clip640)\" d=\"M2249.94 1544.91 L2257.58 1544.91 L2257.58 1518.55 L2249.27 1520.21 L2249.27 1515.95 L2257.53 1514.29 L2262.21 1514.29 L2262.21 1544.91 L2269.85 1544.91 L2269.85 1548.85 L2249.94 1548.85 L2249.94 1544.91 Z\" fill=\"#000000\" fill-rule=\"evenodd\" fill-opacity=\"1\" /><path clip-path=\"url(#clip640)\" d=\"M2289.29 1517.37 Q2285.68 1517.37 2283.85 1520.93 Q2282.04 1524.47 2282.04 1531.6 Q2282.04 1538.71 2283.85 1542.27 Q2285.68 1545.82 2289.29 1545.82 Q2292.92 1545.82 2294.73 1542.27 Q2296.56 1538.71 2296.56 1531.6 Q2296.56 1524.47 2294.73 1520.93 Q2292.92 1517.37 2289.29 1517.37 M2289.29 1513.66 Q2295.1 1513.66 2298.16 1518.27 Q2301.23 1522.85 2301.23 1531.6 Q2301.23 1540.33 2298.16 1544.94 Q2295.1 1549.52 2289.29 1549.52 Q2283.48 1549.52 2280.4 1544.94 Q2277.35 1540.33 2277.35 1531.6 Q2277.35 1522.85 2280.4 1518.27 Q2283.48 1513.66 2289.29 1513.66 Z\" fill=\"#000000\" fill-rule=\"evenodd\" fill-opacity=\"1\" /><path clip-path=\"url(#clip640)\" d=\"M2319.45 1517.37 Q2315.84 1517.37 2314.01 1520.93 Q2312.21 1524.47 2312.21 1531.6 Q2312.21 1538.71 2314.01 1542.27 Q2315.84 1545.82 2319.45 1545.82 Q2323.09 1545.82 2324.89 1542.27 Q2326.72 1538.71 2326.72 1531.6 Q2326.72 1524.47 2324.89 1520.93 Q2323.09 1517.37 2319.45 1517.37 M2319.45 1513.66 Q2325.26 1513.66 2328.32 1518.27 Q2331.4 1522.85 2331.4 1531.6 Q2331.4 1540.33 2328.32 1544.94 Q2325.26 1549.52 2319.45 1549.52 Q2313.64 1549.52 2310.56 1544.94 Q2307.51 1540.33 2307.51 1531.6 Q2307.51 1522.85 2310.56 1518.27 Q2313.64 1513.66 2319.45 1513.66 Z\" fill=\"#000000\" fill-rule=\"evenodd\" fill-opacity=\"1\" /><polyline clip-path=\"url(#clip643)\" style=\"stroke:#000000; stroke-linecap:round; stroke-linejoin:round; stroke-width:2; stroke-opacity:0.1; fill:none\" points=\"\n",
       "  147.108,1372.57 2352.76,1372.57 \n",
       "  \"/>\n",
       "<polyline clip-path=\"url(#clip643)\" style=\"stroke:#000000; stroke-linecap:round; stroke-linejoin:round; stroke-width:2; stroke-opacity:0.1; fill:none\" points=\"\n",
       "  147.108,1053.06 2352.76,1053.06 \n",
       "  \"/>\n",
       "<polyline clip-path=\"url(#clip643)\" style=\"stroke:#000000; stroke-linecap:round; stroke-linejoin:round; stroke-width:2; stroke-opacity:0.1; fill:none\" points=\"\n",
       "  147.108,733.559 2352.76,733.559 \n",
       "  \"/>\n",
       "<polyline clip-path=\"url(#clip643)\" style=\"stroke:#000000; stroke-linecap:round; stroke-linejoin:round; stroke-width:2; stroke-opacity:0.1; fill:none\" points=\"\n",
       "  147.108,414.054 2352.76,414.054 \n",
       "  \"/>\n",
       "<polyline clip-path=\"url(#clip643)\" style=\"stroke:#000000; stroke-linecap:round; stroke-linejoin:round; stroke-width:2; stroke-opacity:0.1; fill:none\" points=\"\n",
       "  147.108,94.5482 2352.76,94.5482 \n",
       "  \"/>\n",
       "<polyline clip-path=\"url(#clip640)\" style=\"stroke:#000000; stroke-linecap:round; stroke-linejoin:round; stroke-width:4; stroke-opacity:1; fill:none\" points=\"\n",
       "  147.108,1486.45 147.108,47.2441 \n",
       "  \"/>\n",
       "<polyline clip-path=\"url(#clip640)\" style=\"stroke:#000000; stroke-linecap:round; stroke-linejoin:round; stroke-width:4; stroke-opacity:1; fill:none\" points=\"\n",
       "  147.108,1372.57 166.005,1372.57 \n",
       "  \"/>\n",
       "<polyline clip-path=\"url(#clip640)\" style=\"stroke:#000000; stroke-linecap:round; stroke-linejoin:round; stroke-width:4; stroke-opacity:1; fill:none\" points=\"\n",
       "  147.108,1053.06 166.005,1053.06 \n",
       "  \"/>\n",
       "<polyline clip-path=\"url(#clip640)\" style=\"stroke:#000000; stroke-linecap:round; stroke-linejoin:round; stroke-width:4; stroke-opacity:1; fill:none\" points=\"\n",
       "  147.108,733.559 166.005,733.559 \n",
       "  \"/>\n",
       "<polyline clip-path=\"url(#clip640)\" style=\"stroke:#000000; stroke-linecap:round; stroke-linejoin:round; stroke-width:4; stroke-opacity:1; fill:none\" points=\"\n",
       "  147.108,414.054 166.005,414.054 \n",
       "  \"/>\n",
       "<polyline clip-path=\"url(#clip640)\" style=\"stroke:#000000; stroke-linecap:round; stroke-linejoin:round; stroke-width:4; stroke-opacity:1; fill:none\" points=\"\n",
       "  147.108,94.5482 166.005,94.5482 \n",
       "  \"/>\n",
       "<path clip-path=\"url(#clip640)\" d=\"M50.9921 1373.02 L80.6679 1373.02 L80.6679 1376.96 L50.9921 1376.96 L50.9921 1373.02 Z\" fill=\"#000000\" fill-rule=\"evenodd\" fill-opacity=\"1\" /><path clip-path=\"url(#clip640)\" d=\"M94.7882 1385.91 L111.108 1385.91 L111.108 1389.85 L89.1632 1389.85 L89.1632 1385.91 Q91.8252 1383.16 96.4085 1378.53 Q101.015 1373.88 102.196 1372.53 Q104.441 1370.01 105.321 1368.28 Q106.223 1366.52 106.223 1364.83 Q106.223 1362.07 104.279 1360.34 Q102.358 1358.6 99.2558 1358.6 Q97.0567 1358.6 94.603 1359.36 Q92.1725 1360.13 89.3947 1361.68 L89.3947 1356.96 Q92.2188 1355.82 94.6724 1355.24 Q97.1261 1354.66 99.1632 1354.66 Q104.534 1354.66 107.728 1357.35 Q110.922 1360.03 110.922 1364.53 Q110.922 1366.65 110.112 1368.58 Q109.325 1370.47 107.219 1373.07 Q106.64 1373.74 103.538 1376.96 Q100.436 1380.15 94.7882 1385.91 Z\" fill=\"#000000\" fill-rule=\"evenodd\" fill-opacity=\"1\" /><path clip-path=\"url(#clip640)\" d=\"M99.1632 1038.86 Q95.5521 1038.86 93.7234 1042.43 Q91.9178 1045.97 91.9178 1053.1 Q91.9178 1060.21 93.7234 1063.77 Q95.5521 1067.31 99.1632 1067.31 Q102.797 1067.31 104.603 1063.77 Q106.432 1060.21 106.432 1053.1 Q106.432 1045.97 104.603 1042.43 Q102.797 1038.86 99.1632 1038.86 M99.1632 1035.16 Q104.973 1035.16 108.029 1039.77 Q111.108 1044.35 111.108 1053.1 Q111.108 1061.83 108.029 1066.43 Q104.973 1071.02 99.1632 1071.02 Q93.353 1071.02 90.2743 1066.43 Q87.2188 1061.83 87.2188 1053.1 Q87.2188 1044.35 90.2743 1039.77 Q93.353 1035.16 99.1632 1035.16 Z\" fill=\"#000000\" fill-rule=\"evenodd\" fill-opacity=\"1\" /><path clip-path=\"url(#clip640)\" d=\"M94.7882 746.904 L111.108 746.904 L111.108 750.839 L89.1632 750.839 L89.1632 746.904 Q91.8252 744.149 96.4085 739.519 Q101.015 734.867 102.196 733.524 Q104.441 731.001 105.321 729.265 Q106.223 727.506 106.223 725.816 Q106.223 723.061 104.279 721.325 Q102.358 719.589 99.2558 719.589 Q97.0567 719.589 94.603 720.353 Q92.1725 721.117 89.3947 722.668 L89.3947 717.945 Q92.2188 716.811 94.6724 716.232 Q97.1261 715.654 99.1632 715.654 Q104.534 715.654 107.728 718.339 Q110.922 721.024 110.922 725.515 Q110.922 727.644 110.112 729.566 Q109.325 731.464 107.219 734.056 Q106.64 734.728 103.538 737.945 Q100.436 741.14 94.7882 746.904 Z\" fill=\"#000000\" fill-rule=\"evenodd\" fill-opacity=\"1\" /><path clip-path=\"url(#clip640)\" d=\"M101.524 400.848 L89.7188 419.297 L101.524 419.297 L101.524 400.848 M100.297 396.774 L106.177 396.774 L106.177 419.297 L111.108 419.297 L111.108 423.185 L106.177 423.185 L106.177 431.334 L101.524 431.334 L101.524 423.185 L85.9225 423.185 L85.9225 418.672 L100.297 396.774 Z\" fill=\"#000000\" fill-rule=\"evenodd\" fill-opacity=\"1\" /><path clip-path=\"url(#clip640)\" d=\"M99.5798 92.6848 Q96.4317 92.6848 94.5799 94.8376 Q92.7512 96.9904 92.7512 100.74 Q92.7512 104.467 94.5799 106.643 Q96.4317 108.796 99.5798 108.796 Q102.728 108.796 104.557 106.643 Q106.408 104.467 106.408 100.74 Q106.408 96.9904 104.557 94.8376 Q102.728 92.6848 99.5798 92.6848 M108.862 78.0321 L108.862 82.2914 Q107.103 81.458 105.297 81.0182 Q103.515 80.5784 101.756 80.5784 Q97.1261 80.5784 94.6724 83.7034 Q92.2419 86.8284 91.8947 93.1478 Q93.2604 91.1339 95.3206 90.0691 Q97.3808 88.9811 99.8576 88.9811 Q105.066 88.9811 108.075 92.1524 Q111.108 95.3005 111.108 100.74 Q111.108 106.064 107.959 109.282 Q104.811 112.5 99.5798 112.5 Q93.5845 112.5 90.4132 107.916 Q87.2419 103.31 87.2419 94.583 Q87.2419 86.3886 91.1308 81.5275 Q95.0197 76.6432 101.571 76.6432 Q103.33 76.6432 105.112 76.9905 Q106.918 77.3377 108.862 78.0321 Z\" fill=\"#000000\" fill-rule=\"evenodd\" fill-opacity=\"1\" /><polyline clip-path=\"url(#clip643)\" style=\"stroke:#009af9; stroke-linecap:round; stroke-linejoin:round; stroke-width:4; stroke-opacity:1; fill:none\" points=\"\n",
       "  209.532,683.52 230.55,1052.13 251.568,1050.53 272.586,434.157 293.604,882.196 314.622,1044.09 335.641,924.424 356.659,1027.85 377.677,996.335 398.695,1031.83 \n",
       "  419.713,676.752 440.732,931.074 461.75,1048.66 482.768,795.942 503.786,992.85 524.804,920.146 545.823,1017.58 566.841,982.294 587.859,551.73 608.877,775.274 \n",
       "  629.895,1038.45 650.913,857.714 671.932,1033.2 692.95,1049.76 713.968,499.475 734.986,1048 756.004,872.029 777.023,1045.72 798.041,875.932 819.059,1049.65 \n",
       "  840.077,819.289 861.095,1020.11 882.113,87.9763 903.132,1006.68 924.15,970.186 945.168,976.145 966.186,979.163 987.204,980.693 1008.22,795.218 1029.24,1052.14 \n",
       "  1050.26,1051.36 1071.28,805.3 1092.3,532.903 1113.31,995.265 1134.33,826.294 1155.35,990.453 1176.37,803.849 1197.39,1016.13 1218.4,891.726 1239.42,1042.33 \n",
       "  1260.44,672.141 1281.46,869.519 1302.48,884.541 1323.5,1029.9 1344.51,1014.64 1365.53,561.35 1386.55,993.344 1407.57,1003.83 1428.59,986.493 1449.6,1037.87 \n",
       "  1470.62,1052.01 1491.64,878.796 1512.66,976.45 1533.68,437.936 1554.7,1051.84 1575.71,1034.11 1596.73,820.188 1617.75,943.17 1638.77,1002.39 1659.79,470.726 \n",
       "  1680.8,1004.83 1701.82,1045.01 1722.84,311.158 1743.86,996.162 1764.88,1018.58 1785.9,667.42 1806.91,897.149 1827.93,1048.35 1848.95,1044.95 1869.97,931.078 \n",
       "  1890.99,539.108 1912,1008.52 1933.02,948.385 1954.04,1042.17 1975.06,1015.66 1996.08,1050.4 2017.1,1023.43 2038.11,829.174 2059.13,304.074 2080.15,843.572 \n",
       "  2101.17,955.595 2122.19,294.225 2143.2,1026.81 2164.22,743.386 2185.24,918.245 2206.26,1018.18 2227.28,1047.94 2248.3,1046.97 2269.31,264.736 2290.33,923.193 \n",
       "  \n",
       "  \"/>\n",
       "<polyline clip-path=\"url(#clip643)\" style=\"stroke:#e26f46; stroke-linecap:round; stroke-linejoin:round; stroke-width:4; stroke-opacity:1; fill:none\" points=\"\n",
       "  209.532,1296.04 230.55,1065.28 251.568,1073.2 272.586,1367.5 293.604,887.847 314.622,1015.19 335.641,1196.42 356.659,1116.53 377.677,1148.26 398.695,1111.31 \n",
       "  419.713,1298.25 440.732,913.464 461.75,1026.54 482.768,850.392 503.786,954.986 524.804,907.345 545.823,977.771 566.841,1159.39 587.859,1336.06 608.877,1263.72 \n",
       "  629.895,1004.75 650.913,1229.72 671.932,996.73 692.95,1076.05 713.968,1350.45 734.986,1024.61 756.004,883.003 777.023,1087.31 798.041,884.846 819.059,1076.42 \n",
       "  840.077,859.812 861.095,1125.63 882.113,1445.72 903.132,966.987 924.15,937.999 945.168,1163.92 966.186,944.409 987.204,1160.59 1008.22,850.107 1029.24,1065.2 \n",
       "  1050.26,1036.55 1071.28,854.114 1092.3,764.798 1113.31,956.973 1134.33,862.73 1155.35,1153.08 1176.37,1252.6 1197.39,1129.88 1218.4,1213.61 1239.42,1011.66 \n",
       "  1260.44,1299.75 1281.46,881.828 1302.48,1217.14 1323.5,992.236 1344.51,974.72 1365.53,1333.34 1386.55,1150.74 1407.57,1141.75 1428.59,949.939 1449.6,1003.8 \n",
       "  1470.62,1040.11 1491.64,886.212 1512.66,1163.7 1533.68,1366.54 1554.7,1067.05 1575.71,1108.09 1596.73,1245.94 1617.75,920.566 1638.77,1143.04 1659.79,748.056 \n",
       "  1680.8,965.279 1701.82,1017.19 1722.84,708.795 1743.86,957.721 1764.88,978.846 1785.9,1301.27 1806.91,895.242 1827.93,1025.63 1848.95,1089.07 1869.97,1192.66 \n",
       "  1890.99,1339.61 1912,968.703 1933.02,1182.38 1954.04,1094.78 1975.06,1130.36 1996.08,1032.45 2017.1,1121.87 2038.11,1242.19 2059.13,1398.97 2080.15,1236 \n",
       "  2101.17,928.281 2122.19,704.888 2143.2,1117.83 2164.22,830.641 2185.24,1199.82 2206.26,978.415 2227.28,1024.44 2248.3,1021.85 2269.31,698.187 2290.33,909.025 \n",
       "  \n",
       "  \"/>\n",
       "<path clip-path=\"url(#clip640)\" d=\"\n",
       "M220.629 250.738 L488.368 250.738 L488.368 95.2176 L220.629 95.2176  Z\n",
       "  \" fill=\"#ffffff\" fill-rule=\"evenodd\" fill-opacity=\"1\"/>\n",
       "<polyline clip-path=\"url(#clip640)\" style=\"stroke:#000000; stroke-linecap:round; stroke-linejoin:round; stroke-width:4; stroke-opacity:1; fill:none\" points=\"\n",
       "  220.629,250.738 488.368,250.738 488.368,95.2176 220.629,95.2176 220.629,250.738 \n",
       "  \"/>\n",
       "<polyline clip-path=\"url(#clip640)\" style=\"stroke:#009af9; stroke-linecap:round; stroke-linejoin:round; stroke-width:4; stroke-opacity:1; fill:none\" points=\"\n",
       "  245.136,147.058 392.18,147.058 \n",
       "  \"/>\n",
       "<path clip-path=\"url(#clip640)\" d=\"M440.578 147.001 Q440.578 148.312 439.758 149.062 Q438.938 149.788 438.001 149.788 Q437.111 149.788 436.643 149.273 Q436.174 148.757 436.174 148.102 Q436.174 147.212 436.83 146.439 Q437.486 145.666 438.47 145.502 Q437.509 144.893 436.081 144.893 Q435.144 144.893 434.324 145.385 Q433.528 145.877 433.036 146.509 Q432.567 147.141 432.146 148.055 Q431.747 148.945 431.583 149.484 Q431.443 149.999 431.326 150.561 L429.686 157.119 Q428.89 160.234 428.89 161.335 Q428.89 162.694 429.546 163.607 Q430.202 164.497 431.513 164.497 Q432.028 164.497 432.614 164.357 Q433.2 164.193 433.949 163.771 Q434.722 163.326 435.401 162.67 Q436.104 161.991 436.783 160.843 Q437.462 159.696 437.908 158.22 Q438.048 157.705 438.517 157.705 Q439.102 157.705 439.102 158.173 Q439.102 158.571 438.774 159.415 Q438.47 160.234 437.79 161.312 Q437.135 162.366 436.268 163.326 Q435.401 164.263 434.113 164.919 Q432.825 165.575 431.42 165.575 Q429.405 165.575 428.07 164.497 Q426.735 163.42 426.243 161.921 Q426.126 162.132 425.962 162.413 Q425.798 162.694 425.306 163.326 Q424.838 163.935 424.299 164.404 Q423.76 164.849 422.917 165.2 Q422.097 165.575 421.207 165.575 Q420.083 165.575 419.076 165.247 Q418.092 164.919 417.389 164.169 Q416.687 163.42 416.687 162.389 Q416.687 161.242 417.46 160.445 Q418.256 159.625 419.334 159.625 Q420.013 159.625 420.551 160.024 Q421.114 160.422 421.114 161.288 Q421.114 162.249 420.458 162.975 Q419.802 163.701 418.865 163.888 Q419.825 164.497 421.254 164.497 Q422.8 164.497 424.018 163.139 Q425.236 161.78 425.822 159.508 Q427.274 154.051 427.836 151.615 Q428.398 149.156 428.398 148.102 Q428.398 147.118 428.14 146.439 Q427.883 145.759 427.438 145.455 Q427.016 145.127 426.618 145.01 Q426.243 144.893 425.822 144.893 Q425.119 144.893 424.323 145.174 Q423.55 145.455 422.613 146.111 Q421.699 146.743 420.833 148.055 Q419.966 149.366 419.38 151.17 Q419.263 151.709 418.748 151.709 Q418.186 151.685 418.186 151.217 Q418.186 150.819 418.49 149.999 Q418.818 149.156 419.474 148.102 Q420.153 147.048 421.02 146.111 Q421.91 145.15 423.198 144.495 Q424.51 143.839 425.915 143.839 Q426.548 143.839 427.157 143.979 Q427.789 144.096 428.539 144.448 Q429.311 144.799 429.991 145.572 Q430.67 146.345 431.092 147.469 Q431.373 146.931 431.747 146.415 Q432.146 145.9 432.755 145.268 Q433.387 144.612 434.254 144.237 Q435.144 143.839 436.127 143.839 Q437.088 143.839 438.025 144.096 Q438.962 144.331 439.758 145.104 Q440.578 145.853 440.578 147.001 Z\" fill=\"#000000\" fill-rule=\"evenodd\" fill-opacity=\"1\" /><path clip-path=\"url(#clip640)\" d=\"M445.463 150.696 Q445.463 150.09 445.512 149.909 Q445.578 149.729 445.84 149.45 L452.284 142.269 Q455.809 138.301 455.809 134.842 Q455.809 132.595 454.628 130.989 Q453.464 129.382 451.316 129.382 Q449.841 129.382 448.595 130.284 Q447.349 131.185 446.775 132.792 Q446.873 132.759 447.217 132.759 Q448.054 132.759 448.513 133.284 Q448.988 133.809 448.988 134.514 Q448.988 135.415 448.398 135.858 Q447.824 136.284 447.25 136.284 Q447.021 136.284 446.709 136.235 Q446.414 136.186 445.939 135.727 Q445.463 135.251 445.463 134.415 Q445.463 132.071 447.234 130.202 Q449.021 128.332 451.743 128.332 Q454.825 128.332 456.842 130.169 Q458.875 131.989 458.875 134.842 Q458.875 135.842 458.563 136.76 Q458.268 137.662 457.858 138.367 Q457.465 139.072 456.383 140.203 Q455.3 141.334 454.431 142.138 Q453.563 142.941 451.611 144.646 L448.054 148.106 L454.104 148.106 Q457.055 148.106 457.284 147.843 Q457.612 147.368 458.022 144.859 L458.875 144.859 L457.924 150.696 L445.463 150.696 Z\" fill=\"#000000\" fill-rule=\"evenodd\" fill-opacity=\"1\" /><polyline clip-path=\"url(#clip640)\" style=\"stroke:#e26f46; stroke-linecap:round; stroke-linejoin:round; stroke-width:4; stroke-opacity:1; fill:none\" points=\"\n",
       "  245.136,198.898 392.18,198.898 \n",
       "  \"/>\n",
       "<path clip-path=\"url(#clip640)\" d=\"M440.578 191.089 Q440.578 192.4 439.758 193.15 Q438.938 193.876 438.001 193.876 Q437.111 193.876 436.643 193.361 Q436.174 192.846 436.174 192.19 Q436.174 191.3 436.83 190.527 Q437.486 189.754 438.47 189.59 Q437.509 188.981 436.081 188.981 Q435.144 188.981 434.324 189.473 Q433.528 189.965 433.036 190.597 Q432.567 191.229 432.146 192.143 Q431.747 193.033 431.583 193.572 Q431.443 194.087 431.326 194.649 L429.686 201.207 Q428.89 204.323 428.89 205.423 Q428.89 206.782 429.546 207.695 Q430.202 208.585 431.513 208.585 Q432.028 208.585 432.614 208.445 Q433.2 208.281 433.949 207.859 Q434.722 207.414 435.401 206.758 Q436.104 206.079 436.783 204.931 Q437.462 203.784 437.908 202.308 Q438.048 201.793 438.517 201.793 Q439.102 201.793 439.102 202.261 Q439.102 202.66 438.774 203.503 Q438.47 204.323 437.79 205.4 Q437.135 206.454 436.268 207.414 Q435.401 208.351 434.113 209.007 Q432.825 209.663 431.42 209.663 Q429.405 209.663 428.07 208.585 Q426.735 207.508 426.243 206.009 Q426.126 206.22 425.962 206.501 Q425.798 206.782 425.306 207.414 Q424.838 208.023 424.299 208.492 Q423.76 208.937 422.917 209.288 Q422.097 209.663 421.207 209.663 Q420.083 209.663 419.076 209.335 Q418.092 209.007 417.389 208.257 Q416.687 207.508 416.687 206.477 Q416.687 205.33 417.46 204.533 Q418.256 203.714 419.334 203.714 Q420.013 203.714 420.551 204.112 Q421.114 204.51 421.114 205.377 Q421.114 206.337 420.458 207.063 Q419.802 207.789 418.865 207.976 Q419.825 208.585 421.254 208.585 Q422.8 208.585 424.018 207.227 Q425.236 205.868 425.822 203.596 Q427.274 198.139 427.836 195.703 Q428.398 193.244 428.398 192.19 Q428.398 191.206 428.14 190.527 Q427.883 189.847 427.438 189.543 Q427.016 189.215 426.618 189.098 Q426.243 188.981 425.822 188.981 Q425.119 188.981 424.323 189.262 Q423.55 189.543 422.613 190.199 Q421.699 190.831 420.833 192.143 Q419.966 193.455 419.38 195.258 Q419.263 195.797 418.748 195.797 Q418.186 195.773 418.186 195.305 Q418.186 194.907 418.49 194.087 Q418.818 193.244 419.474 192.19 Q420.153 191.136 421.02 190.199 Q421.91 189.238 423.198 188.583 Q424.51 187.927 425.915 187.927 Q426.548 187.927 427.157 188.067 Q427.789 188.184 428.539 188.536 Q429.311 188.887 429.991 189.66 Q430.67 190.433 431.092 191.557 Q431.373 191.019 431.747 190.503 Q432.146 189.988 432.755 189.356 Q433.387 188.7 434.254 188.325 Q435.144 187.927 436.127 187.927 Q437.088 187.927 438.025 188.184 Q438.962 188.419 439.758 189.192 Q440.578 189.941 440.578 191.089 Z\" fill=\"#000000\" fill-rule=\"evenodd\" fill-opacity=\"1\" /></svg>\n"
      ]
     },
     "execution_count": 16,
     "metadata": {},
     "output_type": "execute_result"
    }
   ],
   "source": [
    "# direct solution with broadcasting, and small user-defined function\n",
    "n = 100\n",
    "f(x) = x^2\n",
    "\n",
    "x = randn(n)\n",
    "plot(f.(x), label=L\"x^2\")\n",
    "plot!(x, label=L\"x\") # layer on the same plot"
   ]
  },
  {
   "attachments": {},
   "cell_type": "markdown",
   "id": "1d7032e6",
   "metadata": {},
   "source": [
    "While broadcasting above superficially looks like vectorizing functions in MATLAB, or Python ufuncs, it is much richer and built on core foundations of the language.\n",
    "\n",
    "The other additional function `plot!` adds a graph to the existing plot.\n",
    "\n",
    "This follows a general convention in Julia, where a function that modifies the arguments or a global state has a `!` at the end of its name.\n",
    "\n",
    "The `L` in front of the labels is using the LaTeXStrings package, which will try to interpret the text as latex for display."
   ]
  },
  {
   "attachments": {},
   "cell_type": "markdown",
   "id": "ee5fc3b2",
   "metadata": {},
   "source": [
    "#### A Slightly More Useful Function\n",
    "\n",
    "Let’s make a slightly more useful function.\n",
    "\n",
    "This function will be passed in a choice of probability distribution and respond by plotting a histogram of observations.\n",
    "\n",
    "In doing so we’ll make use of the `Distributions` package, which we assume was instantiated above with the project.\n",
    "\n",
    "Here’s the code"
   ]
  },
  {
   "cell_type": "code",
   "execution_count": 17,
   "id": "e2c708f6",
   "metadata": {
    "hide-output": false
   },
   "outputs": [
    {
     "data": {
      "image/svg+xml": [
       "<?xml version=\"1.0\" encoding=\"utf-8\"?>\n",
       "<svg xmlns=\"http://www.w3.org/2000/svg\" xmlns:xlink=\"http://www.w3.org/1999/xlink\" width=\"600\" height=\"400\" viewBox=\"0 0 2400 1600\">\n",
       "<defs>\n",
       "  <clipPath id=\"clip680\">\n",
       "    <rect x=\"0\" y=\"0\" width=\"2400\" height=\"1600\"/>\n",
       "  </clipPath>\n",
       "</defs>\n",
       "<path clip-path=\"url(#clip680)\" d=\"\n",
       "M0 1600 L2400 1600 L2400 0 L0 0  Z\n",
       "  \" fill=\"#ffffff\" fill-rule=\"evenodd\" fill-opacity=\"1\"/>\n",
       "<defs>\n",
       "  <clipPath id=\"clip681\">\n",
       "    <rect x=\"480\" y=\"0\" width=\"1681\" height=\"1600\"/>\n",
       "  </clipPath>\n",
       "</defs>\n",
       "<path clip-path=\"url(#clip680)\" d=\"\n",
       "M169.121 1486.45 L2352.76 1486.45 L2352.76 47.2441 L169.121 47.2441  Z\n",
       "  \" fill=\"#ffffff\" fill-rule=\"evenodd\" fill-opacity=\"1\"/>\n",
       "<defs>\n",
       "  <clipPath id=\"clip682\">\n",
       "    <rect x=\"169\" y=\"47\" width=\"2185\" height=\"1440\"/>\n",
       "  </clipPath>\n",
       "</defs>\n",
       "<polyline clip-path=\"url(#clip682)\" style=\"stroke:#000000; stroke-linecap:round; stroke-linejoin:round; stroke-width:2; stroke-opacity:0.1; fill:none\" points=\"\n",
       "  493.796,1486.45 493.796,47.2441 \n",
       "  \"/>\n",
       "<polyline clip-path=\"url(#clip682)\" style=\"stroke:#000000; stroke-linecap:round; stroke-linejoin:round; stroke-width:2; stroke-opacity:0.1; fill:none\" points=\"\n",
       "  902.939,1486.45 902.939,47.2441 \n",
       "  \"/>\n",
       "<polyline clip-path=\"url(#clip682)\" style=\"stroke:#000000; stroke-linecap:round; stroke-linejoin:round; stroke-width:2; stroke-opacity:0.1; fill:none\" points=\"\n",
       "  1312.08,1486.45 1312.08,47.2441 \n",
       "  \"/>\n",
       "<polyline clip-path=\"url(#clip682)\" style=\"stroke:#000000; stroke-linecap:round; stroke-linejoin:round; stroke-width:2; stroke-opacity:0.1; fill:none\" points=\"\n",
       "  1721.22,1486.45 1721.22,47.2441 \n",
       "  \"/>\n",
       "<polyline clip-path=\"url(#clip682)\" style=\"stroke:#000000; stroke-linecap:round; stroke-linejoin:round; stroke-width:2; stroke-opacity:0.1; fill:none\" points=\"\n",
       "  2130.37,1486.45 2130.37,47.2441 \n",
       "  \"/>\n",
       "<polyline clip-path=\"url(#clip680)\" style=\"stroke:#000000; stroke-linecap:round; stroke-linejoin:round; stroke-width:4; stroke-opacity:1; fill:none\" points=\"\n",
       "  169.121,1486.45 2352.76,1486.45 \n",
       "  \"/>\n",
       "<polyline clip-path=\"url(#clip680)\" style=\"stroke:#000000; stroke-linecap:round; stroke-linejoin:round; stroke-width:4; stroke-opacity:1; fill:none\" points=\"\n",
       "  493.796,1486.45 493.796,1467.55 \n",
       "  \"/>\n",
       "<polyline clip-path=\"url(#clip680)\" style=\"stroke:#000000; stroke-linecap:round; stroke-linejoin:round; stroke-width:4; stroke-opacity:1; fill:none\" points=\"\n",
       "  902.939,1486.45 902.939,1467.55 \n",
       "  \"/>\n",
       "<polyline clip-path=\"url(#clip680)\" style=\"stroke:#000000; stroke-linecap:round; stroke-linejoin:round; stroke-width:4; stroke-opacity:1; fill:none\" points=\"\n",
       "  1312.08,1486.45 1312.08,1467.55 \n",
       "  \"/>\n",
       "<polyline clip-path=\"url(#clip680)\" style=\"stroke:#000000; stroke-linecap:round; stroke-linejoin:round; stroke-width:4; stroke-opacity:1; fill:none\" points=\"\n",
       "  1721.22,1486.45 1721.22,1467.55 \n",
       "  \"/>\n",
       "<polyline clip-path=\"url(#clip680)\" style=\"stroke:#000000; stroke-linecap:round; stroke-linejoin:round; stroke-width:4; stroke-opacity:1; fill:none\" points=\"\n",
       "  2130.37,1486.45 2130.37,1467.55 \n",
       "  \"/>\n",
       "<path clip-path=\"url(#clip680)\" d=\"M462.697 1532.02 L492.373 1532.02 L492.373 1535.95 L462.697 1535.95 L462.697 1532.02 Z\" fill=\"#000000\" fill-rule=\"evenodd\" fill-opacity=\"1\" /><path clip-path=\"url(#clip680)\" d=\"M515.312 1518.36 L503.507 1536.81 L515.312 1536.81 L515.312 1518.36 M514.086 1514.29 L519.965 1514.29 L519.965 1536.81 L524.896 1536.81 L524.896 1540.7 L519.965 1540.7 L519.965 1548.85 L515.312 1548.85 L515.312 1540.7 L499.711 1540.7 L499.711 1536.19 L514.086 1514.29 Z\" fill=\"#000000\" fill-rule=\"evenodd\" fill-opacity=\"1\" /><path clip-path=\"url(#clip680)\" d=\"M872.881 1532.02 L902.557 1532.02 L902.557 1535.95 L872.881 1535.95 L872.881 1532.02 Z\" fill=\"#000000\" fill-rule=\"evenodd\" fill-opacity=\"1\" /><path clip-path=\"url(#clip680)\" d=\"M916.677 1544.91 L932.997 1544.91 L932.997 1548.85 L911.052 1548.85 L911.052 1544.91 Q913.714 1542.16 918.298 1537.53 Q922.904 1532.88 924.085 1531.53 Q926.33 1529.01 927.21 1527.27 Q928.112 1525.51 928.112 1523.82 Q928.112 1521.07 926.168 1519.33 Q924.247 1517.6 921.145 1517.6 Q918.946 1517.6 916.492 1518.36 Q914.062 1519.13 911.284 1520.68 L911.284 1515.95 Q914.108 1514.82 916.562 1514.24 Q919.015 1513.66 921.052 1513.66 Q926.423 1513.66 929.617 1516.35 Q932.811 1519.03 932.811 1523.52 Q932.811 1525.65 932.001 1527.57 Q931.214 1529.47 929.108 1532.07 Q928.529 1532.74 925.427 1535.95 Q922.325 1539.15 916.677 1544.91 Z\" fill=\"#000000\" fill-rule=\"evenodd\" fill-opacity=\"1\" /><path clip-path=\"url(#clip680)\" d=\"M1312.08 1517.37 Q1308.47 1517.37 1306.64 1520.93 Q1304.84 1524.47 1304.84 1531.6 Q1304.84 1538.71 1306.64 1542.27 Q1308.47 1545.82 1312.08 1545.82 Q1315.72 1545.82 1317.52 1542.27 Q1319.35 1538.71 1319.35 1531.6 Q1319.35 1524.47 1317.52 1520.93 Q1315.72 1517.37 1312.08 1517.37 M1312.08 1513.66 Q1317.89 1513.66 1320.95 1518.27 Q1324.03 1522.85 1324.03 1531.6 Q1324.03 1540.33 1320.95 1544.94 Q1317.89 1549.52 1312.08 1549.52 Q1306.27 1549.52 1303.19 1544.94 Q1300.14 1540.33 1300.14 1531.6 Q1300.14 1522.85 1303.19 1518.27 Q1306.27 1513.66 1312.08 1513.66 Z\" fill=\"#000000\" fill-rule=\"evenodd\" fill-opacity=\"1\" /><path clip-path=\"url(#clip680)\" d=\"M1715.88 1544.91 L1732.2 1544.91 L1732.2 1548.85 L1710.25 1548.85 L1710.25 1544.91 Q1712.91 1542.16 1717.5 1537.53 Q1722.1 1532.88 1723.28 1531.53 Q1725.53 1529.01 1726.41 1527.27 Q1727.31 1525.51 1727.31 1523.82 Q1727.31 1521.07 1725.37 1519.33 Q1723.45 1517.6 1720.34 1517.6 Q1718.15 1517.6 1715.69 1518.36 Q1713.26 1519.13 1710.48 1520.68 L1710.48 1515.95 Q1713.31 1514.82 1715.76 1514.24 Q1718.21 1513.66 1720.25 1513.66 Q1725.62 1513.66 1728.82 1516.35 Q1732.01 1519.03 1732.01 1523.52 Q1732.01 1525.65 1731.2 1527.57 Q1730.41 1529.47 1728.31 1532.07 Q1727.73 1532.74 1724.63 1535.95 Q1721.52 1539.15 1715.88 1544.91 Z\" fill=\"#000000\" fill-rule=\"evenodd\" fill-opacity=\"1\" /><path clip-path=\"url(#clip680)\" d=\"M2133.38 1518.36 L2121.57 1536.81 L2133.38 1536.81 L2133.38 1518.36 M2132.15 1514.29 L2138.03 1514.29 L2138.03 1536.81 L2142.96 1536.81 L2142.96 1540.7 L2138.03 1540.7 L2138.03 1548.85 L2133.38 1548.85 L2133.38 1540.7 L2117.77 1540.7 L2117.77 1536.19 L2132.15 1514.29 Z\" fill=\"#000000\" fill-rule=\"evenodd\" fill-opacity=\"1\" /><polyline clip-path=\"url(#clip682)\" style=\"stroke:#000000; stroke-linecap:round; stroke-linejoin:round; stroke-width:2; stroke-opacity:0.1; fill:none\" points=\"\n",
       "  169.121,1445.72 2352.76,1445.72 \n",
       "  \"/>\n",
       "<polyline clip-path=\"url(#clip682)\" style=\"stroke:#000000; stroke-linecap:round; stroke-linejoin:round; stroke-width:2; stroke-opacity:0.1; fill:none\" points=\"\n",
       "  169.121,1137.14 2352.76,1137.14 \n",
       "  \"/>\n",
       "<polyline clip-path=\"url(#clip682)\" style=\"stroke:#000000; stroke-linecap:round; stroke-linejoin:round; stroke-width:2; stroke-opacity:0.1; fill:none\" points=\"\n",
       "  169.121,828.561 2352.76,828.561 \n",
       "  \"/>\n",
       "<polyline clip-path=\"url(#clip682)\" style=\"stroke:#000000; stroke-linecap:round; stroke-linejoin:round; stroke-width:2; stroke-opacity:0.1; fill:none\" points=\"\n",
       "  169.121,519.984 2352.76,519.984 \n",
       "  \"/>\n",
       "<polyline clip-path=\"url(#clip682)\" style=\"stroke:#000000; stroke-linecap:round; stroke-linejoin:round; stroke-width:2; stroke-opacity:0.1; fill:none\" points=\"\n",
       "  169.121,211.407 2352.76,211.407 \n",
       "  \"/>\n",
       "<polyline clip-path=\"url(#clip680)\" style=\"stroke:#000000; stroke-linecap:round; stroke-linejoin:round; stroke-width:4; stroke-opacity:1; fill:none\" points=\"\n",
       "  169.121,1486.45 169.121,47.2441 \n",
       "  \"/>\n",
       "<polyline clip-path=\"url(#clip680)\" style=\"stroke:#000000; stroke-linecap:round; stroke-linejoin:round; stroke-width:4; stroke-opacity:1; fill:none\" points=\"\n",
       "  169.121,1445.72 188.019,1445.72 \n",
       "  \"/>\n",
       "<polyline clip-path=\"url(#clip680)\" style=\"stroke:#000000; stroke-linecap:round; stroke-linejoin:round; stroke-width:4; stroke-opacity:1; fill:none\" points=\"\n",
       "  169.121,1137.14 188.019,1137.14 \n",
       "  \"/>\n",
       "<polyline clip-path=\"url(#clip680)\" style=\"stroke:#000000; stroke-linecap:round; stroke-linejoin:round; stroke-width:4; stroke-opacity:1; fill:none\" points=\"\n",
       "  169.121,828.561 188.019,828.561 \n",
       "  \"/>\n",
       "<polyline clip-path=\"url(#clip680)\" style=\"stroke:#000000; stroke-linecap:round; stroke-linejoin:round; stroke-width:4; stroke-opacity:1; fill:none\" points=\"\n",
       "  169.121,519.984 188.019,519.984 \n",
       "  \"/>\n",
       "<polyline clip-path=\"url(#clip680)\" style=\"stroke:#000000; stroke-linecap:round; stroke-linejoin:round; stroke-width:4; stroke-opacity:1; fill:none\" points=\"\n",
       "  169.121,211.407 188.019,211.407 \n",
       "  \"/>\n",
       "<path clip-path=\"url(#clip680)\" d=\"M121.177 1431.51 Q117.566 1431.51 115.737 1435.08 Q113.932 1438.62 113.932 1445.75 Q113.932 1452.86 115.737 1456.42 Q117.566 1459.96 121.177 1459.96 Q124.811 1459.96 126.617 1456.42 Q128.445 1452.86 128.445 1445.75 Q128.445 1438.62 126.617 1435.08 Q124.811 1431.51 121.177 1431.51 M121.177 1427.81 Q126.987 1427.81 130.043 1432.42 Q133.121 1437 133.121 1445.75 Q133.121 1454.48 130.043 1459.08 Q126.987 1463.67 121.177 1463.67 Q115.367 1463.67 112.288 1459.08 Q109.233 1454.48 109.233 1445.75 Q109.233 1437 112.288 1432.42 Q115.367 1427.81 121.177 1427.81 Z\" fill=\"#000000\" fill-rule=\"evenodd\" fill-opacity=\"1\" /><path clip-path=\"url(#clip680)\" d=\"M86.0382 1150.48 L102.358 1150.48 L102.358 1154.42 L80.4133 1154.42 L80.4133 1150.48 Q83.0753 1147.73 87.6586 1143.1 Q92.2651 1138.45 93.4456 1137.1 Q95.691 1134.58 96.5706 1132.84 Q97.4734 1131.09 97.4734 1129.4 Q97.4734 1126.64 95.5289 1124.9 Q93.6076 1123.17 90.5058 1123.17 Q88.3067 1123.17 85.8531 1123.93 Q83.4225 1124.7 80.6447 1126.25 L80.6447 1121.53 Q83.4688 1120.39 85.9225 1119.81 Q88.3762 1119.23 90.4132 1119.23 Q95.7836 1119.23 98.978 1121.92 Q102.172 1124.6 102.172 1129.09 Q102.172 1131.22 101.362 1133.15 Q100.575 1135.04 98.4687 1137.64 Q97.89 1138.31 94.7882 1141.53 Q91.6864 1144.72 86.0382 1150.48 Z\" fill=\"#000000\" fill-rule=\"evenodd\" fill-opacity=\"1\" /><path clip-path=\"url(#clip680)\" d=\"M112.219 1119.86 L130.575 1119.86 L130.575 1123.79 L116.501 1123.79 L116.501 1132.27 Q117.52 1131.92 118.538 1131.76 Q119.557 1131.57 120.575 1131.57 Q126.362 1131.57 129.742 1134.74 Q133.121 1137.91 133.121 1143.33 Q133.121 1148.91 129.649 1152.01 Q126.177 1155.09 119.857 1155.09 Q117.682 1155.09 115.413 1154.72 Q113.168 1154.35 110.76 1153.61 L110.76 1148.91 Q112.844 1150.04 115.066 1150.6 Q117.288 1151.15 119.765 1151.15 Q123.77 1151.15 126.107 1149.05 Q128.445 1146.94 128.445 1143.33 Q128.445 1139.72 126.107 1137.61 Q123.77 1135.51 119.765 1135.51 Q117.89 1135.51 116.015 1135.92 Q114.163 1136.34 112.219 1137.22 L112.219 1119.86 Z\" fill=\"#000000\" fill-rule=\"evenodd\" fill-opacity=\"1\" /><path clip-path=\"url(#clip680)\" d=\"M81.0614 811.281 L99.4178 811.281 L99.4178 815.217 L85.3438 815.217 L85.3438 823.689 Q86.3623 823.342 87.3808 823.179 Q88.3993 822.994 89.4178 822.994 Q95.2049 822.994 98.5845 826.166 Q101.964 829.337 101.964 834.754 Q101.964 840.332 98.4919 843.434 Q95.0197 846.513 88.7003 846.513 Q86.5243 846.513 84.2558 846.142 Q82.0105 845.772 79.6031 845.031 L79.6031 840.332 Q81.6864 841.466 83.9086 842.022 Q86.1308 842.578 88.6077 842.578 Q92.6123 842.578 94.9502 840.471 Q97.2882 838.365 97.2882 834.754 Q97.2882 831.142 94.9502 829.036 Q92.6123 826.929 88.6077 826.929 Q86.7327 826.929 84.8577 827.346 Q83.0058 827.763 81.0614 828.642 L81.0614 811.281 Z\" fill=\"#000000\" fill-rule=\"evenodd\" fill-opacity=\"1\" /><path clip-path=\"url(#clip680)\" d=\"M121.177 814.36 Q117.566 814.36 115.737 817.925 Q113.932 821.467 113.932 828.596 Q113.932 835.703 115.737 839.267 Q117.566 842.809 121.177 842.809 Q124.811 842.809 126.617 839.267 Q128.445 835.703 128.445 828.596 Q128.445 821.467 126.617 817.925 Q124.811 814.36 121.177 814.36 M121.177 810.656 Q126.987 810.656 130.043 815.263 Q133.121 819.846 133.121 828.596 Q133.121 837.323 130.043 841.929 Q126.987 846.513 121.177 846.513 Q115.367 846.513 112.288 841.929 Q109.233 837.323 109.233 828.596 Q109.233 819.846 112.288 815.263 Q115.367 810.656 121.177 810.656 Z\" fill=\"#000000\" fill-rule=\"evenodd\" fill-opacity=\"1\" /><path clip-path=\"url(#clip680)\" d=\"M80.8299 502.704 L103.052 502.704 L103.052 504.695 L90.5058 537.264 L85.6216 537.264 L97.4271 506.639 L80.8299 506.639 L80.8299 502.704 Z\" fill=\"#000000\" fill-rule=\"evenodd\" fill-opacity=\"1\" /><path clip-path=\"url(#clip680)\" d=\"M112.219 502.704 L130.575 502.704 L130.575 506.639 L116.501 506.639 L116.501 515.112 Q117.52 514.764 118.538 514.602 Q119.557 514.417 120.575 514.417 Q126.362 514.417 129.742 517.588 Q133.121 520.76 133.121 526.176 Q133.121 531.755 129.649 534.857 Q126.177 537.936 119.857 537.936 Q117.682 537.936 115.413 537.565 Q113.168 537.195 110.76 536.454 L110.76 531.755 Q112.844 532.889 115.066 533.445 Q117.288 534 119.765 534 Q123.77 534 126.107 531.894 Q128.445 529.787 128.445 526.176 Q128.445 522.565 126.107 520.459 Q123.77 518.352 119.765 518.352 Q117.89 518.352 116.015 518.769 Q114.163 519.186 112.219 520.065 L112.219 502.704 Z\" fill=\"#000000\" fill-rule=\"evenodd\" fill-opacity=\"1\" /><path clip-path=\"url(#clip680)\" d=\"M51.6634 224.752 L59.3023 224.752 L59.3023 198.386 L50.9921 200.053 L50.9921 195.794 L59.256 194.127 L63.9319 194.127 L63.9319 224.752 L71.5707 224.752 L71.5707 228.687 L51.6634 228.687 L51.6634 224.752 Z\" fill=\"#000000\" fill-rule=\"evenodd\" fill-opacity=\"1\" /><path clip-path=\"url(#clip680)\" d=\"M91.0151 197.206 Q87.404 197.206 85.5753 200.771 Q83.7697 204.312 83.7697 211.442 Q83.7697 218.548 85.5753 222.113 Q87.404 225.655 91.0151 225.655 Q94.6493 225.655 96.4548 222.113 Q98.2835 218.548 98.2835 211.442 Q98.2835 204.312 96.4548 200.771 Q94.6493 197.206 91.0151 197.206 M91.0151 193.502 Q96.8252 193.502 99.8808 198.109 Q102.959 202.692 102.959 211.442 Q102.959 220.169 99.8808 224.775 Q96.8252 229.358 91.0151 229.358 Q85.2049 229.358 82.1262 224.775 Q79.0707 220.169 79.0707 211.442 Q79.0707 202.692 82.1262 198.109 Q85.2049 193.502 91.0151 193.502 Z\" fill=\"#000000\" fill-rule=\"evenodd\" fill-opacity=\"1\" /><path clip-path=\"url(#clip680)\" d=\"M121.177 197.206 Q117.566 197.206 115.737 200.771 Q113.932 204.312 113.932 211.442 Q113.932 218.548 115.737 222.113 Q117.566 225.655 121.177 225.655 Q124.811 225.655 126.617 222.113 Q128.445 218.548 128.445 211.442 Q128.445 204.312 126.617 200.771 Q124.811 197.206 121.177 197.206 M121.177 193.502 Q126.987 193.502 130.043 198.109 Q133.121 202.692 133.121 211.442 Q133.121 220.169 130.043 224.775 Q126.987 229.358 121.177 229.358 Q115.367 229.358 112.288 224.775 Q109.233 220.169 109.233 211.442 Q109.233 202.692 112.288 198.109 Q115.367 193.502 121.177 193.502 Z\" fill=\"#000000\" fill-rule=\"evenodd\" fill-opacity=\"1\" /><path clip-path=\"url(#clip682)\" d=\"\n",
       "M289.225 1396.34 L289.225 1445.72 L391.511 1445.72 L391.511 1396.34 L289.225 1396.34 L289.225 1396.34  Z\n",
       "  \" fill=\"#009af9\" fill-rule=\"evenodd\" fill-opacity=\"1\"/>\n",
       "<polyline clip-path=\"url(#clip682)\" style=\"stroke:#000000; stroke-linecap:round; stroke-linejoin:round; stroke-width:4; stroke-opacity:1; fill:none\" points=\"\n",
       "  289.225,1396.34 289.225,1445.72 391.511,1445.72 391.511,1396.34 289.225,1396.34 \n",
       "  \"/>\n",
       "<path clip-path=\"url(#clip682)\" d=\"\n",
       "M391.511 1421.03 L391.511 1445.72 L493.796 1445.72 L493.796 1421.03 L391.511 1421.03 L391.511 1421.03  Z\n",
       "  \" fill=\"#009af9\" fill-rule=\"evenodd\" fill-opacity=\"1\"/>\n",
       "<polyline clip-path=\"url(#clip682)\" style=\"stroke:#000000; stroke-linecap:round; stroke-linejoin:round; stroke-width:4; stroke-opacity:1; fill:none\" points=\"\n",
       "  391.511,1421.03 391.511,1445.72 493.796,1445.72 493.796,1421.03 391.511,1421.03 \n",
       "  \"/>\n",
       "<path clip-path=\"url(#clip682)\" d=\"\n",
       "M493.796 1384 L493.796 1445.72 L596.082 1445.72 L596.082 1384 L493.796 1384 L493.796 1384  Z\n",
       "  \" fill=\"#009af9\" fill-rule=\"evenodd\" fill-opacity=\"1\"/>\n",
       "<polyline clip-path=\"url(#clip682)\" style=\"stroke:#000000; stroke-linecap:round; stroke-linejoin:round; stroke-width:4; stroke-opacity:1; fill:none\" points=\"\n",
       "  493.796,1384 493.796,1445.72 596.082,1445.72 596.082,1384 493.796,1384 \n",
       "  \"/>\n",
       "<path clip-path=\"url(#clip682)\" d=\"\n",
       "M596.082 1396.34 L596.082 1445.72 L698.368 1445.72 L698.368 1396.34 L596.082 1396.34 L596.082 1396.34  Z\n",
       "  \" fill=\"#009af9\" fill-rule=\"evenodd\" fill-opacity=\"1\"/>\n",
       "<polyline clip-path=\"url(#clip682)\" style=\"stroke:#000000; stroke-linecap:round; stroke-linejoin:round; stroke-width:4; stroke-opacity:1; fill:none\" points=\"\n",
       "  596.082,1396.34 596.082,1445.72 698.368,1445.72 698.368,1396.34 596.082,1396.34 \n",
       "  \"/>\n",
       "<path clip-path=\"url(#clip682)\" d=\"\n",
       "M698.368 1384 L698.368 1445.72 L800.653 1445.72 L800.653 1384 L698.368 1384 L698.368 1384  Z\n",
       "  \" fill=\"#009af9\" fill-rule=\"evenodd\" fill-opacity=\"1\"/>\n",
       "<polyline clip-path=\"url(#clip682)\" style=\"stroke:#000000; stroke-linecap:round; stroke-linejoin:round; stroke-width:4; stroke-opacity:1; fill:none\" points=\"\n",
       "  698.368,1384 698.368,1445.72 800.653,1445.72 800.653,1384 698.368,1384 \n",
       "  \"/>\n",
       "<path clip-path=\"url(#clip682)\" d=\"\n",
       "M800.653 1260.57 L800.653 1445.72 L902.939 1445.72 L902.939 1260.57 L800.653 1260.57 L800.653 1260.57  Z\n",
       "  \" fill=\"#009af9\" fill-rule=\"evenodd\" fill-opacity=\"1\"/>\n",
       "<polyline clip-path=\"url(#clip682)\" style=\"stroke:#000000; stroke-linecap:round; stroke-linejoin:round; stroke-width:4; stroke-opacity:1; fill:none\" points=\"\n",
       "  800.653,1260.57 800.653,1445.72 902.939,1445.72 902.939,1260.57 800.653,1260.57 \n",
       "  \"/>\n",
       "<path clip-path=\"url(#clip682)\" d=\"\n",
       "M902.939 1149.48 L902.939 1445.72 L1005.22 1445.72 L1005.22 1149.48 L902.939 1149.48 L902.939 1149.48  Z\n",
       "  \" fill=\"#009af9\" fill-rule=\"evenodd\" fill-opacity=\"1\"/>\n",
       "<polyline clip-path=\"url(#clip682)\" style=\"stroke:#000000; stroke-linecap:round; stroke-linejoin:round; stroke-width:4; stroke-opacity:1; fill:none\" points=\"\n",
       "  902.939,1149.48 902.939,1445.72 1005.22,1445.72 1005.22,1149.48 902.939,1149.48 \n",
       "  \"/>\n",
       "<path clip-path=\"url(#clip682)\" d=\"\n",
       "M1005.22 1087.77 L1005.22 1445.72 L1107.51 1445.72 L1107.51 1087.77 L1005.22 1087.77 L1005.22 1087.77  Z\n",
       "  \" fill=\"#009af9\" fill-rule=\"evenodd\" fill-opacity=\"1\"/>\n",
       "<polyline clip-path=\"url(#clip682)\" style=\"stroke:#000000; stroke-linecap:round; stroke-linejoin:round; stroke-width:4; stroke-opacity:1; fill:none\" points=\"\n",
       "  1005.22,1087.77 1005.22,1445.72 1107.51,1445.72 1107.51,1087.77 1005.22,1087.77 \n",
       "  \"/>\n",
       "<path clip-path=\"url(#clip682)\" d=\"\n",
       "M1107.51 828.561 L1107.51 1445.72 L1209.8 1445.72 L1209.8 828.561 L1107.51 828.561 L1107.51 828.561  Z\n",
       "  \" fill=\"#009af9\" fill-rule=\"evenodd\" fill-opacity=\"1\"/>\n",
       "<polyline clip-path=\"url(#clip682)\" style=\"stroke:#000000; stroke-linecap:round; stroke-linejoin:round; stroke-width:4; stroke-opacity:1; fill:none\" points=\"\n",
       "  1107.51,828.561 1107.51,1445.72 1209.8,1445.72 1209.8,828.561 1107.51,828.561 \n",
       "  \"/>\n",
       "<path clip-path=\"url(#clip682)\" d=\"\n",
       "M1209.8 162.035 L1209.8 1445.72 L1312.08 1445.72 L1312.08 162.035 L1209.8 162.035 L1209.8 162.035  Z\n",
       "  \" fill=\"#009af9\" fill-rule=\"evenodd\" fill-opacity=\"1\"/>\n",
       "<polyline clip-path=\"url(#clip682)\" style=\"stroke:#000000; stroke-linecap:round; stroke-linejoin:round; stroke-width:4; stroke-opacity:1; fill:none\" points=\"\n",
       "  1209.8,162.035 1209.8,1445.72 1312.08,1445.72 1312.08,162.035 1209.8,162.035 \n",
       "  \"/>\n",
       "<path clip-path=\"url(#clip682)\" d=\"\n",
       "M1312.08 87.9763 L1312.08 1445.72 L1414.37 1445.72 L1414.37 87.9763 L1312.08 87.9763 L1312.08 87.9763  Z\n",
       "  \" fill=\"#009af9\" fill-rule=\"evenodd\" fill-opacity=\"1\"/>\n",
       "<polyline clip-path=\"url(#clip682)\" style=\"stroke:#000000; stroke-linecap:round; stroke-linejoin:round; stroke-width:4; stroke-opacity:1; fill:none\" points=\"\n",
       "  1312.08,87.9763 1312.08,1445.72 1414.37,1445.72 1414.37,87.9763 1312.08,87.9763 \n",
       "  \"/>\n",
       "<path clip-path=\"url(#clip682)\" d=\"\n",
       "M1414.37 631.072 L1414.37 1445.72 L1516.65 1445.72 L1516.65 631.072 L1414.37 631.072 L1414.37 631.072  Z\n",
       "  \" fill=\"#009af9\" fill-rule=\"evenodd\" fill-opacity=\"1\"/>\n",
       "<polyline clip-path=\"url(#clip682)\" style=\"stroke:#000000; stroke-linecap:round; stroke-linejoin:round; stroke-width:4; stroke-opacity:1; fill:none\" points=\"\n",
       "  1414.37,631.072 1414.37,1445.72 1516.65,1445.72 1516.65,631.072 1414.37,631.072 \n",
       "  \"/>\n",
       "<path clip-path=\"url(#clip682)\" d=\"\n",
       "M1516.65 1087.77 L1516.65 1445.72 L1618.94 1445.72 L1618.94 1087.77 L1516.65 1087.77 L1516.65 1087.77  Z\n",
       "  \" fill=\"#009af9\" fill-rule=\"evenodd\" fill-opacity=\"1\"/>\n",
       "<polyline clip-path=\"url(#clip682)\" style=\"stroke:#000000; stroke-linecap:round; stroke-linejoin:round; stroke-width:4; stroke-opacity:1; fill:none\" points=\"\n",
       "  1516.65,1087.77 1516.65,1445.72 1618.94,1445.72 1618.94,1087.77 1516.65,1087.77 \n",
       "  \"/>\n",
       "<path clip-path=\"url(#clip682)\" d=\"\n",
       "M1618.94 1248.23 L1618.94 1445.72 L1721.22 1445.72 L1721.22 1248.23 L1618.94 1248.23 L1618.94 1248.23  Z\n",
       "  \" fill=\"#009af9\" fill-rule=\"evenodd\" fill-opacity=\"1\"/>\n",
       "<polyline clip-path=\"url(#clip682)\" style=\"stroke:#000000; stroke-linecap:round; stroke-linejoin:round; stroke-width:4; stroke-opacity:1; fill:none\" points=\"\n",
       "  1618.94,1248.23 1618.94,1445.72 1721.22,1445.72 1721.22,1248.23 1618.94,1248.23 \n",
       "  \"/>\n",
       "<path clip-path=\"url(#clip682)\" d=\"\n",
       "M1721.22 1198.85 L1721.22 1445.72 L1823.51 1445.72 L1823.51 1198.85 L1721.22 1198.85 L1721.22 1198.85  Z\n",
       "  \" fill=\"#009af9\" fill-rule=\"evenodd\" fill-opacity=\"1\"/>\n",
       "<polyline clip-path=\"url(#clip682)\" style=\"stroke:#000000; stroke-linecap:round; stroke-linejoin:round; stroke-width:4; stroke-opacity:1; fill:none\" points=\"\n",
       "  1721.22,1198.85 1721.22,1445.72 1823.51,1445.72 1823.51,1198.85 1721.22,1198.85 \n",
       "  \"/>\n",
       "<path clip-path=\"url(#clip682)\" d=\"\n",
       "M1823.51 1371.66 L1823.51 1445.72 L1925.8 1445.72 L1925.8 1371.66 L1823.51 1371.66 L1823.51 1371.66  Z\n",
       "  \" fill=\"#009af9\" fill-rule=\"evenodd\" fill-opacity=\"1\"/>\n",
       "<polyline clip-path=\"url(#clip682)\" style=\"stroke:#000000; stroke-linecap:round; stroke-linejoin:round; stroke-width:4; stroke-opacity:1; fill:none\" points=\"\n",
       "  1823.51,1371.66 1823.51,1445.72 1925.8,1445.72 1925.8,1371.66 1823.51,1371.66 \n",
       "  \"/>\n",
       "<path clip-path=\"url(#clip682)\" d=\"\n",
       "M1925.8 1359.31 L1925.8 1445.72 L2028.08 1445.72 L2028.08 1359.31 L1925.8 1359.31 L1925.8 1359.31  Z\n",
       "  \" fill=\"#009af9\" fill-rule=\"evenodd\" fill-opacity=\"1\"/>\n",
       "<polyline clip-path=\"url(#clip682)\" style=\"stroke:#000000; stroke-linecap:round; stroke-linejoin:round; stroke-width:4; stroke-opacity:1; fill:none\" points=\"\n",
       "  1925.8,1359.31 1925.8,1445.72 2028.08,1445.72 2028.08,1359.31 1925.8,1359.31 \n",
       "  \"/>\n",
       "<path clip-path=\"url(#clip682)\" d=\"\n",
       "M2028.08 1408.69 L2028.08 1445.72 L2130.37 1445.72 L2130.37 1408.69 L2028.08 1408.69 L2028.08 1408.69  Z\n",
       "  \" fill=\"#009af9\" fill-rule=\"evenodd\" fill-opacity=\"1\"/>\n",
       "<polyline clip-path=\"url(#clip682)\" style=\"stroke:#000000; stroke-linecap:round; stroke-linejoin:round; stroke-width:4; stroke-opacity:1; fill:none\" points=\"\n",
       "  2028.08,1408.69 2028.08,1445.72 2130.37,1445.72 2130.37,1408.69 2028.08,1408.69 \n",
       "  \"/>\n",
       "<path clip-path=\"url(#clip682)\" d=\"\n",
       "M2130.37 1433.37 L2130.37 1445.72 L2232.65 1445.72 L2232.65 1433.37 L2130.37 1433.37 L2130.37 1433.37  Z\n",
       "  \" fill=\"#009af9\" fill-rule=\"evenodd\" fill-opacity=\"1\"/>\n",
       "<polyline clip-path=\"url(#clip682)\" style=\"stroke:#000000; stroke-linecap:round; stroke-linejoin:round; stroke-width:4; stroke-opacity:1; fill:none\" points=\"\n",
       "  2130.37,1433.37 2130.37,1445.72 2232.65,1445.72 2232.65,1433.37 2130.37,1433.37 \n",
       "  \"/>\n",
       "<circle clip-path=\"url(#clip682)\" style=\"fill:#009af9; stroke:none; fill-opacity:0\" cx=\"340.368\" cy=\"1396.34\" r=\"2\"/>\n",
       "<circle clip-path=\"url(#clip682)\" style=\"fill:#009af9; stroke:none; fill-opacity:0\" cx=\"442.654\" cy=\"1421.03\" r=\"2\"/>\n",
       "<circle clip-path=\"url(#clip682)\" style=\"fill:#009af9; stroke:none; fill-opacity:0\" cx=\"544.939\" cy=\"1384\" r=\"2\"/>\n",
       "<circle clip-path=\"url(#clip682)\" style=\"fill:#009af9; stroke:none; fill-opacity:0\" cx=\"647.225\" cy=\"1396.34\" r=\"2\"/>\n",
       "<circle clip-path=\"url(#clip682)\" style=\"fill:#009af9; stroke:none; fill-opacity:0\" cx=\"749.51\" cy=\"1384\" r=\"2\"/>\n",
       "<circle clip-path=\"url(#clip682)\" style=\"fill:#009af9; stroke:none; fill-opacity:0\" cx=\"851.796\" cy=\"1260.57\" r=\"2\"/>\n",
       "<circle clip-path=\"url(#clip682)\" style=\"fill:#009af9; stroke:none; fill-opacity:0\" cx=\"954.082\" cy=\"1149.48\" r=\"2\"/>\n",
       "<circle clip-path=\"url(#clip682)\" style=\"fill:#009af9; stroke:none; fill-opacity:0\" cx=\"1056.37\" cy=\"1087.77\" r=\"2\"/>\n",
       "<circle clip-path=\"url(#clip682)\" style=\"fill:#009af9; stroke:none; fill-opacity:0\" cx=\"1158.65\" cy=\"828.561\" r=\"2\"/>\n",
       "<circle clip-path=\"url(#clip682)\" style=\"fill:#009af9; stroke:none; fill-opacity:0\" cx=\"1260.94\" cy=\"162.035\" r=\"2\"/>\n",
       "<circle clip-path=\"url(#clip682)\" style=\"fill:#009af9; stroke:none; fill-opacity:0\" cx=\"1363.22\" cy=\"87.9763\" r=\"2\"/>\n",
       "<circle clip-path=\"url(#clip682)\" style=\"fill:#009af9; stroke:none; fill-opacity:0\" cx=\"1465.51\" cy=\"631.072\" r=\"2\"/>\n",
       "<circle clip-path=\"url(#clip682)\" style=\"fill:#009af9; stroke:none; fill-opacity:0\" cx=\"1567.8\" cy=\"1087.77\" r=\"2\"/>\n",
       "<circle clip-path=\"url(#clip682)\" style=\"fill:#009af9; stroke:none; fill-opacity:0\" cx=\"1670.08\" cy=\"1248.23\" r=\"2\"/>\n",
       "<circle clip-path=\"url(#clip682)\" style=\"fill:#009af9; stroke:none; fill-opacity:0\" cx=\"1772.37\" cy=\"1198.85\" r=\"2\"/>\n",
       "<circle clip-path=\"url(#clip682)\" style=\"fill:#009af9; stroke:none; fill-opacity:0\" cx=\"1874.65\" cy=\"1371.66\" r=\"2\"/>\n",
       "<circle clip-path=\"url(#clip682)\" style=\"fill:#009af9; stroke:none; fill-opacity:0\" cx=\"1976.94\" cy=\"1359.31\" r=\"2\"/>\n",
       "<circle clip-path=\"url(#clip682)\" style=\"fill:#009af9; stroke:none; fill-opacity:0\" cx=\"2079.22\" cy=\"1408.69\" r=\"2\"/>\n",
       "<circle clip-path=\"url(#clip682)\" style=\"fill:#009af9; stroke:none; fill-opacity:0\" cx=\"2181.51\" cy=\"1433.37\" r=\"2\"/>\n",
       "<path clip-path=\"url(#clip680)\" d=\"\n",
       "M2009.17 198.898 L2279.97 198.898 L2279.97 95.2176 L2009.17 95.2176  Z\n",
       "  \" fill=\"#ffffff\" fill-rule=\"evenodd\" fill-opacity=\"1\"/>\n",
       "<polyline clip-path=\"url(#clip680)\" style=\"stroke:#000000; stroke-linecap:round; stroke-linejoin:round; stroke-width:4; stroke-opacity:1; fill:none\" points=\"\n",
       "  2009.17,198.898 2279.97,198.898 2279.97,95.2176 2009.17,95.2176 2009.17,198.898 \n",
       "  \"/>\n",
       "<path clip-path=\"url(#clip680)\" d=\"\n",
       "M2033.44 167.794 L2179.01 167.794 L2179.01 126.322 L2033.44 126.322 L2033.44 167.794  Z\n",
       "  \" fill=\"#009af9\" fill-rule=\"evenodd\" fill-opacity=\"1\"/>\n",
       "<polyline clip-path=\"url(#clip680)\" style=\"stroke:#000000; stroke-linecap:round; stroke-linejoin:round; stroke-width:4; stroke-opacity:1; fill:none\" points=\"\n",
       "  2033.44,167.794 2179.01,167.794 2179.01,126.322 2033.44,126.322 2033.44,167.794 \n",
       "  \"/>\n",
       "<path clip-path=\"url(#clip680)\" d=\"M2217.12 166.745 Q2215.31 171.375 2213.6 172.787 Q2211.89 174.199 2209.02 174.199 L2205.61 174.199 L2205.61 170.634 L2208.11 170.634 Q2209.87 170.634 2210.84 169.8 Q2211.82 168.967 2213 165.865 L2213.76 163.921 L2203.28 138.412 L2207.79 138.412 L2215.89 158.689 L2223.99 138.412 L2228.51 138.412 L2217.12 166.745 Z\" fill=\"#000000\" fill-rule=\"evenodd\" fill-opacity=\"1\" /><path clip-path=\"url(#clip680)\" d=\"M2235.8 160.402 L2243.44 160.402 L2243.44 134.037 L2235.13 135.703 L2235.13 131.444 L2243.39 129.778 L2248.07 129.778 L2248.07 160.402 L2255.71 160.402 L2255.71 164.338 L2235.8 164.338 L2235.8 160.402 Z\" fill=\"#000000\" fill-rule=\"evenodd\" fill-opacity=\"1\" /></svg>\n"
      ]
     },
     "execution_count": 17,
     "metadata": {},
     "output_type": "execute_result"
    }
   ],
   "source": [
    "using Distributions\n",
    "\n",
    "function plothistogram(distribution, n)\n",
    "    ϵ = rand(distribution, n)  # n draws from distribution\n",
    "    histogram(ϵ)\n",
    "end\n",
    "\n",
    "lp = Laplace()\n",
    "plothistogram(lp, 500)"
   ]
  },
  {
   "attachments": {},
   "cell_type": "markdown",
   "id": "af8fd514",
   "metadata": {},
   "source": [
    "Let’s have a casual discussion of how all this works while leaving technical details for later in the lectures.\n",
    "\n",
    "First, `lp = Laplace()` creates an instance of a data type defined\n",
    "in the `Distributions` module that represents the Laplace distribution.\n",
    "\n",
    "The name `lp` is bound to this value.\n",
    "\n",
    "When we make the function call `plothistogram(lp, 500)` the code in the body\n",
    "of the function `plothistogram` is run with\n",
    "\n",
    "- the name `distribution` bound to the same value as `lp`  \n",
    "- the name `n` bound to the integer `500`  "
   ]
  },
  {
   "attachments": {},
   "cell_type": "markdown",
   "id": "6fbfc1b1",
   "metadata": {},
   "source": [
    "#### A Mystery\n",
    "\n",
    "Now consider the function call `rand(distribution, n)`.\n",
    "\n",
    "This looks like something of a mystery.\n",
    "\n",
    "The function `rand()` is defined in the base library such that `rand(n)` returns `n` uniform random variables on $ [0, 1) $."
   ]
  },
  {
   "cell_type": "code",
   "execution_count": 18,
   "id": "b7e0fcce",
   "metadata": {
    "hide-output": false
   },
   "outputs": [
    {
     "data": {
      "text/plain": [
       "3-element Vector{Float64}:\n",
       " 0.9209252403302969\n",
       " 0.06451341852781578\n",
       " 0.7365926280272875"
      ]
     },
     "execution_count": 18,
     "metadata": {},
     "output_type": "execute_result"
    }
   ],
   "source": [
    "rand(3)"
   ]
  },
  {
   "attachments": {},
   "cell_type": "markdown",
   "id": "fe55aefa",
   "metadata": {},
   "source": [
    "On the other hand, `distribution` points to a data type representing the Laplace distribution that has been defined in a third party package.\n",
    "\n",
    "So how can it be that `rand()` is able to take this kind of value as an\n",
    "argument and return the output that we want?\n",
    "\n",
    "The answer in a nutshell is **multiple dispatch**, which Julia uses to implement **generic programming**.\n",
    "\n",
    "This refers to the idea that functions in Julia can have different behavior\n",
    "depending on the particular arguments that they’re passed.\n",
    "\n",
    "Hence in Julia we can take an existing function and give it a new behavior by defining how it acts on a new type of value.\n",
    "\n",
    "The compiler knows which function definition to apply to in a given setting by looking at the types of the values the function is called on.\n",
    "\n",
    "In Julia these alternative versions of a function are called **methods**."
   ]
  },
  {
   "attachments": {},
   "cell_type": "markdown",
   "id": "022c1c10",
   "metadata": {},
   "source": [
    "## Example: Variations on Fixed Points\n",
    "\n",
    "Take a mapping $ f : X \\to X $ for some set $ X $.\n",
    "\n",
    "If there exists an $ x^* \\in X $ such that $ f(x^*) = x^* $, then $ x^* $: is called a “fixed point” of $ f $.\n",
    "\n",
    "For our second example, we will start with a simple example of determining fixed points of a function.\n",
    "\n",
    "The goal is to start with code in a MATLAB style, and move towards a more **Julian** style with high mathematical clarity."
   ]
  },
  {
   "attachments": {},
   "cell_type": "markdown",
   "id": "12b0b443",
   "metadata": {},
   "source": [
    "### Fixed Point Maps\n",
    "\n",
    "Consider the simple equation, where the scalars $ p,\\beta $ are given, and  $ v $ is the scalar we wish to solve for\n",
    "\n",
    "$$\n",
    "v = p + \\beta v\n",
    "$$\n",
    "\n",
    "Of course, in this simple example, with parameter restrictions this can be solved as $ v = p/(1 - \\beta) $.\n",
    "\n",
    "Rearrange the equation in terms of a map $ f(x) : \\mathbb R \\to \\mathbb R $\n",
    "\n",
    "\n",
    "<a id='equation-fixed-point-map'></a>\n",
    "$$\n",
    "v = f(v) \\tag{2.1}\n",
    "$$\n",
    "\n",
    "where\n",
    "\n",
    "$$\n",
    "f(v) := p + \\beta v\n",
    "$$\n",
    "\n",
    "Therefore, a fixed point $ v^* $ of $ f(\\cdot) $ is a solution to the above problem."
   ]
  },
  {
   "attachments": {},
   "cell_type": "markdown",
   "id": "259f206c",
   "metadata": {},
   "source": [
    "### While Loops\n",
    "\n",
    "One approach to finding a fixed point of [(2.1)](#equation-fixed-point-map) is to start with an initial value, and iterate the map\n",
    "\n",
    "\n",
    "<a id='equation-fixed-point-naive'></a>\n",
    "$$\n",
    "v^{n+1} = f(v^n) \\tag{2.2}\n",
    "$$\n",
    "\n",
    "For this exact `f` function,  we can see the convergence to $ v = p/(1-\\beta) $ when $ |\\beta| < 1 $ by iterating backwards and taking $ n\\to\\infty $\n",
    "\n",
    "$$\n",
    "v^{n+1} = p + \\beta v^n = p + \\beta p + \\beta^2 v^{n-1} = p \\sum_{i=0}^{n-1} \\beta^i + \\beta^n v_0\n",
    "$$\n",
    "\n",
    "To implement the iteration in [(2.2)](#equation-fixed-point-naive), we start by solving this problem with a `while` loop.\n",
    "\n",
    "The syntax for the while loop contains no surprises, and looks nearly identical to a MATLAB implementation."
   ]
  },
  {
   "cell_type": "code",
   "execution_count": 19,
   "id": "716d2107",
   "metadata": {
    "hide-output": false
   },
   "outputs": [
    {
     "name": "stdout",
     "output_type": "stream",
     "text": [
      "Fixed point = 9.999999173706609\n",
      "  |f(x) - x| = 9.181037796679448e-8 in 155 iterations\n"
     ]
    }
   ],
   "source": [
    "# poor style\n",
    "p = 1.0 # note 1.0 rather than 1\n",
    "β = 0.9\n",
    "maxiter = 1000\n",
    "tolerance = 1.0E-7\n",
    "v_iv = 0.8 # initial condition\n",
    "\n",
    "# setup the algorithm\n",
    "v_old = v_iv\n",
    "normdiff = Inf\n",
    "iter = 1\n",
    "while normdiff > tolerance && iter <= maxiter\n",
    "    v_new = p + β * v_old # the f(v) map\n",
    "    normdiff = norm(v_new - v_old)\n",
    "\n",
    "    # replace and continue\n",
    "    v_old = v_new\n",
    "    iter = iter + 1\n",
    "end\n",
    "println(\"Fixed point = $v_old\n",
    "  |f(x) - x| = $normdiff in $iter iterations\")"
   ]
  },
  {
   "attachments": {},
   "cell_type": "markdown",
   "id": "f1dfbfdb",
   "metadata": {},
   "source": [
    "The `while` loop, like the `for` loop should only be used directly in Jupyter or the inside of a function.\n",
    "\n",
    "Here, we have used the `norm` function (from the `LinearAlgebra` base library) to compare the values.\n",
    "\n",
    "The other new function is the `println` with the string interpolation, which splices the value of an expression or variable prefixed by \\$ into a string.\n",
    "\n",
    "An alternative approach is to use a `for` loop, and check for convergence in each iteration."
   ]
  },
  {
   "cell_type": "code",
   "execution_count": 20,
   "id": "1a90c2c4",
   "metadata": {
    "hide-output": false
   },
   "outputs": [
    {
     "name": "stdout",
     "output_type": "stream",
     "text": [
      "Fixed point = 9.999999081896231\n",
      "  |f(x) - x| = 9.181037796679448e-8 in 154 iterations\n"
     ]
    }
   ],
   "source": [
    "# setup the algorithm\n",
    "v_old = v_iv\n",
    "normdiff = Inf\n",
    "iter = 1\n",
    "for i in 1:maxiter\n",
    "    v_new = p + β * v_old # the f(v) map\n",
    "    normdiff = norm(v_new - v_old)\n",
    "    if normdiff < tolerance # check convergence\n",
    "        iter = i\n",
    "        break # converged, exit loop\n",
    "    end\n",
    "    # replace and continue\n",
    "    v_old = v_new\n",
    "end\n",
    "println(\"Fixed point = $v_old\n",
    "  |f(x) - x| = $normdiff in $iter iterations\")"
   ]
  },
  {
   "attachments": {},
   "cell_type": "markdown",
   "id": "513dcefc",
   "metadata": {},
   "source": [
    "The new feature there is `break` , which leaves a `for` or `while` loop."
   ]
  },
  {
   "attachments": {},
   "cell_type": "markdown",
   "id": "099f650a",
   "metadata": {},
   "source": [
    "### Using a Function\n",
    "\n",
    "The first problem with this setup is that it depends on being sequentially run – which can be easily remedied with a function."
   ]
  },
  {
   "cell_type": "code",
   "execution_count": 21,
   "id": "908dcf31",
   "metadata": {
    "hide-output": false
   },
   "outputs": [
    {
     "name": "stdout",
     "output_type": "stream",
     "text": [
      "Fixed point = 9.999999173706609\n",
      "  |f(x) - x| = 9.181037796679448e-8 in 155 iterations\n"
     ]
    }
   ],
   "source": [
    "# better, but still poor style\n",
    "function v_fp(β, ρ, v_iv, tolerance, maxiter)\n",
    "    # setup the algorithm\n",
    "    v_old = v_iv\n",
    "    normdiff = Inf\n",
    "    iter = 1\n",
    "    while normdiff > tolerance && iter <= maxiter\n",
    "        v_new = p + β * v_old # the f(v) map\n",
    "        normdiff = norm(v_new - v_old)\n",
    "\n",
    "        # replace and continue\n",
    "        v_old = v_new\n",
    "        iter = iter + 1\n",
    "    end\n",
    "    return (v_old, normdiff, iter) # returns a tuple\n",
    "end\n",
    "\n",
    "# some values\n",
    "p = 1.0 # note 1.0 rather than 1\n",
    "β = 0.9\n",
    "maxiter = 1000\n",
    "tolerance = 1.0E-7\n",
    "v_initial = 0.8 # initial condition\n",
    "\n",
    "v_star, normdiff, iter = v_fp(β, p, v_initial, tolerance, maxiter)\n",
    "println(\"Fixed point = $v_star\n",
    "  |f(x) - x| = $normdiff in $iter iterations\")"
   ]
  },
  {
   "attachments": {},
   "cell_type": "markdown",
   "id": "cc9cef71",
   "metadata": {},
   "source": [
    "While better, there could still be improvements."
   ]
  },
  {
   "attachments": {},
   "cell_type": "markdown",
   "id": "9b771503",
   "metadata": {},
   "source": [
    "### Passing a Function\n",
    "\n",
    "The chief issue is that the algorithm (finding a fixed point) is reusable and generic, while the function we calculate `p + β * v` is specific to our problem.\n",
    "\n",
    "A key feature of languages like Julia, is the ability to efficiently handle functions passed to other functions."
   ]
  },
  {
   "cell_type": "code",
   "execution_count": 22,
   "id": "e3f7c8c0",
   "metadata": {
    "hide-output": false
   },
   "outputs": [
    {
     "name": "stdout",
     "output_type": "stream",
     "text": [
      "Fixed point = 9.999999173706609\n",
      "  |f(x) - x| = 9.181037796679448e-8 in 155 iterations\n"
     ]
    }
   ],
   "source": [
    "# better style\n",
    "function fixedpointmap(f, iv, tolerance, maxiter)\n",
    "    # setup the algorithm\n",
    "    x_old = iv\n",
    "    normdiff = Inf\n",
    "    iter = 1\n",
    "    while normdiff > tolerance && iter <= maxiter\n",
    "        x_new = f(x_old) # use the passed in map\n",
    "        normdiff = norm(x_new - x_old)\n",
    "        x_old = x_new\n",
    "        iter = iter + 1\n",
    "    end\n",
    "    return (x_old, normdiff, iter)\n",
    "end\n",
    "\n",
    "# define a map and parameters\n",
    "p = 1.0\n",
    "β = 0.9\n",
    "f(v) = p + β * v # note that p and β are used in the function!\n",
    "\n",
    "maxiter = 1000\n",
    "tolerance = 1.0E-7\n",
    "v_initial = 0.8 # initial condition\n",
    "\n",
    "v_star, normdiff, iter = fixedpointmap(f, v_initial, tolerance, maxiter)\n",
    "println(\"Fixed point = $v_star\n",
    "  |f(x) - x| = $normdiff in $iter iterations\")"
   ]
  },
  {
   "attachments": {},
   "cell_type": "markdown",
   "id": "07fb624b",
   "metadata": {},
   "source": [
    "Much closer, but there are still hidden bugs if the user orders the settings or returns types wrong."
   ]
  },
  {
   "attachments": {},
   "cell_type": "markdown",
   "id": "c8ec3a19",
   "metadata": {},
   "source": [
    "### Named Arguments and Return Values\n",
    "\n",
    "To enable this, Julia has two features:  named function parameters, and named tuples"
   ]
  },
  {
   "cell_type": "code",
   "execution_count": 23,
   "id": "2ae6c781",
   "metadata": {
    "hide-output": false
   },
   "outputs": [
    {
     "name": "stdout",
     "output_type": "stream",
     "text": [
      "Fixed point = 9.999999918629035\n",
      "  |f(x) - x| = 9.041219328764782e-9 in 177 iterations\n"
     ]
    }
   ],
   "source": [
    "# good style\n",
    "function fixedpointmap(f, iv; tolerance=1E-7, maxiter=1000)\n",
    "    # setup the algorithm\n",
    "    x_old = iv\n",
    "    normdiff = Inf\n",
    "    iter = 1\n",
    "    while normdiff > tolerance && iter <= maxiter\n",
    "        x_new = f(x_old) # use the passed in map\n",
    "        normdiff = norm(x_new - x_old)\n",
    "        x_old = x_new\n",
    "        iter = iter + 1\n",
    "    end\n",
    "    return (;value = x_old, normdiff, iter) # A named tuple\n",
    "end\n",
    "\n",
    "# define a map and parameters\n",
    "p = 1.0\n",
    "β = 0.9\n",
    "f(v) = p + β * v # note that p and β are used in the function!\n",
    "\n",
    "sol = fixedpointmap(f, 0.8; tolerance=1.0E-8) # don't need to pass\n",
    "println(\"Fixed point = $(sol.value)\n",
    "  |f(x) - x| = $(sol.normdiff) in $(sol.iter) iterations\")"
   ]
  },
  {
   "attachments": {},
   "cell_type": "markdown",
   "id": "65561515",
   "metadata": {},
   "source": [
    "In this example, all function parameters after the `;` in the list, must be called by name.\n",
    "\n",
    "Furthermore, a default value may be enabled – so the named parameter `iv` is required while `tolerance` and `maxiter` have default values.\n",
    "\n",
    "The return type of the function also has named fields, `value, normdiff,` and `iter` – all accessed intuitively using `.`.\n",
    "\n",
    "Finally, this shows how named tuples and keyword arguments are constructed from local variable names.  In particular, ` (;value = x_old, normdiff, iter)` is identical to `(value = x_old, normdiff = normdiff, iter = iter)` where anything after the `;` is assumed to be a keyword with the name identical to the local variable.\n",
    "\n",
    "The named tuple notation is also used for unpacking values.  In particular we could have written the execution of this with"
   ]
  },
  {
   "cell_type": "code",
   "execution_count": 24,
   "id": "13696b6f",
   "metadata": {
    "hide-output": false
   },
   "outputs": [
    {
     "name": "stdout",
     "output_type": "stream",
     "text": [
      "Fixed point = 9.999999918629035\n",
      "  |f(x) - x| = 9.041219328764782e-9 in 177 iterations\n"
     ]
    }
   ],
   "source": [
    "(;value, normdiff, iter) = fixedpointmap(f, 0.8; tolerance=1.0E-8)\n",
    "println(\"Fixed point = $value\n",
    "  |f(x) - x| = $normdiff in $iter iterations\")"
   ]
  },
  {
   "attachments": {},
   "cell_type": "markdown",
   "id": "1600407c",
   "metadata": {},
   "source": [
    "That is, `(; value, normdiff, iter) = expression` is the same as `exp = expression(); value = exp.value, normdiff = exp.normdiff, iter = exp.iter`.\n",
    "\n",
    "To show the flexibility of this code, we can use it to find a fixed point of the non-linear logistic equation, $ x = f(x) $ where $ f(x) := r x (1-x) $."
   ]
  },
  {
   "cell_type": "code",
   "execution_count": 25,
   "id": "138c784b",
   "metadata": {
    "hide-output": false
   },
   "outputs": [
    {
     "name": "stdout",
     "output_type": "stream",
     "text": [
      "Fixed point = 0.4999999999999968\n",
      "  |f(x) - x| = 3.979330237546819e-8 in 7 iterations\n"
     ]
    }
   ],
   "source": [
    "r = 2.0\n",
    "f(x) = r * x * (1 - x)\n",
    "\n",
    "sol = fixedpointmap(f, 0.8) # the ; is optional but generally good style\n",
    "println(\"Fixed point = $(sol.value)\n",
    "  |f(x) - x| = $(sol.normdiff) in $(sol.iter) iterations\")"
   ]
  },
  {
   "attachments": {},
   "cell_type": "markdown",
   "id": "4ebe609a",
   "metadata": {},
   "source": [
    "### Using a Package\n",
    "\n",
    "But best of all is to avoid writing code altogether."
   ]
  },
  {
   "cell_type": "code",
   "execution_count": 26,
   "id": "297cf2a3",
   "metadata": {
    "hide-output": false
   },
   "outputs": [
    {
     "name": "stdout",
     "output_type": "stream",
     "text": [
      "Fixed point = [9.999999909587816]\n",
      "  |f(x) - x| = 9.041219328764782e-9 in 176 iterations\n"
     ]
    }
   ],
   "source": [
    "# best style\n",
    "using NLsolve\n",
    "\n",
    "p = 1.0\n",
    "β = 0.9\n",
    "f(v) = p .+ β * v # broadcast the +\n",
    "sol = fixedpoint(f, [0.8]; m = 0)\n",
    "normdiff = norm(f(sol.zero) - sol.zero)\n",
    "println(\"Fixed point = $(sol.zero)\n",
    "  |f(x) - x| = $normdiff in $(sol.iterations) iterations\")"
   ]
  },
  {
   "attachments": {},
   "cell_type": "markdown",
   "id": "d607527e",
   "metadata": {},
   "source": [
    "The `fixedpoint` function from the `NLsolve.jl` library implements the simple fixed point iteration scheme above.\n",
    "\n",
    "Since the `NLsolve` library only accepts vector based inputs, we needed to make the `f(v)` function broadcast on the `+` sign, and pass in the initial condition as a vector of length 1 with `[0.8]`.\n",
    "\n",
    "While a key benefit of using a package is that the code is clearer, and the implementation is tested, by using an orthogonal library we also enable performance improvements."
   ]
  },
  {
   "cell_type": "code",
   "execution_count": 27,
   "id": "2a81f035",
   "metadata": {
    "hide-output": false
   },
   "outputs": [
    {
     "name": "stdout",
     "output_type": "stream",
     "text": [
      "Fixed point = [9.999999999999972]\n",
      "  |f(x) - x| = 3.552713678800501e-15  in 3 iterations\n",
      "  converged = true\n"
     ]
    }
   ],
   "source": [
    "# best style\n",
    "p = 1.0\n",
    "β = 0.9\n",
    "iv = [0.8]\n",
    "sol = fixedpoint(v -> p .+ β * v, iv)\n",
    "fnorm = norm(f(sol.zero) - sol.zero)\n",
    "println(\"Fixed point = $(sol.zero)\n",
    "  |f(x) - x| = $fnorm  in $(sol.iterations) iterations\n",
    "  converged = $(sol.f_converged)\")"
   ]
  },
  {
   "attachments": {},
   "cell_type": "markdown",
   "id": "90737691",
   "metadata": {},
   "source": [
    "Note that this completes in `3` iterations vs `176` for the naive fixed point iteration algorithm.\n",
    "\n",
    "Since Anderson iteration is doing more calculations in an iteration,  whether it is faster or not would depend on the complexity of the `f` function.\n",
    "\n",
    "But this demonstrates the value of keeping the math separate from the algorithm, since by decoupling the mathematical definition of the fixed point from the implementation in [(2.2)](#equation-fixed-point-naive), we were able to exploit new algorithms for finding a fixed point.\n",
    "\n",
    "The only other change in this function is the move from directly defining `f(v)` and using an **anonymous** function.\n",
    "\n",
    "Similar to anonymous functions in MATLAB, and lambda functions in Python, Julia enables the creation of small functions without any names.\n",
    "\n",
    "The code `v -> p .+ β * v` defines a function of a dummy argument, `v` with the same body as our `f(x)`."
   ]
  },
  {
   "attachments": {},
   "cell_type": "markdown",
   "id": "1dfe6e70",
   "metadata": {},
   "source": [
    "### Composing Packages\n",
    "\n",
    "A key benefit of using Julia is that you can compose various packages, types, and techniques, without making changes to your underlying source.\n",
    "\n",
    "As an example, consider if we want to solve the model with a higher-precision, as floating points cannot be distinguished beyond the machine epsilon for that type (recall that computers approximate real numbers to the nearest binary  of a given precision; the *machine epsilon* is the smallest nonzero magnitude).\n",
    "\n",
    "In Julia, this number can be calculated as"
   ]
  },
  {
   "cell_type": "code",
   "execution_count": 28,
   "id": "91839598",
   "metadata": {
    "hide-output": false
   },
   "outputs": [
    {
     "data": {
      "text/plain": [
       "2.220446049250313e-16"
      ]
     },
     "execution_count": 28,
     "metadata": {},
     "output_type": "execute_result"
    }
   ],
   "source": [
    "eps()"
   ]
  },
  {
   "attachments": {},
   "cell_type": "markdown",
   "id": "1d083cec",
   "metadata": {},
   "source": [
    "For many cases, this is sufficient precision – but consider that in iterative algorithms applied millions of times, those small differences can add up.\n",
    "\n",
    "The only change we will need to our model in order to use a different floating point type is to call the function with an arbitrary precision floating point, `BigFloat`, for the initial value."
   ]
  },
  {
   "cell_type": "code",
   "execution_count": 29,
   "id": "d8e47037",
   "metadata": {
    "hide-output": false
   },
   "outputs": [
    {
     "name": "stdout",
     "output_type": "stream",
     "text": [
      "Fixed point = BigFloat[10.00000000000000222044604925031357388532909931412848377287867809936811555686155]\n",
      "  |f(x) - x| = 0.0 in 3 iterations\n"
     ]
    }
   ],
   "source": [
    "# use arbitrary precision floating points\n",
    "p = 1.0\n",
    "β = 0.9\n",
    "iv = [BigFloat(0.8)] # higher precision\n",
    "\n",
    "# otherwise identical\n",
    "sol = fixedpoint(v -> p .+ β * v, iv)\n",
    "normdiff = norm(f(sol.zero) - sol.zero)\n",
    "println(\"Fixed point = $(sol.zero)\n",
    "  |f(x) - x| = $normdiff in $(sol.iterations) iterations\")"
   ]
  },
  {
   "attachments": {},
   "cell_type": "markdown",
   "id": "413ac625",
   "metadata": {},
   "source": [
    "Here, the literal `BigFloat(0.8)` takes the number `0.8` and changes it to an arbitrary precision number.\n",
    "\n",
    "The result is that the residual is now **exactly** `0.0` since it is able to use arbitrary precision in the calculations, and the solution has a finite-precision solution with those parameters."
   ]
  },
  {
   "attachments": {},
   "cell_type": "markdown",
   "id": "51005f96",
   "metadata": {},
   "source": [
    "### Multivariate Fixed Point Maps\n",
    "\n",
    "The above example can be extended to multivariate maps without any modifications to the fixed point iteration code.\n",
    "\n",
    "Using our own, homegrown iteration and simply passing in a bivariate map:"
   ]
  },
  {
   "cell_type": "code",
   "execution_count": 30,
   "id": "35268ba9",
   "metadata": {
    "hide-output": false
   },
   "outputs": [
    {
     "name": "stdout",
     "output_type": "stream",
     "text": [
      "Fixed point = [9.999999961080519, 19.999999923853192]\n",
      "  |f(x) - x| = 9.501826248250528e-9 in 184 iterations\n"
     ]
    }
   ],
   "source": [
    "p = [1.0, 2.0]\n",
    "β = 0.9\n",
    "iv = [0.8, 2.0]\n",
    "f(v) = p .+ β * v # note that p and β are used in the function!\n",
    "\n",
    "sol = fixedpointmap(f, iv; tolerance = 1.0E-8)\n",
    "println(\"Fixed point = $(sol.value)\n",
    "  |f(x) - x| = $(sol.normdiff) in $(sol.iter) iterations\")"
   ]
  },
  {
   "attachments": {},
   "cell_type": "markdown",
   "id": "b78056e0",
   "metadata": {},
   "source": [
    "This also works without any modifications with the `fixedpoint` library function."
   ]
  },
  {
   "cell_type": "code",
   "execution_count": 31,
   "id": "31fe632c",
   "metadata": {
    "hide-output": false
   },
   "outputs": [
    {
     "name": "stdout",
     "output_type": "stream",
     "text": [
      "Fixed point = [10.0, 20.000000000000004, 0.9999999999999929]\n",
      "  |f(x) - x| = 6.661338147750939e-16 in 3 iterations\n"
     ]
    }
   ],
   "source": [
    "using NLsolve\n",
    "\n",
    "p = [1.0, 2.0, 0.1]\n",
    "β = 0.9\n",
    "iv =[0.8, 2.0, 51.0]\n",
    "f(v) = p .+ β * v\n",
    "\n",
    "sol = fixedpoint(v -> p .+ β * v, iv)\n",
    "normdiff = norm(f(sol.zero) - sol.zero)\n",
    "println(\"Fixed point = $(sol.zero)\n",
    "  |f(x) - x| = $normdiff in $(sol.iterations) iterations\")"
   ]
  },
  {
   "attachments": {},
   "cell_type": "markdown",
   "id": "4a7eabd4",
   "metadata": {},
   "source": [
    "Finally, to demonstrate the importance of composing different libraries, use a `StaticArrays.jl` type, which provides an efficient implementation for small arrays and matrices."
   ]
  },
  {
   "cell_type": "code",
   "execution_count": 32,
   "id": "92cd6de0",
   "metadata": {
    "hide-output": false
   },
   "outputs": [
    {
     "name": "stdout",
     "output_type": "stream",
     "text": [
      "Fixed point = [10.0, 20.000000000000004, 0.9999999999999929]\n",
      "  |f(x) - x| = 6.661338147750939e-16 in 3 iterations\n"
     ]
    }
   ],
   "source": [
    "using NLsolve, StaticArrays\n",
    "p = @SVector [1.0, 2.0, 0.1]\n",
    "β = 0.9\n",
    "iv = [0.8, 2.0, 51.0]\n",
    "f(v) = p .+ β * v\n",
    "\n",
    "sol = fixedpoint(v -> p .+ β * v, iv)\n",
    "normdiff = norm(f(sol.zero) - sol.zero)\n",
    "println(\"Fixed point = $(sol.zero)\n",
    "  |f(x) - x| = $normdiff in $(sol.iterations) iterations\")"
   ]
  },
  {
   "attachments": {},
   "cell_type": "markdown",
   "id": "cc55f921",
   "metadata": {},
   "source": [
    "The `@SVector` in front of the `[1.0, 2.0, 0.1]` is a macro for turning a vector literal into a static vector.\n",
    "\n",
    "All macros in Julia are prefixed by `@` in the name, and manipulate the code prior to compilation.\n",
    "\n",
    "We will see a variety of macros, and discuss the “metaprogramming” behind them in a later lecture."
   ]
  },
  {
   "attachments": {},
   "cell_type": "markdown",
   "id": "d2f57389",
   "metadata": {},
   "source": [
    "## Exercises\n",
    "\n",
    "\n",
    "<a id='jbe-ex1'></a>"
   ]
  },
  {
   "attachments": {},
   "cell_type": "markdown",
   "id": "cb5903f9",
   "metadata": {},
   "source": [
    "### Exercise 1\n",
    "\n",
    "Recall that $ n! $ is read as “$ n $ factorial” and defined as\n",
    "$ n! = n \\times (n - 1) \\times \\cdots \\times 2 \\times 1 $.\n",
    "\n",
    "In Julia you can compute this value with `factorial(n)`.\n",
    "\n",
    "Write your own version of this function, called `factorial2`, using a `for` loop.\n",
    "\n",
    "\n",
    "<a id='jbe-ex2'></a>"
   ]
  },
  {
   "cell_type": "code",
   "execution_count": 34,
   "id": "88b7833f",
   "metadata": {},
   "outputs": [
    {
     "data": {
      "text/plain": [
       "true"
      ]
     },
     "execution_count": 34,
     "metadata": {},
     "output_type": "execute_result"
    }
   ],
   "source": [
    "function factorial2(n)\n",
    "    ans = 1\n",
    "    for i in 1:n\n",
    "        ans *= i\n",
    "    end\n",
    "    return ans\n",
    "end\n",
    "\n",
    "factorial2(4) == factorial(4)"
   ]
  },
  {
   "attachments": {},
   "cell_type": "markdown",
   "id": "df6003e7",
   "metadata": {},
   "source": [
    "### Exercise 2\n",
    "\n",
    "The [binomial random variable](https://en.wikipedia.org/wiki/Binomial_distribution) $ Y \\sim Bin(n, p) $ represents\n",
    "\n",
    "- number of successes in $ n $ binary trials  \n",
    "- each trial succeeds with probability $ p $  \n",
    "\n",
    "\n",
    "Using only `rand()` from the set of Julia’s built-in random number\n",
    "generators (not the `Distributions` package), write a function `binomial_rv` such that `binomial_rv(n, p)` generates one draw of $ Y $.\n",
    "\n",
    "Hint: If $ U $ is uniform on $ (0, 1) $ and $ p \\in (0,1) $, then the expression `U < p` evaluates to `true` with probability $ p $.\n",
    "\n",
    "\n",
    "<a id='jbe-ex3'></a>"
   ]
  },
  {
   "cell_type": "code",
   "execution_count": 41,
   "id": "8330e081",
   "metadata": {},
   "outputs": [
    {
     "name": "stdout",
     "output_type": "stream",
     "text": [
      "3, 5, 4, 3, 6, 9, 8, 5, 3, 6, 3, 5, 4, 6, 6, 5, 4, 6, 7, 4, 3, 2, 4, 6, 8, "
     ]
    }
   ],
   "source": [
    "function binomial_rv(n, p)\n",
    "    return sum([rand() < p for _ in 1:n])\n",
    "end\n",
    "\n",
    "for j in 1:25\n",
    "    b = binomial_rv(10, 0.5)\n",
    "    print(\"$b, \")\n",
    "end"
   ]
  },
  {
   "attachments": {},
   "cell_type": "markdown",
   "id": "dcdaf206",
   "metadata": {},
   "source": [
    "### Exercise 3\n",
    "\n",
    "Compute an approximation to $ \\pi $ using Monte Carlo.\n",
    "\n",
    "For random number generation use only `rand()`.\n",
    "\n",
    "Your hints are as follows:\n",
    "\n",
    "- If $ U $ is a bivariate uniform random variable on the unit square $ (0, 1)^2 $, then the probability that $ U $ lies in a subset $ B $ of $ (0,1)^2 $ is equal to the area of $ B $.  \n",
    "- If $ U_1,\\ldots,U_n $ are iid copies of $ U $, then, as $ n $ gets larger, the fraction that falls in $ B $ converges to the probability of landing in $ B $.  \n",
    "- For a circle, area = π * $ radius^2 $.  \n",
    "\n",
    "\n",
    "\n",
    "<a id='jbe-ex4'></a>"
   ]
  },
  {
   "cell_type": "code",
   "execution_count": 54,
   "id": "a0138eea",
   "metadata": {},
   "outputs": [
    {
     "name": "stdout",
     "output_type": "stream",
     "text": [
      "3.143068\n"
     ]
    }
   ],
   "source": [
    "itr = 1000000\n",
    "count = 0\n",
    "\n",
    "for _ in 1:itr\n",
    "    point = rand(2)\n",
    "    dist_to_centre = sqrt((point[1] - 0.5)^2 + (point[2] - 0.5)^2)\n",
    "    if dist_to_centre <= 0.5\n",
    "        count += 1\n",
    "    end\n",
    "end\n",
    "\n",
    "println(count / itr / 0.25)"
   ]
  },
  {
   "attachments": {},
   "cell_type": "markdown",
   "id": "647aa53e",
   "metadata": {},
   "source": [
    "### Exercise 4\n",
    "\n",
    "Write a program that prints one realization of the following random device:\n",
    "\n",
    "- Flip an unbiased coin 10 times.  \n",
    "- If 3 consecutive heads occur one or more times within this sequence, pay one dollar.  \n",
    "- If not, pay nothing.  \n",
    "\n",
    "\n",
    "Once again use only `rand()` as your random number generator.\n",
    "\n",
    "\n",
    "<a id='jbe-ex5'></a>"
   ]
  },
  {
   "cell_type": "code",
   "execution_count": 71,
   "id": "d345665a",
   "metadata": {},
   "outputs": [
    {
     "name": "stdout",
     "output_type": "stream",
     "text": [
      "Fail"
     ]
    }
   ],
   "source": [
    "function payorfail()\n",
    "    cointoss = rand(10)\n",
    "    consecutive = 0\n",
    "    for i in cointoss\n",
    "        if i > 0.5\n",
    "            consecutive += 1\n",
    "        else\n",
    "            consecutive = 0\n",
    "        end\n",
    "        if consecutive == 3\n",
    "            print(\"Pay\")\n",
    "            return\n",
    "        end\n",
    "    end\n",
    "    print(\"Fail\")\n",
    "    return\n",
    "end\n",
    "\n",
    "payorfail()"
   ]
  },
  {
   "attachments": {},
   "cell_type": "markdown",
   "id": "8f59b1d2",
   "metadata": {},
   "source": [
    "### Exercise 5\n",
    "\n",
    "Simulate and plot the correlated time series\n",
    "\n",
    "$$\n",
    "x_{t+1} = \\alpha \\, x_t + \\epsilon_{t+1}\n",
    "\\quad \\text{where} \\quad\n",
    "x_0 = 0\n",
    "\\quad \\text{and} \\quad t = 0,\\ldots,n\n",
    "$$\n",
    "\n",
    "The sequence of shocks $ \\{\\epsilon_t\\} $ is assumed to be iid and standard normal.\n",
    "\n",
    "Set $ n = 200 $ and $ \\alpha = 0.9 $.\n",
    "\n",
    "\n",
    "<a id='jbe-ex6'></a>"
   ]
  },
  {
   "cell_type": "code",
   "execution_count": 81,
   "id": "f178dc7e",
   "metadata": {},
   "outputs": [
    {
     "data": {
      "image/svg+xml": [
       "<?xml version=\"1.0\" encoding=\"utf-8\"?>\n",
       "<svg xmlns=\"http://www.w3.org/2000/svg\" xmlns:xlink=\"http://www.w3.org/1999/xlink\" width=\"600\" height=\"400\" viewBox=\"0 0 2400 1600\">\n",
       "<defs>\n",
       "  <clipPath id=\"clip920\">\n",
       "    <rect x=\"0\" y=\"0\" width=\"2400\" height=\"1600\"/>\n",
       "  </clipPath>\n",
       "</defs>\n",
       "<path clip-path=\"url(#clip920)\" d=\"\n",
       "M0 1600 L2400 1600 L2400 0 L0 0  Z\n",
       "  \" fill=\"#ffffff\" fill-rule=\"evenodd\" fill-opacity=\"1\"/>\n",
       "<defs>\n",
       "  <clipPath id=\"clip921\">\n",
       "    <rect x=\"480\" y=\"0\" width=\"1681\" height=\"1600\"/>\n",
       "  </clipPath>\n",
       "</defs>\n",
       "<path clip-path=\"url(#clip920)\" d=\"\n",
       "M112.177 1486.45 L2352.76 1486.45 L2352.76 47.2441 L112.177 47.2441  Z\n",
       "  \" fill=\"#ffffff\" fill-rule=\"evenodd\" fill-opacity=\"1\"/>\n",
       "<defs>\n",
       "  <clipPath id=\"clip922\">\n",
       "    <rect x=\"112\" y=\"47\" width=\"2242\" height=\"1440\"/>\n",
       "  </clipPath>\n",
       "</defs>\n",
       "<polyline clip-path=\"url(#clip922)\" style=\"stroke:#000000; stroke-linecap:round; stroke-linejoin:round; stroke-width:2; stroke-opacity:0.1; fill:none\" points=\"\n",
       "  165.021,1486.45 165.021,47.2441 \n",
       "  \"/>\n",
       "<polyline clip-path=\"url(#clip922)\" style=\"stroke:#000000; stroke-linecap:round; stroke-linejoin:round; stroke-width:2; stroke-opacity:0.1; fill:none\" points=\"\n",
       "  693.459,1486.45 693.459,47.2441 \n",
       "  \"/>\n",
       "<polyline clip-path=\"url(#clip922)\" style=\"stroke:#000000; stroke-linecap:round; stroke-linejoin:round; stroke-width:2; stroke-opacity:0.1; fill:none\" points=\"\n",
       "  1221.9,1486.45 1221.9,47.2441 \n",
       "  \"/>\n",
       "<polyline clip-path=\"url(#clip922)\" style=\"stroke:#000000; stroke-linecap:round; stroke-linejoin:round; stroke-width:2; stroke-opacity:0.1; fill:none\" points=\"\n",
       "  1750.34,1486.45 1750.34,47.2441 \n",
       "  \"/>\n",
       "<polyline clip-path=\"url(#clip922)\" style=\"stroke:#000000; stroke-linecap:round; stroke-linejoin:round; stroke-width:2; stroke-opacity:0.1; fill:none\" points=\"\n",
       "  2278.77,1486.45 2278.77,47.2441 \n",
       "  \"/>\n",
       "<polyline clip-path=\"url(#clip920)\" style=\"stroke:#000000; stroke-linecap:round; stroke-linejoin:round; stroke-width:4; stroke-opacity:1; fill:none\" points=\"\n",
       "  112.177,1486.45 2352.76,1486.45 \n",
       "  \"/>\n",
       "<polyline clip-path=\"url(#clip920)\" style=\"stroke:#000000; stroke-linecap:round; stroke-linejoin:round; stroke-width:4; stroke-opacity:1; fill:none\" points=\"\n",
       "  165.021,1486.45 165.021,1467.55 \n",
       "  \"/>\n",
       "<polyline clip-path=\"url(#clip920)\" style=\"stroke:#000000; stroke-linecap:round; stroke-linejoin:round; stroke-width:4; stroke-opacity:1; fill:none\" points=\"\n",
       "  693.459,1486.45 693.459,1467.55 \n",
       "  \"/>\n",
       "<polyline clip-path=\"url(#clip920)\" style=\"stroke:#000000; stroke-linecap:round; stroke-linejoin:round; stroke-width:4; stroke-opacity:1; fill:none\" points=\"\n",
       "  1221.9,1486.45 1221.9,1467.55 \n",
       "  \"/>\n",
       "<polyline clip-path=\"url(#clip920)\" style=\"stroke:#000000; stroke-linecap:round; stroke-linejoin:round; stroke-width:4; stroke-opacity:1; fill:none\" points=\"\n",
       "  1750.34,1486.45 1750.34,1467.55 \n",
       "  \"/>\n",
       "<polyline clip-path=\"url(#clip920)\" style=\"stroke:#000000; stroke-linecap:round; stroke-linejoin:round; stroke-width:4; stroke-opacity:1; fill:none\" points=\"\n",
       "  2278.77,1486.45 2278.77,1467.55 \n",
       "  \"/>\n",
       "<path clip-path=\"url(#clip920)\" d=\"M165.021 1517.37 Q161.41 1517.37 159.581 1520.93 Q157.776 1524.47 157.776 1531.6 Q157.776 1538.71 159.581 1542.27 Q161.41 1545.82 165.021 1545.82 Q168.655 1545.82 170.461 1542.27 Q172.289 1538.71 172.289 1531.6 Q172.289 1524.47 170.461 1520.93 Q168.655 1517.37 165.021 1517.37 M165.021 1513.66 Q170.831 1513.66 173.887 1518.27 Q176.965 1522.85 176.965 1531.6 Q176.965 1540.33 173.887 1544.94 Q170.831 1549.52 165.021 1549.52 Q159.211 1549.52 156.132 1544.94 Q153.077 1540.33 153.077 1531.6 Q153.077 1522.85 156.132 1518.27 Q159.211 1513.66 165.021 1513.66 Z\" fill=\"#000000\" fill-rule=\"evenodd\" fill-opacity=\"1\" /><path clip-path=\"url(#clip920)\" d=\"M668.159 1514.29 L686.515 1514.29 L686.515 1518.22 L672.441 1518.22 L672.441 1526.7 Q673.46 1526.35 674.478 1526.19 Q675.497 1526 676.515 1526 Q682.302 1526 685.682 1529.17 Q689.061 1532.34 689.061 1537.76 Q689.061 1543.34 685.589 1546.44 Q682.117 1549.52 675.797 1549.52 Q673.622 1549.52 671.353 1549.15 Q669.108 1548.78 666.7 1548.04 L666.7 1543.34 Q668.784 1544.47 671.006 1545.03 Q673.228 1545.58 675.705 1545.58 Q679.709 1545.58 682.047 1543.48 Q684.385 1541.37 684.385 1537.76 Q684.385 1534.15 682.047 1532.04 Q679.709 1529.94 675.705 1529.94 Q673.83 1529.94 671.955 1530.35 Q670.103 1530.77 668.159 1531.65 L668.159 1514.29 Z\" fill=\"#000000\" fill-rule=\"evenodd\" fill-opacity=\"1\" /><path clip-path=\"url(#clip920)\" d=\"M708.274 1517.37 Q704.663 1517.37 702.834 1520.93 Q701.029 1524.47 701.029 1531.6 Q701.029 1538.71 702.834 1542.27 Q704.663 1545.82 708.274 1545.82 Q711.908 1545.82 713.714 1542.27 Q715.543 1538.71 715.543 1531.6 Q715.543 1524.47 713.714 1520.93 Q711.908 1517.37 708.274 1517.37 M708.274 1513.66 Q714.084 1513.66 717.14 1518.27 Q720.219 1522.85 720.219 1531.6 Q720.219 1540.33 717.14 1544.94 Q714.084 1549.52 708.274 1549.52 Q702.464 1549.52 699.385 1544.94 Q696.33 1540.33 696.33 1531.6 Q696.33 1522.85 699.385 1518.27 Q702.464 1513.66 708.274 1513.66 Z\" fill=\"#000000\" fill-rule=\"evenodd\" fill-opacity=\"1\" /><path clip-path=\"url(#clip920)\" d=\"M1181.5 1544.91 L1189.14 1544.91 L1189.14 1518.55 L1180.83 1520.21 L1180.83 1515.95 L1189.1 1514.29 L1193.77 1514.29 L1193.77 1544.91 L1201.41 1544.91 L1201.41 1548.85 L1181.5 1548.85 L1181.5 1544.91 Z\" fill=\"#000000\" fill-rule=\"evenodd\" fill-opacity=\"1\" /><path clip-path=\"url(#clip920)\" d=\"M1220.86 1517.37 Q1217.25 1517.37 1215.42 1520.93 Q1213.61 1524.47 1213.61 1531.6 Q1213.61 1538.71 1215.42 1542.27 Q1217.25 1545.82 1220.86 1545.82 Q1224.49 1545.82 1226.3 1542.27 Q1228.12 1538.71 1228.12 1531.6 Q1228.12 1524.47 1226.3 1520.93 Q1224.49 1517.37 1220.86 1517.37 M1220.86 1513.66 Q1226.67 1513.66 1229.72 1518.27 Q1232.8 1522.85 1232.8 1531.6 Q1232.8 1540.33 1229.72 1544.94 Q1226.67 1549.52 1220.86 1549.52 Q1215.05 1549.52 1211.97 1544.94 Q1208.91 1540.33 1208.91 1531.6 Q1208.91 1522.85 1211.97 1518.27 Q1215.05 1513.66 1220.86 1513.66 Z\" fill=\"#000000\" fill-rule=\"evenodd\" fill-opacity=\"1\" /><path clip-path=\"url(#clip920)\" d=\"M1251.02 1517.37 Q1247.41 1517.37 1245.58 1520.93 Q1243.77 1524.47 1243.77 1531.6 Q1243.77 1538.71 1245.58 1542.27 Q1247.41 1545.82 1251.02 1545.82 Q1254.65 1545.82 1256.46 1542.27 Q1258.29 1538.71 1258.29 1531.6 Q1258.29 1524.47 1256.46 1520.93 Q1254.65 1517.37 1251.02 1517.37 M1251.02 1513.66 Q1256.83 1513.66 1259.88 1518.27 Q1262.96 1522.85 1262.96 1531.6 Q1262.96 1540.33 1259.88 1544.94 Q1256.83 1549.52 1251.02 1549.52 Q1245.21 1549.52 1242.13 1544.94 Q1239.07 1540.33 1239.07 1531.6 Q1239.07 1522.85 1242.13 1518.27 Q1245.21 1513.66 1251.02 1513.66 Z\" fill=\"#000000\" fill-rule=\"evenodd\" fill-opacity=\"1\" /><path clip-path=\"url(#clip920)\" d=\"M1709.94 1544.91 L1717.58 1544.91 L1717.58 1518.55 L1709.27 1520.21 L1709.27 1515.95 L1717.54 1514.29 L1722.21 1514.29 L1722.21 1544.91 L1729.85 1544.91 L1729.85 1548.85 L1709.94 1548.85 L1709.94 1544.91 Z\" fill=\"#000000\" fill-rule=\"evenodd\" fill-opacity=\"1\" /><path clip-path=\"url(#clip920)\" d=\"M1739.34 1514.29 L1757.7 1514.29 L1757.7 1518.22 L1743.62 1518.22 L1743.62 1526.7 Q1744.64 1526.35 1745.66 1526.19 Q1746.68 1526 1747.7 1526 Q1753.48 1526 1756.86 1529.17 Q1760.24 1532.34 1760.24 1537.76 Q1760.24 1543.34 1756.77 1546.44 Q1753.3 1549.52 1746.98 1549.52 Q1744.8 1549.52 1742.54 1549.15 Q1740.29 1548.78 1737.88 1548.04 L1737.88 1543.34 Q1739.97 1544.47 1742.19 1545.03 Q1744.41 1545.58 1746.89 1545.58 Q1750.89 1545.58 1753.23 1543.48 Q1755.57 1541.37 1755.57 1537.76 Q1755.57 1534.15 1753.23 1532.04 Q1750.89 1529.94 1746.89 1529.94 Q1745.01 1529.94 1743.14 1530.35 Q1741.29 1530.77 1739.34 1531.65 L1739.34 1514.29 Z\" fill=\"#000000\" fill-rule=\"evenodd\" fill-opacity=\"1\" /><path clip-path=\"url(#clip920)\" d=\"M1779.46 1517.37 Q1775.85 1517.37 1774.02 1520.93 Q1772.21 1524.47 1772.21 1531.6 Q1772.21 1538.71 1774.02 1542.27 Q1775.85 1545.82 1779.46 1545.82 Q1783.09 1545.82 1784.9 1542.27 Q1786.72 1538.71 1786.72 1531.6 Q1786.72 1524.47 1784.9 1520.93 Q1783.09 1517.37 1779.46 1517.37 M1779.46 1513.66 Q1785.27 1513.66 1788.32 1518.27 Q1791.4 1522.85 1791.4 1531.6 Q1791.4 1540.33 1788.32 1544.94 Q1785.27 1549.52 1779.46 1549.52 Q1773.65 1549.52 1770.57 1544.94 Q1767.51 1540.33 1767.51 1531.6 Q1767.51 1522.85 1770.57 1518.27 Q1773.65 1513.66 1779.46 1513.66 Z\" fill=\"#000000\" fill-rule=\"evenodd\" fill-opacity=\"1\" /><path clip-path=\"url(#clip920)\" d=\"M2242.47 1544.91 L2258.79 1544.91 L2258.79 1548.85 L2236.84 1548.85 L2236.84 1544.91 Q2239.5 1542.16 2244.09 1537.53 Q2248.69 1532.88 2249.87 1531.53 Q2252.12 1529.01 2253 1527.27 Q2253.9 1525.51 2253.9 1523.82 Q2253.9 1521.07 2251.96 1519.33 Q2250.04 1517.6 2246.93 1517.6 Q2244.74 1517.6 2242.28 1518.36 Q2239.85 1519.13 2237.07 1520.68 L2237.07 1515.95 Q2239.9 1514.82 2242.35 1514.24 Q2244.8 1513.66 2246.84 1513.66 Q2252.21 1513.66 2255.41 1516.35 Q2258.6 1519.03 2258.6 1523.52 Q2258.6 1525.65 2257.79 1527.57 Q2257 1529.47 2254.9 1532.07 Q2254.32 1532.74 2251.22 1535.95 Q2248.11 1539.15 2242.47 1544.91 Z\" fill=\"#000000\" fill-rule=\"evenodd\" fill-opacity=\"1\" /><path clip-path=\"url(#clip920)\" d=\"M2278.6 1517.37 Q2274.99 1517.37 2273.16 1520.93 Q2271.36 1524.47 2271.36 1531.6 Q2271.36 1538.71 2273.16 1542.27 Q2274.99 1545.82 2278.6 1545.82 Q2282.24 1545.82 2284.04 1542.27 Q2285.87 1538.71 2285.87 1531.6 Q2285.87 1524.47 2284.04 1520.93 Q2282.24 1517.37 2278.6 1517.37 M2278.6 1513.66 Q2284.41 1513.66 2287.47 1518.27 Q2290.55 1522.85 2290.55 1531.6 Q2290.55 1540.33 2287.47 1544.94 Q2284.41 1549.52 2278.6 1549.52 Q2272.79 1549.52 2269.71 1544.94 Q2266.66 1540.33 2266.66 1531.6 Q2266.66 1522.85 2269.71 1518.27 Q2272.79 1513.66 2278.6 1513.66 Z\" fill=\"#000000\" fill-rule=\"evenodd\" fill-opacity=\"1\" /><path clip-path=\"url(#clip920)\" d=\"M2308.76 1517.37 Q2305.15 1517.37 2303.32 1520.93 Q2301.52 1524.47 2301.52 1531.6 Q2301.52 1538.71 2303.32 1542.27 Q2305.15 1545.82 2308.76 1545.82 Q2312.4 1545.82 2314.2 1542.27 Q2316.03 1538.71 2316.03 1531.6 Q2316.03 1524.47 2314.2 1520.93 Q2312.4 1517.37 2308.76 1517.37 M2308.76 1513.66 Q2314.57 1513.66 2317.63 1518.27 Q2320.71 1522.85 2320.71 1531.6 Q2320.71 1540.33 2317.63 1544.94 Q2314.57 1549.52 2308.76 1549.52 Q2302.95 1549.52 2299.87 1544.94 Q2296.82 1540.33 2296.82 1531.6 Q2296.82 1522.85 2299.87 1518.27 Q2302.95 1513.66 2308.76 1513.66 Z\" fill=\"#000000\" fill-rule=\"evenodd\" fill-opacity=\"1\" /><polyline clip-path=\"url(#clip922)\" style=\"stroke:#000000; stroke-linecap:round; stroke-linejoin:round; stroke-width:2; stroke-opacity:0.1; fill:none\" points=\"\n",
       "  112.177,1445.72 2352.76,1445.72 \n",
       "  \"/>\n",
       "<polyline clip-path=\"url(#clip922)\" style=\"stroke:#000000; stroke-linecap:round; stroke-linejoin:round; stroke-width:2; stroke-opacity:0.1; fill:none\" points=\"\n",
       "  112.177,1222.56 2352.76,1222.56 \n",
       "  \"/>\n",
       "<polyline clip-path=\"url(#clip922)\" style=\"stroke:#000000; stroke-linecap:round; stroke-linejoin:round; stroke-width:2; stroke-opacity:0.1; fill:none\" points=\"\n",
       "  112.177,999.396 2352.76,999.396 \n",
       "  \"/>\n",
       "<polyline clip-path=\"url(#clip922)\" style=\"stroke:#000000; stroke-linecap:round; stroke-linejoin:round; stroke-width:2; stroke-opacity:0.1; fill:none\" points=\"\n",
       "  112.177,776.236 2352.76,776.236 \n",
       "  \"/>\n",
       "<polyline clip-path=\"url(#clip922)\" style=\"stroke:#000000; stroke-linecap:round; stroke-linejoin:round; stroke-width:2; stroke-opacity:0.1; fill:none\" points=\"\n",
       "  112.177,553.076 2352.76,553.076 \n",
       "  \"/>\n",
       "<polyline clip-path=\"url(#clip922)\" style=\"stroke:#000000; stroke-linecap:round; stroke-linejoin:round; stroke-width:2; stroke-opacity:0.1; fill:none\" points=\"\n",
       "  112.177,329.916 2352.76,329.916 \n",
       "  \"/>\n",
       "<polyline clip-path=\"url(#clip922)\" style=\"stroke:#000000; stroke-linecap:round; stroke-linejoin:round; stroke-width:2; stroke-opacity:0.1; fill:none\" points=\"\n",
       "  112.177,106.756 2352.76,106.756 \n",
       "  \"/>\n",
       "<polyline clip-path=\"url(#clip920)\" style=\"stroke:#000000; stroke-linecap:round; stroke-linejoin:round; stroke-width:4; stroke-opacity:1; fill:none\" points=\"\n",
       "  112.177,1486.45 112.177,47.2441 \n",
       "  \"/>\n",
       "<polyline clip-path=\"url(#clip920)\" style=\"stroke:#000000; stroke-linecap:round; stroke-linejoin:round; stroke-width:4; stroke-opacity:1; fill:none\" points=\"\n",
       "  112.177,1445.72 131.075,1445.72 \n",
       "  \"/>\n",
       "<polyline clip-path=\"url(#clip920)\" style=\"stroke:#000000; stroke-linecap:round; stroke-linejoin:round; stroke-width:4; stroke-opacity:1; fill:none\" points=\"\n",
       "  112.177,1222.56 131.075,1222.56 \n",
       "  \"/>\n",
       "<polyline clip-path=\"url(#clip920)\" style=\"stroke:#000000; stroke-linecap:round; stroke-linejoin:round; stroke-width:4; stroke-opacity:1; fill:none\" points=\"\n",
       "  112.177,999.396 131.075,999.396 \n",
       "  \"/>\n",
       "<polyline clip-path=\"url(#clip920)\" style=\"stroke:#000000; stroke-linecap:round; stroke-linejoin:round; stroke-width:4; stroke-opacity:1; fill:none\" points=\"\n",
       "  112.177,776.236 131.075,776.236 \n",
       "  \"/>\n",
       "<polyline clip-path=\"url(#clip920)\" style=\"stroke:#000000; stroke-linecap:round; stroke-linejoin:round; stroke-width:4; stroke-opacity:1; fill:none\" points=\"\n",
       "  112.177,553.076 131.075,553.076 \n",
       "  \"/>\n",
       "<polyline clip-path=\"url(#clip920)\" style=\"stroke:#000000; stroke-linecap:round; stroke-linejoin:round; stroke-width:4; stroke-opacity:1; fill:none\" points=\"\n",
       "  112.177,329.916 131.075,329.916 \n",
       "  \"/>\n",
       "<polyline clip-path=\"url(#clip920)\" style=\"stroke:#000000; stroke-linecap:round; stroke-linejoin:round; stroke-width:4; stroke-opacity:1; fill:none\" points=\"\n",
       "  112.177,106.756 131.075,106.756 \n",
       "  \"/>\n",
       "<path clip-path=\"url(#clip920)\" d=\"M64.2328 1431.51 Q60.6217 1431.51 58.793 1435.08 Q56.9875 1438.62 56.9875 1445.75 Q56.9875 1452.86 58.793 1456.42 Q60.6217 1459.96 64.2328 1459.96 Q67.867 1459.96 69.6726 1456.42 Q71.5013 1452.86 71.5013 1445.75 Q71.5013 1438.62 69.6726 1435.08 Q67.867 1431.51 64.2328 1431.51 M64.2328 1427.81 Q70.0429 1427.81 73.0985 1432.42 Q76.1772 1437 76.1772 1445.75 Q76.1772 1454.48 73.0985 1459.08 Q70.0429 1463.67 64.2328 1463.67 Q58.4226 1463.67 55.344 1459.08 Q52.2884 1454.48 52.2884 1445.75 Q52.2884 1437 55.344 1432.42 Q58.4226 1427.81 64.2328 1427.81 Z\" fill=\"#000000\" fill-rule=\"evenodd\" fill-opacity=\"1\" /><path clip-path=\"url(#clip920)\" d=\"M56.2699 1235.9 L63.9087 1235.9 L63.9087 1209.54 L55.5986 1211.2 L55.5986 1206.94 L63.8624 1205.28 L68.5383 1205.28 L68.5383 1235.9 L76.1772 1235.9 L76.1772 1239.84 L56.2699 1239.84 L56.2699 1235.9 Z\" fill=\"#000000\" fill-rule=\"evenodd\" fill-opacity=\"1\" /><path clip-path=\"url(#clip920)\" d=\"M59.8578 1012.74 L76.1772 1012.74 L76.1772 1016.68 L54.2328 1016.68 L54.2328 1012.74 Q56.8949 1009.99 61.4782 1005.36 Q66.0846 1000.7 67.2652 999.361 Q69.5105 996.838 70.3902 995.102 Q71.2929 993.343 71.2929 991.653 Q71.2929 988.898 69.3485 987.162 Q67.4272 985.426 64.3254 985.426 Q62.1263 985.426 59.6726 986.19 Q57.2421 986.954 54.4643 988.505 L54.4643 983.783 Q57.2884 982.648 59.7421 982.07 Q62.1958 981.491 64.2328 981.491 Q69.6031 981.491 72.7976 984.176 Q75.992 986.861 75.992 991.352 Q75.992 993.482 75.1818 995.403 Q74.3948 997.301 72.2883 999.894 Q71.7096 1000.56 68.6078 1003.78 Q65.5059 1006.98 59.8578 1012.74 Z\" fill=\"#000000\" fill-rule=\"evenodd\" fill-opacity=\"1\" /><path clip-path=\"url(#clip920)\" d=\"M69.0476 774.882 Q72.404 775.599 74.279 777.868 Q76.1772 780.136 76.1772 783.47 Q76.1772 788.585 72.6587 791.386 Q69.1402 794.187 62.6587 794.187 Q60.4828 794.187 58.168 793.747 Q55.8764 793.331 53.4227 792.474 L53.4227 787.96 Q55.3671 789.095 57.6819 789.673 Q59.9967 790.252 62.5198 790.252 Q66.918 790.252 69.2096 788.516 Q71.5244 786.78 71.5244 783.47 Q71.5244 780.414 69.3717 778.701 Q67.242 776.965 63.4226 776.965 L59.3949 776.965 L59.3949 773.123 L63.6078 773.123 Q67.0569 773.123 68.8855 771.757 Q70.7142 770.368 70.7142 767.775 Q70.7142 765.113 68.8161 763.701 Q66.9411 762.266 63.4226 762.266 Q61.5013 762.266 59.3023 762.683 Q57.1032 763.099 54.4643 763.979 L54.4643 759.812 Q57.1264 759.072 59.4412 758.701 Q61.7791 758.331 63.8393 758.331 Q69.1633 758.331 72.2652 760.761 Q75.367 763.169 75.367 767.289 Q75.367 770.16 73.7235 772.15 Q72.08 774.118 69.0476 774.882 Z\" fill=\"#000000\" fill-rule=\"evenodd\" fill-opacity=\"1\" /><path clip-path=\"url(#clip920)\" d=\"M66.5939 539.87 L54.7884 558.319 L66.5939 558.319 L66.5939 539.87 M65.367 535.796 L71.2466 535.796 L71.2466 558.319 L76.1772 558.319 L76.1772 562.208 L71.2466 562.208 L71.2466 570.356 L66.5939 570.356 L66.5939 562.208 L50.9921 562.208 L50.9921 557.694 L65.367 535.796 Z\" fill=\"#000000\" fill-rule=\"evenodd\" fill-opacity=\"1\" /><path clip-path=\"url(#clip920)\" d=\"M55.2745 312.636 L73.6309 312.636 L73.6309 316.571 L59.5569 316.571 L59.5569 325.043 Q60.5754 324.696 61.5939 324.534 Q62.6124 324.349 63.6309 324.349 Q69.418 324.349 72.7976 327.52 Q76.1772 330.692 76.1772 336.108 Q76.1772 341.687 72.705 344.789 Q69.2328 347.867 62.9134 347.867 Q60.7374 347.867 58.4689 347.497 Q56.2236 347.127 53.8162 346.386 L53.8162 341.687 Q55.8995 342.821 58.1217 343.377 Q60.3439 343.932 62.8208 343.932 Q66.8254 343.932 69.1633 341.826 Q71.5013 339.719 71.5013 336.108 Q71.5013 332.497 69.1633 330.391 Q66.8254 328.284 62.8208 328.284 Q60.9458 328.284 59.0708 328.701 Q57.2189 329.117 55.2745 329.997 L55.2745 312.636 Z\" fill=\"#000000\" fill-rule=\"evenodd\" fill-opacity=\"1\" /><path clip-path=\"url(#clip920)\" d=\"M64.6495 104.893 Q61.5013 104.893 59.6495 107.046 Q57.8208 109.198 57.8208 112.948 Q57.8208 116.675 59.6495 118.851 Q61.5013 121.004 64.6495 121.004 Q67.7976 121.004 69.6263 118.851 Q71.4781 116.675 71.4781 112.948 Q71.4781 109.198 69.6263 107.046 Q67.7976 104.893 64.6495 104.893 M73.9318 90.2401 L73.9318 94.4993 Q72.1726 93.666 70.367 93.2261 Q68.5846 92.7863 66.8254 92.7863 Q62.1958 92.7863 59.7421 95.9113 Q57.3115 99.0363 56.9643 105.356 Q58.33 103.342 60.3902 102.277 Q62.4504 101.189 64.9272 101.189 Q70.1355 101.189 73.1448 104.36 Q76.1772 107.508 76.1772 112.948 Q76.1772 118.272 73.029 121.49 Q69.8809 124.707 64.6495 124.707 Q58.6541 124.707 55.4828 120.124 Q52.3116 115.518 52.3116 106.791 Q52.3116 98.5965 56.2004 93.7354 Q60.0893 88.8512 66.6402 88.8512 Q68.3994 88.8512 70.1818 89.1984 Q71.9874 89.5456 73.9318 90.2401 Z\" fill=\"#000000\" fill-rule=\"evenodd\" fill-opacity=\"1\" /><polyline clip-path=\"url(#clip922)\" style=\"stroke:#009af9; stroke-linecap:round; stroke-linejoin:round; stroke-width:4; stroke-opacity:1; fill:none\" points=\"\n",
       "  175.59,1445.72 186.159,1238.73 196.727,1123.01 207.296,1133.26 217.865,1022.49 228.434,936.983 239.002,777.353 249.571,708.138 260.14,561.541 270.709,632.941 \n",
       "  281.277,623.736 291.846,641.528 302.415,691.433 312.984,612.561 323.553,665.142 334.121,735.941 344.69,724.377 355.259,613.977 365.828,660.496 376.396,564.905 \n",
       "  386.965,453.176 397.534,400.026 408.103,497.382 418.671,520.167 429.24,599.566 439.809,553.263 450.378,640.856 460.947,645.667 471.515,544.382 482.084,524.297 \n",
       "  492.653,449.95 503.222,426.081 513.79,386.851 524.359,380.769 534.928,446.774 545.497,469.574 556.065,496.862 566.634,410.527 577.203,443.766 587.772,477.772 \n",
       "  598.34,464.459 608.909,544.879 619.478,439.572 630.047,448.299 640.616,502.214 651.184,537.339 661.753,587.102 672.322,544.032 682.891,540.652 693.459,580.099 \n",
       "  704.028,557.373 714.597,582.626 725.166,660.745 735.734,601.824 746.303,661.748 756.872,630.698 767.441,639.149 778.01,547.131 788.578,428.922 799.147,364.979 \n",
       "  809.716,466.001 820.285,468.483 830.853,470.364 841.422,426.308 851.991,327.324 862.56,243.391 873.128,194.736 883.697,151.934 894.266,133.362 904.835,141.786 \n",
       "  915.404,202.614 925.972,298.863 936.541,281.953 947.11,335.784 957.679,296.091 968.247,289.289 978.816,295.46 989.385,354.828 999.954,408.396 1010.52,344.666 \n",
       "  1021.09,449.516 1031.66,471.24 1042.23,562.152 1052.8,470.049 1063.37,365.965 1073.94,411.618 1084.5,423.694 1095.07,470.228 1105.64,378.599 1116.21,466.827 \n",
       "  1126.78,548.428 1137.35,553.598 1147.92,526.573 1158.49,531.173 1169.05,517.933 1179.62,445.588 1190.19,496.148 1200.76,433.287 1211.33,508.651 1221.9,537.588 \n",
       "  1232.47,566.546 1243.04,470.775 1253.6,561.412 1264.17,644.652 1274.74,515.288 1285.31,452.825 1295.88,430.037 1306.45,431.399 1317.02,342.603 1327.59,394.641 \n",
       "  1338.15,476.557 1348.72,401.314 1359.29,400.342 1369.86,335.177 1380.43,301.965 1391,256.618 1401.57,272.829 1412.14,337.48 1422.7,425.853 1433.27,478.59 \n",
       "  1443.84,399.067 1454.41,387.934 1464.98,306.444 1475.55,301.771 1486.12,195.897 1496.69,258.181 1507.25,339.017 1517.82,288.04 1528.39,403.443 1538.96,340.921 \n",
       "  1549.53,345.31 1560.1,252.744 1570.67,187.073 1581.24,296.357 1591.8,350.15 1602.37,291.588 1612.94,334.347 1623.51,236.346 1634.08,180.877 1644.65,136.661 \n",
       "  1655.22,87.9763 1665.79,203.34 1676.35,165.28 1686.92,191.736 1697.49,131.504 1708.06,240.376 1718.63,261.616 1729.2,248.598 1739.77,340.874 1750.34,243.151 \n",
       "  1760.9,292.931 1771.47,284.284 1782.04,258.421 1792.61,225.397 1803.18,288.634 1813.75,217.814 1824.32,147.385 1834.89,214.958 1845.46,176.938 1856.02,240.902 \n",
       "  1866.59,253.671 1877.16,357.767 1887.73,452.198 1898.3,381.241 1908.87,278.733 1919.44,370.462 1930.01,373.556 1940.57,316.536 1951.14,391.376 1961.71,360.827 \n",
       "  1972.28,449.921 1982.85,538.642 1993.42,542.489 2003.99,445.184 2014.56,339.078 2025.12,416.14 2035.69,505.065 2046.26,585.978 2056.83,581.14 2067.4,511.197 \n",
       "  2077.97,512.016 2088.54,548.72 2099.11,474.319 2109.67,398.076 2120.24,291.012 2130.81,234.255 2141.38,225.056 2151.95,178.154 2162.52,114.052 2173.09,194.915 \n",
       "  2183.66,288.156 2194.22,257.878 2204.79,284.774 2215.36,361.961 2225.93,296.836 2236.5,410.377 2247.07,375.356 2257.64,338.279 2268.21,303.341 2278.77,282.529 \n",
       "  2289.34,283.572 \n",
       "  \"/>\n",
       "<path clip-path=\"url(#clip920)\" d=\"\n",
       "M2001.58 1438.47 L2278.07 1438.47 L2278.07 1334.79 L2001.58 1334.79  Z\n",
       "  \" fill=\"#ffffff\" fill-rule=\"evenodd\" fill-opacity=\"1\"/>\n",
       "<polyline clip-path=\"url(#clip920)\" style=\"stroke:#000000; stroke-linecap:round; stroke-linejoin:round; stroke-width:4; stroke-opacity:1; fill:none\" points=\"\n",
       "  2001.58,1438.47 2278.07,1438.47 2278.07,1334.79 2001.58,1334.79 2001.58,1438.47 \n",
       "  \"/>\n",
       "<polyline clip-path=\"url(#clip920)\" style=\"stroke:#009af9; stroke-linecap:round; stroke-linejoin:round; stroke-width:4; stroke-opacity:1; fill:none\" points=\"\n",
       "  2026.48,1386.63 2175.85,1386.63 \n",
       "  \"/>\n",
       "<path clip-path=\"url(#clip920)\" d=\"M2214.59 1406.32 Q2212.78 1410.95 2211.07 1412.36 Q2209.36 1413.78 2206.49 1413.78 L2203.08 1413.78 L2203.08 1410.21 L2205.58 1410.21 Q2207.34 1410.21 2208.31 1409.38 Q2209.29 1408.54 2210.47 1405.44 L2211.23 1403.5 L2200.74 1377.99 L2205.26 1377.99 L2213.36 1398.27 L2221.46 1377.99 L2225.98 1377.99 L2214.59 1406.32 Z\" fill=\"#000000\" fill-rule=\"evenodd\" fill-opacity=\"1\" /><path clip-path=\"url(#clip920)\" d=\"M2233.27 1399.98 L2240.91 1399.98 L2240.91 1373.61 L2232.6 1375.28 L2232.6 1371.02 L2240.86 1369.35 L2245.54 1369.35 L2245.54 1399.98 L2253.17 1399.98 L2253.17 1403.91 L2233.27 1403.91 L2233.27 1399.98 Z\" fill=\"#000000\" fill-rule=\"evenodd\" fill-opacity=\"1\" /></svg>\n"
      ]
     },
     "execution_count": 81,
     "metadata": {},
     "output_type": "execute_result"
    }
   ],
   "source": [
    "function timeseries(;n=200, alpha=0.9, x_0=0.0)\n",
    "    xs = [x_0]\n",
    "    for _ in 1:n\n",
    "        append!(xs, alpha * xs[end] + rand())\n",
    "    end\n",
    "    return xs\n",
    "end\n",
    "\n",
    "plot(timeseries())\n"
   ]
  },
  {
   "attachments": {},
   "cell_type": "markdown",
   "id": "1ae8f6ec",
   "metadata": {},
   "source": [
    "### Exercise 6\n",
    "\n",
    "Plot three simulated time series, one for each of the cases $ \\alpha = 0 $, $ \\alpha = 0.8 $ and $ \\alpha = 0.98 $.\n",
    "\n",
    "(The figure will illustrate how time series with the same one-step-ahead conditional volatilities, as these three processes have, can have very different unconditional volatilities)\n",
    "\n",
    "\n",
    "<a id='jbe-ex7'></a>"
   ]
  },
  {
   "cell_type": "code",
   "execution_count": 82,
   "id": "9a7de7cc",
   "metadata": {},
   "outputs": [
    {
     "data": {
      "image/svg+xml": [
       "<?xml version=\"1.0\" encoding=\"utf-8\"?>\n",
       "<svg xmlns=\"http://www.w3.org/2000/svg\" xmlns:xlink=\"http://www.w3.org/1999/xlink\" width=\"600\" height=\"400\" viewBox=\"0 0 2400 1600\">\n",
       "<defs>\n",
       "  <clipPath id=\"clip960\">\n",
       "    <rect x=\"0\" y=\"0\" width=\"2400\" height=\"1600\"/>\n",
       "  </clipPath>\n",
       "</defs>\n",
       "<path clip-path=\"url(#clip960)\" d=\"\n",
       "M0 1600 L2400 1600 L2400 0 L0 0  Z\n",
       "  \" fill=\"#ffffff\" fill-rule=\"evenodd\" fill-opacity=\"1\"/>\n",
       "<defs>\n",
       "  <clipPath id=\"clip961\">\n",
       "    <rect x=\"480\" y=\"0\" width=\"1681\" height=\"1600\"/>\n",
       "  </clipPath>\n",
       "</defs>\n",
       "<path clip-path=\"url(#clip960)\" d=\"\n",
       "M140.696 1486.45 L2352.76 1486.45 L2352.76 47.2441 L140.696 47.2441  Z\n",
       "  \" fill=\"#ffffff\" fill-rule=\"evenodd\" fill-opacity=\"1\"/>\n",
       "<defs>\n",
       "  <clipPath id=\"clip962\">\n",
       "    <rect x=\"140\" y=\"47\" width=\"2213\" height=\"1440\"/>\n",
       "  </clipPath>\n",
       "</defs>\n",
       "<polyline clip-path=\"url(#clip962)\" style=\"stroke:#000000; stroke-linecap:round; stroke-linejoin:round; stroke-width:2; stroke-opacity:0.1; fill:none\" points=\"\n",
       "  192.867,1486.45 192.867,47.2441 \n",
       "  \"/>\n",
       "<polyline clip-path=\"url(#clip962)\" style=\"stroke:#000000; stroke-linecap:round; stroke-linejoin:round; stroke-width:2; stroke-opacity:0.1; fill:none\" points=\"\n",
       "  714.579,1486.45 714.579,47.2441 \n",
       "  \"/>\n",
       "<polyline clip-path=\"url(#clip962)\" style=\"stroke:#000000; stroke-linecap:round; stroke-linejoin:round; stroke-width:2; stroke-opacity:0.1; fill:none\" points=\"\n",
       "  1236.29,1486.45 1236.29,47.2441 \n",
       "  \"/>\n",
       "<polyline clip-path=\"url(#clip962)\" style=\"stroke:#000000; stroke-linecap:round; stroke-linejoin:round; stroke-width:2; stroke-opacity:0.1; fill:none\" points=\"\n",
       "  1758,1486.45 1758,47.2441 \n",
       "  \"/>\n",
       "<polyline clip-path=\"url(#clip962)\" style=\"stroke:#000000; stroke-linecap:round; stroke-linejoin:round; stroke-width:2; stroke-opacity:0.1; fill:none\" points=\"\n",
       "  2279.72,1486.45 2279.72,47.2441 \n",
       "  \"/>\n",
       "<polyline clip-path=\"url(#clip960)\" style=\"stroke:#000000; stroke-linecap:round; stroke-linejoin:round; stroke-width:4; stroke-opacity:1; fill:none\" points=\"\n",
       "  140.696,1486.45 2352.76,1486.45 \n",
       "  \"/>\n",
       "<polyline clip-path=\"url(#clip960)\" style=\"stroke:#000000; stroke-linecap:round; stroke-linejoin:round; stroke-width:4; stroke-opacity:1; fill:none\" points=\"\n",
       "  192.867,1486.45 192.867,1467.55 \n",
       "  \"/>\n",
       "<polyline clip-path=\"url(#clip960)\" style=\"stroke:#000000; stroke-linecap:round; stroke-linejoin:round; stroke-width:4; stroke-opacity:1; fill:none\" points=\"\n",
       "  714.579,1486.45 714.579,1467.55 \n",
       "  \"/>\n",
       "<polyline clip-path=\"url(#clip960)\" style=\"stroke:#000000; stroke-linecap:round; stroke-linejoin:round; stroke-width:4; stroke-opacity:1; fill:none\" points=\"\n",
       "  1236.29,1486.45 1236.29,1467.55 \n",
       "  \"/>\n",
       "<polyline clip-path=\"url(#clip960)\" style=\"stroke:#000000; stroke-linecap:round; stroke-linejoin:round; stroke-width:4; stroke-opacity:1; fill:none\" points=\"\n",
       "  1758,1486.45 1758,1467.55 \n",
       "  \"/>\n",
       "<polyline clip-path=\"url(#clip960)\" style=\"stroke:#000000; stroke-linecap:round; stroke-linejoin:round; stroke-width:4; stroke-opacity:1; fill:none\" points=\"\n",
       "  2279.72,1486.45 2279.72,1467.55 \n",
       "  \"/>\n",
       "<path clip-path=\"url(#clip960)\" d=\"M192.867 1517.37 Q189.256 1517.37 187.427 1520.93 Q185.621 1524.47 185.621 1531.6 Q185.621 1538.71 187.427 1542.27 Q189.256 1545.82 192.867 1545.82 Q196.501 1545.82 198.307 1542.27 Q200.135 1538.71 200.135 1531.6 Q200.135 1524.47 198.307 1520.93 Q196.501 1517.37 192.867 1517.37 M192.867 1513.66 Q198.677 1513.66 201.732 1518.27 Q204.811 1522.85 204.811 1531.6 Q204.811 1540.33 201.732 1544.94 Q198.677 1549.52 192.867 1549.52 Q187.057 1549.52 183.978 1544.94 Q180.922 1540.33 180.922 1531.6 Q180.922 1522.85 183.978 1518.27 Q187.057 1513.66 192.867 1513.66 Z\" fill=\"#000000\" fill-rule=\"evenodd\" fill-opacity=\"1\" /><path clip-path=\"url(#clip960)\" d=\"M689.278 1514.29 L707.635 1514.29 L707.635 1518.22 L693.561 1518.22 L693.561 1526.7 Q694.579 1526.35 695.598 1526.19 Q696.616 1526 697.635 1526 Q703.422 1526 706.801 1529.17 Q710.181 1532.34 710.181 1537.76 Q710.181 1543.34 706.709 1546.44 Q703.237 1549.52 696.917 1549.52 Q694.741 1549.52 692.473 1549.15 Q690.227 1548.78 687.82 1548.04 L687.82 1543.34 Q689.903 1544.47 692.126 1545.03 Q694.348 1545.58 696.825 1545.58 Q700.829 1545.58 703.167 1543.48 Q705.505 1541.37 705.505 1537.76 Q705.505 1534.15 703.167 1532.04 Q700.829 1529.94 696.825 1529.94 Q694.95 1529.94 693.075 1530.35 Q691.223 1530.77 689.278 1531.65 L689.278 1514.29 Z\" fill=\"#000000\" fill-rule=\"evenodd\" fill-opacity=\"1\" /><path clip-path=\"url(#clip960)\" d=\"M729.394 1517.37 Q725.783 1517.37 723.954 1520.93 Q722.149 1524.47 722.149 1531.6 Q722.149 1538.71 723.954 1542.27 Q725.783 1545.82 729.394 1545.82 Q733.028 1545.82 734.834 1542.27 Q736.662 1538.71 736.662 1531.6 Q736.662 1524.47 734.834 1520.93 Q733.028 1517.37 729.394 1517.37 M729.394 1513.66 Q735.204 1513.66 738.26 1518.27 Q741.338 1522.85 741.338 1531.6 Q741.338 1540.33 738.26 1544.94 Q735.204 1549.52 729.394 1549.52 Q723.584 1549.52 720.505 1544.94 Q717.449 1540.33 717.449 1531.6 Q717.449 1522.85 720.505 1518.27 Q723.584 1513.66 729.394 1513.66 Z\" fill=\"#000000\" fill-rule=\"evenodd\" fill-opacity=\"1\" /><path clip-path=\"url(#clip960)\" d=\"M1195.9 1544.91 L1203.54 1544.91 L1203.54 1518.55 L1195.23 1520.21 L1195.23 1515.95 L1203.49 1514.29 L1208.17 1514.29 L1208.17 1544.91 L1215.81 1544.91 L1215.81 1548.85 L1195.9 1548.85 L1195.9 1544.91 Z\" fill=\"#000000\" fill-rule=\"evenodd\" fill-opacity=\"1\" /><path clip-path=\"url(#clip960)\" d=\"M1235.25 1517.37 Q1231.64 1517.37 1229.81 1520.93 Q1228 1524.47 1228 1531.6 Q1228 1538.71 1229.81 1542.27 Q1231.64 1545.82 1235.25 1545.82 Q1238.88 1545.82 1240.69 1542.27 Q1242.52 1538.71 1242.52 1531.6 Q1242.52 1524.47 1240.69 1520.93 Q1238.88 1517.37 1235.25 1517.37 M1235.25 1513.66 Q1241.06 1513.66 1244.12 1518.27 Q1247.19 1522.85 1247.19 1531.6 Q1247.19 1540.33 1244.12 1544.94 Q1241.06 1549.52 1235.25 1549.52 Q1229.44 1549.52 1226.36 1544.94 Q1223.31 1540.33 1223.31 1531.6 Q1223.31 1522.85 1226.36 1518.27 Q1229.44 1513.66 1235.25 1513.66 Z\" fill=\"#000000\" fill-rule=\"evenodd\" fill-opacity=\"1\" /><path clip-path=\"url(#clip960)\" d=\"M1265.41 1517.37 Q1261.8 1517.37 1259.97 1520.93 Q1258.17 1524.47 1258.17 1531.6 Q1258.17 1538.71 1259.97 1542.27 Q1261.8 1545.82 1265.41 1545.82 Q1269.05 1545.82 1270.85 1542.27 Q1272.68 1538.71 1272.68 1531.6 Q1272.68 1524.47 1270.85 1520.93 Q1269.05 1517.37 1265.41 1517.37 M1265.41 1513.66 Q1271.22 1513.66 1274.28 1518.27 Q1277.36 1522.85 1277.36 1531.6 Q1277.36 1540.33 1274.28 1544.94 Q1271.22 1549.52 1265.41 1549.52 Q1259.6 1549.52 1256.52 1544.94 Q1253.47 1540.33 1253.47 1531.6 Q1253.47 1522.85 1256.52 1518.27 Q1259.6 1513.66 1265.41 1513.66 Z\" fill=\"#000000\" fill-rule=\"evenodd\" fill-opacity=\"1\" /><path clip-path=\"url(#clip960)\" d=\"M1717.61 1544.91 L1725.25 1544.91 L1725.25 1518.55 L1716.94 1520.21 L1716.94 1515.95 L1725.2 1514.29 L1729.88 1514.29 L1729.88 1544.91 L1737.52 1544.91 L1737.52 1548.85 L1717.61 1548.85 L1717.61 1544.91 Z\" fill=\"#000000\" fill-rule=\"evenodd\" fill-opacity=\"1\" /><path clip-path=\"url(#clip960)\" d=\"M1747.01 1514.29 L1765.36 1514.29 L1765.36 1518.22 L1751.29 1518.22 L1751.29 1526.7 Q1752.31 1526.35 1753.33 1526.19 Q1754.35 1526 1755.36 1526 Q1761.15 1526 1764.53 1529.17 Q1767.91 1532.34 1767.91 1537.76 Q1767.91 1543.34 1764.44 1546.44 Q1760.97 1549.52 1754.65 1549.52 Q1752.47 1549.52 1750.2 1549.15 Q1747.96 1548.78 1745.55 1548.04 L1745.55 1543.34 Q1747.63 1544.47 1749.86 1545.03 Q1752.08 1545.58 1754.55 1545.58 Q1758.56 1545.58 1760.9 1543.48 Q1763.24 1541.37 1763.24 1537.76 Q1763.24 1534.15 1760.9 1532.04 Q1758.56 1529.94 1754.55 1529.94 Q1752.68 1529.94 1750.8 1530.35 Q1748.95 1530.77 1747.01 1531.65 L1747.01 1514.29 Z\" fill=\"#000000\" fill-rule=\"evenodd\" fill-opacity=\"1\" /><path clip-path=\"url(#clip960)\" d=\"M1787.12 1517.37 Q1783.51 1517.37 1781.68 1520.93 Q1779.88 1524.47 1779.88 1531.6 Q1779.88 1538.71 1781.68 1542.27 Q1783.51 1545.82 1787.12 1545.82 Q1790.76 1545.82 1792.56 1542.27 Q1794.39 1538.71 1794.39 1531.6 Q1794.39 1524.47 1792.56 1520.93 Q1790.76 1517.37 1787.12 1517.37 M1787.12 1513.66 Q1792.93 1513.66 1795.99 1518.27 Q1799.07 1522.85 1799.07 1531.6 Q1799.07 1540.33 1795.99 1544.94 Q1792.93 1549.52 1787.12 1549.52 Q1781.31 1549.52 1778.24 1544.94 Q1775.18 1540.33 1775.18 1531.6 Q1775.18 1522.85 1778.24 1518.27 Q1781.31 1513.66 1787.12 1513.66 Z\" fill=\"#000000\" fill-rule=\"evenodd\" fill-opacity=\"1\" /><path clip-path=\"url(#clip960)\" d=\"M2243.41 1544.91 L2259.73 1544.91 L2259.73 1548.85 L2237.78 1548.85 L2237.78 1544.91 Q2240.45 1542.16 2245.03 1537.53 Q2249.64 1532.88 2250.82 1531.53 Q2253.06 1529.01 2253.94 1527.27 Q2254.84 1525.51 2254.84 1523.82 Q2254.84 1521.07 2252.9 1519.33 Q2250.98 1517.6 2247.88 1517.6 Q2245.68 1517.6 2243.22 1518.36 Q2240.79 1519.13 2238.02 1520.68 L2238.02 1515.95 Q2240.84 1514.82 2243.29 1514.24 Q2245.75 1513.66 2247.78 1513.66 Q2253.15 1513.66 2256.35 1516.35 Q2259.54 1519.03 2259.54 1523.52 Q2259.54 1525.65 2258.73 1527.57 Q2257.95 1529.47 2255.84 1532.07 Q2255.26 1532.74 2252.16 1535.95 Q2249.06 1539.15 2243.41 1544.91 Z\" fill=\"#000000\" fill-rule=\"evenodd\" fill-opacity=\"1\" /><path clip-path=\"url(#clip960)\" d=\"M2279.54 1517.37 Q2275.93 1517.37 2274.1 1520.93 Q2272.3 1524.47 2272.3 1531.6 Q2272.3 1538.71 2274.1 1542.27 Q2275.93 1545.82 2279.54 1545.82 Q2283.18 1545.82 2284.98 1542.27 Q2286.81 1538.71 2286.81 1531.6 Q2286.81 1524.47 2284.98 1520.93 Q2283.18 1517.37 2279.54 1517.37 M2279.54 1513.66 Q2285.35 1513.66 2288.41 1518.27 Q2291.49 1522.85 2291.49 1531.6 Q2291.49 1540.33 2288.41 1544.94 Q2285.35 1549.52 2279.54 1549.52 Q2273.73 1549.52 2270.65 1544.94 Q2267.6 1540.33 2267.6 1531.6 Q2267.6 1522.85 2270.65 1518.27 Q2273.73 1513.66 2279.54 1513.66 Z\" fill=\"#000000\" fill-rule=\"evenodd\" fill-opacity=\"1\" /><path clip-path=\"url(#clip960)\" d=\"M2309.7 1517.37 Q2306.09 1517.37 2304.26 1520.93 Q2302.46 1524.47 2302.46 1531.6 Q2302.46 1538.71 2304.26 1542.27 Q2306.09 1545.82 2309.7 1545.82 Q2313.34 1545.82 2315.14 1542.27 Q2316.97 1538.71 2316.97 1531.6 Q2316.97 1524.47 2315.14 1520.93 Q2313.34 1517.37 2309.7 1517.37 M2309.7 1513.66 Q2315.51 1513.66 2318.57 1518.27 Q2321.65 1522.85 2321.65 1531.6 Q2321.65 1540.33 2318.57 1544.94 Q2315.51 1549.52 2309.7 1549.52 Q2303.89 1549.52 2300.82 1544.94 Q2297.76 1540.33 2297.76 1531.6 Q2297.76 1522.85 2300.82 1518.27 Q2303.89 1513.66 2309.7 1513.66 Z\" fill=\"#000000\" fill-rule=\"evenodd\" fill-opacity=\"1\" /><polyline clip-path=\"url(#clip962)\" style=\"stroke:#000000; stroke-linecap:round; stroke-linejoin:round; stroke-width:2; stroke-opacity:0.1; fill:none\" points=\"\n",
       "  140.696,1445.72 2352.76,1445.72 \n",
       "  \"/>\n",
       "<polyline clip-path=\"url(#clip962)\" style=\"stroke:#000000; stroke-linecap:round; stroke-linejoin:round; stroke-width:2; stroke-opacity:0.1; fill:none\" points=\"\n",
       "  140.696,1183.59 2352.76,1183.59 \n",
       "  \"/>\n",
       "<polyline clip-path=\"url(#clip962)\" style=\"stroke:#000000; stroke-linecap:round; stroke-linejoin:round; stroke-width:2; stroke-opacity:0.1; fill:none\" points=\"\n",
       "  140.696,921.47 2352.76,921.47 \n",
       "  \"/>\n",
       "<polyline clip-path=\"url(#clip962)\" style=\"stroke:#000000; stroke-linecap:round; stroke-linejoin:round; stroke-width:2; stroke-opacity:0.1; fill:none\" points=\"\n",
       "  140.696,659.348 2352.76,659.348 \n",
       "  \"/>\n",
       "<polyline clip-path=\"url(#clip962)\" style=\"stroke:#000000; stroke-linecap:round; stroke-linejoin:round; stroke-width:2; stroke-opacity:0.1; fill:none\" points=\"\n",
       "  140.696,397.225 2352.76,397.225 \n",
       "  \"/>\n",
       "<polyline clip-path=\"url(#clip962)\" style=\"stroke:#000000; stroke-linecap:round; stroke-linejoin:round; stroke-width:2; stroke-opacity:0.1; fill:none\" points=\"\n",
       "  140.696,135.103 2352.76,135.103 \n",
       "  \"/>\n",
       "<polyline clip-path=\"url(#clip960)\" style=\"stroke:#000000; stroke-linecap:round; stroke-linejoin:round; stroke-width:4; stroke-opacity:1; fill:none\" points=\"\n",
       "  140.696,1486.45 140.696,47.2441 \n",
       "  \"/>\n",
       "<polyline clip-path=\"url(#clip960)\" style=\"stroke:#000000; stroke-linecap:round; stroke-linejoin:round; stroke-width:4; stroke-opacity:1; fill:none\" points=\"\n",
       "  140.696,1445.72 159.593,1445.72 \n",
       "  \"/>\n",
       "<polyline clip-path=\"url(#clip960)\" style=\"stroke:#000000; stroke-linecap:round; stroke-linejoin:round; stroke-width:4; stroke-opacity:1; fill:none\" points=\"\n",
       "  140.696,1183.59 159.593,1183.59 \n",
       "  \"/>\n",
       "<polyline clip-path=\"url(#clip960)\" style=\"stroke:#000000; stroke-linecap:round; stroke-linejoin:round; stroke-width:4; stroke-opacity:1; fill:none\" points=\"\n",
       "  140.696,921.47 159.593,921.47 \n",
       "  \"/>\n",
       "<polyline clip-path=\"url(#clip960)\" style=\"stroke:#000000; stroke-linecap:round; stroke-linejoin:round; stroke-width:4; stroke-opacity:1; fill:none\" points=\"\n",
       "  140.696,659.348 159.593,659.348 \n",
       "  \"/>\n",
       "<polyline clip-path=\"url(#clip960)\" style=\"stroke:#000000; stroke-linecap:round; stroke-linejoin:round; stroke-width:4; stroke-opacity:1; fill:none\" points=\"\n",
       "  140.696,397.225 159.593,397.225 \n",
       "  \"/>\n",
       "<polyline clip-path=\"url(#clip960)\" style=\"stroke:#000000; stroke-linecap:round; stroke-linejoin:round; stroke-width:4; stroke-opacity:1; fill:none\" points=\"\n",
       "  140.696,135.103 159.593,135.103 \n",
       "  \"/>\n",
       "<path clip-path=\"url(#clip960)\" d=\"M92.7512 1431.51 Q89.1401 1431.51 87.3114 1435.08 Q85.5058 1438.62 85.5058 1445.75 Q85.5058 1452.86 87.3114 1456.42 Q89.1401 1459.96 92.7512 1459.96 Q96.3854 1459.96 98.1909 1456.42 Q100.02 1452.86 100.02 1445.75 Q100.02 1438.62 98.1909 1435.08 Q96.3854 1431.51 92.7512 1431.51 M92.7512 1427.81 Q98.5613 1427.81 101.617 1432.42 Q104.696 1437 104.696 1445.75 Q104.696 1454.48 101.617 1459.08 Q98.5613 1463.67 92.7512 1463.67 Q86.941 1463.67 83.8623 1459.08 Q80.8068 1454.48 80.8068 1445.75 Q80.8068 1437 83.8623 1432.42 Q86.941 1427.81 92.7512 1427.81 Z\" fill=\"#000000\" fill-rule=\"evenodd\" fill-opacity=\"1\" /><path clip-path=\"url(#clip960)\" d=\"M83.7929 1166.31 L102.149 1166.31 L102.149 1170.25 L88.0753 1170.25 L88.0753 1178.72 Q89.0938 1178.37 90.1123 1178.21 Q91.1308 1178.03 92.1493 1178.03 Q97.9363 1178.03 101.316 1181.2 Q104.696 1184.37 104.696 1189.79 Q104.696 1195.36 101.223 1198.47 Q97.7511 1201.54 91.4317 1201.54 Q89.2558 1201.54 86.9873 1201.17 Q84.7419 1200.8 82.3346 1200.06 L82.3346 1195.36 Q84.4179 1196.5 86.6401 1197.05 Q88.8623 1197.61 91.3391 1197.61 Q95.3437 1197.61 97.6817 1195.5 Q100.02 1193.4 100.02 1189.79 Q100.02 1186.17 97.6817 1184.07 Q95.3437 1181.96 91.3391 1181.96 Q89.4641 1181.96 87.5892 1182.38 Q85.7373 1182.79 83.7929 1183.67 L83.7929 1166.31 Z\" fill=\"#000000\" fill-rule=\"evenodd\" fill-opacity=\"1\" /><path clip-path=\"url(#clip960)\" d=\"M53.3995 934.815 L61.0384 934.815 L61.0384 908.45 L52.7282 910.116 L52.7282 905.857 L60.9921 904.19 L65.668 904.19 L65.668 934.815 L73.3068 934.815 L73.3068 938.75 L53.3995 938.75 L53.3995 934.815 Z\" fill=\"#000000\" fill-rule=\"evenodd\" fill-opacity=\"1\" /><path clip-path=\"url(#clip960)\" d=\"M92.7512 907.269 Q89.1401 907.269 87.3114 910.834 Q85.5058 914.376 85.5058 921.505 Q85.5058 928.612 87.3114 932.176 Q89.1401 935.718 92.7512 935.718 Q96.3854 935.718 98.1909 932.176 Q100.02 928.612 100.02 921.505 Q100.02 914.376 98.1909 910.834 Q96.3854 907.269 92.7512 907.269 M92.7512 903.565 Q98.5613 903.565 101.617 908.172 Q104.696 912.755 104.696 921.505 Q104.696 930.232 101.617 934.838 Q98.5613 939.422 92.7512 939.422 Q86.941 939.422 83.8623 934.838 Q80.8068 930.232 80.8068 921.505 Q80.8068 912.755 83.8623 908.172 Q86.941 903.565 92.7512 903.565 Z\" fill=\"#000000\" fill-rule=\"evenodd\" fill-opacity=\"1\" /><path clip-path=\"url(#clip960)\" d=\"M54.3949 672.693 L62.0337 672.693 L62.0337 646.327 L53.7236 647.994 L53.7236 643.735 L61.9874 642.068 L66.6633 642.068 L66.6633 672.693 L74.3022 672.693 L74.3022 676.628 L54.3949 676.628 L54.3949 672.693 Z\" fill=\"#000000\" fill-rule=\"evenodd\" fill-opacity=\"1\" /><path clip-path=\"url(#clip960)\" d=\"M83.7929 642.068 L102.149 642.068 L102.149 646.003 L88.0753 646.003 L88.0753 654.475 Q89.0938 654.128 90.1123 653.966 Q91.1308 653.781 92.1493 653.781 Q97.9363 653.781 101.316 656.952 Q104.696 660.123 104.696 665.54 Q104.696 671.119 101.223 674.22 Q97.7511 677.299 91.4317 677.299 Q89.2558 677.299 86.9873 676.929 Q84.7419 676.558 82.3346 675.818 L82.3346 671.119 Q84.4179 672.253 86.6401 672.808 Q88.8623 673.364 91.3391 673.364 Q95.3437 673.364 97.6817 671.258 Q100.02 669.151 100.02 665.54 Q100.02 661.929 97.6817 659.822 Q95.3437 657.716 91.3391 657.716 Q89.4641 657.716 87.5892 658.133 Q85.7373 658.549 83.7929 659.429 L83.7929 642.068 Z\" fill=\"#000000\" fill-rule=\"evenodd\" fill-opacity=\"1\" /><path clip-path=\"url(#clip960)\" d=\"M56.6171 410.57 L72.9365 410.57 L72.9365 414.505 L50.9921 414.505 L50.9921 410.57 Q53.6541 407.815 58.2375 403.186 Q62.8439 398.533 64.0245 397.191 Q66.2698 394.667 67.1494 392.931 Q68.0522 391.172 68.0522 389.482 Q68.0522 386.728 66.1078 384.992 Q64.1865 383.255 61.0847 383.255 Q58.8856 383.255 56.4319 384.019 Q54.0014 384.783 51.2236 386.334 L51.2236 381.612 Q54.0477 380.478 56.5014 379.899 Q58.955 379.32 60.9921 379.32 Q66.3624 379.32 69.5568 382.005 Q72.7513 384.691 72.7513 389.181 Q72.7513 391.311 71.9411 393.232 Q71.1541 395.13 69.0476 397.723 Q68.4689 398.394 65.367 401.612 Q62.2652 404.806 56.6171 410.57 Z\" fill=\"#000000\" fill-rule=\"evenodd\" fill-opacity=\"1\" /><path clip-path=\"url(#clip960)\" d=\"M92.7512 383.024 Q89.1401 383.024 87.3114 386.589 Q85.5058 390.13 85.5058 397.26 Q85.5058 404.366 87.3114 407.931 Q89.1401 411.473 92.7512 411.473 Q96.3854 411.473 98.1909 407.931 Q100.02 404.366 100.02 397.26 Q100.02 390.13 98.1909 386.589 Q96.3854 383.024 92.7512 383.024 M92.7512 379.32 Q98.5613 379.32 101.617 383.927 Q104.696 388.51 104.696 397.26 Q104.696 405.987 101.617 410.593 Q98.5613 415.177 92.7512 415.177 Q86.941 415.177 83.8623 410.593 Q80.8068 405.987 80.8068 397.26 Q80.8068 388.51 83.8623 383.927 Q86.941 379.32 92.7512 379.32 Z\" fill=\"#000000\" fill-rule=\"evenodd\" fill-opacity=\"1\" /><path clip-path=\"url(#clip960)\" d=\"M57.6125 148.447 L73.9318 148.447 L73.9318 152.383 L51.9875 152.383 L51.9875 148.447 Q54.6495 145.693 59.2328 141.063 Q63.8393 136.41 65.0198 135.068 Q67.2652 132.545 68.1448 130.809 Q69.0476 129.049 69.0476 127.36 Q69.0476 124.605 67.1032 122.869 Q65.1819 121.133 62.08 121.133 Q59.881 121.133 57.4273 121.897 Q54.9967 122.661 52.219 124.211 L52.219 119.489 Q55.043 118.355 57.4967 117.776 Q59.9504 117.198 61.9874 117.198 Q67.3578 117.198 70.5522 119.883 Q73.7466 122.568 73.7466 127.059 Q73.7466 129.188 72.9365 131.11 Q72.1494 133.008 70.0429 135.6 Q69.4642 136.272 66.3624 139.489 Q63.2606 142.684 57.6125 148.447 Z\" fill=\"#000000\" fill-rule=\"evenodd\" fill-opacity=\"1\" /><path clip-path=\"url(#clip960)\" d=\"M83.7929 117.823 L102.149 117.823 L102.149 121.758 L88.0753 121.758 L88.0753 130.23 Q89.0938 129.883 90.1123 129.721 Q91.1308 129.536 92.1493 129.536 Q97.9363 129.536 101.316 132.707 Q104.696 135.878 104.696 141.295 Q104.696 146.873 101.223 149.975 Q97.7511 153.054 91.4317 153.054 Q89.2558 153.054 86.9873 152.684 Q84.7419 152.313 82.3346 151.572 L82.3346 146.873 Q84.4179 148.008 86.6401 148.563 Q88.8623 149.119 91.3391 149.119 Q95.3437 149.119 97.6817 147.012 Q100.02 144.906 100.02 141.295 Q100.02 137.684 97.6817 135.577 Q95.3437 133.471 91.3391 133.471 Q89.4641 133.471 87.5892 133.887 Q85.7373 134.304 83.7929 135.184 L83.7929 117.823 Z\" fill=\"#000000\" fill-rule=\"evenodd\" fill-opacity=\"1\" /><polyline clip-path=\"url(#clip962)\" style=\"stroke:#009af9; stroke-linecap:round; stroke-linejoin:round; stroke-width:4; stroke-opacity:1; fill:none\" points=\"\n",
       "  203.301,1445.72 213.735,1430.53 224.17,1410.02 234.604,1421.86 245.038,1397.41 255.472,1409.48 265.907,1393.87 276.341,1432.01 286.775,1407.64 297.209,1409.99 \n",
       "  307.643,1421.39 318.078,1398.64 328.512,1414.2 338.946,1427.34 349.38,1416.52 359.815,1442.32 370.249,1439.67 380.683,1405.66 391.117,1437.27 401.552,1396.46 \n",
       "  411.986,1437.62 422.42,1443.52 432.854,1413.82 443.289,1437.32 453.723,1438.29 464.157,1426.27 474.591,1402.99 485.026,1442.65 495.46,1436.01 505.894,1427.37 \n",
       "  516.328,1421.69 526.763,1437.07 537.197,1395.89 547.631,1437.15 558.065,1407.33 568.5,1405.64 578.934,1421.15 589.368,1426.58 599.802,1441.51 610.237,1438.04 \n",
       "  620.671,1441.55 631.105,1423.61 641.539,1406.66 651.974,1423.04 662.408,1444.45 672.842,1438.63 683.276,1408.55 693.711,1431.14 704.145,1411.17 714.579,1417.75 \n",
       "  725.013,1405.38 735.448,1408.13 745.882,1415.52 756.316,1441.72 766.75,1402.59 777.185,1405.62 787.619,1395.28 798.053,1423.07 808.487,1442.45 818.922,1405.28 \n",
       "  829.356,1444.11 839.79,1423.94 850.224,1429.99 860.659,1443.96 871.093,1444.41 881.527,1422.31 891.961,1436.58 902.396,1426.24 912.83,1410.02 923.264,1428.45 \n",
       "  933.698,1425.24 944.133,1393.82 954.567,1437.7 965.001,1407.92 975.435,1439.27 985.87,1423.83 996.304,1402.18 1006.74,1399.55 1017.17,1441.56 1027.61,1403.1 \n",
       "  1038.04,1397.17 1048.48,1402.58 1058.91,1433.32 1069.34,1420.82 1079.78,1397.29 1090.21,1429.13 1100.65,1401.83 1111.08,1408.09 1121.51,1402.89 1131.95,1438.79 \n",
       "  1142.38,1437.93 1152.82,1412.34 1163.25,1414.92 1173.69,1437.8 1184.12,1401.33 1194.55,1421.64 1204.99,1404.7 1215.42,1430.45 1225.86,1414.72 1236.29,1440.29 \n",
       "  1246.73,1425.82 1257.16,1396.62 1267.59,1438.91 1278.03,1431.67 1288.46,1398.21 1298.9,1422.04 1309.33,1421.65 1319.77,1438.47 1330.2,1414.11 1340.63,1414.51 \n",
       "  1351.07,1413.41 1361.5,1410.81 1371.94,1426.19 1382.37,1411.91 1392.81,1397.6 1403.24,1434.7 1413.67,1431.07 1424.11,1415.3 1434.54,1423.89 1444.98,1438.4 \n",
       "  1455.41,1420 1465.84,1406.9 1476.28,1408.15 1486.71,1406.28 1497.15,1411.04 1507.58,1433.81 1518.02,1408.72 1528.45,1429.46 1538.88,1413.3 1549.32,1410.01 \n",
       "  1559.75,1441.56 1570.19,1410.24 1580.62,1419.79 1591.06,1444.34 1601.49,1401.24 1611.92,1397.45 1622.36,1421.37 1632.79,1395.83 1643.23,1435.18 1653.66,1416.44 \n",
       "  1664.1,1440.38 1674.53,1421.03 1684.96,1439.31 1695.4,1411.38 1705.83,1411.77 1716.27,1443.31 1726.7,1424.17 1737.14,1394.74 1747.57,1411.61 1758,1442.54 \n",
       "  1768.44,1415.36 1778.87,1424.62 1789.31,1433.81 1799.74,1393.54 1810.18,1401.07 1820.61,1422.58 1831.04,1393.81 1841.48,1438.72 1851.91,1412.09 1862.35,1444.06 \n",
       "  1872.78,1435.53 1883.21,1439.42 1893.65,1419.92 1904.08,1421.02 1914.52,1396.09 1924.95,1431.91 1935.39,1403.03 1945.82,1395.62 1956.25,1431.94 1966.69,1416.2 \n",
       "  1977.12,1408.77 1987.56,1430.67 1997.99,1407.64 2008.43,1408.43 2018.86,1417.54 2029.29,1421.34 2039.73,1437.93 2050.16,1444.66 2060.6,1430.05 2071.03,1404.01 \n",
       "  2081.47,1418.12 2091.9,1409.2 2102.33,1423.77 2112.77,1421.71 2123.2,1399.42 2133.64,1432.93 2144.07,1435.55 2154.51,1393.49 2164.94,1395.59 2175.37,1394.36 \n",
       "  2185.81,1416.81 2196.24,1414.22 2206.68,1398.21 2217.11,1409.57 2227.54,1415.48 2237.98,1431.61 2248.41,1415.94 2258.85,1425.37 2269.28,1405.97 2279.72,1444.61 \n",
       "  2290.15,1429.12 \n",
       "  \"/>\n",
       "<polyline clip-path=\"url(#clip962)\" style=\"stroke:#e26f46; stroke-linecap:round; stroke-linejoin:round; stroke-width:4; stroke-opacity:1; fill:none\" points=\"\n",
       "  203.301,1445.72 213.735,1430.31 224.17,1413.81 234.604,1383.62 245.038,1360.44 255.472,1335.93 265.907,1327.13 276.341,1332.66 286.775,1305.29 297.209,1329.64 \n",
       "  307.643,1323.88 318.078,1303.62 328.512,1318.72 338.946,1319.91 349.38,1310.16 359.815,1308.16 370.249,1314.4 380.683,1301.43 391.117,1322.86 401.552,1302.56 \n",
       "  411.986,1320.03 422.42,1311.88 432.854,1313.16 443.289,1334.47 453.723,1337.54 464.157,1311.25 474.591,1300.76 485.026,1301.43 495.46,1313.61 505.894,1319.25 \n",
       "  516.328,1323.76 526.763,1337.1 537.197,1342.8 547.631,1330.15 558.065,1309.88 568.5,1329.41 578.934,1304.04 589.368,1307.41 599.802,1325.26 610.237,1331.63 \n",
       "  620.671,1327.49 631.105,1347.99 641.539,1348.09 651.974,1358.54 662.408,1364.39 672.842,1332.27 683.276,1317.67 693.711,1306.56 704.145,1297.41 714.579,1323.7 \n",
       "  725.013,1307.29 735.448,1291.69 745.882,1322.07 756.316,1295.99 766.75,1275.19 777.185,1265.82 787.619,1285.28 798.053,1312.72 808.487,1320.8 818.922,1293.41 \n",
       "  829.356,1312.8 839.79,1319.43 850.224,1342.95 860.659,1335.66 871.093,1320.15 881.527,1323.08 891.961,1345.44 902.396,1323.05 912.83,1338.77 923.264,1317.43 \n",
       "  933.698,1316.51 944.133,1317.8 954.567,1295.04 965.001,1312.05 975.435,1304.24 985.87,1288.12 996.304,1314.66 1006.74,1337.82 1017.17,1352.39 1027.61,1353.98 \n",
       "  1038.04,1340 1048.48,1351.98 1058.91,1349.61 1069.34,1360.62 1079.78,1357.15 1090.21,1327.73 1100.65,1341.93 1111.08,1331.26 1121.51,1312.07 1131.95,1309.73 \n",
       "  1142.38,1323.2 1152.82,1300.93 1163.25,1302.85 1173.69,1327.01 1184.12,1324.24 1194.55,1315.51 1204.99,1300.83 1215.42,1320.43 1225.86,1331.96 1236.29,1319.06 \n",
       "  1246.73,1296.01 1257.16,1312.21 1267.59,1316.41 1278.03,1328.09 1288.46,1339.93 1298.9,1354.92 1309.33,1356.93 1319.77,1324.08 1330.2,1338.8 1340.63,1345.07 \n",
       "  1351.07,1355.57 1361.5,1343.62 1371.94,1353.08 1382.37,1329.32 1392.81,1304.89 1403.24,1284.3 1413.67,1295.82 1424.11,1314.55 1434.54,1321.11 1444.98,1331.37 \n",
       "  1455.41,1327.71 1465.84,1319.97 1476.28,1308.27 1486.71,1314.92 1497.15,1318.49 1507.58,1307.68 1518.02,1333.42 1528.45,1352.36 1538.88,1358.89 1549.32,1360 \n",
       "  1559.75,1355.79 1570.19,1336.6 1580.62,1348.45 1591.06,1355.13 1601.49,1358.14 1611.92,1362.23 1622.36,1365.77 1632.79,1332.84 1643.23,1325.98 1653.66,1330.07 \n",
       "  1664.1,1312.39 1674.53,1324.9 1684.96,1342.1 1695.4,1347.1 1705.83,1325.94 1716.27,1326.2 1726.7,1316.16 1737.14,1340.68 1747.57,1344.69 1758,1320.6 \n",
       "  1768.44,1339.81 1778.87,1350.1 1789.31,1336.64 1799.74,1335.52 1810.18,1311.99 1820.61,1299.37 1831.04,1306.23 1841.48,1285.96 1851.91,1286.77 1862.35,1298.45 \n",
       "  1872.78,1280.37 1883.21,1308.94 1893.65,1290.65 1904.08,1315.16 1914.52,1326.41 1924.95,1311.7 1935.39,1333.69 1945.82,1332.19 1956.25,1333.71 1966.69,1335.93 \n",
       "  1977.12,1339.94 1987.56,1339.24 1997.99,1326.25 2008.43,1349.1 2018.86,1326.31 2029.29,1337.17 2039.73,1331.37 2050.16,1319.21 2060.6,1326.81 2071.03,1346.06 \n",
       "  2081.47,1353.72 2091.9,1370.51 2102.33,1380.7 2112.77,1388.98 2123.2,1361.15 2133.64,1346.16 2144.07,1333.81 2154.51,1322.96 2164.94,1340.54 2175.37,1329.5 \n",
       "  2185.81,1317.81 2196.24,1340.56 2206.68,1360.67 2217.11,1370.67 2227.54,1369.98 2237.98,1350.83 2248.41,1368.73 2258.85,1375.96 2269.28,1350.67 2279.72,1319.88 \n",
       "  2290.15,1344.44 \n",
       "  \"/>\n",
       "<polyline clip-path=\"url(#clip962)\" style=\"stroke:#3da44d; stroke-linecap:round; stroke-linejoin:round; stroke-width:4; stroke-opacity:1; fill:none\" points=\"\n",
       "  203.301,1445.72 213.735,1423.09 224.17,1421.88 234.604,1417.34 245.038,1370.96 255.472,1343.85 265.907,1294.32 276.341,1258.45 286.775,1212.91 297.209,1175.74 \n",
       "  307.643,1163.71 318.078,1119.48 328.512,1087.18 338.946,1047.02 349.38,1018.67 359.815,1013.69 370.249,974.686 380.683,950.6 391.117,945.339 401.552,903.436 \n",
       "  411.986,866.658 422.42,838.682 432.854,812.575 443.289,777.149 453.723,775.7 464.157,770.543 474.591,753.281 485.026,730.041 495.46,728.358 505.894,696.266 \n",
       "  516.328,698.675 526.763,673.929 537.197,638.829 547.631,637.699 558.065,635.245 568.5,635.156 578.934,600.41 589.368,577.402 599.802,545.602 610.237,548.909 \n",
       "  620.671,552.305 631.105,534.467 641.539,542.389 651.974,552.017 662.408,530.681 672.842,510.533 683.276,515.91 693.711,523.374 704.145,531.665 714.579,511.249 \n",
       "  725.013,491.147 735.448,505.926 745.882,486.198 756.316,469.067 766.75,441.162 777.185,460.429 787.619,429.112 798.053,440.757 808.487,460.77 818.922,431.731 \n",
       "  829.356,402.925 839.79,417.361 850.224,431.043 860.659,429.992 871.093,423.655 881.527,431.31 891.961,449.498 902.396,466.476 912.83,449.024 923.264,436.583 \n",
       "  933.698,441.526 944.133,426.826 954.567,406.958 965.001,417.611 975.435,426.946 985.87,425.535 996.304,400.983 1006.74,371.418 1017.17,346.349 1027.61,362.54 \n",
       "  1038.04,375.613 1048.48,386.295 1058.91,370.514 1069.34,372.182 1079.78,391.624 1090.21,393.436 1100.65,386.411 1111.08,373.199 1121.51,363.29 1131.95,377.232 \n",
       "  1142.38,352.336 1152.82,332.855 1163.25,304.536 1173.69,313.603 1184.12,295.04 1194.55,309.53 1204.99,306.953 1215.42,316.548 1225.86,296.32 1236.29,313.986 \n",
       "  1246.73,307.564 1257.16,294.367 1267.59,291.448 1278.03,269.262 1288.46,256.6 1298.9,275.839 1309.33,277.554 1319.77,293.714 1330.2,271.214 1340.63,287.694 \n",
       "  1351.07,273.49 1361.5,259.952 1371.94,283.315 1382.37,275.581 1392.81,277.704 1403.24,266.502 1413.67,282.434 1424.11,281.077 1434.54,301.868 1444.98,310.744 \n",
       "  1455.41,281.148 1465.84,258.713 1476.28,273.064 1486.71,270.429 1497.15,243.904 1507.58,241.004 1518.02,221.761 1528.45,232.096 1538.88,230.805 1549.32,247.918 \n",
       "  1559.75,219.731 1570.19,199.697 1580.62,220.95 1591.06,204.626 1601.49,189.183 1611.92,175.892 1622.36,175.7 1632.79,172.8 1643.23,179.514 1653.66,155.514 \n",
       "  1664.1,174.226 1674.53,160.583 1684.96,168.594 1695.4,146.164 1705.83,132.83 1716.27,151.768 1726.7,136.851 1737.14,137.892 1747.57,131.735 1758,109.951 \n",
       "  1768.44,136.024 1778.87,141.042 1789.31,140.108 1799.74,132.502 1810.18,111.664 1820.61,117.88 1831.04,134.214 1841.48,154.084 1851.91,169.017 1862.35,191.406 \n",
       "  1872.78,165.68 1883.21,164.521 1893.65,184.892 1904.08,177.096 1914.52,169.216 1924.95,166.709 1935.39,150.506 1945.82,138.801 1956.25,163.392 1966.69,161.693 \n",
       "  1977.12,148.689 1987.56,156.87 1997.99,134.088 2008.43,112.374 2018.86,87.9763 2029.29,104.727 2039.73,120.904 2050.16,112.885 2060.6,139.509 2071.03,146.615 \n",
       "  2081.47,172.246 2091.9,171.792 2102.33,193.886 2112.77,208.669 2123.2,229.713 2133.64,225.671 2144.07,236.264 2154.51,221.824 2164.94,198.67 2175.37,190.035 \n",
       "  2185.81,206.624 2196.24,197.932 2206.68,195.976 2217.11,172.546 2227.54,179.426 2237.98,169.569 2248.41,170.877 2258.85,153.839 2269.28,175.642 2279.72,164.129 \n",
       "  2290.15,138.412 \n",
       "  \"/>\n",
       "<path clip-path=\"url(#clip960)\" d=\"\n",
       "M214.431 302.578 L706.237 302.578 L706.237 95.2176 L214.431 95.2176  Z\n",
       "  \" fill=\"#ffffff\" fill-rule=\"evenodd\" fill-opacity=\"1\"/>\n",
       "<polyline clip-path=\"url(#clip960)\" style=\"stroke:#000000; stroke-linecap:round; stroke-linejoin:round; stroke-width:4; stroke-opacity:1; fill:none\" points=\"\n",
       "  214.431,302.578 706.237,302.578 706.237,95.2176 214.431,95.2176 214.431,302.578 \n",
       "  \"/>\n",
       "<polyline clip-path=\"url(#clip960)\" style=\"stroke:#009af9; stroke-linecap:round; stroke-linejoin:round; stroke-width:4; stroke-opacity:1; fill:none\" points=\"\n",
       "  239.009,147.058 386.48,147.058 \n",
       "  \"/>\n",
       "<path clip-path=\"url(#clip960)\" d=\"M424.461 151.305 Q419.299 151.305 417.308 152.486 Q415.318 153.666 415.318 156.514 Q415.318 158.782 416.799 160.125 Q418.304 161.444 420.873 161.444 Q424.415 161.444 426.545 158.944 Q428.697 156.421 428.697 152.254 L428.697 151.305 L424.461 151.305 M432.957 149.546 L432.957 164.338 L428.697 164.338 L428.697 160.402 Q427.239 162.763 425.063 163.898 Q422.887 165.009 419.739 165.009 Q415.758 165.009 413.396 162.787 Q411.058 160.541 411.058 156.791 Q411.058 152.416 413.975 150.194 Q416.915 147.972 422.725 147.972 L428.697 147.972 L428.697 147.555 Q428.697 144.615 426.753 143.018 Q424.832 141.398 421.336 141.398 Q419.114 141.398 417.008 141.93 Q414.901 142.463 412.957 143.527 L412.957 139.592 Q415.295 138.69 417.494 138.25 Q419.693 137.787 421.776 137.787 Q427.401 137.787 430.179 140.703 Q432.957 143.62 432.957 149.546 Z\" fill=\"#000000\" fill-rule=\"evenodd\" fill-opacity=\"1\" /><path clip-path=\"url(#clip960)\" d=\"M441.73 128.319 L445.989 128.319 L445.989 164.338 L441.73 164.338 L441.73 128.319 Z\" fill=\"#000000\" fill-rule=\"evenodd\" fill-opacity=\"1\" /><path clip-path=\"url(#clip960)\" d=\"M459.021 160.449 L459.021 174.199 L454.739 174.199 L454.739 138.412 L459.021 138.412 L459.021 142.347 Q460.364 140.032 462.401 138.921 Q464.461 137.787 467.308 137.787 Q472.03 137.787 474.97 141.537 Q477.933 145.287 477.933 151.398 Q477.933 157.509 474.97 161.259 Q472.03 165.009 467.308 165.009 Q464.461 165.009 462.401 163.898 Q460.364 162.763 459.021 160.449 M473.512 151.398 Q473.512 146.699 471.567 144.037 Q469.646 141.352 466.267 141.352 Q462.887 141.352 460.942 144.037 Q459.021 146.699 459.021 151.398 Q459.021 156.097 460.942 158.782 Q462.887 161.444 466.267 161.444 Q469.646 161.444 471.567 158.782 Q473.512 156.097 473.512 151.398 Z\" fill=\"#000000\" fill-rule=\"evenodd\" fill-opacity=\"1\" /><path clip-path=\"url(#clip960)\" d=\"M506.544 148.689 L506.544 164.338 L502.285 164.338 L502.285 148.828 Q502.285 145.148 500.85 143.319 Q499.414 141.49 496.544 141.49 Q493.095 141.49 491.104 143.69 Q489.114 145.889 489.114 149.685 L489.114 164.338 L484.831 164.338 L484.831 128.319 L489.114 128.319 L489.114 142.44 Q490.641 140.102 492.702 138.944 Q494.785 137.787 497.493 137.787 Q501.961 137.787 504.252 140.565 Q506.544 143.319 506.544 148.689 Z\" fill=\"#000000\" fill-rule=\"evenodd\" fill-opacity=\"1\" /><path clip-path=\"url(#clip960)\" d=\"M526.822 151.305 Q521.66 151.305 519.669 152.486 Q517.678 153.666 517.678 156.514 Q517.678 158.782 519.16 160.125 Q520.664 161.444 523.234 161.444 Q526.775 161.444 528.905 158.944 Q531.058 156.421 531.058 152.254 L531.058 151.305 L526.822 151.305 M535.317 149.546 L535.317 164.338 L531.058 164.338 L531.058 160.402 Q529.6 162.763 527.424 163.898 Q525.248 165.009 522.1 165.009 Q518.118 165.009 515.757 162.787 Q513.419 160.541 513.419 156.791 Q513.419 152.416 516.336 150.194 Q519.275 147.972 525.086 147.972 L531.058 147.972 L531.058 147.555 Q531.058 144.615 529.113 143.018 Q527.192 141.398 523.697 141.398 Q521.475 141.398 519.368 141.93 Q517.262 142.463 515.317 143.527 L515.317 139.592 Q517.655 138.69 519.854 138.25 Q522.053 137.787 524.137 137.787 Q529.762 137.787 532.539 140.703 Q535.317 143.62 535.317 149.546 Z\" fill=\"#000000\" fill-rule=\"evenodd\" fill-opacity=\"1\" /><path clip-path=\"url(#clip960)\" d=\"M544.646 142.81 L574.321 142.81 L574.321 146.699 L544.646 146.699 L544.646 142.81 M544.646 152.254 L574.321 152.254 L574.321 156.189 L544.646 156.189 L544.646 152.254 Z\" fill=\"#000000\" fill-rule=\"evenodd\" fill-opacity=\"1\" /><path clip-path=\"url(#clip960)\" d=\"M594.414 132.856 Q590.803 132.856 588.974 136.421 Q587.169 139.963 587.169 147.092 Q587.169 154.199 588.974 157.764 Q590.803 161.305 594.414 161.305 Q598.048 161.305 599.854 157.764 Q601.682 154.199 601.682 147.092 Q601.682 139.963 599.854 136.421 Q598.048 132.856 594.414 132.856 M594.414 129.153 Q600.224 129.153 603.28 133.759 Q606.358 138.342 606.358 147.092 Q606.358 155.819 603.28 160.426 Q600.224 165.009 594.414 165.009 Q588.604 165.009 585.525 160.426 Q582.47 155.819 582.47 147.092 Q582.47 138.342 585.525 133.759 Q588.604 129.153 594.414 129.153 Z\" fill=\"#000000\" fill-rule=\"evenodd\" fill-opacity=\"1\" /><polyline clip-path=\"url(#clip960)\" style=\"stroke:#e26f46; stroke-linecap:round; stroke-linejoin:round; stroke-width:4; stroke-opacity:1; fill:none\" points=\"\n",
       "  239.009,198.898 386.48,198.898 \n",
       "  \"/>\n",
       "<path clip-path=\"url(#clip960)\" d=\"M424.461 203.145 Q419.299 203.145 417.308 204.326 Q415.318 205.506 415.318 208.354 Q415.318 210.622 416.799 211.965 Q418.304 213.284 420.873 213.284 Q424.415 213.284 426.545 210.784 Q428.697 208.261 428.697 204.094 L428.697 203.145 L424.461 203.145 M432.957 201.386 L432.957 216.178 L428.697 216.178 L428.697 212.242 Q427.239 214.603 425.063 215.738 Q422.887 216.849 419.739 216.849 Q415.758 216.849 413.396 214.627 Q411.058 212.381 411.058 208.631 Q411.058 204.256 413.975 202.034 Q416.915 199.812 422.725 199.812 L428.697 199.812 L428.697 199.395 Q428.697 196.455 426.753 194.858 Q424.832 193.238 421.336 193.238 Q419.114 193.238 417.008 193.77 Q414.901 194.303 412.957 195.367 L412.957 191.432 Q415.295 190.53 417.494 190.09 Q419.693 189.627 421.776 189.627 Q427.401 189.627 430.179 192.543 Q432.957 195.46 432.957 201.386 Z\" fill=\"#000000\" fill-rule=\"evenodd\" fill-opacity=\"1\" /><path clip-path=\"url(#clip960)\" d=\"M441.73 180.159 L445.989 180.159 L445.989 216.178 L441.73 216.178 L441.73 180.159 Z\" fill=\"#000000\" fill-rule=\"evenodd\" fill-opacity=\"1\" /><path clip-path=\"url(#clip960)\" d=\"M459.021 212.289 L459.021 226.039 L454.739 226.039 L454.739 190.252 L459.021 190.252 L459.021 194.187 Q460.364 191.872 462.401 190.761 Q464.461 189.627 467.308 189.627 Q472.03 189.627 474.97 193.377 Q477.933 197.127 477.933 203.238 Q477.933 209.349 474.97 213.099 Q472.03 216.849 467.308 216.849 Q464.461 216.849 462.401 215.738 Q460.364 214.603 459.021 212.289 M473.512 203.238 Q473.512 198.539 471.567 195.877 Q469.646 193.192 466.267 193.192 Q462.887 193.192 460.942 195.877 Q459.021 198.539 459.021 203.238 Q459.021 207.937 460.942 210.622 Q462.887 213.284 466.267 213.284 Q469.646 213.284 471.567 210.622 Q473.512 207.937 473.512 203.238 Z\" fill=\"#000000\" fill-rule=\"evenodd\" fill-opacity=\"1\" /><path clip-path=\"url(#clip960)\" d=\"M506.544 200.529 L506.544 216.178 L502.285 216.178 L502.285 200.668 Q502.285 196.988 500.85 195.159 Q499.414 193.33 496.544 193.33 Q493.095 193.33 491.104 195.53 Q489.114 197.729 489.114 201.525 L489.114 216.178 L484.831 216.178 L484.831 180.159 L489.114 180.159 L489.114 194.28 Q490.641 191.942 492.702 190.784 Q494.785 189.627 497.493 189.627 Q501.961 189.627 504.252 192.405 Q506.544 195.159 506.544 200.529 Z\" fill=\"#000000\" fill-rule=\"evenodd\" fill-opacity=\"1\" /><path clip-path=\"url(#clip960)\" d=\"M526.822 203.145 Q521.66 203.145 519.669 204.326 Q517.678 205.506 517.678 208.354 Q517.678 210.622 519.16 211.965 Q520.664 213.284 523.234 213.284 Q526.775 213.284 528.905 210.784 Q531.058 208.261 531.058 204.094 L531.058 203.145 L526.822 203.145 M535.317 201.386 L535.317 216.178 L531.058 216.178 L531.058 212.242 Q529.6 214.603 527.424 215.738 Q525.248 216.849 522.1 216.849 Q518.118 216.849 515.757 214.627 Q513.419 212.381 513.419 208.631 Q513.419 204.256 516.336 202.034 Q519.275 199.812 525.086 199.812 L531.058 199.812 L531.058 199.395 Q531.058 196.455 529.113 194.858 Q527.192 193.238 523.697 193.238 Q521.475 193.238 519.368 193.77 Q517.262 194.303 515.317 195.367 L515.317 191.432 Q517.655 190.53 519.854 190.09 Q522.053 189.627 524.137 189.627 Q529.762 189.627 532.539 192.543 Q535.317 195.46 535.317 201.386 Z\" fill=\"#000000\" fill-rule=\"evenodd\" fill-opacity=\"1\" /><path clip-path=\"url(#clip960)\" d=\"M544.646 194.65 L574.321 194.65 L574.321 198.539 L544.646 198.539 L544.646 194.65 M544.646 204.094 L574.321 204.094 L574.321 208.029 L544.646 208.029 L544.646 204.094 Z\" fill=\"#000000\" fill-rule=\"evenodd\" fill-opacity=\"1\" /><path clip-path=\"url(#clip960)\" d=\"M594.414 184.696 Q590.803 184.696 588.974 188.261 Q587.169 191.803 587.169 198.932 Q587.169 206.039 588.974 209.604 Q590.803 213.145 594.414 213.145 Q598.048 213.145 599.854 209.604 Q601.682 206.039 601.682 198.932 Q601.682 191.803 599.854 188.261 Q598.048 184.696 594.414 184.696 M594.414 180.993 Q600.224 180.993 603.28 185.599 Q606.358 190.182 606.358 198.932 Q606.358 207.659 603.28 212.266 Q600.224 216.849 594.414 216.849 Q588.604 216.849 585.525 212.266 Q582.47 207.659 582.47 198.932 Q582.47 190.182 585.525 185.599 Q588.604 180.993 594.414 180.993 Z\" fill=\"#000000\" fill-rule=\"evenodd\" fill-opacity=\"1\" /><path clip-path=\"url(#clip960)\" d=\"M614.576 210.298 L619.46 210.298 L619.46 216.178 L614.576 216.178 L614.576 210.298 Z\" fill=\"#000000\" fill-rule=\"evenodd\" fill-opacity=\"1\" /><path clip-path=\"url(#clip960)\" d=\"M639.645 199.766 Q636.312 199.766 634.391 201.548 Q632.492 203.33 632.492 206.455 Q632.492 209.58 634.391 211.363 Q636.312 213.145 639.645 213.145 Q642.979 213.145 644.9 211.363 Q646.821 209.557 646.821 206.455 Q646.821 203.33 644.9 201.548 Q643.002 199.766 639.645 199.766 M634.969 197.775 Q631.96 197.034 630.27 194.974 Q628.604 192.914 628.604 189.951 Q628.604 185.807 631.543 183.4 Q634.506 180.993 639.645 180.993 Q644.807 180.993 647.747 183.4 Q650.687 185.807 650.687 189.951 Q650.687 192.914 648.997 194.974 Q647.33 197.034 644.344 197.775 Q647.724 198.562 649.599 200.854 Q651.497 203.145 651.497 206.455 Q651.497 211.479 648.418 214.164 Q645.363 216.849 639.645 216.849 Q633.928 216.849 630.849 214.164 Q627.793 211.479 627.793 206.455 Q627.793 203.145 629.692 200.854 Q631.59 198.562 634.969 197.775 M633.256 190.391 Q633.256 193.076 634.923 194.58 Q636.613 196.085 639.645 196.085 Q642.654 196.085 644.344 194.58 Q646.057 193.076 646.057 190.391 Q646.057 187.705 644.344 186.201 Q642.654 184.696 639.645 184.696 Q636.613 184.696 634.923 186.201 Q633.256 187.705 633.256 190.391 Z\" fill=\"#000000\" fill-rule=\"evenodd\" fill-opacity=\"1\" /><polyline clip-path=\"url(#clip960)\" style=\"stroke:#3da44d; stroke-linecap:round; stroke-linejoin:round; stroke-width:4; stroke-opacity:1; fill:none\" points=\"\n",
       "  239.009,250.738 386.48,250.738 \n",
       "  \"/>\n",
       "<path clip-path=\"url(#clip960)\" d=\"M424.461 254.985 Q419.299 254.985 417.308 256.166 Q415.318 257.346 415.318 260.194 Q415.318 262.462 416.799 263.805 Q418.304 265.124 420.873 265.124 Q424.415 265.124 426.545 262.624 Q428.697 260.101 428.697 255.934 L428.697 254.985 L424.461 254.985 M432.957 253.226 L432.957 268.018 L428.697 268.018 L428.697 264.082 Q427.239 266.443 425.063 267.578 Q422.887 268.689 419.739 268.689 Q415.758 268.689 413.396 266.467 Q411.058 264.221 411.058 260.471 Q411.058 256.096 413.975 253.874 Q416.915 251.652 422.725 251.652 L428.697 251.652 L428.697 251.235 Q428.697 248.295 426.753 246.698 Q424.832 245.078 421.336 245.078 Q419.114 245.078 417.008 245.61 Q414.901 246.143 412.957 247.207 L412.957 243.272 Q415.295 242.37 417.494 241.93 Q419.693 241.467 421.776 241.467 Q427.401 241.467 430.179 244.383 Q432.957 247.3 432.957 253.226 Z\" fill=\"#000000\" fill-rule=\"evenodd\" fill-opacity=\"1\" /><path clip-path=\"url(#clip960)\" d=\"M441.73 231.999 L445.989 231.999 L445.989 268.018 L441.73 268.018 L441.73 231.999 Z\" fill=\"#000000\" fill-rule=\"evenodd\" fill-opacity=\"1\" /><path clip-path=\"url(#clip960)\" d=\"M459.021 264.129 L459.021 277.879 L454.739 277.879 L454.739 242.092 L459.021 242.092 L459.021 246.027 Q460.364 243.712 462.401 242.601 Q464.461 241.467 467.308 241.467 Q472.03 241.467 474.97 245.217 Q477.933 248.967 477.933 255.078 Q477.933 261.189 474.97 264.939 Q472.03 268.689 467.308 268.689 Q464.461 268.689 462.401 267.578 Q460.364 266.443 459.021 264.129 M473.512 255.078 Q473.512 250.379 471.567 247.717 Q469.646 245.032 466.267 245.032 Q462.887 245.032 460.942 247.717 Q459.021 250.379 459.021 255.078 Q459.021 259.777 460.942 262.462 Q462.887 265.124 466.267 265.124 Q469.646 265.124 471.567 262.462 Q473.512 259.777 473.512 255.078 Z\" fill=\"#000000\" fill-rule=\"evenodd\" fill-opacity=\"1\" /><path clip-path=\"url(#clip960)\" d=\"M506.544 252.369 L506.544 268.018 L502.285 268.018 L502.285 252.508 Q502.285 248.828 500.85 246.999 Q499.414 245.17 496.544 245.17 Q493.095 245.17 491.104 247.37 Q489.114 249.569 489.114 253.365 L489.114 268.018 L484.831 268.018 L484.831 231.999 L489.114 231.999 L489.114 246.12 Q490.641 243.782 492.702 242.624 Q494.785 241.467 497.493 241.467 Q501.961 241.467 504.252 244.245 Q506.544 246.999 506.544 252.369 Z\" fill=\"#000000\" fill-rule=\"evenodd\" fill-opacity=\"1\" /><path clip-path=\"url(#clip960)\" d=\"M526.822 254.985 Q521.66 254.985 519.669 256.166 Q517.678 257.346 517.678 260.194 Q517.678 262.462 519.16 263.805 Q520.664 265.124 523.234 265.124 Q526.775 265.124 528.905 262.624 Q531.058 260.101 531.058 255.934 L531.058 254.985 L526.822 254.985 M535.317 253.226 L535.317 268.018 L531.058 268.018 L531.058 264.082 Q529.6 266.443 527.424 267.578 Q525.248 268.689 522.1 268.689 Q518.118 268.689 515.757 266.467 Q513.419 264.221 513.419 260.471 Q513.419 256.096 516.336 253.874 Q519.275 251.652 525.086 251.652 L531.058 251.652 L531.058 251.235 Q531.058 248.295 529.113 246.698 Q527.192 245.078 523.697 245.078 Q521.475 245.078 519.368 245.61 Q517.262 246.143 515.317 247.207 L515.317 243.272 Q517.655 242.37 519.854 241.93 Q522.053 241.467 524.137 241.467 Q529.762 241.467 532.539 244.383 Q535.317 247.3 535.317 253.226 Z\" fill=\"#000000\" fill-rule=\"evenodd\" fill-opacity=\"1\" /><path clip-path=\"url(#clip960)\" d=\"M544.646 246.49 L574.321 246.49 L574.321 250.379 L544.646 250.379 L544.646 246.49 M544.646 255.934 L574.321 255.934 L574.321 259.869 L544.646 259.869 L544.646 255.934 Z\" fill=\"#000000\" fill-rule=\"evenodd\" fill-opacity=\"1\" /><path clip-path=\"url(#clip960)\" d=\"M594.414 236.536 Q590.803 236.536 588.974 240.101 Q587.169 243.643 587.169 250.772 Q587.169 257.879 588.974 261.444 Q590.803 264.985 594.414 264.985 Q598.048 264.985 599.854 261.444 Q601.682 257.879 601.682 250.772 Q601.682 243.643 599.854 240.101 Q598.048 236.536 594.414 236.536 M594.414 232.833 Q600.224 232.833 603.28 237.439 Q606.358 242.022 606.358 250.772 Q606.358 259.499 603.28 264.106 Q600.224 268.689 594.414 268.689 Q588.604 268.689 585.525 264.106 Q582.47 259.499 582.47 250.772 Q582.47 242.022 585.525 237.439 Q588.604 232.833 594.414 232.833 Z\" fill=\"#000000\" fill-rule=\"evenodd\" fill-opacity=\"1\" /><path clip-path=\"url(#clip960)\" d=\"M614.576 262.138 L619.46 262.138 L619.46 268.018 L614.576 268.018 L614.576 262.138 Z\" fill=\"#000000\" fill-rule=\"evenodd\" fill-opacity=\"1\" /><path clip-path=\"url(#clip960)\" d=\"M629.784 267.3 L629.784 263.041 Q631.543 263.874 633.349 264.314 Q635.154 264.754 636.891 264.754 Q641.52 264.754 643.951 261.652 Q646.404 258.527 646.752 252.184 Q645.409 254.175 643.349 255.24 Q641.289 256.305 638.789 256.305 Q633.604 256.305 630.571 253.18 Q627.562 250.032 627.562 244.592 Q627.562 239.268 630.71 236.05 Q633.858 232.833 639.09 232.833 Q645.085 232.833 648.233 237.439 Q651.404 242.022 651.404 250.772 Q651.404 258.944 647.516 263.828 Q643.65 268.689 637.099 268.689 Q635.34 268.689 633.534 268.342 Q631.729 267.994 629.784 267.3 M639.09 252.647 Q642.238 252.647 644.066 250.494 Q645.918 248.342 645.918 244.592 Q645.918 240.865 644.066 238.712 Q642.238 236.536 639.09 236.536 Q635.942 236.536 634.09 238.712 Q632.261 240.865 632.261 244.592 Q632.261 248.342 634.09 250.494 Q635.942 252.647 639.09 252.647 Z\" fill=\"#000000\" fill-rule=\"evenodd\" fill-opacity=\"1\" /><path clip-path=\"url(#clip960)\" d=\"M669.807 251.606 Q666.474 251.606 664.552 253.388 Q662.654 255.17 662.654 258.295 Q662.654 261.42 664.552 263.203 Q666.474 264.985 669.807 264.985 Q673.14 264.985 675.062 263.203 Q676.983 261.397 676.983 258.295 Q676.983 255.17 675.062 253.388 Q673.164 251.606 669.807 251.606 M665.131 249.615 Q662.122 248.874 660.432 246.814 Q658.765 244.754 658.765 241.791 Q658.765 237.647 661.705 235.24 Q664.668 232.833 669.807 232.833 Q674.969 232.833 677.909 235.24 Q680.849 237.647 680.849 241.791 Q680.849 244.754 679.159 246.814 Q677.492 248.874 674.506 249.615 Q677.886 250.402 679.761 252.694 Q681.659 254.985 681.659 258.295 Q681.659 263.319 678.58 266.004 Q675.525 268.689 669.807 268.689 Q664.09 268.689 661.011 266.004 Q657.955 263.319 657.955 258.295 Q657.955 254.985 659.853 252.694 Q661.752 250.402 665.131 249.615 M663.418 242.231 Q663.418 244.916 665.085 246.42 Q666.775 247.925 669.807 247.925 Q672.816 247.925 674.506 246.42 Q676.219 244.916 676.219 242.231 Q676.219 239.545 674.506 238.041 Q672.816 236.536 669.807 236.536 Q666.775 236.536 665.085 238.041 Q663.418 239.545 663.418 242.231 Z\" fill=\"#000000\" fill-rule=\"evenodd\" fill-opacity=\"1\" /></svg>\n"
      ]
     },
     "execution_count": 82,
     "metadata": {},
     "output_type": "execute_result"
    }
   ],
   "source": [
    "plot(timeseries(alpha=0.0), label=\"alpha=0\")\n",
    "plot!(timeseries(alpha=0.8), label=\"alpha=0.8\")\n",
    "plot!(timeseries(alpha=0.98), label=\"alpha=0.98\")"
   ]
  },
  {
   "attachments": {},
   "cell_type": "markdown",
   "id": "61d969ad",
   "metadata": {},
   "source": [
    "### Exercise 7\n",
    "\n",
    "This exercise is more challenging.\n",
    "\n",
    "Take a random walk, starting from $ x_0 = 1 $\n",
    "\n",
    "$$\n",
    "x_{t+1} = \\, \\alpha \\, x_t + \\sigma\\, \\epsilon_{t+1}\n",
    "\\quad \\text{where} \\quad\n",
    "x_0 = 1\n",
    "\\quad \\text{and} \\quad t = 0,\\ldots,t_{\\max}\n",
    "$$\n",
    "\n",
    "- Furthermore, assume that the $ x_{t_{\\max}} = 0 $  (i.e. at $ t_{\\max} $, the value drops to zero, regardless of its current state).  \n",
    "- The sequence of shocks $ \\{\\epsilon_t\\} $ is assumed to be iid and standard normal.  \n",
    "- For a given path $ \\{x_t\\} $ define a **first-passage time** as $ T_a = \\min\\{t\\, |\\, x_t \\leq a\\} $, where by the assumption of the process $ T_a \\leq t_{\\max} $.  \n",
    "\n",
    "\n",
    "Start with $ \\sigma = 0.2, \\alpha = 1.0 $\n",
    "\n",
    "1. calculate the first-passage time, $ T_0 $, for 100 simulated random walks – to a $ t_{\\max} = 200 $ and plot a histogram  \n",
    "1. plot the sample mean of $ T_0 $ from the simulation for $ \\alpha \\in \\{0.8, 1.0, 1.2\\} $  \n",
    "\n",
    "\n",
    "\n",
    "<a id='jbe-ex8a'></a>"
   ]
  },
  {
   "attachments": {},
   "cell_type": "markdown",
   "id": "aebfe8d0",
   "metadata": {},
   "source": [
    "### Exercise 8(a)\n",
    "\n",
    "This exercise is more challenging.\n",
    "\n",
    "The root of a univariate function $ f(\\cdot) $ is an $ x $ such that $ f(x) = 0 $.\n",
    "\n",
    "One solution method to find local roots of smooth functions is called Newton’s method.\n",
    "\n",
    "Starting with an $ x_0 $ guess, a function $ f(\\cdot) $ and the first-derivative $ f'(\\cdot) $, the algorithm is to repeat\n",
    "\n",
    "$$\n",
    "x^{n+1} = x^n - \\frac{f(x^n)}{f'(x^n)}\n",
    "$$\n",
    "\n",
    "until $ | x^{n+1} - x^n| $ is below a tolerance\n",
    "\n",
    "1. Use a variation of the `fixedpointmap` code to implement Newton’s method, where the function would accept arguments `f, f_prime, x_0, tolerance, maxiter`.  \n",
    "1. Test it with $ f(x) = (x-1)^3 $ and another function of your choice where you can analytically find the derivative.  "
   ]
  },
  {
   "attachments": {},
   "cell_type": "markdown",
   "id": "0a34a6b4",
   "metadata": {},
   "source": [
    "### Exercise 8(b)\n",
    "\n",
    "For those impatient to use more advanced features of Julia, implement a version of Exercise 8(a) where `f_prime` is calculated with auto-differentiation."
   ]
  },
  {
   "cell_type": "code",
   "execution_count": null,
   "id": "0534a83f",
   "metadata": {
    "hide-output": false
   },
   "outputs": [],
   "source": [
    "using ForwardDiff\n",
    "\n",
    "# operator to get the derivative of this function using AD\n",
    "D(f) = x -> ForwardDiff.derivative(f, x)\n",
    "\n",
    "# example usage: create a function and get the derivative\n",
    "f(x) = x^2\n",
    "f_prime = D(f)\n",
    "\n",
    "f(0.1), f_prime(0.1)"
   ]
  },
  {
   "attachments": {},
   "cell_type": "markdown",
   "id": "bab66dca",
   "metadata": {},
   "source": [
    "1. Using the `D(f)` operator definition above, implement a version of Newton’s method that does not require the user to provide an analytical derivative.  \n",
    "1. Test the sorts of `f` functions which can be automatically integrated by `ForwardDff.jl`.  "
   ]
  },
  {
   "attachments": {},
   "cell_type": "markdown",
   "id": "d65126bb",
   "metadata": {},
   "source": [
    "## Solutions"
   ]
  },
  {
   "attachments": {},
   "cell_type": "markdown",
   "id": "0a9f09be",
   "metadata": {},
   "source": [
    "### Exercise 1"
   ]
  },
  {
   "cell_type": "code",
   "execution_count": null,
   "id": "e7daa9c0",
   "metadata": {
    "hide-output": false
   },
   "outputs": [],
   "source": [
    "function factorial2(n)\n",
    "    k = 1\n",
    "    for i in 1:n\n",
    "        k *= i  # or k = k * i\n",
    "    end\n",
    "    return k\n",
    "end\n",
    "\n",
    "factorial2(4)"
   ]
  },
  {
   "cell_type": "code",
   "execution_count": null,
   "id": "45a1f37d",
   "metadata": {
    "hide-output": false
   },
   "outputs": [],
   "source": [
    "factorial2(4) == factorial(4) # built-in function"
   ]
  },
  {
   "attachments": {},
   "cell_type": "markdown",
   "id": "1b5e9176",
   "metadata": {},
   "source": [
    "### Exercise 2"
   ]
  },
  {
   "cell_type": "code",
   "execution_count": 42,
   "id": "18846793",
   "metadata": {
    "hide-output": false
   },
   "outputs": [
    {
     "name": "stdout",
     "output_type": "stream",
     "text": [
      "6, 4, 1, 6, 6, 5, 4, 3, 5, 6, 2, 5, 6, 6, 3, 3, 4, 4, 2, 7, 5, 5, 4, 4, 8, "
     ]
    }
   ],
   "source": [
    "function binomial_rv(n, p)\n",
    "    count = 0\n",
    "    U = rand(n)\n",
    "    for i in 1:n\n",
    "        if U[i] < p\n",
    "            count += 1 # or count = count + 1\n",
    "        end\n",
    "    end\n",
    "    return count\n",
    "end\n",
    "\n",
    "for j in 1:25\n",
    "    b = binomial_rv(10, 0.5)\n",
    "    print(\"$b, \")\n",
    "end"
   ]
  },
  {
   "attachments": {},
   "cell_type": "markdown",
   "id": "9f949e8d",
   "metadata": {},
   "source": [
    "### Exercise 3\n",
    "\n",
    "Consider a circle with diameter 1 embedded in a unit square.\n",
    "\n",
    "Let $ A $ be its area and let $ r = 1/2 $ be its radius.\n",
    "\n",
    "If we know $ \\pi $ then we can compute $ A $ via\n",
    "$ A = \\pi r^2 $.\n",
    "\n",
    "But the point here is to compute $ \\pi $, which we can do by\n",
    "$ \\pi = A / r^2 $.\n",
    "\n",
    "Summary: If we can estimate the area of the unit circle, then dividing\n",
    "by $ r^2 = (1/2)^2 = 1/4 $ gives an estimate of $ \\pi $.\n",
    "\n",
    "We estimate the area by sampling bivariate uniforms and looking at the\n",
    "fraction that fall into the unit circle."
   ]
  },
  {
   "cell_type": "code",
   "execution_count": 45,
   "id": "e34377e5",
   "metadata": {
    "hide-output": false
   },
   "outputs": [
    {
     "name": "stdout",
     "output_type": "stream",
     "text": [
      "3.139544"
     ]
    }
   ],
   "source": [
    "n = 1000000\n",
    "count = 0\n",
    "for i in 1:n\n",
    "    u, v = rand(2)\n",
    "    d = sqrt((u - 0.5)^2 + (v - 0.5)^2)  # distance from middle of square\n",
    "    if d < 0.5\n",
    "        count += 1\n",
    "    end\n",
    "end\n",
    "\n",
    "area_estimate = count / n\n",
    "\n",
    "print(area_estimate * 4)  # dividing by radius**2"
   ]
  },
  {
   "attachments": {},
   "cell_type": "markdown",
   "id": "68e1596c",
   "metadata": {},
   "source": [
    "### Exercise 4"
   ]
  },
  {
   "cell_type": "code",
   "execution_count": null,
   "id": "ce2d1896",
   "metadata": {
    "hide-output": false
   },
   "outputs": [],
   "source": [
    "payoff = 0\n",
    "count = 0\n",
    "\n",
    "print(\"Count = \")\n",
    "\n",
    "for i in 1:10\n",
    "    U = rand()\n",
    "    if U < 0.5\n",
    "        count += 1\n",
    "    else\n",
    "        count = 0\n",
    "    end\n",
    "    print(count)\n",
    "    if count == 3\n",
    "        payoff = 1\n",
    "    end\n",
    "end\n",
    "println(\"\\npayoff = $payoff\")"
   ]
  },
  {
   "attachments": {},
   "cell_type": "markdown",
   "id": "4a190362",
   "metadata": {},
   "source": [
    "We can simplify this somewhat using the **ternary operator**. Here are\n",
    "some examples"
   ]
  },
  {
   "cell_type": "code",
   "execution_count": null,
   "id": "0836cf9f",
   "metadata": {
    "hide-output": false
   },
   "outputs": [],
   "source": [
    "a = 1  < 2 ? \"foo\" : \"bar\""
   ]
  },
  {
   "cell_type": "code",
   "execution_count": null,
   "id": "7bfbae34",
   "metadata": {
    "hide-output": false
   },
   "outputs": [],
   "source": [
    "a = 1 > 2 ? \"foo\" : \"bar\""
   ]
  },
  {
   "attachments": {},
   "cell_type": "markdown",
   "id": "dd6b65ea",
   "metadata": {},
   "source": [
    "Using this construction:"
   ]
  },
  {
   "cell_type": "code",
   "execution_count": null,
   "id": "4b0f5af4",
   "metadata": {
    "hide-output": false
   },
   "outputs": [],
   "source": [
    "payoff = 0.0\n",
    "count = 0.0\n",
    "\n",
    "print(\"Count = \")\n",
    "\n",
    "for i in 1:10\n",
    "    U = rand()\n",
    "    count = U < 0.5 ? count + 1 : 0\n",
    "    print(count)\n",
    "    if count == 3\n",
    "        payoff = 1\n",
    "    end\n",
    "end\n",
    "println(\"\\npayoff = $payoff\")"
   ]
  },
  {
   "attachments": {},
   "cell_type": "markdown",
   "id": "5a63d63f",
   "metadata": {},
   "source": [
    "### Exercise 5\n",
    "\n",
    "Here’s one solution"
   ]
  },
  {
   "cell_type": "code",
   "execution_count": null,
   "id": "1b8f717e",
   "metadata": {
    "hide-output": false
   },
   "outputs": [],
   "source": [
    "using Plots\n",
    "α = 0.9\n",
    "n = 200\n",
    "x = zeros(n + 1)\n",
    "\n",
    "for t in 1:n\n",
    "    x[t+1] = α * x[t] + randn()\n",
    "end\n",
    "plot(x)"
   ]
  },
  {
   "attachments": {},
   "cell_type": "markdown",
   "id": "80031639",
   "metadata": {},
   "source": [
    "### Exercise 6"
   ]
  },
  {
   "cell_type": "code",
   "execution_count": null,
   "id": "2c3706ab",
   "metadata": {
    "hide-output": false
   },
   "outputs": [],
   "source": [
    "αs = [0.0, 0.8, 0.98]\n",
    "n = 200\n",
    "p = plot() # naming a plot to add to\n",
    "\n",
    "for α in αs\n",
    "    x = zeros(n + 1)\n",
    "    x[1] = 0.0\n",
    "    for t in 1:n\n",
    "        x[t+1] = α * x[t] + randn()\n",
    "    end\n",
    "    plot!(p, x, label = \"alpha = $α\") # add to plot p\n",
    "end\n",
    "p # display plot"
   ]
  },
  {
   "attachments": {},
   "cell_type": "markdown",
   "id": "e9558a82",
   "metadata": {},
   "source": [
    "### Exercise 7: Hint\n",
    "\n",
    "As a hint, notice the following pattern for finding the number of draws of a uniform random number until it is below a given threshold"
   ]
  },
  {
   "cell_type": "code",
   "execution_count": null,
   "id": "07e0b9a0",
   "metadata": {
    "hide-output": false
   },
   "outputs": [],
   "source": [
    "function drawsuntilthreshold(threshold; maxdraws=100)\n",
    "    for i in 1:maxdraws\n",
    "        val = rand()\n",
    "        if val < threshold # checks threshold\n",
    "            return i # leaves function, returning draw number\n",
    "        end\n",
    "    end\n",
    "    return Inf # if here, reached maxdraws\n",
    "end\n",
    "\n",
    "draws = drawsuntilthreshold(0.1; maxdraws=100)"
   ]
  },
  {
   "attachments": {},
   "cell_type": "markdown",
   "id": "3f1e3efe",
   "metadata": {},
   "source": [
    "Additionally, it is sometimes convenient to add to just push numbers onto an array without indexing it directly"
   ]
  },
  {
   "cell_type": "code",
   "execution_count": null,
   "id": "c978e925",
   "metadata": {
    "hide-output": false
   },
   "outputs": [],
   "source": [
    "vals = zeros(0) # empty vector\n",
    "\n",
    "for i in 1:100\n",
    "    val = rand()\n",
    "    if val < 0.5\n",
    "        push!(vals, val)\n",
    "    end\n",
    "end\n",
    "println(\"There were $(length(vals)) below 0.5\")"
   ]
  }
 ],
 "metadata": {
  "date": 1672949736.1014984,
  "filename": "julia_by_example.md",
  "kernelspec": {
   "display_name": "Julia 1.9.0",
   "language": "julia",
   "name": "julia-1.9"
  },
  "language_info": {
   "file_extension": ".jl",
   "mimetype": "application/julia",
   "name": "julia",
   "version": "1.9.0"
  },
  "title": "Introductory Examples"
 },
 "nbformat": 4,
 "nbformat_minor": 5
}
